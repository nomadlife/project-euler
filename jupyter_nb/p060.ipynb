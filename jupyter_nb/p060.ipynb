{
 "cells": [
  {
   "cell_type": "markdown",
   "metadata": {},
   "source": [
    "## p060\n",
    "The primes 3, 7, 109, and 673, are quite remarkable. By taking any two primes and concatenating them in any order the result will always be prime. For example, taking 7 and 109, both 7109 and 1097 are prime. The sum of these four primes, 792, represents the lowest sum for a set of four primes with this property.\n",
    "\n",
    "Find the lowest sum for a set of five primes for which any two primes concatenate to produce another prime."
   ]
  },
  {
   "cell_type": "code",
   "execution_count": 27,
   "metadata": {
    "scrolled": true
   },
   "outputs": [
    {
     "name": "stdout",
     "output_type": "stream",
     "text": [
      "2\n",
      "3\n",
      "5\n",
      "7\n",
      "11\n",
      "13\n",
      "17\n",
      "19\n",
      "23\n",
      "29\n",
      "31\n",
      "37\n",
      "41\n",
      "43\n",
      "47\n"
     ]
    }
   ],
   "source": [
    "from sympy import isprime\n",
    "\n",
    "for i in range(50):\n",
    "    if isprime(i):\n",
    "        print(i)"
   ]
  },
  {
   "cell_type": "code",
   "execution_count": 19,
   "metadata": {
    "scrolled": true
   },
   "outputs": [
    {
     "name": "stdout",
     "output_type": "stream",
     "text": [
      "{2, 3, 5, 7, 11, 13, 17, 19, 23, 29, 31, 37, 41, 43, 47, 53, 59, 61, 67, 71, 73, 79, 83, 89, 97}\n"
     ]
    }
   ],
   "source": [
    "from sympy import isprime\n",
    "prime=set()\n",
    "for i in range(100):\n",
    "    if isprime(i):\n",
    "        prime.add(i)\n",
    "print(prime)"
   ]
  },
  {
   "cell_type": "code",
   "execution_count": 24,
   "metadata": {},
   "outputs": [
    {
     "name": "stdout",
     "output_type": "stream",
     "text": [
      "[2, 3, 5, 7, 11, 13, 17, 19, 23, 29, 31, 37, 41, 43, 47, 53, 59, 61, 67, 71, 73, 79, 83, 89, 97]\n"
     ]
    }
   ],
   "source": [
    "from sympy import sieve\n",
    "prime=list(sieve.primerange(0, 100))\n",
    "print(prime)"
   ]
  },
  {
   "cell_type": "code",
   "execution_count": 37,
   "metadata": {},
   "outputs": [
    {
     "name": "stdout",
     "output_type": "stream",
     "text": [
      "[2, 3, 5, 7, 11, 13, 17, 19, 23, 29, 31, 37, 41, 43, 47, 53, 59, 61, 67]\n",
      "3 7\n",
      "3 11\n",
      "3 17\n",
      "3 31\n",
      "3 37\n",
      "3 59\n",
      "7 19\n",
      "7 61\n",
      "11 23\n",
      "13 19\n",
      "13 61\n",
      "19 31\n",
      "23 47\n"
     ]
    }
   ],
   "source": [
    "def check(num1,num2):\n",
    "    n1=int(str(num1)+str(num2))\n",
    "    n2=int(str(num2)+str(num1))\n",
    "    if isPrime(n1) and isPrime(n2):\n",
    "        return True\n",
    "    return False\n",
    "\n",
    "prime=[]\n",
    "for i in range(70):\n",
    "    if isPrime(i):\n",
    "        prime.append(i)\n",
    "print(prime)\n",
    "m=len(prime)-1\n",
    "for i in range(m):\n",
    "    for j in range(i+1,m):\n",
    "        if check(prime[i],prime[j]) :\n",
    "            print(prime[i],prime[j])"
   ]
  },
  {
   "cell_type": "code",
   "execution_count": 54,
   "metadata": {},
   "outputs": [
    {
     "name": "stdout",
     "output_type": "stream",
     "text": [
      "1 11 18 : 3 37 67\n",
      "1\n",
      "calc time: 0.015624523162841797\n"
     ]
    }
   ],
   "source": [
    "# sol-1\n",
    "from time import time as t\n",
    "start = t()\n",
    "\n",
    "def isPrime(num):\n",
    "    if num<=1:\n",
    "        return False\n",
    "    loop=num**0.5\n",
    "    i=2\n",
    "    while i<=loop:\n",
    "        if num%i==0:\n",
    "            return False\n",
    "        i+=1\n",
    "    return True\n",
    "\n",
    "def check(num1,num2):\n",
    "    n1=int(str(num1)+str(num2))\n",
    "    n2=int(str(num2)+str(num1))\n",
    "    if isPrime(n1) and isPrime(n2):\n",
    "        return True\n",
    "    return False\n",
    "\n",
    "prime=[]\n",
    "for i in range(100):\n",
    "    if isPrime(i):\n",
    "        prime.append(i)\n",
    "\n",
    "count=0\n",
    "m=len(prime)-1\n",
    "for i in range(m):\n",
    "    for j in range(i+1,m):\n",
    "        if check(prime[i],prime[j]) == False:\n",
    "            continue\n",
    "        for k in range(j+1,m):\n",
    "            if check(prime[j],prime[k]) == False:\n",
    "                continue\n",
    "            elif check(prime[i],prime[k]) == False:\n",
    "                continue\n",
    "            print(i,j,k,':',prime[i],prime[j],prime[k])\n",
    "            count+=1\n",
    "print(count)\n",
    "print('calc time:', t()-start)"
   ]
  },
  {
   "cell_type": "code",
   "execution_count": 55,
   "metadata": {},
   "outputs": [
    {
     "name": "stdout",
     "output_type": "stream",
     "text": [
      "209\n",
      "calc time: 9.827809572219849\n"
     ]
    }
   ],
   "source": [
    "# sol-1, ~1000\n",
    "from time import time as t\n",
    "start = t()\n",
    "\n",
    "def isPrime(num):\n",
    "    if num<=1:\n",
    "        return False\n",
    "    loop=num**0.5\n",
    "    i=2\n",
    "    while i<=loop:\n",
    "        if num%i==0:\n",
    "            return False\n",
    "        i+=1\n",
    "    return True\n",
    "\n",
    "def check(num1,num2):\n",
    "    n1=int(str(num1)+str(num2))\n",
    "    n2=int(str(num2)+str(num1))\n",
    "    if isPrime(n1) and isPrime(n2):\n",
    "        return True\n",
    "    return False\n",
    "\n",
    "prime=[]\n",
    "for i in range(1000):\n",
    "    if isPrime(i):\n",
    "        prime.append(i)\n",
    "\n",
    "count=0\n",
    "m=len(prime)-1\n",
    "for i in range(m):\n",
    "    for j in range(i+1,m):\n",
    "        if check(prime[i],prime[j]) == False:\n",
    "            continue\n",
    "        for k in range(j+1,m):\n",
    "            if check(prime[j],prime[k]) == False:\n",
    "                continue\n",
    "            elif check(prime[i],prime[k]) == False:\n",
    "                continue\n",
    "\n",
    "            count+=1\n",
    "print(count)\n",
    "print('calc time:', t()-start)"
   ]
  },
  {
   "cell_type": "code",
   "execution_count": 63,
   "metadata": {},
   "outputs": [
    {
     "name": "stdout",
     "output_type": "stream",
     "text": [
      "209\n",
      "calc time: 7.484127044677734\n"
     ]
    }
   ],
   "source": [
    "# sol-2 : sympy  ~1000\n",
    "from time import time as t\n",
    "start = t()\n",
    "\n",
    "from sympy import isprime\n",
    "\n",
    "def check(num1,num2):\n",
    "    n1=int(str(num1)+str(num2))\n",
    "    n2=int(str(num2)+str(num1))\n",
    "    if isprime(n1) and isprime(n2):\n",
    "        return True\n",
    "    return False\n",
    "\n",
    "prime=[]\n",
    "for i in range(1000):\n",
    "    if isprime(i):\n",
    "        prime.append(i)\n",
    "\n",
    "count=0\n",
    "m=len(prime)-1\n",
    "for i in range(m):\n",
    "    for j in range(i+1,m):\n",
    "        if check(prime[i],prime[j]) == False:\n",
    "            continue\n",
    "        for k in range(j+1,m):\n",
    "            if check(prime[j],prime[k]) == False:\n",
    "                continue\n",
    "            elif check(prime[i],prime[k]) == False:\n",
    "                continue\n",
    "\n",
    "            count+=1\n",
    "print(count)\n",
    "print('calc time:', t()-start)"
   ]
  },
  {
   "cell_type": "code",
   "execution_count": 70,
   "metadata": {},
   "outputs": [
    {
     "name": "stdout",
     "output_type": "stream",
     "text": [
      "209\n",
      "calc time: 7.296637535095215\n"
     ]
    }
   ],
   "source": [
    "# sol-2 : sympy  ~1000\n",
    "from time import time as t\n",
    "start = t()\n",
    "\n",
    "from sympy import isprime\n",
    "\n",
    "def check(num1,num2):\n",
    "    n1=int(str(num1)+str(num2))\n",
    "    n2=int(str(num2)+str(num1))\n",
    "    if isprime(n1) and isprime(n2):\n",
    "        return True\n",
    "    return False\n",
    "\n",
    "prime=[]\n",
    "for i in range(1000):\n",
    "    if isprime(i):\n",
    "        prime.append(i)\n",
    "\n",
    "count=0\n",
    "m=len(prime)-1\n",
    "for i in range(m):\n",
    "    for j in range(i+1,m):\n",
    "        if check(prime[i],prime[j]) == False:\n",
    "            continue\n",
    "        for k in range(j+1,m):\n",
    "            if check(prime[j],prime[k]) == False or check(prime[i],prime[k]) == False:\n",
    "                continue\n",
    "\n",
    "            count+=1\n",
    "print(count)\n",
    "print('calc time:', t()-start)"
   ]
  },
  {
   "cell_type": "code",
   "execution_count": 74,
   "metadata": {},
   "outputs": [
    {
     "name": "stdout",
     "output_type": "stream",
     "text": [
      "209\n",
      "calc time: 7.812249422073364\n"
     ]
    }
   ],
   "source": [
    "# sol-2-1 : sympy-sieve  ~1000\n",
    "from time import time as t\n",
    "start = t()\n",
    "\n",
    "from sympy import isprime\n",
    "from sympy import sieve\n",
    "\n",
    "def check(num1,num2):\n",
    "    n1=int(str(num1)+str(num2))\n",
    "    n2=int(str(num2)+str(num1))\n",
    "    if isprime(n1) and isprime(n2):\n",
    "        return True\n",
    "    return False\n",
    "\n",
    "prime=[]\n",
    "prime=list(sieve.primerange(0, 1000))\n",
    "\n",
    "count=0\n",
    "m=len(prime)-1\n",
    "for i in range(m):\n",
    "    for j in range(i+1,m):\n",
    "        if check(prime[i],prime[j]) == False:\n",
    "            continue\n",
    "        for k in range(j+1,m):\n",
    "            if check(prime[j],prime[k]) == False or check(prime[i],prime[k]) == False:\n",
    "                continue\n",
    "            count+=1\n",
    "print(count)\n",
    "print('calc time:', t()-start)"
   ]
  },
  {
   "cell_type": "code",
   "execution_count": 75,
   "metadata": {},
   "outputs": [
    {
     "name": "stdout",
     "output_type": "stream",
     "text": [
      "[(1, 3, 28, 121), (8, 63, 122, 143)]\n",
      "calc time: 7.8278772830963135\n"
     ]
    }
   ],
   "source": [
    "# sol-3 : \n",
    "from time import time as t\n",
    "start = t()\n",
    "\n",
    "from sympy import isprime\n",
    "from sympy import sieve\n",
    "\n",
    "def check(num1,num2):\n",
    "    n1=int(str(num1)+str(num2))\n",
    "    n2=int(str(num2)+str(num1))\n",
    "    if isprime(n1) and isprime(n2):\n",
    "        return True\n",
    "    return False\n",
    "\n",
    "prime=[]\n",
    "prime=list(sieve.primerange(0, 1000))\n",
    "#print(prime)\n",
    "result=[]\n",
    "m=len(prime)-1\n",
    "for i in range(m):\n",
    "    for j in range(i+1,m):\n",
    "        if check(prime[i],prime[j]) == False:\n",
    "            continue\n",
    "        for k in range(j+1,m):\n",
    "            if check(prime[j],prime[k]) == False or check(prime[i],prime[k]) == False:\n",
    "                continue\n",
    "            for n in range(k+1,m):\n",
    "                if check(prime[j],prime[n]) == False or check(prime[i],prime[n]) == False:\n",
    "                    continue\n",
    "                elif check(prime[k],prime[n]) == False:\n",
    "                    continue\n",
    "                result.append((i,j,k,n))\n",
    "print(result)\n",
    "print('calc time:', t()-start)"
   ]
  },
  {
   "cell_type": "code",
   "execution_count": 71,
   "metadata": {},
   "outputs": [
    {
     "name": "stdout",
     "output_type": "stream",
     "text": [
      "[(1, 3, 28, 121), (8, 63, 122, 143)]\n",
      "calc time: 8.15599012374878\n"
     ]
    }
   ],
   "source": [
    "# sol-3 : \n",
    "from time import time as t\n",
    "start = t()\n",
    "\n",
    "from sympy import isprime\n",
    "from sympy import sieve\n",
    "\n",
    "def check(num1,num2):\n",
    "    n1=int(str(num1)+str(num2))\n",
    "    n2=int(str(num2)+str(num1))\n",
    "    if isprime(n1) and isprime(n2):\n",
    "        return True\n",
    "    return False\n",
    "\n",
    "prime=[]\n",
    "prime=list(sieve.primerange(0, 1000))\n",
    "#print(prime)\n",
    "result=[]\n",
    "m=len(prime)-1\n",
    "for i in range(m):\n",
    "    for j in range(i+1,m):\n",
    "        if check(prime[i],prime[j]) == False:\n",
    "            continue\n",
    "        for k in range(j+1,m):\n",
    "            if check(prime[j],prime[k]) == False or check(prime[i],prime[k]) == False:\n",
    "                continue\n",
    "            for n in range(k+1,m):\n",
    "                if check(prime[j],prime[n]) == False or check(prime[i],prime[n]) == False:\n",
    "                    continue\n",
    "                elif check(prime[k],prime[n]) == False:\n",
    "                    continue\n",
    "                result.append((i,j,k,n))\n",
    "print(result)\n",
    "print('calc time:', t()-start)"
   ]
  },
  {
   "cell_type": "code",
   "execution_count": 62,
   "metadata": {},
   "outputs": [
    {
     "name": "stdout",
     "output_type": "stream",
     "text": [
      "7 1237 2341 12409 18433\n",
      "13 5197 5701 6733 8389\n"
     ]
    },
    {
     "ename": "KeyboardInterrupt",
     "evalue": "",
     "output_type": "error",
     "traceback": [
      "\u001b[1;31m---------------------------------------------------------------------------\u001b[0m",
      "\u001b[1;31mKeyboardInterrupt\u001b[0m                         Traceback (most recent call last)",
      "\u001b[1;32m<ipython-input-62-62c209842acf>\u001b[0m in \u001b[0;36m<module>\u001b[1;34m()\u001b[0m\n\u001b[0;32m     21\u001b[0m         \u001b[1;32mif\u001b[0m \u001b[0mcheck\u001b[0m\u001b[1;33m(\u001b[0m\u001b[0mi\u001b[0m\u001b[1;33m,\u001b[0m\u001b[0mj\u001b[0m\u001b[1;33m)\u001b[0m\u001b[1;33m:\u001b[0m\u001b[1;33m\u001b[0m\u001b[0m\n\u001b[0;32m     22\u001b[0m             \u001b[1;32mfor\u001b[0m \u001b[0mk\u001b[0m \u001b[1;32min\u001b[0m \u001b[0mrange\u001b[0m\u001b[1;33m(\u001b[0m\u001b[0mj\u001b[0m\u001b[1;33m+\u001b[0m\u001b[1;36m1\u001b[0m\u001b[1;33m,\u001b[0m\u001b[0mm\u001b[0m\u001b[1;33m)\u001b[0m\u001b[1;33m:\u001b[0m\u001b[1;33m\u001b[0m\u001b[0m\n\u001b[1;32m---> 23\u001b[1;33m                 \u001b[1;32mif\u001b[0m \u001b[0mcheck\u001b[0m\u001b[1;33m(\u001b[0m\u001b[0mi\u001b[0m\u001b[1;33m,\u001b[0m\u001b[0mk\u001b[0m\u001b[1;33m)\u001b[0m \u001b[1;32mand\u001b[0m \u001b[0mcheck\u001b[0m\u001b[1;33m(\u001b[0m\u001b[0mj\u001b[0m\u001b[1;33m,\u001b[0m\u001b[0mk\u001b[0m\u001b[1;33m)\u001b[0m\u001b[1;33m:\u001b[0m\u001b[1;33m\u001b[0m\u001b[0m\n\u001b[0m\u001b[0;32m     24\u001b[0m                     \u001b[1;32mfor\u001b[0m \u001b[0mn\u001b[0m \u001b[1;32min\u001b[0m \u001b[0mrange\u001b[0m\u001b[1;33m(\u001b[0m\u001b[0mk\u001b[0m\u001b[1;33m+\u001b[0m\u001b[1;36m1\u001b[0m\u001b[1;33m,\u001b[0m\u001b[0mm\u001b[0m\u001b[1;33m)\u001b[0m\u001b[1;33m:\u001b[0m\u001b[1;33m\u001b[0m\u001b[0m\n\u001b[0;32m     25\u001b[0m                         \u001b[1;32mif\u001b[0m \u001b[0mcheck\u001b[0m\u001b[1;33m(\u001b[0m\u001b[0mi\u001b[0m\u001b[1;33m,\u001b[0m\u001b[0mn\u001b[0m\u001b[1;33m)\u001b[0m \u001b[1;32mand\u001b[0m \u001b[0mcheck\u001b[0m\u001b[1;33m(\u001b[0m\u001b[0mj\u001b[0m\u001b[1;33m,\u001b[0m\u001b[0mn\u001b[0m\u001b[1;33m)\u001b[0m \u001b[1;32mand\u001b[0m \u001b[0mcheck\u001b[0m\u001b[1;33m(\u001b[0m\u001b[0mk\u001b[0m\u001b[1;33m,\u001b[0m\u001b[0mn\u001b[0m\u001b[1;33m)\u001b[0m\u001b[1;33m:\u001b[0m\u001b[1;33m\u001b[0m\u001b[0m\n",
      "\u001b[1;32m<ipython-input-62-62c209842acf>\u001b[0m in \u001b[0;36mcheck\u001b[1;34m(n1, n2)\u001b[0m\n\u001b[0;32m      9\u001b[0m     \u001b[0mnum1\u001b[0m\u001b[1;33m=\u001b[0m\u001b[0mint\u001b[0m\u001b[1;33m(\u001b[0m\u001b[0mstr\u001b[0m\u001b[1;33m(\u001b[0m\u001b[0mprime\u001b[0m\u001b[1;33m[\u001b[0m\u001b[0mn1\u001b[0m\u001b[1;33m]\u001b[0m\u001b[1;33m)\u001b[0m\u001b[1;33m+\u001b[0m\u001b[0mstr\u001b[0m\u001b[1;33m(\u001b[0m\u001b[0mprime\u001b[0m\u001b[1;33m[\u001b[0m\u001b[0mn2\u001b[0m\u001b[1;33m]\u001b[0m\u001b[1;33m)\u001b[0m\u001b[1;33m)\u001b[0m\u001b[1;33m\u001b[0m\u001b[0m\n\u001b[0;32m     10\u001b[0m     \u001b[0mnum2\u001b[0m\u001b[1;33m=\u001b[0m\u001b[0mint\u001b[0m\u001b[1;33m(\u001b[0m\u001b[0mstr\u001b[0m\u001b[1;33m(\u001b[0m\u001b[0mprime\u001b[0m\u001b[1;33m[\u001b[0m\u001b[0mn2\u001b[0m\u001b[1;33m]\u001b[0m\u001b[1;33m)\u001b[0m\u001b[1;33m+\u001b[0m\u001b[0mstr\u001b[0m\u001b[1;33m(\u001b[0m\u001b[0mprime\u001b[0m\u001b[1;33m[\u001b[0m\u001b[0mn1\u001b[0m\u001b[1;33m]\u001b[0m\u001b[1;33m)\u001b[0m\u001b[1;33m)\u001b[0m\u001b[1;33m\u001b[0m\u001b[0m\n\u001b[1;32m---> 11\u001b[1;33m     \u001b[1;32mif\u001b[0m \u001b[0misprime\u001b[0m\u001b[1;33m(\u001b[0m\u001b[0mnum1\u001b[0m\u001b[1;33m)\u001b[0m \u001b[1;32mand\u001b[0m \u001b[0misprime\u001b[0m\u001b[1;33m(\u001b[0m\u001b[0mnum2\u001b[0m\u001b[1;33m)\u001b[0m\u001b[1;33m:\u001b[0m\u001b[1;33m\u001b[0m\u001b[0m\n\u001b[0m\u001b[0;32m     12\u001b[0m         \u001b[1;32mreturn\u001b[0m \u001b[1;32mTrue\u001b[0m\u001b[1;33m\u001b[0m\u001b[0m\n\u001b[0;32m     13\u001b[0m     \u001b[1;32mreturn\u001b[0m \u001b[1;32mFalse\u001b[0m\u001b[1;33m\u001b[0m\u001b[0m\n",
      "\u001b[1;32mc:\\users\\joonw\\venv\\mlpython\\lib\\site-packages\\sympy\\ntheory\\primetest.py\u001b[0m in \u001b[0;36misprime\u001b[1;34m(n)\u001b[0m\n\u001b[0;32m    495\u001b[0m     \u001b[1;31m# bisection search on the sieve if the sieve is large enough\u001b[0m\u001b[1;33m\u001b[0m\u001b[1;33m\u001b[0m\u001b[0m\n\u001b[0;32m    496\u001b[0m     \u001b[1;32mfrom\u001b[0m \u001b[0msympy\u001b[0m\u001b[1;33m.\u001b[0m\u001b[0mntheory\u001b[0m\u001b[1;33m.\u001b[0m\u001b[0mgenerate\u001b[0m \u001b[1;32mimport\u001b[0m \u001b[0msieve\u001b[0m \u001b[1;32mas\u001b[0m \u001b[0ms\u001b[0m\u001b[1;33m\u001b[0m\u001b[0m\n\u001b[1;32m--> 497\u001b[1;33m     \u001b[1;32mif\u001b[0m \u001b[0mn\u001b[0m \u001b[1;33m<=\u001b[0m \u001b[0ms\u001b[0m\u001b[1;33m.\u001b[0m\u001b[0m_list\u001b[0m\u001b[1;33m[\u001b[0m\u001b[1;33m-\u001b[0m\u001b[1;36m1\u001b[0m\u001b[1;33m]\u001b[0m\u001b[1;33m:\u001b[0m\u001b[1;33m\u001b[0m\u001b[0m\n\u001b[0m\u001b[0;32m    498\u001b[0m         \u001b[0ml\u001b[0m\u001b[1;33m,\u001b[0m \u001b[0mu\u001b[0m \u001b[1;33m=\u001b[0m \u001b[0ms\u001b[0m\u001b[1;33m.\u001b[0m\u001b[0msearch\u001b[0m\u001b[1;33m(\u001b[0m\u001b[0mn\u001b[0m\u001b[1;33m)\u001b[0m\u001b[1;33m\u001b[0m\u001b[0m\n\u001b[0;32m    499\u001b[0m         \u001b[1;32mreturn\u001b[0m \u001b[0ml\u001b[0m \u001b[1;33m==\u001b[0m \u001b[0mu\u001b[0m\u001b[1;33m\u001b[0m\u001b[0m\n",
      "\u001b[1;31mKeyboardInterrupt\u001b[0m: "
     ]
    }
   ],
   "source": [
    "# sol-3 : test\n",
    "from time import time as t\n",
    "start = t()\n",
    "\n",
    "from sympy import isprime\n",
    "from sympy import sieve\n",
    "\n",
    "def check(n1,n2):\n",
    "    num1=int(str(prime[n1])+str(prime[n2]))\n",
    "    num2=int(str(prime[n2])+str(prime[n1]))\n",
    "    if isprime(num1) and isprime(num2):\n",
    "        return True\n",
    "    return False\n",
    "\n",
    "prime=[]\n",
    "prime=list(sieve.primerange(0, 20000))\n",
    "m=len(prime)\n",
    "#print(m,prime[-1])\n",
    "for i in range(m):\n",
    "    for j in range(i+1,m):\n",
    "        if check(i,j):\n",
    "            for k in range(j+1,m):\n",
    "                if check(i,k) and check(j,k):\n",
    "                    for n in range(k+1,m):\n",
    "                        if check(i,n) and check(j,n) and check(k,n):\n",
    "                            for o in range(n+1,m):\n",
    "                                if check(i,o) and check(j,o) and check(k,o) and check(n,o):\n",
    "                                    print(prime[i],prime[j],prime[k],prime[n],prime[o])\n",
    "                                    \n",
    "print('calc time:', t()-start)"
   ]
  },
  {
   "cell_type": "code",
   "execution_count": 39,
   "metadata": {},
   "outputs": [
    {
     "name": "stdout",
     "output_type": "stream",
     "text": [
      "True 1\n",
      "True 3\n",
      "True 28\n",
      "True 121\n"
     ]
    }
   ],
   "source": [
    "test=[3,7,109,673]\n",
    "for i in test:\n",
    "    print(i in prime, prime.index(i))"
   ]
  },
  {
   "cell_type": "code",
   "execution_count": 50,
   "metadata": {},
   "outputs": [
    {
     "name": "stdout",
     "output_type": "stream",
     "text": [
      "37 73\n",
      "0 1 3 7 True\n",
      "3109 1093\n",
      "0 2 3 109 True\n",
      "3673 6733\n",
      "0 3 3 673 True\n",
      "7109 1097\n",
      "1 2 7 109 True\n",
      "7673 6737\n",
      "1 3 7 673 True\n",
      "109673 673109\n",
      "2 3 109 673 True\n"
     ]
    }
   ],
   "source": [
    "def check_n(n1,n2):\n",
    "    num1=int(str(t[n1])+str(t[n2]))\n",
    "    num2=int(str(t[n2])+str(t[n1]))\n",
    "    if isprime(num1) and isprime(num2):\n",
    "        print(num1,num2)\n",
    "        return True\n",
    "    return False\n",
    "\n",
    "t=[3,7,109,673]\n",
    "for i in range(4):\n",
    "    for j in range(i+1,4):\n",
    "        print(i,j,t[i],t[j],check_n(i,j))"
   ]
  },
  {
   "cell_type": "code",
   "execution_count": 44,
   "metadata": {},
   "outputs": [
    {
     "data": {
      "text/plain": [
       "True"
      ]
     },
     "execution_count": 44,
     "metadata": {},
     "output_type": "execute_result"
    }
   ],
   "source": [
    "isprime(73)"
   ]
  }
 ],
 "metadata": {
  "kernelspec": {
   "display_name": "Python 3",
   "language": "python",
   "name": "python3"
  },
  "language_info": {
   "codemirror_mode": {
    "name": "ipython",
    "version": 3
   },
   "file_extension": ".py",
   "mimetype": "text/x-python",
   "name": "python",
   "nbconvert_exporter": "python",
   "pygments_lexer": "ipython3",
   "version": "3.6.5"
  }
 },
 "nbformat": 4,
 "nbformat_minor": 2
}
