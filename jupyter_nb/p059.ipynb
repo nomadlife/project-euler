{
 "cells": [
  {
   "cell_type": "markdown",
   "metadata": {},
   "source": [
    "## p059 XOR decryption"
   ]
  },
  {
   "cell_type": "code",
   "execution_count": 10,
   "metadata": {
    "scrolled": true
   },
   "outputs": [
    {
     "name": "stdout",
     "output_type": "stream",
     "text": [
      "['79', '59', '12', '2', '79', '35', '8', '28', '20', '2', '3', '68', '8', '9', '68', '45', '0', '12', '9', '67', '68', '4', '7', '5', '23', '27', '1', '21', '79', '85', '78', '79', '85', '71', '38', '10', '71', '27', '12', '2', '79', '6', '2', '8', '13', '9', '1', '13', '9', '8', '68', '19', '7', '1', '71', '56', '11', '21', '11', '68', '6', '3', '22', '2', '14', '0', '30', '79', '1', '31', '6', '23', '19', '10', '0', '73', '79', '44', '2', '79', '19', '6', '28', '68', '16', '6', '16', '15', '79', '35', '8', '11', '72', '71', '14', '10', '3', '79', '12', '2', '79', '19', '6', '28', '68', '32', '0', '0', '73', '79', '86', '71', '39', '1', '71', '24', '5', '20', '79', '13', '9', '79', '16', '15', '10', '68', '5', '10', '3', '14', '1', '10', '14', '1', '3', '71', '24', '13', '19', '7', '68', '32', '0', '0', '73', '79', '87', '71', '39', '1', '71', '12', '22', '2', '14', '16', '2', '11', '68', '2', '25', '1', '21', '22', '16', '15', '6', '10', '0', '79', '16', '15', '10', '22', '2', '79', '13', '20', '65', '68', '41', '0', '16', '15', '6', '10', '0', '79', '1', '31', '6', '23', '19', '28', '68', '19', '7', '5', '19', '79', '12', '2', '79', '0', '14', '11', '10', '64', '27', '68', '10', '14', '15', '2', '65', '68', '83', '79', '40', '14', '9', '1', '71', '6', '16', '20', '10', '8', '1', '79', '19', '6', '28', '68', '14', '1', '68', '15', '6', '9', '75', '79', '5', '9', '11', '68', '19', '7', '13', '20', '79', '8', '14', '9', '1', '71', '8', '13', '17', '10', '23', '71', '3', '13', '0', '7', '16', '71', '27', '11', '71', '10', '18', '2', '29', '29', '8', '1', '1', '73', '79', '81', '71', '59', '12', '2', '79', '8', '14', '8', '12', '19', '79', '23', '15', '6', '10', '2', '28', '68', '19', '7', '22', '8', '26', '3', '15', '79', '16', '15', '10', '68', '3', '14', '22', '12', '1', '1', '20', '28', '72', '71', '14', '10', '3', '79', '16', '15', '10', '68', '3', '14', '22', '12', '1', '1', '20', '28', '68', '4', '14', '10', '71', '1', '1', '17', '10', '22', '71', '10', '28', '19', '6', '10', '0', '26', '13', '20', '7', '68', '14', '27', '74', '71', '89', '68', '32', '0', '0', '71', '28', '1', '9', '27', '68', '45', '0', '12', '9', '79', '16', '15', '10', '68', '37', '14', '20', '19', '6', '23', '19', '79', '83', '71', '27', '11', '71', '27', '1', '11', '3', '68', '2', '25', '1', '21', '22', '11', '9', '10', '68', '6', '13', '11', '18', '27', '68', '19', '7', '1', '71', '3', '13', '0', '7', '16', '71', '28', '11', '71', '27', '12', '6', '27', '68', '2', '25', '1', '21', '22', '11', '9', '10', '68', '10', '6', '3', '15', '27', '68', '5', '10', '8', '14', '10', '18', '2', '79', '6', '2', '12', '5', '18', '28', '1', '71', '0', '2', '71', '7', '13', '20', '79', '16', '2', '28', '16', '14', '2', '11', '9', '22', '74', '71', '87', '68', '45', '0', '12', '9', '79', '12', '14', '2', '23', '2', '3', '2', '71', '24', '5', '20', '79', '10', '8', '27', '68', '19', '7', '1', '71', '3', '13', '0', '7', '16', '92', '79', '12', '2', '79', '19', '6', '28', '68', '8', '1', '8', '30', '79', '5', '71', '24', '13', '19', '1', '1', '20', '28', '68', '19', '0', '68', '19', '7', '1', '71', '3', '13', '0', '7', '16', '73', '79', '93', '71', '59', '12', '2', '79', '11', '9', '10', '68', '16', '7', '11', '71', '6', '23', '71', '27', '12', '2', '79', '16', '21', '26', '1', '71', '3', '13', '0', '7', '16', '75', '79', '19', '15', '0', '68', '0', '6', '18', '2', '28', '68', '11', '6', '3', '15', '27', '68', '19', '0', '68', '2', '25', '1', '21', '22', '11', '9', '10', '72', '71', '24', '5', '20', '79', '3', '8', '6', '10', '0', '79', '16', '8', '79', '7', '8', '2', '1', '71', '6', '10', '19', '0', '68', '19', '7', '1', '71', '24', '11', '21', '3', '0', '73', '79', '85', '87', '79', '38', '18', '27', '68', '6', '3', '16', '15', '0', '17', '0', '7', '68', '19', '7', '1', '71', '24', '11', '21', '3', '0', '71', '24', '5', '20', '79', '9', '6', '11', '1', '71', '27', '12', '21', '0', '17', '0', '7', '68', '15', '6', '9', '75', '79', '16', '15', '10', '68', '16', '0', '22', '11', '11', '68', '3', '6', '0', '9', '72', '16', '71', '29', '1', '4', '0', '3', '9', '6', '30', '2', '79', '12', '14', '2', '68', '16', '7', '1', '9', '79', '12', '2', '79', '7', '6', '2', '1', '73', '79', '85', '86', '79', '33', '17', '10', '10', '71', '6', '10', '71', '7', '13', '20', '79', '11', '16', '1', '68', '11', '14', '10', '3', '79', '5', '9', '11', '68', '6', '2', '11', '9', '8', '68', '15', '6', '23', '71', '0', '19', '9', '79', '20', '2', '0', '20', '11', '10', '72', '71', '7', '1', '71', '24', '5', '20', '79', '10', '8', '27', '68', '6', '12', '7', '2', '31', '16', '2', '11', '74', '71', '94', '86', '71', '45', '17', '19', '79', '16', '8', '79', '5', '11', '3', '68', '16', '7', '11', '71', '13', '1', '11', '6', '1', '17', '10', '0', '71', '7', '13', '10', '79', '5', '9', '11', '68', '6', '12', '7', '2', '31', '16', '2', '11', '68', '15', '6', '9', '75', '79', '12', '2', '79', '3', '6', '25', '1', '71', '27', '12', '2', '79', '22', '14', '8', '12', '19', '79', '16', '8', '79', '6', '2', '12', '11', '10', '10', '68', '4', '7', '13', '11', '11', '22', '2', '1', '68', '8', '9', '68', '32', '0', '0', '73', '79', '85', '84', '79', '48', '15', '10', '29', '71', '14', '22', '2', '79', '22', '2', '13', '11', '21', '1', '69', '71', '59', '12', '14', '28', '68', '14', '28', '68', '9', '0', '16', '71', '14', '68', '23', '7', '29', '20', '6', '7', '6', '3', '68', '5', '6', '22', '19', '7', '68', '21', '10', '23', '18', '3', '16', '14', '1', '3', '71', '9', '22', '8', '2', '68', '15', '26', '9', '6', '1', '68', '23', '14', '23', '20', '6', '11', '9', '79', '11', '21', '79', '20', '11', '14', '10', '75', '79', '16', '15', '6', '23', '71', '29', '1', '5', '6', '22', '19', '7', '68', '4', '0', '9', '2', '28', '68', '1', '29', '11', '10', '79', '35', '8', '11', '74', '86', '91', '68', '52', '0', '68', '19', '7', '1', '71', '56', '11', '21', '11', '68', '5', '10', '7', '6', '2', '1', '71', '7', '17', '10', '14', '10', '71', '14', '10', '3', '79', '8', '14', '25', '1', '3', '79', '12', '2', '29', '1', '71', '0', '10', '71', '10', '5', '21', '27', '12', '71', '14', '9', '8', '1', '3', '71', '26', '23', '73', '79', '44', '2', '79', '19', '6', '28', '68', '1', '26', '8', '11', '79', '11', '1', '79', '17', '9', '9', '5', '14', '3', '13', '9', '8', '68', '11', '0', '18', '2', '79', '5', '9', '11', '68', '1', '14', '13', '19', '7', '2', '18', '3', '10', '2', '28', '23', '73', '79', '37', '9', '11', '68', '16', '10', '68', '15', '14', '18', '2', '79', '23', '2', '10', '10', '71', '7', '13', '20', '79', '3', '11', '0', '22', '30', '67', '68', '19', '7', '1', '71', '8', '8', '8', '29', '29', '71', '0', '2', '71', '27', '12', '2', '79', '11', '9', '3', '29', '71', '60', '11', '9', '79', '11', '1', '79', '16', '15', '10', '68', '33', '14', '16', '15', '10', '22', '73']\n"
     ]
    }
   ],
   "source": [
    "# data file open\n",
    "\n",
    "filename = 'p059_cipher.txt'\n",
    "with open(filename) as file_object:\n",
    "    contents = file_object.read().rstrip().split(',')\n",
    "print(contents)"
   ]
  },
  {
   "cell_type": "code",
   "execution_count": null,
   "metadata": {
    "scrolled": true
   },
   "outputs": [],
   "source": [
    "# data file open\n",
    "with open('p059_cipher.txt') as file_object:\n",
    "    contents = file_object.read().rstrip().split(',')"
   ]
  },
  {
   "cell_type": "code",
   "execution_count": 246,
   "metadata": {
    "scrolled": true
   },
   "outputs": [
    {
     "name": "stdout",
     "output_type": "stream",
     "text": [
      "O;\f",
      "\u0002O\u001c",
      "\u0014\u0002\u0003\tD-\u0000\f",
      "\tCD\u0004\u0007\u0005\u0017\u001b\u0001\u0015OUNOUG&\n",
      "D\u0013\u0007\u0001G8\u000b",
      "\u0015\u000b",
      "D\u0006\u0003\u0016\u0002\u000e\u0000\u001e",
      "O\u0001\u001f\u0006\u0017\u0013\n",
      "\u0000IO,\u0002O\u0013\u0006\u001c",
      "D\u0010\u0006\u0010\u000fO\u000b",
      "HG\u000e\n",
      "\tO\u0010\u000fO\u0013\u0006\u001c",
      "D \u0000\u0000IOVG'\u0001G\u0018\u0005\u0014O\n",
      "D\u0005\n",
      "\u0003\u000e\u0001\n",
      "\u0013\u0007D \u0000\u0000IOWG'\u0001G\f",
      "\u0016\u0002\u000e\u0010\u0002\u000b",
      "D\u0002\u0019\u0001\u0015\u0016\u0010\u000f\u0006\n",
      "\u0000O\u0010\u000f\n",
      "\u0014AD)\u0000\u0010\u000f\u0006\n",
      "\u0000O\u0001\u001f\u0006\u0017\u0013\u001c",
      "D\u0013\u0007\u0005\u0013O\f",
      "\u0002O\u0000\u000e\u000b",
      "\n",
      "@\u001bD\n",
      "\u000e\u000f\u0002ADSO(\u000e\t\u0001G\u0006\u0010\u0014\n",
      "\u0011\u000e\t\u0001\u0006\u001c",
      "D\u000e\u0001D\u000f\u0006\tKO\u0005\t\u000b",
      "D\u0013\u0007\n",
      "\u0000\u0007\u0010G\u001b\u000b",
      "G\n",
      "\u0012\u0002\u001d",
      "\u0001\u0001IOQG;\f",
      "\u0002\f",
      "\u0013O\u0017\u000f\u0006\n",
      "\u0002\u001c",
      "D\u0013\u0007\u001a\u0003\u000fO\u0010\u000f\n",
      "D\u0003\u000e\u0016\f",
      "\u0001\u0001\u0014\u001c",
      "HG\u000e\n",
      "\u0003O\u0010\u000f\n",
      "D\u0003\u000e\u0016\f",
      "\u0001\u0001\u0014\u001c",
      "D\u0004\u000e\n",
      "G\u0001\u0001\u0011\n",
      "\u0016G\n",
      "\u001c",
      "\u0013\u0006\n",
      "\u0014\u0007D\u000e\u001bJGYD \u0000\u0000G\u001c",
      "\u0001\t\u001bD-\u0000\f",
      "\tO\u0010\u000f\n",
      "D%\u000e\u0014\u0013\u0006\u0017\u0013OSG\u001b\u000b",
      "G\u001b\u0001\u000b",
      "\u0003D\u0002\u0019\u0001\u0015\u0016\u000b",
      "\t\n",
      "\u0000\u0007\u0010G\u001c",
      "\u000b",
      "G\u001b\f",
      "\u0006\u001bD\u0002\u0019\u0001\u0015\u0016\u000b",
      "\t\n",
      "D\n",
      "\u0006\u0003\u000f\u001bD\u0005\n",
      "\b\u000e\n",
      "\u0014O\u0010\u0002\u001c",
      "\u0010\u000e\u0002\u000b",
      "\t\u0016JGWD-\u0000\f",
      "\tO\f",
      "\u000e\u0002\u0017\u0002\u0003\u0002G\u0018\u0005\u0014O\n",
      "\u0000\u0007\u0010IO]G;\f",
      "\u0002O\u000b",
      "\t\u0003G\u0018\n",
      "\u0000\u0007\u0010KO\u0013\u000f\u0000D\u0000\u0006\u0012\u0002\u001c",
      "D\u000b",
      "\u0006\u0003\u000f\u001bD\u0013\u0000D\u0002\u0019\u0001\u0015\u0016\u000b",
      "\t\n",
      "HG\u0018\u0005\u0014O\u0006\n",
      "\u0000OO\u0002\u0001G\u0006\n",
      "\u0013\u0000D\u0013\u0007\u0001G\u0018\u000b",
      "\u0015\u0003\u0000IOUWO&\u0012\u001bD\u0006\u0003\u0010\u000f\u0000\u0011\u0000\u0007D\u0013\u0007\u0001G\u0018\u000b",
      "\u0015\u0003\u0000G\u0018\u0005\u0014O\t\u0006\u000b",
      "\u0001G\u001b\f",
      "\u0015\u0000\u0011\u0000\u0007D\u000f\u0006\tKO\u0010\u000f\n",
      "D\u0010\u0000\u0016\u000b",
      "\u000b",
      "D\u0003\u0006\u0000\tH\u0010G\u001d",
      "\u0001\u0004\u0000\u0003\t\u0006\u001e",
      "\u0002O\f",
      "\u000e\u0002D\u0010\u0007\u0001\tO\f",
      "\u0002O\u0007\u0006\u0002\u0001IOUVO!\u0011\n",
      "\n",
      "G\u0006\n",
      "\u0014O\u000b",
      "\u0010\u0001D\u000b",
      "\u000e\n",
      "\u0003O\u0005\t\u000b",
      "D\u0006\u0002\u000b",
      "D\u000f\u0006\u0017G\u0000\u0013\tO\u0014\u0002\u0000\u0014\u000b",
      "\n",
      "HG\u0007\u0001G\u0018\u0005\u0014O\n",
      "\u0001\u000b",
      "\u0006\u0001\u0011\u0007\u0002\u001f\u0010\u0002\u000b",
      "JG^VG-\u0011\u0013OO\u0005\u000b",
      "\u0003D\u0010\u0007\u000b",
      "G\n",
      "\u0000G\u0007\n",
      "O\u0005\t\u000b",
      "D\u0006\f",
      "\u0007\u0002\u001f\u0010\u0002\u000b",
      "D\u000f\u0006\tKO\f",
      "\u0002O\u0003\u0006\u0019\u0001G\u001b\f",
      "\u0002O\u0016\f",
      "\u0013OO\u0006\u0002\f",
      "\u000b",
      "\n",
      "\n",
      "\u000b",
      "\u000b",
      "\u0016\u0002\u0001\tD \u0000\u0000IOUTO0\u000f\n",
      "\u000b",
      "\u0015\u0001EG;\f",
      "\u000e\u001c",
      "D\u000e\u001c",
      "D\t\u0000\u0010G\u000eD\u0017\u0007\u001d",
      "\u0014\u0006\u0007\u0006\u0003D\u0005\u0006\u0016\u0013\u0007D\u0015\n",
      "\u0017\u0012\u0003\u0010\u000e\u0001\u0003G\t\u0002D\u000f\u001a\t\u0006\u0001D\u0017\u000e\u0017\u0014\u0006\u000b",
      "\tO\u000b",
      "\u0015O\u0014\u000b",
      "\u000e\n",
      "KO\u0010\u000f\u0006\u0017G\u001d",
      "\u0001\u0005\u0006\u0016\u0013\u0007D\u0004\u0000\t\u0002\u001c",
      "D\u0001\u001d",
      "\u000b",
      "\n",
      "O\u000b",
      "JV[D4\u0000D\u0013\u0007\u0001G8\u000b",
      "\u0015\u000b",
      "D\u0005\n",
      "\u0007\u0006\u0002\u0001G\u0007\u0011\n",
      "\u000e\n",
      "G\u000e\n",
      "\u0003\u000e\u0019\u0001\u0003O\f",
      "\u0002\u001d",
      "\u0001G\u0000\n",
      "G\n",
      "\u0013\u0007\u0002\u0012\u0003O\u0005\t\u000b",
      "D\u0001\u000eO,\u0002O\u0013\u0006\u001c",
      "D\u0001\u000b",
      "O\u000b",
      "\u0001O\u0011\t\t\u0005\u000e\u0003\n",
      "\u0002\u001c",
      "\u0017IO%\t\u000b",
      "D\u0010\n",
      "D\u000f\u000e\u0012\u0002O\u0017\u0002\n",
      "\n",
      "\u0014O\u0003\u000b",
      "\u0000\u0016\u001e",
      "CD\u0013\u0007\u0001\u001d",
      "\u001d",
      "G\u0000\u0002G\u001b\f",
      "\u0002O\u000b",
      "\t\u0003\u001d",
      "G<\u000b",
      "\tO\u000b",
      "\u0001O\u0010\u000f\n",
      "D!\u000e\u0010\u000f\n",
      "\u0016I"
     ]
    }
   ],
   "source": [
    "for i in contents:\n",
    "    print(chr(int(i)),end='')"
   ]
  },
  {
   "cell_type": "code",
   "execution_count": 166,
   "metadata": {},
   "outputs": [
    {
     "name": "stdout",
     "output_type": "stream",
     "text": [
      "65\n",
      "90\n",
      "97\n",
      "122\n",
      "32\n"
     ]
    }
   ],
   "source": [
    "print(ord('A'))\n",
    "print(ord('Z'))\n",
    "for i in 'az':\n",
    "    print(ord(i))\n",
    "print(ord(' '))"
   ]
  },
  {
   "cell_type": "code",
   "execution_count": 49,
   "metadata": {},
   "outputs": [
    {
     "name": "stdout",
     "output_type": "stream",
     "text": [
      "(0:\u0000) (1:\u0001) (2:\u0002) (3:\u0003) (4:\u0004) (5:\u0005) (6:\u0006) (7:\u0007) (8:\b) (9:\t) (10:\n",
      ") (11:\u000b",
      ") (12:\f",
      ") (13:\r",
      ") (14:\u000e) (15:\u000f) (16:\u0010) (17:\u0011) (18:\u0012) (19:\u0013) (20:\u0014) (21:\u0015) (22:\u0016) (23:\u0017) (24:\u0018) (25:\u0019) (26:\u001a) (27:\u001b) (28:\u001c",
      ") (29:\u001d",
      ") (30:\u001e",
      ") (31:\u001f) (32: ) (33:!) (34:\") (35:#) (36:$) (37:%) (38:&) (39:') (40:() (41:)) (42:*) (43:+) (44:,) (45:-) (46:.) (47:/) (48:0) (49:1) (50:2) (51:3) (52:4) (53:5) (54:6) (55:7) (56:8) (57:9) (58::) (59:;) (60:<) (61:=) (62:>) (63:?) (64:@) (65:A) (66:B) (67:C) (68:D) (69:E) (70:F) (71:G) (72:H) (73:I) (74:J) (75:K) (76:L) (77:M) (78:N) (79:O) (80:P) (81:Q) (82:R) (83:S) (84:T) (85:U) (86:V) (87:W) (88:X) (89:Y) (90:Z) (91:[) (92:\\) (93:]) (94:^) (95:_) (96:`) (97:a) (98:b) (99:c) (100:d) (101:e) (102:f) (103:g) (104:h) (105:i) (106:j) (107:k) (108:l) (109:m) (110:n) (111:o) (112:p) (113:q) (114:r) (115:s) (116:t) (117:u) (118:v) (119:w) (120:x) (121:y) (122:z) (123:{) (124:|) (125:}) (126:~) (127:) "
     ]
    }
   ],
   "source": [
    "for i in range(128):\n",
    "    print('({}:{})'.format(i,chr(i)),end=' ')"
   ]
  },
  {
   "cell_type": "code",
   "execution_count": 154,
   "metadata": {
    "scrolled": true
   },
   "outputs": [
    {
     "name": "stdout",
     "output_type": "stream",
     "text": [
      "1201\n"
     ]
    }
   ],
   "source": [
    "print(len(contents))"
   ]
  },
  {
   "cell_type": "code",
   "execution_count": 57,
   "metadata": {},
   "outputs": [
    {
     "ename": "TypeError",
     "evalue": "int() can't convert non-string with explicit base",
     "output_type": "error",
     "traceback": [
      "\u001b[1;31m---------------------------------------------------------------------------\u001b[0m",
      "\u001b[1;31mTypeError\u001b[0m                                 Traceback (most recent call last)",
      "\u001b[1;32m<ipython-input-57-aef9d983c41b>\u001b[0m in \u001b[0;36m<module>\u001b[1;34m()\u001b[0m\n\u001b[1;32m----> 1\u001b[1;33m \u001b[0mint\u001b[0m\u001b[1;33m(\u001b[0m\u001b[1;36m14\u001b[0m\u001b[1;33m,\u001b[0m\u001b[1;36m16\u001b[0m\u001b[1;33m)\u001b[0m\u001b[1;33m\u001b[0m\u001b[0m\n\u001b[0m",
      "\u001b[1;31mTypeError\u001b[0m: int() can't convert non-string with explicit base"
     ]
    }
   ],
   "source": [
    "int(16)"
   ]
  },
  {
   "cell_type": "code",
   "execution_count": 78,
   "metadata": {},
   "outputs": [
    {
     "name": "stdout",
     "output_type": "stream",
     "text": [
      "107\n",
      "5\n"
     ]
    }
   ],
   "source": [
    "# XOR function\n",
    "print(65^42)\n",
    "print(10>>1)"
   ]
  },
  {
   "cell_type": "code",
   "execution_count": 56,
   "metadata": {},
   "outputs": [
    {
     "name": "stdout",
     "output_type": "stream",
     "text": [
      " 1000001\n",
      "  101010\n",
      " 1101011\n"
     ]
    }
   ],
   "source": [
    "print('',bin(65)[2:])\n",
    "print(' ',bin(42)[2:])\n",
    "print('',bin(107)[2:])"
   ]
  },
  {
   "cell_type": "code",
   "execution_count": 258,
   "metadata": {},
   "outputs": [
    {
     "name": "stdout",
     "output_type": "stream",
     "text": [
      "a  .Zmc.Bi}ucb%ih%Lamh\"\n",
      "b  -Yn`-Aj~v`a&jk&Obnk!\n",
      "c  ,Xoa,@kwa`'kj'Ncoj \n",
      "d  +_hf+Glxpfg lm Idhm'\n",
      "e  *^ig*Fmyqgf!ml!Heil&\n",
      "f  )]jd)Enzrde\"no\"Kfjo%\n",
      "g  (\\ke(Do{sed#on#Jgkn$\n",
      "h  'Sdj'K`t|jk,`a,Ehda+\n",
      "i  &Rek&Jau}kj-a`-Die`*\n",
      "j  %Qfh%Ibv~hi.bc.Gjfc)\n",
      "k  $Pgi$Hcwih/cb/Fkgb(\n",
      "l  #W`n#Odpxno(de(Al`e/\n",
      "m  \"Vao\"Neqyon)ed)@mad.\n",
      "n  !Ubl!Mfrzlm*fg*Cnbg-\n",
      "o   Tcm Lgs{ml+gf+Bocf,\n",
      "p  ?K|r?Sxldrs4xy4]p|y3\n",
      "q  >J}s>Rymesr5yx5\\q}x2\n",
      "r  =I~p=Qznfpq6z{6_r~{1\n",
      "s  <Hq<P{ogqp7{z7^sz0\n",
      "t  ;Oxv;W|h`vw0|}0Ytx}7\n",
      "u  :Nyw:V}iawv1}|1Xuy|6\n",
      "v  9Mzt9U~jbtu2~2[vz5\n",
      "w  8L{u8Tkcut3~3Zw{~4\n",
      "x  7Ctz7[pdlz{<pq<Uxtq;\n",
      "y  6Bu{6Zqem{z=qp=Tyup:\n",
      "z  5Avx5Yrfnxy>rs>Wzvs9\n"
     ]
    }
   ],
   "source": [
    "# XOR function\n",
    "string='abcdefghijklmnopqrstuvwxyz'\n",
    "test=contents[:20]\n",
    "for i in string:\n",
    "    print(i,end='  ')\n",
    "    for j in test:\n",
    "        print(chr(int(j)^ord(i)),end='')\n",
    "    print()"
   ]
  },
  {
   "cell_type": "code",
   "execution_count": 257,
   "metadata": {},
   "outputs": [
    {
     "name": "stdout",
     "output_type": "stream",
     "text": [
      "a: ...c..i..c..i..L..h..e..v..t../..&..&..c..c..h..h..r..&..t..\n",
      "b: -..`..j..`..j..O..k..f..u..w..,..%..%..`..`..k..k..q..%..w..\n",
      "c: ,..a..k..a..k..N..j..g..t..v..-..$..$..a..a..j..j..p..$..v..\n",
      "d: +..f..l..f..l..I..m..`..s..q..*..#..#..f..f..m..m..w..#..q..\n",
      "e: *..g..m..g..m..H..l..a..r..p..+..\"..\"..g..g..l..l..v..\"..p..\n",
      "f: )..d..n..d..n..K..o..b..q..s..(..!..!..d..d..o..o..u..!..s..\n",
      "g: (..e..o..e..o..J..n..c..p..r..).. .. ..e..e..n..n..t.. ..r..\n",
      "h: '..j..`..j..`..E..a..l....}..&../../..j..j..a..a..{../..}..\n",
      "i: &..k..a..k..a..D..`..m..~..|..'........k..k..`..`..z.....|..\n",
      "j: %..h..b..h..b..G..c..n..}....$..-..-..h..h..c..c..y..-....\n",
      "k: $..i..c..i..c..F..b..o..|..~..%..,..,..i..i..b..b..x..,..~..\n",
      "l: #..n..d..n..d..A..e..h..{..y..\"..+..+..n..n..e..e....+..y..\n",
      "m: \"..o..e..o..e..@..d..i..z..x..#..*..*..o..o..d..d..~..*..x..\n",
      "n: !..l..f..l..f..C..g..j..y..{.. ..)..)..l..l..g..g..}..)..{..\n",
      "o:  ..m..g..m..g..B..f..k..x..z..!..(..(..m..m..f..f..|..(..z..\n",
      "p: ?..r..x..r..x..]..y..t..g..e..>..7..7..r..r..y..y..c..7..e..\n",
      "q: >..s..y..s..y..\\..x..u..f..d..?..6..6..s..s..x..x..b..6..d..\n",
      "r: =..p..z..p..z.._..{..v..e..g..<..5..5..p..p..{..{..a..5..g..\n",
      "s: <..q..{..q..{..^..z..w..d..f..=..4..4..q..q..z..z..`..4..f..\n",
      "t: ;..v..|..v..|..Y..}..p..c..a..:..3..3..v..v..}..}..g..3..a..\n",
      "u: :..w..}..w..}..X..|..q..b..`..;..2..2..w..w..|..|..f..2..`..\n",
      "v: 9..t..~..t..~..[....r..a..c..8..1..1..t..t......e..1..c..\n",
      "w: 8..u....u....Z..~..s..`..b..9..0..0..u..u..~..~..d..0..b..\n",
      "x: 7..z..p..z..p..U..q..|..o..m..6..?..?..z..z..q..q..k..?..m..\n",
      "y: 6..{..q..{..q..T..p..}..n..l..7..>..>..{..{..p..p..j..>..l..\n",
      "z: 5..x..r..x..r..W..s..~..m..o..4..=..=..x..x..s..s..i..=..o..\n"
     ]
    }
   ],
   "source": [
    "# find first charactor of XOR key\n",
    "string='abcdefghijklmnopqrstuvwxyz'\n",
    "test=contents[:60]\n",
    "for k in string:\n",
    "    print(k,end=': ')\n",
    "    for i,j in enumerate(test):\n",
    "        if i%3==0:\n",
    "            val=int(j)^ord(k)\n",
    "            print(chr(val),end='..')\n",
    "    print()"
   ]
  },
  {
   "cell_type": "code",
   "execution_count": 256,
   "metadata": {},
   "outputs": [
    {
     "name": "stdout",
     "output_type": "stream",
     "text": [
      "a: Z.....}..b..h..a..\"..f..z........G..z.....i..`..i..f..Y..j..\n",
      "b: Y..-..~..a..k..b..!..e..y..-..-..D..y..-..j..c..j..e..Z..i..\n",
      "c: X..,....`..j..c.. ..d..x..,..,..E..x..,..k..b..k..d..[..h..\n",
      "d: _..+..x..g..m..d..'..c....+..+..B....+..l..e..l..c..\\..o..\n",
      "e: ^..*..y..f..l..e..&..b..~..*..*..C..~..*..m..d..m..b..]..n..\n",
      "f: ]..)..z..e..o..f..%..a..}..)..)..@..}..)..n..g..n..a..^..m..\n",
      "g: \\..(..{..d..n..g..$..`..|..(..(..A..|..(..o..f..o..`.._..l..\n",
      "h: S..'..t..k..a..h..+..o..s..'..'..N..s..'..`..i..`..o..P..c..\n",
      "i: R..&..u..j..`..i..*..n..r..&..&..O..r..&..a..h..a..n..Q..b..\n",
      "j: Q..%..v..i..c..j..)..m..q..%..%..L..q..%..b..k..b..m..R..a..\n",
      "k: P..$..w..h..b..k..(..l..p..$..$..M..p..$..c..j..c..l..S..`..\n",
      "l: W..#..p..o..e..l../..k..w..#..#..J..w..#..d..m..d..k..T..g..\n",
      "m: V..\"..q..n..d..m.....j..v..\"..\"..K..v..\"..e..l..e..j..U..f..\n",
      "n: U..!..r..m..g..n..-..i..u..!..!..H..u..!..f..o..f..i..V..e..\n",
      "o: T.. ..s..l..f..o..,..h..t.. .. ..I..t.. ..g..n..g..h..W..d..\n",
      "p: K..?..l..s..y..p..3..w..k..?..?..V..k..?..x..q..x..w..H..{..\n",
      "q: J..>..m..r..x..q..2..v..j..>..>..W..j..>..y..p..y..v..I..z..\n",
      "r: I..=..n..q..{..r..1..u..i..=..=..T..i..=..z..s..z..u..J..y..\n",
      "s: H..<..o..p..z..s..0..t..h..<..<..U..h..<..{..r..{..t..K..x..\n",
      "t: O..;..h..w..}..t..7..s..o..;..;..R..o..;..|..u..|..s..L....\n",
      "u: N..:..i..v..|..u..6..r..n..:..:..S..n..:..}..t..}..r..M..~..\n",
      "v: M..9..j..u....v..5..q..m..9..9..P..m..9..~..w..~..q..N..}..\n",
      "w: L..8..k..t..~..w..4..p..l..8..8..Q..l..8....v....p..O..|..\n",
      "x: C..7..d..{..q..x..;....c..7..7..^..c..7..p..y..p....@..s..\n",
      "y: B..6..e..z..p..y..:..~..b..6..6.._..b..6..q..x..q..~..A..r..\n",
      "z: A..5..f..y..s..z..9..}..a..5..5..\\..a..5..r..{..r..}..B..q..\n"
     ]
    }
   ],
   "source": [
    "# find second charactor of XOR key\n",
    "string='abcdefghijklmnopqrstuvwxyz'\n",
    "test=contents[:60]\n",
    "for k in string:\n",
    "    print(k,end=': ')\n",
    "    for i,j in enumerate(test):\n",
    "        if i%3==1:\n",
    "            val=int(j)^ord(k)\n",
    "            print(chr(val),end='..')\n",
    "    print()"
   ]
  },
  {
   "cell_type": "code",
   "execution_count": 255,
   "metadata": {},
   "outputs": [
    {
     "name": "stdout",
     "output_type": "stream",
     "text": [
      "a: m..B..u..%..%..m..%..d..`..4..4..k..m..g..l..l..%..`..j..%..\n",
      "b: n..A..v..&..&..n..&..g..c..7..7..h..n..d..o..o..&..c..i..&..\n",
      "c: o..@..w..'..'..o..'..f..b..6..6..i..o..e..n..n..'..b..h..'..\n",
      "d: h..G..p.. .. ..h.. ..a..e..1..1..n..h..b..i..i.. ..e..o.. ..\n",
      "e: i..F..q..!..!..i..!..`..d..0..0..o..i..c..h..h..!..d..n..!..\n",
      "f: j..E..r..\"..\"..j..\"..c..g..3..3..l..j..`..k..k..\"..g..m..\"..\n",
      "g: k..D..s..#..#..k..#..b..f..2..2..m..k..a..j..j..#..f..l..#..\n",
      "h: d..K..|..,..,..d..,..m..i..=..=..b..d..n..e..e..,..i..c..,..\n",
      "i: e..J..}..-..-..e..-..l..h..<..<..c..e..o..d..d..-..h..b..-..\n",
      "j: f..I..~........f.....o..k..?..?..`..f..l..g..g.....k..a.....\n",
      "k: g..H..../../..g../..n..j..>..>..a..g..m..f..f../..j..`../..\n",
      "l: `..O..x..(..(..`..(..i..m..9..9..f..`..j..a..a..(..m..g..(..\n",
      "m: a..N..y..)..)..a..)..h..l..8..8..g..a..k..`..`..)..l..f..)..\n",
      "n: b..M..z..*..*..b..*..k..o..;..;..d..b..h..c..c..*..o..e..*..\n",
      "o: c..L..{..+..+..c..+..j..n..:..:..e..c..i..b..b..+..n..d..+..\n",
      "p: |..S..d..4..4..|..4..u..q..%..%..z..|..v..}..}..4..q..{..4..\n",
      "q: }..R..e..5..5..}..5..t..p..$..$..{..}..w..|..|..5..p..z..5..\n",
      "r: ~..Q..f..6..6..~..6..w..s..'..'..x..~..t......6..s..y..6..\n",
      "s: ..P..g..7..7....7..v..r..&..&..y....u..~..~..7..r..x..7..\n",
      "t: x..W..`..0..0..x..0..q..u..!..!..~..x..r..y..y..0..u....0..\n",
      "u: y..V..a..1..1..y..1..p..t.. .. ....y..s..x..x..1..t..~..1..\n",
      "v: z..U..b..2..2..z..2..s..w..#..#..|..z..p..{..{..2..w..}..2..\n",
      "w: {..T..c..3..3..{..3..r..v..\"..\"..}..{..q..z..z..3..v..|..3..\n",
      "x: t..[..l..<..<..t..<..}..y..-..-..r..t..~..u..u..<..y..s..<..\n",
      "y: u..Z..m..=..=..u..=..|..x..,..,..s..u....t..t..=..x..r..=..\n",
      "z: v..Y..n..>..>..v..>....{../../..p..v..|..w..w..>..{..q..>..\n"
     ]
    }
   ],
   "source": [
    "# find third charactor of XOR key\n",
    "# guess 'd'\n",
    "string='abcdefghijklmnopqrstuvwxyz'\n",
    "test=contents[:60]\n",
    "for k in string:\n",
    "    print(k,end=': ')\n",
    "    for i,j in enumerate(test):\n",
    "        if i%3==2:\n",
    "            print(chr(int(j)^ord(k)),end='..')\n",
    "    print()"
   ]
  },
  {
   "cell_type": "code",
   "execution_count": 167,
   "metadata": {},
   "outputs": [
    {
     "name": "stdout",
     "output_type": "stream",
     "text": [
      "(The Gospel of John, chapter 1) 1 In the b"
     ]
    }
   ],
   "source": [
    "# adapt key 'god'\n",
    "key='god'\n",
    "test=contents[:42]\n",
    "for i,j in enumerate(test):\n",
    "    print(chr(int(j)^ord(key[i%3])),end='')"
   ]
  },
  {
   "cell_type": "code",
   "execution_count": 168,
   "metadata": {},
   "outputs": [
    {
     "name": "stdout",
     "output_type": "stream",
     "text": [
      "(The Gospel of John, chapter 1) 1 In the beginning the Word already existed. He was with God, and he was God. 2 He was in the beginning with God. 3 He created everything there is. Nothing exists that he didn't make. 4 Life itself was in him, and this life gives light to everyone. 5 The light shines through the darkness, and the darkness can never extinguish it. 6 God sent John the Baptist 7 to tell everyone about the light so that everyone might believe because of his testimony. 8 John himself was not the light; he was only a witness to the light. 9 The one who is the true light, who gives light to everyone, was going to come into the world. 10 But although the world was made through him, the world didn't recognize him when he came. 11 Even in his own land and among his own people, he was not accepted. 12 But to all who believed him and accepted him, he gave the right to become children of God. 13 They are reborn! This is not a physical birth resulting from human passion or plan, this rebirth comes from God.14 So the Word became human and lived here on earth among us. He was full of unfailing love and faithfulness. And we have seen his glory, the glory of the only Son of the Father."
     ]
    }
   ],
   "source": [
    "# adapt total text\n",
    "\n",
    "key='god'\n",
    "for i,j in enumerate(contents):\n",
    "    print(chr(int(j)^ord(key[i%3])),end='')"
   ]
  },
  {
   "cell_type": "code",
   "execution_count": 169,
   "metadata": {},
   "outputs": [
    {
     "name": "stdout",
     "output_type": "stream",
     "text": [
      "(The Gospel of John, chapter 1) 1 In the beginning the Word already existed. He was with God, and he was God. 2 He was in the beginning with God. 3 He created everything there is. Nothing exists that he didn't make. 4 Life itself was in him, and this life gives light to everyone. 5 The light shines through the darkness, and the darkness can never extinguish it. 6 God sent John the Baptist 7 to tell everyone about the light so that everyone might believe because of his testimony. 8 John himself was not the light; he was only a witness to the light. 9 The one who is the true light, who gives light to everyone, was going to come into the world. 10 But although the world was made through him, the world didn't recognize him when he came. 11 Even in his own land and among his own people, he was not accepted. 12 But to all who believed him and accepted him, he gave the right to become children of God. 13 They are reborn! This is not a physical birth resulting from human passion or plan, this rebirth comes from God.14 So the Word became human and lived here on earth among us. He was full of unfailing love and faithfulness. And we have seen his glory, the glory of the only Son of the Father.107359\n"
     ]
    }
   ],
   "source": [
    "# summation result\n",
    "\n",
    "key='god'\n",
    "total=0\n",
    "for i,v in enumerate(contents):\n",
    "    val=int(v)^ord(key[i%3])\n",
    "    print(chr(val),end='')\n",
    "    total+=val\n",
    "print(total)"
   ]
  },
  {
   "cell_type": "markdown",
   "metadata": {},
   "source": [
    "## Other method, count reasonable charactor"
   ]
  },
  {
   "cell_type": "code",
   "execution_count": 259,
   "metadata": {},
   "outputs": [
    {
     "name": "stdout",
     "output_type": "stream",
     "text": [
      "a:  ...c..i..c..i..L..h..e..v..t../..&..&..c..c..h..h..r..&..t..\n",
      "b:  -..`..j..`..j..O..k..f..u..w..,..%..%..`..`..k..k..q..%..w..\n",
      "c:  ,..a..k..a..k..N..j..g..t..v..-..$..$..a..a..j..j..p..$..v..\n",
      "d:  +..f..l..f..l..I..m..`..s..q..*..#..#..f..f..m..m..w..#..q..\n",
      "e:  *..g..m..g..m..H..l..a..r..p..+..\"..\"..g..g..l..l..v..\"..p..\n",
      "f:  )..d..n..d..n..K..o..b..q..s..(..!..!..d..d..o..o..u..!..s..\n",
      "g:  (..e..o..e..o..J..n..c..p..r..).. .. ..e..e..n..n..t.. ..r..\n",
      "h:  '..j..`..j..`..E..a..l....}..&../../..j..j..a..a..{../..}..\n",
      "i:  &..k..a..k..a..D..`..m..~..|..'........k..k..`..`..z.....|..\n",
      "j:  %..h..b..h..b..G..c..n..}....$..-..-..h..h..c..c..y..-....\n",
      "k:  $..i..c..i..c..F..b..o..|..~..%..,..,..i..i..b..b..x..,..~..\n",
      "l:  #..n..d..n..d..A..e..h..{..y..\"..+..+..n..n..e..e....+..y..\n",
      "m:  \"..o..e..o..e..@..d..i..z..x..#..*..*..o..o..d..d..~..*..x..\n",
      "n:  !..l..f..l..f..C..g..j..y..{.. ..)..)..l..l..g..g..}..)..{..\n",
      "o:   ..m..g..m..g..B..f..k..x..z..!..(..(..m..m..f..f..|..(..z..\n",
      "p:  ?..r..x..r..x..]..y..t..g..e..>..7..7..r..r..y..y..c..7..e..\n",
      "q:  >..s..y..s..y..\\..x..u..f..d..?..6..6..s..s..x..x..b..6..d..\n",
      "r:  =..p..z..p..z.._..{..v..e..g..<..5..5..p..p..{..{..a..5..g..\n",
      "s:  <..q..{..q..{..^..z..w..d..f..=..4..4..q..q..z..z..`..4..f..\n",
      "t:  ;..v..|..v..|..Y..}..p..c..a..:..3..3..v..v..}..}..g..3..a..\n",
      "u:  :..w..}..w..}..X..|..q..b..`..;..2..2..w..w..|..|..f..2..`..\n",
      "v:  9..t..~..t..~..[....r..a..c..8..1..1..t..t......e..1..c..\n",
      "w:  8..u....u....Z..~..s..`..b..9..0..0..u..u..~..~..d..0..b..\n",
      "x:  7..z..p..z..p..U..q..|..o..m..6..?..?..z..z..q..q..k..?..m..\n",
      "y:  6..{..q..{..q..T..p..}..n..l..7..>..>..{..{..p..p..j..>..l..\n",
      "z:  5..x..r..x..r..W..s..~..m..o..4..=..=..x..x..s..s..i..=..o..\n",
      "{'a': 15, 'b': 11, 'c': 15, 'd': 14, 'e': 15, 'f': 15, 'g': 18, 'h': 9, 'i': 9, 'j': 12, 'k': 12, 'l': 13, 'm': 13, 'n': 13, 'o': 15, 'p': 14, 'q': 14, 'r': 11, 's': 11, 't': 10, 'u': 8, 'v': 9, 'w': 9, 'x': 14, 'y': 10, 'z': 14}\n",
      "g\n"
     ]
    }
   ],
   "source": [
    "#  use dictionay\n",
    "string='abcdefghijklmnopqrstuvwxyz'\n",
    "test=contents[:60]\n",
    "maxValue ={}\n",
    "for k in string:\n",
    "    print(k,end=':  ')\n",
    "    count=0\n",
    "    for i,j in enumerate(test):\n",
    "        if i%3==0:\n",
    "            val= int(j)^ord(k)\n",
    "            print(chr(val),end='..')\n",
    "            if chr(val) in 'ABCDEFGHIJKLMNOPQRSTUVWXYZabcdefghijklmnopqrstuvwxyz ':\n",
    "                count+=1\n",
    "    maxValue[k] = count\n",
    "    print()\n",
    "print(maxValue)\n",
    "print(max(maxValue,key=maxValue.get))"
   ]
  },
  {
   "cell_type": "code",
   "execution_count": 260,
   "metadata": {
    "scrolled": true
   },
   "outputs": [
    {
     "name": "stdout",
     "output_type": "stream",
     "text": [
      "a:  ...c..i..c..i..L..h..e..v..t../..&..&..c..c..h..h..r..&..t..\n",
      "b:  -..`..j..`..j..O..k..f..u..w..,..%..%..`..`..k..k..q..%..w..\n",
      "c:  ,..a..k..a..k..N..j..g..t..v..-..$..$..a..a..j..j..p..$..v..\n",
      "d:  +..f..l..f..l..I..m..`..s..q..*..#..#..f..f..m..m..w..#..q..\n",
      "e:  *..g..m..g..m..H..l..a..r..p..+..\"..\"..g..g..l..l..v..\"..p..\n",
      "f:  )..d..n..d..n..K..o..b..q..s..(..!..!..d..d..o..o..u..!..s..\n",
      "g:  (..e..o..e..o..J..n..c..p..r..).. .. ..e..e..n..n..t.. ..r..\n",
      "h:  '..j..`..j..`..E..a..l....}..&../../..j..j..a..a..{../..}..\n",
      "i:  &..k..a..k..a..D..`..m..~..|..'........k..k..`..`..z.....|..\n",
      "j:  %..h..b..h..b..G..c..n..}....$..-..-..h..h..c..c..y..-....\n",
      "k:  $..i..c..i..c..F..b..o..|..~..%..,..,..i..i..b..b..x..,..~..\n",
      "l:  #..n..d..n..d..A..e..h..{..y..\"..+..+..n..n..e..e....+..y..\n",
      "m:  \"..o..e..o..e..@..d..i..z..x..#..*..*..o..o..d..d..~..*..x..\n",
      "n:  !..l..f..l..f..C..g..j..y..{.. ..)..)..l..l..g..g..}..)..{..\n",
      "o:   ..m..g..m..g..B..f..k..x..z..!..(..(..m..m..f..f..|..(..z..\n",
      "p:  ?..r..x..r..x..]..y..t..g..e..>..7..7..r..r..y..y..c..7..e..\n",
      "q:  >..s..y..s..y..\\..x..u..f..d..?..6..6..s..s..x..x..b..6..d..\n",
      "r:  =..p..z..p..z.._..{..v..e..g..<..5..5..p..p..{..{..a..5..g..\n",
      "s:  <..q..{..q..{..^..z..w..d..f..=..4..4..q..q..z..z..`..4..f..\n",
      "t:  ;..v..|..v..|..Y..}..p..c..a..:..3..3..v..v..}..}..g..3..a..\n",
      "u:  :..w..}..w..}..X..|..q..b..`..;..2..2..w..w..|..|..f..2..`..\n",
      "v:  9..t..~..t..~..[....r..a..c..8..1..1..t..t......e..1..c..\n",
      "w:  8..u....u....Z..~..s..`..b..9..0..0..u..u..~..~..d..0..b..\n",
      "x:  7..z..p..z..p..U..q..|..o..m..6..?..?..z..z..q..q..k..?..m..\n",
      "y:  6..{..q..{..q..T..p..}..n..l..7..>..>..{..{..p..p..j..>..l..\n",
      "z:  5..x..r..x..r..W..s..~..m..o..4..=..=..x..x..s..s..i..=..o..\n",
      "[[15, 'a'], [11, 'b'], [15, 'c'], [14, 'd'], [15, 'e'], [15, 'f'], [18, 'g'], [9, 'h'], [9, 'i'], [12, 'j'], [12, 'k'], [13, 'l'], [13, 'm'], [13, 'n'], [15, 'o'], [14, 'p'], [14, 'q'], [11, 'r'], [11, 's'], [10, 't'], [8, 'u'], [9, 'v'], [9, 'w'], [14, 'x'], [10, 'y'], [14, 'z']]\n",
      "[18, 'g']\n"
     ]
    }
   ],
   "source": [
    "#  use list\n",
    "string='abcdefghijklmnopqrstuvwxyz'\n",
    "test=contents[:60]\n",
    "maxValue =[]\n",
    "for k in string:\n",
    "    print(k,end=':  ')\n",
    "    count=0\n",
    "    for i,j in enumerate(test):\n",
    "        if i%3==0:\n",
    "            val= int(j)^ord(k)\n",
    "            print(chr(val),end='..')\n",
    "            if chr(val) in 'ABCDEFGHIJKLMNOPQRSTUVWXYZabcdefghijklmnopqrstuvwxyz ':\n",
    "                count+=1\n",
    "    maxValue.append([count,k])\n",
    "    print()\n",
    "print(maxValue)\n",
    "print(max(maxValue))"
   ]
  },
  {
   "cell_type": "code",
   "execution_count": 261,
   "metadata": {},
   "outputs": [
    {
     "name": "stdout",
     "output_type": "stream",
     "text": [
      "[[294, 'a'], [253, 'b'], [293, 'c'], [299, 'd'], [297, 'e'], [288, 'f'], [376, 'g'], [224, 'h'], [247, 'i'], [260, 'j'], [256, 'k'], [257, 'l'], [259, 'm'], [230, 'n'], [220, 'o'], [239, 'p'], [248, 'q'], [224, 'r'], [213, 's'], [199, 't'], [208, 'u'], [240, 'v'], [237, 'w'], [269, 'x'], [229, 'y'], [270, 'z']]\n",
      "[376, 'g']\n"
     ]
    }
   ],
   "source": [
    "# on full data\n",
    "string='abcdefghijklmnopqrstuvwxyz'\n",
    "test=contents\n",
    "maxValue =[]\n",
    "for k in string:\n",
    "    count=0\n",
    "    for i,j in enumerate(test):\n",
    "        if i%3==0:\n",
    "            val= int(j)^ord(k)\n",
    "            if chr(val) in 'ABCDEFGHIJKLMNOPQRSTUVWXYZabcdefghijklmnopqrstuvwxyz ':\n",
    "                count+=1\n",
    "    maxValue.append([count,k])\n",
    "print(maxValue)\n",
    "print(max(maxValue))"
   ]
  },
  {
   "cell_type": "code",
   "execution_count": 244,
   "metadata": {},
   "outputs": [
    {
     "name": "stdout",
     "output_type": "stream",
     "text": [
      "[391, 'o']\n"
     ]
    }
   ],
   "source": [
    "# for last of key\n",
    "string='abcdefghijklmnopqrstuvwxyz'\n",
    "test=contents\n",
    "maxValue =[]\n",
    "for k in string:\n",
    "    count=0\n",
    "    for i,j in enumerate(test):\n",
    "        if i%3==1:\n",
    "            val= int(j)^ord(k)\n",
    "            if chr(val) in 'ABCDEFGHIJKLMNOPQRSTUVWXYZabcdefghijklmnopqrstuvwxyz ':\n",
    "                count+=1\n",
    "    maxValue.append([count,k])\n",
    "print(max(maxValue))"
   ]
  },
  {
   "cell_type": "code",
   "execution_count": 245,
   "metadata": {},
   "outputs": [
    {
     "name": "stdout",
     "output_type": "stream",
     "text": [
      "[376, 'g']\n",
      "[391, 'o']\n",
      "[380, 'd']\n"
     ]
    }
   ],
   "source": [
    "# automate find key\n",
    "keyLength=3\n",
    "for keyNum in range(keyLength):\n",
    "    string='abcdefghijklmnopqrstuvwxyz'\n",
    "    test=contents\n",
    "    maxValue =[]\n",
    "    for k in string:\n",
    "        count=0\n",
    "        for i,j in enumerate(test):\n",
    "            if i%3==keyNum:\n",
    "                val= int(j)^ord(k)\n",
    "                if chr(val) in 'ABCDEFGHIJKLMNOPQRSTUVWXYZabcdefghijklmnopqrstuvwxyz ':\n",
    "                    count+=1\n",
    "        maxValue.append([count,k])\n",
    "    print(max(maxValue))"
   ]
  },
  {
   "cell_type": "code",
   "execution_count": 16,
   "metadata": {},
   "outputs": [
    {
     "name": "stdout",
     "output_type": "stream",
     "text": [
      "[306, 'g']\n",
      "[306, 'o']\n",
      "[303, 'd']\n"
     ]
    }
   ],
   "source": [
    "# short\n",
    "with open('p059_cipher.txt') as file_object:\n",
    "    contents = file_object.read().rstrip().split(',')\n",
    "    \n",
    "for keyNum in range(3):\n",
    "    maxValue =[]\n",
    "    for k in range(97,123):\n",
    "        count=0\n",
    "        for i,j in enumerate(contents):\n",
    "            if i%3==keyNum:\n",
    "                if int(j)^k in range(65,123):\n",
    "                    count+=1\n",
    "        maxValue.append([count,chr(k)])\n",
    "    print(max(maxValue))"
   ]
  },
  {
   "cell_type": "code",
   "execution_count": 1,
   "metadata": {},
   "outputs": [
    {
     "name": "stdout",
     "output_type": "stream",
     "text": [
      "god\n"
     ]
    }
   ],
   "source": [
    "# short-test\n",
    "with open('p059_cipher.txt') as file_object:\n",
    "    contents = file_object.read().rstrip().split(',')\n",
    "\n",
    "key=''\n",
    "for keyNum in range(3):\n",
    "    maxValue =[]\n",
    "    for k in range(97,123):\n",
    "        count=0\n",
    "        for i,j in enumerate(contents):\n",
    "            if i%3==keyNum:\n",
    "                if int(j)^k in range(65,123):\n",
    "                    count+=1\n",
    "        maxValue.append([count,chr(k)])\n",
    "    key+=max(maxValue)[1]\n",
    "print(key)"
   ]
  },
  {
   "cell_type": "code",
   "execution_count": 15,
   "metadata": {},
   "outputs": [
    {
     "name": "stdout",
     "output_type": "stream",
     "text": [
      "[306, 'g']\n",
      "[306, 'o']\n",
      "[303, 'd']\n"
     ]
    }
   ],
   "source": [
    "# short-test-(posting)\n",
    "with open('p059_cipher.txt') as file_object:\n",
    "    codes = file_object.read().rstrip().split(',')\n",
    "\n",
    "for idx in range(3):\n",
    "    maxValue =[]\n",
    "    for k in range(97,123):\n",
    "        count=0\n",
    "        for i,j in enumerate(codes):\n",
    "            if i%3==idx:\n",
    "                if int(j)^k in range(65,123):\n",
    "                    count+=1\n",
    "        maxValue.append([count,chr(k)])\n",
    "    print(max(maxValue))"
   ]
  },
  {
   "cell_type": "code",
   "execution_count": 16,
   "metadata": {},
   "outputs": [
    {
     "name": "stdout",
     "output_type": "stream",
     "text": [
      "107359\n"
     ]
    }
   ],
   "source": [
    "key='god'\n",
    "total=0\n",
    "for i,v in enumerate(codes):\n",
    "    val=int(v)^ord(key[i%3])\n",
    "    total+=val\n",
    "print(total)"
   ]
  },
  {
   "cell_type": "code",
   "execution_count": 7,
   "metadata": {},
   "outputs": [
    {
     "name": "stdout",
     "output_type": "stream",
     "text": [
      "god\n",
      "(The Gospel of John, chapter 1) 1 In the beginning the Word already existed. He was with God, and he was God. 2 He was in the beginning with God. 3 He created everything there is. Nothing exists that he didn't make. 4 Life itself was in him, and this life gives light to everyone. 5 The light shines through the darkness, and the darkness can never extinguish it. 6 God sent John the Baptist 7 to tell everyone about the light so that everyone might believe because of his testimony. 8 John himself was not the light; he was only a witness to the light. 9 The one who is the true light, who gives light to everyone, was going to come into the world. 10 But although the world was made through him, the world didn't recognize him when he came. 11 Even in his own land and among his own people, he was not accepted. 12 But to all who believed him and accepted him, he gave the right to become children of God. 13 They are reborn! This is not a physical birth resulting from human passion or plan, this rebirth comes from God.14 So the Word became human and lived here on earth among us. He was full of unfailing love and faithfulness. And we have seen his glory, the glory of the only Son of the Father.107359\n"
     ]
    }
   ],
   "source": [
    "# reverse + total\n",
    "with open('p059_cipher.txt') as file_object:\n",
    "    contents = file_object.read().rstrip().split(',')\n",
    "\n",
    "key=''\n",
    "for keyNum in range(3):\n",
    "    maxValue =[]\n",
    "    for k in range(97,123):\n",
    "        count=0\n",
    "        for i,j in enumerate(contents):\n",
    "            if i%3==keyNum:\n",
    "                if int(j)^k in range(65,123):\n",
    "                    count+=1\n",
    "        maxValue.append([count,chr(k)])\n",
    "    key+=max(maxValue)[1]\n",
    "print(key)\n",
    "\n",
    "total=0\n",
    "for i,v in enumerate(contents):\n",
    "    val=int(v)^ord(key[i%3])\n",
    "    print(chr(val),end='')\n",
    "    total+=val\n",
    "print(total)"
   ]
  },
  {
   "cell_type": "code",
   "execution_count": 8,
   "metadata": {},
   "outputs": [
    {
     "name": "stdout",
     "output_type": "stream",
     "text": [
      "107359\n"
     ]
    }
   ],
   "source": [
    "# reverse + total ;;solution only\n",
    "with open('p059_cipher.txt') as file_object:\n",
    "    contents = file_object.read().rstrip().split(',')\n",
    "\n",
    "key=''\n",
    "for keyNum in range(3):\n",
    "    maxValue =[]\n",
    "    for k in range(97,123):\n",
    "        count=0\n",
    "        for i,j in enumerate(contents):\n",
    "            if i%3==keyNum:\n",
    "                if int(j)^k in range(65,123):\n",
    "                    count+=1\n",
    "        maxValue.append([count,chr(k)])\n",
    "    key+=max(maxValue)[1]\n",
    "\n",
    "total=0\n",
    "for i,v in enumerate(contents):\n",
    "    val=int(v)^ord(key[i%3])\n",
    "    total+=val\n",
    "print(total)"
   ]
  },
  {
   "cell_type": "code",
   "execution_count": 12,
   "metadata": {},
   "outputs": [
    {
     "name": "stdout",
     "output_type": "stream",
     "text": [
      "[306, 'g', 35898]\n",
      "[306, 'o', 35694]\n",
      "[303, 'd', 35767]\n",
      "107359\n"
     ]
    }
   ],
   "source": [
    "# short\n",
    "with open('p059_cipher.txt') as file_object:\n",
    "    codes = file_object.read().rstrip().split(',')\n",
    "\n",
    "result=0\n",
    "for idx in range(3):\n",
    "    maxValue =[]\n",
    "    for k in range(97,123):\n",
    "        count=0\n",
    "        summ=0\n",
    "        for i,j in enumerate(codes):\n",
    "            if i%3==idx:\n",
    "                if int(j)^k in range(65,123):\n",
    "                    count+=1\n",
    "                summ+=int(j)^ord(key[idx])\n",
    "        maxValue.append([count,chr(k),summ])\n",
    "    print(max(maxValue))\n",
    "    result+=max(maxValue)[2]\n",
    "print(result)"
   ]
  },
  {
   "cell_type": "code",
   "execution_count": 13,
   "metadata": {},
   "outputs": [
    {
     "name": "stdout",
     "output_type": "stream",
     "text": [
      "107359\n"
     ]
    }
   ],
   "source": [
    "# short\n",
    "with open('p059_cipher.txt') as file_object:\n",
    "    codes = file_object.read().rstrip().split(',')\n",
    "\n",
    "result=0\n",
    "for idx in range(3):\n",
    "    maxValue =[]\n",
    "    for k in range(97,123):\n",
    "        count=0\n",
    "        summ=0\n",
    "        for i,j in enumerate(codes):\n",
    "            if i%3==idx:\n",
    "                if int(j)^k in range(65,123):\n",
    "                    count+=1\n",
    "                summ+=int(j)^ord(key[idx])\n",
    "        maxValue.append([count,chr(k),summ])\n",
    "    result+=max(maxValue)[2]\n",
    "print(result)"
   ]
  },
  {
   "cell_type": "code",
   "execution_count": 12,
   "metadata": {},
   "outputs": [
    {
     "name": "stdout",
     "output_type": "stream",
     "text": [
      "97\n",
      "122\n",
      "65\n",
      "90\n",
      "32\n",
      "32\n"
     ]
    }
   ],
   "source": [
    "print(ord('a'))\n",
    "print(ord('z'))\n",
    "print(ord('A'))\n",
    "print(ord('Z'))\n",
    "print(ord('a')-ord('A'))\n",
    "print(ord(' '))"
   ]
  },
  {
   "cell_type": "code",
   "execution_count": 7,
   "metadata": {},
   "outputs": [
    {
     "data": {
      "text/plain": [
       "32"
      ]
     },
     "execution_count": 7,
     "metadata": {},
     "output_type": "execute_result"
    }
   ],
   "source": []
  }
 ],
 "metadata": {
  "kernelspec": {
   "display_name": "Python 3",
   "language": "python",
   "name": "python3"
  },
  "language_info": {
   "codemirror_mode": {
    "name": "ipython",
    "version": 3
   },
   "file_extension": ".py",
   "mimetype": "text/x-python",
   "name": "python",
   "nbconvert_exporter": "python",
   "pygments_lexer": "ipython3",
   "version": "3.6.5"
  }
 },
 "nbformat": 4,
 "nbformat_minor": 2
}
