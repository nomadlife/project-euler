{
 "cells": [
  {
   "cell_type": "markdown",
   "metadata": {},
   "source": [
    "# Largest exponential\n",
    "\n",
    "Comparing two numbers written in index form like 211 and 37 is not difficult, as any calculator would confirm that 2$^{11}$ = 2048 < 3$^7$ = 2187.\n",
    "\n",
    "However, confirming that 632382$^{518061}$ > 519432$^{525806}$ would be much more difficult, as both numbers contain over three million digits.\n",
    "\n",
    "Using base_exp.txt (right click and 'Save Link/Target As...'), a 22K text file containing one thousand lines with a base/exponent pair on each line, determine which line number has the greatest numerical value.\n",
    "\n",
    "NOTE: The first two lines in the file represent the numbers in the example given above.\n"
   ]
  },
  {
   "cell_type": "code",
   "execution_count": 71,
   "metadata": {},
   "outputs": [
    {
     "name": "stdout",
     "output_type": "stream",
     "text": [
      "[['519432', '525806'], ['632382', '518061'], ['78864', '613712'], ['466580', '530130'], ['780495', '510032'], ['525895', '525320'], ['15991', '714883'], ['960290', '502358'], ['760018', '511029'], ['166800', '575487']]\n"
     ]
    }
   ],
   "source": [
    "with open('p099_base_exp.txt') as f:\n",
    "    numbers=[i.split(',') for i in f.read().split()]\n",
    "print(numbers[:10])"
   ]
  },
  {
   "cell_type": "code",
   "execution_count": 35,
   "metadata": {},
   "outputs": [
    {
     "name": "stdout",
     "output_type": "stream",
     "text": [
      "[[519432, 525806], [632382, 518061], [78864, 613712], [466580, 530130], [780495, 510032], [525895, 525320], [15991, 714883], [960290, 502358], [760018, 511029], [166800, 575487]]\n"
     ]
    }
   ],
   "source": [
    "with open('p099_base_exp.txt') as f:\n",
    "    numbers=[[int(k) for k in i.split(',')] for i in f.read().split()]\n",
    "print(numbers[:10])"
   ]
  },
  {
   "cell_type": "code",
   "execution_count": 132,
   "metadata": {},
   "outputs": [
    {
     "data": {
      "text/plain": [
       "[[519432, 525806],\n",
       " [632382, 518061],\n",
       " [78864, 613712],\n",
       " [466580, 530130],\n",
       " [780495, 510032],\n",
       " [525895, 525320],\n",
       " [15991, 714883],\n",
       " [960290, 502358],\n",
       " [760018, 511029],\n",
       " [166800, 575487],\n",
       " [210884, 564478],\n",
       " [555151, 523163],\n",
       " [681146, 515199],\n",
       " [563395, 522587],\n",
       " [738250, 512126],\n",
       " [923525, 503780],\n",
       " [595148, 520429],\n",
       " [177108, 572629],\n",
       " [750923, 511482],\n",
       " [440902, 532446]]"
      ]
     },
     "execution_count": 132,
     "metadata": {},
     "output_type": "execute_result"
    }
   ],
   "source": [
    "[ i for i in numbers[:20]]"
   ]
  },
  {
   "cell_type": "code",
   "execution_count": 131,
   "metadata": {},
   "outputs": [
    {
     "data": {
      "text/plain": [
       "[6919865.228473604,\n",
       " 6919869.733217769,\n",
       " 6919897.460895191,\n",
       " 6919884.844444524,\n",
       " 6919952.808386881,\n",
       " 6919965.161503832,\n",
       " 6919911.1257988755,\n",
       " 6919976.728417218,\n",
       " 6919893.461278895,\n",
       " 6919972.648345858,\n",
       " 6919971.64536512,\n",
       " 6919874.608991908,\n",
       " 6919911.830527591,\n",
       " 6919959.226745566,\n",
       " 6919865.870161109,\n",
       " 6919898.477494326,\n",
       " 6919918.23096201,\n",
       " 6919943.737054548,\n",
       " 6919869.846262303,\n",
       " 6919975.920542998]"
      ]
     },
     "execution_count": 131,
     "metadata": {},
     "output_type": "execute_result"
    }
   ],
   "source": [
    "[ i[1]*log(i[0]) for i in numbers[:20]]"
   ]
  },
  {
   "cell_type": "code",
   "execution_count": 130,
   "metadata": {},
   "outputs": [
    {
     "data": {
      "text/plain": [
       "6919976.728417218"
      ]
     },
     "execution_count": 130,
     "metadata": {},
     "output_type": "execute_result"
    }
   ],
   "source": [
    "max([ i[1]*log(i[0]) for i in numbers[:20]])"
   ]
  },
  {
   "cell_type": "code",
   "execution_count": 129,
   "metadata": {},
   "outputs": [
    {
     "data": {
      "text/plain": [
       "(6919976.728417218, [960290, 502358])"
      ]
     },
     "execution_count": 129,
     "metadata": {},
     "output_type": "execute_result"
    }
   ],
   "source": [
    "max([ (i[1]*log(i[0]),i) for i in numbers[:20]])"
   ]
  },
  {
   "cell_type": "code",
   "execution_count": 136,
   "metadata": {},
   "outputs": [
    {
     "data": {
      "text/plain": [
       "(6919995.552420337, 708, [895447, 504922])"
      ]
     },
     "execution_count": 136,
     "metadata": {},
     "output_type": "execute_result"
    }
   ],
   "source": [
    "max([ (i[1]*log(i[0]),idx,i) for idx,i in enumerate(numbers)])"
   ]
  },
  {
   "cell_type": "code",
   "execution_count": 138,
   "metadata": {},
   "outputs": [
    {
     "data": {
      "text/plain": [
       "[(6919865.228473604, 0, [519432, 525806]),\n",
       " (6919869.733217769, 1, [632382, 518061]),\n",
       " (6919897.460895191, 2, [78864, 613712]),\n",
       " (6919884.844444524, 3, [466580, 530130]),\n",
       " (6919952.808386881, 4, [780495, 510032]),\n",
       " (6919965.161503832, 5, [525895, 525320]),\n",
       " (6919911.1257988755, 6, [15991, 714883]),\n",
       " (6919976.728417218, 7, [960290, 502358]),\n",
       " (6919893.461278895, 8, [760018, 511029]),\n",
       " (6919972.648345858, 9, [166800, 575487])]"
      ]
     },
     "execution_count": 138,
     "metadata": {},
     "output_type": "execute_result"
    }
   ],
   "source": [
    "[ (i[1]*log(i[0]),idx,i) for idx,i in enumerate(numbers[:10])]"
   ]
  },
  {
   "cell_type": "code",
   "execution_count": 139,
   "metadata": {},
   "outputs": [
    {
     "data": {
      "text/plain": [
       "(6919995.552420337, 708, [895447, 504922])"
      ]
     },
     "execution_count": 139,
     "metadata": {},
     "output_type": "execute_result"
    }
   ],
   "source": [
    "# final code\n",
    "from math import log\n",
    "with open('p099_base_exp.txt') as f:\n",
    "    numbers=[[int(k) for k in i.split(',')] for i in f.read().split()]\n",
    "max([(i[1]*log(i[0]),idx,i) for idx,i in enumerate(numbers)])"
   ]
  },
  {
   "cell_type": "code",
   "execution_count": 3,
   "metadata": {},
   "outputs": [
    {
     "data": {
      "text/plain": [
       "(6919995.552420337, 708, ['895447', '504922'])"
      ]
     },
     "execution_count": 3,
     "metadata": {},
     "output_type": "execute_result"
    }
   ],
   "source": [
    "# reverse\n",
    "from math import log\n",
    "with open('p099_base_exp.txt') as f:\n",
    "    lines = f.readlines()\n",
    "    \n",
    "numbers = []\n",
    "for line in lines:\n",
    "    temp=line.rsplit()\n",
    "    numbers.append(temp[0].split(','))\n",
    "\n",
    "result=[]\n",
    "for idx,i in enumerate(numbers):\n",
    "    result.append((int(i[1])*log(int(i[0])),idx,i))\n",
    "\n",
    "max(result)"
   ]
  },
  {
   "cell_type": "markdown",
   "metadata": {},
   "source": [
    "# ============================\n",
    "# test "
   ]
  },
  {
   "cell_type": "code",
   "execution_count": 4,
   "metadata": {},
   "outputs": [
    {
     "name": "stdout",
     "output_type": "stream",
     "text": [
      "1000\n",
      "[[519432 525806]\n",
      " [632382 518061]\n",
      " [ 78864 613712]\n",
      " [466580 530130]\n",
      " [780495 510032]\n",
      " [525895 525320]\n",
      " [ 15991 714883]\n",
      " [960290 502358]\n",
      " [760018 511029]\n",
      " [166800 575487]]\n",
      "[519432 632382  78864 466580 780495 525895  15991 960290 760018 166800]\n"
     ]
    }
   ],
   "source": [
    "arr=np.array(numbers)\n",
    "print(len(arr))\n",
    "print(arr[:10])\n",
    "print(arr[:10,0])"
   ]
  },
  {
   "cell_type": "code",
   "execution_count": 214,
   "metadata": {},
   "outputs": [
    {
     "data": {
      "text/plain": [
       "[[519432, 525806],\n",
       " [632382, 518061],\n",
       " [78864, 613712],\n",
       " [466580, 530130],\n",
       " [780495, 510032],\n",
       " [525895, 525320],\n",
       " [15991, 714883],\n",
       " [960290, 502358],\n",
       " [760018, 511029],\n",
       " [166800, 575487]]"
      ]
     },
     "execution_count": 214,
     "metadata": {},
     "output_type": "execute_result"
    }
   ],
   "source": [
    "numbers[:10]"
   ]
  },
  {
   "cell_type": "code",
   "execution_count": 36,
   "metadata": {},
   "outputs": [
    {
     "data": {
      "image/png": "[encoded data removed]",
      "text/plain": [
       "<matplotlib.figure.Figure at 0x7fbc8dae3860>"
      ]
     },
     "metadata": {},
     "output_type": "display_data"
    }
   ],
   "source": [
    "%matplotlib inline\n",
    "import matplotlib.pyplot as plt\n",
    "import numpy as np\n",
    "arr=np.array(numbers)\n",
    "x = arr[:50,0]\n",
    "y = arr[:50,1]\n",
    "plt.scatter(x,y)\n",
    "plt.show()"
   ]
  },
  {
   "cell_type": "code",
   "execution_count": 245,
   "metadata": {},
   "outputs": [
    {
     "data": {
      "image/png": "[encoded data removed]",
      "text/plain": [
       "<matplotlib.figure.Figure at 0x7f74975d8518>"
      ]
     },
     "metadata": {},
     "output_type": "display_data"
    }
   ],
   "source": [
    "x = arr[:500,0]\n",
    "y = arr[:500,1]\n",
    "plt.scatter(x,y)\n",
    "plt.show()"
   ]
  },
  {
   "cell_type": "code",
   "execution_count": 246,
   "metadata": {},
   "outputs": [
    {
     "data": {
      "image/png": "[encoded data removed]",
      "text/plain": [
       "<matplotlib.figure.Figure at 0x7f7497523080>"
      ]
     },
     "metadata": {},
     "output_type": "display_data"
    }
   ],
   "source": [
    "x = arr[:,0]\n",
    "y = arr[:,1]\n",
    "plt.scatter(x,y)\n",
    "plt.show()"
   ]
  },
  {
   "cell_type": "code",
   "execution_count": 247,
   "metadata": {},
   "outputs": [
    {
     "data": {
      "image/png": "[encoded data removed]",
      "text/plain": [
       "<matplotlib.figure.Figure at 0x7f74974f0710>"
      ]
     },
     "metadata": {},
     "output_type": "display_data"
    }
   ],
   "source": [
    "x = arr[:20,0]\n",
    "y = arr[:20,1]\n",
    "plt.scatter(x,y)\n",
    "plt.show()"
   ]
  },
  {
   "cell_type": "code",
   "execution_count": 34,
   "metadata": {},
   "outputs": [
    {
     "data": {
      "text/plain": [
       "3.0"
      ]
     },
     "execution_count": 34,
     "metadata": {},
     "output_type": "execute_result"
    }
   ],
   "source": [
    "import math\n",
    "from math import log\n",
    "log(8,2)"
   ]
  },
  {
   "cell_type": "code",
   "execution_count": 37,
   "metadata": {},
   "outputs": [
    {
     "data": {
      "text/plain": [
       "array([[519432, 525806],\n",
       "       [632382, 518061]])"
      ]
     },
     "execution_count": 37,
     "metadata": {},
     "output_type": "execute_result"
    }
   ],
   "source": [
    "arr[:2]"
   ]
  },
  {
   "cell_type": "code",
   "execution_count": 38,
   "metadata": {},
   "outputs": [
    {
     "data": {
      "text/plain": [
       "6919865.228473604"
      ]
     },
     "execution_count": 38,
     "metadata": {},
     "output_type": "execute_result"
    }
   ],
   "source": [
    "525806*log(519432)"
   ]
  },
  {
   "cell_type": "code",
   "execution_count": 39,
   "metadata": {},
   "outputs": [
    {
     "data": {
      "text/plain": [
       "6919869.733217769"
      ]
     },
     "execution_count": 39,
     "metadata": {},
     "output_type": "execute_result"
    }
   ],
   "source": [
    "518061*log(632382)"
   ]
  },
  {
   "cell_type": "code",
   "execution_count": 251,
   "metadata": {},
   "outputs": [
    {
     "data": {
      "text/plain": [
       "[[525806, 13.17268760239577],\n",
       " [518061, 13.157848274926144],\n",
       " [613712, 13.327281041713803],\n",
       " [530130, 13.180877538470211],\n",
       " [510032, 13.142228747830156],\n",
       " [525320, 13.171762879699097],\n",
       " [714883, 13.479874171922617],\n",
       " [502358, 13.127068291915442],\n",
       " [511029, 13.144181619043248],\n",
       " [575487, 13.26297191783594],\n",
       " [564478, 13.243656689270331],\n",
       " [523163, 13.167648357970009],\n",
       " [515199, 13.152308512776608],\n",
       " [522587, 13.166546756137356],\n",
       " [512126, 13.146325967495544],\n",
       " [503780, 13.129894943819675],\n",
       " [520429, 13.162408750432165],\n",
       " [572629, 13.257993316539018],\n",
       " [511482, 13.145067673138778],\n",
       " [532446, 13.185236762972828]]"
      ]
     },
     "execution_count": 251,
     "metadata": {},
     "output_type": "execute_result"
    }
   ],
   "source": [
    "[[i[1],log(i[1])] for i in numbers[:20]]"
   ]
  },
  {
   "cell_type": "code",
   "execution_count": 293,
   "metadata": {},
   "outputs": [
    {
     "data": {
      "image/png": "[encoded data removed]",
      "text/plain": [
       "<matplotlib.figure.Figure at 0x7f74970332b0>"
      ]
     },
     "metadata": {},
     "output_type": "display_data"
    }
   ],
   "source": [
    "target=200\n",
    "xl = np.array([log(i[0]) for i in numbers[:target]])\n",
    "yl = np.array([log(i[1]) for i in numbers[:target]])\n",
    "plt.scatter(xl,yl)\n",
    "plt.show()"
   ]
  },
  {
   "cell_type": "code",
   "execution_count": 94,
   "metadata": {},
   "outputs": [
    {
     "name": "stdout",
     "output_type": "stream",
     "text": [
      "[[519432, 525806], [632382, 518061], [78864, 613712], [466580, 530130], [780495, 510032], [525895, 525320], [15991, 714883], [960290, 502358], [760018, 511029], [166800, 575487], [210884, 564478], [555151, 523163], [681146, 515199], [563395, 522587], [738250, 512126], [923525, 503780], [595148, 520429], [177108, 572629], [750923, 511482], [440902, 532446], [881418, 505504], [422489, 534197], [979858, 501616], [685893, 514935], [747477, 511661], [167214, 575367], [234140, 559696], [940238, 503122], [728969, 512609], [232083, 560102], [900971, 504694], [688801, 514772], [189664, 569402], [891022, 505104], [445689, 531996], [119570, 591871], [821453, 508118], [371084, 539600], [911745, 504251], [623655, 518600], [144361, 582486], [352442, 541775], [420726, 534367], [295298, 549387], [6530, 787777], [468397, 529976], [672336, 515696], [431861, 533289], [84228, 610150], [805376, 508857]]\n"
     ]
    },
    {
     "data": {
      "image/png": "[encoded data removed]",
      "text/plain": [
       "<matplotlib.figure.Figure at 0x7fbc84675390>"
      ]
     },
     "metadata": {},
     "output_type": "display_data"
    }
   ],
   "source": [
    "# log test\n",
    "target=50\n",
    "print(numbers[:target])\n",
    "xt=[i[0] for i in numbers[:target]]\n",
    "yt=[i[1] for i in numbers[:target]]\n",
    "xlog=[log(i[0]) for i in numbers[:target]]\n",
    "ylog=[log(i[1]) for i in numbers[:target]]\n",
    "xarr = np.array(xlog)\n",
    "yarr = np.array(ylog)\n",
    "\n",
    "plt.figure(figsize=(10,10))\n",
    "\n",
    "plt.subplot(221)\n",
    "#plt.plot(xt,'^')\n",
    "#plt.plot(xlog,'o')\n",
    "plt.scatter(xt,xlog)\n",
    "plt.title('x')\n",
    "plt.xlabel('x')\n",
    "plt.ylabel('x-log')\n",
    "\n",
    "plt.subplot(222)\n",
    "#plt.plot(yt,'^')\n",
    "#plt.plot(ylog,'o')\n",
    "plt.scatter(y,ylog)\n",
    "plt.title('y')\n",
    "plt.xlabel('y')\n",
    "plt.ylabel('y-log')\n",
    "\n",
    "plt.subplot(223)\n",
    "plt.scatter(xt,yt)\n",
    "plt.title('x-y')\n",
    "plt.xlabel('x')\n",
    "plt.ylabel('y')\n",
    "\n",
    "plt.subplot(224)\n",
    "plt.scatter(xlog,ylog)\n",
    "plt.title('xlog-ylog')\n",
    "plt.xlabel('x-log')\n",
    "plt.ylabel('y-log')\n",
    "\n",
    "plt.show()"
   ]
  },
  {
   "cell_type": "code",
   "execution_count": 126,
   "metadata": {},
   "outputs": [
    {
     "name": "stdout",
     "output_type": "stream",
     "text": [
      "[[519432, 525806], [632382, 518061], [78864, 613712], [466580, 530130], [780495, 510032], [525895, 525320], [15991, 714883], [960290, 502358], [760018, 511029], [166800, 575487], [210884, 564478], [555151, 523163], [681146, 515199], [563395, 522587], [738250, 512126], [923525, 503780], [595148, 520429], [177108, 572629], [750923, 511482], [440902, 532446], [881418, 505504], [422489, 534197], [979858, 501616], [685893, 514935], [747477, 511661], [167214, 575367], [234140, 559696], [940238, 503122], [728969, 512609], [232083, 560102], [900971, 504694], [688801, 514772], [189664, 569402], [891022, 505104], [445689, 531996], [119570, 591871], [821453, 508118], [371084, 539600], [911745, 504251], [623655, 518600], [144361, 582486], [352442, 541775], [420726, 534367], [295298, 549387], [6530, 787777], [468397, 529976], [672336, 515696], [431861, 533289], [84228, 610150], [805376, 508857]]\n"
     ]
    },
    {
     "data": {
      "image/png": "[encoded data removed]",
      "text/plain": [
       "<matplotlib.figure.Figure at 0x7fbc7f987048>"
      ]
     },
     "metadata": {},
     "output_type": "display_data"
    }
   ],
   "source": [
    "# log test\n",
    "target=50\n",
    "print(numbers[:target])\n",
    "xt=[i[0] for i in numbers[:target]]\n",
    "xlog=[log(i[0]) for i in numbers[:target]]\n",
    "xlog2=[log(i[0],10) for i in numbers[:target]]\n",
    "xlog3=[log(i[0],1.1) for i in numbers[:target]]\n",
    "xlog4=[log(i[0],0.5) for i in numbers[:target]]\n",
    "xarr = np.array(xlog)\n",
    "yarr = np.array(ylog)\n",
    "\n",
    "plt.figure(figsize=(10,10))\n",
    "\n",
    "plt.subplot(221)\n",
    "plt.scatter(xt,xlog)\n",
    "plt.xlabel('x')\n",
    "plt.ylabel('log e')\n",
    "\n",
    "plt.subplot(222)\n",
    "plt.scatter(xt,xlog2)\n",
    "plt.xlabel('x')\n",
    "plt.ylabel('log 10')\n",
    "\n",
    "plt.subplot(223)\n",
    "plt.scatter(xt,xlog3)\n",
    "plt.xlabel('x')\n",
    "plt.ylabel('log 1.1')\n",
    "\n",
    "plt.subplot(224)\n",
    "plt.scatter(xt,xlog4)\n",
    "plt.xlabel('x-log')\n",
    "plt.ylabel('log 0.5')\n",
    "\n",
    "plt.show()"
   ]
  },
  {
   "cell_type": "code",
   "execution_count": 118,
   "metadata": {},
   "outputs": [
    {
     "name": "stdout",
     "output_type": "stream",
     "text": [
      "[[519432, 525806], [632382, 518061], [78864, 613712], [466580, 530130], [780495, 510032], [525895, 525320], [15991, 714883], [960290, 502358], [760018, 511029], [166800, 575487], [210884, 564478], [555151, 523163], [681146, 515199], [563395, 522587], [738250, 512126], [923525, 503780], [595148, 520429], [177108, 572629], [750923, 511482], [440902, 532446], [881418, 505504], [422489, 534197], [979858, 501616], [685893, 514935], [747477, 511661], [167214, 575367], [234140, 559696], [940238, 503122], [728969, 512609], [232083, 560102], [900971, 504694], [688801, 514772], [189664, 569402], [891022, 505104], [445689, 531996], [119570, 591871], [821453, 508118], [371084, 539600], [911745, 504251], [623655, 518600], [144361, 582486], [352442, 541775], [420726, 534367], [295298, 549387], [6530, 787777], [468397, 529976], [672336, 515696], [431861, 533289], [84228, 610150], [805376, 508857]]\n"
     ]
    },
    {
     "data": {
      "image/png": "[encoded data removed]",
      "text/plain": [
       "<matplotlib.figure.Figure at 0x7fbc7ff56a90>"
      ]
     },
     "metadata": {},
     "output_type": "display_data"
    }
   ],
   "source": [
    "# log test\n",
    "target=50\n",
    "print(numbers[:target])\n",
    "xt=[i[0] for i in numbers[:target]]\n",
    "yt=[i[1] for i in numbers[:target]]\n",
    "xlog=[log(i[0]) for i in numbers[:target]]\n",
    "ylog=[log(i[1]) for i in numbers[:target]]\n",
    "zl=[log(i[0])*log(i[1]) for i in numbers[:target]]\n",
    "z=[log(i[0])*i[1] for i in numbers[:target]]\n",
    "xarr = np.array(xlog)\n",
    "yarr = np.array(ylog)\n",
    "\n",
    "plt.figure(figsize=(15,15))\n",
    "\n",
    "plt.subplot(331)\n",
    "#plt.plot(xt,'^')\n",
    "#plt.plot(xlog,'o')\n",
    "plt.scatter(xt,xlog)\n",
    "plt.title('x')\n",
    "plt.xlabel('x')\n",
    "plt.ylabel('x-log')\n",
    "\n",
    "plt.subplot(332)\n",
    "#plt.plot(yt,'^')\n",
    "#plt.plot(ylog,'o')\n",
    "plt.scatter(y,ylog)\n",
    "plt.title('y')\n",
    "plt.xlabel('y')\n",
    "plt.ylabel('y-log')\n",
    "\n",
    "plt.subplot(333)\n",
    "plt.scatter(xlog,ylog)\n",
    "plt.title('xlog-ylog')\n",
    "plt.xlabel('x-log')\n",
    "plt.ylabel('y-log')\n",
    "\n",
    "plt.subplot(334)\n",
    "plt.scatter(xt,yt)\n",
    "plt.title('x-y')\n",
    "plt.xlabel('x')\n",
    "plt.ylabel('y')\n",
    "\n",
    "plt.subplot(335)\n",
    "plt.scatter(xt,yt)\n",
    "plt.title('x-y')\n",
    "plt.xlabel('x')\n",
    "plt.ylabel('y')\n",
    "\n",
    "plt.subplot(336)\n",
    "plt.scatter(zl,xlog)\n",
    "plt.title('logx*logy')\n",
    "plt.xlabel('logx')\n",
    "plt.ylabel('logy')\n",
    "\n",
    "plt.subplot(337)\n",
    "plt.scatter(z,xt)\n",
    "plt.title('x*logy')\n",
    "plt.xlabel('n')\n",
    "plt.ylabel('logy')\n",
    "\n",
    "plt.show()"
   ]
  },
  {
   "cell_type": "code",
   "execution_count": 114,
   "metadata": {},
   "outputs": [
    {
     "name": "stdout",
     "output_type": "stream",
     "text": [
      "[[519432, 525806], [632382, 518061], [78864, 613712], [466580, 530130], [780495, 510032], [525895, 525320], [15991, 714883], [960290, 502358], [760018, 511029], [166800, 575487], [210884, 564478], [555151, 523163], [681146, 515199], [563395, 522587], [738250, 512126], [923525, 503780], [595148, 520429], [177108, 572629], [750923, 511482], [440902, 532446], [881418, 505504], [422489, 534197], [979858, 501616], [685893, 514935], [747477, 511661], [167214, 575367], [234140, 559696], [940238, 503122], [728969, 512609], [232083, 560102], [900971, 504694], [688801, 514772], [189664, 569402], [891022, 505104], [445689, 531996], [119570, 591871], [821453, 508118], [371084, 539600], [911745, 504251], [623655, 518600], [144361, 582486], [352442, 541775], [420726, 534367], [295298, 549387], [6530, 787777], [468397, 529976], [672336, 515696], [431861, 533289], [84228, 610150], [805376, 508857]]\n"
     ]
    },
    {
     "ename": "AttributeError",
     "evalue": "'list' object has no attribute 'has_data'",
     "output_type": "error",
     "traceback": [
      "\u001b[0;31m---------------------------------------------------------------------------\u001b[0m",
      "\u001b[0;31mAttributeError\u001b[0m                            Traceback (most recent call last)",
      "\u001b[0;32m<ipython-input-114-e3015cbd5f4d>\u001b[0m in \u001b[0;36m<module>\u001b[0;34m()\u001b[0m\n\u001b[1;32m     13\u001b[0m \u001b[0mfig\u001b[0m \u001b[0;34m=\u001b[0m \u001b[0mplt\u001b[0m\u001b[0;34m.\u001b[0m\u001b[0mfigure\u001b[0m\u001b[0;34m(\u001b[0m\u001b[0;34m)\u001b[0m\u001b[0;34m\u001b[0m\u001b[0m\n\u001b[1;32m     14\u001b[0m \u001b[0max\u001b[0m \u001b[0;34m=\u001b[0m \u001b[0mfig\u001b[0m\u001b[0;34m.\u001b[0m\u001b[0madd_subplot\u001b[0m\u001b[0;34m(\u001b[0m\u001b[0;36m111\u001b[0m\u001b[0;34m,\u001b[0m \u001b[0mprojection\u001b[0m\u001b[0;34m=\u001b[0m\u001b[0;34m'3d'\u001b[0m\u001b[0;34m)\u001b[0m\u001b[0;34m\u001b[0m\u001b[0m\n\u001b[0;32m---> 15\u001b[0;31m \u001b[0mAxes3D\u001b[0m\u001b[0;34m.\u001b[0m\u001b[0mscatter\u001b[0m\u001b[0;34m(\u001b[0m\u001b[0mxlog\u001b[0m\u001b[0;34m,\u001b[0m \u001b[0mylog\u001b[0m\u001b[0;34m,\u001b[0m \u001b[0mzl\u001b[0m\u001b[0;34m)\u001b[0m\u001b[0;34m\u001b[0m\u001b[0m\n\u001b[0m",
      "\u001b[0;32m~/anaconda3/lib/python3.6/site-packages/mpl_toolkits/mplot3d/axes3d.py\u001b[0m in \u001b[0;36mscatter\u001b[0;34m(self, xs, ys, zs, zdir, s, c, depthshade, *args, **kwargs)\u001b[0m\n\u001b[1;32m   2354\u001b[0m         '''\n\u001b[1;32m   2355\u001b[0m \u001b[0;34m\u001b[0m\u001b[0m\n\u001b[0;32m-> 2356\u001b[0;31m         \u001b[0mhad_data\u001b[0m \u001b[0;34m=\u001b[0m \u001b[0mself\u001b[0m\u001b[0;34m.\u001b[0m\u001b[0mhas_data\u001b[0m\u001b[0;34m(\u001b[0m\u001b[0;34m)\u001b[0m\u001b[0;34m\u001b[0m\u001b[0m\n\u001b[0m\u001b[1;32m   2357\u001b[0m \u001b[0;34m\u001b[0m\u001b[0m\n\u001b[1;32m   2358\u001b[0m         xs, ys, zs = np.broadcast_arrays(\n",
      "\u001b[0;31mAttributeError\u001b[0m: 'list' object has no attribute 'has_data'"
     ]
    },
    {
     "data": {
      "image/png": "[encoded data removed]",
      "text/plain": [
       "<matplotlib.figure.Figure at 0x7fbc7fc3d5c0>"
      ]
     },
     "metadata": {},
     "output_type": "display_data"
    }
   ],
   "source": [
    "# log test\n",
    "from mpl_toolkits.mplot3d import Axes3D\n",
    "target=50\n",
    "print(numbers[:target])\n",
    "xt=[i[0] for i in numbers[:target]]\n",
    "yt=[i[1] for i in numbers[:target]]\n",
    "xlog=[log(i[0]) for i in numbers[:target]]\n",
    "ylog=[log(i[1]) for i in numbers[:target]]\n",
    "zl = [log(i[0])*i[1] for i in numbers[:target]]\n",
    "xarr = np.array(xlog)\n",
    "yarr = np.array(ylog)\n",
    "\n",
    "fig = plt.figure()\n",
    "ax = fig.add_subplot(111, projection='3d')\n",
    "Axes3D.scatter(xlog, ylog, zl)"
   ]
  },
  {
   "cell_type": "code",
   "execution_count": 33,
   "metadata": {},
   "outputs": [
    {
     "name": "stdout",
     "output_type": "stream",
     "text": [
      "x: <class 'numpy.ndarray'> [519432 632382  78864 466580 780495 525895  15991 960290 760018 166800\n",
      " 210884 555151 681146 563395 738250 923525 595148 177108 750923 440902]\n",
      "x2: <class 'numpy.ndarray'> [[519432 632382  78864 466580 780495 525895  15991 960290 760018 166800\n",
      "  210884 555151 681146 563395 738250 923525 595148 177108 750923 440902]]\n",
      "x3: <class 'numpy.ndarray'> [519432 632382  78864 466580 780495 525895  15991 960290 760018 166800\n",
      " 210884 555151 681146 563395 738250 923525 595148 177108 750923 440902]\n",
      "<class 'numpy.ndarray'> [6919865.2284736  6919869.73321777 6919897.46089519 6919884.84444452\n",
      " 6919952.80838688 6919965.16150383 6919911.12579888 6919976.72841722\n",
      " 6919893.46127889 6919972.64834586 6919971.64536512 6919874.60899191\n",
      " 6919911.83052759 6919959.22674557 6919865.87016111 6919898.47749433\n",
      " 6919918.23096201 6919943.73705455 6919869.8462623  6919975.920543  ]\n"
     ]
    },
    {
     "data": {
      "image/png": "[encoded data removed]",
      "text/plain": [
       "<matplotlib.figure.Figure at 0x7fbc84dcfa20>"
      ]
     },
     "metadata": {},
     "output_type": "display_data"
    }
   ],
   "source": [
    "target=20\n",
    "x = arr[:target,0]\n",
    "y = np.array([log(i[0])*i[1]for i in numbers[:target]])\n",
    "x2 = np.array([arr[:target,0]])\n",
    "x3 = arr[:target,0]\n",
    "print('x:',type(x),x)\n",
    "print('x2:',type(x2),x2)\n",
    "print('x3:',type(x3),x3)\n",
    "print(type(y),y)\n",
    "plt.scatter(x,y)\n",
    "plt.show()"
   ]
  },
  {
   "cell_type": "code",
   "execution_count": 295,
   "metadata": {},
   "outputs": [
    {
     "data": {
      "text/plain": [
       "<matplotlib.collections.PathCollection at 0x7f7496eeb4e0>"
      ]
     },
     "execution_count": 295,
     "metadata": {},
     "output_type": "execute_result"
    },
    {
     "data": {
      "image/png": "[encoded data removed]",
      "text/plain": [
       "<matplotlib.figure.Figure at 0x7f7496f6d198>"
      ]
     },
     "metadata": {},
     "output_type": "display_data"
    }
   ],
   "source": [
    "target=1000\n",
    "x = arr[:target,0]\n",
    "y = np.array([log(i[1])*i[0]for i in numbers[:target]])\n",
    "plt.scatter(x,y)\n",
    "#plt.show()"
   ]
  },
  {
   "cell_type": "code",
   "execution_count": 318,
   "metadata": {},
   "outputs": [
    {
     "name": "stdout",
     "output_type": "stream",
     "text": [
      "[[525806]\n",
      " [518061]\n",
      " [613712]\n",
      " [530130]\n",
      " [510032]\n",
      " [525320]\n",
      " [714883]\n",
      " [502358]\n",
      " [511029]\n",
      " [575487]\n",
      " [564478]\n",
      " [523163]\n",
      " [515199]\n",
      " [522587]\n",
      " [512126]\n",
      " [503780]\n",
      " [520429]\n",
      " [572629]\n",
      " [511482]\n",
      " [532446]] [ 6842315.46668764  8320786.40779434  1051042.69207372  6149933.84189943\n",
      " 10257443.8265377   6926964.23961936   215556.66788321 12605792.41004348\n",
      "  9989814.62574201  2212263.71589503  2792875.29726008  7310033.15357541\n",
      "  8958642.33424374  7417966.60967401  9705275.14550359 12125786.22799107\n",
      "  7833581.2430022   2348096.68030559  9870933.65231639  5813397.25926825]\n",
      "lr.coef_: [-60.31968602]\n",
      "lr.intercept_: 39525548.63675535\n"
     ]
    }
   ],
   "source": [
    "# fit test - Linear Regression\n",
    "from sklearn.linear_model import LinearRegression\n",
    "target=20\n",
    "x = np.array([[i[1]] for i in numbers[:target]])\n",
    "y = np.array([log(i[1])*i[0]for i in numbers[:target]])\n",
    "print(x,y)\n",
    "lr = LinearRegression().fit(x, y)\n",
    "print(\"lr.coef_: {}\".format(lr.coef_))\n",
    "print(\"lr.intercept_: {}\".format(lr.intercept_))"
   ]
  },
  {
   "cell_type": "code",
   "execution_count": 24,
   "metadata": {},
   "outputs": [
    {
     "name": "stdout",
     "output_type": "stream",
     "text": [
      "[-54.6210279]\n",
      "36299822.437707454\n"
     ]
    }
   ],
   "source": [
    "# fit all\n",
    "from sklearn.linear_model import LinearRegression\n",
    "target=1000\n",
    "x = np.array([[i[1]] for i in numbers[:target]])\n",
    "y = np.array([log(i[1])*i[0]for i in numbers[:target]])\n",
    "lr = LinearRegression().fit(x, y)\n",
    "print(lr.coef_)\n",
    "print(lr.intercept_)"
   ]
  },
  {
   "cell_type": "code",
   "execution_count": 31,
   "metadata": {},
   "outputs": [
    {
     "data": {
      "text/plain": [
       "array([ 7.57975824e+06,  8.00279810e+06,  2.77824216e+06,  7.34357691e+06,\n",
       "        8.44135033e+06,  7.60630406e+06, -2.74782185e+06,  8.86051210e+06,\n",
       "        8.38689317e+06,  4.86613095e+06,  5.46745385e+06,  7.72412162e+06,\n",
       "        8.15912348e+06,  7.75558333e+06,  8.32697390e+06,  8.78284100e+06,\n",
       "        7.87345551e+06,  5.02223785e+06,  8.36214984e+06,  7.21707461e+06,\n",
       "        8.68867435e+06,  7.12143319e+06,  8.90104090e+06,  8.17354343e+06,\n",
       "        8.35237268e+06,  4.87268548e+06,  5.72865160e+06,  8.81878164e+06,\n",
       "        8.30059194e+06,  5.70647547e+06,  8.73291738e+06,  8.18244666e+06,\n",
       "        5.19849991e+06,  8.71052276e+06,  7.24165408e+06,  3.97122003e+06,\n",
       "        8.54589498e+06,  6.82631578e+06,  8.75711450e+06,  7.97335737e+06,\n",
       "        4.48383838e+06,  6.70751504e+06,  7.11214762e+06,  6.29173978e+06,\n",
       "       -6.72936706e+06,  7.35198855e+06,  8.13197683e+06,  7.17102909e+06,\n",
       "        2.97280226e+06,  8.50553004e+06,  7.23504493e+06,  5.81695920e+04,\n",
       "        6.89207950e+06,  7.01437598e+06,  3.25792403e+06,  6.36728066e+06,\n",
       "        8.30916745e+06,  8.36968755e+06,  1.48585402e+06,  4.61400029e+06,\n",
       "        6.28988267e+06,  6.35750350e+06,  6.57926487e+06,  8.16769898e+06,\n",
       "        1.94975041e+06,  8.84226868e+06, -5.68879808e+05,  8.26017238e+06,\n",
       "        6.65010834e+06,  7.70101692e+06,  8.50389141e+06,  5.99165185e+06,\n",
       "        6.26011421e+06,  7.01131720e+06,  7.04753094e+06,  6.58290826e+05,\n",
       "        6.85575651e+06,  8.41087180e+06,  4.85367736e+06,  8.89344858e+06,\n",
       "        8.72740066e+06,  6.75913192e+06,  7.40010968e+06,  8.19883297e+06,\n",
       "        7.44582748e+06,  8.59461694e+06,  6.54015622e+06, -1.43609787e+06,\n",
       "        7.90497184e+06,  6.55097118e+06,  8.42179601e+06,  7.46390704e+06,\n",
       "       -3.49958729e+05,  8.72133772e+06,  7.26661589e+06,  8.59188589e+06,\n",
       "        6.88519725e+06,  2.12492005e+06,  2.69931478e+06,  7.50782235e+06,\n",
       "        7.88285032e+06,  6.41086824e+06,  8.82768486e+06,  4.01049255e+06,\n",
       "        7.26836376e+06,  7.76759995e+06,  7.13667246e+06,  6.50589261e+05,\n",
       "        5.56258745e+05,  8.25984466e+06,  7.35597589e+06,  8.50957200e+06,\n",
       "        6.23165665e+06,  3.23596637e+06,  3.57669235e+06,  8.13039282e+06,\n",
       "        7.27306117e+06,  8.91704487e+06,  8.80791205e+06,  3.12027904e+06,\n",
       "        7.93971081e+06,  4.48782571e+06,  8.05228475e+06,  5.50361297e+06,\n",
       "        5.12274054e+06,  5.96756398e+06,  7.50744000e+06,  7.04053945e+06,\n",
       "        7.00623745e+06,  7.39475682e+06,  8.59401611e+06,  8.31157077e+06,\n",
       "        8.57446178e+06,  8.74121978e+06,  7.82325878e+06,  7.29004831e+06,\n",
       "        8.67092251e+06,  3.31986427e+06,  8.27552089e+06,  7.68435751e+06,\n",
       "        5.85356989e+06,  7.72870978e+06,  8.57233156e+06,  4.97116719e+06,\n",
       "        7.50771310e+06,  5.89715747e+06,  7.78005355e+06,  5.53846118e+06,\n",
       "        7.58975389e+06,  3.23935288e+06,  4.82898865e+06,  8.36859512e+06,\n",
       "       -4.15862838e+06,  7.25716645e+06,  8.78584516e+06,  7.76159164e+06,\n",
       "       -6.34893160e+06,  8.03152876e+06,  8.32839405e+06,  8.01552480e+06,\n",
       "        6.83527363e+06,  7.22849041e+06,  7.78535179e+06,  8.07822974e+06,\n",
       "        6.32735269e+06,  7.82549824e+06,  8.87154555e+06,  7.55403174e+06,\n",
       "        8.51410554e+06,  5.76481072e+06,  7.67703829e+06,  8.50378217e+06,\n",
       "        5.86542266e+06,  7.67796685e+06,  7.51497770e+06,  6.52923201e+06,\n",
       "        8.47270280e+06,  3.03468789e+06,  4.12776390e+06,  7.81599419e+06,\n",
       "        8.83511332e+06,  7.02464473e+06,  6.03857132e+06,  6.04851234e+06,\n",
       "        1.13950208e+06,  7.46221379e+06,  8.62984750e+06,  8.48105982e+06,\n",
       "        8.35657850e+06,  6.28666002e+06,  7.05228297e+06,  8.42927909e+06,\n",
       "        7.67889541e+06,  5.46428583e+06,  7.56970797e+06,  7.58276240e+06,\n",
       "        5.86913689e+06,  7.86269516e+06,  6.66835177e+06,  7.68375668e+06,\n",
       "        7.52453638e+06,  5.83559958e+06,  4.49132146e+06,  2.38792030e+06,\n",
       "        6.27005523e+06,  8.78792076e+06,  8.32156642e+06,  7.56298958e+06,\n",
       "        7.03999324e+06,  8.61094863e+06, -1.15441723e+06, -5.10095036e+06,\n",
       "        8.90267954e+06,  4.99536430e+06,  7.44812156e+06,  8.68321225e+06,\n",
       "        8.87995719e+06,  7.60384611e+06,  8.18774490e+06,  4.69877212e+06,\n",
       "        8.09210348e+06,  7.35368181e+06,  8.40104002e+06,  2.69532744e+06,\n",
       "        4.84034983e+06, -3.91088363e+05,  8.79436604e+06,  7.80922118e+06,\n",
       "        8.79168961e+06,  5.13978230e+06,  8.89049905e+06,  8.49263948e+06,\n",
       "        5.53982671e+06,  6.79266923e+06,  8.42561948e+06,  7.85040543e+06,\n",
       "        8.00044940e+06,  8.84784002e+06,  8.43430422e+06,  8.92256159e+06,\n",
       "        7.88301419e+06,  8.45800975e+06,  7.55015364e+06,  8.37689752e+06,\n",
       "        8.66223777e+06,  8.07282226e+06,  2.98645752e+06,  8.59084809e+06,\n",
       "       -3.45916772e+05,  8.48493791e+06,  8.14961942e+06,  8.72434188e+06,\n",
       "        8.92032213e+06,  7.07178268e+06,  1.68827955e+06,  8.46292564e+06,\n",
       "        7.43714274e+06,  4.59903413e+06,  1.75256850e+06,  2.71504563e+06,\n",
       "        7.84996846e+06,  7.93146304e+06,  3.46958051e+06,  7.61870303e+06,\n",
       "        5.20641996e+06,  8.61848633e+06,  8.16376627e+06,  7.93648817e+06,\n",
       "        7.55916611e+06,  8.68042657e+06,  8.68332149e+06, -1.36757417e+07,\n",
       "        7.93736211e+06,  4.62967652e+06,  8.59587322e+06,  2.46526367e+06,\n",
       "        8.65202364e+06,  3.17386227e+06,  6.34630619e+06,  6.99252757e+06,\n",
       "        7.39912650e+06,  7.73712142e+06,  2.38202122e+06,  6.05615929e+06,\n",
       "        8.91775494e+06,  6.87072268e+06,  7.62301809e+06,  4.78523721e+06,\n",
       "        8.38252349e+06,  8.55102936e+06,  4.58319403e+06,  6.07047000e+06,\n",
       "        7.41125237e+06,  4.00120698e+06,  8.88547391e+06,  8.90371733e+06,\n",
       "        8.14361111e+06,  8.84090315e+06,  3.95794712e+06,  6.95347353e+06,\n",
       "        5.22488186e+06,  8.83232765e+06,  6.24476570e+06,  8.49012691e+06,\n",
       "        8.22778211e+06,  5.26726778e+06,  6.00235757e+06,  5.37224940e+06,\n",
       "        5.54310397e+06,  8.31675977e+06,  6.95041476e+06,  8.50989972e+06,\n",
       "        7.75978915e+06,  1.90233936e+06,  3.82516340e+06,  7.57374993e+06,\n",
       "        8.74395083e+06,  7.93987468e+06,  7.20828063e+06,  7.24247339e+06,\n",
       "        5.69025302e+06,  6.31249577e+06,  7.30714469e+06,  7.01885490e+06,\n",
       "        8.62793576e+06,  8.86668428e+06,  8.59560012e+06,  7.03939241e+06,\n",
       "        8.78529895e+06,  8.76361440e+06,  6.58046653e+06,  5.01114978e+06,\n",
       "        8.75853464e+06,  7.06074923e+06,  5.98318559e+06,  8.00405438e+06,\n",
       "        3.97504350e+06,  4.82057701e+06, -1.38562804e+06,  7.01137182e+06,\n",
       "        5.00262890e+06,  8.58500364e+06,  7.90273238e+06,  6.43484687e+06,\n",
       "        7.65688313e+06,  7.69981526e+06,  2.00082107e+06,  8.72723679e+06,\n",
       "        8.92633044e+06,  6.81937891e+06, -4.52280139e+04,  8.71139670e+06,\n",
       "        4.63426469e+06,  8.55250413e+06,  5.72783229e+06,  8.30479776e+06,\n",
       "        8.86149528e+06,  6.93080581e+06,  8.85619704e+06,  1.78992928e+06,\n",
       "        5.14884939e+06,  8.92742286e+06,  7.80599854e+06,  5.52016314e+06,\n",
       "        8.79114340e+06,  7.58740518e+06,  5.93783392e+05,  8.36619180e+06,\n",
       "        3.75825264e+06,  6.40546076e+06,  6.84685329e+06,  8.77344618e+06,\n",
       "        8.92234311e+06,  8.05337717e+06,  5.16490797e+06,  4.89944978e+06,\n",
       "        8.05949473e+06,  6.14814110e+06,  4.79069931e+06,  8.08811615e+06,\n",
       "        7.48799491e+06,  8.72341332e+06,  7.74722631e+06,  8.35313737e+06,\n",
       "        8.42703962e+06,  8.06719629e+06,  8.28884842e+06,  7.49460406e+06,\n",
       "        1.19188365e+06,  8.04960832e+06,  7.78726352e+06,  5.07041360e+06,\n",
       "        8.24553395e+06,  7.19003721e+06,  3.41572418e+06,  8.38465371e+06,\n",
       "        7.43441168e+06,  7.61089223e+06,  8.68321225e+06,  7.04469065e+06,\n",
       "        8.79048794e+06,  8.69113229e+06,  7.76880162e+06, -1.03089561e+07,\n",
       "        8.75727836e+06,  7.08849671e+06,  6.95746087e+06,  7.97057169e+06,\n",
       "        4.56200107e+06,  7.48045721e+06,  8.11296871e+06,  1.27173959e+06,\n",
       "        8.13263228e+06,  7.23122146e+06,  6.11291054e+06,  6.03545792e+06,\n",
       "        6.67567099e+06, -1.56873395e+05,  5.08685453e+06,  8.86258770e+06,\n",
       "        6.79277847e+06,  8.91737259e+06,  8.80141215e+06, -6.91886363e+05,\n",
       "        8.35018784e+06,  7.46161296e+06,  4.54736263e+06,  1.83477315e+06,\n",
       "        8.58877249e+06,  8.14951018e+06, -6.31093159e+05,  8.61635611e+06,\n",
       "        8.53852114e+06,  4.23651436e+06,  8.61602838e+06,  8.74192985e+06,\n",
       "        5.19970157e+06,  6.95647769e+06,  7.36373207e+06,  8.78660985e+06,\n",
       "        6.21035445e+06,  7.28327530e+06,  8.55217640e+06,  6.47062365e+06,\n",
       "        8.40322486e+06,  5.99744168e+06,  7.11640806e+06,  8.19850524e+06,\n",
       "        3.99159367e+06,  5.49634837e+06,  8.62542320e+06,  6.79010204e+06,\n",
       "        4.84510186e+06,  8.10002353e+06,  6.24837068e+06,  8.61062090e+06,\n",
       "        7.68845409e+06,  7.07140033e+06,  8.89279313e+06,  6.76617803e+06,\n",
       "        5.74290769e+06,  5.62590945e+06,  8.32134794e+06,  6.54184947e+06,\n",
       "        1.77298054e+05,  6.39054922e+06,  7.38028225e+06,  8.67146872e+06,\n",
       "        2.58663159e+06,  8.56080652e+06,  8.12678783e+06,  6.52950511e+06,\n",
       "        6.40655318e+06,  7.00312405e+06,  8.69697674e+06,  8.26967644e+06,\n",
       "       -5.52930468e+05,  7.88869477e+06,  5.92446799e+06,  6.19855631e+06,\n",
       "        6.64737729e+06,  7.24575065e+06,  8.92594809e+06,  8.86324315e+06,\n",
       "        8.20593370e+06,  8.77382853e+06,  8.71926212e+06,  8.71341767e+06,\n",
       "        6.74454810e+06,  7.25536395e+06,  8.57222232e+06,  8.77497557e+06,\n",
       "        8.78857621e+06,  7.09084542e+06,  5.93238804e+06,  3.24585278e+06,\n",
       "        8.55927713e+06,  8.09510764e+06,  8.18386681e+06,  4.75798132e+06,\n",
       "        8.52912633e+06,  8.88044878e+06,  5.81872168e+06,  2.67965121e+06,\n",
       "        7.36963115e+06,  7.84423326e+06,  3.44292545e+06,  7.48706636e+06,\n",
       "        8.24515160e+06,  8.24012647e+06, -1.83297426e+06,  6.20713181e+06,\n",
       "        6.04572667e+06,  8.90426355e+06,  8.60745288e+06, -2.87428976e+07,\n",
       "        5.44828187e+06, -4.80850937e+06,  8.93430511e+06,  7.05430395e+06,\n",
       "        7.17654581e+06,  8.61083938e+06,  8.87405812e+06,  8.90814164e+06,\n",
       "        4.76890552e+06,  7.51514156e+06,  8.57200383e+06,  6.95664155e+06,\n",
       "        7.23242312e+06,  7.21456205e+06,  8.34609126e+06, -3.37645526e+06,\n",
       "        8.09833028e+06,  2.44161277e+06,  7.19697408e+06,  7.13366830e+06,\n",
       "       -1.51016398e+06,  6.00880286e+06,  8.26481517e+06,  8.74761044e+06,\n",
       "        1.94964117e+06,  8.58445743e+06,  8.88334369e+06,  8.83336545e+06,\n",
       "        4.39999510e+06,  2.34608059e+06,  8.11329644e+06,  8.30758344e+06,\n",
       "        8.84625601e+06,  5.10892142e+06,  8.60450334e+06,  8.06566690e+06,\n",
       "       -1.78982365e+06,  8.64350276e+06,  7.99362177e+06,  8.49629909e+06,\n",
       "        5.19249159e+06,  8.32467982e+06,  8.27295370e+06,  7.40284073e+06,\n",
       "        4.32461808e+06,  8.72385029e+06,  8.71254374e+06,  8.17004769e+06,\n",
       "        8.65153205e+06,  6.87536546e+06,  7.50962484e+06,  7.96696671e+06,\n",
       "        5.45123140e+06,  8.14688837e+06,  8.91611631e+06,  5.29621693e+06,\n",
       "        6.54922331e+06,  5.75596212e+06,  6.73750199e+06,  7.58374557e+06,\n",
       "        5.49842397e+06,  8.85330213e+06,  8.22286622e+06,  7.02540943e+06,\n",
       "        5.04829208e+06,  8.18452226e+06,  8.19020285e+06,  8.65459083e+06,\n",
       "        6.82325700e+06,  8.33107048e+06,  2.46531829e+06,  7.97696235e+06,\n",
       "        6.00077356e+06,  6.79572800e+06,  4.85460592e+06,  7.89743414e+06,\n",
       "        4.64688215e+06,  6.16381733e+06,  6.87596629e+06,  7.12536591e+06,\n",
       "        8.14126241e+06,  4.50765315e+06,  8.19036671e+06,  8.76940423e+06,\n",
       "        6.20494697e+06,  2.85891742e+06,  4.78469100e+06,  7.94839556e+06,\n",
       "        8.40699371e+06,  4.70532665e+06,  7.14781515e+06,  5.93686696e+06,\n",
       "        8.32391512e+06,  8.72434188e+06,  5.38153497e+06,  6.08407063e+06,\n",
       "        4.32057613e+06,  8.43703527e+06,  8.45145522e+06,  6.37181421e+06,\n",
       "        8.31337327e+06,  8.30938593e+06,  7.66666029e+06,  8.22483258e+06,\n",
       "        7.98821429e+06,  8.02868847e+06,  7.12105085e+06, -4.47854374e+06,\n",
       "        8.34843997e+06,  8.59095733e+06,  7.29944312e+06,  7.40180293e+06,\n",
       "        6.63568839e+06,  7.96112226e+06,  5.90589684e+06,  7.74962964e+06,\n",
       "        7.48608318e+06,  8.28671820e+06,  7.44806694e+06,  7.08483711e+06,\n",
       "        7.97619766e+06,  8.60952848e+06,  7.17321393e+06,  6.99995603e+06,\n",
       "        8.86264232e+06,  4.38562977e+06,  7.11498791e+06,  7.81490176e+06,\n",
       "        2.59864822e+06,  8.21986207e+06,  6.84712639e+06,  5.54900304e+06,\n",
       "        6.75011945e+06,  3.12169918e+06,  6.23700951e+06,  6.21390482e+06,\n",
       "        7.65737472e+06,  8.51710970e+06,  8.32697390e+06,  8.85084418e+06,\n",
       "        4.81937535e+06,  8.55829395e+06,  6.85979847e+06,  3.53239469e+06,\n",
       "        3.85482262e+06,  1.54222292e+06,  7.18233564e+06,  8.50427376e+06,\n",
       "        3.42315264e+06,  8.63104916e+06,  5.57456568e+06,  8.60270085e+06,\n",
       "        4.59848792e+06,  7.73755839e+06,  7.96685746e+06,  5.42140832e+06,\n",
       "        4.30954268e+06,  8.80337851e+06,  7.90661047e+06,  7.81703198e+06,\n",
       "        5.83150300e+06,  8.23553830e+06,  8.25066833e+06,  8.62476775e+06,\n",
       "        7.48384371e+06,  1.91528454e+06,  7.76110005e+06,  7.97319350e+06,\n",
       "        5.81708305e+06,  4.09575597e+06,  6.78087109e+06,  8.17540055e+06,\n",
       "        8.08292715e+06,  7.45145344e+06,  6.91889842e+06,  7.67556352e+06,\n",
       "        5.82997361e+06,  8.19653889e+06,  7.44511741e+06,  8.72270325e+06,\n",
       "        6.60122252e+06,  8.29851635e+06,  7.90562729e+06,  4.65168880e+06,\n",
       "        7.87514876e+06,  7.66529477e+06,  5.84799855e+06,  8.78557205e+06,\n",
       "        7.53764543e+06,  7.61711902e+06, -1.00028053e+07,  7.59346812e+06,\n",
       "        8.72046379e+06,  1.01097880e+06,  1.08482643e+06,  7.32861075e+06,\n",
       "        6.98722933e+06,  8.71844281e+06,  7.95839120e+06,  8.87302032e+06,\n",
       "        8.92310780e+06,  8.58107092e+06,  7.69926905e+06,  7.28065349e+06,\n",
       "        7.38290405e+06,  2.82374148e+06,  8.32331429e+06,  1.41675842e+06,\n",
       "        8.90082242e+06,  8.47133728e+06,  8.10870827e+06,  3.05233048e+06,\n",
       "        7.32506039e+06,  7.85204406e+06,  8.71227063e+06,  7.86444304e+06,\n",
       "        5.45308852e+06,  8.36082271e+05,  7.72068049e+06,  8.50159733e+06,\n",
       "        6.58368917e+06,  5.00361208e+06,  8.65879665e+06,  8.08696910e+06,\n",
       "        6.14928814e+06,  8.87318418e+06,  7.98499165e+06,  6.30386565e+06,\n",
       "        6.42064541e+06,  8.60051601e+06,  8.22286622e+06,  7.75744044e+06,\n",
       "       -1.82452261e+04,  5.22914230e+06,  7.67807609e+06,  7.52579266e+06,\n",
       "        8.65874202e+06,  8.60854530e+06,  8.15131268e+06,  8.67654848e+06,\n",
       "        7.78851981e+06,  7.88607296e+06,  5.49946177e+06,  7.97898333e+06,\n",
       "        8.29354583e+06,  8.18430378e+06,  6.57156331e+06,  7.06107696e+06,\n",
       "        5.81528055e+06,  6.44642653e+06,  8.48575723e+06,  3.28845718e+06,\n",
       "        8.63678437e+06,  4.09165940e+06,  7.25820425e+06,  5.74782358e+06,\n",
       "        8.03595306e+06,  8.27666793e+06,  8.23237028e+06,  7.90398866e+06,\n",
       "        7.44342415e+06,  4.71330132e+06,  2.12180665e+06,  8.11313258e+06,\n",
       "        7.95789962e+06,  7.23127608e+06,  7.88285032e+06,  3.35957376e+06,\n",
       "        3.06565801e+06,  6.90790337e+05,  7.31653951e+06,  6.06664652e+06,\n",
       "        6.08270511e+06,  6.77715686e+06,  6.90622634e+06,  8.39437625e+06,\n",
       "        6.86821011e+06,  6.15502335e+06,  5.01535560e+06,  8.63907845e+06,\n",
       "        8.82724790e+06,  7.92032035e+06,  5.63284632e+06,  1.02949533e+06,\n",
       "        6.58106737e+06,  7.98013037e+06,  8.93266648e+06,  7.52257002e+06,\n",
       "        5.76928965e+06,  7.73455423e+06,  7.62716929e+06,  8.00891566e+06,\n",
       "        5.02294792e+06,  3.00606647e+06,  8.84565518e+06,  7.59734621e+06,\n",
       "        8.94004032e+06,  8.59352452e+06,  8.86302467e+06,  7.36788327e+06,\n",
       "        6.88514263e+06,  8.75580359e+06,  6.58347069e+06,  7.40174831e+06,\n",
       "        6.52409763e+06,  6.59548732e+06,  7.14530258e+06,  8.35668774e+06,\n",
       "        8.11537204e+06,  7.91748006e+06,  8.13727507e+06,  5.18358837e+06,\n",
       "        7.76230171e+06,  4.94800787e+06,  3.08739718e+06,  8.74766506e+06,\n",
       "       -5.25809505e+06,  8.79321900e+06,  8.38093948e+06,  8.27087811e+06,\n",
       "        6.44582570e+06,  8.29862559e+06,  6.71450654e+06,  8.02278940e+06,\n",
       "        7.99083610e+06,  8.67949802e+06,  7.96363482e+06,  6.91594889e+06,\n",
       "        7.12602136e+06,  8.00629385e+06,  8.69653978e+06,  8.69348100e+06,\n",
       "        8.94047729e+06,  8.24116427e+06,  7.69659262e+06,  8.37727987e+06,\n",
       "        8.91611631e+06,  8.40459038e+06,  7.86154812e+06,  8.57620965e+06,\n",
       "        8.60106222e+06,  8.78731992e+06,  2.62060587e+06,  8.05053688e+06,\n",
       "        6.72357363e+06,  5.95030374e+06,  8.00929800e+06,  8.79846261e+06,\n",
       "        4.28802199e+06,  6.18703127e+06,  8.91316677e+06,  4.06380267e+06,\n",
       "        4.06445813e+06,  7.41398342e+06,  7.12471046e+06,  8.65366227e+06,\n",
       "        3.27065073e+06,  8.44965273e+06,  6.46013641e+06,  7.50891477e+06,\n",
       "        4.42599471e+06,  2.49279267e+06,  7.95287448e+06,  7.82249409e+06,\n",
       "        5.25421336e+06,  8.16283771e+06,  6.71095617e+06,  6.70041431e+06,\n",
       "        7.51951125e+06,  8.74253068e+06,  4.17238928e+06,  6.05140726e+06,\n",
       "        4.73078005e+06,  7.41873545e+06,  7.99072685e+06,  7.43004200e+06,\n",
       "        7.75629340e+06,  3.76453406e+06,  3.88524653e+06,  6.79152219e+06,\n",
       "        8.85963817e+06,  8.81539513e+06,  8.79704247e+06,  8.88246976e+06,\n",
       "        8.76121107e+06,  2.33701350e+06,  8.92086834e+06,  7.77191502e+06,\n",
       "        8.54343703e+06,  1.62672165e+06,  6.26164359e+06,  4.09275182e+06,\n",
       "        7.01585075e+06,  7.02846820e+06,  7.05479554e+06,  8.53032799e+06,\n",
       "        5.49498285e+06,  2.93298353e+06,  8.93829245e+06,  7.55479643e+06,\n",
       "        4.19724184e+06, -1.40526268e+07,  6.22881636e+06,  6.32270990e+06,\n",
       "        8.64049860e+06,  7.62056015e+06,  7.84133834e+06,  8.84641988e+06,\n",
       "        7.21904097e+06,  8.91360374e+06,  8.44544691e+06,  7.31817814e+06,\n",
       "        8.31872613e+06,  4.52556884e+06,  8.59123043e+06,  7.54217897e+06,\n",
       "        8.80758433e+06,  8.32473444e+06,  6.35635646e+06,  8.92676741e+06,\n",
       "        1.95745197e+06,  8.81594134e+06,  8.47750945e+06,  7.50421736e+06,\n",
       "        7.30709007e+06,  8.69637591e+06,  7.54927971e+06,  8.57970540e+06,\n",
       "        6.38989377e+06,  4.76688454e+06,  8.31746984e+06,  7.46609188e+06,\n",
       "        3.75743333e+06,  6.37995274e+06,  6.47187993e+06,  5.06145575e+06,\n",
       "        5.34067844e+06,  6.44506101e+06,  5.29572534e+06,  6.34089871e+06,\n",
       "        5.76666784e+06,  4.24148488e+06,  8.69167850e+06,  7.35051379e+06,\n",
       "        8.24968515e+06,  4.69456630e+06,  8.87121782e+06,  8.92660355e+06,\n",
       "        7.20238156e+06,  8.33134358e+06,  7.94080323e+06,  6.94888537e+06,\n",
       "        2.08422738e+06,  8.18058955e+06,  2.64829874e+06,  8.69369948e+06,\n",
       "        7.73794074e+06,  8.38514530e+06,  4.97526377e+06,  8.71134207e+06,\n",
       "        8.29600378e+06,  4.83532469e+06,  8.52344574e+06,  7.66513091e+06,\n",
       "        8.21057649e+06,  2.38278592e+06,  7.36739168e+06,  4.74235970e+06,\n",
       "        7.15114703e+06,  3.16626994e+06,  8.24881121e+06,  8.43867390e+06,\n",
       "        5.37585438e+06,  8.48750510e+06,  8.11739302e+06,  8.01525169e+06,\n",
       "        4.35127314e+06,  5.54632661e+06,  7.73094924e+06,  8.11586363e+06,\n",
       "        8.13132138e+06,  6.52114810e+06,  4.94817174e+06, -3.33783820e+06])"
      ]
     },
     "execution_count": 31,
     "metadata": {},
     "output_type": "execute_result"
    }
   ],
   "source": [
    "# fit result\n",
    "lr.predict(x)"
   ]
  },
  {
   "cell_type": "code",
   "execution_count": 32,
   "metadata": {},
   "outputs": [
    {
     "data": {
      "text/plain": [
       "array([6.84231547e+06, 8.32078641e+06, 1.05104269e+06, 6.14993384e+06,\n",
       "       1.02574438e+07, 6.92696424e+06, 2.15556668e+05, 1.26057924e+07,\n",
       "       9.98981463e+06, 2.21226372e+06, 2.79287530e+06, 7.31003315e+06,\n",
       "       8.95864233e+06, 7.41796661e+06, 9.70527515e+06, 1.21257862e+07,\n",
       "       7.83358124e+06, 2.34809668e+06, 9.87093365e+06, 5.81339726e+06,\n",
       "       1.15759369e+07, 5.57200461e+06, 1.28612145e+07, 9.02072479e+06,\n",
       "       9.82589729e+06, 2.21771972e+06, 3.09887780e+06, 1.23439973e+07,\n",
       "       9.58395128e+06, 3.07182139e+06, 1.18312877e+07, 9.05875214e+06,\n",
       "       2.51349219e+06, 1.17013639e+07, 5.87613815e+06, 1.58921013e+06,\n",
       "       1.07926348e+07, 4.89778312e+06, 1.19719681e+07, 8.20660639e+06,\n",
       "       1.91640100e+06, 4.65315289e+06, 5.54888712e+06, 3.90282326e+06,\n",
       "       8.86576163e+04, 6.17374741e+06, 8.84341877e+06, 5.69487274e+06,\n",
       "       1.12203994e+06, 1.05825781e+07, 5.85936320e+06, 4.53541539e+05,\n",
       "       5.03902611e+06, 5.31553921e+06, 1.23677875e+06, 4.02796909e+06,\n",
       "       9.62248523e+06, 9.90768105e+06, 6.93569035e+05, 2.01158572e+06,\n",
       "       3.89989423e+06, 4.01174890e+06, 4.40575281e+06, 8.99533925e+06,\n",
       "       8.02303397e+05, 1.24899877e+07, 3.80325252e+05, 9.40053959e+06,\n",
       "       4.54048813e+06, 7.23315666e+06, 1.05720479e+07, 3.44752924e+06,\n",
       "       3.85159884e+06, 5.30781104e+06, 5.39367505e+06, 5.39935590e+05,\n",
       "       4.96039114e+06, 1.01059924e+07, 2.20162625e+06, 1.28151386e+07,\n",
       "       1.17990191e+07, 4.75764285e+06, 6.30893508e+06, 9.12861584e+06,\n",
       "       6.44010871e+06, 1.10529667e+07, 4.33246306e+06, 3.01035868e+05,\n",
       "       7.95012241e+06, 4.35218208e+06, 1.01590252e+07, 6.49345796e+06,\n",
       "       4.04172035e+05, 1.17611728e+07, 5.94293841e+06, 1.10380343e+07,\n",
       "       5.02408455e+06, 8.48535717e+05, 1.02372913e+06, 6.62308856e+06,\n",
       "       7.86705311e+06, 4.10229488e+06, 1.23992252e+07, 1.61183026e+06,\n",
       "       5.94747275e+06, 7.45859703e+06, 5.60981808e+06, 5.38766087e+05,\n",
       "       5.24007902e+05, 9.40036386e+06, 6.18451722e+06, 1.06028670e+07,\n",
       "       3.80654833e+06, 1.22736123e+06, 1.38141487e+06, 8.83691937e+06,\n",
       "       5.95948884e+06, 1.29653664e+07, 1.22781203e+07, 1.17968867e+06,\n",
       "       8.07874648e+06, 1.91890514e+06, 8.51671839e+06, 2.83259365e+06,\n",
       "       2.44046915e+06, 3.41431092e+06, 6.62114530e+06, 5.37749472e+06,\n",
       "       5.29714215e+06, 6.29289251e+06, 1.10491096e+07, 9.63443862e+06,\n",
       "       1.09434868e+07, 1.18799046e+07, 7.65411095e+06, 6.00532420e+06,\n",
       "       1.14732705e+07, 1.26342609e+06, 9.46899192e+06, 7.17757396e+06,\n",
       "       3.25944382e+06, 7.32707491e+06, 1.09306104e+07, 2.30270622e+06,\n",
       "       6.62229995e+06, 3.31708956e+06, 7.50162534e+06, 2.87230062e+06,\n",
       "       6.87352434e+06, 1.22888284e+06, 2.18123688e+06, 9.90349104e+06,\n",
       "       1.54210339e+05, 5.91750842e+06, 1.21459972e+07, 7.43750535e+06,\n",
       "       9.58178493e+04, 8.43556890e+06, 9.71349353e+06, 8.37078950e+06,\n",
       "       4.91688702e+06, 5.84302191e+06, 7.52003017e+06, 8.62124656e+06,\n",
       "       3.96118849e+06, 7.66037083e+06, 1.26734155e+07, 6.76385761e+06,\n",
       "       1.06257691e+07, 3.14424465e+06, 7.15487780e+06, 1.05739038e+07,\n",
       "       3.27473517e+06, 7.15730965e+06, 6.64521609e+06, 4.31299507e+06,\n",
       "       1.04142319e+07, 1.14592527e+06, 1.68142048e+06, 7.62719320e+06,\n",
       "       1.24456792e+07, 5.33975002e+06, 3.51475786e+06, 3.52933665e+06,\n",
       "       6.23690082e+05, 6.48820301e+06, 1.12453286e+07, 1.04568854e+07,\n",
       "       9.84509519e+06, 3.89489034e+06, 5.40537490e+06, 1.01972206e+07,\n",
       "       7.16072919e+06, 2.78902979e+06, 6.81202797e+06, 6.85307582e+06,\n",
       "       3.28019563e+06, 7.79422598e+06, 4.57621758e+06, 7.17672942e+06,\n",
       "       6.67295239e+06, 3.23540174e+06, 1.92146457e+06, 9.24036026e+05,\n",
       "       3.86764069e+06, 1.21584663e+07, 9.68004506e+06, 6.79119021e+06,\n",
       "       5.37610405e+06, 1.11406008e+07, 3.24411865e+05, 1.24878120e+05,\n",
       "       1.28719976e+07, 2.32373317e+06, 6.44578878e+06, 1.15439604e+07,\n",
       "       1.27266092e+07, 6.91794706e+06, 9.08045347e+06, 2.07661881e+06,\n",
       "       8.67917327e+06, 6.17822775e+06, 1.00582233e+07, 1.02243193e+06,\n",
       "       2.19052847e+06, 3.99563326e+05, 1.21955107e+07, 7.60309480e+06,\n",
       "       1.21784014e+07, 2.45702905e+06, 1.27946227e+07, 1.05140170e+07,\n",
       "       2.87357540e+06, 4.82725799e+06, 1.01791985e+07, 7.74939781e+06,\n",
       "       8.31150992e+06, 1.25246613e+07, 1.02225902e+07, 1.30022056e+07,\n",
       "       7.86827374e+06, 1.03412148e+07, 6.75214957e+06, 9.94317388e+06,\n",
       "       1.14240158e+07, 8.60028406e+06, 1.12726724e+06, 1.10309850e+07,\n",
       "       4.04624869e+05, 1.04767220e+07, 8.91928288e+06, 1.17813117e+07,\n",
       "       1.29877836e+07, 5.45141246e+06, 7.38728043e+05, 1.03640077e+07,\n",
       "       6.41419041e+06, 2.00032349e+06, 7.53812623e+05, 1.02910480e+06,\n",
       "       7.74828798e+06, 8.04912992e+06, 1.33072401e+06, 6.96663290e+06,\n",
       "       2.52087830e+06, 1.11806444e+07, 8.97756110e+06, 8.06776168e+06,\n",
       "       6.77999553e+06, 1.15265026e+07, 1.15431033e+07, 2.64374813e+04,\n",
       "       8.07040114e+06, 2.02349394e+06, 1.10581044e+07, 9.47696973e+05,\n",
       "       1.13658617e+07, 1.20163576e+06, 3.99291248e+06, 5.26475669e+06,\n",
       "       6.30566980e+06, 7.35520736e+06, 9.22153933e+05, 3.53967677e+06,\n",
       "       1.29711027e+07, 4.99316634e+06, 6.97952693e+06, 2.14547592e+06,\n",
       "       9.97051941e+06, 1.08183915e+07, 1.98841423e+06, 3.56064222e+06,\n",
       "       6.34087974e+06, 1.60638961e+06, 1.27628524e+07, 1.28807020e+07,\n",
       "       8.89302981e+06, 1.24826834e+07, 1.58168308e+06, 5.17547478e+06,\n",
       "       2.53922465e+06, 1.24283543e+07, 3.82737347e+06, 1.05034718e+07,\n",
       "       9.25600637e+06, 2.58128402e+06, 3.46291175e+06, 2.68977700e+06,\n",
       "       2.87771001e+06, 9.65950495e+06, 5.16901084e+06, 1.06044737e+07,\n",
       "       7.43199797e+06, 7.90315098e+05, 1.50834045e+06, 6.82439043e+06,\n",
       "       1.18962290e+07, 8.07925618e+06, 5.78967792e+06, 5.87951397e+06,\n",
       "       3.05138829e+06, 3.93683482e+06, 6.05098221e+06, 5.32551671e+06,\n",
       "       1.12324098e+07, 1.26428172e+07, 1.10572851e+07, 5.37429202e+06,\n",
       "       1.21415120e+07, 1.20121689e+07, 4.40746942e+06, 2.33804334e+06,\n",
       "       1.19819267e+07, 5.42493663e+06, 3.43597569e+06, 8.32695566e+06,\n",
       "       1.59122950e+06, 2.17406498e+06, 3.05066102e+05, 5.30893163e+06,\n",
       "       2.33045439e+06, 1.09991339e+07, 7.94199683e+06, 4.14425732e+06,\n",
       "       7.08763229e+06, 7.22984811e+06, 8.15470747e+05, 1.17969889e+07,\n",
       "       1.30269667e+07, 4.88354973e+06, 4.40417492e+05, 1.17048815e+07,\n",
       "       2.02657710e+06, 1.08272686e+07, 3.09778556e+06, 9.60406204e+06,\n",
       "       1.26088954e+07, 5.12488441e+06, 1.25781137e+07, 7.62713662e+05,\n",
       "       2.46556365e+06, 1.30333188e+07, 7.59304957e+06, 2.85124250e+06,\n",
       "       1.21756232e+07, 6.86748137e+06, 5.29764849e+05, 9.89176487e+06,\n",
       "       1.47277679e+06, 4.09263967e+06, 4.94101149e+06, 1.20691031e+07,\n",
       "       1.30021216e+07, 8.52223206e+06, 2.48073567e+06, 2.24044079e+06,\n",
       "       8.54548283e+06, 3.67719627e+06, 2.14950709e+06, 8.66261251e+06,\n",
       "       6.56310227e+06, 1.17739748e+07, 7.38883532e+06, 9.82975473e+06,\n",
       "       1.01868476e+07, 8.57849717e+06, 9.53082476e+06, 6.58396363e+06,\n",
       "       6.33744314e+05, 8.50768879e+06, 7.52667992e+06, 2.39186161e+06,\n",
       "       9.33615276e+06, 5.74286539e+06, 1.30601513e+06, 9.97880813e+06,\n",
       "       6.40601356e+06, 6.94067081e+06, 1.15433169e+07, 5.38611665e+06,\n",
       "       1.21708924e+07, 1.15881380e+07, 7.46368162e+06, 4.54227846e+04,\n",
       "       1.19750615e+07, 5.49096922e+06, 5.18517194e+06, 8.19579840e+06,\n",
       "       1.97293228e+06, 6.54172911e+06, 8.76465925e+06, 6.49334241e+05,\n",
       "       8.84711234e+06, 5.84975723e+06, 3.62382448e+06, 3.50974645e+06,\n",
       "       4.59049757e+06, 4.26691273e+05, 2.40694463e+06, 1.26188336e+07,\n",
       "       4.82699264e+06, 1.29668377e+07, 1.22403585e+07, 3.67705411e+05,\n",
       "       9.81575482e+06, 6.48638169e+06, 1.96206382e+06, 7.73497054e+05,\n",
       "       1.10198946e+07, 8.91799655e+06, 3.73889165e+05, 1.11687037e+07,\n",
       "       1.07527798e+07, 1.74957109e+06, 1.11683854e+07, 1.18819035e+07,\n",
       "       2.51473058e+06, 5.18325876e+06, 6.20623102e+06, 1.21496609e+07,\n",
       "       3.77318855e+06, 5.98635481e+06, 1.08247295e+07, 4.20747705e+06,\n",
       "       1.00688754e+07, 3.45573266e+06, 5.55942941e+06, 9.12843982e+06,\n",
       "       1.60068412e+06, 2.82477793e+06, 1.12186294e+07, 4.82129709e+06,\n",
       "       2.19429693e+06, 8.71137414e+06, 3.83282421e+06, 1.11391396e+07,\n",
       "       7.19131010e+06, 5.45089026e+06, 1.28086252e+07, 4.77255278e+06,\n",
       "       3.11705892e+06, 2.97393729e+06, 9.68044521e+06, 4.33628798e+06,\n",
       "       4.69365133e+05, 4.06754359e+06, 6.25195846e+06, 1.14758407e+07,\n",
       "       9.86347254e+05, 1.08701538e+07, 8.82373351e+06, 4.31275432e+06,\n",
       "       4.09474238e+06, 5.28982337e+06, 1.16204423e+07, 9.44456779e+06,\n",
       "       3.82017589e+05, 7.88901579e+06, 3.35434120e+06, 3.75450209e+06,\n",
       "       4.53451169e+06, 5.88751924e+06, 1.30245656e+07, 1.26229063e+07,\n",
       "       9.16111977e+06, 1.20737253e+07, 1.17495000e+07, 1.17167535e+07,\n",
       "       4.72819689e+06, 5.91302737e+06, 1.09324660e+07, 1.20803571e+07,\n",
       "       1.21598885e+07, 5.49680510e+06, 3.36561187e+06, 1.23144745e+06,\n",
       "       1.08629210e+07, 8.69144199e+06, 9.06574021e+06, 2.12322204e+06,\n",
       "       1.07036407e+07, 1.27317505e+07, 3.21351879e+06, 1.01712228e+06,\n",
       "       6.22204325e+06, 7.72826657e+06, 1.31829636e+06, 6.56166898e+06,\n",
       "       9.33333535e+06, 9.30979351e+06, 2.71424331e+05, 3.76778596e+06,\n",
       "       3.52523511e+06, 1.28834782e+07, 1.11198607e+07, 4.67270539e+03,\n",
       "       2.77160363e+06, 1.33202141e+05, 1.30786894e+07, 5.40901363e+06,\n",
       "       5.70890064e+06, 1.11395927e+07, 1.26908116e+07, 1.29078967e+07,\n",
       "       2.13185587e+06, 6.64509464e+06, 1.09312245e+07, 5.18299268e+06,\n",
       "       5.85192755e+06, 5.80618342e+06, 9.79514672e+06, 1.85136003e+05,\n",
       "       8.70500768e+06, 9.40277755e+05, 5.76161747e+06, 5.60130282e+06,\n",
       "       2.95230035e+05, 3.47167775e+06, 9.42253705e+06, 1.19176438e+07,\n",
       "       8.02250181e+05, 1.09973506e+07, 1.27501036e+07, 1.24343969e+07,\n",
       "       1.85781470e+06, 9.11528397e+05, 8.76646675e+06, 9.61633440e+06,\n",
       "       1.25151857e+07, 2.42778597e+06, 1.11054745e+07, 8.57152054e+06,\n",
       "       2.74469241e+05, 1.13194205e+07, 8.28663546e+06, 1.05346208e+07,\n",
       "       2.50747241e+06, 9.69548903e+06, 9.45717186e+06, 6.31641495e+06,\n",
       "       1.80669800e+06, 1.17761012e+07, 1.17106621e+07, 9.00605357e+06,\n",
       "       1.13655356e+07, 5.00250285e+06, 6.62863017e+06, 8.18207374e+06,\n",
       "       2.77489467e+06, 8.90618277e+06, 1.29609768e+07, 2.61074065e+06,\n",
       "       4.34957306e+06, 3.13328935e+06, 4.71418297e+06, 6.85552128e+06,\n",
       "       2.82692210e+06, 1.25609129e+07, 9.23426110e+06, 5.34192929e+06,\n",
       "       2.37144078e+06, 9.06759164e+06, 9.09209767e+06, 1.13833029e+07,\n",
       "       4.89091872e+06, 9.72560933e+06, 9.47696859e+05, 8.22239648e+06,\n",
       "       3.46076957e+06, 4.83286951e+06, 2.20243041e+06, 7.92165633e+06,\n",
       "       2.03620328e+06, 3.70049213e+06, 5.00381480e+06, 5.58144330e+06,\n",
       "       8.88231395e+06, 1.93328402e+06, 9.09211995e+06, 1.20467064e+07,\n",
       "       3.76460754e+06, 1.07984758e+06, 2.14502769e+06, 8.11160264e+06,\n",
       "       1.00874751e+07, 2.08170782e+06, 5.63649232e+06, 3.37122283e+06,\n",
       "       9.69177560e+06, 1.17811673e+07, 2.69982306e+06, 3.58120253e+06,\n",
       "       1.80416541e+06, 1.02353541e+07, 1.03081248e+07, 4.03586447e+06,\n",
       "       9.64210861e+06, 9.62471449e+06, 7.12041221e+06, 9.24308815e+06,\n",
       "       8.26420232e+06, 8.42412100e+06, 5.57090231e+06, 1.43400472e+05,\n",
       "       9.80708601e+06, 1.10324267e+07, 6.02985410e+06, 6.31307155e+06,\n",
       "       4.51292476e+06, 8.16171292e+06, 3.32930752e+06, 7.39695147e+06,\n",
       "       6.55810211e+06, 9.52162386e+06, 6.44654081e+06, 5.48197319e+06,\n",
       "       8.21911050e+06, 1.11334457e+07, 5.70056339e+06, 5.28222817e+06,\n",
       "       1.26171121e+07, 1.84795892e+06, 5.55542736e+06, 7.62331874e+06,\n",
       "       9.90267337e+05, 9.22012092e+06, 4.94214304e+06, 2.88407697e+06,\n",
       "       4.73884872e+06, 1.18027083e+06, 3.81478498e+06, 3.77828390e+06,\n",
       "       7.09071800e+06, 1.06420798e+07, 9.70627427e+06, 1.25427384e+07,\n",
       "       2.17310293e+06, 1.08582468e+07, 4.96868032e+06, 1.36017497e+06,\n",
       "       1.52423024e+06, 7.05792717e+05, 5.72339875e+06, 1.05743100e+07,\n",
       "       1.30929330e+06, 1.12520430e+07, 2.91359355e+06, 1.10967807e+07,\n",
       "       1.99970233e+06, 7.35646286e+06, 8.18169452e+06, 2.74263327e+06,\n",
       "       1.79681502e+06, 1.22490752e+07, 7.95539153e+06, 7.63176646e+06,\n",
       "       3.23038008e+06, 9.29001394e+06, 9.35721907e+06, 1.12156285e+07,\n",
       "       6.55138150e+06, 7.93524173e+05, 7.43694892e+06, 8.20616260e+06,\n",
       "       3.21132206e+06, 1.66210718e+06, 4.80245595e+06, 9.02804446e+06,\n",
       "       8.64038325e+06, 6.45549655e+06, 5.09845304e+06, 7.14857133e+06,\n",
       "       3.22839432e+06, 9.11904599e+06, 6.43693181e+06, 1.17706886e+07,\n",
       "       4.44692087e+06, 9.57518345e+06, 7.95224059e+06, 2.03994860e+06,\n",
       "       7.84064030e+06, 7.11638173e+06, 3.25196032e+06, 1.21433935e+07,\n",
       "       6.71391717e+06, 6.96138039e+06, 4.78988688e+04, 6.88585188e+06,\n",
       "       1.17591526e+07, 5.99899047e+05, 6.13449208e+05, 6.10940488e+06,\n",
       "       5.25302099e+06, 1.17465587e+07, 8.15113988e+06, 1.26843243e+07,\n",
       "       1.30056377e+07, 1.09794944e+07, 7.22794916e+06, 5.97954065e+06,\n",
       "       6.26017901e+06, 1.06720653e+06, 9.69013498e+06, 6.78901290e+05,\n",
       "       1.28600410e+07, 1.04080287e+07, 8.74748862e+06, 1.15279223e+06,\n",
       "       6.10003689e+06, 7.75616925e+06, 1.17101325e+07, 7.80029709e+06,\n",
       "       2.77656406e+06, 5.69217993e+05, 7.29989498e+06, 1.05621672e+07,\n",
       "       4.41313856e+06, 2.33133719e+06, 1.14056308e+07, 8.65808770e+06,\n",
       "       3.67820373e+06, 1.26829008e+07, 8.25249697e+06, 3.92221095e+06,\n",
       "       4.11962026e+06, 1.10845384e+07, 9.23532625e+06, 7.42424986e+06,\n",
       "       4.43825393e+05, 2.54335931e+06, 7.15767632e+06, 6.67733058e+06,\n",
       "       1.14054881e+07, 1.11266975e+07, 8.92564739e+06, 1.15069909e+07,\n",
       "       7.53056485e+06, 7.87917330e+06, 2.82849078e+06, 8.22949706e+06,\n",
       "       9.55177866e+06, 9.06692627e+06, 4.39132454e+06, 5.42615875e+06,\n",
       "       3.20944419e+06, 4.16434910e+06, 1.04802334e+07, 1.24984507e+06,\n",
       "       1.12815378e+07, 1.65966494e+06, 5.92048510e+06, 3.12281775e+06,\n",
       "       8.45188808e+06, 9.47410336e+06, 9.27756202e+06, 7.94539208e+06,\n",
       "       6.43238791e+06, 2.08795716e+06, 8.47714015e+05, 8.76481322e+06,\n",
       "       8.14866349e+06, 5.84892576e+06, 7.86719790e+06, 1.28073424e+06,\n",
       "       1.15792517e+06, 5.45213714e+05, 6.07649843e+06, 3.55561147e+06,\n",
       "       3.57921802e+06, 4.79504358e+06, 5.07048606e+06, 1.00273470e+07,\n",
       "       4.98774821e+06, 3.68707505e+06, 2.34159935e+06, 1.12962961e+07,\n",
       "       1.23982425e+07, 8.00693982e+06, 2.98235898e+06, 6.03286937e+05,\n",
       "       4.40842678e+06, 8.23380093e+06, 1.30664777e+07, 6.66816507e+06,\n",
       "       3.15031058e+06, 7.34659349e+06, 6.99353006e+06, 8.34514919e+06,\n",
       "       2.34888814e+06, 1.13490332e+06, 1.25111764e+07, 6.89770198e+06,\n",
       "       1.31149132e+07, 1.10454200e+07, 1.26214568e+07, 6.21764328e+06,\n",
       "       5.02400608e+06, 1.19645925e+07, 4.41303536e+06, 6.31257166e+06,\n",
       "       4.30327688e+06, 4.43581329e+06, 5.63083207e+06, 9.84589413e+06,\n",
       "       8.77450729e+06, 7.99635357e+06, 8.86588929e+06, 2.49860741e+06,\n",
       "       7.44140169e+06, 2.28197600e+06, 1.16655163e+06, 1.19156461e+07,\n",
       "       1.20687905e+05, 1.21883676e+07, 9.96236034e+06, 9.44961225e+06,\n",
       "       4.16345707e+06, 9.57554873e+06, 4.66693210e+06, 8.39990072e+06,\n",
       "       8.27513131e+06, 1.15219616e+07, 8.17050093e+06, 5.09186767e+06,\n",
       "       5.58277901e+06, 8.33543177e+06, 1.16205351e+07, 1.16018396e+07,\n",
       "       1.31197532e+07, 9.31496133e+06, 7.21826892e+06, 9.94371559e+06,\n",
       "       1.29590343e+07, 1.00747920e+07, 7.78943227e+06, 1.09533924e+07,\n",
       "       1.10857435e+07, 1.21522367e+07, 9.97444858e+05, 8.51127233e+06,\n",
       "       4.68571590e+06, 3.39018462e+06, 8.34811424e+06, 1.22221431e+07,\n",
       "       1.78261544e+06, 3.73681664e+06, 1.29423142e+07, 1.64289694e+06,\n",
       "       1.64345253e+06, 6.34828007e+06, 5.57969875e+06, 1.13777761e+07,\n",
       "       1.24222771e+06, 1.02984374e+07, 4.18873701e+06, 6.62679805e+06,\n",
       "       1.87565095e+06, 9.56280706e+05, 8.12932337e+06, 7.65090134e+06,\n",
       "       2.56827441e+06, 8.97462439e+06, 4.65989798e+06, 4.63915001e+06,\n",
       "       6.65803476e+06, 1.18860464e+07, 1.70902334e+06, 3.53284206e+06,\n",
       "       2.10165475e+06, 6.36215662e+06, 8.27518637e+06, 6.39434565e+06,\n",
       "       7.42073073e+06, 1.47602658e+06, 1.54100568e+06, 4.82464545e+06,\n",
       "       1.25983931e+07, 1.23247483e+07, 1.22108999e+07, 1.27450678e+07,\n",
       "       1.19969515e+07, 9.08705145e+05, 1.29900607e+07, 7.47428419e+06,\n",
       "       1.07792273e+07, 7.24650223e+05, 3.85367238e+06, 1.66039150e+06,\n",
       "       5.31876418e+06, 5.34819261e+06, 5.41130193e+06, 1.07097677e+07,\n",
       "       2.82303934e+06, 1.10709924e+06, 1.31056982e+07, 6.76646549e+06,\n",
       "       1.72449267e+06, 2.49961328e+04, 3.80147313e+06, 3.95355670e+06,\n",
       "       1.13043037e+07, 6.97099786e+06, 7.71774281e+06, 1.25159152e+07,\n",
       "       5.81774492e+06, 1.29442279e+07, 1.02762931e+07, 6.08004462e+06,\n",
       "       9.66834044e+06, 1.94623675e+06, 1.10328125e+07, 6.72752461e+06,\n",
       "       1.22767266e+07, 9.69577681e+06, 4.00997659e+06, 1.30298777e+07,\n",
       "       8.04292643e+05, 1.23290884e+07, 1.04387342e+07, 6.61170215e+06,\n",
       "       6.05096990e+06, 1.16180188e+07, 6.74873998e+06, 1.09717714e+07,\n",
       "       4.06603081e+06, 2.13036710e+06, 9.66336457e+06, 6.49989035e+06,\n",
       "       1.47227427e+06, 4.04970855e+06, 4.20878469e+06, 2.38369418e+06,\n",
       "       2.65658657e+06, 4.16158912e+06, 2.61035955e+06, 3.98383551e+06,\n",
       "       3.14712842e+06, 1.75256583e+06, 1.15904057e+07, 6.17008069e+06,\n",
       "       9.35319410e+06, 2.07305717e+06, 1.26731776e+07, 1.30295817e+07,\n",
       "       5.77481432e+06, 9.72735055e+06, 8.08353941e+06, 5.16556112e+06,\n",
       "       8.37519375e+05, 9.05109082e+06, 1.00651515e+06, 1.16040784e+07,\n",
       "       7.35812762e+06, 9.98135789e+06, 2.30599839e+06, 1.17056580e+07,\n",
       "       9.56428384e+06, 2.18633691e+06, 1.06732585e+07, 7.11585803e+06,\n",
       "       9.17983612e+06, 9.22379138e+05, 6.21667597e+06, 2.11065793e+06,\n",
       "       5.64601759e+06, 1.19836748e+06, 9.34982379e+06, 1.02431674e+07,\n",
       "       2.69339615e+06, 1.04884881e+07, 8.78262796e+06, 8.36969042e+06,\n",
       "       1.82469740e+06, 2.88146095e+06, 7.33275912e+06, 8.77662658e+06,\n",
       "       8.84264522e+06, 4.29765575e+06, 2.28230661e+06, 1.86849988e+05])"
      ]
     },
     "execution_count": 32,
     "metadata": {},
     "output_type": "execute_result"
    }
   ],
   "source": [
    "y"
   ]
  },
  {
   "cell_type": "code",
   "execution_count": null,
   "metadata": {},
   "outputs": [],
   "source": [
    "import numpy as np\n",
    "import matplotlib.pyplot as plt\n",
    "\n",
    "from matplotlib.ticker import NullFormatter  # useful for `logit` scale\n",
    "\n",
    "# Fixing random state for reproducibility\n",
    "np.random.seed(19680801)\n",
    "\n",
    "# make up some data in the interval ]0, 1[\n",
    "y = np.random.normal(loc=0.5, scale=0.4, size=1000)\n",
    "y = y[(y > 0) & (y < 1)]\n",
    "y.sort()\n",
    "x = np.arange(len(y))\n",
    "\n",
    "# plot with various axes scales\n",
    "plt.figure(1)\n",
    "\n",
    "# linear\n",
    "plt.subplot(221)\n",
    "plt.plot(x, y)\n",
    "plt.yscale('linear')\n",
    "plt.title('linear')\n",
    "plt.grid(True)\n",
    "\n",
    "\n",
    "# log\n",
    "plt.subplot(222)\n",
    "plt.plot(x, y)\n",
    "plt.yscale('log')\n",
    "plt.title('log')\n",
    "plt.grid(True)\n",
    "\n",
    "\n",
    "# symmetric log\n",
    "plt.subplot(223)\n",
    "plt.plot(x, y - y.mean())\n",
    "plt.yscale('symlog', linthreshy=0.01)\n",
    "plt.title('symlog')\n",
    "plt.grid(True)\n",
    "\n",
    "# logit\n",
    "plt.subplot(224)\n",
    "plt.plot(x, y)\n",
    "plt.yscale('logit')\n",
    "plt.title('logit')\n",
    "plt.grid(True)\n",
    "# Format the minor tick labels of the y-axis into empty strings with\n",
    "# `NullFormatter`, to avoid cumbering the axis with too many labels.\n",
    "plt.gca().yaxis.set_minor_formatter(NullFormatter())\n",
    "# Adjust the subplot layout, because the logit one may take more space\n",
    "# than usual, due to y-tick labels like \"1 - 10^{-3}\"\n",
    "plt.subplots_adjust(top=0.92, bottom=0.08, left=0.10, right=0.95, hspace=0.25,\n",
    "                    wspace=0.35)\n",
    "\n",
    "plt.show()"
   ]
  },
  {
   "cell_type": "markdown",
   "metadata": {},
   "source": [
    "# =============================\n"
   ]
  }
 ],
 "metadata": {
  "kernelspec": {
   "display_name": "Python 3",
   "language": "python",
   "name": "python3"
  },
  "language_info": {
   "codemirror_mode": {
    "name": "ipython",
    "version": 3
   },
   "file_extension": ".py",
   "mimetype": "text/x-python",
   "name": "python",
   "nbconvert_exporter": "python",
   "pygments_lexer": "ipython3",
   "version": "3.6.4"
  }
 },
 "nbformat": 4,
 "nbformat_minor": 2
}
