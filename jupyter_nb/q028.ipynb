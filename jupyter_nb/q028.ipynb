{
 "cells": [
  {
   "cell_type": "markdown",
   "metadata": {},
   "source": [
    "# Q028 Number spiral diagonals\n",
    "Starting with the number 1 and moving to the right in a clockwise direction a 5 by 5 spiral is formed as follows:\n",
    "\n",
    "    21 22 23 24 25\n",
    "    20  7  8  9 10\n",
    "    19  6  1  2 11\n",
    "    18  5  4  3 12\n",
    "    17 16 15 14 13\n",
    "\n",
    "It can be verified that the sum of the numbers on the diagonals is 101.\n",
    "\n",
    "What is the sum of the numbers on the diagonals in a 1001 by 1001 spiral formed in the same way?\n"
   ]
  },
  {
   "cell_type": "code",
   "execution_count": 5,
   "metadata": {},
   "outputs": [
    {
     "name": "stdout",
     "output_type": "stream",
     "text": [
      "1\n",
      "3\n",
      "5\n",
      "7\n",
      "9\n"
     ]
    }
   ],
   "source": [
    "n=9\n",
    "for i in range(1,n+1,2):\n",
    "    print(i)\n"
   ]
  },
  {
   "cell_type": "code",
   "execution_count": 3,
   "metadata": {},
   "outputs": [
    {
     "name": "stdout",
     "output_type": "stream",
     "text": [
      "1 1\n",
      "3 9\n",
      "5 25\n",
      "7 49\n",
      "9 81\n"
     ]
    }
   ],
   "source": [
    "n=9\n",
    "for i in range(1,n+1,2):\n",
    "    print(i, pow(i,2))\n"
   ]
  },
  {
   "cell_type": "code",
   "execution_count": 6,
   "metadata": {},
   "outputs": [
    {
     "name": "stdout",
     "output_type": "stream",
     "text": [
      "1 1\n",
      "diaginal number: 1 1 1\n",
      "3 9\n",
      "diaginal number: 7 5 3\n",
      "5 25\n",
      "diaginal number: 21 17 13\n",
      "7 49\n",
      "diaginal number: 43 37 31\n",
      "9 81\n",
      "diaginal number: 73 65 57\n"
     ]
    }
   ],
   "source": [
    "n=9\n",
    "for i in range(1,n+1,2):\n",
    "    print(i, pow(i,2))\n",
    "    print(\"diaginal number:\",pow(i,2)-i+1,pow(i,2)-i*2+2,pow(i,2)-i*3+3)\n"
   ]
  },
  {
   "cell_type": "code",
   "execution_count": 9,
   "metadata": {},
   "outputs": [
    {
     "name": "stdout",
     "output_type": "stream",
     "text": [
      "dimension: 1 value: 1\n",
      "dimension: 3 value: 9\n",
      "diaginal number: 7 5 3\n",
      "25\n",
      "dimension: 5 value: 25\n",
      "diaginal number: 21 17 13\n",
      "101\n",
      "dimension: 7 value: 49\n",
      "diaginal number: 43 37 31\n",
      "261\n",
      "dimension: 9 value: 81\n",
      "diaginal number: 73 65 57\n",
      "537\n"
     ]
    }
   ],
   "source": [
    "n=9;total=0\n",
    "for i in range(1,n+1,2):\n",
    "    value=pow(i,2)\n",
    "    print(\"dimension:\",i, \"value:\",value)\n",
    "    if i>1:\n",
    "        print(\"diaginal number:\",value-(i-1),value-(i-1)*2,value-(i-1)*3)\n",
    "        total=total+value*4-(i-1)*6\n",
    "        print(total)\n",
    "    else:\n",
    "        total+=i\n"
   ]
  },
  {
   "cell_type": "code",
   "execution_count": 10,
   "metadata": {},
   "outputs": [
    {
     "name": "stdout",
     "output_type": "stream",
     "text": [
      "669171001\n"
     ]
    }
   ],
   "source": [
    "n=1001;total=0\n",
    "for i in range(1,n+1,2):\n",
    "    value=pow(i,2)\n",
    "    if i>1:\n",
    "        total=total+value*4-(i-1)*6\n",
    "    else:\n",
    "        total+=i\n",
    "print(total)"
   ]
  }
 ],
 "metadata": {
  "kernelspec": {
   "display_name": "Python 3",
   "language": "python",
   "name": "python3"
  },
  "language_info": {
   "codemirror_mode": {
    "name": "ipython",
    "version": 3
   },
   "file_extension": ".py",
   "mimetype": "text/x-python",
   "name": "python",
   "nbconvert_exporter": "python",
   "pygments_lexer": "ipython3",
   "version": "3.6.2"
  }
 },
 "nbformat": 4,
 "nbformat_minor": 2
}
