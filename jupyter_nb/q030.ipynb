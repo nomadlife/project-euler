{
 "cells": [
  {
   "cell_type": "markdown",
   "metadata": {},
   "source": [
    "# Q030 Digit fifth powers\n",
    "\n",
    "\n",
    "Surprisingly there are only three numbers that can be written as the sum of fourth powers of their digits:\n",
    "\n",
    ">$1634 = 1^4 + 6^4 + 3^4 + 4^4$<br>\n",
    "$8208 = 8^4 + 2^4 + 0^4 + 8^4$<br>\n",
    "$9474 = 9^4 + 4^4 + 7^4 + 4^4$<br>\n",
    "\n",
    "As 1 = $1^4$ is not a sum it is not included.\n",
    "\n",
    "The sum of these numbers is 1634 + 8208 + 9474 = 19316.\n",
    "\n",
    "Find the sum of all the numbers that can be written as the sum of fifth powers of their digits.\n",
    "\n"
   ]
  },
  {
   "cell_type": "code",
   "execution_count": 10,
   "metadata": {},
   "outputs": [
    {
     "name": "stdout",
     "output_type": "stream",
     "text": [
      "1634\n",
      "8208\n",
      "9474\n"
     ]
    }
   ],
   "source": [
    "# 예제 테스트 : 4제곱의 합\n",
    "\n",
    "for i in range(2,10000):\n",
    "    string=str(i)\n",
    "    value=0\n",
    "    for j in string:\n",
    "        value+=pow(int(j),4)\n",
    "    if i == value:\n",
    "        print(i)"
   ]
  },
  {
   "cell_type": "code",
   "execution_count": 12,
   "metadata": {},
   "outputs": [
    {
     "name": "stdout",
     "output_type": "stream",
     "text": [
      "4150\n",
      "4151\n"
     ]
    }
   ],
   "source": [
    "# 문제 테스트 : 5제곱의 합.\n",
    "\n",
    "for i in range(2,10000):\n",
    "    string=str(i)\n",
    "    value=0\n",
    "    for j in string:\n",
    "        value+=pow(int(j),5) # 5\n",
    "    if i == value:\n",
    "        print(i)"
   ]
  },
  {
   "cell_type": "code",
   "execution_count": 11,
   "metadata": {},
   "outputs": [
    {
     "name": "stdout",
     "output_type": "stream",
     "text": [
      "4150\n",
      "4151\n",
      "54748\n",
      "92727\n",
      "93084\n"
     ]
    }
   ],
   "source": [
    "# 어디까지 계산해야 될지 모르니, 일단 10만 까지 해봄.\n",
    "# 계산 결과 있음\n",
    "\n",
    "for i in range(2,100000):  # 100000\n",
    "    string=str(i)\n",
    "    value=0\n",
    "    for j in string:\n",
    "        value+=pow(int(j),5)\n",
    "    if i == value:\n",
    "        print(i)"
   ]
  },
  {
   "cell_type": "code",
   "execution_count": 17,
   "metadata": {},
   "outputs": [
    {
     "name": "stdout",
     "output_type": "stream",
     "text": [
      "4150\n",
      "4151\n",
      "54748\n",
      "92727\n",
      "93084\n",
      "194979\n"
     ]
    }
   ],
   "source": [
    "# 백만까지, 도 역시 결과 있음.\n",
    "\n",
    "for i in range(2,1000000): # 1000000\n",
    "    string=str(i)\n",
    "    value=0\n",
    "    for j in string:\n",
    "        value+=pow(int(j),5)\n",
    "    if i == value:\n",
    "        print(i)"
   ]
  },
  {
   "cell_type": "code",
   "execution_count": 24,
   "metadata": {},
   "outputs": [
    {
     "name": "stdout",
     "output_type": "stream",
     "text": [
      "1 digit 9 6561\n",
      "2 digit 99 13122\n",
      "3 digit 999 19683\n",
      "4 digit 9999 26244\n",
      "5 digit 99999 32805\n",
      "6 digit 999999 39366\n",
      "7 digit 9999999 45927\n",
      "8 digit 99999999 52488\n"
     ]
    }
   ],
   "source": [
    "# 어디까지 값이 나오는지, 수학적 성질을 확인\n",
    "# 각자릿수의 4제곱을 했을때, 가장 큰수일경우인 모든 자리가 9로 가정하고 값을 확인.\n",
    "# 아래 결과를 보면, 5 자리 까지는 4제곱의 값이 같은 5자리까지 나오는게 가능.\n",
    "# 6 자리 부터는 최대값인 999999 의 각 자리 4제곱의 합이 최대 5 자리 밖에 안나옴.\n",
    "# 그러므로 6자리 이후로는 해당 성질을 만족하는 수가 없음.\n",
    "\n",
    "#limit prove, fourth power\n",
    "print(\"1 digit 9\",pow(9,4))\n",
    "print(\"2 digit 99\",pow(9,4)*2)\n",
    "print(\"3 digit 999\",pow(9,4)*3)\n",
    "print(\"4 digit 9999\",pow(9,4)*4)\n",
    "print(\"5 digit 99999\",pow(9,4)*5)\n",
    "print(\"6 digit 999999\",pow(9,4)*6) # from six digit, impossible\n",
    "print(\"7 digit 9999999\",pow(9,4)*7)\n",
    "print(\"8 digit 99999999\",pow(9,4)*8)"
   ]
  },
  {
   "cell_type": "code",
   "execution_count": 25,
   "metadata": {},
   "outputs": [
    {
     "name": "stdout",
     "output_type": "stream",
     "text": [
      "1 digit 9 59049\n",
      "2 digit 99 118098\n",
      "3 digit 999 177147\n",
      "4 digit 9999 236196\n",
      "5 digit 99999 295245\n",
      "6 digit 999999 354294\n",
      "7 digit 9999999 413343\n",
      "8 digit 99999999 472392\n"
     ]
    }
   ],
   "source": [
    "# 같은 원리로, 5제곱에 대해서도 각자리에 9를 채워놓고, 테스트해보면,\n",
    "# 6자리까지 값이 가능하고,  7자리 부터는 불가능.\n",
    "# 그러므로 루프의 한계값은 백만이 적당함.\n",
    "\n",
    "#limit prove, fifth power\n",
    "print(\"1 digit 9\",pow(9,5))\n",
    "print(\"2 digit 99\",pow(9,5)*2)\n",
    "print(\"3 digit 999\",pow(9,5)*3)\n",
    "print(\"4 digit 9999\",pow(9,5)*4)\n",
    "print(\"5 digit 99999\",pow(9,5)*5)\n",
    "print(\"6 digit 999999\",pow(9,5)*6)\n",
    "print(\"7 digit 9999999\",pow(9,5)*7) # from seven digit, impossible\n",
    "print(\"8 digit 99999999\",pow(9,5)*8)"
   ]
  },
  {
   "cell_type": "code",
   "execution_count": 26,
   "metadata": {},
   "outputs": [
    {
     "name": "stdout",
     "output_type": "stream",
     "text": [
      "4150\n",
      "4151\n",
      "54748\n",
      "92727\n",
      "93084\n",
      "194979\n",
      "443839\n"
     ]
    }
   ],
   "source": [
    "# 누적하여 합계를 계산\n",
    "\n",
    "total=0\n",
    "for i in range(2,1000000):\n",
    "    string=str(i)\n",
    "    value=0\n",
    "    for j in string:\n",
    "        value+=pow(int(j),5)\n",
    "    if i == value:\n",
    "        print(i)\n",
    "        total+=i\n",
    "print(total)"
   ]
  }
 ],
 "metadata": {
  "kernelspec": {
   "display_name": "Python 3",
   "language": "python",
   "name": "python3"
  },
  "language_info": {
   "codemirror_mode": {
    "name": "ipython",
    "version": 3
   },
   "file_extension": ".py",
   "mimetype": "text/x-python",
   "name": "python",
   "nbconvert_exporter": "python",
   "pygments_lexer": "ipython3",
   "version": "3.5.2"
  }
 },
 "nbformat": 4,
 "nbformat_minor": 2
}
