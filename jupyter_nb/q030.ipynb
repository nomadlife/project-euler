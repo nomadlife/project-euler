{
 "cells": [
  {
   "cell_type": "markdown",
   "metadata": {},
   "source": [
    "# Q030 Digit fifth powers\n",
    "\n",
    "\n",
    "Surprisingly there are only three numbers that can be written as the sum of fourth powers of their digits:\n",
    "\n",
    ">$1634 = 1^4 + 6^4 + 3^4 + 4^4$<br>\n",
    "$8208 = 8^4 + 2^4 + 0^4 + 8^4$<br>\n",
    "$9474 = 9^4 + 4^4 + 7^4 + 4^4$<br>\n",
    "\n",
    "As 1 = $1^4$ is not a sum it is not included.\n",
    "\n",
    "The sum of these numbers is 1634 + 8208 + 9474 = 19316.\n",
    "\n",
    "Find the sum of all the numbers that can be written as the sum of fifth powers of their digits.\n",
    "\n"
   ]
  },
  {
   "cell_type": "code",
   "execution_count": 10,
   "metadata": {},
   "outputs": [
    {
     "name": "stdout",
     "output_type": "stream",
     "text": [
      "1634\n",
      "8208\n",
      "9474\n"
     ]
    }
   ],
   "source": [
    "# 예제 테스트 : 4제곱의 합\n",
    "\n",
    "for i in range(2,10000):\n",
    "    string=str(i)\n",
    "    value=0\n",
    "    for j in string:\n",
    "        value+=pow(int(j),4)\n",
    "    if i == value:\n",
    "        print(i)"
   ]
  },
  {
   "cell_type": "code",
   "execution_count": 12,
   "metadata": {},
   "outputs": [
    {
     "name": "stdout",
     "output_type": "stream",
     "text": [
      "4150\n",
      "4151\n"
     ]
    }
   ],
   "source": [
    "# 문제 테스트 : 5제곱의 합.\n",
    "\n",
    "for i in range(2,10000):\n",
    "    string=str(i)\n",
    "    value=0\n",
    "    for j in string:\n",
    "        value+=pow(int(j),5) # 5\n",
    "    if i == value:\n",
    "        print(i)"
   ]
  },
  {
   "cell_type": "code",
   "execution_count": 11,
   "metadata": {},
   "outputs": [
    {
     "name": "stdout",
     "output_type": "stream",
     "text": [
      "4150\n",
      "4151\n",
      "54748\n",
      "92727\n",
      "93084\n"
     ]
    }
   ],
   "source": [
    "# 어디까지 계산해야 될지 모르니, 일단 10만 까지 해봄.\n",
    "# 계산 결과 있음\n",
    "\n",
    "for i in range(2,100000):  # 100000\n",
    "    string=str(i)\n",
    "    value=0\n",
    "    for j in string:\n",
    "        value+=pow(int(j),5)\n",
    "    if i == value:\n",
    "        print(i)"
   ]
  },
  {
   "cell_type": "code",
   "execution_count": 17,
   "metadata": {},
   "outputs": [
    {
     "name": "stdout",
     "output_type": "stream",
     "text": [
      "4150\n",
      "4151\n",
      "54748\n",
      "92727\n",
      "93084\n",
      "194979\n"
     ]
    }
   ],
   "source": [
    "# 백만까지, 도 역시 결과 있음.\n",
    "\n",
    "for i in range(2,1000000): # 1000000\n",
    "    string=str(i)\n",
    "    value=0\n",
    "    for j in string:\n",
    "        value+=pow(int(j),5)\n",
    "    if i == value:\n",
    "        print(i)"
   ]
  },
  {
   "cell_type": "code",
   "execution_count": 24,
   "metadata": {},
   "outputs": [
    {
     "name": "stdout",
     "output_type": "stream",
     "text": [
      "1 digit 9 6561\n",
      "2 digit 99 13122\n",
      "3 digit 999 19683\n",
      "4 digit 9999 26244\n",
      "5 digit 99999 32805\n",
      "6 digit 999999 39366\n",
      "7 digit 9999999 45927\n",
      "8 digit 99999999 52488\n"
     ]
    }
   ],
   "source": [
    "# 어디까지 값이 나오는지, 수학적 성질을 확인\n",
    "# 각자릿수의 4제곱을 했을때, 가장 큰수일경우인 모든 자리가 9로 가정하고 값을 확인.\n",
    "# 아래 결과를 보면, 5 자리 까지는 4제곱의 값이 같은 5자리까지 나오는게 가능.\n",
    "# 6 자리 부터는 최대값인 999999 의 각 자리 4제곱의 합이 최대 5 자리 밖에 안나옴.\n",
    "# 그러므로 6자리 이후로는 해당 성질을 만족하는 수가 없음.\n",
    "\n",
    "#limit prove, fourth power\n",
    "print(\"1 digit 9\",pow(9,4))\n",
    "print(\"2 digit 99\",pow(9,4)*2)\n",
    "print(\"3 digit 999\",pow(9,4)*3)\n",
    "print(\"4 digit 9999\",pow(9,4)*4)\n",
    "print(\"5 digit 99999\",pow(9,4)*5)\n",
    "print(\"6 digit 999999\",pow(9,4)*6) # from six digit, impossible\n",
    "print(\"7 digit 9999999\",pow(9,4)*7)\n",
    "print(\"8 digit 99999999\",pow(9,4)*8)"
   ]
  },
  {
   "cell_type": "code",
   "execution_count": 25,
   "metadata": {},
   "outputs": [
    {
     "name": "stdout",
     "output_type": "stream",
     "text": [
      "1 digit 9 59049\n",
      "2 digit 99 118098\n",
      "3 digit 999 177147\n",
      "4 digit 9999 236196\n",
      "5 digit 99999 295245\n",
      "6 digit 999999 354294\n",
      "7 digit 9999999 413343\n",
      "8 digit 99999999 472392\n"
     ]
    }
   ],
   "source": [
    "# 같은 원리로, 5제곱에 대해서도 각자리에 9를 채워놓고, 테스트해보면,\n",
    "# 6자리까지 값이 가능하고,  7자리 부터는 불가능.\n",
    "# 그러므로 루프의 한계값은 백만이 적당함.\n",
    "\n",
    "#limit prove, fifth power\n",
    "print(\"1 digit 9\",pow(9,5))\n",
    "print(\"2 digit 99\",pow(9,5)*2)\n",
    "print(\"3 digit 999\",pow(9,5)*3)\n",
    "print(\"4 digit 9999\",pow(9,5)*4)\n",
    "print(\"5 digit 99999\",pow(9,5)*5)\n",
    "print(\"6 digit 999999\",pow(9,5)*6)\n",
    "print(\"7 digit 9999999\",pow(9,5)*7) # from seven digit, impossible\n",
    "print(\"8 digit 99999999\",pow(9,5)*8)"
   ]
  },
  {
   "cell_type": "code",
   "execution_count": 26,
   "metadata": {},
   "outputs": [
    {
     "name": "stdout",
     "output_type": "stream",
     "text": [
      "4150\n",
      "4151\n",
      "54748\n",
      "92727\n",
      "93084\n",
      "194979\n",
      "443839\n"
     ]
    }
   ],
   "source": [
    "# 누적하여 합계를 계산\n",
    "\n",
    "total=0\n",
    "for i in range(2,1000000):\n",
    "    string=str(i)\n",
    "    value=0\n",
    "    for j in string:\n",
    "        value+=pow(int(j),5)\n",
    "    if i == value:\n",
    "        print(i)\n",
    "        total+=i\n",
    "print(total)"
   ]
  },
  {
   "cell_type": "code",
   "execution_count": null,
   "metadata": {},
   "outputs": [],
   "source": [
    "#forum-1\n",
    "ans = 0\n",
    "fifth_powers = [ i**5 for i in range(0,10)]\n",
    "for i in range(2,6*(9**5)):\n",
    "    v = 0\n",
    "    for j in str(i): v += fifth_powers[int(j)]\n",
    "    if v == i: ans += i\n",
    "print(ans)"
   ]
  },
  {
   "cell_type": "code",
   "execution_count": null,
   "metadata": {},
   "outputs": [],
   "source": [
    "#forum-2\n",
    "answer=[]\n",
    "for number in range(2,6*9**5) :\n",
    "    a=0\n",
    "    for x in str(number) :\n",
    "        a += int(x)**5\n",
    "    if a == number :\n",
    "        answer.append(a)\n",
    "\n",
    "print(answer,sum(answer))"
   ]
  },
  {
   "cell_type": "code",
   "execution_count": null,
   "metadata": {},
   "outputs": [],
   "source": [
    "#fourm-3\n",
    "sum([i for i in range(2,1000000) if i == sum([int(x) ** 5 for x in str(i)])])"
   ]
  },
  {
   "cell_type": "code",
   "execution_count": null,
   "metadata": {},
   "outputs": [],
   "source": [
    "#forum-4\n",
    "\n",
    "ceiling =(9**5)*5\n",
    "fifth_powers = []\n",
    "for i in range(1,ceiling+1):\n",
    "    numbers = list(str(i))\n",
    "    sum_fifths = 0\n",
    "    for num in numbers:\n",
    "        sum_fifths += int(num)**5\n",
    "    if i == sum_fifths:\n",
    "        fifth_powers.append(i)\n",
    "        \n",
    "sum(fifth_powers) - 1 ##1 is not included"
   ]
  },
  {
   "cell_type": "code",
   "execution_count": null,
   "metadata": {},
   "outputs": [],
   "source": [
    "#forum-5\n",
    "print sum([i for i in range(2, pow(9, 5)*4 + 1) if i == sum([pow(int(j), 5) for j in str(i)])])"
   ]
  },
  {
   "cell_type": "code",
   "execution_count": null,
   "metadata": {},
   "outputs": [],
   "source": [
    "#forum-6\n",
    "import time\n",
    "\n",
    "start = time.clock()\n",
    "\n",
    "\n",
    "lst = []\n",
    "largest_fifth = 5*9**5\n",
    "\n",
    "for i in range(2,largest_fifth+1):\n",
    "    str_i = str(i)\n",
    "    count = 0\n",
    "    for k in str(i):\n",
    "        count += int(k)**5\n",
    "    if i == count:\n",
    "        lst.append(i)\n",
    "\n",
    "print (lst)\n",
    "print (sum(lst))\n",
    "\n",
    "\n",
    "\n",
    "end = time.clock()\n",
    "print ('Use time: ', end-start, ' seconds.')"
   ]
  },
  {
   "cell_type": "code",
   "execution_count": null,
   "metadata": {},
   "outputs": [],
   "source": [
    "#forum-7\n",
    "max_limit = (9**5) * 6\n",
    "\n",
    "\n",
    "def compute_five_power(number):\n",
    "    return number == sum([int(i) ** 5 for i in str(number)])\n",
    "\n",
    "print sum(filter(compute_five_power, range(2,max_limit+1)))"
   ]
  },
  {
   "cell_type": "code",
   "execution_count": null,
   "metadata": {},
   "outputs": [],
   "source": [
    "#forum-8\n",
    "#Project Euler\n",
    "#Problem 30\n",
    "#Jesse Hamer\n",
    "#12/21/17\n",
    "\n",
    "#Find the sum of all numbers that can be written as the fifth powers of their\n",
    "#digits.\n",
    "\n",
    "import sys\n",
    "sys.path.insert(0, '/Users/jhamer90811/Documents/Project Euler')\n",
    "\n",
    "from myfuncs.digit_funcs import get_digits\n",
    "\n",
    "total = 0\n",
    "\n",
    "for x in range(2,1000000):\n",
    "    if x == sum([i**5 for i in get_digits(x)]):\n",
    "        print(x)\n",
    "        total = total+x\n",
    "        \n",
    "print(total)\n",
    "\n",
    "sys.path.pop(0)"
   ]
  }
 ],
 "metadata": {
  "kernelspec": {
   "display_name": "Python 3",
   "language": "python",
   "name": "python3"
  },
  "language_info": {
   "codemirror_mode": {
    "name": "ipython",
    "version": 3
   },
   "file_extension": ".py",
   "mimetype": "text/x-python",
   "name": "python",
   "nbconvert_exporter": "python",
   "pygments_lexer": "ipython3",
   "version": "3.5.3"
  }
 },
 "nbformat": 4,
 "nbformat_minor": 2
}
