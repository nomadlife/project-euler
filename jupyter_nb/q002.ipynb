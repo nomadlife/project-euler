{
 "cells": [
  {
   "cell_type": "code",
   "execution_count": 4,
   "metadata": {},
   "outputs": [
    {
     "name": "stdout",
     "output_type": "stream",
     "text": [
      "1\n",
      "2\n",
      "3\n",
      "5\n",
      "8\n",
      "13\n",
      "21\n",
      "34\n",
      "55\n",
      "89\n"
     ]
    }
   ],
   "source": [
    "#피보나치 수열 만들기 -1\n",
    "\n",
    "i=1; previous_i = 1\n",
    "while True:\n",
    "    if i>100:\n",
    "        break\n",
    "    print(i)\n",
    "    next_i = previous_i + i\n",
    "    previous_i = i\n",
    "    i = next_i"
   ]
  },
  {
   "cell_type": "code",
   "execution_count": 3,
   "metadata": {
    "scrolled": true
   },
   "outputs": [
    {
     "name": "stdout",
     "output_type": "stream",
     "text": [
      "1\n",
      "2\n",
      "3\n",
      "5\n",
      "8\n",
      "13\n",
      "21\n",
      "34\n",
      "55\n",
      "89\n"
     ]
    }
   ],
   "source": [
    "#피보나치 수열 만들기 -2\n",
    "\n",
    "a=1;b=1\n",
    "while True :\n",
    "    if b>100 :\n",
    "        break\n",
    "    print(b)\n",
    "    a,b = b,a+b"
   ]
  },
  {
   "cell_type": "code",
   "execution_count": 8,
   "metadata": {},
   "outputs": [
    {
     "name": "stdout",
     "output_type": "stream",
     "text": [
      "1, 0\n",
      "2, 2\n",
      "3, 2\n",
      "5, 2\n",
      "8, 10\n",
      "13, 10\n",
      "21, 10\n",
      "34, 44\n",
      "55, 44\n",
      "89, 44\n",
      "144, 188\n",
      "233, 188\n",
      "377, 188\n",
      "610, 798\n",
      "987, 798\n",
      "1597, 798\n",
      "2584, 3382\n",
      "4181, 3382\n",
      "6765, 3382\n",
      "10946, 14328\n",
      "17711, 14328\n",
      "28657, 14328\n",
      "46368, 60696\n",
      "75025, 60696\n",
      "121393, 60696\n",
      "196418, 257114\n",
      "317811, 257114\n",
      "514229, 257114\n",
      "832040, 1089154\n",
      "1346269, 1089154\n",
      "2178309, 1089154\n",
      "3524578, 4613732\n"
     ]
    }
   ],
   "source": [
    "a=1;b=1;total=0\n",
    "while True :\n",
    "    if b>4000000 :\n",
    "        break\n",
    "    print(b,end=', ')\n",
    "    if b%2==0:\n",
    "        total = total + b\n",
    "    print(total)\n",
    "    a,b = b,a+b\n",
    "        "
   ]
  }
 ],
 "metadata": {
  "kernelspec": {
   "display_name": "Python 3",
   "language": "python",
   "name": "python3"
  },
  "language_info": {
   "codemirror_mode": {
    "name": "ipython",
    "version": 3
   },
   "file_extension": ".py",
   "mimetype": "text/x-python",
   "name": "python",
   "nbconvert_exporter": "python",
   "pygments_lexer": "ipython3",
   "version": "3.5.1"
  }
 },
 "nbformat": 4,
 "nbformat_minor": 2
}
