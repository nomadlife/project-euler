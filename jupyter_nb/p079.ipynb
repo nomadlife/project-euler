{
 "cells": [
  {
   "cell_type": "markdown",
   "metadata": {},
   "source": [
    "# p079 Passcode derivation"
   ]
  },
  {
   "cell_type": "code",
   "execution_count": 11,
   "metadata": {},
   "outputs": [
    {
     "name": "stdout",
     "output_type": "stream",
     "text": [
      "['319\\n', '680\\n', '180\\n', '690\\n', '129\\n', '620\\n', '762\\n', '689\\n', '762\\n', '318\\n', '368\\n', '710\\n', '720\\n', '710\\n', '629\\n', '168\\n', '160\\n', '689\\n', '716\\n', '731\\n', '736\\n', '729\\n', '316\\n', '729\\n', '729\\n', '710\\n', '769\\n', '290\\n', '719\\n', '680\\n', '318\\n', '389\\n', '162\\n', '289\\n', '162\\n', '718\\n', '729\\n', '319\\n', '790\\n', '680\\n', '890\\n', '362\\n', '319\\n', '760\\n', '316\\n', '729\\n', '380\\n', '319\\n', '728\\n', '716\\n']\n"
     ]
    }
   ],
   "source": [
    "with open('p079_keylog.txt') as file:\n",
    "    numbers = file.readlines()\n",
    "print(numbers)"
   ]
  },
  {
   "cell_type": "code",
   "execution_count": 12,
   "metadata": {},
   "outputs": [
    {
     "name": "stdout",
     "output_type": "stream",
     "text": [
      "[319, 680, 180, 690, 129, 620, 762, 689, 762, 318, 368, 710, 720, 710, 629, 168, 160, 689, 716, 731, 736, 729, 316, 729, 729, 710, 769, 290, 719, 680, 318, 389, 162, 289, 162, 718, 729, 319, 790, 680, 890, 362, 319, 760, 316, 729, 380, 319, 728, 716]\n"
     ]
    }
   ],
   "source": [
    "with open('p079_keylog.txt') as file:\n",
    "    numbers = [int(line.rstrip()) for line in file.readlines()]\n",
    "print(numbers)"
   ]
  },
  {
   "cell_type": "code",
   "execution_count": 20,
   "metadata": {},
   "outputs": [
    {
     "name": "stdout",
     "output_type": "stream",
     "text": [
      "50\n",
      "0 [0, 0, 16]\n",
      "1 [6, 15, 1]\n",
      "2 [2, 10, 5]\n",
      "3 [12, 2, 0]\n",
      "4 [0, 0, 0]\n",
      "5 [0, 0, 0]\n",
      "6 [8, 10, 5]\n",
      "7 [21, 0, 0]\n",
      "8 [1, 9, 6]\n",
      "9 [0, 4, 17]\n"
     ]
    }
   ],
   "source": [
    "with open('p079_keylog.txt') as file:\n",
    "    numbers = [int(line.rstrip()) for line in file.readlines()]\n",
    "print(len(numbers))\n",
    "for i in '0123456789':\n",
    "    count=[0,0,0]\n",
    "    for j in numbers:\n",
    "        for k in range(3):\n",
    "            if i == str(j)[k]:\n",
    "                count[k]+=1\n",
    "    print(i,count)"
   ]
  },
  {
   "cell_type": "code",
   "execution_count": null,
   "metadata": {},
   "outputs": [],
   "source": [
    "#6: 7,3,6,1,2,8\n",
    "#6: 1,2,6,8,9,3\n",
    "#6: 9,0,8,6,2,1\n",
    "\n",
    "#6: 7,3,1,2,6,8\n",
    "#6:   3,1,2,6,8,9\n",
    "#6:     1,2,6,8,9,0"
   ]
  },
  {
   "cell_type": "code",
   "execution_count": 26,
   "metadata": {},
   "outputs": [
    {
     "name": "stdout",
     "output_type": "stream",
     "text": [
      "[0, 0, 0, 0, 0, 0, 0, 0, 0, 0]\n"
     ]
    }
   ],
   "source": [
    "test=list([0]*10)\n",
    "print(test)"
   ]
  },
  {
   "cell_type": "code",
   "execution_count": 32,
   "metadata": {},
   "outputs": [
    {
     "name": "stdout",
     "output_type": "stream",
     "text": [
      "50\n",
      "0 [0, 6, 2, 12, 0, 0, 8, 21, 1, 0]\n",
      "1 [0, 15, 10, 2, 0, 0, 10, 0, 9, 4]\n",
      "2 [16, 1, 5, 0, 0, 0, 5, 0, 6, 17]\n"
     ]
    }
   ],
   "source": [
    "with open('p079_keylog.txt') as file:\n",
    "    numbers = [int(line.rstrip()) for line in file.readlines()]\n",
    "print(len(numbers))\n",
    "\n",
    "for k in range(3):\n",
    "    count=list([0]*10)\n",
    "    for j in numbers:\n",
    "        for i in range(10):\n",
    "\n",
    "            if str(i) == str(j)[k]:\n",
    "                count[i]+=1\n",
    "    print(k,count)"
   ]
  }
 ],
 "metadata": {
  "kernelspec": {
   "display_name": "Python 3",
   "language": "python",
   "name": "python3"
  },
  "language_info": {
   "codemirror_mode": {
    "name": "ipython",
    "version": 3
   },
   "file_extension": ".py",
   "mimetype": "text/x-python",
   "name": "python",
   "nbconvert_exporter": "python",
   "pygments_lexer": "ipython3",
   "version": "3.6.5"
  }
 },
 "nbformat": 4,
 "nbformat_minor": 2
}
