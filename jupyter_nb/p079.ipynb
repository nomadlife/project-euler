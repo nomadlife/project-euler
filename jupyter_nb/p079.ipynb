{
 "cells": [
  {
   "cell_type": "markdown",
   "metadata": {},
   "source": [
    "# p079 Passcode derivation\n",
    "A common security method used for online banking is to ask the user for three random characters from a passcode. For example, if the passcode was 531278, they may ask for the 2nd, 3rd, and 5th characters; the expected reply would be: 317.\n",
    "\n",
    "The text file, keylog.txt, contains fifty successful login attempts.\n",
    "\n",
    "Given that the three characters are always asked for in order, analyse the file so as to determine the shortest possible secret passcode of unknown length."
   ]
  },
  {
   "cell_type": "code",
   "execution_count": 11,
   "metadata": {},
   "outputs": [
    {
     "name": "stdout",
     "output_type": "stream",
     "text": [
      "['319\\n', '680\\n', '180\\n', '690\\n', '129\\n', '620\\n', '762\\n', '689\\n', '762\\n', '318\\n', '368\\n', '710\\n', '720\\n', '710\\n', '629\\n', '168\\n', '160\\n', '689\\n', '716\\n', '731\\n', '736\\n', '729\\n', '316\\n', '729\\n', '729\\n', '710\\n', '769\\n', '290\\n', '719\\n', '680\\n', '318\\n', '389\\n', '162\\n', '289\\n', '162\\n', '718\\n', '729\\n', '319\\n', '790\\n', '680\\n', '890\\n', '362\\n', '319\\n', '760\\n', '316\\n', '729\\n', '380\\n', '319\\n', '728\\n', '716\\n']\n"
     ]
    }
   ],
   "source": [
    "with open('p079_keylog.txt') as file:\n",
    "    numbers = file.readlines()\n",
    "print(numbers)"
   ]
  },
  {
   "cell_type": "code",
   "execution_count": 2,
   "metadata": {},
   "outputs": [
    {
     "name": "stdout",
     "output_type": "stream",
     "text": [
      "['319', '680', '180', '690', '129', '620', '762', '689', '762', '318', '368', '710', '720', '710', '629', '168', '160', '689', '716', '731', '736', '729', '316', '729', '729', '710', '769', '290', '719', '680', '318', '389', '162', '289', '162', '718', '729', '319', '790', '680', '890', '362', '319', '760', '316', '729', '380', '319', '728', '716']\n"
     ]
    }
   ],
   "source": [
    "with open('p079_keylog.txt') as file:\n",
    "    numbers = [line.rstrip() for line in file.readlines()]\n",
    "print(numbers)"
   ]
  },
  {
   "cell_type": "code",
   "execution_count": 12,
   "metadata": {},
   "outputs": [
    {
     "name": "stdout",
     "output_type": "stream",
     "text": [
      "['319', '680', '180', '690', '129', '620', '762', '689', '762', '318', '368', '710', '720', '710', '629', '168', '160', '689', '716', '731', '736', '729', '316', '729', '729', '710', '769', '290', '719', '680', '318', '389', '162', '289', '162', '718', '729', '319', '790', '680', '890', '362', '319', '760', '316', '729', '380', '319', '728', '716']\n"
     ]
    }
   ],
   "source": [
    "with open('p079_keylog.txt') as file:\n",
    "    numbers = [line.strip() for line in file.readlines()]\n",
    "print(numbers)"
   ]
  },
  {
   "cell_type": "code",
   "execution_count": 3,
   "metadata": {},
   "outputs": [
    {
     "name": "stdout",
     "output_type": "stream",
     "text": [
      "[319, 680, 180, 690, 129, 620, 762, 689, 762, 318, 368, 710, 720, 710, 629, 168, 160, 689, 716, 731, 736, 729, 316, 729, 729, 710, 769, 290, 719, 680, 318, 389, 162, 289, 162, 718, 729, 319, 790, 680, 890, 362, 319, 760, 316, 729, 380, 319, 728, 716]\n"
     ]
    }
   ],
   "source": [
    "with open('p079_keylog.txt') as file:\n",
    "    numbers = [int(line.rstrip()) for line in file.readlines()]\n",
    "print(numbers)"
   ]
  },
  {
   "cell_type": "code",
   "execution_count": 20,
   "metadata": {},
   "outputs": [
    {
     "name": "stdout",
     "output_type": "stream",
     "text": [
      "50\n",
      "0 [0, 0, 16]\n",
      "1 [6, 15, 1]\n",
      "2 [2, 10, 5]\n",
      "3 [12, 2, 0]\n",
      "4 [0, 0, 0]\n",
      "5 [0, 0, 0]\n",
      "6 [8, 10, 5]\n",
      "7 [21, 0, 0]\n",
      "8 [1, 9, 6]\n",
      "9 [0, 4, 17]\n"
     ]
    }
   ],
   "source": [
    "#test\n",
    "with open('p079_keylog.txt') as file:\n",
    "    numbers = [int(line.rstrip()) for line in file.readlines()]\n",
    "print(len(numbers))\n",
    "for i in '0123456789':\n",
    "    count=[0,0,0]\n",
    "    for j in numbers:\n",
    "        for k in range(3):\n",
    "            if i == str(j)[k]:\n",
    "                count[k]+=1\n",
    "    print(i,count)"
   ]
  },
  {
   "cell_type": "code",
   "execution_count": null,
   "metadata": {},
   "outputs": [],
   "source": [
    "#6: 7,3,6,1,2,8\n",
    "#6: 1,2,6,8,9,3\n",
    "#6: 9,0,8,6,2,1\n",
    "\n",
    "#6: 7,3,1,2,6,8\n",
    "#6:   3,1,2,6,8,9\n",
    "#6:     1,2,6,8,9,0"
   ]
  },
  {
   "cell_type": "code",
   "execution_count": null,
   "metadata": {},
   "outputs": [],
   "source": []
  },
  {
   "cell_type": "code",
   "execution_count": 26,
   "metadata": {},
   "outputs": [
    {
     "name": "stdout",
     "output_type": "stream",
     "text": [
      "[0, 0, 0, 0, 0, 0, 0, 0, 0, 0]\n"
     ]
    }
   ],
   "source": [
    "test=list([0]*10)\n",
    "print(test)"
   ]
  },
  {
   "cell_type": "code",
   "execution_count": 32,
   "metadata": {},
   "outputs": [
    {
     "name": "stdout",
     "output_type": "stream",
     "text": [
      "50\n",
      "0 [0, 6, 2, 12, 0, 0, 8, 21, 1, 0]\n",
      "1 [0, 15, 10, 2, 0, 0, 10, 0, 9, 4]\n",
      "2 [16, 1, 5, 0, 0, 0, 5, 0, 6, 17]\n"
     ]
    }
   ],
   "source": [
    "#test\n",
    "with open('p079_keylog.txt') as file:\n",
    "    numbers = [int(line.rstrip()) for line in file.readlines()]\n",
    "print(len(numbers))\n",
    "\n",
    "for k in range(3):\n",
    "    count=list([0]*10)\n",
    "    for j in numbers:\n",
    "        for i in range(10):\n",
    "\n",
    "            if str(i) == str(j)[k]:\n",
    "                count[i]+=1\n",
    "    print(k,count)"
   ]
  },
  {
   "cell_type": "code",
   "execution_count": 1,
   "metadata": {},
   "outputs": [
    {
     "name": "stdout",
     "output_type": "stream",
     "text": [
      "['319', '680', '180', '690', '129', '620', '762', '689', '762', '318', '368', '710', '720', '710', '629', '168', '160', '689', '716', '731', '736', '729', '316', '729', '729', '710', '769', '290', '719', '680', '318', '389', '162', '289', '162', '718', '729', '319', '790', '680', '890', '362', '319', '760', '316', '729', '380', '319', '728', '716']\n"
     ]
    }
   ],
   "source": [
    "# \n",
    "with open('p079_keylog.txt') as file:\n",
    "    codes = [line.rstrip() for line in file.readlines()]\n",
    "print(codes)"
   ]
  },
  {
   "cell_type": "code",
   "execution_count": 8,
   "metadata": {},
   "outputs": [
    {
     "name": "stdout",
     "output_type": "stream",
     "text": [
      "31968027\n"
     ]
    }
   ],
   "source": [
    "# \n",
    "result=''\n",
    "for code in codes:\n",
    "    for j in code:\n",
    "        if j not in result:\n",
    "            result+=j\n",
    "print(result)"
   ]
  },
  {
   "cell_type": "code",
   "execution_count": 86,
   "metadata": {},
   "outputs": [
    {
     "name": "stdout",
     "output_type": "stream",
     "text": [
      "31968027\n"
     ]
    }
   ],
   "source": [
    "# string\n",
    "string=''\n",
    "for code in codes:\n",
    "    for j in range(3):\n",
    "        if code[j] not in string:\n",
    "            string+=code[j]\n",
    "    if string.index(code[j])<string.index(code[j+1]):\n",
    "        list(string).index\n",
    "            \n",
    "print(string)"
   ]
  },
  {
   "cell_type": "code",
   "execution_count": 113,
   "metadata": {},
   "outputs": [
    {
     "data": {
      "text/plain": [
       "'ts'"
      ]
     },
     "execution_count": 113,
     "metadata": {},
     "output_type": "execute_result"
    }
   ],
   "source": [
    "test3='test'\n",
    "test3[:2].replace('e','s')"
   ]
  },
  {
   "cell_type": "code",
   "execution_count": 112,
   "metadata": {},
   "outputs": [
    {
     "data": {
      "text/plain": [
       "'et'"
      ]
     },
     "execution_count": 112,
     "metadata": {},
     "output_type": "execute_result"
    }
   ],
   "source": [
    "test3='test'\n",
    "test3[2:].replace('s','e')"
   ]
  },
  {
   "cell_type": "code",
   "execution_count": 110,
   "metadata": {},
   "outputs": [
    {
     "name": "stdout",
     "output_type": "stream",
     "text": [
      "ts\n",
      "et\n",
      "test\n"
     ]
    }
   ],
   "source": [
    "test3='test'\n",
    "print(test3[:2].replace('e','s'))\n",
    "print(test3[2:].replace('s','e'))\n",
    "print(test3)"
   ]
  },
  {
   "cell_type": "code",
   "execution_count": 114,
   "metadata": {},
   "outputs": [
    {
     "data": {
      "text/plain": [
       "'tset'"
      ]
     },
     "execution_count": 114,
     "metadata": {},
     "output_type": "execute_result"
    }
   ],
   "source": [
    "test3='test'\n",
    "test3[:2].replace('e','s')+test3[2:].replace('s','e')"
   ]
  },
  {
   "cell_type": "code",
   "execution_count": 103,
   "metadata": {},
   "outputs": [
    {
     "name": "stdout",
     "output_type": "stream",
     "text": [
      "['3', '1', '9', '6', '8', '0', '2', '7']\n",
      "6\n",
      "['3', '1', '9', '8', '0', '2', '7']\n",
      "['3', '1', '9', 'a', '8', '0', '2', '7']\n"
     ]
    }
   ],
   "source": [
    "test=list(string)\n",
    "print(test)\n",
    "print(test.pop(3))\n",
    "print(test)\n",
    "test.insert(3,'a')\n",
    "print(test)"
   ]
  },
  {
   "cell_type": "code",
   "execution_count": 20,
   "metadata": {},
   "outputs": [
    {
     "data": {
      "text/plain": [
       "3"
      ]
     },
     "execution_count": 20,
     "metadata": {},
     "output_type": "execute_result"
    }
   ],
   "source": [
    "result.find('6')"
   ]
  },
  {
   "cell_type": "code",
   "execution_count": 19,
   "metadata": {},
   "outputs": [
    {
     "data": {
      "text/plain": [
       "3"
      ]
     },
     "execution_count": 19,
     "metadata": {},
     "output_type": "execute_result"
    }
   ],
   "source": [
    "result.index('6')"
   ]
  },
  {
   "cell_type": "code",
   "execution_count": 20,
   "metadata": {},
   "outputs": [
    {
     "name": "stdout",
     "output_type": "stream",
     "text": [
      "['3', '1', '9', '6', '8', '0', '2', '7']\n",
      "3 1\n",
      "['1', '3', '9', '6', '8', '0', '2', '7']\n",
      "2\n"
     ]
    }
   ],
   "source": [
    "# list\n",
    "lists = []\n",
    "for code in codes:\n",
    "    for j in code:\n",
    "        if j not in lists:\n",
    "            lists.append(j)\n",
    "print(lists)\n",
    "print(lists[0],lists[1])\n",
    "lists[0],lists[1] = lists[1], lists[0]\n",
    "print(lists)\n",
    "print(lists.index('9'))"
   ]
  },
  {
   "cell_type": "code",
   "execution_count": 24,
   "metadata": {},
   "outputs": [
    {
     "name": "stdout",
     "output_type": "stream",
     "text": [
      "['3', '1', '9'] 319 0 1\n",
      "['3', '1', '9', '6', '8', '0'] 680 3 4\n",
      "['3', '1', '9', '6', '8', '0'] 180 1 4\n",
      "['3', '1', '9', '6', '8', '0'] 690 3 2\n"
     ]
    },
    {
     "ename": "TypeError",
     "evalue": "list indices must be integers or slices, not str",
     "output_type": "error",
     "traceback": [
      "\u001b[1;31m---------------------------------------------------------------------------\u001b[0m",
      "\u001b[1;31mTypeError\u001b[0m                                 Traceback (most recent call last)",
      "\u001b[1;32m<ipython-input-24-6d5b8208f090>\u001b[0m in \u001b[0;36m<module>\u001b[1;34m()\u001b[0m\n\u001b[0;32m      6\u001b[0m             \u001b[0mpw\u001b[0m\u001b[1;33m.\u001b[0m\u001b[0mappend\u001b[0m\u001b[1;33m(\u001b[0m\u001b[0mj\u001b[0m\u001b[1;33m)\u001b[0m\u001b[1;33m\u001b[0m\u001b[0m\n\u001b[0;32m      7\u001b[0m     \u001b[0mprint\u001b[0m\u001b[1;33m(\u001b[0m\u001b[0mpw\u001b[0m\u001b[1;33m,\u001b[0m\u001b[0mcode\u001b[0m\u001b[1;33m,\u001b[0m\u001b[0mpw\u001b[0m\u001b[1;33m.\u001b[0m\u001b[0mindex\u001b[0m\u001b[1;33m(\u001b[0m\u001b[0mcode\u001b[0m\u001b[1;33m[\u001b[0m\u001b[1;36m0\u001b[0m\u001b[1;33m]\u001b[0m\u001b[1;33m)\u001b[0m\u001b[1;33m,\u001b[0m\u001b[0mpw\u001b[0m\u001b[1;33m.\u001b[0m\u001b[0mindex\u001b[0m\u001b[1;33m(\u001b[0m\u001b[0mcode\u001b[0m\u001b[1;33m[\u001b[0m\u001b[1;36m1\u001b[0m\u001b[1;33m]\u001b[0m\u001b[1;33m)\u001b[0m\u001b[1;33m)\u001b[0m\u001b[1;33m\u001b[0m\u001b[0m\n\u001b[1;32m----> 8\u001b[1;33m     \u001b[1;32mif\u001b[0m \u001b[0mpw\u001b[0m\u001b[1;33m.\u001b[0m\u001b[0mindex\u001b[0m\u001b[1;33m(\u001b[0m\u001b[0mcode\u001b[0m\u001b[1;33m[\u001b[0m\u001b[1;36m0\u001b[0m\u001b[1;33m]\u001b[0m\u001b[1;33m)\u001b[0m\u001b[1;33m>\u001b[0m\u001b[0mpw\u001b[0m\u001b[1;33m.\u001b[0m\u001b[0mindex\u001b[0m\u001b[1;33m(\u001b[0m\u001b[0mcode\u001b[0m\u001b[1;33m[\u001b[0m\u001b[1;36m1\u001b[0m\u001b[1;33m]\u001b[0m\u001b[1;33m)\u001b[0m \u001b[1;33m:\u001b[0m \u001b[0mpw\u001b[0m\u001b[1;33m[\u001b[0m\u001b[0mcode\u001b[0m\u001b[1;33m[\u001b[0m\u001b[1;36m0\u001b[0m\u001b[1;33m]\u001b[0m\u001b[1;33m]\u001b[0m\u001b[1;33m,\u001b[0m\u001b[0mpw\u001b[0m\u001b[1;33m[\u001b[0m\u001b[0mcode\u001b[0m\u001b[1;33m[\u001b[0m\u001b[1;36m1\u001b[0m\u001b[1;33m]\u001b[0m\u001b[1;33m]\u001b[0m \u001b[1;33m=\u001b[0m \u001b[0mpw\u001b[0m\u001b[1;33m[\u001b[0m\u001b[0mcode\u001b[0m\u001b[1;33m[\u001b[0m\u001b[1;36m1\u001b[0m\u001b[1;33m]\u001b[0m\u001b[1;33m]\u001b[0m\u001b[1;33m,\u001b[0m \u001b[0mpw\u001b[0m\u001b[1;33m[\u001b[0m\u001b[0mcode\u001b[0m\u001b[1;33m[\u001b[0m\u001b[1;36m0\u001b[0m\u001b[1;33m]\u001b[0m\u001b[1;33m]\u001b[0m\u001b[1;33m\u001b[0m\u001b[0m\n\u001b[0m\u001b[0;32m      9\u001b[0m     \u001b[1;32mif\u001b[0m \u001b[0mpw\u001b[0m\u001b[1;33m.\u001b[0m\u001b[0mindex\u001b[0m\u001b[1;33m(\u001b[0m\u001b[0mcode\u001b[0m\u001b[1;33m[\u001b[0m\u001b[1;36m1\u001b[0m\u001b[1;33m]\u001b[0m\u001b[1;33m)\u001b[0m\u001b[1;33m>\u001b[0m\u001b[0mpw\u001b[0m\u001b[1;33m.\u001b[0m\u001b[0mindex\u001b[0m\u001b[1;33m(\u001b[0m\u001b[0mcode\u001b[0m\u001b[1;33m[\u001b[0m\u001b[1;36m2\u001b[0m\u001b[1;33m]\u001b[0m\u001b[1;33m)\u001b[0m \u001b[1;33m:\u001b[0m \u001b[0mpw\u001b[0m\u001b[1;33m[\u001b[0m\u001b[0mcode\u001b[0m\u001b[1;33m[\u001b[0m\u001b[1;36m1\u001b[0m\u001b[1;33m]\u001b[0m\u001b[1;33m]\u001b[0m\u001b[1;33m,\u001b[0m\u001b[0mpw\u001b[0m\u001b[1;33m[\u001b[0m\u001b[0mcode\u001b[0m\u001b[1;33m[\u001b[0m\u001b[1;36m2\u001b[0m\u001b[1;33m]\u001b[0m\u001b[1;33m]\u001b[0m \u001b[1;33m=\u001b[0m \u001b[0mpw\u001b[0m\u001b[1;33m[\u001b[0m\u001b[0mcode\u001b[0m\u001b[1;33m[\u001b[0m\u001b[1;36m2\u001b[0m\u001b[1;33m]\u001b[0m\u001b[1;33m]\u001b[0m\u001b[1;33m,\u001b[0m \u001b[0mpw\u001b[0m\u001b[1;33m[\u001b[0m\u001b[0mcode\u001b[0m\u001b[1;33m[\u001b[0m\u001b[1;36m1\u001b[0m\u001b[1;33m]\u001b[0m\u001b[1;33m]\u001b[0m\u001b[1;33m\u001b[0m\u001b[0m\n",
      "\u001b[1;31mTypeError\u001b[0m: list indices must be integers or slices, not str"
     ]
    }
   ],
   "source": [
    "# list-3\n",
    "pw = []\n",
    "for code in codes:\n",
    "    for j in code:\n",
    "        if j not in pw:\n",
    "            pw.append(j)\n",
    "    print(pw,code,pw.index(code[0]),pw.index(code[1]))\n",
    "    if pw.index(code[0])>pw.index(code[1]) : pw[code[0]],pw[code[1]] = pw[code[1]], pw[code[0]]\n",
    "    if pw.index(code[1])>pw.index(code[2]) : pw[code[1]],pw[code[2]] = pw[code[2]], pw[code[1]]\n"
   ]
  },
  {
   "cell_type": "code",
   "execution_count": 126,
   "metadata": {},
   "outputs": [
    {
     "name": "stdout",
     "output_type": "stream",
     "text": [
      "['3', '1', '9'] 319 0 1 2 ['3', '1', '9'] 319 0 1 2\n",
      "['3', '1', '9', '6', '8', '0'] 680 3 4 5 ['3', '1', '9', '6', '8', '0'] 680 3 4 5\n",
      "['3', '1', '9', '6', '8', '0'] 180 1 4 5 ['3', '1', '9', '6', '8', '0'] 180 1 4 5\n",
      "['3', '1', '9', '6', '8', '0'] 690 3 2 5 ['3', '1', '6', '9', '8', '0'] 690 2 3 5\n",
      "['3', '1', '6', '9', '8', '0', '2'] 129 1 6 3 ['3', '1', '6', '2', '8', '0', '9'] 129 1 3 6\n",
      "['3', '1', '6', '2', '8', '0', '9'] 620 2 3 5 ['3', '1', '6', '2', '8', '0', '9'] 620 2 3 5\n",
      "['3', '1', '6', '2', '8', '0', '9', '7'] 762 7 2 3 ['3', '1', '7', '2', '8', '0', '9', '6'] 762 2 7 3\n",
      "['3', '1', '7', '2', '8', '0', '9', '6'] 689 7 4 6 ['3', '1', '7', '2', '6', '0', '9', '8'] 689 4 7 6\n",
      "['3', '1', '7', '2', '6', '0', '9', '8'] 762 2 4 3 ['3', '1', '7', '6', '2', '0', '9', '8'] 762 2 3 4\n",
      "['3', '1', '7', '6', '2', '0', '9', '8'] 318 0 1 7 ['3', '1', '7', '6', '2', '0', '9', '8'] 318 0 1 7\n",
      "['3', '1', '7', '6', '2', '0', '9', '8'] 368 0 3 7 ['3', '1', '7', '6', '2', '0', '9', '8'] 368 0 3 7\n",
      "['3', '1', '7', '6', '2', '0', '9', '8'] 710 2 1 5 ['3', '7', '1', '6', '2', '0', '9', '8'] 710 1 2 5\n",
      "['3', '7', '1', '6', '2', '0', '9', '8'] 720 1 4 5 ['3', '7', '1', '6', '2', '0', '9', '8'] 720 1 4 5\n",
      "['3', '7', '1', '6', '2', '0', '9', '8'] 710 1 2 5 ['3', '7', '1', '6', '2', '0', '9', '8'] 710 1 2 5\n",
      "['3', '7', '1', '6', '2', '0', '9', '8'] 629 3 4 6 ['3', '7', '1', '6', '2', '0', '9', '8'] 629 3 4 6\n",
      "['3', '7', '1', '6', '2', '0', '9', '8'] 168 2 3 7 ['3', '7', '1', '6', '2', '0', '9', '8'] 168 2 3 7\n",
      "['3', '7', '1', '6', '2', '0', '9', '8'] 160 2 3 5 ['3', '7', '1', '6', '2', '0', '9', '8'] 160 2 3 5\n",
      "['3', '7', '1', '6', '2', '0', '9', '8'] 689 3 7 6 ['3', '7', '1', '6', '2', '0', '8', '9'] 689 3 6 7\n",
      "['3', '7', '1', '6', '2', '0', '8', '9'] 716 1 2 3 ['3', '7', '1', '6', '2', '0', '8', '9'] 716 1 2 3\n",
      "['3', '7', '1', '6', '2', '0', '8', '9'] 731 1 0 2 ['7', '3', '1', '6', '2', '0', '8', '9'] 731 0 1 2\n",
      "['7', '3', '1', '6', '2', '0', '8', '9'] 736 0 1 3 ['7', '3', '1', '6', '2', '0', '8', '9'] 736 0 1 3\n",
      "['7', '3', '1', '6', '2', '0', '8', '9'] 729 0 4 7 ['7', '3', '1', '6', '2', '0', '8', '9'] 729 0 4 7\n",
      "['7', '3', '1', '6', '2', '0', '8', '9'] 316 1 2 3 ['7', '3', '1', '6', '2', '0', '8', '9'] 316 1 2 3\n",
      "['7', '3', '1', '6', '2', '0', '8', '9'] 729 0 4 7 ['7', '3', '1', '6', '2', '0', '8', '9'] 729 0 4 7\n",
      "['7', '3', '1', '6', '2', '0', '8', '9'] 729 0 4 7 ['7', '3', '1', '6', '2', '0', '8', '9'] 729 0 4 7\n",
      "['7', '3', '1', '6', '2', '0', '8', '9'] 710 0 2 5 ['7', '3', '1', '6', '2', '0', '8', '9'] 710 0 2 5\n",
      "['7', '3', '1', '6', '2', '0', '8', '9'] 769 0 3 7 ['7', '3', '1', '6', '2', '0', '8', '9'] 769 0 3 7\n",
      "['7', '3', '1', '6', '2', '0', '8', '9'] 290 4 7 5 ['7', '3', '1', '6', '2', '9', '8', '0'] 290 4 5 7\n",
      "['7', '3', '1', '6', '2', '9', '8', '0'] 719 0 2 5 ['7', '3', '1', '6', '2', '9', '8', '0'] 719 0 2 5\n",
      "['7', '3', '1', '6', '2', '9', '8', '0'] 680 3 6 7 ['7', '3', '1', '6', '2', '9', '8', '0'] 680 3 6 7\n",
      "['7', '3', '1', '6', '2', '9', '8', '0'] 318 1 2 6 ['7', '3', '1', '6', '2', '9', '8', '0'] 318 1 2 6\n",
      "['7', '3', '1', '6', '2', '9', '8', '0'] 389 1 6 5 ['7', '3', '1', '6', '2', '8', '9', '0'] 389 1 5 6\n",
      "['7', '3', '1', '6', '2', '8', '9', '0'] 162 2 3 4 ['7', '3', '1', '6', '2', '8', '9', '0'] 162 2 3 4\n",
      "['7', '3', '1', '6', '2', '8', '9', '0'] 289 4 5 6 ['7', '3', '1', '6', '2', '8', '9', '0'] 289 4 5 6\n",
      "['7', '3', '1', '6', '2', '8', '9', '0'] 162 2 3 4 ['7', '3', '1', '6', '2', '8', '9', '0'] 162 2 3 4\n",
      "['7', '3', '1', '6', '2', '8', '9', '0'] 718 0 2 5 ['7', '3', '1', '6', '2', '8', '9', '0'] 718 0 2 5\n",
      "['7', '3', '1', '6', '2', '8', '9', '0'] 729 0 4 6 ['7', '3', '1', '6', '2', '8', '9', '0'] 729 0 4 6\n",
      "['7', '3', '1', '6', '2', '8', '9', '0'] 319 1 2 6 ['7', '3', '1', '6', '2', '8', '9', '0'] 319 1 2 6\n",
      "['7', '3', '1', '6', '2', '8', '9', '0'] 790 0 6 7 ['7', '3', '1', '6', '2', '8', '9', '0'] 790 0 6 7\n",
      "['7', '3', '1', '6', '2', '8', '9', '0'] 680 3 5 7 ['7', '3', '1', '6', '2', '8', '9', '0'] 680 3 5 7\n",
      "['7', '3', '1', '6', '2', '8', '9', '0'] 890 5 6 7 ['7', '3', '1', '6', '2', '8', '9', '0'] 890 5 6 7\n",
      "['7', '3', '1', '6', '2', '8', '9', '0'] 362 1 3 4 ['7', '3', '1', '6', '2', '8', '9', '0'] 362 1 3 4\n",
      "['7', '3', '1', '6', '2', '8', '9', '0'] 319 1 2 6 ['7', '3', '1', '6', '2', '8', '9', '0'] 319 1 2 6\n",
      "['7', '3', '1', '6', '2', '8', '9', '0'] 760 0 3 7 ['7', '3', '1', '6', '2', '8', '9', '0'] 760 0 3 7\n",
      "['7', '3', '1', '6', '2', '8', '9', '0'] 316 1 2 3 ['7', '3', '1', '6', '2', '8', '9', '0'] 316 1 2 3\n",
      "['7', '3', '1', '6', '2', '8', '9', '0'] 729 0 4 6 ['7', '3', '1', '6', '2', '8', '9', '0'] 729 0 4 6\n",
      "['7', '3', '1', '6', '2', '8', '9', '0'] 380 1 5 7 ['7', '3', '1', '6', '2', '8', '9', '0'] 380 1 5 7\n",
      "['7', '3', '1', '6', '2', '8', '9', '0'] 319 1 2 6 ['7', '3', '1', '6', '2', '8', '9', '0'] 319 1 2 6\n",
      "['7', '3', '1', '6', '2', '8', '9', '0'] 728 0 4 5 ['7', '3', '1', '6', '2', '8', '9', '0'] 728 0 4 5\n",
      "['7', '3', '1', '6', '2', '8', '9', '0'] 716 0 2 3 ['7', '3', '1', '6', '2', '8', '9', '0'] 716 0 2 3\n",
      "['7', '3', '1', '6', '2', '8', '9', '0']\n"
     ]
    }
   ],
   "source": [
    "# list-2\n",
    "lists = []\n",
    "for code in codes:\n",
    "    for j in code:\n",
    "        if j not in lists:\n",
    "            lists.append(j)\n",
    "    print(lists,code,lists.index(code[0]),lists.index(code[1]),lists.index(code[2]),end=' ')\n",
    "    n0=lists.index(code[0])\n",
    "    n1=lists.index(code[1])\n",
    "    n2=lists.index(code[2])\n",
    "    if n0>n1:\n",
    "        lists.pop(n0)\n",
    "        lists.insert(n0,code[1])\n",
    "        lists.pop(n1)\n",
    "        lists.insert(n1,code[0])\n",
    "    if n1>n2:\n",
    "        lists.pop(n1)\n",
    "        lists.insert(n1,code[2])\n",
    "        lists.pop(n2)\n",
    "        lists.insert(n2,code[1])\n",
    "    print(lists,code,lists.index(code[0]),lists.index(code[1]),lists.index(code[2]))\n",
    "print(lists)"
   ]
  },
  {
   "cell_type": "code",
   "execution_count": 122,
   "metadata": {},
   "outputs": [
    {
     "name": "stdout",
     "output_type": "stream",
     "text": [
      "[0, 1, 5]\n",
      "[0, 6, 1, 5]\n",
      "[0, 6, 4, 5]\n"
     ]
    }
   ],
   "source": [
    "lists=[0,1]\n",
    "if 4 not in lists:\n",
    "    lists.append(5)\n",
    "print(lists)\n",
    "lists.insert(1,6)\n",
    "print(lists)\n",
    "lists.pop(2)\n",
    "lists.insert(2,4)\n",
    "print(lists)"
   ]
  },
  {
   "cell_type": "code",
   "execution_count": 5,
   "metadata": {},
   "outputs": [
    {
     "name": "stdout",
     "output_type": "stream",
     "text": [
      "319 {'3': 1, '1': 2, '9': 3}\n",
      "680 {'3': 1, '1': 2, '9': 3, '6': 4, '8': 5, '0': 6}\n",
      "180 {'3': 1, '1': 2, '9': 3, '6': 4, '8': 5, '0': 6}\n",
      "690 {'3': 1, '1': 2, '9': 4, '6': 3, '8': 5, '0': 6}\n",
      "129 {'3': 1, '1': 2, '9': 7, '6': 3, '8': 5, '0': 6, '2': 4}\n",
      "620 {'3': 1, '1': 2, '9': 7, '6': 3, '8': 5, '0': 6, '2': 4}\n",
      "762 {'3': 1, '1': 2, '9': 7, '6': 8, '8': 5, '0': 6, '2': 4, '7': 3}\n",
      "689 {'3': 1, '1': 2, '9': 7, '6': 5, '8': 8, '0': 6, '2': 4, '7': 3}\n",
      "762 {'3': 1, '1': 2, '9': 7, '6': 4, '8': 8, '0': 6, '2': 5, '7': 3}\n",
      "318 {'3': 1, '1': 2, '9': 7, '6': 4, '8': 8, '0': 6, '2': 5, '7': 3}\n",
      "368 {'3': 1, '1': 2, '9': 7, '6': 4, '8': 8, '0': 6, '2': 5, '7': 3}\n",
      "710 {'3': 1, '1': 3, '9': 7, '6': 4, '8': 8, '0': 6, '2': 5, '7': 2}\n",
      "720 {'3': 1, '1': 3, '9': 7, '6': 4, '8': 8, '0': 6, '2': 5, '7': 2}\n",
      "710 {'3': 1, '1': 3, '9': 7, '6': 4, '8': 8, '0': 6, '2': 5, '7': 2}\n",
      "629 {'3': 1, '1': 3, '9': 7, '6': 4, '8': 8, '0': 6, '2': 5, '7': 2}\n",
      "168 {'3': 1, '1': 3, '9': 7, '6': 4, '8': 8, '0': 6, '2': 5, '7': 2}\n",
      "160 {'3': 1, '1': 3, '9': 7, '6': 4, '8': 8, '0': 6, '2': 5, '7': 2}\n",
      "689 {'3': 1, '1': 3, '9': 8, '6': 4, '8': 7, '0': 6, '2': 5, '7': 2}\n",
      "716 {'3': 1, '1': 3, '9': 8, '6': 4, '8': 7, '0': 6, '2': 5, '7': 2}\n",
      "731 {'3': 2, '1': 3, '9': 8, '6': 4, '8': 7, '0': 6, '2': 5, '7': 1}\n",
      "736 {'3': 2, '1': 3, '9': 8, '6': 4, '8': 7, '0': 6, '2': 5, '7': 1}\n",
      "729 {'3': 2, '1': 3, '9': 8, '6': 4, '8': 7, '0': 6, '2': 5, '7': 1}\n",
      "316 {'3': 2, '1': 3, '9': 8, '6': 4, '8': 7, '0': 6, '2': 5, '7': 1}\n",
      "729 {'3': 2, '1': 3, '9': 8, '6': 4, '8': 7, '0': 6, '2': 5, '7': 1}\n",
      "729 {'3': 2, '1': 3, '9': 8, '6': 4, '8': 7, '0': 6, '2': 5, '7': 1}\n",
      "710 {'3': 2, '1': 3, '9': 8, '6': 4, '8': 7, '0': 6, '2': 5, '7': 1}\n",
      "769 {'3': 2, '1': 3, '9': 8, '6': 4, '8': 7, '0': 6, '2': 5, '7': 1}\n",
      "290 {'3': 2, '1': 3, '9': 6, '6': 4, '8': 7, '0': 8, '2': 5, '7': 1}\n",
      "719 {'3': 2, '1': 3, '9': 6, '6': 4, '8': 7, '0': 8, '2': 5, '7': 1}\n",
      "680 {'3': 2, '1': 3, '9': 6, '6': 4, '8': 7, '0': 8, '2': 5, '7': 1}\n",
      "318 {'3': 2, '1': 3, '9': 6, '6': 4, '8': 7, '0': 8, '2': 5, '7': 1}\n",
      "389 {'3': 2, '1': 3, '9': 7, '6': 4, '8': 6, '0': 8, '2': 5, '7': 1}\n",
      "162 {'3': 2, '1': 3, '9': 7, '6': 4, '8': 6, '0': 8, '2': 5, '7': 1}\n",
      "289 {'3': 2, '1': 3, '9': 7, '6': 4, '8': 6, '0': 8, '2': 5, '7': 1}\n",
      "162 {'3': 2, '1': 3, '9': 7, '6': 4, '8': 6, '0': 8, '2': 5, '7': 1}\n",
      "718 {'3': 2, '1': 3, '9': 7, '6': 4, '8': 6, '0': 8, '2': 5, '7': 1}\n",
      "729 {'3': 2, '1': 3, '9': 7, '6': 4, '8': 6, '0': 8, '2': 5, '7': 1}\n",
      "319 {'3': 2, '1': 3, '9': 7, '6': 4, '8': 6, '0': 8, '2': 5, '7': 1}\n",
      "790 {'3': 2, '1': 3, '9': 7, '6': 4, '8': 6, '0': 8, '2': 5, '7': 1}\n",
      "680 {'3': 2, '1': 3, '9': 7, '6': 4, '8': 6, '0': 8, '2': 5, '7': 1}\n",
      "890 {'3': 2, '1': 3, '9': 7, '6': 4, '8': 6, '0': 8, '2': 5, '7': 1}\n",
      "362 {'3': 2, '1': 3, '9': 7, '6': 4, '8': 6, '0': 8, '2': 5, '7': 1}\n",
      "319 {'3': 2, '1': 3, '9': 7, '6': 4, '8': 6, '0': 8, '2': 5, '7': 1}\n",
      "760 {'3': 2, '1': 3, '9': 7, '6': 4, '8': 6, '0': 8, '2': 5, '7': 1}\n",
      "316 {'3': 2, '1': 3, '9': 7, '6': 4, '8': 6, '0': 8, '2': 5, '7': 1}\n",
      "729 {'3': 2, '1': 3, '9': 7, '6': 4, '8': 6, '0': 8, '2': 5, '7': 1}\n",
      "380 {'3': 2, '1': 3, '9': 7, '6': 4, '8': 6, '0': 8, '2': 5, '7': 1}\n",
      "319 {'3': 2, '1': 3, '9': 7, '6': 4, '8': 6, '0': 8, '2': 5, '7': 1}\n",
      "728 {'3': 2, '1': 3, '9': 7, '6': 4, '8': 6, '0': 8, '2': 5, '7': 1}\n",
      "716 {'3': 2, '1': 3, '9': 7, '6': 4, '8': 6, '0': 8, '2': 5, '7': 1}\n",
      "{'3': 2, '1': 3, '9': 7, '6': 4, '8': 6, '0': 8, '2': 5, '7': 1}\n",
      "['7', '3', '1', '6', '2', '8', '9', '0']\n"
     ]
    }
   ],
   "source": [
    "# dictionary\n",
    "result={}\n",
    "for code in codes:\n",
    "    for j in code:\n",
    "        if (j) not in result:\n",
    "            result[j] = len(result)+1\n",
    "    #print(result,code,end=' ')\n",
    "    v0=result[code[0]]\n",
    "    v1=result[code[1]]\n",
    "    v2=result[code[2]]\n",
    "    if v0>v1:\n",
    "        temp = v0\n",
    "        result[code[0]] = v1\n",
    "        result[code[1]] = temp\n",
    "    if v1>v2:\n",
    "        temp = v1\n",
    "        result[code[1]] = v2\n",
    "        result[code[2]] = temp\n",
    "    print(code,result)\n",
    "print(result)\n",
    "print(sorted(result, key=result.get))"
   ]
  },
  {
   "cell_type": "code",
   "execution_count": 151,
   "metadata": {},
   "outputs": [
    {
     "name": "stdout",
     "output_type": "stream",
     "text": [
      "{'3': 2, '1': 3, '9': 7, '6': 4, '8': 6, '0': 8, '2': 5, '7': 1}\n",
      "['7', '3', '1', '6', '2', '8', '9', '0']\n"
     ]
    }
   ],
   "source": [
    "# dictionary\n",
    "result={}\n",
    "for code in codes:\n",
    "    for j in code:\n",
    "        if (j) not in result:\n",
    "            result[j] = len(result)+1\n",
    "    #print(result,code,end=' ')\n",
    "    v0=result[code[0]]\n",
    "    v1=result[code[1]]\n",
    "    v2=result[code[2]]\n",
    "    if v0>v1:\n",
    "        temp = v0\n",
    "        result[code[0]] = v1\n",
    "        result[code[1]] = temp\n",
    "    if v1>v2:\n",
    "        temp = v1\n",
    "        result[code[1]] = v2\n",
    "        result[code[2]] = temp\n",
    "    #print(result)\n",
    "print(result)\n",
    "print(sorted(result, key=result.get))"
   ]
  },
  {
   "cell_type": "code",
   "execution_count": 153,
   "metadata": {},
   "outputs": [
    {
     "data": {
      "text/plain": [
       "['7', '3', '1', '6', '2', '8', '9', '0']"
      ]
     },
     "execution_count": 153,
     "metadata": {},
     "output_type": "execute_result"
    }
   ],
   "source": [
    "# dictionary\n",
    "def sort(a,b):\n",
    "    if result[a]>result[b]:\n",
    "        temp = result[a]\n",
    "        result[a] = result[b]\n",
    "        result[b] = temp\n",
    "    \n",
    "result={}\n",
    "for code in codes:\n",
    "    for j in code:\n",
    "        if (j) not in result:\n",
    "            result[j] = len(result)+1\n",
    "    sort(code[0],code[1])\n",
    "    sort(code[1],code[2])\n",
    "sorted(result, key=result.get)"
   ]
  },
  {
   "cell_type": "code",
   "execution_count": 2,
   "metadata": {},
   "outputs": [
    {
     "data": {
      "text/plain": [
       "['7', '3', '1', '6', '2', '8', '9', '0']"
      ]
     },
     "execution_count": 2,
     "metadata": {},
     "output_type": "execute_result"
    }
   ],
   "source": [
    "# dictionary(2)\n",
    "with open('p079_keylog.txt') as file:\n",
    "    codes = [line.rstrip() for line in file.readlines()]\n",
    "    \n",
    "def sort(a,b):\n",
    "    if result[a]>result[b]:\n",
    "        result[a],result[b] = result[b],result[a]\n",
    "        \n",
    "result={}\n",
    "for code in codes:\n",
    "    for j in code:\n",
    "        if (j) not in result:\n",
    "            result[j] = len(result)+1\n",
    "    sort(code[0],code[1])\n",
    "    sort(code[1],code[2])\n",
    "sorted(result, key=result.get)"
   ]
  },
  {
   "cell_type": "code",
   "execution_count": 37,
   "metadata": {},
   "outputs": [
    {
     "data": {
      "text/plain": [
       "['7', '3', '1', '6', '2', '8', '9', '0']"
      ]
     },
     "execution_count": 37,
     "metadata": {},
     "output_type": "execute_result"
    }
   ],
   "source": [
    "# dictionary(3)\n",
    "with open('p079_keylog.txt') as file:\n",
    "    codes = [line.strip() for line in file.readlines()]\n",
    "    \n",
    "def sort(a,b):\n",
    "    if pw[a]>pw[b]:\n",
    "        pw[a],pw[b] = pw[b],pw[a]\n",
    "\n",
    "pw={}\n",
    "for code in codes:\n",
    "    for j in code:\n",
    "        if (j) not in pw:\n",
    "            pw[j] = len(pw)+1\n",
    "    sort(code[0],code[1])\n",
    "    sort(code[1],code[2])\n",
    "sorted(pw, key=pw.get)"
   ]
  },
  {
   "cell_type": "code",
   "execution_count": 143,
   "metadata": {},
   "outputs": [
    {
     "data": {
      "text/plain": [
       "['7', '3', '1', '6', '2', '8', '9', '0']"
      ]
     },
     "execution_count": 143,
     "metadata": {},
     "output_type": "execute_result"
    }
   ],
   "source": [
    "sorted(result, key=result.get)"
   ]
  },
  {
   "cell_type": "code",
   "execution_count": 142,
   "metadata": {},
   "outputs": [
    {
     "name": "stdout",
     "output_type": "stream",
     "text": [
      "Help on class dict in module builtins:\n",
      "\n",
      "class dict(object)\n",
      " |  dict() -> new empty dictionary\n",
      " |  dict(mapping) -> new dictionary initialized from a mapping object's\n",
      " |      (key, value) pairs\n",
      " |  dict(iterable) -> new dictionary initialized as if via:\n",
      " |      d = {}\n",
      " |      for k, v in iterable:\n",
      " |          d[k] = v\n",
      " |  dict(**kwargs) -> new dictionary initialized with the name=value pairs\n",
      " |      in the keyword argument list.  For example:  dict(one=1, two=2)\n",
      " |  \n",
      " |  Methods defined here:\n",
      " |  \n",
      " |  __contains__(self, key, /)\n",
      " |      True if D has a key k, else False.\n",
      " |  \n",
      " |  __delitem__(self, key, /)\n",
      " |      Delete self[key].\n",
      " |  \n",
      " |  __eq__(self, value, /)\n",
      " |      Return self==value.\n",
      " |  \n",
      " |  __ge__(self, value, /)\n",
      " |      Return self>=value.\n",
      " |  \n",
      " |  __getattribute__(self, name, /)\n",
      " |      Return getattr(self, name).\n",
      " |  \n",
      " |  __getitem__(...)\n",
      " |      x.__getitem__(y) <==> x[y]\n",
      " |  \n",
      " |  __gt__(self, value, /)\n",
      " |      Return self>value.\n",
      " |  \n",
      " |  __init__(self, /, *args, **kwargs)\n",
      " |      Initialize self.  See help(type(self)) for accurate signature.\n",
      " |  \n",
      " |  __iter__(self, /)\n",
      " |      Implement iter(self).\n",
      " |  \n",
      " |  __le__(self, value, /)\n",
      " |      Return self<=value.\n",
      " |  \n",
      " |  __len__(self, /)\n",
      " |      Return len(self).\n",
      " |  \n",
      " |  __lt__(self, value, /)\n",
      " |      Return self<value.\n",
      " |  \n",
      " |  __ne__(self, value, /)\n",
      " |      Return self!=value.\n",
      " |  \n",
      " |  __new__(*args, **kwargs) from builtins.type\n",
      " |      Create and return a new object.  See help(type) for accurate signature.\n",
      " |  \n",
      " |  __repr__(self, /)\n",
      " |      Return repr(self).\n",
      " |  \n",
      " |  __setitem__(self, key, value, /)\n",
      " |      Set self[key] to value.\n",
      " |  \n",
      " |  __sizeof__(...)\n",
      " |      D.__sizeof__() -> size of D in memory, in bytes\n",
      " |  \n",
      " |  clear(...)\n",
      " |      D.clear() -> None.  Remove all items from D.\n",
      " |  \n",
      " |  copy(...)\n",
      " |      D.copy() -> a shallow copy of D\n",
      " |  \n",
      " |  fromkeys(iterable, value=None, /) from builtins.type\n",
      " |      Returns a new dict with keys from iterable and values equal to value.\n",
      " |  \n",
      " |  get(...)\n",
      " |      D.get(k[,d]) -> D[k] if k in D, else d.  d defaults to None.\n",
      " |  \n",
      " |  items(...)\n",
      " |      D.items() -> a set-like object providing a view on D's items\n",
      " |  \n",
      " |  keys(...)\n",
      " |      D.keys() -> a set-like object providing a view on D's keys\n",
      " |  \n",
      " |  pop(...)\n",
      " |      D.pop(k[,d]) -> v, remove specified key and return the corresponding value.\n",
      " |      If key is not found, d is returned if given, otherwise KeyError is raised\n",
      " |  \n",
      " |  popitem(...)\n",
      " |      D.popitem() -> (k, v), remove and return some (key, value) pair as a\n",
      " |      2-tuple; but raise KeyError if D is empty.\n",
      " |  \n",
      " |  setdefault(...)\n",
      " |      D.setdefault(k[,d]) -> D.get(k,d), also set D[k]=d if k not in D\n",
      " |  \n",
      " |  update(...)\n",
      " |      D.update([E, ]**F) -> None.  Update D from dict/iterable E and F.\n",
      " |      If E is present and has a .keys() method, then does:  for k in E: D[k] = E[k]\n",
      " |      If E is present and lacks a .keys() method, then does:  for k, v in E: D[k] = v\n",
      " |      In either case, this is followed by: for k in F:  D[k] = F[k]\n",
      " |  \n",
      " |  values(...)\n",
      " |      D.values() -> an object providing a view on D's values\n",
      " |  \n",
      " |  ----------------------------------------------------------------------\n",
      " |  Data and other attributes defined here:\n",
      " |  \n",
      " |  __hash__ = None\n",
      "\n"
     ]
    }
   ],
   "source": [
    "help(dict)"
   ]
  },
  {
   "cell_type": "code",
   "execution_count": 27,
   "metadata": {},
   "outputs": [
    {
     "name": "stdout",
     "output_type": "stream",
     "text": [
      "['a', 'c', 'b'] d\n"
     ]
    }
   ],
   "source": [
    "a=list('acdb')\n",
    "b=a.pop(2)\n",
    "print(a,b)"
   ]
  },
  {
   "cell_type": "code",
   "execution_count": 129,
   "metadata": {},
   "outputs": [
    {
     "data": {
      "text/plain": [
       "{'0': 0,\n",
       " '1': 0,\n",
       " '2': 0,\n",
       " '3': 0,\n",
       " '4': 0,\n",
       " '5': 0,\n",
       " '6': 0,\n",
       " '7': 0,\n",
       " '8': 0,\n",
       " '9': 0}"
      ]
     },
     "execution_count": 129,
     "metadata": {},
     "output_type": "execute_result"
    }
   ],
   "source": [
    "dict(zip('0123456789',[0]*10))"
   ]
  },
  {
   "cell_type": "code",
   "execution_count": 66,
   "metadata": {},
   "outputs": [
    {
     "data": {
      "text/plain": [
       "{1: 'a', 2: 'b', 3: 'c'}"
      ]
     },
     "execution_count": 66,
     "metadata": {},
     "output_type": "execute_result"
    }
   ],
   "source": [
    "dict(zip([1,2,3],['a','b','c']))"
   ]
  },
  {
   "cell_type": "code",
   "execution_count": 85,
   "metadata": {},
   "outputs": [
    {
     "name": "stdout",
     "output_type": "stream",
     "text": [
      "{'0': 0, '1': 0, '2': 0, '3': 0, '4': 0, '5': 0, '6': 0, '7': 0, '8': 0, '9': 0}\n",
      "yes 0\n",
      "{'0': 0, '1': 0, '2': 0, '3': 1, '4': 0, '5': 0, '6': 0, '7': 0, '8': 0, '9': 0}\n"
     ]
    }
   ],
   "source": [
    "test=dict(zip('0123456789',[0]*10))\n",
    "print(test)\n",
    "if ('3') in test:\n",
    "    print('yes',test['3'])\n",
    "    test['3']=1\n",
    "print(test)"
   ]
  },
  {
   "cell_type": "code",
   "execution_count": 131,
   "metadata": {},
   "outputs": [
    {
     "name": "stdout",
     "output_type": "stream",
     "text": [
      "{'0': 10, '1': 9, '2': 8, '3': 7, '4': 6, '5': 5, '6': 4, '7': 3, '8': 2, '9': 1}\n",
      "0 10\n",
      "1 9\n",
      "2 8\n",
      "3 7\n",
      "4 6\n",
      "5 5\n",
      "6 4\n",
      "7 3\n",
      "8 2\n",
      "9 1\n",
      "10\n"
     ]
    }
   ],
   "source": [
    "test=dict(zip('0123456789',range(10,0,-1)))\n",
    "print(test)\n",
    "for i in test:\n",
    "    print(i,test[i])\n",
    "#print(test[4])\n",
    "print(len(test))"
   ]
  },
  {
   "cell_type": "code",
   "execution_count": 60,
   "metadata": {},
   "outputs": [
    {
     "data": {
      "text/plain": [
       "{'r': 0,\n",
       " 'a': 0,\n",
       " 'n': 0,\n",
       " 'g': 0,\n",
       " 'e': 0,\n",
       " '(': 0,\n",
       " '0': 0,\n",
       " ',': 0,\n",
       " ' ': 0,\n",
       " '1': 0}"
      ]
     },
     "execution_count": 60,
     "metadata": {},
     "output_type": "execute_result"
    }
   ],
   "source": [
    "dict(zip(str(range(10)),[0]*10))"
   ]
  },
  {
   "cell_type": "code",
   "execution_count": null,
   "metadata": {},
   "outputs": [],
   "source": [
    "#forum-1\n",
    "import functools\n",
    "\n",
    "\n",
    "def solve(attempts):\n",
    "    all = set(x for y in attempts for x in y)\n",
    "    ordering = {}\n",
    "    for a, b, c in attempts:\n",
    "        ordering[(a, b)] = -1\n",
    "        ordering[(a, c)] = -1\n",
    "        ordering[(b, c)] = -1\n",
    "        ordering[(b, a)] = 1\n",
    "        ordering[(c, a)] = 1\n",
    "        ordering[(c, b)] = 1\n",
    "    key = functools.cmp_to_key(lambda a, b: ordering[(a, b)])\n",
    "    return ''.join(sorted(all, key=key))\n",
    "\n",
    "\n",
    "if __name__ == '__main__':\n",
    "    with open('p079_keylog.txt', 'r') as f:\n",
    "        attempts = tuple(map(str.strip, f.readlines()))\n",
    "    print(solve(attempts))"
   ]
  },
  {
   "cell_type": "code",
   "execution_count": null,
   "metadata": {},
   "outputs": [],
   "source": [
    "#forum-2\n",
    "import re\n",
    "import itertools\n",
    "\n",
    "def is_subsequence(s, ss):\n",
    "    return re.match('.*' + '.*'.join(list(ss)) + '.*', s) is not None\n",
    "\n",
    "attempts = [li.strip() for li in open('p079_keylog.txt', mode='r', encoding='utf-8').readlines()]\n",
    "\n",
    "for per in itertools.permutations({x for x in ''.join(attempts)}):\n",
    "    found = True\n",
    "    for t in attempts:\n",
    "        if not is_subsequence(''.join(per), t):\n",
    "            found = False\n",
    "            break\n",
    "    if found:\n",
    "        print('ans =', ''.join(per))\n",
    "        break"
   ]
  },
  {
   "cell_type": "code",
   "execution_count": null,
   "metadata": {},
   "outputs": [],
   "source": [
    "#forum-3\n",
    "import numpy as np\n",
    "from collections import defaultdict\n",
    "\n",
    "logins=np.loadtxt('p079_keylog.txt',dtype=str)\n",
    "\n",
    "dic=defaultdict(set)\n",
    "for login in logins:\n",
    "\tfor i, d in enumerate(login):\n",
    "\t\t\ts=dic[d]\n",
    "\t\t\ts.update(list(login[i+1:]))\n",
    "\t\t\tdic.update({d:s})\n",
    "print ''.join(sorted(dic,key=lambda k: len(dic[k]),reverse=True))"
   ]
  },
  {
   "cell_type": "code",
   "execution_count": null,
   "metadata": {},
   "outputs": [],
   "source": [
    "#forum-4\n",
    "def p79(filename='p079_keylog.txt'):\n",
    "    \n",
    "    t=time.clock()\n",
    "    \n",
    "    g=DFSGraph()\n",
    "    \n",
    "    with open(filename,'r') as file:\n",
    "        trios  = file.readlines() \n",
    "        \n",
    "    for trio in trios:\n",
    "        g.addEdge(trio[0],trio[1])\n",
    "        g.addEdge(trio[0],trio[2])\n",
    "        g.addEdge(trio[1],trio[2])\n",
    "           \n",
    "    g.dfs()\n",
    "    \n",
    "    code=[]\n",
    "    for id in g.getVertices():\n",
    "        v=g.getVertex(id)\n",
    "        code.append((v.getFinish(),id))\n",
    "        \n",
    "    code=sorted(code)\n",
    "    code=code[::-1]    \n",
    "    final=[c[1] for c in code]\n",
    "    print(''.join([str(d) for d in final]))\n",
    "    print(time.clock()-t)"
   ]
  },
  {
   "cell_type": "code",
   "execution_count": null,
   "metadata": {},
   "outputs": [],
   "source": [
    "#forum-5\n",
    "import itertools as it\n",
    "from time import time\n",
    "\n",
    "KEYLOG = [319, 680, 180, 690, 129, 620, 762, 689, 762, 318,\n",
    "          368, 710, 720, 710, 629, 168, 160, 689, 716, 731,\n",
    "          736, 729, 316, 729, 729, 710, 769, 290, 719, 680,\n",
    "          318, 389, 162, 289, 162, 718, 729, 319, 790, 680,\n",
    "          890, 362, 319, 760, 316, 729, 380, 319, 728, 716]\n",
    "\n",
    "MASK = set(KEYLOG)\n",
    "\n",
    "\n",
    "def join(strlist):\n",
    "    # return '7' + ''.join(strlist) + '0'  <- if you want to assume the 7 & 0 are first and last\n",
    "    return ''.join(strlist)\n",
    "\n",
    "\n",
    "def is_pass(strcode, mask):\n",
    "    flag = True\n",
    "    for n in mask:\n",
    "\n",
    "        d1 = str(n // 100)\n",
    "        d2 = str((n // 10) % 10)\n",
    "        d3 = str(n % 10)\n",
    "\n",
    "        p1 = strcode.index(d1)\n",
    "        p2 = strcode.index(d2)\n",
    "        p3 = strcode.index(d3)\n",
    "\n",
    "        if not(p1 < p2 < p3):\n",
    "            return False\n",
    "            break\n",
    "\n",
    "    return flag\n",
    "\n",
    "\n",
    "\n",
    "t0 = time()\n",
    "# i = list(map(join, it.permutations('123689')))   <- if you want to assume the 7 & 0 are first and last\n",
    "i = list(map(join, it.permutations('01236789')))\n",
    "\n",
    "for code in i:\n",
    "    if is_pass(code, KEYLOG):\n",
    "        print(code)\n",
    "        break\n",
    "print(time()-t0)"
   ]
  }
 ],
 "metadata": {
  "kernelspec": {
   "display_name": "Python 3",
   "language": "python",
   "name": "python3"
  },
  "language_info": {
   "codemirror_mode": {
    "name": "ipython",
    "version": 3
   },
   "file_extension": ".py",
   "mimetype": "text/x-python",
   "name": "python",
   "nbconvert_exporter": "python",
   "pygments_lexer": "ipython3",
   "version": "3.6.5"
  }
 },
 "nbformat": 4,
 "nbformat_minor": 2
}
