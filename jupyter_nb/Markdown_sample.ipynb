{
 "cells": [
  {
   "cell_type": "markdown",
   "metadata": {},
   "source": [
    "\n",
    "# h1 header\n",
    "\\# h1 header\n",
    "\n",
    "h1 header\n",
    "==\n",
    "`h1 header\n",
    "==`\n",
    "\n",
    "## h2 header\n",
    "'## h2 header\n",
    "\n",
    "h2 header\n",
    "--\n",
    "h2 header\n",
    "--\n",
    "\n",
    "### h3 header\n",
    "\"### h3 header\n",
    "\n",
    "#### h4 header\n",
    "`#### h4 header`\n",
    "\n",
    "##### h5 header\n",
    "`##### h5 header`\n"
   ]
  },
  {
   "cell_type": "markdown",
   "metadata": {},
   "source": [
    "### Separate paragraphs\n",
    "\n",
    "Paragraphs are separated by a blank line.\n",
    "\n",
    "2nd paragraph. *Italic*, _Italic also_, **bold**,__bold also__ and `monospace 'hijk'`, just 'hijk'.\n"
   ]
  },
  {
   "cell_type": "markdown",
   "metadata": {},
   "source": [
    "### Separate lines\n",
    "\n",
    "Paragraphs are separated <br> by a blank line."
   ]
  },
  {
   "cell_type": "markdown",
   "metadata": {},
   "source": [
    "## List:\n",
    "\n",
    " 1. first item\n",
    "     1. sub list (Alphabet)\n",
    "         1. sub-sub list (small alphabet)\n",
    "             1. sub-sub-sub list (roman number)\n",
    "             1. sub-sub-sub list\n",
    "                 1. sub-sub-\n",
    "     1. number(alphabet) is ordered automatically\n",
    "         - bulleted list(-)\n",
    "         + bulleted list(+)\n",
    "         * bulleted list(\\*)\n",
    " 2. second item\n",
    " 2. third item - \n",
    " 2. 4th item - \n",
    " \n",
    "\n",
    "\n",
    "Note that --- not considering the asterisk --- the actual text\n",
    "content starts at 4-columns in.\n",
    "\n",
    "    this block by tab or space\n",
    "    that one\n",
    "    the other one\n",
    "    \n",
    "```\n",
    "this is block by grave accent\n",
    "that one\n",
    "the other one\n",
    "```\n",
    "test"
   ]
  },
  {
   "cell_type": "markdown",
   "metadata": {},
   "source": [
    "## Block Quotes\n",
    "\n",
    "  \n",
    "> Block quotes are\n",
    "> written like so.\n",
    "\n",
    ">> They can span multiple paragraphs,\n",
    "\n",
    "> if you like.\n",
    "\n",
    "Use 3 dashes for an em-dash. Use 2 dashes for ranges (ex., \"it's all\n",
    "in chapters 12--14\"). Three dots ... will be converted to an ellipsis.\n",
    "Unicode is supported. ☺"
   ]
  },
  {
   "cell_type": "markdown",
   "metadata": {},
   "source": [
    "### Text block\n",
    "\n",
    "Note again how the actual text starts at 4 columns in (4 characters\n",
    "from the left side). Here's a code sample:\n",
    "\n",
    "    # Let me re-iterate ...\n",
    "    for i in 1 .. 10 { do-something(i) }\n",
    "\n",
    "```\n",
    "this is block by grave accent\n",
    "that one\n",
    "the other one\n",
    "```\n",
    "\n",
    "As you probably guessed, indented 4 spaces. By the way, instead of\n",
    "indenting the block, you can use delimited blocks, if you like:\n",
    "\n",
    "~~~\n",
    "define foobar() {\n",
    "    print \"Welcome to flavor country!\";\n",
    "}\n",
    "~~~\n",
    "\n",
    "(which makes copying & pasting easier). You can optionally mark the\n",
    "delimited block for Pandoc to syntax highlight it:\n",
    "\n"
   ]
  },
  {
   "cell_type": "markdown",
   "metadata": {},
   "source": [
    "### Code Block\n",
    "\n",
    "``` python\n",
    "import time\n",
    "# Quick, count to ten!\n",
    "for i in range(10):\n",
    "    # (but not *too* quick)\n",
    "    time.sleep(0.5)\n",
    "    print i\n",
    "```\n",
    "\n",
    "~~~ python\n",
    "import time\n",
    "# Quick, count to ten!\n",
    "for i in range(10):\n",
    "    # (but not *too* quick)\n",
    "    time.sleep(0.5)\n",
    "    print i\n",
    "~~~"
   ]
  },
  {
   "cell_type": "markdown",
   "metadata": {},
   "source": [
    "### Links\n",
    "Here's a link to [a website](http://foo.bar), \n",
    "\n",
    "to a [local doc](local-doc.html \"pop-up tip\"), with pop-up tips\n",
    "\n",
    "and to a [section heading in the current doc](#an-h2-header). \n"
   ]
  },
  {
   "cell_type": "markdown",
   "metadata": {},
   "source": [
    "### Footnote ??\n",
    "\n",
    "Here's a footnote [1].\n",
    "\n",
    "[^1]: Footnote text goes here."
   ]
  },
  {
   "cell_type": "markdown",
   "metadata": {},
   "source": [
    "Footnotes[^1] have a label[^@#] and the footnote's content.\n",
    "\n",
    "[^1]: This is a footnote content.\n",
    "\n",
    "[^@#]: A footnote on the label: \"@#\"."
   ]
  },
  {
   "cell_type": "markdown",
   "metadata": {},
   "source": [
    "## Tables\n",
    "\n",
    "|size  |material      |color      |\n",
    "|------|--------------|-----------|\n",
    "|9     |leather       |brown      |\n",
    "|10    |hemp canvas   |natural    |\n",
    "|11    |glass         |transparent|\n",
    "Table: Shoes, their sizes, and what they're made of\n",
    "\n",
    "(The above is the caption for the table.) "
   ]
  },
  {
   "cell_type": "markdown",
   "metadata": {},
   "source": [
    "#### Cell justification ??\n",
    "\n",
    "**Centered, Right-Justified, and Regular Cells and Headers**: \n",
    "\n",
    "centered header | regular header | right-justified header | centered header | regular header\n",
    " :---: |---| ---: |:---:|---\n",
    " centered cell |regular cell|  right-justified cell|centered cell|regular cell\n",
    "centered cell|regular cell|right-justified cell|centered cell|regular cell\n"
   ]
  },
  {
   "cell_type": "markdown",
   "metadata": {},
   "source": [
    "#### Multi-line tables:\n",
    "\n",
    "|keyword|text\n",
    "|---|---\n",
    "|red |Sunsets, apples,<br> and other red or reddish <br>things.\n",
    "|green|Leaves, grass, frogs <br> and other things it's <br> not easy being."
   ]
  },
  {
   "cell_type": "markdown",
   "metadata": {},
   "source": [
    "## horizontal rule follows.\n",
    "\n",
    "***"
   ]
  },
  {
   "cell_type": "markdown",
   "metadata": {},
   "source": [
    "\n",
    "##  Definition list: ??\n",
    "\n",
    "apples \n",
    "    \n",
    "    : Good for making applesauce.\n",
    "\n",
    "oranges\n",
    "\n",
    "    : Citrus!\n",
    "tomatoes\n",
    "\n",
    "    : There's no \"e\" in tomatoe.\n",
    "\n",
    "Again, text is indented 4 spaces. (Put a blank line between each\n",
    "term/definition pair to spread things out more.)"
   ]
  },
  {
   "cell_type": "markdown",
   "metadata": {},
   "source": [
    "[^1]: \n",
    "    The first paragraph of the definition.\n",
    "\n",
    "    Paragraph two of the definition.\n",
    "\n",
    "    > A blockquote with\n",
    "    > multiple lines.\n",
    "\n",
    "        a code block\n",
    "\n",
    "    A final paragraph."
   ]
  },
  {
   "cell_type": "markdown",
   "metadata": {},
   "source": [
    "### Line block ??\n",
    "\n",
    "Here's a \"line block\":\n",
    "\n",
    "| Line one | Line too | Line tree\n"
   ]
  },
  {
   "cell_type": "markdown",
   "metadata": {},
   "source": [
    "### Image\n",
    "images can be specified like so:\n",
    "\n",
    "![example image](example-image.jpg \"An exemplary image\")"
   ]
  },
  {
   "cell_type": "markdown",
   "metadata": {},
   "source": [
    "### Inline math equations(LaTeX equation)\n",
    "\n",
    "$\\omega = d\\phi / dt$. \n",
    "\n",
    "$e^{i\\pi} +  1 = 0$\n",
    "\n",
    "Display\n",
    "math should get its own line and be put in in double-dollarsigns:\n",
    "\n",
    "$$I = \\int \\rho R^{2} dV$$\n",
    "\n",
    "$$e^x=\\sum_{i=0}^\\infty \\frac{1}{i!}x^i$$\n"
   ]
  },
  {
   "cell_type": "markdown",
   "metadata": {},
   "source": [
    "\n",
    ">$2^2=4,\\ 2^3=8,\\ 2^4=16,\\ 2^5=32$<br>\n",
    "$3^2=9,\\ 3^3=27,\\ 3^4=81,\\ 3^5=243$<br>\n",
    "$4^2=16,\\ 4^3=64,\\ 4^4=256,\\ 4^5=1024$<br>\n",
    "$5^2=25,\\ 5^3=125,\\ 5^4=625,\\ 5^5=3125$\n",
    "\n",
    "~~~\n",
    "$2^2=4, 2^3=8, 2^4=16, 2^5=32$<br>\n",
    "$3^2=9, 3^3=27, 3^4=81, 3^5=243$<br>\n",
    "$4^2=16, 4^3=64, 4^4=256, 4^5=1024$<br>\n",
    "$5^2=25, 5^3=125, 5^4=625, 5^5=3125$\n",
    "~~~\n",
    "    \n",
    "    22=4, 23=8, 24=16, 25=32\n",
    "    32=9, 33=27, 34=81, 35=243\n",
    "    42=16, 43=64, 44=256, 45=1024\n",
    "    52=25, 53=125, 54=625, 55=3125\n",
    "    \n"
   ]
  },
  {
   "cell_type": "markdown",
   "metadata": {},
   "source": [
    "### Backslash-escape\n",
    "And note that you can backslash-escape any punctuation characters\n",
    "which you wish to be displayed literally, ex.: \\`foo\\`, \\*bar\\*, etc."
   ]
  },
  {
   "cell_type": "markdown",
   "metadata": {},
   "source": [
    "### escape\n",
    "`#by grave accent`\n",
    "\n",
    "\\#by back-slash\n",
    "\n",
    "'#by quote mark(oneline)\n",
    "\n",
    "\"#by double qutation mark\"\n",
    "\n",
    "\n",
    "\n",
    "\n",
    "And note that you can backslash-escape any punctuation characters\n",
    "which you wish to be displayed literally, ex.: \\`foo\\`, \\*bar\\*, etc."
   ]
  }
 ],
 "metadata": {
  "kernelspec": {
   "display_name": "Python 3",
   "language": "python",
   "name": "python3"
  },
  "language_info": {
   "codemirror_mode": {
    "name": "ipython",
    "version": 3
   },
   "file_extension": ".py",
   "mimetype": "text/x-python",
   "name": "python",
   "nbconvert_exporter": "python",
   "pygments_lexer": "ipython3",
   "version": "3.6.5"
  }
 },
 "nbformat": 4,
 "nbformat_minor": 1
}
