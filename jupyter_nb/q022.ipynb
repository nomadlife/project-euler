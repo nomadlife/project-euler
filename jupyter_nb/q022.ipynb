{
 "cells": [
  {
   "cell_type": "markdown",
   "metadata": {},
   "source": [
    "# Q-022 Names scores\n",
    "\n",
    "\n",
    "\n",
    "Using names.txt (right click and 'Save Link/Target As...'), a 46K text file containing over five-thousand first names, begin by sorting it into alphabetical order. Then working out the alphabetical value for each name, multiply this value by its alphabetical position in the list to obtain a name score.\n",
    "\n",
    "For example, when the list is sorted into alphabetical order, COLIN, which is worth 3 + 15 + 12 + 9 + 14 = 53, is the 938th name in the list. So, COLIN would obtain a score of 938 × 53 = 49714.\n",
    "\n",
    "What is the total of all the name scores in the file?\n",
    "\n",
    "\n",
    "1. ascii-65"
   ]
  },
  {
   "cell_type": "code",
   "execution_count": 1,
   "metadata": {
    "scrolled": true
   },
   "outputs": [
    {
     "data": {
      "text/plain": [
       "46447"
      ]
     },
     "execution_count": 1,
     "metadata": {},
     "output_type": "execute_result"
    }
   ],
   "source": [
    "# file open\n",
    "filename = 'q022_data.txt'\n",
    "with open(filename) as file_object:\n",
    "    contents = file_object.read()\n",
    "len(contents)"
   ]
  },
  {
   "cell_type": "code",
   "execution_count": 19,
   "metadata": {
    "scrolled": true
   },
   "outputs": [
    {
     "name": "stdout",
     "output_type": "stream",
     "text": [
      "True\n"
     ]
    },
    {
     "data": {
      "text/plain": [
       "5163"
      ]
     },
     "execution_count": 19,
     "metadata": {},
     "output_type": "execute_result"
    }
   ],
   "source": [
    "# file open & remove (\") & split with ','\n",
    "\n",
    "filename = 'q022_data.txt'\n",
    "with open(filename) as file_object:\n",
    "    contents = file_object.read()\n",
    "contents=contents.replace('\"','')\n",
    "print(contents.isupper())\n",
    "names=contents.split(',')\n",
    "len(names)"
   ]
  },
  {
   "cell_type": "code",
   "execution_count": 9,
   "metadata": {
    "scrolled": true
   },
   "outputs": [
    {
     "name": "stdout",
     "output_type": "stream",
     "text": [
      "['MARY', 'PATRICIA', 'LINDA', 'BARBARA', 'ELIZABETH', 'JENNIFER', 'MARIA', 'SUSAN', 'MARGARET', 'DOROTHY', 'LISA', 'NANCY', 'KAREN', 'BETTY', 'HELEN', 'SANDRA', 'DONNA', 'CAROL', 'RUTH', 'SHARON']\n"
     ]
    }
   ],
   "source": [
    "# file open & remove (\") & split with ','\n",
    "with open('q022_data.txt') as data:\n",
    "    names = data.read().replace('\"','').split(',')\n",
    "print(names[:20])"
   ]
  },
  {
   "cell_type": "code",
   "execution_count": 7,
   "metadata": {
    "scrolled": true
   },
   "outputs": [
    {
     "name": "stdout",
     "output_type": "stream",
     "text": [
      "1 AARON\n",
      "2 ABBEY\n",
      "3 ABBIE\n",
      "4 ABBY\n",
      "5 ABDUL\n",
      "6 ABE\n",
      "7 ABEL\n",
      "8 ABIGAIL\n",
      "9 ABRAHAM\n",
      "10 ABRAM\n"
     ]
    }
   ],
   "source": [
    "# sorting & make loop\n",
    "names.sort()\n",
    "for idx,val in enumerate(names[:10]):\n",
    "    print(idx+1,val)"
   ]
  },
  {
   "cell_type": "code",
   "execution_count": 1,
   "metadata": {},
   "outputs": [
    {
     "name": "stdout",
     "output_type": "stream",
     "text": [
      "['AARON', 'ABBEY', 'ABBIE', 'ABBY', 'ABDUL', 'ABE', 'ABEL', 'ABIGAIL', 'ABRAHAM', 'ABRAM', 'ADA', 'ADAH', 'ADALBERTO', 'ADALINE', 'ADAM', 'ADAN', 'ADDIE', 'ADELA', 'ADELAIDA', 'ADELAIDE', 'ADELE', 'ADELIA', 'ADELINA', 'ADELINE', 'ADELL', 'ADELLA', 'ADELLE', 'ADENA', 'ADINA', 'ADOLFO', 'ADOLPH', 'ADRIA', 'ADRIAN', 'ADRIANA', 'ADRIANE', 'ADRIANNA', 'ADRIANNE', 'ADRIEN', 'ADRIENE', 'ADRIENNE', 'AFTON', 'AGATHA', 'AGNES', 'AGNUS', 'AGRIPINA', 'AGUEDA', 'AGUSTIN', 'AGUSTINA', 'AHMAD', 'AHMED', 'AI', 'AIDA', 'AIDE', 'AIKO', 'AILEEN', 'AILENE', 'AIMEE', 'AISHA', 'AJA', 'AKIKO', 'AKILAH', 'AL', 'ALAINA', 'ALAINE', 'ALAN', 'ALANA', 'ALANE', 'ALANNA', 'ALAYNA', 'ALBA', 'ALBERT', 'ALBERTA', 'ALBERTHA', 'ALBERTINA', 'ALBERTINE', 'ALBERTO', 'ALBINA', 'ALDA', 'ALDEN', 'ALDO', 'ALEASE', 'ALEC', 'ALECIA', 'ALEEN', 'ALEIDA', 'ALEISHA', 'ALEJANDRA', 'ALEJANDRINA', 'ALEJANDRO', 'ALENA', 'ALENE', 'ALESHA', 'ALESHIA', 'ALESIA', 'ALESSANDRA', 'ALETA', 'ALETHA', 'ALETHEA', 'ALETHIA', 'ALEX']\n"
     ]
    }
   ],
   "source": [
    "names.sort()\n",
    "print(names[:100])"
   ]
  },
  {
   "cell_type": "code",
   "execution_count": 3,
   "metadata": {
    "scrolled": true
   },
   "outputs": [
    {
     "name": "stdout",
     "output_type": "stream",
     "text": [
      "1 AARON 1,1,18,15,14,\n",
      "2 ABBEY 1,2,2,5,25,\n",
      "3 ABBIE 1,2,2,9,5,\n",
      "4 ABBY 1,2,2,25,\n",
      "5 ABDUL 1,2,4,21,12,\n",
      "6 ABE 1,2,5,\n",
      "7 ABEL 1,2,5,12,\n",
      "8 ABIGAIL 1,2,9,7,1,9,12,\n",
      "9 ABRAHAM 1,2,18,1,8,1,13,\n",
      "10 ABRAM 1,2,18,1,13,\n",
      "11 ADA 1,4,1,\n",
      "12 ADAH 1,4,1,8,\n",
      "13 ADALBERTO 1,4,1,12,2,5,18,20,15,\n",
      "14 ADALINE 1,4,1,12,9,14,5,\n",
      "15 ADAM 1,4,1,13,\n",
      "16 ADAN 1,4,1,14,\n",
      "17 ADDIE 1,4,4,9,5,\n",
      "18 ADELA 1,4,5,12,1,\n",
      "19 ADELAIDA 1,4,5,12,1,9,4,1,\n",
      "20 ADELAIDE 1,4,5,12,1,9,4,5,\n"
     ]
    }
   ],
   "source": [
    "# convert to number (ascii code)\n",
    "for idx,val in enumerate(names[:20]):\n",
    "    print(idx+1,val,end=' ')\n",
    "    for i in val:\n",
    "        print(ord(i)-64,end=',')\n",
    "    print()"
   ]
  },
  {
   "cell_type": "code",
   "execution_count": 14,
   "metadata": {},
   "outputs": [
    {
     "name": "stdout",
     "output_type": "stream",
     "text": [
      "1 MARY 13,1,18,25,total: 57\n",
      "2 PATRICIA 16,1,20,18,9,3,9,1,total: 77\n",
      "3 LINDA 12,9,14,4,1,total: 40\n",
      "4 BARBARA 2,1,18,2,1,18,1,total: 43\n",
      "5 ELIZABETH 5,12,9,26,1,2,5,20,8,total: 88\n",
      "6 JENNIFER 10,5,14,14,9,6,5,18,total: 81\n",
      "7 MARIA 13,1,18,9,1,total: 42\n",
      "8 SUSAN 19,21,19,1,14,total: 74\n",
      "9 MARGARET 13,1,18,7,1,18,5,20,total: 83\n",
      "10 DOROTHY 4,15,18,15,20,8,25,total: 105\n",
      "11 LISA 12,9,19,1,total: 41\n",
      "12 NANCY 14,1,14,3,25,total: 57\n",
      "13 KAREN 11,1,18,5,14,total: 49\n",
      "14 BETTY 2,5,20,20,25,total: 72\n",
      "15 HELEN 8,5,12,5,14,total: 44\n",
      "16 SANDRA 19,1,14,4,18,1,total: 57\n",
      "17 DONNA 4,15,14,14,1,total: 48\n",
      "18 CAROL 3,1,18,15,12,total: 49\n",
      "19 RUTH 18,21,20,8,total: 67\n",
      "20 SHARON 19,8,1,18,15,14,total: 75\n"
     ]
    }
   ],
   "source": [
    "# summation and product\n",
    "for idx,val in enumerate(names[:20]):\n",
    "    print(idx+1,val,end=' ')\n",
    "    total=0\n",
    "    for i in val:\n",
    "        print(ord(i)-64,end=',')\n",
    "        total=total+ord(i)-64\n",
    "    print(\"total:\",total)"
   ]
  },
  {
   "cell_type": "code",
   "execution_count": 19,
   "metadata": {},
   "outputs": [
    {
     "name": "stdout",
     "output_type": "stream",
     "text": [
      "1 MARY 13,1,18,25,total: 57,57\n",
      "2 PATRICIA 16,1,20,18,9,3,9,1,total: 77,211\n",
      "3 LINDA 12,9,14,4,1,total: 40,331\n",
      "4 BARBARA 2,1,18,2,1,18,1,total: 43,503\n",
      "5 ELIZABETH 5,12,9,26,1,2,5,20,8,total: 88,943\n",
      "6 JENNIFER 10,5,14,14,9,6,5,18,total: 81,1429\n",
      "7 MARIA 13,1,18,9,1,total: 42,1723\n",
      "8 SUSAN 19,21,19,1,14,total: 74,2315\n",
      "9 MARGARET 13,1,18,7,1,18,5,20,total: 83,3062\n",
      "10 DOROTHY 4,15,18,15,20,8,25,total: 105,4112\n",
      "11 LISA 12,9,19,1,total: 41,4563\n",
      "12 NANCY 14,1,14,3,25,total: 57,5247\n",
      "13 KAREN 11,1,18,5,14,total: 49,5884\n",
      "14 BETTY 2,5,20,20,25,total: 72,6892\n",
      "15 HELEN 8,5,12,5,14,total: 44,7552\n",
      "16 SANDRA 19,1,14,4,18,1,total: 57,8464\n",
      "17 DONNA 4,15,14,14,1,total: 48,9280\n",
      "18 CAROL 3,1,18,15,12,total: 49,10162\n",
      "19 RUTH 18,21,20,8,total: 67,11435\n",
      "20 SHARON 19,8,1,18,15,14,total: 75,12935\n"
     ]
    }
   ],
   "source": [
    "# summation and product\n",
    "grand_total =0\n",
    "for idx,val in enumerate(names[:20]):\n",
    "    print(idx+1,val,end=' ')\n",
    "    total=0\n",
    "    for i in val:\n",
    "        print(ord(i)-64,end=',')\n",
    "        total=total+ord(i)-64\n",
    "    print(\"total:\",total,end=',')\n",
    "    grand_total+=total*(idx+1)\n",
    "    print(grand_total)"
   ]
  },
  {
   "cell_type": "code",
   "execution_count": 16,
   "metadata": {},
   "outputs": [
    {
     "name": "stdout",
     "output_type": "stream",
     "text": [
      "850081394\n"
     ]
    }
   ],
   "source": [
    "# summation and product\n",
    "grand_total =0\n",
    "for idx,val in enumerate(names):\n",
    "    total=0\n",
    "    for i in val:\n",
    "        total=total+ord(i)-64\n",
    "    grand_total+=total*(idx+1)\n",
    "print(grand_total)"
   ]
  },
  {
   "cell_type": "code",
   "execution_count": 30,
   "metadata": {},
   "outputs": [
    {
     "data": {
      "text/plain": [
       "65"
      ]
     },
     "execution_count": 30,
     "metadata": {},
     "output_type": "execute_result"
    }
   ],
   "source": [
    "ord('A')"
   ]
  },
  {
   "cell_type": "code",
   "execution_count": 7,
   "metadata": {},
   "outputs": [
    {
     "data": {
      "text/plain": [
       "1"
      ]
     },
     "execution_count": 7,
     "metadata": {},
     "output_type": "execute_result"
    }
   ],
   "source": [
    "ord('A')-64"
   ]
  },
  {
   "cell_type": "code",
   "execution_count": 46,
   "metadata": {},
   "outputs": [
    {
     "name": "stdout",
     "output_type": "stream",
     "text": [
      "SAMPLE\n",
      "True\n",
      "False\n",
      "True\n",
      "True\n"
     ]
    }
   ],
   "source": [
    "a=\"sample\"\n",
    "print(a.upper())\n",
    "print(a.islower())\n",
    "print(a.isupper())\n",
    "print(a.isalnum())\n",
    "print(a.isalpha())"
   ]
  },
  {
   "cell_type": "code",
   "execution_count": 45,
   "metadata": {
    "scrolled": true
   },
   "outputs": [
    {
     "name": "stdout",
     "output_type": "stream",
     "text": [
      "sample\n",
      "False\n",
      "True\n",
      "True\n",
      "True\n"
     ]
    }
   ],
   "source": [
    "b=\"SAMPLE\"\n",
    "print(b.lower())\n",
    "print(b.islower())\n",
    "print(b.isupper())\n",
    "print(b.isalnum())\n",
    "print(b.isalpha())"
   ]
  },
  {
   "cell_type": "code",
   "execution_count": 47,
   "metadata": {},
   "outputs": [
    {
     "name": "stdout",
     "output_type": "stream",
     "text": [
      "sample21\n",
      "False\n",
      "False\n",
      "True\n",
      "False\n"
     ]
    }
   ],
   "source": [
    "c=\"Sample21\"\n",
    "print(c.lower())\n",
    "print(c.islower())\n",
    "print(c.isupper())\n",
    "print(c.isalnum())\n",
    "print(c.isalpha())"
   ]
  },
  {
   "cell_type": "code",
   "execution_count": 55,
   "metadata": {},
   "outputs": [
    {
     "name": "stdout",
     "output_type": "stream",
     "text": [
      "12elpmaS\n"
     ]
    }
   ],
   "source": [
    "c=\"Sample21\"\n",
    "print(\"\".join(reversed(c)))"
   ]
  },
  {
   "cell_type": "code",
   "execution_count": 66,
   "metadata": {},
   "outputs": [
    {
     "name": "stdout",
     "output_type": "stream",
     "text": [
      "<class 'list_reverseiterator'>\n"
     ]
    }
   ],
   "source": [
    "import inspect\n",
    "d=[1,2,3]\n",
    "dd= reversed(d)\n",
    "print(type(dd))\n"
   ]
  },
  {
   "cell_type": "code",
   "execution_count": null,
   "metadata": {},
   "outputs": [],
   "source": [
    "#forum-1\n",
    "def letter_score(letter):\n",
    "    return ord(letter.upper()) - 64\n",
    "\n",
    "def word_score(word):\n",
    "    return sum(letter_score(x) for x in word)\n",
    "\n",
    "def Euler_22():\n",
    "    names_file = open(\"Euler_22_names.txt\")\n",
    "    names = sorted([x[1:-1] for x in names_file.read().split(\",\")])\n",
    "    return sum((x + 1) * word_score(names[x]) for x in range(len(names)))"
   ]
  },
  {
   "cell_type": "code",
   "execution_count": null,
   "metadata": {},
   "outputs": [],
   "source": [
    "#forum-2\n",
    "with open(\"names.txt\") as f:\n",
    "    # read lines, remove \\n and \", and sort\n",
    "    file = sorted([line.rstrip('\\n').strip('\\\"') for line in f])\n",
    "\n",
    "score_sum = 0\n",
    "for i in range(len(file)):\n",
    "    score_sum += sum([(ord(j)-64) for j in file[i]]) * (i + 1)\n",
    "\n",
    "print(score_sum)"
   ]
  },
  {
   "cell_type": "code",
   "execution_count": null,
   "metadata": {},
   "outputs": [],
   "source": [
    "#forum-3\n",
    "#Project Euler\n",
    "#Question 22\n",
    "#Jesse Hamer\n",
    "#12/18/17\n",
    "\n",
    "#Find the sum of all name scores from the list.\n",
    "\n",
    "names = scan(\"p022_names.txt\",what = \"\", sep = \",\")\n",
    "names[is.na(names)]=\"NA\"\n",
    "names = sort(names)\n",
    "\n",
    "name.value = function(name){\n",
    "  temp = strsplit(name,\"\")[[1]]\n",
    "  alphabet = c(\"A\",\"B\",\"C\",\"D\",\"E\",\"F\",\"G\",\"H\",\"I\",\"J\",\"K\",\"L\",\"M\",\"N\",\"O\",\"P\",\"Q\",\"R\",\"S\",\"T\",\"U\",\"V\",\"W\",\"X\",\"Y\",\"Z\")\n",
    "  scores = sapply(temp, function(i)return(which(i==alphabet)))\n",
    "  return(sum(scores))\n",
    "}\n",
    "\n",
    "\n",
    "name.values = sapply(names, name.value)\n",
    "\n",
    "scores = seq_len(length(name.values))*name.values\n",
    "\n",
    "sum(scores)"
   ]
  },
  {
   "cell_type": "code",
   "execution_count": null,
   "metadata": {},
   "outputs": [],
   "source": [
    "#forum-4\n",
    "from string import ascii_uppercase\n",
    "def Euler22():\n",
    "    with open(\"names.txt\") as f: names = f.read().split(',')\n",
    "    names.sort()\n",
    "    return sum((names.index(name)+1)*sum(ascii_uppercase.index(char)+1 for char in name.strip('\"')) for name in names)"
   ]
  },
  {
   "cell_type": "code",
   "execution_count": null,
   "metadata": {},
   "outputs": [],
   "source": [
    "#forum-5\n",
    "names = sorted(open(\"names.txt\").read().rstrip().replace('\"', '').split(\",\"))\n",
    "total = 0\n",
    "for position, name in enumerate(names, start = 1):\n",
    "    total += position * sum(ord(c)-64 for c in name)\n",
    "print(total)"
   ]
  },
  {
   "cell_type": "code",
   "execution_count": null,
   "metadata": {},
   "outputs": [],
   "source": [
    "#forum-6\n",
    "import string\n",
    "import pandas as pd\n",
    "\n",
    "score_list = []\n",
    "name_score = 0\n",
    "name_worth = 0\n",
    "names = []\n",
    "df = pd.read_csv('C:\\\\Users\\\\Moe\\\\Desktop\\\\names.csv.txt',sep=',',names=range(0,5163),na_filter=False)\n",
    "df = df.transpose()\n",
    "\n",
    "for name in df[0]:\n",
    "    names.append(name)\n",
    "\n",
    "names.sort()\n",
    "\n",
    "for name in names:\n",
    "    for c in name:\n",
    "        name_worth += string.ascii_uppercase.index(c)+1\n",
    "    name_score = name_worth*(names.index(name)+1)\n",
    "    name_worth=0\n",
    "    score_list.append(name_score)\n",
    "\n",
    "total = sum(score_list)\n",
    "\n",
    "print(total)"
   ]
  },
  {
   "cell_type": "code",
   "execution_count": null,
   "metadata": {},
   "outputs": [],
   "source": [
    "#forum-7\n",
    "def value(name) :\n",
    "    alphabet = 'ABCDEFGHIJKLMNOPQRSTUVWXYZ'\n",
    "    total = 0\n",
    "    for letter in name :\n",
    "        total += alphabet.find(letter) + 1\n",
    "    return(total)\n",
    "\n",
    "fhand = open('22-names.txt')\n",
    "\n",
    "name_list = fhand.read().strip().replace('\"','').split(',')\n",
    "\n",
    "name_list.sort()\n",
    "\n",
    "total = 0\n",
    "\n",
    "for name_index, name in enumerate(name_list) :\n",
    "    total += value(name) * (name_index + 1)\n",
    "\n",
    "print(total)"
   ]
  },
  {
   "cell_type": "code",
   "execution_count": null,
   "metadata": {},
   "outputs": [],
   "source": [
    "#forum-8\n",
    "# -*- coding: utf-8 -*-\n",
    "\"\"\"\n",
    "Created on Mon Jan  1 10:17:39 2018\n",
    "\n",
    "@author: User\n",
    "\"\"\"\n",
    "\n",
    "#Dictionary of letter values\n",
    "alphabet = {'A':1,'B':2,'C':3,'D':4,'E':5,'F':6,'G':7,'H':8,\n",
    "            'I':9,'J':10,'K':11,'L':12,'M':13,'N':14,'O':15,'P':16,'Q':17,\n",
    "            'R':18,'S':19,'T':20,'U':21,'V':22,'W':23,'X':24,'Y':25,'Z':26}\n",
    "\n",
    "#Function to get name_score\n",
    "def name_score(name):\n",
    "    result = 0\n",
    "    for letter in name:\n",
    "        result += alphabet[letter]\n",
    "    return result\n",
    "    \n",
    "#Reading the file and putting names into list\n",
    "file = \"names.txt\"\n",
    "names = []\n",
    "for line in open(file,'r'):\n",
    "    names.append(line.strip().split(','))\n",
    "\n",
    "names = names[0]\n",
    "names.sort()\n",
    "\n",
    "\n",
    "#Getting Answer\n",
    "answer = 0\n",
    "for x in range(len(names)):\n",
    "    names[x] = names[x].replace('\"',\"\") #Remove the \" from names\n",
    "    answer += name_score(names[x]) * (x+1)\n",
    "\n",
    "print(answer)\n"
   ]
  }
 ],
 "metadata": {
  "kernelspec": {
   "display_name": "Python 3",
   "language": "python",
   "name": "python3"
  },
  "language_info": {
   "codemirror_mode": {
    "name": "ipython",
    "version": 3
   },
   "file_extension": ".py",
   "mimetype": "text/x-python",
   "name": "python",
   "nbconvert_exporter": "python",
   "pygments_lexer": "ipython3",
   "version": "3.6.5"
  }
 },
 "nbformat": 4,
 "nbformat_minor": 1
}
