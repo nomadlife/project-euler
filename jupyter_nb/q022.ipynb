{
 "cells": [
  {
   "cell_type": "markdown",
   "metadata": {},
   "source": [
    "# Q-022 Names scores\n",
    "\n",
    "\n",
    "\n",
    "Using names.txt (right click and 'Save Link/Target As...'), a 46K text file containing over five-thousand first names, begin by sorting it into alphabetical order. Then working out the alphabetical value for each name, multiply this value by its alphabetical position in the list to obtain a name score.\n",
    "\n",
    "For example, when the list is sorted into alphabetical order, COLIN, which is worth 3 + 15 + 12 + 9 + 14 = 53, is the 938th name in the list. So, COLIN would obtain a score of 938 × 53 = 49714.\n",
    "\n",
    "What is the total of all the name scores in the file?\n",
    "\n",
    "\n",
    "1. ascii-65"
   ]
  },
  {
   "cell_type": "code",
   "execution_count": 3,
   "metadata": {
    "scrolled": true
   },
   "outputs": [
    {
     "data": {
      "text/plain": [
       "'\"MARY\",\"PATRICIA\",\"LINDA\",\"BARBARA\",\"ELIZABETH\",\"JENNIFER\",\"MARIA\",\"SUSAN\",\"MARGARET\",\"DOROTHY\",\"LISA\",\"NANCY\",\"KAREN\",\"BETTY\",\"HELEN\",\"SANDRA\",\"DONNA\",\"CAROL\",\"RUTH\",\"SHARON\",\"MICHELLE\",\"LAURA\",\"SARA'"
      ]
     },
     "execution_count": 3,
     "metadata": {},
     "output_type": "execute_result"
    }
   ],
   "source": [
    "# file open\n",
    "filename = 'q022_data.txt'\n",
    "with open(filename) as file_object:\n",
    "    contents = file_object.read()\n",
    "contents[:200]"
   ]
  },
  {
   "cell_type": "code",
   "execution_count": 19,
   "metadata": {
    "scrolled": true
   },
   "outputs": [
    {
     "name": "stdout",
     "output_type": "stream",
     "text": [
      "True\n"
     ]
    },
    {
     "data": {
      "text/plain": [
       "5163"
      ]
     },
     "execution_count": 19,
     "metadata": {},
     "output_type": "execute_result"
    }
   ],
   "source": [
    "# file open & remove (\") & split with ','\n",
    "\n",
    "filename = 'q022_data.txt'\n",
    "with open(filename) as file_object:\n",
    "    contents = file_object.read()\n",
    "contents=contents.replace('\"','')\n",
    "print(contents.isupper())\n",
    "names=contents.split(',')\n",
    "len(names)"
   ]
  },
  {
   "cell_type": "code",
   "execution_count": 5,
   "metadata": {
    "scrolled": true
   },
   "outputs": [
    {
     "name": "stdout",
     "output_type": "stream",
     "text": [
      "['MARY', 'PATRICIA', 'LINDA', 'BARBARA', 'ELIZABETH', 'JENNIFER', 'MARIA', 'SUSAN', 'MARGARET', 'DOROTHY', 'LISA', 'NANCY', 'KAREN', 'BETTY', 'HELEN', 'SANDRA', 'DONNA', 'CAROL', 'RUTH', 'SHARON']\n"
     ]
    }
   ],
   "source": [
    "# file open & remove (\") & split with ','\n",
    "with open('q022_data.txt') as data:\n",
    "    names = data.read().replace('\"','').split(',')\n",
    "print(names[:20])"
   ]
  },
  {
   "cell_type": "code",
   "execution_count": 7,
   "metadata": {
    "scrolled": true
   },
   "outputs": [
    {
     "name": "stdout",
     "output_type": "stream",
     "text": [
      "1 AARON\n",
      "2 ABBEY\n",
      "3 ABBIE\n",
      "4 ABBY\n",
      "5 ABDUL\n",
      "6 ABE\n",
      "7 ABEL\n",
      "8 ABIGAIL\n",
      "9 ABRAHAM\n",
      "10 ABRAM\n"
     ]
    }
   ],
   "source": [
    "# sorting & make loop\n",
    "names.sort()\n",
    "for idx,val in enumerate(names[:10]):\n",
    "    print(idx+1,val)"
   ]
  },
  {
   "cell_type": "code",
   "execution_count": 8,
   "metadata": {},
   "outputs": [
    {
     "name": "stdout",
     "output_type": "stream",
     "text": [
      "['AARON', 'ABBEY', 'ABBIE', 'ABBY', 'ABDUL', 'ABE', 'ABEL', 'ABIGAIL', 'ABRAHAM', 'ABRAM', 'ADA', 'ADAH', 'ADALBERTO', 'ADALINE', 'ADAM', 'ADAN', 'ADDIE', 'ADELA', 'ADELAIDA', 'ADELAIDE', 'ADELE', 'ADELIA', 'ADELINA', 'ADELINE', 'ADELL', 'ADELLA', 'ADELLE', 'ADENA', 'ADINA', 'ADOLFO', 'ADOLPH', 'ADRIA', 'ADRIAN', 'ADRIANA', 'ADRIANE', 'ADRIANNA', 'ADRIANNE', 'ADRIEN', 'ADRIENE', 'ADRIENNE', 'AFTON', 'AGATHA', 'AGNES', 'AGNUS', 'AGRIPINA', 'AGUEDA', 'AGUSTIN', 'AGUSTINA', 'AHMAD', 'AHMED', 'AI', 'AIDA', 'AIDE', 'AIKO', 'AILEEN', 'AILENE', 'AIMEE', 'AISHA', 'AJA', 'AKIKO', 'AKILAH', 'AL', 'ALAINA', 'ALAINE', 'ALAN', 'ALANA', 'ALANE', 'ALANNA', 'ALAYNA', 'ALBA', 'ALBERT', 'ALBERTA', 'ALBERTHA', 'ALBERTINA', 'ALBERTINE', 'ALBERTO', 'ALBINA', 'ALDA', 'ALDEN', 'ALDO', 'ALEASE', 'ALEC', 'ALECIA', 'ALEEN', 'ALEIDA', 'ALEISHA', 'ALEJANDRA', 'ALEJANDRINA', 'ALEJANDRO', 'ALENA', 'ALENE', 'ALESHA', 'ALESHIA', 'ALESIA', 'ALESSANDRA', 'ALETA', 'ALETHA', 'ALETHEA', 'ALETHIA', 'ALEX']\n"
     ]
    }
   ],
   "source": [
    "names.sort()\n",
    "print(names[:100])"
   ]
  },
  {
   "cell_type": "code",
   "execution_count": 3,
   "metadata": {
    "scrolled": true
   },
   "outputs": [
    {
     "name": "stdout",
     "output_type": "stream",
     "text": [
      "1 AARON 1,1,18,15,14,\n",
      "2 ABBEY 1,2,2,5,25,\n",
      "3 ABBIE 1,2,2,9,5,\n",
      "4 ABBY 1,2,2,25,\n",
      "5 ABDUL 1,2,4,21,12,\n",
      "6 ABE 1,2,5,\n",
      "7 ABEL 1,2,5,12,\n",
      "8 ABIGAIL 1,2,9,7,1,9,12,\n",
      "9 ABRAHAM 1,2,18,1,8,1,13,\n",
      "10 ABRAM 1,2,18,1,13,\n",
      "11 ADA 1,4,1,\n",
      "12 ADAH 1,4,1,8,\n",
      "13 ADALBERTO 1,4,1,12,2,5,18,20,15,\n",
      "14 ADALINE 1,4,1,12,9,14,5,\n",
      "15 ADAM 1,4,1,13,\n",
      "16 ADAN 1,4,1,14,\n",
      "17 ADDIE 1,4,4,9,5,\n",
      "18 ADELA 1,4,5,12,1,\n",
      "19 ADELAIDA 1,4,5,12,1,9,4,1,\n",
      "20 ADELAIDE 1,4,5,12,1,9,4,5,\n"
     ]
    }
   ],
   "source": [
    "# convert to number (ascii code)\n",
    "for idx,val in enumerate(names[:20]):\n",
    "    print(idx+1,val,end=' ')\n",
    "    for i in val:\n",
    "        print(ord(i)-64,end=',')\n",
    "    print()"
   ]
  },
  {
   "cell_type": "code",
   "execution_count": 9,
   "metadata": {},
   "outputs": [
    {
     "name": "stdout",
     "output_type": "stream",
     "text": [
      "1 AARON 1,1,18,15,14,total: 49\n",
      "2 ABBEY 1,2,2,5,25,total: 35\n",
      "3 ABBIE 1,2,2,9,5,total: 19\n",
      "4 ABBY 1,2,2,25,total: 30\n",
      "5 ABDUL 1,2,4,21,12,total: 40\n",
      "6 ABE 1,2,5,total: 8\n",
      "7 ABEL 1,2,5,12,total: 20\n",
      "8 ABIGAIL 1,2,9,7,1,9,12,total: 41\n",
      "9 ABRAHAM 1,2,18,1,8,1,13,total: 44\n",
      "10 ABRAM 1,2,18,1,13,total: 35\n",
      "11 ADA 1,4,1,total: 6\n",
      "12 ADAH 1,4,1,8,total: 14\n",
      "13 ADALBERTO 1,4,1,12,2,5,18,20,15,total: 78\n",
      "14 ADALINE 1,4,1,12,9,14,5,total: 46\n",
      "15 ADAM 1,4,1,13,total: 19\n",
      "16 ADAN 1,4,1,14,total: 20\n",
      "17 ADDIE 1,4,4,9,5,total: 23\n",
      "18 ADELA 1,4,5,12,1,total: 23\n",
      "19 ADELAIDA 1,4,5,12,1,9,4,1,total: 37\n",
      "20 ADELAIDE 1,4,5,12,1,9,4,5,total: 41\n"
     ]
    }
   ],
   "source": [
    "# summation and product\n",
    "for idx,val in enumerate(names[:20]):\n",
    "    print(idx+1,val,end=' ')\n",
    "    total=0\n",
    "    for i in val:\n",
    "        print(ord(i)-64,end=',')\n",
    "        total=total+ord(i)-64\n",
    "    print(\"total:\",total)"
   ]
  },
  {
   "cell_type": "code",
   "execution_count": 10,
   "metadata": {},
   "outputs": [
    {
     "name": "stdout",
     "output_type": "stream",
     "text": [
      "1 AARON 1,1,18,15,14,total: 49,49\n",
      "2 ABBEY 1,2,2,5,25,total: 35,119\n",
      "3 ABBIE 1,2,2,9,5,total: 19,176\n",
      "4 ABBY 1,2,2,25,total: 30,296\n",
      "5 ABDUL 1,2,4,21,12,total: 40,496\n",
      "6 ABE 1,2,5,total: 8,544\n",
      "7 ABEL 1,2,5,12,total: 20,684\n",
      "8 ABIGAIL 1,2,9,7,1,9,12,total: 41,1012\n",
      "9 ABRAHAM 1,2,18,1,8,1,13,total: 44,1408\n",
      "10 ABRAM 1,2,18,1,13,total: 35,1758\n",
      "11 ADA 1,4,1,total: 6,1824\n",
      "12 ADAH 1,4,1,8,total: 14,1992\n",
      "13 ADALBERTO 1,4,1,12,2,5,18,20,15,total: 78,3006\n",
      "14 ADALINE 1,4,1,12,9,14,5,total: 46,3650\n",
      "15 ADAM 1,4,1,13,total: 19,3935\n",
      "16 ADAN 1,4,1,14,total: 20,4255\n",
      "17 ADDIE 1,4,4,9,5,total: 23,4646\n",
      "18 ADELA 1,4,5,12,1,total: 23,5060\n",
      "19 ADELAIDA 1,4,5,12,1,9,4,1,total: 37,5763\n",
      "20 ADELAIDE 1,4,5,12,1,9,4,5,total: 41,6583\n"
     ]
    }
   ],
   "source": [
    "# summation and product\n",
    "grand_total =0\n",
    "for idx,val in enumerate(names[:20]):\n",
    "    print(idx+1,val,end=' ')\n",
    "    total=0\n",
    "    for i in val:\n",
    "        print(ord(i)-64,end=',')\n",
    "        total=total+ord(i)-64\n",
    "    print(\"total:\",total,end=',')\n",
    "    grand_total+=total*(idx+1)\n",
    "    print(grand_total)"
   ]
  },
  {
   "cell_type": "code",
   "execution_count": 11,
   "metadata": {},
   "outputs": [
    {
     "name": "stdout",
     "output_type": "stream",
     "text": [
      "871198282\n"
     ]
    }
   ],
   "source": [
    "# final\n",
    "with open('q022_data.txt') as data:\n",
    "    names = data.read().replace('\"','').split(',')\n",
    "names.sort()\n",
    "\n",
    "grand_total =0\n",
    "for idx,val in enumerate(names):\n",
    "    total=0\n",
    "    for i in val:\n",
    "        total=total+ord(i)-64\n",
    "    grand_total+=total*(idx+1)\n",
    "print(grand_total)"
   ]
  },
  {
   "cell_type": "code",
   "execution_count": 30,
   "metadata": {},
   "outputs": [
    {
     "data": {
      "text/plain": [
       "65"
      ]
     },
     "execution_count": 30,
     "metadata": {},
     "output_type": "execute_result"
    }
   ],
   "source": [
    "ord('A')"
   ]
  },
  {
   "cell_type": "code",
   "execution_count": 7,
   "metadata": {},
   "outputs": [
    {
     "data": {
      "text/plain": [
       "1"
      ]
     },
     "execution_count": 7,
     "metadata": {},
     "output_type": "execute_result"
    }
   ],
   "source": [
    "ord('A')-64"
   ]
  },
  {
   "cell_type": "code",
   "execution_count": 46,
   "metadata": {},
   "outputs": [
    {
     "name": "stdout",
     "output_type": "stream",
     "text": [
      "SAMPLE\n",
      "True\n",
      "False\n",
      "True\n",
      "True\n"
     ]
    }
   ],
   "source": [
    "a=\"sample\"\n",
    "print(a.upper())\n",
    "print(a.islower())\n",
    "print(a.isupper())\n",
    "print(a.isalnum())\n",
    "print(a.isalpha())"
   ]
  },
  {
   "cell_type": "code",
   "execution_count": 45,
   "metadata": {
    "scrolled": true
   },
   "outputs": [
    {
     "name": "stdout",
     "output_type": "stream",
     "text": [
      "sample\n",
      "False\n",
      "True\n",
      "True\n",
      "True\n"
     ]
    }
   ],
   "source": [
    "b=\"SAMPLE\"\n",
    "print(b.lower())\n",
    "print(b.islower())\n",
    "print(b.isupper())\n",
    "print(b.isalnum())\n",
    "print(b.isalpha())"
   ]
  },
  {
   "cell_type": "code",
   "execution_count": 47,
   "metadata": {},
   "outputs": [
    {
     "name": "stdout",
     "output_type": "stream",
     "text": [
      "sample21\n",
      "False\n",
      "False\n",
      "True\n",
      "False\n"
     ]
    }
   ],
   "source": [
    "c=\"Sample21\"\n",
    "print(c.lower())\n",
    "print(c.islower())\n",
    "print(c.isupper())\n",
    "print(c.isalnum())\n",
    "print(c.isalpha())"
   ]
  },
  {
   "cell_type": "code",
   "execution_count": 55,
   "metadata": {},
   "outputs": [
    {
     "name": "stdout",
     "output_type": "stream",
     "text": [
      "12elpmaS\n"
     ]
    }
   ],
   "source": [
    "c=\"Sample21\"\n",
    "print(\"\".join(reversed(c)))"
   ]
  },
  {
   "cell_type": "code",
   "execution_count": 66,
   "metadata": {},
   "outputs": [
    {
     "name": "stdout",
     "output_type": "stream",
     "text": [
      "<class 'list_reverseiterator'>\n"
     ]
    }
   ],
   "source": [
    "import inspect\n",
    "d=[1,2,3]\n",
    "dd= reversed(d)\n",
    "print(type(dd))\n"
   ]
  }
 ],
 "metadata": {
  "kernelspec": {
   "display_name": "Python 3",
   "language": "python",
   "name": "python3"
  },
  "language_info": {
   "codemirror_mode": {
    "name": "ipython",
    "version": 3
   },
   "file_extension": ".py",
   "mimetype": "text/x-python",
   "name": "python",
   "nbconvert_exporter": "python",
   "pygments_lexer": "ipython3",
   "version": "3.6.5"
  }
 },
 "nbformat": 4,
 "nbformat_minor": 1
}
