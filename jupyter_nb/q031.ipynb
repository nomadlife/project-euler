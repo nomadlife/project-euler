{
 "cells": [
  {
   "cell_type": "markdown",
   "metadata": {},
   "source": [
    "# q031 coin sums\n",
    "\n",
    "1p, 2p, 5p, 10p, 20p, 50p, £1 (100p) and £2 (200p).\n",
    "How many different ways can £2 be made using any number of coins?\n",
    "\n",
    "\n",
    "\n",
    "\n",
    "\n",
    "\n",
    "\n",
    "\n",
    "\n",
    "\n",
    "\n"
   ]
  },
  {
   "cell_type": "code",
   "execution_count": 57,
   "metadata": {
    "scrolled": true
   },
   "outputs": [
    {
     "name": "stdout",
     "output_type": "stream",
     "text": [
      "j 7\n",
      "target 2\n",
      "6 -4\n"
     ]
    },
    {
     "ename": "IndexError",
     "evalue": "tuple index out of range",
     "output_type": "error",
     "traceback": [
      "\u001b[0;31m---------------------------------------------------------------------------\u001b[0m",
      "\u001b[0;31mIndexError\u001b[0m                                Traceback (most recent call last)",
      "\u001b[0;32m<ipython-input-57-d6d2addaac8e>\u001b[0m in \u001b[0;36m<module>\u001b[0;34m()\u001b[0m\n\u001b[1;32m     18\u001b[0m \u001b[0;34m\u001b[0m\u001b[0m\n\u001b[1;32m     19\u001b[0m \u001b[0;32mwhile\u001b[0m \u001b[0;32mnot\u001b[0m \u001b[0mtarget\u001b[0m \u001b[0;34m==\u001b[0m \u001b[0;36m0\u001b[0m \u001b[0;32mor\u001b[0m \u001b[0mj\u001b[0m \u001b[0;34m<\u001b[0m \u001b[0;36m8\u001b[0m\u001b[0;34m:\u001b[0m\u001b[0;34m\u001b[0m\u001b[0m\n\u001b[0;32m---> 20\u001b[0;31m     \u001b[0mvalue\u001b[0m\u001b[0;34m[\u001b[0m\u001b[0mj\u001b[0m\u001b[0;34m]\u001b[0m \u001b[0;34m=\u001b[0m \u001b[0mtarget\u001b[0m\u001b[0;34m//\u001b[0m\u001b[0mcoin_value\u001b[0m\u001b[0;34m[\u001b[0m\u001b[0mj\u001b[0m\u001b[0;34m]\u001b[0m \u001b[0;34m+\u001b[0m \u001b[0mvalue\u001b[0m\u001b[0;34m[\u001b[0m\u001b[0mj\u001b[0m\u001b[0;34m]\u001b[0m\u001b[0;34m\u001b[0m\u001b[0m\n\u001b[0m\u001b[1;32m     21\u001b[0m     \u001b[0mtarget\u001b[0m \u001b[0;34m=\u001b[0m \u001b[0mtarget\u001b[0m \u001b[0;34m-\u001b[0m \u001b[0mvalue\u001b[0m\u001b[0;34m[\u001b[0m\u001b[0mj\u001b[0m\u001b[0;34m]\u001b[0m\u001b[0;34m*\u001b[0m\u001b[0mcoin_value\u001b[0m\u001b[0;34m[\u001b[0m\u001b[0mj\u001b[0m\u001b[0;34m]\u001b[0m\u001b[0;34m\u001b[0m\u001b[0m\n\u001b[1;32m     22\u001b[0m     \u001b[0mprint\u001b[0m\u001b[0;34m(\u001b[0m\u001b[0mvalue\u001b[0m\u001b[0;34m[\u001b[0m\u001b[0mj\u001b[0m\u001b[0;34m]\u001b[0m\u001b[0;34m,\u001b[0m \u001b[0mtarget\u001b[0m\u001b[0;34m)\u001b[0m\u001b[0;34m\u001b[0m\u001b[0m\n",
      "\u001b[0;31mIndexError\u001b[0m: tuple index out of range"
     ]
    }
   ],
   "source": [
    "# 1p, 2p, 5p, 10p, 20p, 50p, £1 (100p) and £2 (200p) -> 8 digit number\n",
    "\n",
    "coin_value = (200,100,50,20,10,5,2,1)\n",
    "max_coins = (1,2,4,10,20,40,100,200)\n",
    "\n",
    "value = [0,0,0,0,0,0,98,4]\n",
    "\n",
    "i=6\n",
    "while i >=0:\n",
    "    if not value[i]==0:\n",
    "        value[i] -= 1\n",
    "        j = i+1\n",
    "        print(\"j\",j)\n",
    "        target = coin_value[i]\n",
    "        print(\"target\",target)\n",
    "        break\n",
    "    i-=1\n",
    "\n",
    "while not target == 0 or j < 8:\n",
    "    value[j] = target//coin_value[j] + value[j]\n",
    "    target = target - value[j]*coin_value[j]\n",
    "    print(value[j], target)\n",
    "    j+=1\n",
    "\n",
    "print(value)\n"
   ]
  },
  {
   "cell_type": "code",
   "execution_count": 43,
   "metadata": {
    "scrolled": true
   },
   "outputs": [
    {
     "name": "stdout",
     "output_type": "stream",
     "text": [
      "[0, 0, 0, 0, 0, 0, 100, 0] 200\n",
      "2 0\n",
      "[0, 0, 0, 0, 0, 0, 99, 2] 198\n",
      "2 0\n",
      "[0, 0, 0, 0, 0, 0, 98, 2] 196\n",
      "2 0\n",
      "[0, 0, 0, 0, 0, 0, 97, 2] 194\n",
      "2 0\n",
      "[0, 0, 0, 0, 0, 0, 96, 2] 192\n",
      "2 0\n",
      "[0, 0, 0, 0, 0, 0, 95, 2] 190\n",
      "2 0\n",
      "[0, 0, 0, 0, 0, 0, 94, 2] 188\n",
      "2 0\n",
      "[0, 0, 0, 0, 0, 0, 93, 2] 186\n",
      "2 0\n",
      "[0, 0, 0, 0, 0, 0, 92, 2] 184\n",
      "2 0\n",
      "[0, 0, 0, 0, 0, 0, 91, 2] 182\n",
      "2 0\n",
      "[0, 0, 0, 0, 0, 0, 90, 2] 180\n",
      "2 0\n",
      "[0, 0, 0, 0, 0, 0, 89, 2] 178\n",
      "2 0\n",
      "[0, 0, 0, 0, 0, 0, 88, 2] 176\n",
      "2 0\n",
      "[0, 0, 0, 0, 0, 0, 87, 2] 174\n",
      "2 0\n",
      "[0, 0, 0, 0, 0, 0, 86, 2] 172\n",
      "2 0\n",
      "[0, 0, 0, 0, 0, 0, 85, 2] 170\n",
      "2 0\n",
      "[0, 0, 0, 0, 0, 0, 84, 2] 168\n",
      "2 0\n",
      "[0, 0, 0, 0, 0, 0, 83, 2] 166\n",
      "2 0\n",
      "[0, 0, 0, 0, 0, 0, 82, 2] 164\n",
      "2 0\n"
     ]
    }
   ],
   "source": [
    "# 1p, 2p, 5p, 10p, 20p, 50p, £1 (100p) and £2 (200p) -> 8 digit number\n",
    "\n",
    "coin_value = (200,100,50,20,10,5,2,1)\n",
    "max_coins = (1,2,4,10,20,40,100,200)\n",
    "\n",
    "def make_coins(value):\n",
    "    i=6\n",
    "    while i >=0:\n",
    "        if not value[i]==0:\n",
    "            value[i] -= 1\n",
    "            j = i+1\n",
    "            target = coin_value[i]\n",
    "            break\n",
    "        i-=1\n",
    "    \n",
    "    while not target == 0 or j < 8:\n",
    "        value[j] = target//coin_value[j]\n",
    "        target = target - value[j]*coin_value[j]\n",
    "        print(value[j], target)\n",
    "        j+=1\n",
    "    \n",
    "    return value\n",
    "        \n",
    "def value_check(alist):\n",
    "    total = 0\n",
    "    for i in range(0,7):\n",
    "        total = total + alist[i]*coin_value[i]\n",
    "    return total\n",
    "    \n",
    "coins = [0,0,0,0,0,0,100,0]\n",
    "for i in range(1,20):\n",
    "    print(coins,value_check(coins))\n",
    "    coins = make_coins(coins)\n",
    "    "
   ]
  }
 ],
 "metadata": {
  "kernelspec": {
   "display_name": "Python 3",
   "language": "python",
   "name": "python3"
  },
  "language_info": {
   "codemirror_mode": {
    "name": "ipython",
    "version": 3
   },
   "file_extension": ".py",
   "mimetype": "text/x-python",
   "name": "python",
   "nbconvert_exporter": "python",
   "pygments_lexer": "ipython3",
   "version": "3.5.2"
  }
 },
 "nbformat": 4,
 "nbformat_minor": 2
}
