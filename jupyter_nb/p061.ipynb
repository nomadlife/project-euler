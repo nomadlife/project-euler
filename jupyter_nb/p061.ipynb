{
 "cells": [
  {
   "cell_type": "markdown",
   "metadata": {},
   "source": [
    "## p061\n"
   ]
  },
  {
   "cell_type": "code",
   "execution_count": null,
   "metadata": {},
   "outputs": [],
   "source": [
    "def tri(n):\n",
    "    return n*(n+1)/2"
   ]
  },
  {
   "cell_type": "code",
   "execution_count": 6,
   "metadata": {},
   "outputs": [
    {
     "name": "stdout",
     "output_type": "stream",
     "text": [
      "1.0 1 1.0 1 1.0 1\n",
      "3.0 4 5.0 6 7.0 8\n",
      "6.0 9 12.0 15 18.0 21\n",
      "10.0 16 22.0 28 34.0 40\n",
      "15.0 25 35.0 45 55.0 65\n",
      "21.0 36 51.0 66 81.0 96\n",
      "28.0 49 70.0 91 112.0 133\n",
      "36.0 64 92.0 120 148.0 176\n",
      "45.0 81 117.0 153 189.0 225\n"
     ]
    }
   ],
   "source": [
    "def func(n):\n",
    "    p3 = n*(n+1)/2\n",
    "    p4 = n**2\n",
    "    p5 = n*(3*n-1)/2\n",
    "    p6 = n*(2*n-1)\n",
    "    p7 = n*(5*n-3)/2\n",
    "    p8 = n*(3*n-2)\n",
    "    print(p3,p4,p5,p6,p7,p8)\n",
    "for i in range(1,10):\n",
    "    func(i)"
   ]
  },
  {
   "cell_type": "code",
   "execution_count": 4,
   "metadata": {},
   "outputs": [
    {
     "name": "stdout",
     "output_type": "stream",
     "text": [
      "9\n"
     ]
    }
   ],
   "source": [
    "t=3\n",
    "print(t*3)"
   ]
  }
 ],
 "metadata": {
  "kernelspec": {
   "display_name": "Python 3",
   "language": "python",
   "name": "python3"
  },
  "language_info": {
   "codemirror_mode": {
    "name": "ipython",
    "version": 3
   },
   "file_extension": ".py",
   "mimetype": "text/x-python",
   "name": "python",
   "nbconvert_exporter": "python",
   "pygments_lexer": "ipython3",
   "version": "3.6.4"
  }
 },
 "nbformat": 4,
 "nbformat_minor": 2
}
