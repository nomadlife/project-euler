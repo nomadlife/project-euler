{
 "cells": [
  {
   "cell_type": "markdown",
   "metadata": {},
   "source": [
    "# Summation of primes\n",
    "\n",
    "The sum of the primes below 10 is 2 + 3 + 5 + 7 = 17.\n",
    "\n",
    "Find the sum of all the primes below two million.\n"
   ]
  },
  {
   "cell_type": "code",
   "execution_count": 1,
   "metadata": {},
   "outputs": [
    {
     "name": "stdout",
     "output_type": "stream",
     "text": [
      "142913828922\n"
     ]
    }
   ],
   "source": [
    "def is_prime(num):\n",
    "    if num==1:\n",
    "        return False\n",
    "    loop=num**0.5\n",
    "    i=2\n",
    "    while i<=loop:\n",
    "        if num%i==0:\n",
    "            return False\n",
    "        i+=1\n",
    "    return True\n",
    "\n",
    "# 2000000 까지 소수인지 확인해서 합산 \n",
    "total =0\n",
    "i=1\n",
    "while i < 2000000:\n",
    "    if is_prime(i):\n",
    "        total += i\n",
    "    i+=1\n",
    "print(total)\n",
    "        \n"
   ]
  },
  {
   "cell_type": "code",
   "execution_count": null,
   "metadata": {
    "collapsed": true
   },
   "outputs": [],
   "source": [
    "# forum-1\n",
    "import math\n",
    "\n",
    "N = 2 * 10 ** 6\n",
    "sieve = {}\n",
    "\n",
    "for i in range(4, N, 2):\n",
    "\tsieve[i] = True\n",
    "\n",
    "for i in range(3, int(math.sqrt(N)), 2):\n",
    "\tfor j in range(2 * i, N, i):\n",
    "\t\tsieve[j] = True\n",
    "\n",
    "s = sum(list(filter(lambda x: x not in sieve, range(2, N))))\n",
    "print s"
   ]
  },
  {
   "cell_type": "code",
   "execution_count": null,
   "metadata": {
    "collapsed": true
   },
   "outputs": [],
   "source": [
    "# forum-2\n",
    "import itertools\n",
    "\n",
    "k = 2_000_000\n",
    "primes = set(range(2, k))\n",
    "for i in range(2, k):\n",
    "    if i in primes:\n",
    "        i_mults = (i * m for m in itertools.count(2))\n",
    "        primes -= set(itertools.takewhile(lambda j: j < k, i_mults))\n",
    "print(sum(primes))"
   ]
  },
  {
   "cell_type": "code",
   "execution_count": null,
   "metadata": {
    "collapsed": true
   },
   "outputs": [],
   "source": [
    "#forum-3\n",
    "primes = [2]\n",
    "i = 3\n",
    "while i < 2_000_000:\n",
    "    j = i // 2\n",
    "    if not any(i % p == 0 for p in primes if p <= j):\n",
    "        primes.append(i)\n",
    "    i += 2\n",
    "print(sum(primes))"
   ]
  },
  {
   "cell_type": "code",
   "execution_count": null,
   "metadata": {
    "collapsed": true
   },
   "outputs": [],
   "source": [
    "#forum-4\n",
    "from numba import jit\n",
    "import sympy as symp\n",
    "\n",
    "@jit\n",
    "def prime(n):\n",
    "    x = 2\n",
    "    List = []\n",
    "    while(x<n):\n",
    "        if(symp.isprime(x)):\n",
    "            List.append(x)\n",
    "        x = x + 1\n",
    "    return List\n",
    "\n",
    "if __name__==\"__main__\":\n",
    "    result = sum(prime(2000000))\n",
    "    print(\"Answear is %s\" %result)"
   ]
  },
  {
   "cell_type": "code",
   "execution_count": null,
   "metadata": {
    "collapsed": true
   },
   "outputs": [],
   "source": [
    "#forum-5\n",
    "from math import sqrt\n",
    "\n",
    "global primes\n",
    "roof = 2e6\n",
    "\n",
    "# Implement The Sieve of Eratosthenes\n",
    "def eratosthenes():\n",
    "    # List all numbers from 2 to desired max\n",
    "    nums = range(2, int(roof+1))\n",
    "    # Remove even numbers, except 2\n",
    "    nums = filter(lambda x: x==2 or x%2==1, nums)\n",
    "    for num in nums:\n",
    "        # Stop checking for primes at sq. root of max\n",
    "        if num > sqrt(roof):\n",
    "            break\n",
    "        # Remove multiples of num, excluding num\n",
    "        nums = filter(lambda x: x==num or x%num != 0, nums)\n",
    "    print sum(nums)\n",
    "\n",
    "# Returns True if num is prime, False otherwise\n",
    "def isPrime(num):   # By trial division\n",
    "    global primes\n",
    "\n",
    "    for prime in primes:\n",
    "        if prime > sqrt(num):\n",
    "            return True\n",
    "        elif num % prime == 0:\n",
    "            return False\n",
    "    return True\n",
    "\n",
    "# Return the next greatest prime after num\n",
    "def getPrime(num):\n",
    "    global primes\n",
    "\n",
    "    if num == 2:\n",
    "        primes.append(3)\n",
    "        return 3\n",
    "    else:\n",
    "        i = num+2\n",
    "        while True:\n",
    "            if isPrime(i):\n",
    "                primes.append(i)\n",
    "                return i\n",
    "            i += 2\n",
    "\n",
    "def main():\n",
    "    global primes\n",
    "\n",
    "    primes = [2]\n",
    "    prime = 2\n",
    "    primeSum = 2\n",
    "\n",
    "    while True:\n",
    "        prime = getPrime(prime)\n",
    "        if prime > roof:\n",
    "            break\n",
    "        primeSum += prime\n",
    "        #print prime, primeSum\n",
    "\n",
    "    print primeSum\n",
    "\n",
    "main()\n",
    "eratosthenes()"
   ]
  },
  {
   "cell_type": "code",
   "execution_count": null,
   "metadata": {
    "collapsed": true
   },
   "outputs": [],
   "source": [
    "#forum-6\n",
    "max = 2000000\n",
    "primes = []\n",
    "i=0\n",
    "\n",
    "def is_prime(n):\n",
    "  if n == 2 or n == 3: return True\n",
    "  if n < 2 or n%2 == 0: return False\n",
    "  if n < 9: return True\n",
    "  if n%3 == 0: return False\n",
    "  r = int(n**0.5)\n",
    "  f = 5\n",
    "  while f <= r:\n",
    "    if n%f == 0: return False\n",
    "    if n%(f+2) == 0: return False\n",
    "    f +=6\n",
    "  return True\n",
    "\n",
    "\n",
    "while i < max:\n",
    "    if is_prime(i)==True:\n",
    "        primes.append(i)\n",
    "        i=i+1\n",
    "    else:\n",
    "        i=i+1\n",
    "\n",
    "\n",
    "print(sum(primes))"
   ]
  }
 ],
 "metadata": {
  "kernelspec": {
   "display_name": "Python 3",
   "language": "python",
   "name": "python3"
  },
  "language_info": {
   "codemirror_mode": {
    "name": "ipython",
    "version": 3
   },
   "file_extension": ".py",
   "mimetype": "text/x-python",
   "name": "python",
   "nbconvert_exporter": "python",
   "pygments_lexer": "ipython3",
   "version": "3.6.3"
  }
 },
 "nbformat": 4,
 "nbformat_minor": 2
}
