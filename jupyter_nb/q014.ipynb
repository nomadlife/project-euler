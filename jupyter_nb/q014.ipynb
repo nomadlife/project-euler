{
 "cells": [
  {
   "cell_type": "markdown",
   "metadata": {
    "collapsed": true
   },
   "source": [
    "# Q014 Longest Collatz sequence \n",
    "\n",
    "\n",
    "The following iterative sequence is defined for the set of positive integers:\n",
    "\n",
    "n → n/2 (n is even)\n",
    "n → 3n + 1 (n is odd)\n",
    "\n",
    "Using the rule above and starting with 13, we generate the following sequence:\n",
    "13 → 40 → 20 → 10 → 5 → 16 → 8 → 4 → 2 → 1\n",
    "\n",
    "It can be seen that this sequence (starting at 13 and finishing at 1) contains 10 terms. Although it has not been proved yet (Collatz Problem), it is thought that all starting numbers finish at 1.\n",
    "\n",
    "Which starting number, under one million, produces the longest chain?\n",
    "\n",
    "NOTE: Once the chain starts the terms are allowed to go above one million.\n"
   ]
  },
  {
   "cell_type": "code",
   "execution_count": 26,
   "metadata": {},
   "outputs": [
    {
     "data": {
      "text/plain": [
       "40"
      ]
     },
     "execution_count": 26,
     "metadata": {},
     "output_type": "execute_result"
    }
   ],
   "source": [
    "# single function\n",
    "\n",
    "def collatz(num):\n",
    "    if num == 1: return\n",
    "    elif num%2==0:\n",
    "        return num/2\n",
    "    else:\n",
    "        return num*3+1\n",
    "\n",
    "collatz(13)"
   ]
  },
  {
   "cell_type": "code",
   "execution_count": 9,
   "metadata": {},
   "outputs": [
    {
     "name": "stdout",
     "output_type": "stream",
     "text": [
      "13\n",
      "40\n",
      "20.0\n",
      "10.0\n",
      "5.0\n",
      "16.0\n",
      "8.0\n",
      "4.0\n",
      "2.0\n",
      "1.0\n"
     ]
    }
   ],
   "source": [
    "# recursion : series\n",
    "\n",
    "def collatz(num):\n",
    "    print(num)\n",
    "    if num == 1: return\n",
    "    elif num%2==0:\n",
    "        collatz(num/2)\n",
    "    else:\n",
    "        collatz(num*3+1)\n",
    "\n",
    "collatz(13)"
   ]
  },
  {
   "cell_type": "code",
   "execution_count": 18,
   "metadata": {},
   "outputs": [
    {
     "name": "stdout",
     "output_type": "stream",
     "text": [
      "13 1\n",
      "40 2\n",
      "20.0 3\n",
      "10.0 4\n",
      "5.0 5\n",
      "16.0 6\n",
      "8.0 7\n",
      "4.0 8\n",
      "2.0 9\n",
      "1.0 10\n"
     ]
    }
   ],
   "source": [
    "#recursion : count\n",
    "\n",
    "def collatz(num,count=0):\n",
    "    count+=1\n",
    "    print(num,count)\n",
    "    if num == 1: return\n",
    "    elif num%2==0:\n",
    "        collatz(num/2,count)\n",
    "    else:\n",
    "        collatz(num*3+1,count)\n",
    "\n",
    "collatz(13)"
   ]
  },
  {
   "cell_type": "code",
   "execution_count": 17,
   "metadata": {},
   "outputs": [
    {
     "data": {
      "text/plain": [
       "10"
      ]
     },
     "execution_count": 17,
     "metadata": {},
     "output_type": "execute_result"
    }
   ],
   "source": [
    "#recursion : return count only\n",
    "\n",
    "def collatz(num):\n",
    "    if num == 1: return 1\n",
    "    elif num%2==0:\n",
    "        return collatz(num/2) +1\n",
    "    else:\n",
    "        return collatz(num*3+1) +1\n",
    "\n",
    "collatz(13)"
   ]
  },
  {
   "cell_type": "code",
   "execution_count": 21,
   "metadata": {},
   "outputs": [
    {
     "name": "stdout",
     "output_type": "stream",
     "text": [
      "13\n",
      "40\n",
      "20.0\n",
      "10.0\n",
      "5.0\n",
      "16.0\n",
      "8.0\n",
      "4.0\n",
      "2.0\n",
      "1.0\n"
     ]
    }
   ],
   "source": [
    "# loop : series\n",
    "\n",
    "def collatz(num):\n",
    "    print(num)\n",
    "    while not num==1:\n",
    "        if num%2==0:\n",
    "            num=num/2\n",
    "        else:\n",
    "            num=num*3+1\n",
    "        print(num)\n",
    "    return\n",
    "collatz(13)"
   ]
  },
  {
   "cell_type": "code",
   "execution_count": 22,
   "metadata": {},
   "outputs": [
    {
     "name": "stdout",
     "output_type": "stream",
     "text": [
      "13 1\n",
      "40 2\n",
      "20.0 3\n",
      "10.0 4\n",
      "5.0 5\n",
      "16.0 6\n",
      "8.0 7\n",
      "4.0 8\n",
      "2.0 9\n",
      "1.0 10\n"
     ]
    }
   ],
   "source": [
    "# loop : series, count\n",
    "\n",
    "def collatz(num):\n",
    "    count=1\n",
    "    print(num,count)\n",
    "    while not num==1:\n",
    "        if num%2==0:\n",
    "            num=num/2\n",
    "        else:\n",
    "            num=num*3+1\n",
    "        count+=1\n",
    "        print(num,count)\n",
    "    return\n",
    "collatz(13)"
   ]
  },
  {
   "cell_type": "code",
   "execution_count": 19,
   "metadata": {},
   "outputs": [
    {
     "name": "stdout",
     "output_type": "stream",
     "text": [
      "10\n"
     ]
    }
   ],
   "source": [
    "#loop : return count only\n",
    "\n",
    "def collatz(num):\n",
    "    count=1\n",
    "    while not num==1:\n",
    "        if num%2==0:\n",
    "            num=num/2\n",
    "        else:\n",
    "            num=num*3+1\n",
    "        count+=1\n",
    "    return count\n",
    "collatz(13)"
   ]
  },
  {
   "cell_type": "code",
   "execution_count": 28,
   "metadata": {},
   "outputs": [
    {
     "name": "stdout",
     "output_type": "stream",
     "text": [
      "1 1\n",
      "2 2\n",
      "3 8\n",
      "6 9\n",
      "7 17\n",
      "9 20\n",
      "18 21\n",
      "25 24\n",
      "27 112\n",
      "54 113\n",
      "73 116\n",
      "97 119\n"
     ]
    }
   ],
   "source": [
    "# solve 1 : loop method(~100)\n",
    "\n",
    "def collatz(num):\n",
    "    count=1\n",
    "    while not num==1:\n",
    "        if num%2==0:\n",
    "            num=num/2\n",
    "        else:\n",
    "            num=num*3+1\n",
    "        count+=1\n",
    "    return count\n",
    "\n",
    "i=1;maxValue=0\n",
    "while i<100:\n",
    "    value = collatz(i)\n",
    "    if value>maxValue : \n",
    "        maxValue = value\n",
    "        print(i,maxValue)\n",
    "    i+=1"
   ]
  },
  {
   "cell_type": "code",
   "execution_count": 29,
   "metadata": {
    "scrolled": false
   },
   "outputs": [
    {
     "name": "stdout",
     "output_type": "stream",
     "text": [
      "1 1\n",
      "2 2\n",
      "3 8\n",
      "6 9\n",
      "7 17\n",
      "9 20\n",
      "18 21\n",
      "25 24\n",
      "27 112\n",
      "54 113\n",
      "73 116\n",
      "97 119\n",
      "129 122\n",
      "171 125\n",
      "231 128\n",
      "313 131\n",
      "327 144\n",
      "649 145\n",
      "703 171\n",
      "871 179\n",
      "1161 182\n",
      "2223 183\n",
      "2463 209\n",
      "2919 217\n",
      "3711 238\n",
      "6171 262\n"
     ]
    }
   ],
   "source": [
    "# solve 1 : loop method(10000)\n",
    "\n",
    "def collatz(num):\n",
    "    count=1\n",
    "    while not num==1:\n",
    "        if num%2==0:\n",
    "            num=num/2\n",
    "        else:\n",
    "            num=num*3+1\n",
    "        count+=1\n",
    "    return count\n",
    "\n",
    "i=1;maxValue=0\n",
    "while i<10000:\n",
    "    value = collatz(i)\n",
    "    if value>maxValue : \n",
    "        maxValue = value\n",
    "        print(i,maxValue)\n",
    "    i+=1"
   ]
  },
  {
   "cell_type": "code",
   "execution_count": 32,
   "metadata": {
    "scrolled": false
   },
   "outputs": [
    {
     "name": "stdout",
     "output_type": "stream",
     "text": [
      "525\n",
      "calculation time: 163.99354481697083\n"
     ]
    }
   ],
   "source": [
    "# solve 1 : loop method(1000000)\n",
    "import time\n",
    "start_time = time.time()\n",
    "\n",
    "def collatz(num):\n",
    "    count=1\n",
    "    while not num==1:\n",
    "        if num%2==0:\n",
    "            num=num/2\n",
    "        else:\n",
    "            num=num*3+1\n",
    "        count+=1\n",
    "    return count\n",
    "\n",
    "i=1;maxValue=0\n",
    "while i<1000000:\n",
    "    value = collatz(i)\n",
    "    if value>maxValue : \n",
    "        maxValue = value\n",
    "    i+=1\n",
    "print(maxValue)\n",
    "print(\"calculation time:\",time.time()-start_time)"
   ]
  },
  {
   "cell_type": "code",
   "execution_count": 33,
   "metadata": {},
   "outputs": [
    {
     "name": "stdout",
     "output_type": "stream",
     "text": [
      "525\n",
      "calculation time: 226.32076573371887\n"
     ]
    }
   ],
   "source": [
    "#solve 2 : recursion method \n",
    "import time\n",
    "start_time = time.time()\n",
    "\n",
    "def collatz(num):\n",
    "    if num == 1: return 1\n",
    "    elif num%2==0:\n",
    "        return collatz(num/2) +1\n",
    "    else:\n",
    "        return collatz(num*3+1) +1\n",
    "\n",
    "i=1;maxValue=0\n",
    "while i<1000000:\n",
    "    value = collatz(i)\n",
    "    if value>maxValue : \n",
    "        maxValue = value\n",
    "    i+=1\n",
    "print(maxValue)\n",
    "print(\"calculation time:\",time.time()-start_time)"
   ]
  },
  {
   "cell_type": "code",
   "execution_count": 3,
   "metadata": {
    "scrolled": false
   },
   "outputs": [
    {
     "name": "stdout",
     "output_type": "stream",
     "text": [
      "525\n",
      "calculation time: 14.784469842910767\n"
     ]
    }
   ],
   "source": [
    "# solve 3-2 : dynamic - loop\n",
    "\n",
    "import time\n",
    "start_time = time.time()\n",
    "\n",
    "def collatz(num):\n",
    "    count=1\n",
    "    while num != 1:\n",
    "        if (num) in cache : \n",
    "            count += cache[num]-1\n",
    "            num = 1\n",
    "        else : \n",
    "            if num%2 == 0:\n",
    "                num=num/2\n",
    "            else:\n",
    "                num=num*3+1\n",
    "            count+=1\n",
    "    return count\n",
    "\n",
    "cache={}\n",
    "i=1;maxValue=0\n",
    "while i < 1000000:\n",
    "    value = collatz(i)\n",
    "    if value > maxValue : \n",
    "        maxValue = value\n",
    "    cache[i] = value\n",
    "    i+=1\n",
    "    \n",
    "print(maxValue)\n",
    "print(\"calculation time:\", time.time()-start_time)\n",
    "#print(cache)"
   ]
  },
  {
   "cell_type": "code",
   "execution_count": 4,
   "metadata": {
    "scrolled": false
   },
   "outputs": [
    {
     "name": "stdout",
     "output_type": "stream",
     "text": [
      "525\n",
      "calculation time: 15.647153854370117\n"
     ]
    }
   ],
   "source": [
    "# solve 3-3 : dynamic -recursion\n",
    "\n",
    "import time\n",
    "start_time = time.time()\n",
    "\n",
    "def collatz(num):\n",
    "    if num == 1: \n",
    "        return 1\n",
    "    elif (num) in cache :\n",
    "        return cache[num]\n",
    "    elif num%2==0:\n",
    "        return collatz(num/2) +1\n",
    "    else:\n",
    "        return collatz(num*3+1) +1\n",
    "\n",
    "cache={}\n",
    "i=1;maxValue=0\n",
    "while i < 1000000:\n",
    "    value = collatz(i)\n",
    "    if value > maxValue : \n",
    "        maxValue = value\n",
    "    cache[i] = value\n",
    "    i+=1\n",
    "    \n",
    "print(maxValue)\n",
    "print(\"calculation time:\", time.time()-start_time)"
   ]
  },
  {
   "cell_type": "markdown",
   "metadata": {},
   "source": [
    "========================================"
   ]
  },
  {
   "cell_type": "code",
   "execution_count": null,
   "metadata": {
    "collapsed": true
   },
   "outputs": [],
   "source": [
    "=============previous solution ===="
   ]
  },
  {
   "cell_type": "code",
   "execution_count": 1,
   "metadata": {},
   "outputs": [
    {
     "name": "stdout",
     "output_type": "stream",
     "text": [
      "1\n",
      "2\n",
      "8\n",
      "3\n",
      "6\n",
      "9\n",
      "17\n",
      "4\n",
      "20\n",
      "7\n",
      "15\n",
      "10\n",
      "10\n"
     ]
    }
   ],
   "source": [
    "def collatz(num):\n",
    "    count=1\n",
    "    while True:\n",
    "        if num%2==0:\n",
    "            num=num/2\n",
    "        elif num==1:\n",
    "            return count\n",
    "        else:\n",
    "            num=num*3+1\n",
    "        count+=1\n",
    "\n",
    "i=1\n",
    "while i<14:\n",
    "    print(\"loop :\",i,end='')\n",
    "    chain=collatz(i)\n",
    "    print(\" chain :\",chain)\n",
    "    i+=1"
   ]
  },
  {
   "cell_type": "code",
   "execution_count": 4,
   "metadata": {
    "scrolled": true
   },
   "outputs": [
    {
     "name": "stdout",
     "output_type": "stream",
     "text": [
      "loop : 1 chain : 1\n",
      "new max_chain : 1\n",
      "loop : 2 chain : 2\n",
      "new max_chain : 2\n",
      "loop : 3 chain : 8\n",
      "new max_chain : 8\n",
      "loop : 4 chain : 3\n",
      "loop : 5 chain : 6\n",
      "loop : 6 chain : 9\n",
      "new max_chain : 9\n",
      "loop : 7 chain : 17\n",
      "new max_chain : 17\n",
      "loop : 8 chain : 4\n",
      "loop : 9 chain : 20\n",
      "new max_chain : 20\n",
      "loop : 10 chain : 7\n",
      "loop : 11 chain : 15\n",
      "loop : 12 chain : 10\n",
      "loop : 13 chain : 10\n",
      "loop : 14 chain : 18\n",
      "loop : 15 chain : 18\n",
      "loop : 16 chain : 5\n",
      "loop : 17 chain : 13\n",
      "loop : 18 chain : 21\n",
      "new max_chain : 21\n",
      "loop : 19 chain : 21\n",
      "loop : 20 chain : 8\n",
      "loop : 21 chain : 8\n",
      "loop : 22 chain : 16\n",
      "loop : 23 chain : 16\n",
      "loop : 24 chain : 11\n",
      "loop : 25 chain : 24\n",
      "new max_chain : 24\n",
      "loop : 26 chain : 11\n",
      "loop : 27 chain : 112\n",
      "new max_chain : 112\n",
      "loop : 28 chain : 19\n",
      "loop : 29 chain : 19\n",
      "loop : 30 chain : 19\n",
      "loop : 31 chain : 107\n",
      "loop : 32 chain : 6\n",
      "loop : 33 chain : 27\n",
      "loop : 34 chain : 14\n",
      "loop : 35 chain : 14\n",
      "loop : 36 chain : 22\n",
      "loop : 37 chain : 22\n",
      "loop : 38 chain : 22\n",
      "loop : 39 chain : 35\n",
      "loop : 40 chain : 9\n",
      "loop : 41 chain : 110\n",
      "loop : 42 chain : 9\n",
      "loop : 43 chain : 30\n",
      "loop : 44 chain : 17\n",
      "loop : 45 chain : 17\n",
      "loop : 46 chain : 17\n",
      "loop : 47 chain : 105\n",
      "loop : 48 chain : 12\n",
      "loop : 49 chain : 25\n",
      "loop : 50 chain : 25\n",
      "loop : 51 chain : 25\n",
      "loop : 52 chain : 12\n",
      "loop : 53 chain : 12\n",
      "loop : 54 chain : 113\n",
      "new max_chain : 113\n",
      "loop : 55 chain : 113\n",
      "loop : 56 chain : 20\n",
      "loop : 57 chain : 33\n",
      "loop : 58 chain : 20\n",
      "loop : 59 chain : 33\n",
      "loop : 60 chain : 20\n",
      "loop : 61 chain : 20\n",
      "loop : 62 chain : 108\n",
      "loop : 63 chain : 108\n",
      "loop : 64 chain : 7\n",
      "loop : 65 chain : 28\n",
      "loop : 66 chain : 28\n",
      "loop : 67 chain : 28\n",
      "loop : 68 chain : 15\n",
      "loop : 69 chain : 15\n",
      "loop : 70 chain : 15\n",
      "loop : 71 chain : 103\n",
      "loop : 72 chain : 23\n",
      "loop : 73 chain : 116\n",
      "new max_chain : 116\n",
      "loop : 74 chain : 23\n",
      "loop : 75 chain : 15\n",
      "loop : 76 chain : 23\n",
      "loop : 77 chain : 23\n",
      "loop : 78 chain : 36\n",
      "loop : 79 chain : 36\n",
      "loop : 80 chain : 10\n",
      "loop : 81 chain : 23\n",
      "loop : 82 chain : 111\n",
      "loop : 83 chain : 111\n",
      "loop : 84 chain : 10\n",
      "loop : 85 chain : 10\n",
      "loop : 86 chain : 31\n",
      "loop : 87 chain : 31\n",
      "loop : 88 chain : 18\n",
      "loop : 89 chain : 31\n",
      "loop : 90 chain : 18\n",
      "loop : 91 chain : 93\n",
      "loop : 92 chain : 18\n",
      "loop : 93 chain : 18\n",
      "loop : 94 chain : 106\n",
      "loop : 95 chain : 106\n",
      "loop : 96 chain : 13\n",
      "loop : 97 chain : 119\n",
      "new max_chain : 119\n",
      "loop : 98 chain : 26\n",
      "loop : 99 chain : 26\n",
      "max_chain : 119 loop  97\n"
     ]
    }
   ],
   "source": [
    "def collatz(num):\n",
    "    count=1\n",
    "    while True:\n",
    "        if num%2==0:\n",
    "            num=num/2\n",
    "        elif num==1:\n",
    "            return count\n",
    "        else:\n",
    "            num=num*3+1\n",
    "        count+=1\n",
    "\n",
    "i=1;max_chain=0;max_i=0\n",
    "while i<100:\n",
    "    print(\"loop :\",i,end='')\n",
    "    chain=collatz(i)\n",
    "    print(\" chain :\",chain)\n",
    "    if chain>max_chain:\n",
    "        max_chain=chain\n",
    "        max_i=i\n",
    "        print(\"new max_chain :\",max_chain,)\n",
    "    i+=1\n",
    "    \n",
    "print(\"max_chain :\", max_chain,\"loop \",max_i)"
   ]
  },
  {
   "cell_type": "code",
   "execution_count": 6,
   "metadata": {
    "scrolled": true
   },
   "outputs": [
    {
     "name": "stdout",
     "output_type": "stream",
     "text": [
      "loop : 1 # of chain : 1 new max_chain : 1\n",
      "loop : 2 # of chain : 2 new max_chain : 2\n",
      "loop : 3 # of chain : 8 new max_chain : 8\n",
      "loop : 6 # of chain : 9 new max_chain : 9\n",
      "loop : 7 # of chain : 17 new max_chain : 17\n",
      "loop : 9 # of chain : 20 new max_chain : 20\n",
      "loop : 18 # of chain : 21 new max_chain : 21\n",
      "loop : 25 # of chain : 24 new max_chain : 24\n",
      "loop : 27 # of chain : 112 new max_chain : 112\n",
      "loop : 54 # of chain : 113 new max_chain : 113\n",
      "loop : 73 # of chain : 116 new max_chain : 116\n",
      "loop : 97 # of chain : 119 new max_chain : 119\n",
      "loop : 129 # of chain : 122 new max_chain : 122\n",
      "loop : 171 # of chain : 125 new max_chain : 125\n",
      "loop : 231 # of chain : 128 new max_chain : 128\n",
      "loop : 313 # of chain : 131 new max_chain : 131\n",
      "loop : 327 # of chain : 144 new max_chain : 144\n",
      "loop : 649 # of chain : 145 new max_chain : 145\n",
      "loop : 703 # of chain : 171 new max_chain : 171\n",
      "loop : 871 # of chain : 179 new max_chain : 179\n",
      "loop : 1161 # of chain : 182 new max_chain : 182\n",
      "loop : 2223 # of chain : 183 new max_chain : 183\n",
      "loop : 2463 # of chain : 209 new max_chain : 209\n",
      "loop : 2919 # of chain : 217 new max_chain : 217\n",
      "loop : 3711 # of chain : 238 new max_chain : 238\n",
      "loop : 6171 # of chain : 262 new max_chain : 262\n",
      "max_chain : 262 loop  6171\n"
     ]
    }
   ],
   "source": [
    "def collatz(num):\n",
    "    count=1\n",
    "    while True:\n",
    "        if num%2==0:\n",
    "            num=num/2\n",
    "        elif num==1:\n",
    "            return count\n",
    "        else:\n",
    "            num=num*3+1\n",
    "        count+=1\n",
    "\n",
    "i=1;max_chain=0;max_i=0\n",
    "while i<10000:\n",
    "    chain=collatz(i)\n",
    "    if chain>max_chain:\n",
    "        max_chain=chain\n",
    "        max_i=i\n",
    "        print(\"loop :\",i,\"# of chain :\",chain,\"new max_chain :\",max_chain,)\n",
    "    i+=1\n",
    "\n",
    "print(\"max_chain :\", max_chain,\"loop \",max_i)"
   ]
  },
  {
   "cell_type": "code",
   "execution_count": 7,
   "metadata": {
    "scrolled": true
   },
   "outputs": [
    {
     "name": "stdout",
     "output_type": "stream",
     "text": [
      "loop : 1 # of chain : 1 new max_chain : 1\n",
      "loop : 2 # of chain : 2 new max_chain : 2\n",
      "loop : 3 # of chain : 8 new max_chain : 8\n",
      "loop : 6 # of chain : 9 new max_chain : 9\n",
      "loop : 7 # of chain : 17 new max_chain : 17\n",
      "loop : 9 # of chain : 20 new max_chain : 20\n",
      "loop : 18 # of chain : 21 new max_chain : 21\n",
      "loop : 25 # of chain : 24 new max_chain : 24\n",
      "loop : 27 # of chain : 112 new max_chain : 112\n",
      "loop : 54 # of chain : 113 new max_chain : 113\n",
      "loop : 73 # of chain : 116 new max_chain : 116\n",
      "loop : 97 # of chain : 119 new max_chain : 119\n",
      "loop : 129 # of chain : 122 new max_chain : 122\n",
      "loop : 171 # of chain : 125 new max_chain : 125\n",
      "loop : 231 # of chain : 128 new max_chain : 128\n",
      "loop : 313 # of chain : 131 new max_chain : 131\n",
      "loop : 327 # of chain : 144 new max_chain : 144\n",
      "loop : 649 # of chain : 145 new max_chain : 145\n",
      "loop : 703 # of chain : 171 new max_chain : 171\n",
      "loop : 871 # of chain : 179 new max_chain : 179\n",
      "loop : 1161 # of chain : 182 new max_chain : 182\n",
      "loop : 2223 # of chain : 183 new max_chain : 183\n",
      "loop : 2463 # of chain : 209 new max_chain : 209\n",
      "loop : 2919 # of chain : 217 new max_chain : 217\n",
      "loop : 3711 # of chain : 238 new max_chain : 238\n",
      "loop : 6171 # of chain : 262 new max_chain : 262\n",
      "loop : 10971 # of chain : 268 new max_chain : 268\n",
      "loop : 13255 # of chain : 276 new max_chain : 276\n",
      "loop : 17647 # of chain : 279 new max_chain : 279\n",
      "loop : 23529 # of chain : 282 new max_chain : 282\n",
      "loop : 26623 # of chain : 308 new max_chain : 308\n",
      "loop : 34239 # of chain : 311 new max_chain : 311\n",
      "loop : 35655 # of chain : 324 new max_chain : 324\n",
      "loop : 52527 # of chain : 340 new max_chain : 340\n",
      "loop : 77031 # of chain : 351 new max_chain : 351\n",
      "loop : 106239 # of chain : 354 new max_chain : 354\n",
      "loop : 142587 # of chain : 375 new max_chain : 375\n",
      "loop : 156159 # of chain : 383 new max_chain : 383\n",
      "loop : 216367 # of chain : 386 new max_chain : 386\n",
      "loop : 230631 # of chain : 443 new max_chain : 443\n",
      "loop : 410011 # of chain : 449 new max_chain : 449\n",
      "loop : 511935 # of chain : 470 new max_chain : 470\n",
      "loop : 626331 # of chain : 509 new max_chain : 509\n",
      "loop : 837799 # of chain : 525 new max_chain : 525\n",
      "max_chain : 525 loop  837799\n",
      "calculation time: 58.269399881362915\n"
     ]
    }
   ],
   "source": [
    "import time\n",
    "start_time = time.time()\n",
    "\n",
    "def collatz(num):\n",
    "    count=1\n",
    "    while True:\n",
    "        if num%2==0:\n",
    "            num=num/2\n",
    "        elif num==1:\n",
    "            return count\n",
    "        else:\n",
    "            num=num*3+1\n",
    "        count+=1\n",
    "\n",
    "i=1;max_chain=0;max_i=0\n",
    "while i<1000000:\n",
    "    chain=collatz(i)\n",
    "    if chain>max_chain:\n",
    "        max_chain=chain\n",
    "        max_i=i\n",
    "        print(\"loop :\",i,\"# of chain :\",chain,\"new max_chain :\",max_chain)\n",
    "    i+=1\n",
    "    \n",
    "print(\"max_chain :\", max_chain,\"loop \",max_i)\n",
    "print(\"calculation time:\",time.time()-start_time)"
   ]
  },
  {
   "cell_type": "markdown",
   "metadata": {},
   "source": [
    "================================================"
   ]
  },
  {
   "cell_type": "code",
   "execution_count": 1,
   "metadata": {},
   "outputs": [
    {
     "ename": "KeyboardInterrupt",
     "evalue": "",
     "output_type": "error",
     "traceback": [
      "\u001b[1;31m---------------------------------------------------------------------------\u001b[0m",
      "\u001b[1;31mKeyboardInterrupt\u001b[0m                         Traceback (most recent call last)",
      "\u001b[1;32m<ipython-input-1-a1cd55b696f1>\u001b[0m in \u001b[0;36m<module>\u001b[1;34m()\u001b[0m\n\u001b[0;32m     11\u001b[0m \u001b[1;33m\u001b[0m\u001b[0m\n\u001b[0;32m     12\u001b[0m     \u001b[1;32mwhile\u001b[0m \u001b[0msequence\u001b[0m \u001b[1;33m!=\u001b[0m \u001b[1;36m1\u001b[0m\u001b[1;33m:\u001b[0m\u001b[1;33m\u001b[0m\u001b[0m\n\u001b[1;32m---> 13\u001b[1;33m         \u001b[1;32mif\u001b[0m \u001b[1;33m(\u001b[0m\u001b[1;33m(\u001b[0m\u001b[0msequence\u001b[0m \u001b[1;33m%\u001b[0m \u001b[1;36m2\u001b[0m\u001b[1;33m)\u001b[0m \u001b[1;33m==\u001b[0m \u001b[1;36m0\u001b[0m\u001b[1;33m)\u001b[0m\u001b[1;33m:\u001b[0m\u001b[1;33m\u001b[0m\u001b[0m\n\u001b[0m\u001b[0;32m     14\u001b[0m             \u001b[0msequence\u001b[0m \u001b[1;33m=\u001b[0m \u001b[0msequence\u001b[0m \u001b[1;33m/\u001b[0m \u001b[1;36m2\u001b[0m\u001b[1;33m\u001b[0m\u001b[0m\n\u001b[0;32m     15\u001b[0m         \u001b[1;32melse\u001b[0m\u001b[1;33m:\u001b[0m\u001b[1;33m\u001b[0m\u001b[0m\n",
      "\u001b[1;31mKeyboardInterrupt\u001b[0m: "
     ]
    }
   ],
   "source": [
    "#forum-1\n",
    "number = 1000000\n",
    "\n",
    "sequenceLength = 0\n",
    "startingNumber = 0\n",
    "sequence = 0\n",
    "\n",
    "for i in range(2, number+1):\n",
    "    length = 1\n",
    "    sequence = i\n",
    "\n",
    "    while sequence != 1:\n",
    "        if ((sequence % 2) == 0):\n",
    "            sequence = sequence / 2\n",
    "        else:\n",
    "            sequence = sequence * 3 + 1\n",
    "        length += 1\n",
    "\n",
    "    if (length > sequenceLength):\n",
    "        sequenceLength = length\n",
    "        startingNumber = i\n",
    "\n",
    "print(startingNumber)"
   ]
  },
  {
   "cell_type": "code",
   "execution_count": null,
   "metadata": {
    "collapsed": true
   },
   "outputs": [],
   "source": [
    "#forum-2\n",
    "from time import time\n",
    "\n",
    "\n",
    "def build_lookup(bound):\n",
    "    lookup = {}\n",
    "    ns = [(1, 1)]\n",
    "    while ns:\n",
    "        size, number = ns.pop()\n",
    "        if number in lookup:\n",
    "            continue\n",
    "        lookup[number] = size\n",
    "\n",
    "        if number > 1 and (number - 1) % 3 == 0:\n",
    "            prev = (number - 1) // 3\n",
    "            if prev % 2 != 0:\n",
    "                ns.append((size + 1, prev))\n",
    "\n",
    "        if number < bound:\n",
    "            ns.append((size + 1, number * 2))\n",
    "\n",
    "    return lookup\n",
    "\n",
    "\n",
    "def find_longest(lookup, bound):\n",
    "    max_steps = 0\n",
    "    max_start = 0\n",
    "\n",
    "    for start in range(1, bound):\n",
    "        steps = 0\n",
    "        i = start\n",
    "        while i not in lookup:\n",
    "            steps += 1\n",
    "            if i % 2 == 0:\n",
    "                i = i // 2\n",
    "            else:\n",
    "                i = 3 * i + 1\n",
    "        total_steps = lookup[i] + steps\n",
    "        if total_steps > max_steps:\n",
    "            max_start = start\n",
    "            max_steps = total_steps\n",
    "    return max_start\n",
    "\n",
    "\n",
    "bound = 1000000\n",
    "\n",
    "start_time = time()\n",
    "\n",
    "solution = find_longest(build_lookup(bound // (2 ** 4)), bound)\n",
    "\n",
    "print(f'{int(10 ** 3 * (time() - start_time))} ms')\n",
    "print(solution)"
   ]
  },
  {
   "cell_type": "code",
   "execution_count": null,
   "metadata": {
    "collapsed": true
   },
   "outputs": [],
   "source": [
    "#forum-3\n",
    "#Project Euler\n",
    "#Question 14\n",
    "#Jesse Hamer\n",
    "#12/17/17\n",
    "\n",
    "#Find the number, under one million, which produces the longest Collatz sequence.\n",
    "\n",
    "collatz.length = function(x){\n",
    "  n = 1\n",
    "  while(x!=1){\n",
    "    n = n+1\n",
    "    if(x%%2==0){x = x/2} else{\n",
    "      x = 3*x+1\n",
    "    }\n",
    "  }\n",
    "  return(n)\n",
    "}\n",
    "\n",
    "max.length = 0\n",
    "max.start = 1\n",
    "for(i in 1:1000000){\n",
    "  temp = collatz.length(i)\n",
    "  if(temp>max.length){\n",
    "    max.length = temp\n",
    "    max.start = i\n",
    "  }\n",
    "}\n",
    "\n",
    "max.start"
   ]
  },
  {
   "cell_type": "code",
   "execution_count": null,
   "metadata": {
    "collapsed": true
   },
   "outputs": [],
   "source": [
    "#forum-4\n",
    "# Memoization for Collatz sequences\n",
    "collatz_sequences = {2: [2, 1], 1: [1]}\n",
    "\n",
    "def collatz(n):\n",
    "    \"\"\"\n",
    "    Produce a Collatz sequence with starting value n.\n",
    "\n",
    "    The following iterative sequence is defined for the set of positive\n",
    "    integers:\n",
    "\n",
    "    n --> n/2 (if n is even)\n",
    "    n --> 3n + 1 (if n is odd)\n",
    "\n",
    "    This sequence is called a Collatz sequence and will always end in\n",
    "    1, 4, 2, 1, 4, 2, ...\n",
    "\n",
    "    Arguments:\n",
    "        n: the starting value of the Collatz sequence.\n",
    "\n",
    "    Return:\n",
    "        A list containing the Collatz sequence for n, terminated at the first\n",
    "        appearance of 1.\n",
    "    \"\"\"\n",
    "    seq = [n]\n",
    "    a = n\n",
    "    while n != 1:\n",
    "        if n in collatz_sequences.keys():\n",
    "            collatz_sequences[a] = seq[:-1] + collatz_sequences[n]\n",
    "            return seq[:-1] + collatz_sequences[n]\n",
    "        if n % 2 == 0:\n",
    "            n //= 2\n",
    "        else:\n",
    "            n = n*3 + 1\n",
    "        seq.append(n)\n",
    "\n",
    "def Euler_14(n=1e6):\n",
    "    \"\"\"\n",
    "    Find the number < n which produces the longest Collatz sequence\n",
    "\n",
    "    Euler Problem 14: The following iterative sequence is defined for the set of\n",
    "    positive integers:\n",
    "\n",
    "    n --> n/2 (n is even)\n",
    "    n --> 3n + 1 (n is odd)\n",
    "\n",
    "    Using the rule above and starting with 13, we generate the following\n",
    "    sequence:\n",
    "    13 --> 40 --> 20 --> 10 --> 5 --> 16 --> 8 --> 4 --> 2 --> 1\n",
    "\n",
    "    It can be seen that this sequence (starting at 13 and finishing at 1)\n",
    "    contains 10 terms. Although it has not been proved yet (Collatz Problem),\n",
    "    it is thought that all starting numbers finish at 1.\n",
    "\n",
    "    Which starting number, under one million, produces the longest chain?\n",
    "\n",
    "    Return:\n",
    "        The number <= n which produces the longest Collatz sequence\n",
    "    \"\"\"\n",
    "    longest = [1, 1]\n",
    "    for i in range(2, int(n)):\n",
    "        length = len(collatz(i))\n",
    "        if length > longest[1]:\n",
    "            longest = [i, length]\n",
    "    return longest[0]"
   ]
  },
  {
   "cell_type": "code",
   "execution_count": null,
   "metadata": {
    "collapsed": true
   },
   "outputs": [],
   "source": [
    "#forum-5\n",
    "def Collatz(n):\n",
    "    j = 1\n",
    "    while n != 1:\n",
    "        if n % 2 == 0:\n",
    "            n /= 2\n",
    "            j += 1\n",
    "        else:\n",
    "            n = 3*n+1\n",
    "            j += 1\n",
    "    yield j \n",
    "\n",
    "\n",
    "L=0\n",
    "aux=0\n",
    "for i in range(1000000,2,-1):\n",
    "    if next(Collatz(i))>L:\n",
    "        L=next(Collatz(i))\n",
    "        aux=i\n",
    "        \n",
    "print(\"%d produces a Collatz sequence of %d\"%(aux,L))"
   ]
  },
  {
   "cell_type": "code",
   "execution_count": null,
   "metadata": {
    "collapsed": true
   },
   "outputs": [],
   "source": [
    "#forum-6\n",
    "\"\"\"steps_in_collatz is defined iteratively and then recursively. max_steps_collatz solves the problem using whichever version of steps_in_collatz is uncommented.\"\"\"\n",
    "\n",
    "# Iterative version\n",
    "def steps_in_collatz(i):\n",
    "\tn = 1\n",
    "\twhile i > 1:\n",
    "\t\tif i%2 == 0:\n",
    "\t\t\ti = i / 2\n",
    "\t\t\tn += 1\n",
    "\t\telse:\n",
    "\t\t\ti = 3 * i + 1\n",
    "\t\t\tn += 1\n",
    "\treturn n\n",
    "\t\n",
    "# Recursive version code\n",
    "def steps_in_collatz(i):\n",
    "\treturn collatz(i, 0)\n",
    "\n",
    "def collatz(i, n):\n",
    "\tif i == 1:\n",
    "\t\treturn n + 1\n",
    "\telif i % 2 == 0:\n",
    "\t\treturn collatz(i/2, n + 1)\n",
    "\telse: \n",
    "\t\treturn collatz(3*i + 1, n + 1)\n",
    "\n",
    "# Common to both versions\t\t\n",
    "def max_steps_cols(start, end):\t\n",
    "\tmax_steps = 0\t\n",
    "\tfor i in range(start, end):\n",
    "\t\tcol_steps_i = steps_in_collatz(i)\n",
    "\t\tif col_steps_i > max_steps:\n",
    "\t\t\tmax_steps = col_steps_i\n",
    "\t\t\tmax_steps_i = i\n",
    "\t\t\t\n",
    "\tprint max_steps_i\n",
    "\t\n",
    "# Solve:\n",
    "max_steps_cols(500000, 1000000)\n",
    "\n",
    "# Answer: 837799"
   ]
  }
 ],
 "metadata": {
  "kernelspec": {
   "display_name": "Python 3",
   "language": "python",
   "name": "python3"
  },
  "language_info": {
   "codemirror_mode": {
    "name": "ipython",
    "version": 3
   },
   "file_extension": ".py",
   "mimetype": "text/x-python",
   "name": "python",
   "nbconvert_exporter": "python",
   "pygments_lexer": "ipython3",
   "version": "3.6.5"
  }
 },
 "nbformat": 4,
 "nbformat_minor": 2
}
