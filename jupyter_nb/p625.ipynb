{
 "cells": [
  {
   "cell_type": "markdown",
   "metadata": {},
   "source": [
    "# p625\n"
   ]
  },
  {
   "cell_type": "code",
   "execution_count": 19,
   "metadata": {},
   "outputs": [
    {
     "name": "stdout",
     "output_type": "stream",
     "text": [
      "10 122 0.0\n",
      "100 18065 0.015628576278686523\n",
      "1000 2475190 0.7554073333740234\n",
      "10000 317257140 74.38952445983887\n",
      "finished\n"
     ]
    }
   ],
   "source": [
    "import math\n",
    "import time\n",
    "\n",
    "number = 10\n",
    "while number <= 10000:\n",
    "    start = time.time()\n",
    "    total=0\n",
    "    for j in range(1,number+1):\n",
    "        for i in range(1,j+1):\n",
    "            total+=math.gcd(i,j)\n",
    "    print(number, total, time.time()-start)\n",
    "    number *= 10\n",
    "print(\"finished\")"
   ]
  },
  {
   "cell_type": "code",
   "execution_count": 16,
   "metadata": {},
   "outputs": [
    {
     "name": "stdout",
     "output_type": "stream",
     "text": [
      "1000 2475190 0.8058109283447266\n"
     ]
    }
   ],
   "source": [
    "import math\n",
    "import time\n",
    "\n",
    "number = 1000\n",
    "start = time.time()\n",
    "total=0\n",
    "for j in range(1,number+1):\n",
    "    for i in range(1,j+1):\n",
    "        total+=math.gcd(i,j)\n",
    "print(number, total, time.time()-start)"
   ]
  },
  {
   "cell_type": "code",
   "execution_count": 21,
   "metadata": {},
   "outputs": [
    {
     "name": "stdout",
     "output_type": "stream",
     "text": [
      "10 122 0.0\n",
      "100 18065 0.015625\n",
      "1000 2475190 0.7847986221313477\n",
      "finished\n"
     ]
    }
   ],
   "source": [
    "import math\n",
    "import time\n",
    "\n",
    "number = 10\n",
    "while number <= 1000:\n",
    "    start = time.time()\n",
    "    total=0\n",
    "    for j in range(1,number+1):\n",
    "        for i in range(1,j+1):\n",
    "            total+=math.gcd(i,j)\n",
    "    print(number, total, time.time()-start)\n",
    "    number *= 10\n",
    "print(\"finished\")"
   ]
  },
  {
   "cell_type": "code",
   "execution_count": 20,
   "metadata": {},
   "outputs": [
    {
     "name": "stdout",
     "output_type": "stream",
     "text": [
      "10 122 0.0\n",
      "100 18065 0.020531654357910156\n",
      "1000 2475190 2.2005836963653564\n",
      "500500\n"
     ]
    }
   ],
   "source": [
    "# speed up - cache\n",
    "# more slow,, \n",
    "\n",
    "import math\n",
    "import time\n",
    "\n",
    "cache ={}\n",
    "number = 10\n",
    "while number <= 1000:\n",
    "    start = time.time()\n",
    "    total=0\n",
    "    for j in range(1,number+1):\n",
    "        for i in range(1,j+1):\n",
    "            if (i,j) not in cache:\n",
    "                cache[i,j] = math.gcd(i,j)\n",
    "                total+=cache[i,j]\n",
    "            else:\n",
    "                total+=math.gcd(i,j)\n",
    "    print(number, total, time.time()-start)\n",
    "    number *= 10\n",
    "print(len(cache))"
   ]
  },
  {
   "cell_type": "code",
   "execution_count": 22,
   "metadata": {},
   "outputs": [
    {
     "name": "stdout",
     "output_type": "stream",
     "text": [
      "1000 2475190 0.887446403503418\n",
      "5050\n"
     ]
    }
   ],
   "source": [
    "# speed up - dynamic - conditional cache\n",
    "\n",
    "import math\n",
    "import time\n",
    "\n",
    "cache ={}\n",
    "number = 1000\n",
    "start = time.time()\n",
    "total=0\n",
    "for j in range(1,number+1):\n",
    "    for i in range(1,j+1):\n",
    "        if i>900 and j>900:\n",
    "            temp = math.gcd(i,j)\n",
    "            cache[i,j] = temp\n",
    "            total+=temp\n",
    "        else:\n",
    "            total+= math.gcd(i,j)\n",
    "print(number, total, time.time()-start)\n",
    "print(len(cache))"
   ]
  },
  {
   "cell_type": "code",
   "execution_count": 32,
   "metadata": {},
   "outputs": [
    {
     "name": "stdout",
     "output_type": "stream",
     "text": [
      "10 98 0.001001596450805664\n"
     ]
    }
   ],
   "source": [
    "# speed up - #1 prime pattern & half size non-prime\n",
    "import math\n",
    "import time\n",
    "\n",
    "def isPrime(num):\n",
    "    if num==1: return False\n",
    "    loop=num**0.5\n",
    "    i=2\n",
    "    while i<=loop:\n",
    "        if num%i==0: return False\n",
    "        i+=1\n",
    "    return True\n",
    "\n",
    "number = 10\n",
    "start = time.time()\n",
    "total=0\n",
    "for j in range(1,number+1):\n",
    "    if isPrime(j):total+=j*2-1\n",
    "    else:\n",
    "        loop=j/2\n",
    "        i=1;subTotal=0\n",
    "        while i<=loop:\n",
    "            subTotal+= math.gcd(j,i)*2\n",
    "            i+=1\n",
    "        total+=subTotal\n",
    "print(number, total, time.time()-start)\n"
   ]
  },
  {
   "cell_type": "code",
   "execution_count": 1,
   "metadata": {},
   "outputs": [
    {
     "name": "stdout",
     "output_type": "stream",
     "text": [
      "10000 317257140.0 49.56598734855652\n",
      "{2: 3, 4: 8.0, 8: 20.0, 16: 48.0, 32: 112.0, 64: 256.0, 128: 576.0, 256: 1280.0, 512: 2816.0, 1024: 6144.0, 2048: 13312.0, 4096: 28672.0, 8192: 61440.0}\n"
     ]
    }
   ],
   "source": [
    "# speed up - #2 half size for non-prime\n",
    "import math\n",
    "import time\n",
    "\n",
    "def isPrime(num):\n",
    "    if num==1: return False\n",
    "    loop=num**0.5\n",
    "    i=2\n",
    "    while i<=loop:\n",
    "        if num%i==0: return False\n",
    "        i+=1\n",
    "    return True\n",
    "\n",
    "number = 10000\n",
    "start = time.time()\n",
    "total=0; cache={}\n",
    "total_cmp=0\n",
    "\n",
    "for j in range(1,number+1):\n",
    "    if isPrime(j): \n",
    "        subTotal=j*2-1\n",
    "        if j==2 : cache[j]=subTotal\n",
    "    elif j%2==0 and (j/2) in cache: \n",
    "        subTotal=cache[j/2]*2+j/2\n",
    "        cache[j]=subTotal\n",
    "    else:\n",
    "        loop=j/2\n",
    "        i=1;subTotal=0\n",
    "        while i<=loop:\n",
    "            subTotal+= math.gcd(j,i)*2\n",
    "            i+=1\n",
    "        if j%2==0:\n",
    "            subTotal+=j*0.5\n",
    "        else:\n",
    "            subTotal+=j\n",
    "    total+=subTotal\n",
    "print(number, total, time.time()-start)\n",
    "print(cache)"
   ]
  },
  {
   "cell_type": "code",
   "execution_count": 67,
   "metadata": {
    "scrolled": true
   },
   "outputs": [
    {
     "name": "stdout",
     "output_type": "stream",
     "text": [
      "1 1 1\n",
      "2 3 4\n",
      "3 5 9\n",
      "4 8.0 17.0\n",
      "5 9 26.0\n",
      "6 13.0 39.0\n",
      "7 13 52.0\n",
      "8 20.0 72.0\n",
      "9 21.0 93.0\n",
      "10 27.0 120.0\n",
      "11 21 141.0\n",
      "12 32.0 173.0\n",
      "13 25 198.0\n",
      "14 39.0 237.0\n",
      "15 45 282.0\n",
      "16 48.0 330.0\n",
      "17 33 363.0\n",
      "18 51.0 414.0\n",
      "19 37 451.0\n",
      "20 72.0 523.0\n",
      "21 65 588.0\n",
      "22 63.0 651.0\n",
      "23 45 696.0\n",
      "24 76.0 772.0\n",
      "25 65 837.0\n",
      "26 75.0 912.0\n",
      "27 81.0 993.0\n",
      "28 104.0 1097.0\n",
      "29 57 1154.0\n",
      "30 135.0 1289.0\n",
      "31 61 1350.0\n",
      "32 112.0 1462.0\n",
      "33 105 1567.0\n",
      "34 99.0 1666.0\n",
      "35 117 1783.0\n",
      "36 120.0 1903.0\n",
      "37 73 1976.0\n",
      "38 111.0 2087.0\n",
      "39 125 2212.0\n",
      "40 180.0 2392.0\n",
      "41 81 2473.0\n",
      "42 195.0 2668.0\n",
      "43 85 2753.0\n",
      "44 168.0 2921.0\n",
      "45 189 3110.0\n",
      "46 135.0 3245.0\n",
      "47 93 3338.0\n",
      "48 176.0 3514.0\n",
      "49 133 3647.0\n",
      "50 195.0 3842.0\n",
      "51 165 4007.0\n",
      "52 200.0 4207.0\n",
      "53 105 4312.0\n",
      "54 189.0 4501.0\n",
      "55 189 4690.0\n",
      "56 260.0 4950.0\n",
      "57 185 5135.0\n",
      "58 171.0 5306.0\n",
      "59 117 5423.0\n",
      "60 360.0 5783.0\n",
      "61 121 5904.0\n",
      "62 183.0 6087.0\n",
      "63 273 6360.0\n",
      "64 256.0 6616.0\n",
      "65 225 6841.0\n",
      "66 315.0 7156.0\n",
      "67 133 7289.0\n",
      "68 264.0 7553.0\n",
      "69 225 7778.0\n",
      "70 351.0 8129.0\n",
      "71 141 8270.0\n",
      "72 276.0 8546.0\n",
      "73 145 8691.0\n",
      "74 219.0 8910.0\n",
      "75 325 9235.0\n",
      "76 296.0 9531.0\n",
      "77 273 9804.0\n",
      "78 375.0 10179.0\n",
      "79 157 10336.0\n",
      "80 432.0 10768.0\n",
      "81 297.0 11065.0\n",
      "82 243.0 11308.0\n",
      "83 165 11473.0\n",
      "84 520.0 11993.0\n",
      "85 297 12290.0\n",
      "86 255.0 12545.0\n",
      "87 285 12830.0\n",
      "88 420.0 13250.0\n",
      "89 177 13427.0\n",
      "90 567.0 13994.0\n",
      "91 325 14319.0\n",
      "92 360.0 14679.0\n",
      "93 305 14984.0\n",
      "94 279.0 15263.0\n",
      "95 333 15596.0\n",
      "96 400.0 15996.0\n",
      "97 193 16189.0\n",
      "98 399.0 16588.0\n",
      "99 441 17029.0\n",
      "100 520.0 17549.0\n",
      "100 17549.0 0.0585932731628418\n",
      "{2: 3, 3: 5, 4: 8.0, 6: 13.0, 8: 20.0, 9: 21.0, 12: 32.0, 16: 48.0, 18: 51.0, 24: 76.0, 27: 81.0, 32: 112.0, 36: 120.0, 48: 176.0, 54: 189.0, 64: 256.0, 72: 276.0, 81: 297.0, 96: 400.0}\n"
     ]
    }
   ],
   "source": [
    "# speed up - #3 cache expanded\n",
    "\n",
    "import math\n",
    "import time\n",
    "\n",
    "def isPrime(num):\n",
    "    if num==1: return False\n",
    "    loop=num**0.5\n",
    "    i=2\n",
    "    while i<=loop:\n",
    "        if num%i==0: return False\n",
    "        i+=1\n",
    "    return True\n",
    "\n",
    "number = 100\n",
    "start = time.time()\n",
    "total=0; cache={2:3, 3:5}\n",
    "total_cmp=0\n",
    "\n",
    "for j in range(1,number+1):\n",
    "    if isPrime(j): \n",
    "        subTotal=j*2-1\n",
    "    elif j%2==0 and (j/2) in cache: \n",
    "        subTotal=cache[j/2]*2+j/2\n",
    "        cache[j]=subTotal\n",
    "    elif j%3==0 and (j/3) in cache: \n",
    "        subTotal=cache[j/3]*3+j-j/3\n",
    "        cache[j]=subTotal\n",
    "    else:\n",
    "        loop=j/2\n",
    "        i=1;subTotal=0\n",
    "        while i<=loop:\n",
    "            subTotal+= math.gcd(j,i)*2\n",
    "            i+=1\n",
    "        if j%2==0:\n",
    "            subTotal+=j*0.5\n",
    "        else:\n",
    "            subTotal+=j\n",
    "    total+=subTotal\n",
    "    print(j,subTotal,total)\n",
    "print(number, total, time.time()-start)\n",
    "print(cache)"
   ]
  },
  {
   "cell_type": "code",
   "execution_count": 63,
   "metadata": {},
   "outputs": [
    {
     "name": "stdout",
     "output_type": "stream",
     "text": [
      "2\n",
      "1\n",
      "1\n",
      "5\n",
      "10\n"
     ]
    }
   ],
   "source": [
    "# hold \n",
    "def sumGCD(num):\n",
    "    i=2;total=1;cache={}\n",
    "    while i<=num/2:\n",
    "        if num%i==0 and (num/i) in cache: \n",
    "            print(i)\n",
    "            total+=cache[num/i]*i+\n",
    "        else: \n",
    "            print('1')\n",
    "            total+=1\n",
    "        i+=1\n",
    "        #total+=subTotal\n",
    "    return total\n",
    "print(sumGCD(10))"
   ]
  }
 ],
 "metadata": {
  "kernelspec": {
   "display_name": "Python 3",
   "language": "python",
   "name": "python3"
  },
  "language_info": {
   "codemirror_mode": {
    "name": "ipython",
    "version": 3
   },
   "file_extension": ".py",
   "mimetype": "text/x-python",
   "name": "python",
   "nbconvert_exporter": "python",
   "pygments_lexer": "ipython3",
   "version": "3.6.3"
  }
 },
 "nbformat": 4,
 "nbformat_minor": 2
}
