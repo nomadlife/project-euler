{
 "cells": [
  {
   "cell_type": "markdown",
   "metadata": {
    "collapsed": true
   },
   "source": [
    "# P067 Maximum path sum II\n",
    "\n",
    "\n",
    "\n",
    "\n",
    "By starting at the top of the triangle below and moving to adjacent numbers on the row below, the maximum total from top to bottom is 23.\n",
    "\n",
    "    3\n",
    "    7 4\n",
    "    2 4 6\n",
    "    8 5 9 3\n",
    "\n",
    "That is, 3 + 7 + 4 + 9 = 23.\n",
    "\n",
    "Find the maximum total from top to bottom in triangle.txt (right click and 'Save Link/Target As...'), a 15K text file containing a triangle with one-hundred rows.\n",
    "\n",
    "NOTE: This is a much more difficult version of Problem 18. It is not possible to try every route to solve this problem, as there are 299 altogether! If you could check one trillion (1012) routes every second it would take over twenty billion years to check them all. There is an efficient algorithm to solve it. ;o)\n"
   ]
  },
  {
   "cell_type": "code",
   "execution_count": null,
   "metadata": {
    "collapsed": true,
    "scrolled": true
   },
   "outputs": [],
   "source": [
    "with open('p067_triangle.txt') as data:\n",
    "    lines = data.readlines()\n",
    "\n",
    "numbers=[]\n",
    "for line in lines:\n",
    "    numbers.append(line.split())\n",
    "print(lines)"
   ]
  },
  {
   "cell_type": "code",
   "execution_count": null,
   "metadata": {
    "collapsed": true,
    "scrolled": true
   },
   "outputs": [],
   "source": [
    "# short code (string)\n",
    "with open('p067_triangle.txt') as data:\n",
    "    numbers = [[i for i in line.split()] for line in data.readlines()]"
   ]
  },
  {
   "cell_type": "code",
   "execution_count": 2,
   "metadata": {
    "scrolled": true
   },
   "outputs": [
    {
     "name": "stdout",
     "output_type": "stream",
     "text": [
      "100\n"
     ]
    }
   ],
   "source": [
    "# short code (numeric)\n",
    "with open('p067_triangle.txt') as data:\n",
    "    numbers = [[int(i) for i in line.split()] for line in data.readlines()]\n",
    "print(len(numbers))"
   ]
  },
  {
   "cell_type": "code",
   "execution_count": 3,
   "metadata": {},
   "outputs": [
    {
     "name": "stdout",
     "output_type": "stream",
     "text": [
      "7273\n"
     ]
    }
   ],
   "source": [
    "# solve\n",
    "with open('p067_triangle.txt') as data:\n",
    "    numbers = [[int(i) for i in line.split()] for line in data.readlines()]\n",
    "for i in range(1,100):\n",
    "    for j in range(i+1):\n",
    "        sumLeft = 0\n",
    "        sumRight = 0\n",
    "        if j != 0 : sumLeft = numbers[i][j]+numbers[i-1][j-1]\n",
    "        if j != i : sumRight = numbers[i][j]+numbers[i-1][j]\n",
    "        numbers[i][j] = max(sumLeft,sumRight)\n",
    "print(max(numbers[99]))\n"
   ]
  },
  {
   "cell_type": "code",
   "execution_count": 5,
   "metadata": {},
   "outputs": [
    {
     "ename": "IndexError",
     "evalue": "list index out of range",
     "output_type": "error",
     "traceback": [
      "\u001b[0;31m---------------------------------------------------------------------------\u001b[0m",
      "\u001b[0;31mIndexError\u001b[0m                                Traceback (most recent call last)",
      "\u001b[0;32m<ipython-input-5-05d6ecabc0e6>\u001b[0m in \u001b[0;36m<module>\u001b[0;34m()\u001b[0m\n\u001b[1;32m      4\u001b[0m \u001b[0;32mfor\u001b[0m \u001b[0mi\u001b[0m \u001b[0;32min\u001b[0m \u001b[0mrange\u001b[0m\u001b[0;34m(\u001b[0m\u001b[0;36m1\u001b[0m\u001b[0;34m,\u001b[0m\u001b[0;36m100\u001b[0m\u001b[0;34m)\u001b[0m\u001b[0;34m:\u001b[0m\u001b[0;34m\u001b[0m\u001b[0m\n\u001b[1;32m      5\u001b[0m     \u001b[0;32mfor\u001b[0m \u001b[0mj\u001b[0m \u001b[0;32min\u001b[0m \u001b[0mrange\u001b[0m\u001b[0;34m(\u001b[0m\u001b[0mi\u001b[0m\u001b[0;34m+\u001b[0m\u001b[0;36m1\u001b[0m\u001b[0;34m)\u001b[0m\u001b[0;34m:\u001b[0m\u001b[0;34m\u001b[0m\u001b[0m\n\u001b[0;32m----> 6\u001b[0;31m         \u001b[0mnumbers\u001b[0m\u001b[0;34m[\u001b[0m\u001b[0mi\u001b[0m\u001b[0;34m]\u001b[0m\u001b[0;34m[\u001b[0m\u001b[0mj\u001b[0m\u001b[0;34m]\u001b[0m \u001b[0;34m=\u001b[0m \u001b[0mmax\u001b[0m\u001b[0;34m(\u001b[0m\u001b[0mnumbers\u001b[0m\u001b[0;34m[\u001b[0m\u001b[0mi\u001b[0m\u001b[0;34m-\u001b[0m\u001b[0;36m1\u001b[0m\u001b[0;34m]\u001b[0m\u001b[0;34m[\u001b[0m\u001b[0mj\u001b[0m\u001b[0;34m-\u001b[0m\u001b[0;36m1\u001b[0m\u001b[0;34m]\u001b[0m\u001b[0;34m,\u001b[0m\u001b[0mnumbers\u001b[0m\u001b[0;34m[\u001b[0m\u001b[0mi\u001b[0m\u001b[0;34m-\u001b[0m\u001b[0;36m1\u001b[0m\u001b[0;34m]\u001b[0m\u001b[0;34m[\u001b[0m\u001b[0mj\u001b[0m\u001b[0;34m]\u001b[0m\u001b[0;34m)\u001b[0m\u001b[0;34m\u001b[0m\u001b[0m\n\u001b[0m\u001b[1;32m      7\u001b[0m \u001b[0mmax\u001b[0m\u001b[0;34m(\u001b[0m\u001b[0mnumbers\u001b[0m\u001b[0;34m[\u001b[0m\u001b[0;36m99\u001b[0m\u001b[0;34m]\u001b[0m\u001b[0;34m)\u001b[0m\u001b[0;34m\u001b[0m\u001b[0m\n",
      "\u001b[0;31mIndexError\u001b[0m: list index out of range"
     ]
    }
   ],
   "source": [
    "# solve - short\n",
    "with open('p067_triangle.txt') as data:\n",
    "    numbers = [[int(i) for i in line.split()] for line in data.readlines()]\n",
    "for i in range(1,100):\n",
    "    for j in range(i+1):\n",
    "        numbers[i][j] = max(numbers[i-1][j-1],numbers[i-1][j])\n",
    "max(numbers[99])\n"
   ]
  },
  {
   "cell_type": "code",
   "execution_count": null,
   "metadata": {
    "collapsed": true,
    "scrolled": true
   },
   "outputs": [],
   "source": [
    "#solve-2, divide, not dynamic, slow\n",
    "# not working, not solution\n",
    "m=len(lines)\n",
    "def findSum(total=0,i=0,j=0):\n",
    "    total=total+numbers[i][j]\n",
    "    if i == m-1:\n",
    "        # print(j,total)\n",
    "        return total\n",
    "    else :\n",
    "        result1 = findSum(total,i+1,j)\n",
    "        result2 = findSum(total,i+1,j+1)\n",
    "        if result1 > result2:\n",
    "            return result1\n",
    "        else:\n",
    "            return result2\n",
    "print('final:',findSum())\n"
   ]
  },
  {
   "cell_type": "code",
   "execution_count": 57,
   "metadata": {},
   "outputs": [
    {
     "name": "stdout",
     "output_type": "stream",
     "text": [
      "final: 5628\n"
     ]
    }
   ],
   "source": [
    "# solev-2 try-2, dynamic, \n",
    "# not solution\n",
    "m=len(numbers)\n",
    "def findSum(total=0,i=0,j=0,cache={}):\n",
    "    if (i, j) not in cache:\n",
    "        total=total+numbers[i][j]\n",
    "        if i == m-1:\n",
    "            cache[i, j] = total\n",
    "        else :\n",
    "            result1 = findSum(total,i+1,j)\n",
    "            result2 = findSum(total,i+1,j+1)\n",
    "            if result1 > result2:\n",
    "                cache[i, j] = result1\n",
    "            else:\n",
    "                cache[i, j] = result2\n",
    "    return cache[i, j]\n",
    "print('final:',findSum())"
   ]
  },
  {
   "cell_type": "code",
   "execution_count": 5,
   "metadata": {},
   "outputs": [
    {
     "name": "stdout",
     "output_type": "stream",
     "text": [
      "final: 7273\n"
     ]
    }
   ],
   "source": [
    "#solev-2 try-3, dynamic, bottom-up\n",
    "m=len(numbers)\n",
    "def findSum(i=0,j=0,cache={}):\n",
    "    if (i, j) not in cache:\n",
    "        if i == m-1:\n",
    "            cache[i, j] = numbers[i][j]\n",
    "            print(cache)\n",
    "        else :\n",
    "            result1 = findSum(i+1,j)\n",
    "            result2 = findSum(i+1,j+1)\n",
    "            if result1 > result2:\n",
    "                cache[i, j] = result1 + numbers[i][j]\n",
    "            else:\n",
    "                cache[i, j] = result2 + numbers[i][j]\n",
    "    return cache[i, j]\n",
    "print('final:',findSum(0))"
   ]
  },
  {
   "cell_type": "code",
   "execution_count": 1,
   "metadata": {},
   "outputs": [
    {
     "data": {
      "text/plain": [
       "7273"
      ]
     },
     "execution_count": 1,
     "metadata": {},
     "output_type": "execute_result"
    }
   ],
   "source": [
    "#solev-3, dynamic, simple\n",
    "\n",
    "with open('p067_triangle.txt') as data:\n",
    "    numbers = [[int(i) for i in line.split()] for line in data.readlines()]\n",
    "\n",
    "def findSum(i=0,j=0):\n",
    "    if (i, j) in cache:\n",
    "        return cache[i,j]\n",
    "    if i == 99:\n",
    "        cache[i,j] = numbers[i][j]\n",
    "    else :\n",
    "        cache[i,j] = max(findSum(i+1,j),findSum(i+1,j+1)) + numbers[i][j]\n",
    "    return cache[i, j]\n",
    "cache={}\n",
    "findSum()"
   ]
  },
  {
   "cell_type": "code",
   "execution_count": 1,
   "metadata": {},
   "outputs": [
    {
     "data": {
      "text/plain": [
       "7273"
      ]
     },
     "execution_count": 1,
     "metadata": {},
     "output_type": "execute_result"
    }
   ],
   "source": [
    "#solev-3, dynamic, simple-2\n",
    "\n",
    "with open('p067_triangle.txt') as data:\n",
    "    numbers = [[int(i) for i in line.split()] for line in data.readlines()]\n",
    "\n",
    "def findSum(i=0,j=0):\n",
    "    if (i, j) not in cache:\n",
    "        if i == 99:\n",
    "            cache[i,j] = numbers[i][j]\n",
    "        else :\n",
    "            cache[i,j] = max(findSum(i+1,j),findSum(i+1,j+1)) + numbers[i][j]\n",
    "    return cache[i, j]\n",
    "cache={}\n",
    "findSum()"
   ]
  },
  {
   "cell_type": "code",
   "execution_count": 7,
   "metadata": {},
   "outputs": [
    {
     "name": "stdout",
     "output_type": "stream",
     "text": [
      "7273\n",
      "cac time: 0.04992866516113281\n"
     ]
    }
   ],
   "source": [
    "#solev-3, dynamic, simple\n",
    "# time check\n",
    "from time import time as t\n",
    "start = t()\n",
    "with open('p067_triangle.txt') as data:\n",
    "    numbers = [[int(i) for i in line.split()] for line in data.readlines()]\n",
    "\n",
    "def findSum(i=0,j=0):\n",
    "    if (i, j) in cache:\n",
    "        return cache[i,j]\n",
    "    if i == 99:\n",
    "        cache[i,j] = numbers[i][j]\n",
    "    else :\n",
    "        cache[i,j] = max(findSum(i+1,j),findSum(i+1,j+1)) + numbers[i][j]\n",
    "    return cache[i, j]\n",
    "cache={}\n",
    "print(findSum())\n",
    "print(\"cac time:\", t()-start)"
   ]
  },
  {
   "cell_type": "code",
   "execution_count": 6,
   "metadata": {},
   "outputs": [
    {
     "name": "stdout",
     "output_type": "stream",
     "text": [
      "7273\n",
      "0.048857927322387695\n",
      "uname_result(system='Windows', node='DESKTOP-JEL6KDV', release='10', version='10.0.17134', machine='x86', processor='x86 Family 6 Model 76 Stepping 4, GenuineIntel')\n"
     ]
    }
   ],
   "source": [
    "#solev-3, dynamic, simple-2\n",
    "#time check\n",
    "from time import time as t\n",
    "from platform import uname as u\n",
    "start = t()\n",
    "\n",
    "with open('p067_triangle.txt') as data:\n",
    "    numbers = [[int(i) for i in line.split()] for line in data.readlines()]\n",
    "\n",
    "def findSum(i=0,j=0):\n",
    "    if (i, j) not in cache:\n",
    "        if i == 99:\n",
    "            cache[i,j] = numbers[i][j]\n",
    "        else :\n",
    "            cache[i,j] = max(findSum(i+1,j),findSum(i+1,j+1)) + numbers[i][j]\n",
    "    return cache[i, j]\n",
    "cache={}\n",
    "print(findSum())\n",
    "print(t()-start)\n",
    "print(u())"
   ]
  },
  {
   "cell_type": "code",
   "execution_count": 59,
   "metadata": {},
   "outputs": [
    {
     "name": "stdout",
     "output_type": "stream",
     "text": [
      "7273\n"
     ]
    }
   ],
   "source": [
    "#forum-4\n",
    "\n",
    "with open('p067_triangle.txt', 'r') as f:\n",
    "    #triangle = [list(map(int, i.split())) for i in f.readlines()]\n",
    "    triangle = [ [int(x) for x in i.split()] for i in f.readlines()]\n",
    "\n",
    "\n",
    "def max_triangle(a, b, cache={}):\n",
    "    if (a, b) not in cache:\n",
    "        cache[a, b] = (triangle[a][b] + max(max_triangle(a + 1, b), max_triangle(a + 1, b + 1))\n",
    "                       if len(triangle) > a else 0)\n",
    "    return cache[a, b]\n",
    "\n",
    "\n",
    "print(max_triangle(0, 0))\n",
    "#print(triangle)"
   ]
  },
  {
   "cell_type": "code",
   "execution_count": 3,
   "metadata": {},
   "outputs": [
    {
     "name": "stdout",
     "output_type": "stream",
     "text": [
      "[7273]\n"
     ]
    }
   ],
   "source": [
    "#forum-5\n",
    "\n",
    "f=open('p067_triangle.txt','r')\n",
    "l=f.readlines()\n",
    "\n",
    "nb=[int(l[99][3*k:3*k+2]) for k in range(100)]\n",
    "\n",
    "nlig = 98\n",
    "for k in range(-2,-101,-1):\n",
    "    na = [int(l[nlig][3*k:3*k+2]) for k in range(nlig+1)]\n",
    "    na = [na[k]+max(nb[k],nb[k+1]) for k in range(nlig+1)]\n",
    "    nb  =na\n",
    "    nlig -= 1\n",
    "\n",
    "print(na)"
   ]
  },
  {
   "cell_type": "code",
   "execution_count": 62,
   "metadata": {},
   "outputs": [
    {
     "name": "stdout",
     "output_type": "stream",
     "text": [
      "7273\n"
     ]
    }
   ],
   "source": [
    "#forum-1\n",
    "f = open('p067_triangle.txt', 'r')\n",
    "lines = f.readlines()\n",
    "f.close()\n",
    "\n",
    "#pyramid = [ map(int, line.replace(\"\\n\", \"\").split()) for line in lines]\n",
    "#pyramid = [ list(map(int, line.split())) for line in lines]\n",
    "#pyramid = [ line.split() for line in lines]\n",
    "pyramid = [[int(i) for i in line.split()] for line in lines]\n",
    "\n",
    "known = [[0 for x in range(len(lines[y]))] for y in range(len(lines))]\n",
    "\n",
    "def getSum(x, y):\n",
    "    here = pyramid[y][x]\n",
    "    if y + 1 == len(pyramid):\n",
    "        return here\n",
    "    if known[y][x] > 0:\n",
    "        return known[y][x]\n",
    "    s = here + max(getSum(x, y+1), getSum(x+1, y+1))\n",
    "    known[y][x] = s\n",
    "    return s\n",
    "\n",
    "\n",
    "print(getSum(0, 0))\n",
    "#print(pyramid)"
   ]
  },
  {
   "cell_type": "code",
   "execution_count": null,
   "metadata": {
    "collapsed": true
   },
   "outputs": [],
   "source": [
    "#forum-2\n",
    "with open(\"p067_triangle.txt\") as f:\n",
    "    file_lines = f.readlines()\n",
    "\n",
    "last_line = [int(n) for n in file_lines[-1].split()]\n",
    "for line in file_lines[-2::-1]:\n",
    "    line = [int(n) for n in line.split()]\n",
    "    last_line = [max(x+a, x+b) for x, a, b in zip(line, last_line[:-1], last_line[1:])]\n",
    "print(last_line)"
   ]
  },
  {
   "cell_type": "code",
   "execution_count": null,
   "metadata": {
    "collapsed": true
   },
   "outputs": [],
   "source": [
    "#forum-3\n",
    "\n",
    "file = open('pyramid.txt', 'r')\n",
    "pyramid = [[int(n) for n in row.split()] for row in file.readlines()]\n",
    "file.close()\n",
    "\n",
    "# bottom to top approach\n",
    "def solve(arr):\n",
    "    if len(arr) > 1:\n",
    "        last_row = arr[len(arr)-1]\n",
    "\tsecond_last_row = arr[len(arr)-2]\n",
    "\tfor i, val in enumerate(second_last_row):\n",
    "\t    second_last_row[i] = val + max(last_row[i], last_row[i+1])\n",
    "\tarr = arr[:-1]\n",
    "        return solve(arr)\n",
    "    return arr\n",
    "print(solve(pyramid))"
   ]
  }
 ],
 "metadata": {
  "kernelspec": {
   "display_name": "Python 3",
   "language": "python",
   "name": "python3"
  },
  "language_info": {
   "codemirror_mode": {
    "name": "ipython",
    "version": 3
   },
   "file_extension": ".py",
   "mimetype": "text/x-python",
   "name": "python",
   "nbconvert_exporter": "python",
   "pygments_lexer": "ipython3",
   "version": "3.6.5"
  }
 },
 "nbformat": 4,
 "nbformat_minor": 2
}
