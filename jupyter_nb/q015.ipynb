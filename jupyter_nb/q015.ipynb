{
 "cells": [
  {
   "cell_type": "markdown",
   "metadata": {
    "collapsed": true
   },
   "source": [
    "# Q015 Lattice paths\n",
    "Starting in the top left corner of a 2×2 grid, and only being able to move to the right and down, there are exactly 6 routes to the bottom right corner.\n",
    "How many such routes are there through a 20×20 grid?\n"
   ]
  },
  {
   "cell_type": "code",
   "execution_count": 1,
   "metadata": {},
   "outputs": [
    {
     "name": "stdout",
     "output_type": "stream",
     "text": [
      "137846528820\n",
      "calculation time: 0.3273031711578369\n"
     ]
    }
   ],
   "source": [
    "def grid(r,c):\n",
    "    if c==0 or r==0:\n",
    "        return 1\n",
    "    elif r==1:\n",
    "        return c+1\n",
    "    elif c==1:\n",
    "        return r+1\n",
    "    else:\n",
    "        return grid(r,c-1)+grid(r-1,c)\n",
    "\n",
    "i=0;dim=20;total=0\n",
    "while i<=dim:\n",
    "    total = total + grid(i,dim-i)**2\n",
    "    i+=1\n",
    "\n",
    "print(total)"
   ]
  }
 ],
 "metadata": {
  "kernelspec": {
   "display_name": "Python 3",
   "language": "python",
   "name": "python3"
  },
  "language_info": {
   "codemirror_mode": {
    "name": "ipython",
    "version": 3
   },
   "file_extension": ".py",
   "mimetype": "text/x-python",
   "name": "python",
   "nbconvert_exporter": "python",
   "pygments_lexer": "ipython3",
   "version": "3.5.2"
  }
 },
 "nbformat": 4,
 "nbformat_minor": 2
}
