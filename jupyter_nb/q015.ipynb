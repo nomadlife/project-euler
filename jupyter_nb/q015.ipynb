{
 "cells": [
  {
   "cell_type": "markdown",
   "metadata": {
    "collapsed": true
   },
   "source": [
    "# Q015 Lattice paths\n",
    "Starting in the top left corner of a 2×2 grid, and only being able to move to the right and down, there are exactly 6 routes to the bottom right corner.\n",
    "How many such routes are there through a 20×20 grid?\n"
   ]
  },
  {
   "cell_type": "code",
   "execution_count": 32,
   "metadata": {},
   "outputs": [
    {
     "name": "stdout",
     "output_type": "stream",
     "text": [
      "20\n"
     ]
    }
   ],
   "source": [
    "def grid(r,c):\n",
    "    if r==1:\n",
    "        return c+1\n",
    "    if c==1:\n",
    "        return r+1\n",
    "    return grid(r,c-1)+grid(r-1,c)\n",
    "\n",
    "print(grid(3,3))"
   ]
  },
  {
   "cell_type": "code",
   "execution_count": 33,
   "metadata": {},
   "outputs": [
    {
     "data": {
      "text/plain": [
       "20"
      ]
     },
     "execution_count": 33,
     "metadata": {},
     "output_type": "execute_result"
    }
   ],
   "source": [
    "# condensed\n",
    "def grid(r,c):\n",
    "    if r==1 or c==1:\n",
    "        return c+r\n",
    "    return grid(r,c-1)+grid(r-1,c)\n",
    "\n",
    "grid(3,3)"
   ]
  },
  {
   "cell_type": "code",
   "execution_count": 18,
   "metadata": {
    "scrolled": true
   },
   "outputs": [
    {
     "name": "stdout",
     "output_type": "stream",
     "text": [
      "grid: 2x2 result:6 calculation time: 0.0\n",
      "grid: 3x3 result:20 calculation time: 0.0\n",
      "grid: 4x4 result:70 calculation time: 0.0\n",
      "grid: 5x5 result:252 calculation time: 0.0\n",
      "grid: 6x6 result:924 calculation time: 0.0\n",
      "grid: 7x7 result:3432 calculation time: 0.0\n",
      "grid: 8x8 result:12870 calculation time: 0.0\n",
      "grid: 9x9 result:48620 calculation time: 0.015622138977050781\n",
      "grid: 10x10 result:184756 calculation time: 0.09375596046447754\n",
      "grid: 11x11 result:705432 calculation time: 0.31252193450927734\n",
      "grid: 12x12 result:2704156 calculation time: 1.1407055854797363\n",
      "grid: 13x13 result:10400600 calculation time: 4.281550645828247\n",
      "grid: 14x14 result:40116600 calculation time: 16.751179456710815\n",
      "grid: 15x15 result:155117520 calculation time: 62.848172664642334\n"
     ]
    }
   ],
   "source": [
    "# calculation time\n",
    "\n",
    "import time\n",
    "\n",
    "def grid(r,c):\n",
    "    if r==1 or c==1:\n",
    "        return c+r\n",
    "    return grid(r,c-1)+grid(r-1,c)\n",
    "\n",
    "for i in range(2,16):\n",
    "    start_time = time.time()\n",
    "    print(\"grid: {}x{} result:{} calculation time: {}\".format(i,i,grid(i,i),time.time()-start_time))"
   ]
  },
  {
   "cell_type": "code",
   "execution_count": 34,
   "metadata": {
    "scrolled": true
   },
   "outputs": [
    {
     "name": "stdout",
     "output_type": "stream",
     "text": [
      "uname_result(system='Windows', node='DESKTOP-JEL6KDV', release='10', version='10.0.17134', machine='x86', processor='x86 Family 6 Model 76 Stepping 4, GenuineIntel')\n",
      "grid: 2x2 result:6 calculation time: 0.0\n",
      "grid: 3x3 result:20 calculation time: 0.0\n",
      "grid: 4x4 result:70 calculation time: 0.0\n",
      "grid: 5x5 result:252 calculation time: 0.0\n",
      "grid: 6x6 result:924 calculation time: 0.0\n",
      "grid: 7x7 result:3432 calculation time: 0.0\n",
      "grid: 8x8 result:12870 calculation time: 0.015621423721313477\n",
      "grid: 9x9 result:48620 calculation time: 0.015632152557373047\n",
      "grid: 10x10 result:184756 calculation time: 0.10936641693115234\n",
      "grid: 11x11 result:705432 calculation time: 0.3281116485595703\n",
      "grid: 12x12 result:2704156 calculation time: 1.2812061309814453\n",
      "grid: 13x13 result:10400600 calculation time: 4.640470743179321\n",
      "grid: 14x14 result:40116600 calculation time: 17.49941611289978\n",
      "grid: 15x15 result:155117520 calculation time: 67.38837003707886\n"
     ]
    }
   ],
   "source": [
    "# calculation time -new\n",
    "from platform import uname\n",
    "from time import time\n",
    "\n",
    "def grid(r,c):\n",
    "    if r==1 or c==1:\n",
    "        return c+r\n",
    "    return grid(r,c-1)+grid(r-1,c)\n",
    "\n",
    "print(uname())\n",
    "for i in range(2,16):\n",
    "    start = time()\n",
    "    print(\"grid: {}x{} result:{} calculation time: {}\".format(i,i,grid(i,i),time()-start))"
   ]
  },
  {
   "cell_type": "code",
   "execution_count": 9,
   "metadata": {},
   "outputs": [
    {
     "name": "stdout",
     "output_type": "stream",
     "text": [
      "137846528820\n",
      "calculation time: 0.6249783039093018\n"
     ]
    }
   ],
   "source": [
    "# upgrade-1 : speed up\n",
    "\n",
    "import time\n",
    "start_time = time.time()\n",
    "\n",
    "def grid(r,c):\n",
    "    if c==0 or r==0:\n",
    "        return 1\n",
    "    if r==1 or c==1:\n",
    "        return c+r\n",
    "    return grid(r,c-1)+grid(r-1,c)\n",
    "\n",
    "i=0;dim=20;total=0\n",
    "while i<=dim:\n",
    "    total = total + grid(i,dim-i)**2\n",
    "    i+=1\n",
    "\n",
    "print(total)\n",
    "print(\"calculation time:\",time.time()-start_time)"
   ]
  },
  {
   "cell_type": "code",
   "execution_count": 30,
   "metadata": {},
   "outputs": [
    {
     "name": "stdout",
     "output_type": "stream",
     "text": [
      "grid:5x5 result:252 calculation time:0.0\n",
      "grid:6x6 result:924 calculation time:0.0\n",
      "grid:7x7 result:3432 calculation time:0.0\n",
      "grid:8x8 result:12870 calculation time:0.0\n",
      "grid:9x9 result:48620 calculation time:0.015620946884155273\n",
      "grid:10x10 result:184756 calculation time:0.0\n",
      "grid:11x11 result:705432 calculation time:0.0\n",
      "grid:12x12 result:2704156 calculation time:0.0\n",
      "grid:13x13 result:10400600 calculation time:0.0\n",
      "grid:14x14 result:40116600 calculation time:0.015630483627319336\n",
      "grid:15x15 result:155117520 calculation time:0.015619277954101562\n",
      "grid:16x16 result:601080390 calculation time:0.04687380790710449\n",
      "grid:17x17 result:2333606220 calculation time:0.07812213897705078\n",
      "grid:18x18 result:9075135300 calculation time:0.15632057189941406\n",
      "grid:19x19 result:35345263800 calculation time:0.31241464614868164\n",
      "grid:20x20 result:137846528820 calculation time:0.687476396560669\n",
      "grid:21x21 result:538257874440 calculation time:1.249955415725708\n",
      "grid:22x22 result:2104098963720 calculation time:2.406170606613159\n",
      "grid:23x23 result:8233430727600 calculation time:4.749845504760742\n"
     ]
    }
   ],
   "source": [
    "# test for upgrade-1\n",
    "\n",
    "import time\n",
    "\n",
    "def grid(r,c):\n",
    "    if c==0 or r==0:\n",
    "        return 1\n",
    "    if r==1 or c==1:\n",
    "        return c+r\n",
    "    return grid(r,c-1)+grid(r-1,c)\n",
    "\n",
    "for k in range(5,24):\n",
    "    start_time = time.time()\n",
    "    i=0;dim=k;total=0\n",
    "    while i<=dim:\n",
    "        total = total + grid(i,dim-i)**2\n",
    "        i+=1\n",
    "    print(\"grid:{}x{} result:{} calculation time:{}\".format(k,k,total,time.time()-start_time))"
   ]
  },
  {
   "cell_type": "code",
   "execution_count": 31,
   "metadata": {},
   "outputs": [
    {
     "name": "stdout",
     "output_type": "stream",
     "text": [
      "137846528820\n",
      "calculation time: 0.0\n"
     ]
    }
   ],
   "source": [
    "# upgrade -2 : dynamic\n",
    "\n",
    "import time\n",
    "start_time = time.time()\n",
    "\n",
    "def grid(r,c):\n",
    "    if c==0 or r==0:\n",
    "        return 1\n",
    "    if r==1 or c==1:\n",
    "        return c+r\n",
    "    if (r,c) not in cache:\n",
    "        cache[r,c]=grid(r,c-1)+grid(r-1,c)\n",
    "    return cache[r,c]\n",
    "\n",
    "cache={}\n",
    "print(grid(20,20))\n",
    "print(\"calculation time:\",time.time()-start_time)"
   ]
  },
  {
   "cell_type": "code",
   "execution_count": 29,
   "metadata": {},
   "outputs": [
    {
     "name": "stdout",
     "output_type": "stream",
     "text": [
      "137846528820\n",
      "calculation time: 0.0\n"
     ]
    }
   ],
   "source": [
    "# upgrade -2 : dynamic -2\n",
    "# no need zero(r==0 or c==0) case\n",
    "\n",
    "import time\n",
    "start_time = time.time()\n",
    "\n",
    "def grid(r,c):\n",
    "    if r==1 or c==1:\n",
    "        return c+r\n",
    "    if (r,c) not in cache:\n",
    "        cache[r,c]=grid(r,c-1)+grid(r-1,c)\n",
    "    return cache[r,c]\n",
    "\n",
    "cache={}\n",
    "print(grid(20,20))\n",
    "\n",
    "print(\"calculation time:\",time.time()-start_time)"
   ]
  },
  {
   "cell_type": "code",
   "execution_count": 7,
   "metadata": {},
   "outputs": [
    {
     "name": "stdout",
     "output_type": "stream",
     "text": [
      "{1: 2, 2: 4}\n",
      "<class 'dict'>\n"
     ]
    }
   ],
   "source": [
    "def test(a):\n",
    "    print(a)\n",
    "    print(type(a))\n",
    "data={1:2,2:4}\n",
    "test(data)"
   ]
  },
  {
   "cell_type": "code",
   "execution_count": 26,
   "metadata": {},
   "outputs": [
    {
     "data": {
      "text/plain": [
       "5050"
      ]
     },
     "execution_count": 26,
     "metadata": {},
     "output_type": "execute_result"
    }
   ],
   "source": [
    "def summ(n):\n",
    "    if n==1 : \n",
    "        return 1\n",
    "    else : \n",
    "        return summ(n-1)+n\n",
    "summ(100)"
   ]
  }
 ],
 "metadata": {
  "kernelspec": {
   "display_name": "Python 3",
   "language": "python",
   "name": "python3"
  },
  "language_info": {
   "codemirror_mode": {
    "name": "ipython",
    "version": 3
   },
   "file_extension": ".py",
   "mimetype": "text/x-python",
   "name": "python",
   "nbconvert_exporter": "python",
   "pygments_lexer": "ipython3",
   "version": "3.6.5"
  }
 },
 "nbformat": 4,
 "nbformat_minor": 2
}
