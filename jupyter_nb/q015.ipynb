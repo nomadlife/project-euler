{
 "cells": [
  {
   "cell_type": "markdown",
   "metadata": {
    "collapsed": true
   },
   "source": [
    "# Q015 Lattice paths\n",
    "Starting in the top left corner of a 2×2 grid, and only being able to move to the right and down, there are exactly 6 routes to the bottom right corner.\n",
    "How many such routes are there through a 20×20 grid?\n"
   ]
  },
  {
   "cell_type": "code",
   "execution_count": 8,
   "metadata": {},
   "outputs": [
    {
     "name": "stdout",
     "output_type": "stream",
     "text": [
      "20\n"
     ]
    }
   ],
   "source": [
    "def grid(r,c):\n",
    "    if r==1:\n",
    "        return c+1\n",
    "    elif c==1:\n",
    "        return r+1\n",
    "    else:\n",
    "        return grid(r,c-1)+grid(r-1,c)\n",
    "\n",
    "print(grid(3,3))"
   ]
  },
  {
   "cell_type": "code",
   "execution_count": 17,
   "metadata": {
    "scrolled": true
   },
   "outputs": [
    {
     "name": "stdout",
     "output_type": "stream",
     "text": [
      "grid: 2x2 result:6 calculation time: 0.0\n",
      "grid: 3x3 result:20 calculation time: 0.0\n",
      "grid: 4x4 result:70 calculation time: 0.0\n",
      "grid: 5x5 result:252 calculation time: 0.0\n",
      "grid: 6x6 result:924 calculation time: 0.0\n",
      "grid: 7x7 result:3432 calculation time: 0.0\n",
      "grid: 8x8 result:12870 calculation time: 0.015622138977050781\n",
      "grid: 9x9 result:48620 calculation time: 0.03125452995300293\n",
      "grid: 10x10 result:184756 calculation time: 0.12500524520874023\n",
      "grid: 11x11 result:705432 calculation time: 0.4375288486480713\n",
      "grid: 12x12 result:2704156 calculation time: 1.578232765197754\n",
      "grid: 13x13 result:10400600 calculation time: 5.828530550003052\n",
      "grid: 14x14 result:40116600 calculation time: 21.970292329788208\n",
      "grid: 15x15 result:155117520 calculation time: 83.83402347564697\n"
     ]
    }
   ],
   "source": [
    "import time\n",
    "start_time = time.time()\n",
    "\n",
    "def grid(r,c):\n",
    "    if r==1:\n",
    "        return c+1\n",
    "    elif c==1:\n",
    "        return r+1\n",
    "    else:\n",
    "        return grid(r,c-1)+grid(r-1,c)\n",
    "\n",
    "for i in range(2,16):\n",
    "    print(\"grid: {}x{} result:{} calculation time: {}\".format(i,i,grid(i,i),time.time()-start_time))"
   ]
  },
  {
   "cell_type": "code",
   "execution_count": 18,
   "metadata": {
    "scrolled": true
   },
   "outputs": [
    {
     "name": "stdout",
     "output_type": "stream",
     "text": [
      "grid: 2x2 result:6 calculation time: 0.0\n",
      "grid: 3x3 result:20 calculation time: 0.0\n",
      "grid: 4x4 result:70 calculation time: 0.0\n",
      "grid: 5x5 result:252 calculation time: 0.0\n",
      "grid: 6x6 result:924 calculation time: 0.0\n",
      "grid: 7x7 result:3432 calculation time: 0.0\n",
      "grid: 8x8 result:12870 calculation time: 0.0\n",
      "grid: 9x9 result:48620 calculation time: 0.015622138977050781\n",
      "grid: 10x10 result:184756 calculation time: 0.09375596046447754\n",
      "grid: 11x11 result:705432 calculation time: 0.31252193450927734\n",
      "grid: 12x12 result:2704156 calculation time: 1.1407055854797363\n",
      "grid: 13x13 result:10400600 calculation time: 4.281550645828247\n",
      "grid: 14x14 result:40116600 calculation time: 16.751179456710815\n",
      "grid: 15x15 result:155117520 calculation time: 62.848172664642334\n"
     ]
    }
   ],
   "source": [
    "import time\n",
    "\n",
    "def grid(r,c):\n",
    "    if r==1:\n",
    "        return c+1\n",
    "    elif c==1:\n",
    "        return r+1\n",
    "    else:\n",
    "        return grid(r,c-1)+grid(r-1,c)\n",
    "\n",
    "for i in range(2,16):\n",
    "    start_time = time.time()\n",
    "    print(\"grid: {}x{} result:{} calculation time: {}\".format(i,i,grid(i,i),time.time()-start_time))"
   ]
  },
  {
   "cell_type": "code",
   "execution_count": 11,
   "metadata": {},
   "outputs": [
    {
     "name": "stdout",
     "output_type": "stream",
     "text": [
      "137846528820\n",
      "calculation time: 0.5781667232513428\n"
     ]
    }
   ],
   "source": [
    "import time\n",
    "start_time = time.time()\n",
    "\n",
    "def grid(r,c):\n",
    "    if c==0 or r==0:\n",
    "        return 1\n",
    "    elif r==1:\n",
    "        return c+1\n",
    "    elif c==1:\n",
    "        return r+1\n",
    "    else:\n",
    "        return grid(r,c-1)+grid(r-1,c)\n",
    "\n",
    "i=0;dim=20;total=0\n",
    "while i<=dim:\n",
    "    total = total + grid(i,dim-i)**2\n",
    "    i+=1\n",
    "\n",
    "print(total)\n",
    "print(\"calculation time:\",time.time()-start_time)"
   ]
  },
  {
   "cell_type": "code",
   "execution_count": 16,
   "metadata": {},
   "outputs": [
    {
     "name": "stdout",
     "output_type": "stream",
     "text": [
      "grid:5x5 result:252 calculation time:0.0\n",
      "grid:6x6 result:924 calculation time:0.0\n",
      "grid:7x7 result:3432 calculation time:0.0\n",
      "grid:8x8 result:12870 calculation time:0.0\n",
      "grid:9x9 result:48620 calculation time:0.0\n",
      "grid:10x10 result:184756 calculation time:0.0\n",
      "grid:11x11 result:705432 calculation time:0.0\n",
      "grid:12x12 result:2704156 calculation time:0.0\n",
      "grid:13x13 result:10400600 calculation time:0.015633583068847656\n",
      "grid:14x14 result:40116600 calculation time:0.015633583068847656\n",
      "grid:15x15 result:155117520 calculation time:0.046880245208740234\n",
      "grid:16x16 result:601080390 calculation time:0.09375739097595215\n",
      "grid:17x17 result:2333606220 calculation time:0.15626239776611328\n",
      "grid:18x18 result:9075135300 calculation time:0.29689860343933105\n",
      "grid:19x19 result:35345263800 calculation time:0.5781683921813965\n",
      "grid:20x20 result:137846528820 calculation time:1.140709400177002\n",
      "grid:21x21 result:538257874440 calculation time:2.23453426361084\n",
      "grid:22x22 result:2104098963720 calculation time:4.422192335128784\n",
      "grid:23x23 result:8233430727600 calculation time:8.828747749328613\n"
     ]
    }
   ],
   "source": [
    "import time\n",
    "start_time = time.time()\n",
    "\n",
    "def grid(r,c):\n",
    "    if c==0 or r==0:\n",
    "        return 1\n",
    "    elif r==1:\n",
    "        return c+1\n",
    "    elif c==1:\n",
    "        return r+1\n",
    "    else:\n",
    "        return grid(r,c-1)+grid(r-1,c)\n",
    "\n",
    "for k in range(5,24):\n",
    "    i=0;dim=k;total=0\n",
    "    while i<=dim:\n",
    "        total = total + grid(i,dim-i)**2\n",
    "        i+=1\n",
    "    print(\"grid:{}x{} result:{} calculation time:{}\".format(k,k,total,time.time()-start_time))"
   ]
  },
  {
   "cell_type": "code",
   "execution_count": 15,
   "metadata": {},
   "outputs": [
    {
     "name": "stdout",
     "output_type": "stream",
     "text": [
      "grid:5x5 result:252 calculation time:0.0\n",
      "grid:6x6 result:924 calculation time:0.0\n",
      "grid:7x7 result:3432 calculation time:0.0\n",
      "grid:8x8 result:12870 calculation time:0.0\n",
      "grid:9x9 result:48620 calculation time:0.0\n",
      "grid:10x10 result:184756 calculation time:0.0\n",
      "grid:11x11 result:705432 calculation time:0.0\n",
      "grid:12x12 result:2704156 calculation time:0.0\n",
      "grid:13x13 result:10400600 calculation time:0.01562786102294922\n",
      "grid:14x14 result:40116600 calculation time:0.0\n",
      "grid:15x15 result:155117520 calculation time:0.015622854232788086\n",
      "grid:16x16 result:601080390 calculation time:0.04687952995300293\n",
      "grid:17x17 result:2333606220 calculation time:0.06250572204589844\n",
      "grid:18x18 result:9075135300 calculation time:0.14063525199890137\n",
      "grid:19x19 result:35345263800 calculation time:0.2812683582305908\n",
      "grid:20x20 result:137846528820 calculation time:0.5625402927398682\n",
      "grid:21x21 result:538257874440 calculation time:1.1094532012939453\n",
      "grid:22x22 result:2104098963720 calculation time:2.187657594680786\n",
      "grid:23x23 result:8233430727600 calculation time:4.23468279838562\n"
     ]
    }
   ],
   "source": [
    "import time\n",
    "\n",
    "\n",
    "def grid(r,c):\n",
    "    if c==0 or r==0:\n",
    "        return 1\n",
    "    elif r==1:\n",
    "        return c+1\n",
    "    elif c==1:\n",
    "        return r+1\n",
    "    else:\n",
    "        return grid(r,c-1)+grid(r-1,c)\n",
    "\n",
    "for k in range(5,24):\n",
    "    start_time = time.time()\n",
    "    i=0;dim=k;total=0\n",
    "    while i<=dim:\n",
    "        total = total + grid(i,dim-i)**2\n",
    "        i+=1\n",
    "    print(\"grid:{}x{} result:{} calculation time:{}\".format(k,k,total,time.time()-start_time))"
   ]
  },
  {
   "cell_type": "code",
   "execution_count": null,
   "metadata": {
    "collapsed": true
   },
   "outputs": [],
   "source": [
    "#forum-1\n",
    "\"\"\"\n",
    "Lattice Paths\n",
    "\n",
    "Starting in the top left corner of a 2x2 grid, and only being able to move\n",
    "to the right and down, there are exactly 6 routes to the bottom right corner.\n",
    "\n",
    "How many such routes are there through a 20x20 grid?\n",
    "\n",
    "Answer:\n",
    "    137846528820\n",
    "\"\"\"\n",
    "\n",
    "import time\n",
    "start = time.time()\n",
    "values = {(0, 0): 1}\n",
    "\n",
    "def value(point):\n",
    "    \"\"\"\n",
    "    The value of a point is the number of paths that can be taken\n",
    "    to the point (0, 0) with only right/down moves.\n",
    "    (0, 0) being the bottom right corner of a grid.\n",
    "\n",
    "    This value is the addition of the value of the point to the right and\n",
    "    the point to the left.\n",
    "\n",
    "    All points on the x or y axis (that contain a 0) are always valued at 1.\n",
    "    \n",
    "    :param point: tuple of (int, int)\n",
    "    :return: The number number of paths.\n",
    "    \"\"\"\n",
    "    if point in values:\n",
    "        return values[point]\n",
    "    if 0 in point:\n",
    "        values[point] = 1\n",
    "        return 1\n",
    "    else:\n",
    "        v = value((point[0], point[1] - 1)) + value((point[0] - 1, point[1]))\n",
    "        values[point] = v\n",
    "        return v\n",
    "\n",
    "if __name__ == '__main__':\n",
    "    print(value((20, 20)))\n",
    "    print(\"{}s elapsed\".format(time.time() - start))"
   ]
  },
  {
   "cell_type": "code",
   "execution_count": null,
   "metadata": {
    "collapsed": true
   },
   "outputs": [],
   "source": [
    "#forum-2\n",
    "listx = []\n",
    "for x in range(40):\n",
    "    listx.append(1)\n",
    "list1 = []\n",
    "i = 1\n",
    "while i < 41:\n",
    "    listy = []\n",
    "    for y in range(1,41-i):\n",
    "        listx[y] = listx[y-1] + listx[y]\n",
    "        listy.append(listx[y])\n",
    "    list1.append(listy)\n",
    "    i += 1\n",
    "\n",
    "\n",
    "list2 = []\n",
    "for lists in list1:\n",
    "    if lists != []:\n",
    "        list2.append(max(lists))\n",
    "print max(list2)\n"
   ]
  },
  {
   "cell_type": "code",
   "execution_count": null,
   "metadata": {
    "collapsed": true
   },
   "outputs": [],
   "source": [
    "#forum-3\n",
    "class gridwalk:\n",
    "    \"\"\"A class to solve this problem by walking iteratively through possible pathways,\"\"\"\n",
    "    # this algorithm is optimised to solve efficiently by combining calculations for pathways\n",
    "    # if they ever converge on the same point\n",
    "    def __init__(self, n):\n",
    "        self.gridsize = n\n",
    "        self.grid = self.gridgen(n)\n",
    "        self.endpoints = set([(0,0)]) #set storing the endpoints of all partial paths checked so far\n",
    "        self.grid[0][0] = 1 # initialise grid by placing a 1 at the starting point\n",
    "    def gridgen(self, n):\n",
    "        \"\"\"Creates an n*n grid to iterate through\"\"\"\n",
    "        return [[0 for i in range(n)] for j in range(n)]\n",
    "    def reachable(self, p: tuple):\n",
    "        \"\"\"returns coordinates of points reachable from p\"\"\"\n",
    "        points = [(p[0], p[1] + 1), # right\n",
    "                    (p[0] + 1, p[1])] # down\n",
    "        for point in points:\n",
    "            for coord in point:\n",
    "                if not 0 <= coord <= (self.gridsize - 1):\n",
    "                    points.remove(point)\n",
    "        return points\n",
    "    def iterate(self):\n",
    "        \"\"\"Iterates throught steps of paths, finding next points (dpoints) and\n",
    "        incrementing appropriately before updting endpoints\"\"\"\n",
    "        nextpoints = set()\n",
    "        for point in self.endpoints:\n",
    "            dpoints = self.reachable(point)\n",
    "            for dpoint in dpoints:\n",
    "                self.grid[dpoint[0]][dpoint[1]] += self.grid[point[0]][point[1]]\n",
    "                nextpoints.add(dpoint)\n",
    "        self.endpoints = nextpoints\n",
    "    def finished(self):\n",
    "        \"\"\"Checks if interative calculation is finished\"\"\"\n",
    "        if (len(self.endpoints)  == 1) and ((0,0) not in self.endpoints):\n",
    "            return True # for sq grid, all path lengths should be equal\n",
    "        else: return False\n",
    "    def solve(self):\n",
    "        \"\"\"Repeatedly iterates until calculation is finished\"\"\"\n",
    "        while not self.finished():\n",
    "            self.iterate()\n",
    "        self.totalpaths = self.grid[self.gridsize - 1][self.gridsize - 1] # returns bottom right value\n",
    "    \n",
    "if __name__ == \"__main__\":\n",
    "    n = int(input(\"Find total number of paths in square grid of size: \"))\n",
    "    calc = gridwalk(n)\n",
    "    calc.solve()\n",
    "    print(\"\\nCalculation complete! Displaying results:\\n\\n\")\n",
    "    for row in calc.grid:\n",
    "        print(row)\n",
    "    print(\"\\n\\nThe calculated number of paths through a %i*%i grid is %i\\n\"\n",
    "            % (calc.gridsize, calc.gridsize, calc.totalpaths))"
   ]
  },
  {
   "cell_type": "code",
   "execution_count": null,
   "metadata": {
    "collapsed": true
   },
   "outputs": [],
   "source": [
    "#forum-4\n",
    "import time\n",
    "\n",
    "start = time.time()\n",
    "\n",
    "rows, columns = 20, 20\n",
    "\n",
    "r, c = rows + 1, columns + 1\n",
    "\n",
    "m = [[0 for row in range(r)] for column in range(c)]\n",
    "\n",
    "for row in range(1,r) :\n",
    "    m[row][0] = 1\n",
    "\n",
    "for column in range(1,c) :\n",
    "    m[0][column] = 1\n",
    "\n",
    "for row in range(1,r) :\n",
    "    for column in range(1,c) :\n",
    "        m[row][column] = m[row-1][column] + m[row][column-1]\n",
    "\n",
    "print('Number of routes through',rows,'x',columns,'grid is', m[rows][columns])\n",
    "\n",
    "the_end = time.time()\n",
    "\n",
    "print('Time taken (msecs):',(the_end - start)*1000)"
   ]
  },
  {
   "cell_type": "code",
   "execution_count": null,
   "metadata": {
    "collapsed": true
   },
   "outputs": [],
   "source": [
    "#forum-5\n",
    "\n",
    "#Project Euler\n",
    "#Question 15\n",
    "#Jesse Hamer\n",
    "#12/17/17\n",
    "\n",
    "#Find the number of walks from top-left to bottom-right on a 20x20 grid.\n",
    "\n",
    "#This one does not really require computation; it can be done mathematically.\n",
    "#To begin, on an n x n grid, there are (n+1) x (n+1) lattice points. Now any\n",
    "#walk from top-left to bottom-right requires exactly n right moves (\"R\")\n",
    "#and n down moves (\"D\"), for a total of 2n moves altogether. The problem may\n",
    "#thus be recast as follows: envision a walk as 2n blank spaces into which\n",
    "#we must place n R's and n D's. It suffices to count the number of ways\n",
    "#of placing n R's into 2n spaces, since the remaining spaces are\n",
    "#forced to be D's. Hence, we make use of the binomial coefficients to\n",
    "#answer the question:\n",
    "\n",
    "choose(2*20,20)"
   ]
  },
  {
   "cell_type": "code",
   "execution_count": null,
   "metadata": {
    "collapsed": true
   },
   "outputs": [],
   "source": [
    "#forum-6\n",
    "def binomial_coefficient(n, k):\n",
    "    \"\"\"\n",
    "    Calculate the binomial coefficient of n choose k.\n",
    "\n",
    "    Arguments:\n",
    "        n: any integer so that n > 0.\n",
    "        k: any integer so that n > k > 0.\n",
    "\n",
    "    Return:\n",
    "        The binomial coefficient of n choose k.\n",
    "    \"\"\"\n",
    "    return factorial(n) / (factorial(k) * factorial(n-k))\n",
    "\n",
    "def Euler_15(n=20):\n",
    "    return int(binomial_coefficient(2*n, n))"
   ]
  }
 ],
 "metadata": {
  "kernelspec": {
   "display_name": "Python 3",
   "language": "python",
   "name": "python3"
  }
 },
 "nbformat": 4,
 "nbformat_minor": 2
}
