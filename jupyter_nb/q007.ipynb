{
 "cells": [
  {
   "cell_type": "markdown",
   "metadata": {
    "collapsed": true
   },
   "source": [
    "# Q007 10001st prime\n",
    "\n",
    "By listing the first six prime numbers: 2, 3, 5, 7, 11, and 13, we can see that the 6th prime is 13.\n",
    "\n",
    "What is the 10 001st prime number?\n",
    "\n",
    "10001번째 소수\n",
    "\n",
    "1. 메인 루프문 만들고,\n",
    "2. 소수확인 함수는 3번문제에서 쓴거 그대로 가져오기."
   ]
  },
  {
   "cell_type": "code",
   "execution_count": null,
   "metadata": {
    "collapsed": true
   },
   "outputs": [],
   "source": [
    "# 메인 루프문\n",
    "def isPrime(param):\n",
    "    return True\n",
    "\n",
    "i=1;primeCount=0\n",
    "while True:\n",
    "    if isPrime(i):\n",
    "        primeCount+=1\n",
    "    if primeCount==10001:\n",
    "        break\n",
    "print(i)"
   ]
  },
  {
   "cell_type": "code",
   "execution_count": 1,
   "metadata": {},
   "outputs": [
    {
     "name": "stdout",
     "output_type": "stream",
     "text": [
      "104743\n"
     ]
    }
   ],
   "source": [
    "# q003문제의 isPrime() 함수 가져오기\n",
    "\n",
    "def isPrime(param):\n",
    "    if param==1:\n",
    "        return False\n",
    "    loop=round(param**0.5)\n",
    "    for j in range(2,loop+1):\n",
    "        if param%j == 0:\n",
    "            return False\n",
    "        else:\n",
    "            continue\n",
    "    return True\n",
    "\n",
    "i=1;primeCount=0\n",
    "while True:\n",
    "    if isPrime(i):\n",
    "        primeCount+=1\n",
    "    if primeCount==10001:\n",
    "        break\n",
    "    i+=1\n",
    "print(i)"
   ]
  },
  {
   "cell_type": "code",
   "execution_count": null,
   "metadata": {
    "collapsed": true
   },
   "outputs": [],
   "source": []
  }
 ],
 "metadata": {
  "kernelspec": {
   "display_name": "Python 3",
   "language": "python",
   "name": "python3"
  },
  "language_info": {
   "codemirror_mode": {
    "name": "ipython",
    "version": 3
   },
   "file_extension": ".py",
   "mimetype": "text/x-python",
   "name": "python",
   "nbconvert_exporter": "python",
   "pygments_lexer": "ipython3",
   "version": "3.5.1"
  }
 },
 "nbformat": 4,
 "nbformat_minor": 2
}
