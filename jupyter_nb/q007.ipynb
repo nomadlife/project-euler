{
 "cells": [
  {
   "cell_type": "markdown",
   "metadata": {
    "collapsed": true
   },
   "source": [
    "# Q007 10001st prime\n",
    "\n",
    "By listing the first six prime numbers: 2, 3, 5, 7, 11, and 13, we can see that the 6th prime is 13.\n",
    "\n",
    "What is the 10 001st prime number?\n",
    "\n",
    "10001번째 소수\n",
    "\n",
    "1. 메인 루프문 만들고,\n",
    "2. 소수확인 함수는 3번문제에서 쓴거 그대로 가져오기."
   ]
  },
  {
   "cell_type": "code",
   "execution_count": 1,
   "metadata": {},
   "outputs": [
    {
     "name": "stdout",
     "output_type": "stream",
     "text": [
      "104743\n"
     ]
    }
   ],
   "source": [
    "# q003문제의 isPrime() 함수 가져오기\n",
    "\n",
    "def is_prime(num):\n",
    "    if num==1:\n",
    "        return False\n",
    "    loop=num**0.5\n",
    "    i=2\n",
    "    while i<=loop:\n",
    "        if num%i==0:\n",
    "            return False\n",
    "        i+=1\n",
    "    return True\n",
    "\n",
    "i=1;primeCount=0\n",
    "while True:\n",
    "    if is_prime(i):\n",
    "        primeCount+=1\n",
    "    if primeCount==10001:\n",
    "        break\n",
    "    i+=1\n",
    "print(i)"
   ]
  },
  {
   "cell_type": "code",
   "execution_count": null,
   "metadata": {
    "collapsed": true
   },
   "outputs": [],
   "source": [
    "# forum -1\n",
    "from collections import OrderedDict\n",
    "\n",
    "import itertools\n",
    "import time\n",
    "\n",
    "\n",
    "def sieve_nth_prime(n, bound):\n",
    "    numbers = OrderedDict(zip(range(3, bound + 1, 2), itertools.repeat(None)))\n",
    "    last_prime = 2\n",
    "    for n in range(n - 1):\n",
    "        if not numbers:\n",
    "            return None\n",
    "        last_prime = next(iter(numbers))\n",
    "        for x in range(last_prime, bound, last_prime):\n",
    "            numbers.pop(x, None)\n",
    "    return last_prime\n",
    "\n",
    "\n",
    "def solve(n):\n",
    "    upper_bound = n * 2\n",
    "    while True:\n",
    "        prime = sieve_nth_prime(n, upper_bound)\n",
    "        if prime:\n",
    "            return prime\n",
    "        upper_bound *= 2\n",
    "\n",
    "\n",
    "start_time = time.time()\n",
    "solution = solve(10001)\n",
    "\n",
    "print(f'{int(10 ** 6 * (time.time() - start_time))} microseconds')\n",
    "print(solution)"
   ]
  },
  {
   "cell_type": "code",
   "execution_count": null,
   "metadata": {
    "collapsed": true
   },
   "outputs": [],
   "source": [
    "# forum -2\n",
    "import math\n",
    "\n",
    "n = 10001\n",
    "upper_bound = int(n * (math.log(n) + math.log(math.log(n))))\n",
    "sieve = {}\n",
    "\n",
    "for i in range(4, upper_bound, 2):\n",
    "  sieve[i] = True\n",
    "\n",
    "for i in range(3, int(math.sqrt(upper_bound)), 2):\n",
    "  for j in range(2 * i, upper_bound, i):\n",
    "    sieve[j] = True\n",
    "\n",
    "primes = list(filter(lambda x: x not in sieve, range(2, upper_bound)))\n",
    "print primes[n - 1]"
   ]
  },
  {
   "cell_type": "code",
   "execution_count": null,
   "metadata": {
    "collapsed": true
   },
   "outputs": [],
   "source": [
    "# forum -3\n",
    "#import timeit\n",
    "import math\n",
    "\n",
    "\n",
    "def primesN(number):\n",
    "    \n",
    "    # list of primes\n",
    "    primes = [2]\n",
    "    print('#1', 2)\n",
    "    \n",
    "    p, i = 1, 3 # p is the p-th prime number, i is the i-th number\n",
    "    \n",
    "    while len(primes)<number:\n",
    "\n",
    "        isPrime = True\n",
    "       \n",
    "        for prime in primes:\n",
    "            # prime < sqrt(n)\n",
    "            if prime*prime <= i:\n",
    "            \n",
    "                if i % prime == 0:\n",
    "                    isPrime = False\n",
    "                    break\n",
    "                \n",
    "            else:\n",
    "                break\n",
    "            \n",
    "            \n",
    "        if isPrime == True:\n",
    "            primes.append(i)\n",
    "            p += 1\n",
    "            print('#' + str(p), i)\n",
    "            \n",
    "        i += 2# i += 2\n",
    " \n",
    "#start = timeit.default_timer()\n",
    "primesN(10001) # 104743\n",
    "#stop = timeit.default_timer()\n",
    "\n",
    "#print(stop-start)"
   ]
  },
  {
   "cell_type": "code",
   "execution_count": null,
   "metadata": {
    "collapsed": true
   },
   "outputs": [],
   "source": [
    "# forum -4\n",
    "def is_prime(x):\n",
    "    if x > 1:\n",
    "        divisor = 2\n",
    "        for i in range(divisor, x):\n",
    "            if x % i == 0:\n",
    "                return False\n",
    "    else:\n",
    "        return False\n",
    "    return True\n",
    "\n",
    "\n",
    "def prime_number(number):\n",
    "    x = 0\n",
    "    count = 0\n",
    "    while count != number:\n",
    "        x += 1\n",
    "        if is_prime(x):\n",
    "            count += 1\n",
    "    return x\n",
    "\n",
    "\n",
    "print(prime_number(10001))"
   ]
  }
 ],
 "metadata": {
  "kernelspec": {
   "display_name": "Python 3",
   "language": "python",
   "name": "python3"
  },
  "language_info": {
   "codemirror_mode": {
    "name": "ipython",
    "version": 3
   },
   "file_extension": ".py",
   "mimetype": "text/x-python",
   "name": "python",
   "nbconvert_exporter": "python",
   "pygments_lexer": "ipython3",
   "version": "3.5.2"
  }
 },
 "nbformat": 4,
 "nbformat_minor": 2
}
