{
 "cells": [
  {
   "cell_type": "markdown",
   "metadata": {},
   "source": [
    "## p062 Cubic permutations\n",
    "\n",
    "The cube, 41063625 (345$^3$), can be permuted to produce two other cubes: 56623104 (384$^3$) and 66430125 (405$^3$). In fact, 41063625 is the smallest cube which has exactly three permutations of its digits which are also cube.\n",
    "\n",
    "Find the smallest cube for which exactly five permutations of its digits are cube.\n"
   ]
  },
  {
   "cell_type": "code",
   "execution_count": 1,
   "metadata": {},
   "outputs": [
    {
     "data": {
      "text/plain": [
       "41063625"
      ]
     },
     "execution_count": 1,
     "metadata": {},
     "output_type": "execute_result"
    }
   ],
   "source": [
    "pow(345,3)"
   ]
  },
  {
   "cell_type": "code",
   "execution_count": 1,
   "metadata": {},
   "outputs": [
    {
     "data": {
      "text/plain": [
       "True"
      ]
     },
     "execution_count": 1,
     "metadata": {},
     "output_type": "execute_result"
    }
   ],
   "source": [
    "def isSameDigit(num1,num2):\n",
    "    string1 = str(num1)\n",
    "    string2 = str(num2)\n",
    "    for i in string1:\n",
    "        if string1.count(i) != string2.count(i):\n",
    "            return False\n",
    "    return True\n",
    "isSameDigit(41063625,66430125 )"
   ]
  },
  {
   "cell_type": "code",
   "execution_count": 2,
   "metadata": {},
   "outputs": [
    {
     "data": {
      "text/plain": [
       "True"
      ]
     },
     "execution_count": 2,
     "metadata": {},
     "output_type": "execute_result"
    }
   ],
   "source": [
    "def isSameDigit(num1,num2):\n",
    "    string1 = str(num1)\n",
    "    string2 = str(num2)\n",
    "    if all(string1.count(i) == string2.count(i) for i in string1):\n",
    "        return True\n",
    "    return False\n",
    "isSameDigit(41063625,56623104)"
   ]
  },
  {
   "cell_type": "markdown",
   "metadata": {},
   "source": [
    "## 1. make cubic first, then find samedigit\n",
    "## 2. make permutations, then cubic root"
   ]
  },
  {
   "cell_type": "code",
   "execution_count": 3,
   "metadata": {},
   "outputs": [
    {
     "data": {
      "text/plain": [
       "1000"
      ]
     },
     "execution_count": 3,
     "metadata": {},
     "output_type": "execute_result"
    }
   ],
   "source": [
    "# make cubic list\n",
    "cubicList=[]\n",
    "for i in range(1000):\n",
    "    cubicList.append(i**3)\n",
    "len(cubicList)"
   ]
  },
  {
   "cell_type": "code",
   "execution_count": 4,
   "metadata": {
    "scrolled": true
   },
   "outputs": [
    {
     "data": {
      "text/plain": [
       "[0,\n",
       " 1,\n",
       " 8,\n",
       " 27,\n",
       " 64,\n",
       " 125,\n",
       " 216,\n",
       " 343,\n",
       " 512,\n",
       " 729,\n",
       " 1000,\n",
       " 1331,\n",
       " 1728,\n",
       " 2197,\n",
       " 2744,\n",
       " 3375,\n",
       " 4096,\n",
       " 4913,\n",
       " 5832,\n",
       " 6859,\n",
       " 8000,\n",
       " 9261,\n",
       " 10648,\n",
       " 12167,\n",
       " 13824,\n",
       " 15625,\n",
       " 17576,\n",
       " 19683,\n",
       " 21952,\n",
       " 24389,\n",
       " 27000,\n",
       " 29791,\n",
       " 32768,\n",
       " 35937,\n",
       " 39304,\n",
       " 42875,\n",
       " 46656,\n",
       " 50653,\n",
       " 54872,\n",
       " 59319,\n",
       " 64000,\n",
       " 68921,\n",
       " 74088,\n",
       " 79507,\n",
       " 85184,\n",
       " 91125,\n",
       " 97336,\n",
       " 103823,\n",
       " 110592,\n",
       " 117649]"
      ]
     },
     "execution_count": 4,
     "metadata": {},
     "output_type": "execute_result"
    }
   ],
   "source": [
    "cubicList=[]\n",
    "for i in range(1000):\n",
    "    cubicList.append(i**3)\n",
    "cubicList[:50]"
   ]
  },
  {
   "cell_type": "code",
   "execution_count": 21,
   "metadata": {
    "scrolled": true
   },
   "outputs": [
    {
     "name": "stdout",
     "output_type": "stream",
     "text": [
      "0 0\n",
      "1 1\n",
      "2 8\n",
      "3 27\n",
      "4 64\n",
      "5 125\n",
      "6 216\n",
      "7 343\n",
      "8 512\n",
      "9 729\n",
      "10 1000\n",
      "11 1331\n",
      "12 1728\n",
      "13 2197\n",
      "14 2744\n",
      "15 3375\n",
      "16 4096\n",
      "17 4913\n",
      "18 5832\n",
      "19 6859\n",
      "20 8000\n",
      "21 9261\n",
      "22 10648\n",
      "23 12167\n",
      "24 13824\n",
      "25 15625\n",
      "26 17576\n",
      "27 19683\n",
      "28 21952\n",
      "29 24389\n",
      "30 27000\n",
      "31 29791\n",
      "32 32768\n",
      "33 35937\n",
      "34 39304\n",
      "35 42875\n",
      "36 46656\n",
      "37 50653\n",
      "38 54872\n",
      "39 59319\n",
      "40 64000\n",
      "41 68921\n",
      "42 74088\n",
      "43 79507\n",
      "44 85184\n",
      "45 91125\n",
      "46 97336\n",
      "47 103823\n",
      "48 110592\n",
      "49 117649\n"
     ]
    }
   ],
   "source": [
    "cubicList=[]\n",
    "for i in range(1000):\n",
    "    cubicList.append(i**3)\n",
    "for i in range(50):\n",
    "    print(i, cubicList[i])"
   ]
  },
  {
   "cell_type": "code",
   "execution_count": 30,
   "metadata": {
    "scrolled": true
   },
   "outputs": [
    {
     "name": "stdout",
     "output_type": "stream",
     "text": [
      "3 27 2 8\n",
      "5 125 3 64\n",
      "10 1000 4 729\n",
      "22 10648 5 9261\n",
      "47 103823 6 97336\n",
      "100 1000000 7 970299\n",
      "216 10077696 8 9938375\n",
      "465 100544625 9 99897344\n",
      "1000 1000000000 10 997002999\n",
      "2155 10007873875 11 9993948264\n",
      "4642 100026577288 12 99961946721\n",
      "10000 1000000000000 13 999700029999\n",
      "21545 10000909453625 14 9999516957184\n",
      "46416 100000721719296 15 99994258523375\n",
      "100000 1000000000000000 16 999970000299999\n",
      "215444 10000073940248384 17 9999934692543307\n",
      "464159 100000075387171679 18 99999429057832312\n"
     ]
    }
   ],
   "source": [
    "# first number of each length\n",
    "cubic=[]\n",
    "for i in range(1000000):\n",
    "    value=str(i**3)\n",
    "    cubic.append(value)\n",
    "    if i>0 and len(cubic[i]) > len(cubic[i-1]):\n",
    "        print(i, cubic[i], len(cubic[i]),cubic[i-1] )"
   ]
  },
  {
   "cell_type": "code",
   "execution_count": 31,
   "metadata": {
    "scrolled": true
   },
   "outputs": [
    {
     "name": "stdout",
     "output_type": "stream",
     "text": [
      "[3, 5, 10, 22, 47, 100, 216, 465, 1000, 2155, 4642, 10000, 21545, 46416, 100000, 215444, 464159]\n"
     ]
    }
   ],
   "source": [
    "# save index to other list\n",
    "cubic=[]\n",
    "info=[]\n",
    "for i in range(1000000):\n",
    "    value=str(i**3)\n",
    "    cubic.append(value)\n",
    "    if i>0 and len(cubic[i]) > len(cubic[i-1]):\n",
    "        info.append(i)\n",
    "print(info)"
   ]
  },
  {
   "cell_type": "code",
   "execution_count": 22,
   "metadata": {
    "scrolled": true
   },
   "outputs": [
    {
     "name": "stdout",
     "output_type": "stream",
     "text": [
      "['0', '1', '8', '27', '64', '125', '216', '343', '512', '729', '1000', '1331', '1728', '2197', '2744', '3375', '4096', '4913', '5832', '6859', '8000', '9261', '10648', '12167', '13824', '15625', '17576', '19683', '21952', '24389', '27000', '29791', '32768', '35937', '39304', '42875', '46656', '50653', '54872', '59319', '64000', '68921', '74088', '79507', '85184', '91125', '97336', '103823', '110592', '117649']\n",
      "{1: 3, 2: 2, 3: 5, 4: 12, 5: 25, 6: 53, 7: 116, 8: 249, 9: 535}\n"
     ]
    }
   ],
   "source": [
    "cubicList=[]\n",
    "length={}\n",
    "for i in range(1000):\n",
    "    value=str(i**3)\n",
    "    cubicList.append(value)\n",
    "    if (len(value)) in length:\n",
    "        length[len(value)]+=1\n",
    "    else:\n",
    "        length[len(value)]=1\n",
    "print(cubicList[:50])\n",
    "print(length)"
   ]
  },
  {
   "cell_type": "code",
   "execution_count": 5,
   "metadata": {},
   "outputs": [
    {
     "name": "stdout",
     "output_type": "stream",
     "text": [
      "15625 5\n",
      "24389 5\n",
      "39304 5\n",
      "68921 5\n",
      "148877 5\n",
      "157464 5\n",
      "175616 5\n",
      "531441 5\n",
      "753571 5\n",
      "912673 5\n"
     ]
    }
   ],
   "source": [
    "# check if permutation\n",
    "def isSameDigit(num1,num2):\n",
    "    string1 = str(num1)\n",
    "    string2 = str(num2)\n",
    "    if all(string1.count(i) == string2.count(i) for i in string1):\n",
    "        return True\n",
    "    return False\n",
    "\n",
    "cubicList=[]\n",
    "for i in range(1000):\n",
    "    cubicList.append(i**3)\n",
    "    \n",
    "for i in range(len(cubicList)):\n",
    "    count=0\n",
    "    for j in range(i+1,len(cubicList)):\n",
    "        if isSameDigit(cubicList[i],cubicList[j]):\n",
    "            count+=1\n",
    "    if count==5:\n",
    "        print(cubicList[i],count)"
   ]
  },
  {
   "cell_type": "code",
   "execution_count": 28,
   "metadata": {},
   "outputs": [
    {
     "name": "stdout",
     "output_type": "stream",
     "text": [
      "15625 5 {25: 15625, 250: 15625000, 465: 100544625, 751: 423564751, 798: 508169592, 953: 865523177}\n",
      "24389 5 {29: 24389, 290: 24389000, 347: 41781923, 566: 181321496, 709: 356400829, 862: 640503928}\n",
      "39304 5 {34: 39304, 267: 19034163, 368: 49836032, 621: 239483061, 788: 489303872, 963: 893056347}\n",
      "68921 5 {41: 68921, 297: 26198073, 410: 68921000, 447: 89314623, 621: 239483061, 712: 360944128}\n",
      "148877 5 {53: 148877, 262: 17984728, 530: 148877000, 881: 683797841, 959: 881974079, 994: 982107784}\n",
      "157464 5 {54: 157464, 244: 14526784, 434: 81746504, 540: 157464000, 595: 210644875, 626: 245314376}\n",
      "175616 5 {56: 175616, 441: 85766121, 545: 161878625, 560: 175616000, 767: 451217663, 867: 651714363}\n",
      "531441 5 {81: 531441, 236: 13144256, 525: 144703125, 541: 158340421, 579: 194104539, 810: 531441000}\n",
      "753571 5 {91: 753571, 153: 3581577, 555: 170953875, 563: 178453547, 910: 753571000, 953: 865523177}\n",
      "912673 5 {97: 912673, 289: 24137569, 297: 26198073, 319: 32461759, 557: 172808693, 970: 912673000}\n"
     ]
    }
   ],
   "source": [
    "# show permutation\n",
    "# some error on isSameDigit function\n",
    "def isSameDigit(num1,num2):\n",
    "    string1 = str(num1)\n",
    "    string2 = str(num2)\n",
    "    if all(string1.count(i) == string2.count(i) for i in string1):\n",
    "        return True\n",
    "    return False\n",
    "\n",
    "cubicList=[]\n",
    "for i in range(1000):\n",
    "    cubicList.append(i**3)\n",
    "    \n",
    "for i in range(len(cubicList)):\n",
    "    count=0\n",
    "    temp={i:cubicList[i]}\n",
    "    for j in range(i+1,len(cubicList)):\n",
    "        if isSameDigit(cubicList[i],cubicList[j]):\n",
    "            count+=1\n",
    "            temp[j]=cubicList[j]\n",
    "    if count==5:\n",
    "        print(cubicList[i],count,temp)"
   ]
  },
  {
   "cell_type": "code",
   "execution_count": 32,
   "metadata": {},
   "outputs": [
    {
     "data": {
      "text/plain": [
       "True"
      ]
     },
     "execution_count": 32,
     "metadata": {},
     "output_type": "execute_result"
    }
   ],
   "source": [
    "# fix error\n",
    "def isSameDigit(num1,num2):\n",
    "    string1 = str(num1)\n",
    "    string2 = str(num2)\n",
    "    if len(string1)==len(string2) and all(string1.count(i) == string2.count(i) for i in string1):\n",
    "        return True\n",
    "    return False\n",
    "isSameDigit(15625,15625)"
   ]
  },
  {
   "cell_type": "code",
   "execution_count": 44,
   "metadata": {},
   "outputs": [
    {
     "name": "stdout",
     "output_type": "stream",
     "text": [
      "5027 127035954683 5\n",
      "5196 140283769536 5\n"
     ]
    },
    {
     "ename": "KeyboardInterrupt",
     "evalue": "",
     "output_type": "error",
     "traceback": [
      "\u001b[0;31m---------------------------------------------------------------------------\u001b[0m",
      "\u001b[0;31mKeyboardInterrupt\u001b[0m                         Traceback (most recent call last)",
      "\u001b[0;32m<ipython-input-44-51e174d41c62>\u001b[0m in \u001b[0;36m<module>\u001b[0;34m()\u001b[0m\n\u001b[1;32m     18\u001b[0m     \u001b[0mcount\u001b[0m\u001b[0;34m=\u001b[0m\u001b[0;36m1\u001b[0m\u001b[0;34m\u001b[0m\u001b[0m\n\u001b[1;32m     19\u001b[0m     \u001b[0;32mfor\u001b[0m \u001b[0mj\u001b[0m \u001b[0;32min\u001b[0m \u001b[0mrange\u001b[0m\u001b[0;34m(\u001b[0m\u001b[0mi\u001b[0m\u001b[0;34m+\u001b[0m\u001b[0;36m1\u001b[0m\u001b[0;34m,\u001b[0m\u001b[0mlen\u001b[0m\u001b[0;34m(\u001b[0m\u001b[0mcubicList\u001b[0m\u001b[0;34m)\u001b[0m\u001b[0;34m)\u001b[0m\u001b[0;34m:\u001b[0m\u001b[0;34m\u001b[0m\u001b[0m\n\u001b[0;32m---> 20\u001b[0;31m         \u001b[0;32mif\u001b[0m \u001b[0misSameDigit\u001b[0m\u001b[0;34m(\u001b[0m\u001b[0mcubicList\u001b[0m\u001b[0;34m[\u001b[0m\u001b[0mi\u001b[0m\u001b[0;34m]\u001b[0m\u001b[0;34m,\u001b[0m\u001b[0mcubicList\u001b[0m\u001b[0;34m[\u001b[0m\u001b[0mj\u001b[0m\u001b[0;34m]\u001b[0m\u001b[0;34m)\u001b[0m\u001b[0;34m:\u001b[0m\u001b[0;34m\u001b[0m\u001b[0m\n\u001b[0m\u001b[1;32m     21\u001b[0m             \u001b[0mcount\u001b[0m\u001b[0;34m+=\u001b[0m\u001b[0;36m1\u001b[0m\u001b[0;34m\u001b[0m\u001b[0m\n\u001b[1;32m     22\u001b[0m     \u001b[0;32mif\u001b[0m \u001b[0mcount\u001b[0m\u001b[0;34m==\u001b[0m\u001b[0;36m5\u001b[0m\u001b[0;34m:\u001b[0m\u001b[0;34m\u001b[0m\u001b[0m\n",
      "\u001b[0;32m<ipython-input-44-51e174d41c62>\u001b[0m in \u001b[0;36misSameDigit\u001b[0;34m(num1, num2)\u001b[0m\n\u001b[1;32m      7\u001b[0m     \u001b[0mstring2\u001b[0m \u001b[0;34m=\u001b[0m \u001b[0mstr\u001b[0m\u001b[0;34m(\u001b[0m\u001b[0mnum2\u001b[0m\u001b[0;34m)\u001b[0m\u001b[0;34m\u001b[0m\u001b[0m\n\u001b[1;32m      8\u001b[0m     \u001b[0;32mif\u001b[0m \u001b[0mlen\u001b[0m\u001b[0;34m(\u001b[0m\u001b[0mstring1\u001b[0m\u001b[0;34m)\u001b[0m\u001b[0;34m==\u001b[0m\u001b[0mlen\u001b[0m\u001b[0;34m(\u001b[0m\u001b[0mstring2\u001b[0m\u001b[0;34m)\u001b[0m\u001b[0;34m:\u001b[0m\u001b[0;34m\u001b[0m\u001b[0m\n\u001b[0;32m----> 9\u001b[0;31m         \u001b[0;32mif\u001b[0m \u001b[0mall\u001b[0m\u001b[0;34m(\u001b[0m\u001b[0mstring1\u001b[0m\u001b[0;34m.\u001b[0m\u001b[0mcount\u001b[0m\u001b[0;34m(\u001b[0m\u001b[0mi\u001b[0m\u001b[0;34m)\u001b[0m \u001b[0;34m==\u001b[0m \u001b[0mstring2\u001b[0m\u001b[0;34m.\u001b[0m\u001b[0mcount\u001b[0m\u001b[0;34m(\u001b[0m\u001b[0mi\u001b[0m\u001b[0;34m)\u001b[0m \u001b[0;32mfor\u001b[0m \u001b[0mi\u001b[0m \u001b[0;32min\u001b[0m \u001b[0mstring1\u001b[0m\u001b[0;34m)\u001b[0m\u001b[0;34m:\u001b[0m\u001b[0;34m\u001b[0m\u001b[0m\n\u001b[0m\u001b[1;32m     10\u001b[0m             \u001b[0;32mreturn\u001b[0m \u001b[0;32mTrue\u001b[0m\u001b[0;34m\u001b[0m\u001b[0m\n\u001b[1;32m     11\u001b[0m     \u001b[0;32mreturn\u001b[0m \u001b[0;32mFalse\u001b[0m\u001b[0;34m\u001b[0m\u001b[0m\n",
      "\u001b[0;32m<ipython-input-44-51e174d41c62>\u001b[0m in \u001b[0;36m<genexpr>\u001b[0;34m(.0)\u001b[0m\n\u001b[1;32m      7\u001b[0m     \u001b[0mstring2\u001b[0m \u001b[0;34m=\u001b[0m \u001b[0mstr\u001b[0m\u001b[0;34m(\u001b[0m\u001b[0mnum2\u001b[0m\u001b[0;34m)\u001b[0m\u001b[0;34m\u001b[0m\u001b[0m\n\u001b[1;32m      8\u001b[0m     \u001b[0;32mif\u001b[0m \u001b[0mlen\u001b[0m\u001b[0;34m(\u001b[0m\u001b[0mstring1\u001b[0m\u001b[0;34m)\u001b[0m\u001b[0;34m==\u001b[0m\u001b[0mlen\u001b[0m\u001b[0;34m(\u001b[0m\u001b[0mstring2\u001b[0m\u001b[0;34m)\u001b[0m\u001b[0;34m:\u001b[0m\u001b[0;34m\u001b[0m\u001b[0m\n\u001b[0;32m----> 9\u001b[0;31m         \u001b[0;32mif\u001b[0m \u001b[0mall\u001b[0m\u001b[0;34m(\u001b[0m\u001b[0mstring1\u001b[0m\u001b[0;34m.\u001b[0m\u001b[0mcount\u001b[0m\u001b[0;34m(\u001b[0m\u001b[0mi\u001b[0m\u001b[0;34m)\u001b[0m \u001b[0;34m==\u001b[0m \u001b[0mstring2\u001b[0m\u001b[0;34m.\u001b[0m\u001b[0mcount\u001b[0m\u001b[0;34m(\u001b[0m\u001b[0mi\u001b[0m\u001b[0;34m)\u001b[0m \u001b[0;32mfor\u001b[0m \u001b[0mi\u001b[0m \u001b[0;32min\u001b[0m \u001b[0mstring1\u001b[0m\u001b[0;34m)\u001b[0m\u001b[0;34m:\u001b[0m\u001b[0;34m\u001b[0m\u001b[0m\n\u001b[0m\u001b[1;32m     10\u001b[0m             \u001b[0;32mreturn\u001b[0m \u001b[0;32mTrue\u001b[0m\u001b[0;34m\u001b[0m\u001b[0m\n\u001b[1;32m     11\u001b[0m     \u001b[0;32mreturn\u001b[0m \u001b[0;32mFalse\u001b[0m\u001b[0;34m\u001b[0m\u001b[0m\n",
      "\u001b[0;31mKeyboardInterrupt\u001b[0m: "
     ]
    }
   ],
   "source": [
    "# ~10,000, count==5\n",
    "# fix count init nubmer -> 1 , but slow\n",
    "from time import time as t\n",
    "start = t()\n",
    "\n",
    "def isSameDigit(num1,num2):\n",
    "    string1 = str(num1)\n",
    "    string2 = str(num2)\n",
    "    if len(string1)==len(string2):\n",
    "        if all(string1.count(i) == string2.count(i) for i in string1):\n",
    "            return True\n",
    "    return False\n",
    "\n",
    "cubicList=[]\n",
    "for i in range(10000):\n",
    "    cubicList.append(i**3)\n",
    "    \n",
    "for i in range(len(cubicList)):\n",
    "    count=1\n",
    "    for j in range(i+1,len(cubicList)):\n",
    "        if isSameDigit(cubicList[i],cubicList[j]):\n",
    "            count+=1\n",
    "    if count==5:\n",
    "        print(i,cubicList[i],count)\n",
    "print(\"calc time:\", t()-start)"
   ]
  },
  {
   "cell_type": "code",
   "execution_count": 10,
   "metadata": {},
   "outputs": [
    {
     "name": "stdout",
     "output_type": "stream",
     "text": [
      "calc time: 71.18359279632568\n"
     ]
    }
   ],
   "source": [
    "# ~10,000, count==5\n",
    "from time import time as t\n",
    "start = t()\n",
    "\n",
    "def isSameDigit(num1,num2):\n",
    "    string1 = str(num1)\n",
    "    string2 = str(num2)\n",
    "    if len(string1)==len(string2):\n",
    "        if all(string1.count(i) == string2.count(i) for i in string1):\n",
    "            return True\n",
    "    return False\n",
    "\n",
    "cubicList=[]\n",
    "for i in range(10000):\n",
    "    cubicList.append(i**3)\n",
    "    \n",
    "for i in range(len(cubicList)):\n",
    "    count=0\n",
    "    for j in range(i+1,len(cubicList)):\n",
    "        if isSameDigit(cubicList[i],cubicList[j]):\n",
    "            count+=1\n",
    "    if count==5:\n",
    "        print(i,cubicList[i],count)\n",
    "print(\"calc time:\", t()-start)"
   ]
  },
  {
   "cell_type": "code",
   "execution_count": 13,
   "metadata": {},
   "outputs": [
    {
     "name": "stdout",
     "output_type": "stream",
     "text": [
      "calc time: 69.9197928905487\n"
     ]
    }
   ],
   "source": [
    "# speed compare #1, if statement change\n",
    "from time import time as t\n",
    "start = t()\n",
    "\n",
    "def isSameDigit(num1,num2):\n",
    "    string1 = str(num1)\n",
    "    string2 = str(num2)\n",
    "    if len(string1)==len(string2) and all(string1.count(i) == string2.count(i) for i in string1):\n",
    "        return True\n",
    "    return False\n",
    "\n",
    "cubicList=[]\n",
    "for i in range(10000):\n",
    "    cubicList.append(i**3)\n",
    "    \n",
    "for i in range(len(cubicList)):\n",
    "    count=0\n",
    "    for j in range(i+1,len(cubicList)):\n",
    "        if isSameDigit(cubicList[i],cubicList[j]):\n",
    "            count+=1\n",
    "    if count==5:\n",
    "        print(i,cubicList[i],count)\n",
    "print(\"calc time:\", t()-start)"
   ]
  },
  {
   "cell_type": "code",
   "execution_count": 15,
   "metadata": {},
   "outputs": [
    {
     "name": "stdout",
     "output_type": "stream",
     "text": [
      "calc time: 59.83757925033569\n"
     ]
    }
   ],
   "source": [
    "# speed compare #2, isSameDigit function change\n",
    "from time import time as t\n",
    "start = t()\n",
    "\n",
    "def isSameDigit(num1,num2):\n",
    "    string1 = str(num1)\n",
    "    string2 = str(num2)\n",
    "    if len(string1)==len(string2):\n",
    "        for i in string1:\n",
    "            if string1.count(i) != string2.count(i):\n",
    "                return False\n",
    "    return True\n",
    "\n",
    "cubicList=[]\n",
    "for i in range(10000):\n",
    "    cubicList.append(i**3)\n",
    "    \n",
    "for i in range(len(cubicList)):\n",
    "    count=0\n",
    "    for j in range(i+1,len(cubicList)):\n",
    "        if isSameDigit(cubicList[i],cubicList[j]):\n",
    "            count+=1\n",
    "    if count==5:\n",
    "        print(i,cubicList[i],count)\n",
    "print(\"calc time:\", t()-start)"
   ]
  },
  {
   "cell_type": "code",
   "execution_count": 12,
   "metadata": {},
   "outputs": [
    {
     "name": "stdout",
     "output_type": "stream",
     "text": [
      "5027 127035954683 4\n",
      "5196 140283769536 4\n",
      "calc time: 69.93461465835571\n"
     ]
    }
   ],
   "source": [
    "# ~10,000, count >=4\n",
    "from time import time as t\n",
    "start = t()\n",
    "\n",
    "def isSameDigit(num1,num2):\n",
    "    string1 = str(num1)\n",
    "    string2 = str(num2)\n",
    "    if len(string1)==len(string2):\n",
    "        if all(string1.count(i) == string2.count(i) for i in string1):\n",
    "            return True\n",
    "    return False\n",
    "\n",
    "cubicList=[]\n",
    "for i in range(10000):\n",
    "    cubicList.append(i**3)\n",
    "    \n",
    "for i in range(len(cubicList)):\n",
    "    count=0\n",
    "    for j in range(i+1,len(cubicList)):\n",
    "        if isSameDigit(cubicList[i],cubicList[j]):\n",
    "            count+=1\n",
    "    if count>=4:\n",
    "        print(i,cubicList[i],count)\n",
    "print(\"calc time:\", t()-start)"
   ]
  },
  {
   "cell_type": "code",
   "execution_count": 34,
   "metadata": {},
   "outputs": [
    {
     "name": "stdout",
     "output_type": "stream",
     "text": [
      "[0, 3, 5, 10, 22, 47, 100, 216, 465, 1000, 2155, 4642, 10000, 21545, 46416, 100000, 215444, 464159, 1000000]\n"
     ]
    }
   ],
   "source": [
    "# make index list\n",
    "cubic=[]\n",
    "index=[0]\n",
    "for i in range(1000000):\n",
    "    value=str(i**3)\n",
    "    cubic.append(value)\n",
    "    if i>0 and len(cubic[i]) > len(cubic[i-1]):\n",
    "        index.append(i)\n",
    "index.append(1000000)\n",
    "print(index)"
   ]
  },
  {
   "cell_type": "code",
   "execution_count": 37,
   "metadata": {},
   "outputs": [
    {
     "name": "stdout",
     "output_type": "stream",
     "text": [
      "[0, 3, 5, 10, 22, 47, 100, 216, 465, 1000, 2155, 4642, 10000]\n"
     ]
    }
   ],
   "source": [
    "target=10000\n",
    "cubic=[]\n",
    "index=[0]\n",
    "for i in range(target):\n",
    "    value=str(i**3)\n",
    "    cubic.append(value)\n",
    "    if i>0 and len(cubic[i]) > len(cubic[i-1]):\n",
    "        index.append(i)\n",
    "index.append(target)\n",
    "print(index)"
   ]
  },
  {
   "cell_type": "code",
   "execution_count": 39,
   "metadata": {},
   "outputs": [
    {
     "name": "stdout",
     "output_type": "stream",
     "text": [
      "5027 127035954683 4\n",
      "5196 140283769536 4\n",
      "calc time: 26.608384609222412\n"
     ]
    }
   ],
   "source": [
    "# sol-2, speed up, ~10K\n",
    "from time import time as t\n",
    "start = t()\n",
    "\n",
    "def isSameDigit(str1,str2):\n",
    "    if all(str1.count(i) == str2.count(i) for i in str1):\n",
    "        return True\n",
    "    return False\n",
    "\n",
    "target=10000\n",
    "cubic=[]\n",
    "index=[0]\n",
    "for i in range(target):\n",
    "    value=str(i**3)\n",
    "    cubic.append(value)\n",
    "    if i>0 and len(cubic[i]) > len(cubic[i-1]):\n",
    "        index.append(i)\n",
    "index.append(target)\n",
    "\n",
    "for k in range(len(index)-1):\n",
    "    for i in range(index[k],index[k+1]):\n",
    "        count=0\n",
    "        for j in range(i+1,index[k+1]):\n",
    "            if isSameDigit(cubic[i],cubic[j]):\n",
    "                count+=1\n",
    "        if count>=4:\n",
    "            print(i,cubic[i],count)\n",
    "print(\"calc time:\", t()-start)"
   ]
  },
  {
   "cell_type": "code",
   "execution_count": 40,
   "metadata": {},
   "outputs": [
    {
     "name": "stdout",
     "output_type": "stream",
     "text": [
      "5027 127035954683 4\n",
      "5196 140283769536 4\n",
      "10002 1000600120008 5\n",
      "10020 1006012008000 4\n",
      "11257 1426487591593 5\n",
      "11272 1432197595648 4\n",
      "12518 1961574655832 4\n",
      "12801 2097643558401 4\n"
     ]
    },
    {
     "ename": "KeyboardInterrupt",
     "evalue": "",
     "output_type": "error",
     "traceback": [
      "\u001b[0;31m---------------------------------------------------------------------------\u001b[0m",
      "\u001b[0;31mKeyboardInterrupt\u001b[0m                         Traceback (most recent call last)",
      "\u001b[0;32m<ipython-input-40-85bf056f5638>\u001b[0m in \u001b[0;36m<module>\u001b[0;34m()\u001b[0m\n\u001b[1;32m     22\u001b[0m         \u001b[0mcount\u001b[0m\u001b[0;34m=\u001b[0m\u001b[0;36m0\u001b[0m\u001b[0;34m\u001b[0m\u001b[0m\n\u001b[1;32m     23\u001b[0m         \u001b[0;32mfor\u001b[0m \u001b[0mj\u001b[0m \u001b[0;32min\u001b[0m \u001b[0mrange\u001b[0m\u001b[0;34m(\u001b[0m\u001b[0mi\u001b[0m\u001b[0;34m+\u001b[0m\u001b[0;36m1\u001b[0m\u001b[0;34m,\u001b[0m\u001b[0mindex\u001b[0m\u001b[0;34m[\u001b[0m\u001b[0mk\u001b[0m\u001b[0;34m+\u001b[0m\u001b[0;36m1\u001b[0m\u001b[0;34m]\u001b[0m\u001b[0;34m)\u001b[0m\u001b[0;34m:\u001b[0m\u001b[0;34m\u001b[0m\u001b[0m\n\u001b[0;32m---> 24\u001b[0;31m             \u001b[0;32mif\u001b[0m \u001b[0misSameDigit\u001b[0m\u001b[0;34m(\u001b[0m\u001b[0mcubic\u001b[0m\u001b[0;34m[\u001b[0m\u001b[0mi\u001b[0m\u001b[0;34m]\u001b[0m\u001b[0;34m,\u001b[0m\u001b[0mcubic\u001b[0m\u001b[0;34m[\u001b[0m\u001b[0mj\u001b[0m\u001b[0;34m]\u001b[0m\u001b[0;34m)\u001b[0m\u001b[0;34m:\u001b[0m\u001b[0;34m\u001b[0m\u001b[0m\n\u001b[0m\u001b[1;32m     25\u001b[0m                 \u001b[0mcount\u001b[0m\u001b[0;34m+=\u001b[0m\u001b[0;36m1\u001b[0m\u001b[0;34m\u001b[0m\u001b[0m\n\u001b[1;32m     26\u001b[0m         \u001b[0;32mif\u001b[0m \u001b[0mcount\u001b[0m\u001b[0;34m>=\u001b[0m\u001b[0;36m4\u001b[0m\u001b[0;34m:\u001b[0m\u001b[0;34m\u001b[0m\u001b[0m\n",
      "\u001b[0;32m<ipython-input-40-85bf056f5638>\u001b[0m in \u001b[0;36misSameDigit\u001b[0;34m(str1, str2)\u001b[0m\n\u001b[1;32m      4\u001b[0m \u001b[0;34m\u001b[0m\u001b[0m\n\u001b[1;32m      5\u001b[0m \u001b[0;32mdef\u001b[0m \u001b[0misSameDigit\u001b[0m\u001b[0;34m(\u001b[0m\u001b[0mstr1\u001b[0m\u001b[0;34m,\u001b[0m\u001b[0mstr2\u001b[0m\u001b[0;34m)\u001b[0m\u001b[0;34m:\u001b[0m\u001b[0;34m\u001b[0m\u001b[0m\n\u001b[0;32m----> 6\u001b[0;31m     \u001b[0;32mif\u001b[0m \u001b[0mall\u001b[0m\u001b[0;34m(\u001b[0m\u001b[0mstr1\u001b[0m\u001b[0;34m.\u001b[0m\u001b[0mcount\u001b[0m\u001b[0;34m(\u001b[0m\u001b[0mi\u001b[0m\u001b[0;34m)\u001b[0m \u001b[0;34m==\u001b[0m \u001b[0mstr2\u001b[0m\u001b[0;34m.\u001b[0m\u001b[0mcount\u001b[0m\u001b[0;34m(\u001b[0m\u001b[0mi\u001b[0m\u001b[0;34m)\u001b[0m \u001b[0;32mfor\u001b[0m \u001b[0mi\u001b[0m \u001b[0;32min\u001b[0m \u001b[0mstr1\u001b[0m\u001b[0;34m)\u001b[0m\u001b[0;34m:\u001b[0m\u001b[0;34m\u001b[0m\u001b[0m\n\u001b[0m\u001b[1;32m      7\u001b[0m         \u001b[0;32mreturn\u001b[0m \u001b[0;32mTrue\u001b[0m\u001b[0;34m\u001b[0m\u001b[0m\n\u001b[1;32m      8\u001b[0m     \u001b[0;32mreturn\u001b[0m \u001b[0;32mFalse\u001b[0m\u001b[0;34m\u001b[0m\u001b[0m\n",
      "\u001b[0;31mKeyboardInterrupt\u001b[0m: "
     ]
    }
   ],
   "source": [
    "# sol-2, speed up, ~100K\n",
    "from time import time as t\n",
    "start = t()\n",
    "\n",
    "def isSameDigit(str1,str2):\n",
    "    if all(str1.count(i) == str2.count(i) for i in str1):\n",
    "        return True\n",
    "    return False\n",
    "\n",
    "target=100000\n",
    "cubic=[]\n",
    "index=[0]\n",
    "for i in range(target):\n",
    "    value=str(i**3)\n",
    "    cubic.append(value)\n",
    "    if i>0 and len(cubic[i]) > len(cubic[i-1]):\n",
    "        index.append(i)\n",
    "index.append(target)\n",
    "\n",
    "for k in range(len(index)-1):\n",
    "    for i in range(index[k],index[k+1]):\n",
    "        count=0\n",
    "        for j in range(i+1,index[k+1]):\n",
    "            if isSameDigit(cubic[i],cubic[j]):\n",
    "                count+=1\n",
    "        if count>=4:\n",
    "            print(i,cubic[i],count)\n",
    "print(\"calc time:\", t()-start)"
   ]
  },
  {
   "cell_type": "code",
   "execution_count": 47,
   "metadata": {},
   "outputs": [
    {
     "name": "stdout",
     "output_type": "stream",
     "text": [
      "5027 127035954683 5\n",
      "calc time: 8.666152715682983\n"
     ]
    }
   ],
   "source": [
    "# sol-2, speed up, ~10K\n",
    "# fix count init value -> 1\n",
    "# break nested loop\n",
    "from time import time as t\n",
    "start = t()\n",
    "\n",
    "def isSameDigit(str1,str2):\n",
    "    if all(str1.count(i) == str2.count(i) for i in str1):\n",
    "        return True\n",
    "    return False\n",
    "\n",
    "target=10000\n",
    "cubic=[]\n",
    "index=[0]\n",
    "for i in range(target):\n",
    "    value=str(i**3)\n",
    "    cubic.append(value)\n",
    "    if i>0 and len(cubic[i]) > len(cubic[i-1]):\n",
    "        index.append(i)\n",
    "index.append(target)\n",
    "\n",
    "for k in range(len(index)-1):\n",
    "    for i in range(index[k],index[k+1]):\n",
    "        count=1\n",
    "        for j in range(i+1,index[k+1]):\n",
    "            if isSameDigit(cubic[i],cubic[j]):\n",
    "                count+=1\n",
    "        if count==5:\n",
    "            print(i,cubic[i],count)\n",
    "            break\n",
    "    else:\n",
    "        continue\n",
    "    break\n",
    "print(\"calc time:\", t()-start)"
   ]
  }
 ],
 "metadata": {
  "kernelspec": {
   "display_name": "Python 3",
   "language": "python",
   "name": "python3"
  },
  "language_info": {
   "codemirror_mode": {
    "name": "ipython",
    "version": 3
   },
   "file_extension": ".py",
   "mimetype": "text/x-python",
   "name": "python",
   "nbconvert_exporter": "python",
   "pygments_lexer": "ipython3",
   "version": "3.6.4"
  }
 },
 "nbformat": 4,
 "nbformat_minor": 2
}
