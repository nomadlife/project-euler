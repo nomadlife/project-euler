{
 "cells": [
  {
   "cell_type": "markdown",
   "metadata": {},
   "source": [
    "## p062 Cubic permutations"
   ]
  },
  {
   "cell_type": "code",
   "execution_count": 1,
   "metadata": {},
   "outputs": [
    {
     "data": {
      "text/plain": [
       "41063625"
      ]
     },
     "execution_count": 1,
     "metadata": {},
     "output_type": "execute_result"
    }
   ],
   "source": [
    "pow(345,3)"
   ]
  },
  {
   "cell_type": "code",
   "execution_count": 15,
   "metadata": {},
   "outputs": [
    {
     "data": {
      "text/plain": [
       "True"
      ]
     },
     "execution_count": 15,
     "metadata": {},
     "output_type": "execute_result"
    }
   ],
   "source": [
    "def isSameDigit(num1,num2):\n",
    "    string1 = str(num1)\n",
    "    string2 = str(num2)\n",
    "    for i in string1:\n",
    "        if string1.count(i) != string2.count(i):\n",
    "            return False\n",
    "    return True\n",
    "isSameDigit(41063625,66430125 )"
   ]
  },
  {
   "cell_type": "code",
   "execution_count": 20,
   "metadata": {},
   "outputs": [
    {
     "data": {
      "text/plain": [
       "False"
      ]
     },
     "execution_count": 20,
     "metadata": {},
     "output_type": "execute_result"
    }
   ],
   "source": [
    "def isSameDigit(num1,num2):\n",
    "    string1 = str(num1)\n",
    "    string2 = str(num2)\n",
    "    if all(string1.count(i) == string2.count(i) for i in string1):\n",
    "        return True\n",
    "    return False\n",
    "isSameDigit(41063625,56623104)"
   ]
  },
  {
   "cell_type": "markdown",
   "metadata": {},
   "source": [
    "## 1. make cubic first, then find samedigit\n",
    "## 2. make permutations, then cubic root"
   ]
  },
  {
   "cell_type": "code",
   "execution_count": 23,
   "metadata": {},
   "outputs": [
    {
     "data": {
      "text/plain": [
       "1000"
      ]
     },
     "execution_count": 23,
     "metadata": {},
     "output_type": "execute_result"
    }
   ],
   "source": [
    "# make cubic list\n",
    "cubicList=[]\n",
    "for i in range(1000):\n",
    "    cubicList.append(i**3)\n",
    "len(cubicList)"
   ]
  },
  {
   "cell_type": "code",
   "execution_count": 27,
   "metadata": {
    "scrolled": true
   },
   "outputs": [
    {
     "data": {
      "text/plain": [
       "[0,\n",
       " 1,\n",
       " 8,\n",
       " 27,\n",
       " 64,\n",
       " 125,\n",
       " 216,\n",
       " 343,\n",
       " 512,\n",
       " 729,\n",
       " 1000,\n",
       " 1331,\n",
       " 1728,\n",
       " 2197,\n",
       " 2744,\n",
       " 3375,\n",
       " 4096,\n",
       " 4913,\n",
       " 5832,\n",
       " 6859,\n",
       " 8000,\n",
       " 9261,\n",
       " 10648,\n",
       " 12167,\n",
       " 13824,\n",
       " 15625,\n",
       " 17576,\n",
       " 19683,\n",
       " 21952,\n",
       " 24389,\n",
       " 27000,\n",
       " 29791,\n",
       " 32768,\n",
       " 35937,\n",
       " 39304,\n",
       " 42875,\n",
       " 46656,\n",
       " 50653,\n",
       " 54872,\n",
       " 59319,\n",
       " 64000,\n",
       " 68921,\n",
       " 74088,\n",
       " 79507,\n",
       " 85184,\n",
       " 91125,\n",
       " 97336,\n",
       " 103823,\n",
       " 110592,\n",
       " 117649]"
      ]
     },
     "execution_count": 27,
     "metadata": {},
     "output_type": "execute_result"
    }
   ],
   "source": [
    "cubicList=[]\n",
    "for i in range(1000):\n",
    "    cubicList.append(i**3)\n",
    "cubicList[:50]"
   ]
  },
  {
   "cell_type": "code",
   "execution_count": 25,
   "metadata": {},
   "outputs": [
    {
     "name": "stdout",
     "output_type": "stream",
     "text": [
      "15625 5\n",
      "24389 5\n",
      "39304 5\n",
      "68921 5\n",
      "148877 5\n",
      "157464 5\n",
      "175616 5\n",
      "531441 5\n",
      "753571 5\n",
      "912673 5\n"
     ]
    }
   ],
   "source": [
    "# make cubic list\n",
    "def isSameDigit(num1,num2):\n",
    "    string1 = str(num1)\n",
    "    string2 = str(num2)\n",
    "    if all(string1.count(i) == string2.count(i) for i in string1):\n",
    "        return True\n",
    "    return False\n",
    "\n",
    "cubicList=[]\n",
    "for i in range(1000):\n",
    "    cubicList.append(i**3)\n",
    "    \n",
    "for i in range(len(cubicList)):\n",
    "    count=0\n",
    "    for j in range(i+1,len(cubicList)):\n",
    "        if isSameDigit(cubicList[i],cubicList[j]):\n",
    "            count+=1\n",
    "    if count==5:\n",
    "        print(cubicList[i],count)"
   ]
  },
  {
   "cell_type": "code",
   "execution_count": 28,
   "metadata": {},
   "outputs": [
    {
     "name": "stdout",
     "output_type": "stream",
     "text": [
      "15625 5 {25: 15625, 250: 15625000, 465: 100544625, 751: 423564751, 798: 508169592, 953: 865523177}\n",
      "24389 5 {29: 24389, 290: 24389000, 347: 41781923, 566: 181321496, 709: 356400829, 862: 640503928}\n",
      "39304 5 {34: 39304, 267: 19034163, 368: 49836032, 621: 239483061, 788: 489303872, 963: 893056347}\n",
      "68921 5 {41: 68921, 297: 26198073, 410: 68921000, 447: 89314623, 621: 239483061, 712: 360944128}\n",
      "148877 5 {53: 148877, 262: 17984728, 530: 148877000, 881: 683797841, 959: 881974079, 994: 982107784}\n",
      "157464 5 {54: 157464, 244: 14526784, 434: 81746504, 540: 157464000, 595: 210644875, 626: 245314376}\n",
      "175616 5 {56: 175616, 441: 85766121, 545: 161878625, 560: 175616000, 767: 451217663, 867: 651714363}\n",
      "531441 5 {81: 531441, 236: 13144256, 525: 144703125, 541: 158340421, 579: 194104539, 810: 531441000}\n",
      "753571 5 {91: 753571, 153: 3581577, 555: 170953875, 563: 178453547, 910: 753571000, 953: 865523177}\n",
      "912673 5 {97: 912673, 289: 24137569, 297: 26198073, 319: 32461759, 557: 172808693, 970: 912673000}\n"
     ]
    }
   ],
   "source": [
    "# make cubic list\n",
    "def isSameDigit(num1,num2):\n",
    "    string1 = str(num1)\n",
    "    string2 = str(num2)\n",
    "    if all(string1.count(i) == string2.count(i) for i in string1):\n",
    "        return True\n",
    "    return False\n",
    "\n",
    "cubicList=[]\n",
    "for i in range(1000):\n",
    "    cubicList.append(i**3)\n",
    "    \n",
    "for i in range(len(cubicList)):\n",
    "    count=0\n",
    "    temp={i:cubicList[i]}\n",
    "    for j in range(i+1,len(cubicList)):\n",
    "        if isSameDigit(cubicList[i],cubicList[j]):\n",
    "            count+=1\n",
    "            temp[j]=cubicList[j]\n",
    "    if count==5:\n",
    "        print(cubicList[i],count,temp)"
   ]
  },
  {
   "cell_type": "code",
   "execution_count": 32,
   "metadata": {},
   "outputs": [
    {
     "data": {
      "text/plain": [
       "True"
      ]
     },
     "execution_count": 32,
     "metadata": {},
     "output_type": "execute_result"
    }
   ],
   "source": [
    "def isSameDigit(num1,num2):\n",
    "    string1 = str(num1)\n",
    "    string2 = str(num2)\n",
    "    if len(string1)==len(string2) and all(string1.count(i) == string2.count(i) for i in string1):\n",
    "        return True\n",
    "    return False\n",
    "isSameDigit(15625,15625)"
   ]
  },
  {
   "cell_type": "code",
   "execution_count": 36,
   "metadata": {},
   "outputs": [],
   "source": [
    "# make cubic list\n",
    "def isSameDigit(num1,num2):\n",
    "    string1 = str(num1)\n",
    "    string2 = str(num2)\n",
    "    if len(string1)==len(string2):\n",
    "        if all(string1.count(i) == string2.count(i) for i in string1):\n",
    "            return True\n",
    "    return False\n",
    "\n",
    "cubicList=[]\n",
    "for i in range(10000):\n",
    "    cubicList.append(i**3)\n",
    "    \n",
    "for i in range(len(cubicList)):\n",
    "    count=0\n",
    "    temp={i:cubicList[i]}\n",
    "    for j in range(i+1,len(cubicList)):\n",
    "        if isSameDigit(cubicList[i],cubicList[j]):\n",
    "            count+=1\n",
    "            temp[j]=cubicList[j]\n",
    "    if count==5:\n",
    "        print(cubicList[i],count,temp)"
   ]
  }
 ],
 "metadata": {
  "kernelspec": {
   "display_name": "Python 3",
   "language": "python",
   "name": "python3"
  },
  "language_info": {
   "codemirror_mode": {
    "name": "ipython",
    "version": 3
   },
   "file_extension": ".py",
   "mimetype": "text/x-python",
   "name": "python",
   "nbconvert_exporter": "python",
   "pygments_lexer": "ipython3",
   "version": "3.6.5"
  }
 },
 "nbformat": 4,
 "nbformat_minor": 2
}
