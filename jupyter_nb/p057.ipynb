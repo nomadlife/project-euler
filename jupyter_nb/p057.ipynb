{
 "cells": [
  {
   "cell_type": "markdown",
   "metadata": {},
   "source": [
    "## p057 Square root convergents\n",
    "It is possible to show that the square root of two can be expressed as an infinite continued fraction.\n",
    "√ 2 = 1 + 1/(2 + 1/(2 + 1/(2 + ... ))) = 1.414213...\n",
    "By expanding this for the first four iterations, we get:\n",
    "1 + 1/2 = 3/2 = 1.5\n",
    "1 + 1/(2 + 1/2) = 7/5 = 1.4\n",
    "1 + 1/(2 + 1/(2 + 1/2)) = 17/12 = 1.41666...\n",
    "1 + 1/(2 + 1/(2 + 1/(2 + 1/2))) = 41/29 = 1.41379...\n",
    "The next three expansions are 99/70, 239/169, and 577/408, but the eighth expansion, 1393/985, is the first example where the number of digits in the numerator exceeds the number of digits in the denominator.\n",
    "In the first one-thousand expansions, how many fractions contain a numerator with more digits than denominator?"
   ]
  },
  {
   "cell_type": "code",
   "execution_count": 8,
   "metadata": {},
   "outputs": [
    {
     "name": "stdout",
     "output_type": "stream",
     "text": [
      "1393 985\n"
     ]
    }
   ],
   "source": [
    "n=3;d=2;loop=0\n",
    "while loop<10:\n",
    "    if len(str(n)) > len(str(d)):\n",
    "        print(n,d)\n",
    "    n,d = n+2*d,n+d\n",
    "    loop+=1"
   ]
  },
  {
   "cell_type": "code",
   "execution_count": 10,
   "metadata": {},
   "outputs": [
    {
     "name": "stdout",
     "output_type": "stream",
     "text": [
      "1393 985 7 1\n",
      "114243 80782 12 2\n",
      "131836323 93222358 20 3\n",
      "10812186007 7645370045 25 4\n",
      "12477253282759 8822750406821 33 5\n",
      "1023286908188737 723573111879672 38 6\n",
      "1180872205318713601 835002744095575440 46 7\n",
      "1362725501650887306817 963592443113182178088 54 8\n",
      "111760107268250945908601 79026329715516201199301 59 9\n",
      "128971066941642015967892393 91196316011299234022705885 67 10\n",
      "10577200073262678228000529443 7479209897770887057999820682 72 11\n",
      "12206079718853609176884159165123 8631001740904974549490112546258 80 12\n",
      "1001047369445486500122677053453007 707847383223858622658735230185145 85 13\n",
      "14085805418356991727446091676022499 9960168529794442859224531878561050 88 14\n",
      "1155207796880714346660312607673463359 816855266853924917324142465625655521 93 15\n",
      "15\n"
     ]
    }
   ],
   "source": [
    "n=3;d=2;loop=0;count=0\n",
    "while loop<100:\n",
    "    if len(str(n)) > len(str(d)):\n",
    "        count+=1\n",
    "        print(n,d,loop,count)\n",
    "    n,d = n+2*d,n+d\n",
    "    loop+=1\n",
    "print(count)"
   ]
  },
  {
   "cell_type": "code",
   "execution_count": 1,
   "metadata": {},
   "outputs": [
    {
     "name": "stdout",
     "output_type": "stream",
     "text": [
      "153\n"
     ]
    }
   ],
   "source": [
    "n=3;d=2;loop=0;count=0\n",
    "while loop<1000:\n",
    "    if len(str(n)) > len(str(d)):\n",
    "        count+=1\n",
    "    n,d = n+2*d,n+d\n",
    "    loop+=1\n",
    "print(count)"
   ]
  }
 ],
 "metadata": {
  "kernelspec": {
   "display_name": "Python 3",
   "language": "python",
   "name": "python3"
  },
  "language_info": {
   "codemirror_mode": {
    "name": "ipython",
    "version": 3
   },
   "file_extension": ".py",
   "mimetype": "text/x-python",
   "name": "python",
   "nbconvert_exporter": "python",
   "pygments_lexer": "ipython3",
   "version": "3.6.4"
  }
 },
 "nbformat": 4,
 "nbformat_minor": 2
}
