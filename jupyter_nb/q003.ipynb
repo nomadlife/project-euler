{
 "cells": [
  {
   "cell_type": "markdown",
   "metadata": {},
   "source": [
    "# Q003 Largest prime factor\n",
    "\n",
    "600851475143 의 가장 큰 소인수.\n",
    "\n",
    "The prime factors of 13195 are 5, 7, 13 and 29.\n",
    "\n",
    "What is the largest prime factor of the number 600851475143 ?\n",
    "\n",
    "1. 숫자크기만큼 루프\n",
    "2. 약수확인후, 소수확인.(알고리즘 속도의 주의)\n",
    "\n",
    "다른 방법:소인수 분해 공식."
   ]
  },
  {
   "cell_type": "code",
   "execution_count": null,
   "metadata": {
    "collapsed": true
   },
   "outputs": [],
   "source": [
    "for i in range(1,50):\n",
    "    print(i,end=',')"
   ]
  },
  {
   "cell_type": "code",
   "execution_count": 14,
   "metadata": {
    "scrolled": true
   },
   "outputs": [
    {
     "name": "stdout",
     "output_type": "stream",
     "text": [
      "1\n",
      "2\n",
      "5\n",
      "10\n",
      "25\n",
      "50\n"
     ]
    }
   ],
   "source": [
    "#약수 체크\n",
    "number = 50\n",
    "for i in range(1,number+1):\n",
    "    if number%i==0:\n",
    "        print(i)"
   ]
  },
  {
   "cell_type": "code",
   "execution_count": 13,
   "metadata": {},
   "outputs": [
    {
     "name": "stdout",
     "output_type": "stream",
     "text": [
      "839 is factor\n",
      "not prime number\n"
     ]
    }
   ],
   "source": [
    "#소수체크\n",
    "\n",
    "number = 8462696833\n",
    "for i in range(2,number):\n",
    "    if number%i == 0:\n",
    "        print(i,\"is factor\")\n",
    "        print(\"not\",end=' ')\n",
    "        break\n",
    "    else:\n",
    "        continue\n",
    "print(\"prime number\")"
   ]
  },
  {
   "cell_type": "code",
   "execution_count": 12,
   "metadata": {},
   "outputs": [
    {
     "name": "stdout",
     "output_type": "stream",
     "text": [
      "1 not prime number\n",
      "2 prime number\n",
      "4 not prime number\n",
      "5 prime number\n",
      "8 not prime number\n",
      "10 not prime number\n",
      "20 not prime number\n",
      "25 not prime number\n",
      "40 not prime number\n",
      "50 not prime number\n",
      "100 not prime number\n",
      "125 not prime number\n",
      "200 not prime number\n",
      "250 not prime number\n",
      "500 not prime number\n",
      "1000 not prime number\n"
     ]
    }
   ],
   "source": [
    "#약수이면서 소수인것\n",
    "\n",
    "number = 1000\n",
    "for i in range(1,number+1):\n",
    "    if number%i==0:\n",
    "        print(i,end=' ')\n",
    "        if i==1:\n",
    "            print(\"not\",end=' ')\n",
    "        for j in range(2,i):\n",
    "            if i%j == 0:\n",
    "                print(\"not\",end=' ')\n",
    "                break\n",
    "            else:\n",
    "                continue\n",
    "        print(\"prime number\")\n",
    "        "
   ]
  },
  {
   "cell_type": "code",
   "execution_count": 11,
   "metadata": {},
   "outputs": [
    {
     "name": "stdout",
     "output_type": "stream",
     "text": [
      "1 False\n",
      "2 True\n",
      "4 False\n",
      "5 True\n",
      "8 False\n",
      "10 False\n",
      "20 False\n",
      "25 False\n",
      "40 False\n",
      "50 False\n",
      "100 False\n",
      "125 False\n",
      "200 False\n",
      "250 False\n",
      "500 False\n",
      "1000 False\n"
     ]
    }
   ],
   "source": [
    "#함수로 분리\n",
    "\n",
    "def isPrime(parameter):\n",
    "    if parameter==1:\n",
    "        return False\n",
    "    for j in range(2,parameter):\n",
    "        if parameter%j == 0:\n",
    "            return False\n",
    "        else:\n",
    "            continue\n",
    "    return True\n",
    "\n",
    "number = 1000\n",
    "for i in range(1,number+1):\n",
    "    if number%i==0:\n",
    "        print(i,isPrime(i))"
   ]
  },
  {
   "cell_type": "code",
   "execution_count": 10,
   "metadata": {},
   "outputs": [
    {
     "name": "stdout",
     "output_type": "stream",
     "text": [
      "2 is prime factor\n",
      "11 is prime factor\n",
      "31 is prime factor\n",
      "151 is prime factor\n"
     ]
    }
   ],
   "source": [
    "#가장큰 소인수\n",
    "\n",
    "def isPrime(param):\n",
    "    if param==1:\n",
    "        return False\n",
    "    for j in range(2,param):\n",
    "        if param%j == 0:\n",
    "            return False\n",
    "        else:\n",
    "            continue\n",
    "    return True\n",
    "\n",
    "number = 823856\n",
    "for i in range(1,number+1):\n",
    "    if number%i==0 and isPrime(i):\n",
    "        print(i,\"is prime factor\")\n"
   ]
  },
  {
   "cell_type": "code",
   "execution_count": 9,
   "metadata": {
    "scrolled": true
   },
   "outputs": [
    {
     "name": "stdout",
     "output_type": "stream",
     "text": [
      "71 is prime factor\n",
      "839 is prime factor\n",
      "1471 is prime factor\n",
      "6857 is prime factor\n"
     ]
    },
    {
     "ename": "KeyboardInterrupt",
     "evalue": "",
     "output_type": "error",
     "traceback": [
      "\u001b[0;31m---------------------------------------------------------------------------\u001b[0m",
      "\u001b[0;31mKeyboardInterrupt\u001b[0m                         Traceback (most recent call last)",
      "\u001b[0;32m<ipython-input-9-70c1bc7167a6>\u001b[0m in \u001b[0;36m<module>\u001b[0;34m()\u001b[0m\n\u001b[1;32m     13\u001b[0m \u001b[0mnumber\u001b[0m \u001b[0;34m=\u001b[0m \u001b[0;36m600851475143\u001b[0m\u001b[0;34m\u001b[0m\u001b[0m\n\u001b[1;32m     14\u001b[0m \u001b[0;32mfor\u001b[0m \u001b[0mi\u001b[0m \u001b[0;32min\u001b[0m \u001b[0mrange\u001b[0m\u001b[0;34m(\u001b[0m\u001b[0;36m1\u001b[0m\u001b[0;34m,\u001b[0m\u001b[0mnumber\u001b[0m\u001b[0;34m+\u001b[0m\u001b[0;36m1\u001b[0m\u001b[0;34m)\u001b[0m\u001b[0;34m:\u001b[0m\u001b[0;34m\u001b[0m\u001b[0m\n\u001b[0;32m---> 15\u001b[0;31m     \u001b[0;32mif\u001b[0m \u001b[0mnumber\u001b[0m\u001b[0;34m%\u001b[0m\u001b[0mi\u001b[0m\u001b[0;34m==\u001b[0m\u001b[0;36m0\u001b[0m \u001b[0;32mand\u001b[0m \u001b[0misPrime\u001b[0m\u001b[0;34m(\u001b[0m\u001b[0mi\u001b[0m\u001b[0;34m)\u001b[0m\u001b[0;34m:\u001b[0m\u001b[0;34m\u001b[0m\u001b[0m\n\u001b[0m\u001b[1;32m     16\u001b[0m         \u001b[0mprint\u001b[0m\u001b[0;34m(\u001b[0m\u001b[0mi\u001b[0m\u001b[0;34m,\u001b[0m\u001b[0;34m\"is prime factor\"\u001b[0m\u001b[0;34m)\u001b[0m\u001b[0;34m\u001b[0m\u001b[0m\n",
      "\u001b[0;31mKeyboardInterrupt\u001b[0m: "
     ]
    }
   ],
   "source": [
    "#600851475143 -> 루프를 다 돌기엔 숫자가 커서 시간이 오래 걸림.\n",
    "\n",
    "def isPrime(param):\n",
    "    if param==1:\n",
    "        return False\n",
    "    for j in range(2,param):\n",
    "        if param%j == 0:\n",
    "            return False\n",
    "        else:\n",
    "            continue\n",
    "    return True\n",
    "\n",
    "number = 600851475143\n",
    "for i in range(1,number+1):\n",
    "    if number%i==0 and isPrime(i):\n",
    "        print(i,\"is prime factor\")"
   ]
  },
  {
   "cell_type": "code",
   "execution_count": 20,
   "metadata": {},
   "outputs": [
    {
     "name": "stdout",
     "output_type": "stream",
     "text": [
      "1 600851475143.0 \n",
      "71 8462696833.0 71 is prime factor\n",
      "\n",
      "839 716151937.0 839 is prime factor\n",
      "\n",
      "1471 408464633.0 1471 is prime factor\n",
      "\n",
      "6857 87625999.0 6857 is prime factor\n",
      "\n",
      "59569 10086647.0 \n",
      "104441 5753023.0 \n",
      "486847 1234169.0 \n"
     ]
    }
   ],
   "source": [
    "#약수는 제곱근을 중심으로 항상 짝으로 존재하기 때문에, \n",
    "#1.소수확인은 제곱근까지만 확인을 하면됨.\n",
    "#2.제곱근 이후의 약수는, 제곱근 이전의 약수로 원래수를 나누어서 구함.\n",
    "\n",
    "def isPrime(param):\n",
    "    if param==1:\n",
    "        return False\n",
    "    loop=round(param**0.5)\n",
    "    for j in range(2,loop+1):\n",
    "        if param%j == 0:\n",
    "            return False\n",
    "        else:\n",
    "            continue\n",
    "    return True\n",
    "\n",
    "number = 600851475143\n",
    "loopSize = round(number**0.5)\n",
    "for i in range(1,loopSize+1):\n",
    "    if number%i==0:\n",
    "        number2=number/i\n",
    "        print(i,number2,end=' ')\n",
    "        if isPrime(i):\n",
    "            print(i,\"is prime factor\")\n",
    "        elif isPrime(number2):\n",
    "            print(number2,\"is prime factor\")\n",
    "        print(\"\")"
   ]
  },
  {
   "cell_type": "code",
   "execution_count": 21,
   "metadata": {},
   "outputs": [
    {
     "name": "stdout",
     "output_type": "stream",
     "text": [
      "71, 8462696833.0\n",
      "839, 10086647.0\n",
      "1471, 6857.0\n",
      "6857, 1.0\n",
      "6857\n"
     ]
    }
   ],
   "source": [
    "#다른풀이 (소인수 분해 공식)\n",
    "\n",
    "factor, max_prime = 2, 0\n",
    "number = 600851475143\n",
    "while 1:\n",
    "    if (number%factor == 0):\n",
    "        print(factor,end=', ')\n",
    "        number = number/factor\n",
    "        print(number)\n",
    "        if factor>max_prime:\n",
    "            max_prime = factor\n",
    "        if number == 1:\n",
    "            break\n",
    "    else:\n",
    "        factor+=1\n",
    "print(max_prime)"
   ]
  }
 ],
 "metadata": {
  "kernelspec": {
   "display_name": "Python 3",
   "language": "python",
   "name": "python3"
  },
  "language_info": {
   "codemirror_mode": {
    "name": "ipython",
    "version": 3
   },
   "file_extension": ".py",
   "mimetype": "text/x-python",
   "name": "python",
   "nbconvert_exporter": "python",
   "pygments_lexer": "ipython3",
   "version": "3.5.1"
  }
 },
 "nbformat": 4,
 "nbformat_minor": 2
}
