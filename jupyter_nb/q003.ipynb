{
 "cells": [
  {
   "cell_type": "markdown",
   "metadata": {},
   "source": [
    "# Q003 Largest prime factor\n",
    "\n",
    "600851475143 의 가장 큰 소인수.\n",
    "\n",
    "The prime factors of 13195 are 5, 7, 13 and 29.\n",
    "\n",
    "What is the largest prime factor of the number 600851475143 ?\n",
    "\n"
   ]
  },
  {
   "cell_type": "code",
   "execution_count": 1,
   "metadata": {},
   "outputs": [
    {
     "name": "stdout",
     "output_type": "stream",
     "text": [
      "600851475143 71\n",
      "8462696833.0 839\n",
      "10086647.0 1471\n",
      "6857.0 6857\n",
      "6857\n"
     ]
    }
   ],
   "source": [
    "# 소인수 분해 공식으로 풀기\n",
    "\n",
    "def prime_factor(num):\n",
    "    factor=2\n",
    "    while not num == 1:\n",
    "        if num%factor == 0:\n",
    "            print(num,factor)\n",
    "            num = num/factor\n",
    "        else:\n",
    "            factor+=1\n",
    "    return factor\n",
    "\n",
    "number = 600851475143\n",
    "print(prime_factor(number))"
   ]
  },
  {
   "cell_type": "code",
   "execution_count": 6,
   "metadata": {
    "scrolled": true
   },
   "outputs": [
    {
     "name": "stdout",
     "output_type": "stream",
     "text": [
      "1\n",
      "2\n",
      "5\n",
      "10\n",
      "25\n",
      "50\n"
     ]
    }
   ],
   "source": [
    "#약수 체크\n",
    "number = 50\n",
    "i=1\n",
    "while i <= number:\n",
    "    if number%i==0:\n",
    "        print(i)\n",
    "    i+=1"
   ]
  },
  {
   "cell_type": "code",
   "execution_count": 2,
   "metadata": {
    "scrolled": false
   },
   "outputs": [
    {
     "name": "stdout",
     "output_type": "stream",
     "text": [
      "not prime\n"
     ]
    }
   ],
   "source": [
    "#소수 체크\n",
    "number = 50\n",
    "i=1\n",
    "while i <= number:\n",
    "    if number%i==0:\n",
    "        print(\"not prime\")\n",
    "        break\n",
    "    i+=1"
   ]
  },
  {
   "cell_type": "code",
   "execution_count": 4,
   "metadata": {},
   "outputs": [
    {
     "name": "stdout",
     "output_type": "stream",
     "text": [
      "839 is factor\n",
      "not prime number\n"
     ]
    }
   ],
   "source": [
    "#소수체크\n",
    "\n",
    "number = 8462696833\n",
    "i=2\n",
    "while i < number:\n",
    "    if number%i == 0:\n",
    "        print(i,\"is factor\")\n",
    "        print(\"not prime number\")\n",
    "        break\n",
    "    i+=1\n"
   ]
  },
  {
   "cell_type": "code",
   "execution_count": 5,
   "metadata": {},
   "outputs": [
    {
     "name": "stdout",
     "output_type": "stream",
     "text": [
      "not prime\n"
     ]
    }
   ],
   "source": [
    "#소수체크-함수분리\n",
    "\n",
    "def is_prime(num):\n",
    "    if num==1:\n",
    "        return False\n",
    "    i=2\n",
    "    while i<num:\n",
    "        if num%i==0:\n",
    "            return False\n",
    "        i+=1\n",
    "    return True\n",
    "\n",
    "number = 10000\n",
    "\n",
    "if is_prime(number):\n",
    "    print(\"prime\")\n",
    "else:\n",
    "    print(\"not prime\")\n",
    "\n"
   ]
  },
  {
   "cell_type": "code",
   "execution_count": 10,
   "metadata": {},
   "outputs": [
    {
     "name": "stdout",
     "output_type": "stream",
     "text": [
      "1 False\n",
      "839 True\n",
      "1471 True\n",
      "6857 True\n",
      "1234169 False\n",
      "5753023 False\n",
      "10086647 False\n"
     ]
    },
    {
     "ename": "KeyboardInterrupt",
     "evalue": "",
     "output_type": "error",
     "traceback": [
      "\u001b[0;31m---------------------------------------------------------------------------\u001b[0m",
      "\u001b[0;31mKeyboardInterrupt\u001b[0m                         Traceback (most recent call last)",
      "\u001b[0;32m<ipython-input-10-507f13c4d2c2>\u001b[0m in \u001b[0;36m<module>\u001b[0;34m()\u001b[0m\n\u001b[1;32m     14\u001b[0m \u001b[0mi\u001b[0m\u001b[0;34m=\u001b[0m\u001b[0;36m1\u001b[0m\u001b[0;34m\u001b[0m\u001b[0m\n\u001b[1;32m     15\u001b[0m \u001b[0;32mwhile\u001b[0m \u001b[0mi\u001b[0m \u001b[0;34m<=\u001b[0m \u001b[0mnumber\u001b[0m\u001b[0;34m:\u001b[0m\u001b[0;34m\u001b[0m\u001b[0m\n\u001b[0;32m---> 16\u001b[0;31m     \u001b[0;32mif\u001b[0m \u001b[0mnumber\u001b[0m\u001b[0;34m%\u001b[0m\u001b[0mi\u001b[0m\u001b[0;34m==\u001b[0m\u001b[0;36m0\u001b[0m\u001b[0;34m:\u001b[0m\u001b[0;34m\u001b[0m\u001b[0m\n\u001b[0m\u001b[1;32m     17\u001b[0m         \u001b[0mprint\u001b[0m\u001b[0;34m(\u001b[0m\u001b[0mi\u001b[0m\u001b[0;34m,\u001b[0m\u001b[0mis_prime\u001b[0m\u001b[0;34m(\u001b[0m\u001b[0mi\u001b[0m\u001b[0;34m)\u001b[0m\u001b[0;34m)\u001b[0m\u001b[0;34m\u001b[0m\u001b[0m\n\u001b[1;32m     18\u001b[0m     \u001b[0mi\u001b[0m\u001b[0;34m+=\u001b[0m\u001b[0;36m1\u001b[0m\u001b[0;34m\u001b[0m\u001b[0m\n",
      "\u001b[0;31mKeyboardInterrupt\u001b[0m: "
     ]
    }
   ],
   "source": [
    "#소인수 확인\n",
    "\n",
    "def is_prime(num):\n",
    "    if num==1:\n",
    "        return False\n",
    "    i=2\n",
    "    while i<num:\n",
    "        if num%i==0:\n",
    "            return False\n",
    "        i+=1\n",
    "    return True\n",
    "\n",
    "number = 8462696833\n",
    "i=1\n",
    "while i <= number:\n",
    "    if number%i==0:\n",
    "        print(i,is_prime(i))\n",
    "    i+=1"
   ]
  },
  {
   "cell_type": "code",
   "execution_count": 11,
   "metadata": {},
   "outputs": [
    {
     "name": "stdout",
     "output_type": "stream",
     "text": [
      "73 is prime factor\n",
      "103 is prime factor\n",
      "10957 is prime factor\n"
     ]
    }
   ],
   "source": [
    "#가장큰 소인수\n",
    "\n",
    "def is_prime(num):\n",
    "    if num==1:\n",
    "        return False\n",
    "    i=2\n",
    "    while i<num:\n",
    "        if num%i==0:\n",
    "            return False\n",
    "        i+=1\n",
    "    return True\n",
    "\n",
    "number = 82385683\n",
    "i=1\n",
    "while i <= number:\n",
    "    if number%i==0 and is_prime(i):\n",
    "        print(i,\"is prime factor\")\n",
    "    i+=1"
   ]
  },
  {
   "cell_type": "code",
   "execution_count": 11,
   "metadata": {
    "scrolled": true
   },
   "outputs": [
    {
     "name": "stdout",
     "output_type": "stream",
     "text": [
      "71 is prime factor\n",
      "839 is prime factor\n",
      "1471 is prime factor\n",
      "6857 is prime factor\n"
     ]
    },
    {
     "ename": "KeyboardInterrupt",
     "evalue": "",
     "output_type": "error",
     "traceback": [
      "\u001b[0;31m---------------------------------------------------------------------------\u001b[0m",
      "\u001b[0;31mKeyboardInterrupt\u001b[0m                         Traceback (most recent call last)",
      "\u001b[0;32m<ipython-input-11-5da1096725e1>\u001b[0m in \u001b[0;36m<module>\u001b[0;34m()\u001b[0m\n\u001b[1;32m     16\u001b[0m     \u001b[0;32mif\u001b[0m \u001b[0mnumber\u001b[0m\u001b[0;34m%\u001b[0m\u001b[0mi\u001b[0m\u001b[0;34m==\u001b[0m\u001b[0;36m0\u001b[0m \u001b[0;32mand\u001b[0m \u001b[0mis_prime\u001b[0m\u001b[0;34m(\u001b[0m\u001b[0mi\u001b[0m\u001b[0;34m)\u001b[0m\u001b[0;34m:\u001b[0m\u001b[0;34m\u001b[0m\u001b[0m\n\u001b[1;32m     17\u001b[0m         \u001b[0mprint\u001b[0m\u001b[0;34m(\u001b[0m\u001b[0mi\u001b[0m\u001b[0;34m,\u001b[0m\u001b[0;34m\"is prime factor\"\u001b[0m\u001b[0;34m)\u001b[0m\u001b[0;34m\u001b[0m\u001b[0m\n\u001b[0;32m---> 18\u001b[0;31m     \u001b[0mi\u001b[0m\u001b[0;34m+=\u001b[0m\u001b[0;36m1\u001b[0m\u001b[0;34m\u001b[0m\u001b[0m\n\u001b[0m",
      "\u001b[0;31mKeyboardInterrupt\u001b[0m: "
     ]
    }
   ],
   "source": [
    "#600851475143 -> 숫자가 커서 시간이 오래 걸림.\n",
    "\n",
    "def is_prime(num):\n",
    "    if num==1:\n",
    "        return False\n",
    "    i=2\n",
    "    while i<num:\n",
    "        if num%i==0:\n",
    "            return False\n",
    "        i+=1\n",
    "    return True\n",
    "\n",
    "number = 600851475143\n",
    "i=1\n",
    "while i <= number:\n",
    "    if number%i==0 and is_prime(i):\n",
    "        print(i,\"is prime factor\")\n",
    "    i+=1"
   ]
  },
  {
   "cell_type": "code",
   "execution_count": 13,
   "metadata": {},
   "outputs": [
    {
     "name": "stdout",
     "output_type": "stream",
     "text": [
      "1 600851475143.0 \n",
      "71 8462696833.0 71 is prime factor \n",
      "839 716151937.0 839 is prime factor \n",
      "1471 408464633.0 1471 is prime factor \n",
      "6857 87625999.0 6857 is prime factor \n",
      "59569 10086647.0 \n",
      "104441 5753023.0 \n",
      "486847 1234169.0 \n"
     ]
    }
   ],
   "source": [
    "#약수는 제곱근을 중심으로 항상 짝으로 존재하기 때문에, \n",
    "#1.소수확인은 제곱근까지만 확인을 하면됨.\n",
    "#2.제곱근 이후의 약수는, 제곱근 이전의 약수로 원래수를 나누어서 구함.\n",
    "\n",
    "def is_prime(num):\n",
    "    if num==1:\n",
    "        return False\n",
    "    loop=num**0.5\n",
    "    i=2\n",
    "    while i<=loop:\n",
    "        if num%i==0:\n",
    "            return False\n",
    "        i+=1\n",
    "    return True\n",
    "\n",
    "number = 600851475143\n",
    "loop = number**0.5\n",
    "i=1\n",
    "while i <= loop:\n",
    "    if number%i==0:\n",
    "        number2=number/i\n",
    "        print(i,number2,end=' ')\n",
    "        if is_prime(i):\n",
    "            print(i,\"is prime factor\",end=' ')\n",
    "        if is_prime(number2):\n",
    "            print(number2,\"is prime factor\")\n",
    "        print(\"\")\n",
    "    i+=1"
   ]
  },
  {
   "cell_type": "code",
   "execution_count": 2,
   "metadata": {},
   "outputs": [
    {
     "name": "stdout",
     "output_type": "stream",
     "text": [
      "1 600851475143.0 \n",
      "71 8462696833.0 71 is prime factor\n",
      "\n",
      "839 716151937.0 839 is prime factor\n",
      "\n",
      "1471 408464633.0 1471 is prime factor\n",
      "\n",
      "6857 87625999.0 6857 is prime factor\n",
      "\n",
      "59569 10086647.0 \n",
      "104441 5753023.0 \n",
      "486847 1234169.0 \n"
     ]
    }
   ],
   "source": [
    "# final\n",
    "def is_prime(num):\n",
    "    if num==1:\n",
    "        return False\n",
    "    loop=num**0.5\n",
    "    i=2\n",
    "    while i<=loop:\n",
    "        if num%i==0:\n",
    "            return False\n",
    "        i+=1\n",
    "    return True\n",
    "\n",
    "number = 600851475143\n",
    "i=1\n",
    "while i <= pow(number,0.5):\n",
    "    if number%i==0:\n",
    "        number2=number/i\n",
    "        print(i,number2,end=' ')\n",
    "        if is_prime(i):\n",
    "            print(i,\"is prime factor\")\n",
    "        elif is_prime(number2):\n",
    "            print(number2,\"is prime factor\")\n",
    "        print(\"\")\n",
    "    i+=1"
   ]
  },
  {
   "cell_type": "code",
   "execution_count": 3,
   "metadata": {},
   "outputs": [
    {
     "name": "stdout",
     "output_type": "stream",
     "text": [
      "1 600851475143.0 \n",
      "71 8462696833.0 71 is prime factor\n",
      "\n",
      "839 716151937.0 839 is prime factor\n",
      "\n",
      "1471 408464633.0 1471 is prime factor\n",
      "\n",
      "6857 87625999.0 6857 is prime factor\n",
      "\n",
      "59569 10086647.0 \n",
      "104441 5753023.0 \n",
      "486847 1234169.0 \n"
     ]
    }
   ],
   "source": [
    "# 3. sympy 모듈 이용\n",
    "from sympy import isprime\n",
    "\n",
    "number = 600851475143\n",
    "i=1\n",
    "while i <= pow(number,0.5):\n",
    "    if number%i==0:\n",
    "        number2=number/i\n",
    "        print(i,number2,end=' ')\n",
    "        if isprime(i):\n",
    "            print(i,\"is prime factor\")\n",
    "        elif isprime(number2):\n",
    "            print(number2,\"is prime factor\")\n",
    "        print(\"\")\n",
    "    i+=1"
   ]
  }
 ],
 "metadata": {
  "kernelspec": {
   "display_name": "Python 3",
   "language": "python",
   "name": "python3"
  },
  "language_info": {
   "codemirror_mode": {
    "name": "ipython",
    "version": 3
   },
   "file_extension": ".py",
   "mimetype": "text/x-python",
   "name": "python",
   "nbconvert_exporter": "python",
   "pygments_lexer": "ipython3",
   "version": "3.6.5"
  }
 },
 "nbformat": 4,
 "nbformat_minor": 2
}
