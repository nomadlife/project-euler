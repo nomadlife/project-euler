{
 "cells": [
  {
   "cell_type": "markdown",
   "metadata": {
    "collapsed": true
   },
   "source": [
    "# Q016 Power digit sum\n",
    "\n",
    "\n",
    "$2^{15}$ = 32768 and the sum of its digits is 3 + 2 + 7 + 6 + 8 = 26.\n",
    "\n",
    "What is the sum of the digits of the number $2^{1000}$?\n"
   ]
  },
  {
   "cell_type": "code",
   "execution_count": 20,
   "metadata": {},
   "outputs": [
    {
     "name": "stdout",
     "output_type": "stream",
     "text": [
      "1366\n",
      "time: 0.0007104873657226562\n"
     ]
    }
   ],
   "source": [
    "from time import time as t\n",
    "start = t()\n",
    "\n",
    "string=str(2**1000)\n",
    "total=0\n",
    "for i in string:\n",
    "    total=total+int(i)\n",
    "\n",
    "print(total)\n",
    "print('time:', t()-start)"
   ]
  },
  {
   "cell_type": "code",
   "execution_count": 23,
   "metadata": {},
   "outputs": [
    {
     "name": "stdout",
     "output_type": "stream",
     "text": [
      "1366\n",
      "time: 0.0005011558532714844\n"
     ]
    }
   ],
   "source": [
    "from time import time as t\n",
    "start = t()\n",
    "\n",
    "string=str(2**1000)\n",
    "i=0\n",
    "total=0\n",
    "for i in string:\n",
    "    total+=int(i)\n",
    "\n",
    "print(total)\n",
    "print('time:', t()-start)"
   ]
  },
  {
   "cell_type": "code",
   "execution_count": 33,
   "metadata": {
    "scrolled": true
   },
   "outputs": [
    {
     "name": "stdout",
     "output_type": "stream",
     "text": [
      "1366\n",
      "time: 0.0004563331604003906\n"
     ]
    }
   ],
   "source": [
    "from time import time as t\n",
    "start = t()\n",
    "\n",
    "total=0\n",
    "for i in str(2**1000):\n",
    "    total+=int(i)\n",
    "\n",
    "print(total)\n",
    "print('time:', t()-start)"
   ]
  },
  {
   "cell_type": "code",
   "execution_count": 49,
   "metadata": {},
   "outputs": [
    {
     "name": "stdout",
     "output_type": "stream",
     "text": [
      "1366\n",
      "time: 0.0009312629699707031\n"
     ]
    }
   ],
   "source": [
    "from time import time as t\n",
    "start = t()\n",
    "\n",
    "sum([int(i) for i in str(2**1000)])\n",
    "\n",
    "print(total)\n",
    "print('time:', t()-start)"
   ]
  },
  {
   "cell_type": "markdown",
   "metadata": {},
   "source": [
    "## =========="
   ]
  },
  {
   "cell_type": "code",
   "execution_count": 114,
   "metadata": {},
   "outputs": [
    {
     "name": "stdout",
     "output_type": "stream",
     "text": [
      "1366\n",
      "time: 0.0007348060607910156\n"
     ]
    }
   ],
   "source": [
    "from time import time as t\n",
    "start = t()\n",
    "\n",
    "value=2**1000\n",
    "total=0\n",
    "while value >= 10:\n",
    "    total += value % 10\n",
    "    value = value // 10\n",
    "total+=value\n",
    "\n",
    "print(total)\n",
    "print('time:', t()-start)"
   ]
  },
  {
   "cell_type": "code",
   "execution_count": null,
   "metadata": {},
   "outputs": [],
   "source": []
  }
 ],
 "metadata": {
  "kernelspec": {
   "display_name": "Python 3",
   "language": "python",
   "name": "python3"
  },
  "language_info": {
   "codemirror_mode": {
    "name": "ipython",
    "version": 3
   },
   "file_extension": ".py",
   "mimetype": "text/x-python",
   "name": "python",
   "nbconvert_exporter": "python",
   "pygments_lexer": "ipython3",
   "version": "3.6.4"
  }
 },
 "nbformat": 4,
 "nbformat_minor": 2
}
