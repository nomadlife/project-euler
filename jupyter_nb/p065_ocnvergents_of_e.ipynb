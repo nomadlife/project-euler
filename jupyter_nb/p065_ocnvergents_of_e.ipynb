{
 "cells": [
  {
   "cell_type": "markdown",
   "metadata": {},
   "source": [
    "# Convergents of e\n",
    "The square root of 2 can be written as an infinite continued fraction.\n",
    "$$\\sqrt{2} = 1 + \\frac{1}{2+\\frac{1}{2+\\frac{1}{2+\\frac{1}{\\dots}}}}$$"
   ]
  },
  {
   "cell_type": "code",
   "execution_count": null,
   "metadata": {},
   "outputs": [],
   "source": [
    "def func(num,n):\n",
    "    \n",
    "    return numer,denom\n",
    "\n",
    "num_list = []\n",
    "n=0\n",
    "func(num_list,n)\n"
   ]
  },
  {
   "cell_type": "code",
   "execution_count": 18,
   "metadata": {},
   "outputs": [
    {
     "name": "stdout",
     "output_type": "stream",
     "text": [
      "1 1\n",
      "3/2 1.5\n",
      "7/5 1.4\n"
     ]
    }
   ],
   "source": [
    "print('1',1)\n",
    "print('3/2',3/2)\n",
    "print('7/5',7/5)\n"
   ]
  },
  {
   "cell_type": "code",
   "execution_count": 16,
   "metadata": {},
   "outputs": [
    {
     "name": "stdout",
     "output_type": "stream",
     "text": [
      "1 1\n",
      "1+1/2 1.5\n",
      "1+1/(2+1/2) 1.4\n"
     ]
    }
   ],
   "source": [
    "print('1',1)\n",
    "print('1+1/2',1+1/2)\n",
    "print('1+1/(2+1/2)',1+1/(2+1/2))"
   ]
  },
  {
   "cell_type": "code",
   "execution_count": 1,
   "metadata": {},
   "outputs": [
    {
     "name": "stdout",
     "output_type": "stream",
     "text": [
      "2 2\n",
      "3 3\n",
      "8/3 2.6666666666666665\n",
      "11/4 2.75\n",
      "19/7 2.7142857142857144\n",
      "87/32 2.71875\n",
      "106/39 2.717948717948718\n"
     ]
    }
   ],
   "source": [
    "print('2',2)\n",
    "print('3',3)\n",
    "print('8/3',8/3)\n",
    "print('11/4',11/4)\n",
    "print('19/7',19/7)\n",
    "print('87/32',87/32)\n",
    "print('106/39',106/39)\n"
   ]
  },
  {
   "cell_type": "code",
   "execution_count": null,
   "metadata": {},
   "outputs": [],
   "source": [
    "print('2',2)\n",
    "print('2+1/1',2+1/1)\n",
    "print('2+1/(1+1/2)',2+1/(1+1/2))\n",
    "print('2+1/(1+1/(2+1/1))',2+1/(1+1/(2+1/1)))\n",
    "print('2+1/(1+1/(2+1/(1+1/1)))',2+1/(1+1/(2+1/(1+1/1))))\n"
   ]
  },
  {
   "cell_type": "code",
   "execution_count": null,
   "metadata": {},
   "outputs": [],
   "source": []
  },
  {
   "cell_type": "code",
   "execution_count": 10,
   "metadata": {},
   "outputs": [
    {
     "data": {
      "text/plain": [
       "(11, 4)"
      ]
     },
     "execution_count": 10,
     "metadata": {},
     "output_type": "execute_result"
    }
   ],
   "source": [
    "# test for series\n",
    "sequence=[2,1,2,1,1,4,1]\n",
    "numbers = [2,3,8/3, 11/4, 19/7] \n",
    "def make_num(n1,d1,n2,d2,i):\n",
    "    n3 = n1+n2*i\n",
    "    d3 = d1+d2*i\n",
    "    return n3,d3\n",
    "make_num(3,1,8,3,1)"
   ]
  },
  {
   "cell_type": "code",
   "execution_count": 10,
   "metadata": {},
   "outputs": [
    {
     "data": {
      "text/plain": [
       "(11, 4)"
      ]
     },
     "execution_count": 10,
     "metadata": {},
     "output_type": "execute_result"
    }
   ],
   "source": [
    "#test for initial series\n",
    "# not solved\n",
    "sequence=[2,1,2,1,1,4,1]\n",
    "numbers = [2,3,8/3, 11/4, 19/7] \n",
    "def make_num(n1,d1,n2,d2,i):\n",
    "    n3 = n1+n2*i\n",
    "    d3 = d1+d2*i\n",
    "    return n3,d3\n",
    "make_num(3,1,8,3,1)"
   ]
  },
  {
   "cell_type": "code",
   "execution_count": 10,
   "metadata": {},
   "outputs": [
    {
     "data": {
      "text/plain": [
       "(11, 4)"
      ]
     },
     "execution_count": 10,
     "metadata": {},
     "output_type": "execute_result"
    }
   ],
   "source": [
    "def make_num(n1,d1,n2,d2,i):\n",
    "    n3 = n1+n2*i\n",
    "    d3 = d1+d2*i\n",
    "    return n3,d3\n",
    "\n",
    "sequence=[2,1,2,1,1,4,1]\n",
    "numbers = [2,3,8/3, 11/4, 19/7] \n",
    "make_num(3,1,8,3,1)"
   ]
  }
 ],
 "metadata": {
  "kernelspec": {
   "display_name": "Python 3",
   "language": "python",
   "name": "python3"
  },
  "language_info": {
   "codemirror_mode": {
    "name": "ipython",
    "version": 3
   },
   "file_extension": ".py",
   "mimetype": "text/x-python",
   "name": "python",
   "nbconvert_exporter": "python",
   "pygments_lexer": "ipython3",
   "version": "3.6.4"
  }
 },
 "nbformat": 4,
 "nbformat_minor": 2
}
