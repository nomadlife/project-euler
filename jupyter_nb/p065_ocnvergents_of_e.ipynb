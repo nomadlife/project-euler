{
 "cells": [
  {
   "cell_type": "markdown",
   "metadata": {},
   "source": [
    "# Convergents of e\n",
    "The square root of 2 can be written as an infinite continued fraction.\n",
    "$$\\sqrt{2} = 1 + \\frac{1}{2+\\frac{1}{2+\\frac{1}{2+\\frac{1}{\\dots}}}}$$"
   ]
  },
  {
   "cell_type": "code",
   "execution_count": null,
   "metadata": {},
   "outputs": [],
   "source": [
    "def func(num,n):\n",
    "    \n",
    "    return numer,denom\n",
    "\n",
    "num_list = []\n",
    "n=0\n",
    "func(num_list,n)\n"
   ]
  },
  {
   "cell_type": "code",
   "execution_count": 18,
   "metadata": {},
   "outputs": [
    {
     "name": "stdout",
     "output_type": "stream",
     "text": [
      "1 1\n",
      "3/2 1.5\n",
      "7/5 1.4\n"
     ]
    }
   ],
   "source": [
    "print('1',1)\n",
    "print('3/2',3/2)\n",
    "print('7/5',7/5)\n"
   ]
  },
  {
   "cell_type": "code",
   "execution_count": 16,
   "metadata": {},
   "outputs": [
    {
     "name": "stdout",
     "output_type": "stream",
     "text": [
      "1 1\n",
      "1+1/2 1.5\n",
      "1+1/(2+1/2) 1.4\n"
     ]
    }
   ],
   "source": [
    "print('1',1)\n",
    "print('1+1/2',1+1/2)\n",
    "print('1+1/(2+1/2)',1+1/(2+1/2))"
   ]
  },
  {
   "cell_type": "code",
   "execution_count": 1,
   "metadata": {},
   "outputs": [
    {
     "data": {
      "text/plain": [
       "1.4"
      ]
     },
     "execution_count": 1,
     "metadata": {},
     "output_type": "execute_result"
    }
   ],
   "source": [
    "test='1+1/(2+1/2)'\n",
    "eval(test)"
   ]
  },
  {
   "cell_type": "code",
   "execution_count": 6,
   "metadata": {},
   "outputs": [
    {
     "data": {
      "text/plain": [
       "'1+1/(2+1/asdf)'"
      ]
     },
     "execution_count": 6,
     "metadata": {},
     "output_type": "execute_result"
    }
   ],
   "source": [
    "test='1+1/(2+1/2)'\n",
    "'asdf'.join(test.rsplit('2',1))"
   ]
  },
  {
   "cell_type": "code",
   "execution_count": 25,
   "metadata": {},
   "outputs": [
    {
     "data": {
      "text/plain": [
       "'n'"
      ]
     },
     "execution_count": 25,
     "metadata": {},
     "output_type": "execute_result"
    }
   ],
   "source": [
    "test='teststring'\n",
    "test[-2]"
   ]
  },
  {
   "cell_type": "code",
   "execution_count": 37,
   "metadata": {},
   "outputs": [
    {
     "name": "stdout",
     "output_type": "stream",
     "text": [
      "1+1/(2+1/2)\n",
      "1+1/(2+1/(2+1/2))\n"
     ]
    }
   ],
   "source": [
    "test1='1+1/(2+1/2)'\n",
    "print(test1)\n",
    "temp=test1[-2]\n",
    "new='2'\n",
    "test2=('('+temp+'+1/'+new+')').join(test1.rsplit('2',1))\n",
    "print(test2)"
   ]
  },
  {
   "cell_type": "code",
   "execution_count": 55,
   "metadata": {},
   "outputs": [
    {
     "name": "stdout",
     "output_type": "stream",
     "text": [
      "1\n",
      "1 0\n",
      "1+1/2\n",
      "2 4\n",
      "1+1/(/+1/2)\n",
      "2 9\n",
      "1+1/(/+1/(2+1/2))\n",
      "2 14\n",
      "1+1/(/+1/(2+1/()+1/2)))\n",
      "2 19\n",
      "1+1/(/+1/(2+1/()+1/()+1/2))))\n"
     ]
    }
   ],
   "source": [
    "\n",
    "def func(c=0,eqn=''):\n",
    "    if c==0:\n",
    "        eqn=str(p[c])\n",
    "        print(eqn)\n",
    "    elif c==1:\n",
    "        target=eqn.rindex(str(p[c-1]))\n",
    "        print(str(p[c-1]),target)\n",
    "        eqn=str(p[c-1])+'+1/'+str(p[c])\n",
    "        print(eqn)\n",
    "    else:\n",
    "        target=eqn.rindex(str(p[c-1]))\n",
    "        print(str(p[c-1]),target)\n",
    "        new=str(p[c])\n",
    "        eqn=('('+eqn[-2]+'+1/'+new+')').join(eqn.rsplit('2',1))\n",
    "        print(eqn)\n",
    "    if c+1 == len(p):\n",
    "        return\n",
    "    else:\n",
    "        func(c+1,eqn)\n",
    "p=[1,2,2,2,2,2]\n",
    "func()"
   ]
  },
  {
   "cell_type": "code",
   "execution_count": 7,
   "metadata": {},
   "outputs": [
    {
     "name": "stdout",
     "output_type": "stream",
     "text": [
      "1 \n",
      "2 \n",
      "2 \n",
      "2 \n",
      "2 \n"
     ]
    }
   ],
   "source": [
    "p=[1,2,2,2,2]\n",
    "\n",
    "def func(i=0,string=''):\n",
    "    eqn=+str(p[i])+.join(string.rsplit('2',1))\n",
    "    print(p[i], eqn)\n",
    "    if i==len(p)-1:\n",
    "        return\n",
    "    else:\n",
    "        func(i+1,eqn)\n",
    "\n",
    "func()"
   ]
  },
  {
   "cell_type": "code",
   "execution_count": 1,
   "metadata": {},
   "outputs": [
    {
     "name": "stdout",
     "output_type": "stream",
     "text": [
      "2 2\n",
      "3 3\n",
      "8/3 2.6666666666666665\n",
      "11/4 2.75\n",
      "19/7 2.7142857142857144\n",
      "87/32 2.71875\n",
      "106/39 2.717948717948718\n"
     ]
    }
   ],
   "source": [
    "print('2',2)\n",
    "print('3',3)\n",
    "print('8/3',8/3)\n",
    "print('11/4',11/4)\n",
    "print('19/7',19/7)\n",
    "print('87/32',87/32)\n",
    "print('106/39',106/39)\n"
   ]
  },
  {
   "cell_type": "code",
   "execution_count": 1,
   "metadata": {},
   "outputs": [
    {
     "name": "stdout",
     "output_type": "stream",
     "text": [
      "2 2\n",
      "2+1/1 3.0\n",
      "2+1/(1+1/2) 2.6666666666666665\n",
      "2+1/(1+1/(2+1/1)) 2.75\n",
      "2+1/(1+1/(2+1/(1+1/1))) 2.7142857142857144\n"
     ]
    }
   ],
   "source": [
    "print('2',2)\n",
    "print('2+1/1',2+1/1)\n",
    "print('2+1/(1+1/2)',2+1/(1+1/2))\n",
    "print('2+1/(1+1/(2+1/1))',2+1/(1+1/(2+1/1)))\n",
    "print('2+1/(1+1/(2+1/(1+1/1)))',2+1/(1+1/(2+1/(1+1/1))))"
   ]
  },
  {
   "cell_type": "code",
   "execution_count": 2,
   "metadata": {},
   "outputs": [
    {
     "data": {
      "text/plain": [
       "4.795831523312719"
      ]
     },
     "execution_count": 2,
     "metadata": {},
     "output_type": "execute_result"
    }
   ],
   "source": [
    "23**0.5"
   ]
  },
  {
   "cell_type": "code",
   "execution_count": 3,
   "metadata": {},
   "outputs": [
    {
     "name": "stdout",
     "output_type": "stream",
     "text": [
      "4\n",
      "5.0\n",
      "4.75\n",
      "4.8\n",
      "4.795454545454546\n"
     ]
    }
   ],
   "source": [
    "a=4\n",
    "b=[1,3,1,8]\n",
    "print(a)\n",
    "print(a+1/b[0])\n",
    "print(a+1/(b[0]+1/b[1]))\n",
    "print(a+1/(b[0]+1/(b[1]+1/b[2])))\n",
    "print(a+1/(b[0]+1/(b[1]+1/(b[2]+1/b[3]))))"
   ]
  },
  {
   "cell_type": "code",
   "execution_count": 17,
   "metadata": {},
   "outputs": [
    {
     "name": "stdout",
     "output_type": "stream",
     "text": [
      "3\n",
      "[1, 2]\n"
     ]
    }
   ],
   "source": [
    "t=[1,2,3]\n",
    "v=t.pop()\n",
    "print(v)\n",
    "print(t)"
   ]
  },
  {
   "cell_type": "code",
   "execution_count": 22,
   "metadata": {},
   "outputs": [
    {
     "name": "stdout",
     "output_type": "stream",
     "text": [
      "[4, 1, 3, 1, 8]\n",
      "5.0\n"
     ]
    }
   ],
   "source": [
    "def func(t,n=0):\n",
    "    print(t)\n",
    "    if len(t)==1:\n",
    "        return t[1]\n",
    "    else :\n",
    "        print(t[n]+1/t[n+1])\n",
    "func([4,1,3,1,8])"
   ]
  },
  {
   "cell_type": "code",
   "execution_count": 10,
   "metadata": {},
   "outputs": [
    {
     "data": {
      "text/plain": [
       "(11, 4)"
      ]
     },
     "execution_count": 10,
     "metadata": {},
     "output_type": "execute_result"
    }
   ],
   "source": [
    "# test for series\n",
    "sequence=[2,1,2,1,1,4,1]\n",
    "numbers = [2,3,8/3, 11/4, 19/7] \n",
    "def make_num(n1,d1,n2,d2,i):\n",
    "    n3 = n1+n2*i\n",
    "    d3 = d1+d2*i\n",
    "    return n3,d3\n",
    "make_num(3,1,8,3,1)"
   ]
  },
  {
   "cell_type": "code",
   "execution_count": 10,
   "metadata": {},
   "outputs": [
    {
     "data": {
      "text/plain": [
       "(11, 4)"
      ]
     },
     "execution_count": 10,
     "metadata": {},
     "output_type": "execute_result"
    }
   ],
   "source": [
    "# test for initial series\n",
    "# not solved\n",
    "sequence=[2,1,2,1,1,4,1]\n",
    "numbers = [2,3,8/3, 11/4, 19/7] \n",
    "def make_num(n1,d1,n2,d2,i):\n",
    "    n3 = n1+n2*i\n",
    "    d3 = d1+d2*i\n",
    "    return n3,d3\n",
    "make_num(3,1,8,3,1)"
   ]
  },
  {
   "cell_type": "code",
   "execution_count": 10,
   "metadata": {},
   "outputs": [
    {
     "data": {
      "text/plain": [
       "(11, 4)"
      ]
     },
     "execution_count": 10,
     "metadata": {},
     "output_type": "execute_result"
    }
   ],
   "source": [
    "# \n",
    "def make_num(n1,d1,n2,d2,i):\n",
    "    n3 = n1+n2*i\n",
    "    d3 = d1+d2*i\n",
    "    return n3,d3\n",
    "\n",
    "sequence=[2,1,2,1,1,4,1]\n",
    "numbers = [2,3,8/3, 11/4, 19/7] \n",
    "make_num(3,1,8,3,1)"
   ]
  }
 ],
 "metadata": {
  "kernelspec": {
   "display_name": "Python 3",
   "language": "python",
   "name": "python3"
  },
  "language_info": {
   "codemirror_mode": {
    "name": "ipython",
    "version": 3
   },
   "file_extension": ".py",
   "mimetype": "text/x-python",
   "name": "python",
   "nbconvert_exporter": "python",
   "pygments_lexer": "ipython3",
   "version": "3.6.4"
  }
 },
 "nbformat": 4,
 "nbformat_minor": 2
}
