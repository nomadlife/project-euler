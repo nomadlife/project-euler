{
 "cells": [
  {
   "cell_type": "markdown",
   "metadata": {},
   "source": [
    "# Q035 Circular primes\n",
    "\n",
    "\n",
    "The number, 197, is called a circular prime because all rotations of the digits: 197, 971, and 719, are themselves prime.\n",
    "\n",
    "There are thirteen such primes below 100: 2, 3, 5, 7, 11, 13, 17, 31, 37, 71, 73, 79, and 97.\n",
    "\n",
    "How many circular primes are there below one million?\n"
   ]
  },
  {
   "cell_type": "code",
   "execution_count": 11,
   "metadata": {
    "scrolled": true
   },
   "outputs": [
    {
     "name": "stdout",
     "output_type": "stream",
     "text": [
      "2 True\n",
      "3 True\n",
      "4 False\n",
      "5 True\n",
      "6 False\n",
      "7 True\n",
      "8 False\n",
      "9 False\n",
      "10 False\n"
     ]
    }
   ],
   "source": [
    "# 소수 - 10까지\n",
    "def is_prime(number):\n",
    "    i=2\n",
    "    while i <= number**0.5:\n",
    "        if number % i == 0:\n",
    "            return False\n",
    "        i+=1\n",
    "    return True\n",
    "\n",
    "for i in range(2,11):\n",
    "    print(i,is_prime(i))\n",
    "            "
   ]
  },
  {
   "cell_type": "code",
   "execution_count": 10,
   "metadata": {
    "scrolled": true
   },
   "outputs": [
    {
     "name": "stdout",
     "output_type": "stream",
     "text": [
      "2 is prime\n",
      "3 is prime\n",
      "5 is prime\n",
      "7 is prime\n"
     ]
    }
   ],
   "source": [
    "# 소수만 - 10까지\n",
    "def is_prime(number):\n",
    "    i=2\n",
    "    while i <= number**0.5:\n",
    "        if number % i == 0:\n",
    "            return False\n",
    "        i+=1\n",
    "    return True\n",
    "\n",
    "for i in range(2,11):\n",
    "    if is_prime(i):\n",
    "        print(i,\"is prime\")\n",
    "\n",
    "            "
   ]
  },
  {
   "cell_type": "code",
   "execution_count": 12,
   "metadata": {
    "scrolled": true
   },
   "outputs": [
    {
     "name": "stdout",
     "output_type": "stream",
     "text": [
      "2 is prime\n",
      "3 is prime\n",
      "5 is prime\n",
      "7 is prime\n",
      "11 is prime\n",
      "13 is prime\n",
      "17 is prime\n",
      "19 is prime\n",
      "23 is prime\n",
      "29 is prime\n",
      "31 is prime\n",
      "37 is prime\n",
      "41 is prime\n",
      "43 is prime\n",
      "47 is prime\n",
      "53 is prime\n",
      "59 is prime\n",
      "61 is prime\n",
      "67 is prime\n",
      "71 is prime\n",
      "73 is prime\n",
      "79 is prime\n",
      "83 is prime\n",
      "89 is prime\n",
      "97 is prime\n"
     ]
    }
   ],
   "source": [
    "# 소수만 - 100 까지\n",
    "def is_prime(number):\n",
    "    i=2\n",
    "    while i <= number**0.5:\n",
    "        if number % i == 0:\n",
    "            return False\n",
    "        i+=1\n",
    "    return True\n",
    "\n",
    "for i in range(2,101):\n",
    "    if is_prime(i):\n",
    "        print(i,\"is prime\")\n",
    "\n",
    "            "
   ]
  },
  {
   "cell_type": "code",
   "execution_count": 16,
   "metadata": {
    "scrolled": true
   },
   "outputs": [
    {
     "name": "stdout",
     "output_type": "stream",
     "text": [
      "2 is prime,\n",
      "3 is prime,\n",
      "5 is prime,\n",
      "7 is prime,\n",
      "11 is prime,11,\n",
      "13 is prime,31,\n",
      "17 is prime,71,\n",
      "19 is prime,91,\n",
      "23 is prime,32,\n",
      "29 is prime,92,\n",
      "31 is prime,13,\n",
      "37 is prime,73,\n",
      "41 is prime,14,\n",
      "43 is prime,34,\n",
      "47 is prime,74,\n",
      "53 is prime,35,\n",
      "59 is prime,95,\n",
      "61 is prime,16,\n",
      "67 is prime,76,\n",
      "71 is prime,17,\n",
      "73 is prime,37,\n",
      "79 is prime,97,\n",
      "83 is prime,38,\n",
      "89 is prime,98,\n",
      "97 is prime,79,\n",
      "101 is prime,011,110,\n",
      "103 is prime,031,310,\n",
      "107 is prime,071,710,\n",
      "109 is prime,091,910,\n",
      "113 is prime,131,311,\n",
      "127 is prime,271,712,\n",
      "131 is prime,311,113,\n",
      "137 is prime,371,713,\n",
      "139 is prime,391,913,\n",
      "149 is prime,491,914,\n",
      "151 is prime,511,115,\n",
      "157 is prime,571,715,\n",
      "163 is prime,631,316,\n",
      "167 is prime,671,716,\n",
      "173 is prime,731,317,\n",
      "179 is prime,791,917,\n",
      "181 is prime,811,118,\n",
      "191 is prime,911,119,\n",
      "193 is prime,931,319,\n",
      "197 is prime,971,719,\n",
      "199 is prime,991,919,\n"
     ]
    }
   ],
   "source": [
    "# 200까지, 소수이면, Circular Number 생성.\n",
    "\n",
    "def is_prime(number):\n",
    "    i=2\n",
    "    while i <= number**0.5:\n",
    "        if number % i == 0:\n",
    "            return False\n",
    "        i+=1\n",
    "    return True\n",
    "\n",
    "for i in range(2,201):\n",
    "    if is_prime(i):\n",
    "        print(i,\"is prime\",end=\",\")\n",
    "        string = str(i)\n",
    "        is_circular_prime = True\n",
    "        m=len(string)\n",
    "        for i in range(1,m):\n",
    "            string_new = string[i:]+string[:i]\n",
    "            print(string_new,end=\",\")\n",
    "        print()\n",
    "            "
   ]
  },
  {
   "cell_type": "code",
   "execution_count": 18,
   "metadata": {
    "scrolled": true
   },
   "outputs": [
    {
     "name": "stdout",
     "output_type": "stream",
     "text": [
      "2 is prime,is_circular_prime ? True\n",
      "3 is prime,is_circular_prime ? True\n",
      "5 is prime,is_circular_prime ? True\n",
      "7 is prime,is_circular_prime ? True\n",
      "11 is prime,11 is prime,is_circular_prime ? True\n",
      "13 is prime,31 is prime,is_circular_prime ? True\n",
      "17 is prime,71 is prime,is_circular_prime ? True\n",
      "19 is prime,91 is not prime,is_circular_prime ? False\n",
      "23 is prime,32 is not prime,is_circular_prime ? False\n",
      "29 is prime,92 is not prime,is_circular_prime ? False\n",
      "31 is prime,13 is prime,is_circular_prime ? True\n",
      "37 is prime,73 is prime,is_circular_prime ? True\n",
      "41 is prime,14 is not prime,is_circular_prime ? False\n",
      "43 is prime,34 is not prime,is_circular_prime ? False\n",
      "47 is prime,74 is not prime,is_circular_prime ? False\n",
      "53 is prime,35 is not prime,is_circular_prime ? False\n",
      "59 is prime,95 is not prime,is_circular_prime ? False\n",
      "61 is prime,16 is not prime,is_circular_prime ? False\n",
      "67 is prime,76 is not prime,is_circular_prime ? False\n",
      "71 is prime,17 is prime,is_circular_prime ? True\n",
      "73 is prime,37 is prime,is_circular_prime ? True\n",
      "79 is prime,97 is prime,is_circular_prime ? True\n",
      "83 is prime,38 is not prime,is_circular_prime ? False\n",
      "89 is prime,98 is not prime,is_circular_prime ? False\n",
      "97 is prime,79 is prime,is_circular_prime ? True\n",
      "101 is prime,011 is prime,110 is not prime,is_circular_prime ? False\n",
      "103 is prime,031 is prime,310 is not prime,is_circular_prime ? False\n",
      "107 is prime,071 is prime,710 is not prime,is_circular_prime ? False\n",
      "109 is prime,091 is not prime,910 is not prime,is_circular_prime ? False\n",
      "113 is prime,131 is prime,311 is prime,is_circular_prime ? True\n",
      "127 is prime,271 is prime,712 is not prime,is_circular_prime ? False\n",
      "131 is prime,311 is prime,113 is prime,is_circular_prime ? True\n",
      "137 is prime,371 is not prime,713 is not prime,is_circular_prime ? False\n",
      "139 is prime,391 is not prime,913 is not prime,is_circular_prime ? False\n",
      "149 is prime,491 is prime,914 is not prime,is_circular_prime ? False\n",
      "151 is prime,511 is not prime,115 is not prime,is_circular_prime ? False\n",
      "157 is prime,571 is prime,715 is not prime,is_circular_prime ? False\n",
      "163 is prime,631 is prime,316 is not prime,is_circular_prime ? False\n",
      "167 is prime,671 is not prime,716 is not prime,is_circular_prime ? False\n",
      "173 is prime,731 is not prime,317 is prime,is_circular_prime ? False\n",
      "179 is prime,791 is not prime,917 is not prime,is_circular_prime ? False\n",
      "181 is prime,811 is prime,118 is not prime,is_circular_prime ? False\n",
      "191 is prime,911 is prime,119 is not prime,is_circular_prime ? False\n",
      "193 is prime,931 is not prime,319 is not prime,is_circular_prime ? False\n",
      "197 is prime,971 is prime,719 is prime,is_circular_prime ? True\n",
      "199 is prime,991 is prime,919 is prime,is_circular_prime ? True\n"
     ]
    }
   ],
   "source": [
    "# Circular Number도 소수인지 확인.(200까지)\n",
    "\n",
    "def is_prime(number):\n",
    "    i=2\n",
    "    while i <= number**0.5:\n",
    "        if number % i == 0:\n",
    "            return False\n",
    "        i+=1\n",
    "    return True\n",
    "\n",
    "for i in range(2,201):\n",
    "    if is_prime(i):\n",
    "        print(i,\"is prime\",end=\",\")\n",
    "        string = str(i)\n",
    "        is_circular_prime = True\n",
    "        m=len(string)\n",
    "        for i in range(1,m):\n",
    "            string_new = string[i:]+string[:i]\n",
    "            if is_prime(int(string_new)):\n",
    "                print(string_new,\"is prime\",end=\",\")\n",
    "            else :\n",
    "                print(string_new,\"is not prime\",end=\",\")\n",
    "                is_circular_prime = False\n",
    "        print(\"is_circular_prime ?\",is_circular_prime)\n",
    "            "
   ]
  },
  {
   "cell_type": "code",
   "execution_count": 22,
   "metadata": {
    "scrolled": true
   },
   "outputs": [
    {
     "name": "stdout",
     "output_type": "stream",
     "text": [
      "2 is circular prime\n",
      "3 is circular prime\n",
      "5 is circular prime\n",
      "7 is circular prime\n",
      "11 is circular prime\n",
      "13 is circular prime\n",
      "17 is circular prime\n",
      "31 is circular prime\n",
      "37 is circular prime\n",
      "71 is circular prime\n",
      "73 is circular prime\n",
      "79 is circular prime\n",
      "97 is circular prime\n",
      "113 is circular prime\n",
      "131 is circular prime\n",
      "197 is circular prime\n",
      "199 is circular prime\n",
      "311 is circular prime\n",
      "337 is circular prime\n",
      "373 is circular prime\n",
      "719 is circular prime\n",
      "733 is circular prime\n",
      "919 is circular prime\n",
      "971 is circular prime\n",
      "991 is circular prime\n",
      "25\n"
     ]
    }
   ],
   "source": [
    "# 1000까지 카운트\n",
    "\n",
    "def is_prime(number):\n",
    "    i=2\n",
    "    while i <= number**0.5:\n",
    "        if number % i == 0:\n",
    "            return False\n",
    "        i+=1\n",
    "    return True\n",
    "\n",
    "count=0\n",
    "for i in range(2,1000):\n",
    "    if is_prime(i):\n",
    "        #print(i,\"is prime\",end=\",\")\n",
    "        string = str(i)\n",
    "        is_circular_prime = True\n",
    "        m=len(string)\n",
    "        for j in range(1,m):\n",
    "            string_new = string[j:]+string[:j]\n",
    "            if not is_prime(int(string_new)):\n",
    "                is_circular_prime = False\n",
    "        if is_circular_prime:\n",
    "            print(i,\"is circular prime\")\n",
    "            count+=1\n",
    "print(count)\n",
    "            "
   ]
  },
  {
   "cell_type": "code",
   "execution_count": 23,
   "metadata": {
    "scrolled": true
   },
   "outputs": [
    {
     "name": "stdout",
     "output_type": "stream",
     "text": [
      "55\n"
     ]
    }
   ],
   "source": [
    "# 1000000까지 카운트\n",
    "\n",
    "def is_prime(number):\n",
    "    i=2\n",
    "    while i <= number**0.5:\n",
    "        if number % i == 0:\n",
    "            return False\n",
    "        i+=1\n",
    "    return True\n",
    "\n",
    "count=0\n",
    "for i in range(2,1000000):\n",
    "    if is_prime(i):\n",
    "        #print(i,\"is prime\",end=\",\")\n",
    "        string = str(i)\n",
    "        is_circular_prime = True\n",
    "        m=len(string)\n",
    "        for j in range(1,m):\n",
    "            string_new = string[j:]+string[:j]\n",
    "            if not is_prime(int(string_new)):\n",
    "                is_circular_prime = False\n",
    "        if is_circular_prime:\n",
    "            #print(i,\"is circular prime\")\n",
    "            count+=1\n",
    "print(count)\n",
    "            "
   ]
  }
 ],
 "metadata": {
  "kernelspec": {
   "display_name": "Python 3",
   "language": "python",
   "name": "python3"
  },
  "language_info": {
   "codemirror_mode": {
    "name": "ipython",
    "version": 3
   },
   "file_extension": ".py",
   "mimetype": "text/x-python",
   "name": "python",
   "nbconvert_exporter": "python",
   "pygments_lexer": "ipython3",
   "version": "3.5.2"
  }
 },
 "nbformat": 4,
 "nbformat_minor": 2
}
