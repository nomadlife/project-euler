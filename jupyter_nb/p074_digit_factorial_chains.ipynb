{
 "cells": [
  {
   "cell_type": "markdown",
   "metadata": {},
   "source": [
    "## p074"
   ]
  },
  {
   "cell_type": "code",
   "execution_count": 14,
   "metadata": {},
   "outputs": [
    {
     "name": "stdout",
     "output_type": "stream",
     "text": [
      "872 45362\n"
     ]
    }
   ],
   "source": [
    "# digit -> factorial\n",
    "def fact(num):\n",
    "    total=1\n",
    "    for i in range(1,num+1):\n",
    "        total*=i\n",
    "    return total\n",
    "\n",
    "def func(num):\n",
    "    value=sum([fact(int(x)) for x in str(num)])\n",
    "    print(value)\n",
    "\n",
    "def func2(num):\n",
    "    total=0\n",
    "    for i in str(num):\n",
    "        total+=fact(int(i))\n",
    "    print(num,total)\n",
    "\n",
    "func2(872)"
   ]
  },
  {
   "cell_type": "code",
   "execution_count": 47,
   "metadata": {
    "scrolled": true
   },
   "outputs": [
    {
     "name": "stdout",
     "output_type": "stream",
     "text": [
      "69 {69}\n",
      "363600 {363600, 69}\n",
      "1454 {363600, 69, 1454}\n",
      "169 {363600, 169, 69, 1454}\n",
      "363601 {69, 169, 1454, 363600, 363601}\n"
     ]
    },
    {
     "data": {
      "text/plain": [
       "5"
      ]
     },
     "execution_count": 47,
     "metadata": {},
     "output_type": "execute_result"
    }
   ],
   "source": [
    "def fact(num):\n",
    "    total=1\n",
    "    for i in range(1,num+1):\n",
    "        total*=i\n",
    "    return total\n",
    "\n",
    "def func(num):\n",
    "    total=0\n",
    "    for i in str(num):\n",
    "        total+=fact(int(i))\n",
    "    print(num,chain)\n",
    "    if total not in chain:\n",
    "        chain.add(total)\n",
    "        return func(total)+1\n",
    "    return 1\n",
    "    \n",
    "target=69\n",
    "chain={target}\n",
    "func(target)"
   ]
  },
  {
   "cell_type": "code",
   "execution_count": 51,
   "metadata": {
    "scrolled": true
   },
   "outputs": [
    {
     "name": "stdout",
     "output_type": "stream",
     "text": [
      "2 1\n",
      "3 16\n",
      "4 8\n",
      "5 10\n",
      "6 15\n",
      "7 32\n",
      "8 36\n",
      "9 35\n",
      "10 2\n",
      "11 2\n",
      "12 17\n",
      "13 33\n",
      "14 13\n",
      "15 10\n",
      "16 15\n",
      "17 32\n",
      "18 36\n",
      "19 35\n",
      "20 17\n",
      "21 17\n",
      "22 9\n",
      "23 37\n",
      "24 7\n",
      "25 12\n",
      "26 6\n",
      "27 8\n",
      "28 33\n",
      "29 31\n",
      "30 33\n",
      "31 33\n",
      "32 37\n",
      "33 18\n",
      "34 34\n",
      "35 31\n",
      "36 48\n",
      "37 39\n",
      "38 24\n",
      "39 8\n",
      "40 13\n",
      "41 13\n",
      "42 7\n",
      "43 34\n",
      "44 30\n",
      "45 54\n",
      "46 42\n",
      "47 39\n",
      "48 29\n",
      "49 52\n",
      "50 10\n",
      "51 10\n",
      "52 12\n",
      "53 31\n",
      "54 54\n",
      "55 10\n",
      "56 24\n",
      "57 21\n",
      "58 41\n",
      "59 24\n",
      "60 15\n",
      "61 15\n",
      "62 6\n",
      "63 48\n",
      "64 42\n",
      "65 24\n",
      "66 12\n",
      "67 42\n",
      "68 12\n",
      "69 5\n",
      "70 32\n",
      "71 32\n",
      "72 8\n",
      "73 39\n",
      "74 39\n",
      "75 21\n",
      "76 42\n",
      "77 24\n",
      "78 4\n",
      "79 27\n",
      "80 36\n",
      "81 36\n",
      "82 33\n",
      "83 24\n",
      "84 29\n",
      "85 41\n",
      "86 12\n",
      "87 4\n",
      "88 42\n",
      "89 33\n",
      "90 35\n",
      "91 35\n",
      "92 31\n",
      "93 8\n",
      "94 52\n",
      "95 24\n",
      "96 5\n",
      "97 27\n",
      "98 33\n",
      "99 36\n"
     ]
    }
   ],
   "source": [
    "def fact(num):\n",
    "    total=1\n",
    "    for i in range(1,num+1):\n",
    "        total*=i\n",
    "    return total\n",
    "\n",
    "def func(num):\n",
    "    total=0\n",
    "    for i in str(num):\n",
    "        total+=fact(int(i))\n",
    "    if total not in chain:\n",
    "        chain.add(total)\n",
    "        func(total)\n",
    "\n",
    "for i in range(2,100):\n",
    "    chain={i}\n",
    "    func(i)\n",
    "    print(i,len(chain))"
   ]
  },
  {
   "cell_type": "code",
   "execution_count": 56,
   "metadata": {
    "scrolled": true
   },
   "outputs": [
    {
     "name": "stdout",
     "output_type": "stream",
     "text": [
      "42\n"
     ]
    }
   ],
   "source": [
    "def fact(num):\n",
    "    total=1\n",
    "    for i in range(1,num+1):\n",
    "        total*=i\n",
    "    return total\n",
    "\n",
    "def func(num):\n",
    "    total=0\n",
    "    for i in str(num):\n",
    "        total+=fact(int(i))\n",
    "    if total not in chain:\n",
    "        chain.add(total)\n",
    "        func(total)\n",
    "\n",
    "count=0\n",
    "for i in range(2,10000):\n",
    "    chain={i}\n",
    "    func(i)\n",
    "    if len(chain) == 60:\n",
    "        count+=1\n",
    "print(count)"
   ]
  }
 ],
 "metadata": {
  "kernelspec": {
   "display_name": "Python 3",
   "language": "python",
   "name": "python3"
  },
  "language_info": {
   "codemirror_mode": {
    "name": "ipython",
    "version": 3
   },
   "file_extension": ".py",
   "mimetype": "text/x-python",
   "name": "python",
   "nbconvert_exporter": "python",
   "pygments_lexer": "ipython3",
   "version": "3.6.5"
  }
 },
 "nbformat": 4,
 "nbformat_minor": 2
}
