{
 "cells": [
  {
   "cell_type": "markdown",
   "metadata": {},
   "source": [
    "# p065"
   ]
  },
  {
   "cell_type": "code",
   "execution_count": 14,
   "metadata": {},
   "outputs": [
    {
     "name": "stdout",
     "output_type": "stream",
     "text": [
      "0 2\n",
      "1 1\n",
      "2 2\n",
      "3 1\n",
      "4 1 1\n",
      "5 2 2\n",
      "6 3 1\n",
      "7 1 1\n",
      "8 2 2\n",
      "9 3 1\n",
      "10 1 1\n",
      "11 2 2\n",
      "12 3 1\n",
      "13 1 1\n",
      "14 2 2\n",
      "15 3 1\n",
      "16 1 1\n",
      "17 2 2\n",
      "18 3 1\n",
      "19 1 1\n"
     ]
    }
   ],
   "source": [
    "p=[2,1,2,1]\n",
    "for i in range(20):\n",
    "    if i >= len(p):\n",
    "        v=(i-1)%3+1\n",
    "        print(i,v,p[v])\n",
    "    else:\n",
    "        print(i,p[i])"
   ]
  },
  {
   "cell_type": "code",
   "execution_count": 19,
   "metadata": {},
   "outputs": [
    {
     "name": "stdout",
     "output_type": "stream",
     "text": [
      "0 2\n",
      "1 1\n",
      "2 2\n",
      "3 1\n",
      "4 1 1\n",
      "5 2 4\n",
      "6 3 1\n",
      "7 1 1\n",
      "8 2 6\n",
      "9 3 1\n",
      "10 1 1\n",
      "11 2 8\n",
      "12 3 1\n",
      "13 1 1\n",
      "14 2 10\n",
      "15 3 1\n",
      "16 1 1\n",
      "17 2 12\n",
      "18 3 1\n",
      "19 1 1\n"
     ]
    }
   ],
   "source": [
    "p=[2,1,2,1]\n",
    "for i in range(20):\n",
    "    if i >= len(p):\n",
    "        v=(i-1)%3+1\n",
    "        if v==2:\n",
    "            print(i,v,p[v]*(i//3+1))\n",
    "        else:\n",
    "            print(i,v,p[v])\n",
    "    else:\n",
    "        print(i,p[i])"
   ]
  },
  {
   "cell_type": "code",
   "execution_count": 23,
   "metadata": {},
   "outputs": [
    {
     "name": "stdout",
     "output_type": "stream",
     "text": [
      "0 2\n",
      "1 1\n",
      "2 2\n",
      "3 1\n",
      "4 1 1 1\n",
      "5 2 4 2 *\n",
      "6 0 2 0\n",
      "7 1 1 1\n",
      "8 2 6 2 *\n",
      "9 0 2 0\n",
      "10 1 1 1\n",
      "11 2 8 2 *\n",
      "12 0 2 0\n",
      "13 1 1 1\n",
      "14 2 10 2 *\n",
      "15 0 2 0\n",
      "16 1 1 1\n",
      "17 2 12 2 *\n",
      "18 0 2 0\n",
      "19 1 1 1\n"
     ]
    }
   ],
   "source": [
    "# for test\n",
    "p=[2,1,2,1]\n",
    "for i in range(20):\n",
    "    if i >= len(p):\n",
    "        v=i%3\n",
    "        if v==2:\n",
    "            print(i,v,p[v]*(i//3+1),i%3,'*')\n",
    "        else:\n",
    "            print(i,v,p[v],i%3)\n",
    "    else:\n",
    "        print(i,p[i])"
   ]
  },
  {
   "cell_type": "code",
   "execution_count": 27,
   "metadata": {},
   "outputs": [
    {
     "name": "stdout",
     "output_type": "stream",
     "text": [
      "0 2\n",
      "1 1\n",
      "2 2\n",
      "3 1\n",
      "4 1 1\n",
      "5 2 4\n",
      "6 3 1\n",
      "7 1 1\n",
      "8 2 6\n",
      "9 3 1\n",
      "10 1 1\n",
      "11 2 8\n",
      "12 3 1\n",
      "13 1 1\n",
      "14 2 10\n",
      "15 3 1\n",
      "16 1 1\n",
      "17 2 12\n",
      "18 3 1\n",
      "19 1 1\n"
     ]
    }
   ],
   "source": [
    "# simple\n",
    "p=[2,1,2,1]\n",
    "for i in range(20):\n",
    "    v=(i-1)%3+1\n",
    "    if i < len(p):\n",
    "        print(i,p[i])\n",
    "    elif v==2:\n",
    "        print(i,v,p[v]*(i//3+1))\n",
    "    else:\n",
    "        print(i,v,p[v])\n",
    "        "
   ]
  },
  {
   "cell_type": "code",
   "execution_count": 51,
   "metadata": {},
   "outputs": [
    {
     "name": "stdout",
     "output_type": "stream",
     "text": [
      "[1, 2, 2]\n"
     ]
    }
   ],
   "source": [
    "t=[1,2]\n",
    "t.extend([len(t)])\n",
    "print(t)"
   ]
  },
  {
   "cell_type": "code",
   "execution_count": 48,
   "metadata": {},
   "outputs": [
    {
     "name": "stdout",
     "output_type": "stream",
     "text": [
      "[1, 2, 2]\n"
     ]
    }
   ],
   "source": [
    "t=[1,2]\n",
    "t[len(t):]=[len(t)]\n",
    "print(t)"
   ]
  },
  {
   "cell_type": "code",
   "execution_count": 52,
   "metadata": {},
   "outputs": [
    {
     "name": "stdout",
     "output_type": "stream",
     "text": [
      "[1, 2, 2]\n",
      "[1, 2, 2, 3]\n",
      "[1, 2, 2, 3, 4]\n",
      "[1, 2, 2, 3, 4, 5]\n",
      "[1, 2, 2, 3, 4, 5, 6]\n",
      "[1, 2, 2, 3, 4, 5, 6, 7]\n",
      "[1, 2, 2, 3, 4, 5, 6, 7, 8]\n",
      "[1, 2, 2, 3, 4, 5, 6, 7, 8, 9]\n",
      "[1, 2, 2, 3, 4, 5, 6, 7, 8, 9, 10]\n",
      "[1, 2, 2, 3, 4, 5, 6, 7, 8, 9, 10, 11]\n"
     ]
    }
   ],
   "source": [
    "t=[1,2]\n",
    "for i in range(10):\n",
    "    t.extend([len(t)])\n",
    "    print(t)"
   ]
  },
  {
   "cell_type": "code",
   "execution_count": 54,
   "metadata": {},
   "outputs": [
    {
     "data": {
      "text/plain": [
       "3"
      ]
     },
     "execution_count": 54,
     "metadata": {},
     "output_type": "execute_result"
    }
   ],
   "source": [
    "t=[1,2,3]\n",
    "t[-1]"
   ]
  },
  {
   "cell_type": "code",
   "execution_count": 55,
   "metadata": {},
   "outputs": [
    {
     "name": "stdout",
     "output_type": "stream",
     "text": [
      "[1, 2, 2]\n",
      "[1, 2, 2, 2]\n",
      "[1, 2, 2, 2, 2]\n",
      "[1, 2, 2, 2, 2, 2]\n",
      "[1, 2, 2, 2, 2, 2, 2]\n",
      "[1, 2, 2, 2, 2, 2, 2, 2]\n",
      "[1, 2, 2, 2, 2, 2, 2, 2, 2]\n",
      "[1, 2, 2, 2, 2, 2, 2, 2, 2, 2]\n",
      "[1, 2, 2, 2, 2, 2, 2, 2, 2, 2, 2]\n",
      "[1, 2, 2, 2, 2, 2, 2, 2, 2, 2, 2, 2]\n"
     ]
    }
   ],
   "source": [
    "t=[1,2]\n",
    "for i in range(10):\n",
    "    t.extend([t[-1]])\n",
    "    print(t)"
   ]
  },
  {
   "cell_type": "code",
   "execution_count": 60,
   "metadata": {},
   "outputs": [
    {
     "name": "stdout",
     "output_type": "stream",
     "text": [
      "[0, 1, 2, 3, 1]\n",
      "[0, 1, 2, 3, 1, 2]\n",
      "[0, 1, 2, 3, 1, 2, 3]\n",
      "[0, 1, 2, 3, 1, 2, 3, 1]\n",
      "[0, 1, 2, 3, 1, 2, 3, 1, 2]\n",
      "[0, 1, 2, 3, 1, 2, 3, 1, 2, 3]\n",
      "[0, 1, 2, 3, 1, 2, 3, 1, 2, 3, 1]\n",
      "[0, 1, 2, 3, 1, 2, 3, 1, 2, 3, 1, 2]\n",
      "[0, 1, 2, 3, 1, 2, 3, 1, 2, 3, 1, 2, 3]\n",
      "[0, 1, 2, 3, 1, 2, 3, 1, 2, 3, 1, 2, 3, 1]\n"
     ]
    }
   ],
   "source": [
    "t=[0,1,2,3]\n",
    "for i in range(10):\n",
    "    t.extend([t[i%3+1]])\n",
    "    print(t)"
   ]
  },
  {
   "cell_type": "code",
   "execution_count": 72,
   "metadata": {},
   "outputs": [
    {
     "name": "stdout",
     "output_type": "stream",
     "text": [
      "[2, 1, 2, 1]\n",
      "[2, 1, 2, 1, 1]\n",
      "[2, 1, 2, 1, 1, 2]\n",
      "[2, 1, 2, 1, 1, 2, 1]\n",
      "[2, 1, 2, 1, 1, 2, 1, 1]\n",
      "[2, 1, 2, 1, 1, 2, 1, 1, 2]\n"
     ]
    }
   ],
   "source": [
    "# recursion\n",
    "target=10\n",
    "def func(alist,n=0):\n",
    "    if len(alist)==target:\n",
    "        return\n",
    "    print(alist)\n",
    "    alist.extend([alist[n%3+1]])\n",
    "    func(alist,n+1)\n",
    "func([2,1,2,1])\n"
   ]
  },
  {
   "cell_type": "code",
   "execution_count": 80,
   "metadata": {},
   "outputs": [
    {
     "name": "stdout",
     "output_type": "stream",
     "text": [
      "[2, 1, 2, 1]\n",
      "[2, 1, 2, 1, 1]\n",
      "[2, 1, 2, 1, 1, 4]\n",
      "[2, 1, 2, 1, 1, 4, 1]\n",
      "[2, 1, 2, 1, 1, 4, 1, 1]\n",
      "[2, 1, 2, 1, 1, 4, 1, 1, 6]\n",
      "[2, 1, 2, 1, 1, 4, 1, 1, 6, 1]\n",
      "[2, 1, 2, 1, 1, 4, 1, 1, 6, 1, 1]\n",
      "[2, 1, 2, 1, 1, 4, 1, 1, 6, 1, 1, 8]\n",
      "[2, 1, 2, 1, 1, 4, 1, 1, 6, 1, 1, 8, 1]\n",
      "[2, 1, 2, 1, 1, 4, 1, 1, 6, 1, 1, 8, 1, 1]\n",
      "[2, 1, 2, 1, 1, 4, 1, 1, 6, 1, 1, 8, 1, 1, 10]\n",
      "[2, 1, 2, 1, 1, 4, 1, 1, 6, 1, 1, 8, 1, 1, 10, 1]\n",
      "[2, 1, 2, 1, 1, 4, 1, 1, 6, 1, 1, 8, 1, 1, 10, 1, 1]\n",
      "[2, 1, 2, 1, 1, 4, 1, 1, 6, 1, 1, 8, 1, 1, 10, 1, 1, 12]\n",
      "[2, 1, 2, 1, 1, 4, 1, 1, 6, 1, 1, 8, 1, 1, 10, 1, 1, 12, 1]\n"
     ]
    }
   ],
   "source": [
    "# recursion -2\n",
    "def func(alist,n=0):\n",
    "    if len(alist) != target:\n",
    "        print(alist)\n",
    "        if n%3 ==1:\n",
    "            alist.extend([alist[n%3+1]*(n//3+2)])\n",
    "        else:\n",
    "            alist.extend([alist[n%3+1]])\n",
    "        func(alist,n+1)\n",
    "    return\n",
    "\n",
    "target=20\n",
    "func([2,1,2,1])"
   ]
  },
  {
   "cell_type": "code",
   "execution_count": 87,
   "metadata": {},
   "outputs": [
    {
     "name": "stdout",
     "output_type": "stream",
     "text": [
      "[2, 1, 2, 1]\n",
      "[2, 1, 2, 1, 1]\n",
      "[2, 1, 2, 1, 1, 4]\n",
      "[2, 1, 2, 1, 1, 4, 1]\n",
      "[2, 1, 2, 1, 1, 4, 1, 1]\n",
      "[2, 1, 2, 1, 1, 4, 1, 1, 6]\n",
      "[2, 1, 2, 1, 1, 4, 1, 1, 6, 1]\n",
      "[2, 1, 2, 1, 1, 4, 1, 1, 6, 1, 1]\n",
      "[2, 1, 2, 1, 1, 4, 1, 1, 6, 1, 1, 8]\n",
      "[2, 1, 2, 1, 1, 4, 1, 1, 6, 1, 1, 8, 1]\n",
      "[2, 1, 2, 1, 1, 4, 1, 1, 6, 1, 1, 8, 1, 1]\n",
      "[2, 1, 2, 1, 1, 4, 1, 1, 6, 1, 1, 8, 1, 1, 10]\n",
      "[2, 1, 2, 1, 1, 4, 1, 1, 6, 1, 1, 8, 1, 1, 10, 1]\n",
      "[2, 1, 2, 1, 1, 4, 1, 1, 6, 1, 1, 8, 1, 1, 10, 1, 1]\n",
      "[2, 1, 2, 1, 1, 4, 1, 1, 6, 1, 1, 8, 1, 1, 10, 1, 1, 12]\n",
      "[2, 1, 2, 1, 1, 4, 1, 1, 6, 1, 1, 8, 1, 1, 10, 1, 1, 12, 1]\n"
     ]
    }
   ],
   "source": [
    "# recursion -3\n",
    "def func(alist,n=0):\n",
    "    if len(alist) != target:\n",
    "        print(alist)\n",
    "        value=alist[n%3+1]\n",
    "        if n%3 ==1:\n",
    "            value = value*(n//3+2)\n",
    "        alist.extend([value])\n",
    "        func(alist,n+1)\n",
    "    return\n",
    "\n",
    "target=20\n",
    "func([2,1,2,1])"
   ]
  },
  {
   "cell_type": "code",
   "execution_count": 95,
   "metadata": {},
   "outputs": [
    {
     "name": "stdout",
     "output_type": "stream",
     "text": [
      "[2, 1, 2, 1, 1]\n",
      "[2, 1, 2, 1, 1, 4]\n",
      "[2, 1, 2, 1, 1, 4, 1]\n",
      "[2, 1, 2, 1, 1, 4, 1, 1]\n",
      "[2, 1, 2, 1, 1, 4, 1, 1, 6]\n",
      "[2, 1, 2, 1, 1, 4, 1, 1, 6, 1]\n",
      "[2, 1, 2, 1, 1, 4, 1, 1, 6, 1, 1]\n",
      "[2, 1, 2, 1, 1, 4, 1, 1, 6, 1, 1, 8]\n",
      "[2, 1, 2, 1, 1, 4, 1, 1, 6, 1, 1, 8, 1]\n",
      "[2, 1, 2, 1, 1, 4, 1, 1, 6, 1, 1, 8, 1, 1]\n"
     ]
    }
   ],
   "source": [
    "# loop\n",
    "alist=[2,1,2,1]\n",
    "for n in range(10):\n",
    "    value=alist[n%3+1]\n",
    "    if n%3 ==1:\n",
    "        value *= n//3+2\n",
    "    alist.extend([value])\n",
    "    print(alist)"
   ]
  },
  {
   "cell_type": "code",
   "execution_count": 100,
   "metadata": {},
   "outputs": [
    {
     "name": "stdout",
     "output_type": "stream",
     "text": [
      "1\n",
      "3.0\n",
      "1.3333333333333333\n"
     ]
    },
    {
     "data": {
      "text/plain": [
       "2.75"
      ]
     },
     "execution_count": 100,
     "metadata": {},
     "output_type": "execute_result"
    }
   ],
   "source": [
    "def func(i=0):\n",
    "    if i+1==len(arr):\n",
    "        return arr[i]\n",
    "    else:\n",
    "        v = func(i+1)\n",
    "        print(v)\n",
    "        return arr[i]+1/v\n",
    "\n",
    "arr=[2,1,2,1]\n",
    "func()"
   ]
  },
  {
   "cell_type": "code",
   "execution_count": 104,
   "metadata": {},
   "outputs": [
    {
     "name": "stdout",
     "output_type": "stream",
     "text": [
      "2.75\n",
      "[2, 1, 2, 1, 1]\n",
      "2.7142857142857144\n",
      "[2, 1, 2, 1, 1, 4]\n",
      "2.71875\n",
      "[2, 1, 2, 1, 1, 4, 1]\n",
      "2.717948717948718\n",
      "[2, 1, 2, 1, 1, 4, 1, 1]\n",
      "2.7183098591549295\n",
      "[2, 1, 2, 1, 1, 4, 1, 1, 6]\n",
      "2.718279569892473\n",
      "[2, 1, 2, 1, 1, 4, 1, 1, 6, 1]\n",
      "2.718283582089552\n",
      "[2, 1, 2, 1, 1, 4, 1, 1, 6, 1, 1]\n",
      "2.7182817182817183\n",
      "[2, 1, 2, 1, 1, 4, 1, 1, 6, 1, 1, 8]\n",
      "2.7182818352059925\n",
      "[2, 1, 2, 1, 1, 4, 1, 1, 6, 1, 1, 8, 1]\n",
      "2.7182818229439496\n",
      "[2, 1, 2, 1, 1, 4, 1, 1, 6, 1, 1, 8, 1, 1]\n"
     ]
    }
   ],
   "source": [
    "def func(i=0):\n",
    "    if i+1==len(arr):\n",
    "        return arr[i]\n",
    "    else:\n",
    "        v = func(i+1)\n",
    "        return arr[i]+1/v\n",
    "\n",
    "arr=[2,1,2,1]\n",
    "for n in range(10):\n",
    "    print(func())\n",
    "    value=arr[n%3+1]\n",
    "    if n%3 ==1:\n",
    "        value *= n//3+2\n",
    "    arr.extend([value])\n",
    "    print(arr)\n",
    "    "
   ]
  },
  {
   "cell_type": "code",
   "execution_count": 44,
   "metadata": {},
   "outputs": [
    {
     "name": "stdout",
     "output_type": "stream",
     "text": [
      "[2, 1, 2, 1] 0\n",
      "end 1 1 3\n",
      "else 1 3 2\n",
      "else 3 4 1\n",
      "else 4 11 0\n",
      "(11, 4)\n",
      "[2, 1, 2, 1, 1] 1\n",
      "end 1 1 4\n",
      "else 1 2 3\n",
      "else 2 5 2\n",
      "else 5 7 1\n",
      "else 7 19 0\n",
      "(19, 7)\n",
      "[2, 1, 2, 1, 1, 4] 2\n",
      "end 1 4 5\n",
      "else 4 5 4\n",
      "else 5 9 3\n",
      "else 9 23 2\n",
      "else 23 32 1\n",
      "else 32 87 0\n",
      "(87, 32)\n",
      "[2, 1, 2, 1, 1, 4, 1] 3\n",
      "end 1 1 6\n",
      "else 1 5 5\n",
      "else 5 6 4\n",
      "else 6 11 3\n",
      "else 11 28 2\n",
      "else 28 39 1\n",
      "else 39 106 0\n",
      "(106, 39)\n",
      "[2, 1, 2, 1, 1, 4, 1, 1] 4\n",
      "end 1 1 7\n",
      "else 1 2 6\n",
      "else 2 9 5\n",
      "else 9 11 4\n",
      "else 11 20 3\n",
      "else 20 51 2\n",
      "else 51 71 1\n",
      "else 71 193 0\n",
      "(193, 71)\n",
      "[2, 1, 2, 1, 1, 4, 1, 1, 6] 5\n",
      "end 1 6 8\n",
      "else 6 7 7\n",
      "else 7 13 6\n",
      "else 13 59 5\n",
      "else 59 72 4\n",
      "else 72 131 3\n",
      "else 131 334 2\n",
      "else 334 465 1\n",
      "else 465 1264 0\n",
      "(1264, 465)\n",
      "[2, 1, 2, 1, 1, 4, 1, 1, 6, 1] 6\n",
      "end 1 1 9\n",
      "else 1 7 8\n",
      "else 7 8 7\n",
      "else 8 15 6\n",
      "else 15 68 5\n",
      "else 68 83 4\n",
      "else 83 151 3\n",
      "else 151 385 2\n",
      "else 385 536 1\n",
      "else 536 1457 0\n",
      "(1457, 536)\n",
      "[2, 1, 2, 1, 1, 4, 1, 1, 6, 1, 1] 7\n",
      "end 1 1 10\n",
      "else 1 2 9\n",
      "else 2 13 8\n",
      "else 13 15 7\n",
      "else 15 28 6\n",
      "else 28 127 5\n",
      "else 127 155 4\n",
      "else 155 282 3\n",
      "else 282 719 2\n",
      "else 719 1001 1\n",
      "else 1001 2721 0\n",
      "(2721, 1001)\n",
      "[2, 1, 2, 1, 1, 4, 1, 1, 6, 1, 1, 8] 8\n",
      "end 1 8 11\n",
      "else 8 9 10\n",
      "else 9 17 9\n",
      "else 17 111 8\n",
      "else 111 128 7\n",
      "else 128 239 6\n",
      "else 239 1084 5\n",
      "else 1084 1323 4\n",
      "else 1323 2407 3\n",
      "else 2407 6137 2\n",
      "else 6137 8544 1\n",
      "else 8544 23225 0\n",
      "(23225, 8544)\n",
      "[2, 1, 2, 1, 1, 4, 1, 1, 6, 1, 1, 8, 1] 9\n",
      "end 1 1 12\n",
      "else 1 9 11\n",
      "else 9 10 10\n",
      "else 10 19 9\n",
      "else 19 124 8\n",
      "else 124 143 7\n",
      "else 143 267 6\n",
      "else 267 1211 5\n",
      "else 1211 1478 4\n",
      "else 1478 2689 3\n",
      "else 2689 6856 2\n",
      "else 6856 9545 1\n",
      "else 9545 25946 0\n",
      "(25946, 9545)\n"
     ]
    }
   ],
   "source": [
    "# num, den\n",
    "def func(i=0):\n",
    "    if i+1==len(arr):\n",
    "        print('end',1,arr[i],i)\n",
    "        return arr[i],1\n",
    "    else:\n",
    "        den,num = func(i+1)\n",
    "        num_n = arr[i]*den+num\n",
    "        print('else',den,num_n,i)\n",
    "        return num_n,den\n",
    "\n",
    "arr=[2,1,2,1]\n",
    "for n in range(10):\n",
    "    print(arr,n)\n",
    "    print(func())\n",
    "    value=arr[n%3+1]\n",
    "    if n%3 ==1:\n",
    "        value *= n//3+2\n",
    "    arr.extend([value])\n",
    "    \n",
    "    "
   ]
  },
  {
   "cell_type": "code",
   "execution_count": 49,
   "metadata": {},
   "outputs": [
    {
     "name": "stdout",
     "output_type": "stream",
     "text": [
      "[1, 2] 0\n",
      "3 2 1.5\n",
      "[1, 2, 2] 1\n",
      "7 5 1.4\n",
      "[1, 2, 2, 2] 2\n",
      "17 12 1.4166666666666667\n",
      "[1, 2, 2, 2, 2] 3\n",
      "41 29 1.4137931034482758\n",
      "[1, 2, 2, 2, 2, 2] 4\n",
      "99 70 1.4142857142857144\n",
      "[1, 2, 2, 2, 2, 2, 2] 5\n",
      "239 169 1.4142011834319526\n",
      "[1, 2, 2, 2, 2, 2, 2, 2] 6\n",
      "577 408 1.4142156862745099\n",
      "[1, 2, 2, 2, 2, 2, 2, 2, 2] 7\n",
      "1393 985 1.4142131979695431\n",
      "[1, 2, 2, 2, 2, 2, 2, 2, 2, 2] 8\n",
      "3363 2378 1.4142136248948696\n",
      "[1, 2, 2, 2, 2, 2, 2, 2, 2, 2, 2] 9\n",
      "8119 5741 1.4142135516460548\n"
     ]
    }
   ],
   "source": [
    "# num, den : test\n",
    "def func(i=0):\n",
    "    if i==len(arr)-1:\n",
    "        return arr[i],1\n",
    "    else:\n",
    "        den,num = func(i+1)\n",
    "        num_n = arr[i]*den+num\n",
    "        return num_n,den\n",
    "\n",
    "arr=[1,2]\n",
    "for n in range(10):\n",
    "    print(arr,n)\n",
    "    nu,de=func()\n",
    "    print(nu,de,nu/de)\n",
    "    arr.extend([2])\n"
   ]
  },
  {
   "cell_type": "code",
   "execution_count": 48,
   "metadata": {},
   "outputs": [
    {
     "name": "stdout",
     "output_type": "stream",
     "text": [
      "[2, 1, 2, 1] 0\n",
      "11 4 2.75\n",
      "[2, 1, 2, 1, 1] 1\n",
      "19 7 2.7142857142857144\n",
      "[2, 1, 2, 1, 1, 4] 2\n",
      "87 32 2.71875\n",
      "[2, 1, 2, 1, 1, 4, 1] 3\n",
      "106 39 2.717948717948718\n",
      "[2, 1, 2, 1, 1, 4, 1, 1] 4\n",
      "193 71 2.7183098591549295\n",
      "[2, 1, 2, 1, 1, 4, 1, 1, 6] 5\n",
      "1264 465 2.718279569892473\n",
      "[2, 1, 2, 1, 1, 4, 1, 1, 6, 1] 6\n",
      "1457 536 2.718283582089552\n",
      "[2, 1, 2, 1, 1, 4, 1, 1, 6, 1, 1] 7\n",
      "2721 1001 2.7182817182817183\n",
      "[2, 1, 2, 1, 1, 4, 1, 1, 6, 1, 1, 8] 8\n",
      "23225 8544 2.7182818352059925\n",
      "[2, 1, 2, 1, 1, 4, 1, 1, 6, 1, 1, 8, 1] 9\n",
      "25946 9545 2.7182818229439496\n"
     ]
    }
   ],
   "source": [
    "# sol-1\n",
    "def func(i=0):\n",
    "    if i==len(arr)-1:\n",
    "        return arr[i],1\n",
    "    else:\n",
    "        den,num = func(i+1)\n",
    "        num_n = arr[i]*den+num\n",
    "        return num_n,den\n",
    "\n",
    "arr=[2,1,2,1]\n",
    "for n in range(10):\n",
    "    print(arr,n)\n",
    "    nu,de=func()\n",
    "    print(nu,de,nu/de)\n",
    "    value=arr[n%3+1]\n",
    "    if n%3 ==1:\n",
    "        value *= n//3+2\n",
    "    arr.extend([value])"
   ]
  },
  {
   "cell_type": "code",
   "execution_count": 51,
   "metadata": {},
   "outputs": [
    {
     "name": "stdout",
     "output_type": "stream",
     "text": [
      "[2, 1, 2, 1, 1, 4, 1, 1, 6, 1, 1, 8, 1, 1, 10, 1, 1, 12, 1, 1, 14, 1, 1, 16, 1, 1, 18, 1, 1, 20, 1, 1, 22, 1, 1, 24, 1, 1, 26, 1, 1, 28, 1, 1, 30, 1, 1, 32, 1, 1, 34, 1, 1, 36, 1, 1, 38, 1, 1, 40, 1, 1, 42, 1, 1, 44, 1, 1, 46, 1, 1, 48, 1, 1, 50, 1, 1, 52, 1, 1, 54, 1, 1, 56, 1, 1, 58, 1, 1, 60, 1, 1, 62, 1, 1, 64, 1, 1, 66, 1] 96\n",
      "6963524437876961749120273824619538346438023188214475670667 2561737478789858711161539537921323010415623148113041714756 2.718281828459045\n",
      "272\n"
     ]
    }
   ],
   "source": [
    "# sol-2\n",
    "def func(i=0):\n",
    "    if i==len(arr)-1:\n",
    "        return arr[i],1\n",
    "    else:\n",
    "        den,num = func(i+1)\n",
    "        num_n = arr[i]*den+num\n",
    "        return num_n,den\n",
    "\n",
    "arr=[2,1,2,1]\n",
    "for n in range(100):\n",
    "    if len(arr)==100:\n",
    "        print(arr,n)\n",
    "        nu,de=func()\n",
    "        print(nu,de,nu/de)\n",
    "        print(sum([int(x) for x in str(nu)]))\n",
    "    value=arr[n%3+1]\n",
    "    if n%3 ==1:\n",
    "        value *= n//3+2\n",
    "    arr.extend([value])"
   ]
  },
  {
   "cell_type": "code",
   "execution_count": 21,
   "metadata": {},
   "outputs": [
    {
     "name": "stdout",
     "output_type": "stream",
     "text": [
      "6963524437876961749120273824619538346438023188214475670667 2561737478789858711161539537921323010415623148113041714756 2.718281828459045\n",
      "272\n"
     ]
    }
   ],
   "source": [
    "# sol-3\n",
    "def func(i=0):\n",
    "    if i==target-1:\n",
    "        return arr[i],1\n",
    "    else:\n",
    "        den,num = func(i+1)\n",
    "        num_n = arr[i]*den + num\n",
    "        return num_n,den\n",
    "\n",
    "arr=[2]\n",
    "for n in range(1,50):\n",
    "    arr.extend([1,2*n,1])\n",
    "target=100\n",
    "nu,de=func()\n",
    "print(nu,de,nu/de)\n",
    "print(sum([int(x) for x in str(nu)]))"
   ]
  },
  {
   "cell_type": "code",
   "execution_count": 12,
   "metadata": {},
   "outputs": [
    {
     "name": "stdout",
     "output_type": "stream",
     "text": [
      "[2, 1, 2, 1, 1, 4, 1, 1, 6, 1, 1, 8, 1, 1, 10, 1, 1, 12, 1, 1, 14, 1, 1, 16, 1, 1, 18, 1, 1, 20, 1, 1, 22, 1, 1, 24, 1, 1, 26, 1, 1, 28, 1, 1, 30, 1, 1, 32, 1, 1, 34, 1, 1, 36, 1, 1, 38, 1, 1, 40, 1, 1, 42, 1, 1, 44, 1, 1, 46, 1, 1, 48, 1, 1, 50, 1, 1, 52, 1, 1, 54, 1, 1, 56, 1, 1, 58, 1, 1, 60, 1, 1, 62, 1, 1, 64, 1, 1, 66, 1, 1, 68, 1, 1, 70, 1, 1, 72, 1, 1, 74, 1, 1, 76, 1, 1, 78, 1, 1, 80, 1, 1, 82, 1, 1, 84, 1, 1, 86, 1, 1, 88, 1, 1, 90, 1, 1, 92, 1, 1, 94, 1, 1, 96, 1, 1, 98, 1] 148\n"
     ]
    }
   ],
   "source": [
    "arr=[2]\n",
    "for n in range(1,50):\n",
    "    arr.extend([1,2*n,1])\n",
    "print(arr,len(arr))"
   ]
  },
  {
   "cell_type": "code",
   "execution_count": 14,
   "metadata": {},
   "outputs": [
    {
     "name": "stdout",
     "output_type": "stream",
     "text": [
      "[1, 1, 1, 1, 1, 1, 1, 1, 1, 1, 1, 1, 1, 1, 1, 1, 1, 1, 1, 1, 1, 1, 1, 1, 1, 1, 1, 1, 1, 1, 1, 1, 1, 1, 1, 1, 1, 1, 1, 1, 1, 1, 1, 1, 1, 1, 1, 1, 1, 1] 50\n"
     ]
    }
   ],
   "source": [
    "test=[1 for i in range(100) if i%2==0]\n",
    "print(test,len(test))"
   ]
  },
  {
   "cell_type": "code",
   "execution_count": 58,
   "metadata": {},
   "outputs": [
    {
     "name": "stdout",
     "output_type": "stream",
     "text": [
      "[1, 1, 1, 1, 1, 1, 1, 1, 1, 1, 1, 1, 1, 1, 1, 1, 1, 1, 1, 1, 1, 1, 1, 1, 1, 1, 1, 1, 1, 1, 1, 1, 1, 1, 1, 1, 1, 1, 1, 1, 1, 1, 1, 1, 1, 1, 1, 1, 1, 1, 1, 1, 1, 1, 1, 1, 1, 1, 1, 1, 1, 1, 1, 1, 1, 1, 1, 1, 1, 1, 1, 1, 1, 1, 1, 1, 1, 1, 1, 1, 1, 1, 1, 1, 1, 1, 1, 1, 1, 1, 1, 1, 1, 1, 1, 1, 1, 1, 1, 1]\n"
     ]
    }
   ],
   "source": [
    "test2=[1]*100\n",
    "print(test2)"
   ]
  }
 ],
 "metadata": {
  "kernelspec": {
   "display_name": "Python 3",
   "language": "python",
   "name": "python3"
  },
  "language_info": {
   "codemirror_mode": {
    "name": "ipython",
    "version": 3
   },
   "file_extension": ".py",
   "mimetype": "text/x-python",
   "name": "python",
   "nbconvert_exporter": "python",
   "pygments_lexer": "ipython3",
   "version": "3.6.5"
  }
 },
 "nbformat": 4,
 "nbformat_minor": 2
}
