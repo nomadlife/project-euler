{
 "cells": [
  {
   "cell_type": "markdown",
   "metadata": {},
   "source": [
    "# p076 Counting summations\n",
    "\n",
    "It is possible to write five as a sum in exactly six different ways:\n",
    "\n",
    "    4+1\n",
    "    3+2\n",
    "    3+1+1\n",
    "    2+2+1\n",
    "    2+1+1+1\n",
    "    1+1+1+1+1\n",
    "How many different ways can one hundred be written as a sum of ay least two positive integers?"
   ]
  },
  {
   "cell_type": "code",
   "execution_count": 1,
   "metadata": {},
   "outputs": [
    {
     "name": "stdout",
     "output_type": "stream",
     "text": [
      "5\n",
      "4\n",
      "3\n",
      "2\n",
      "1\n"
     ]
    }
   ],
   "source": [
    "for i in range(5,0,-1):\n",
    "    print(i)"
   ]
  },
  {
   "cell_type": "code",
   "execution_count": 4,
   "metadata": {},
   "outputs": [
    {
     "name": "stdout",
     "output_type": "stream",
     "text": [
      "5 5 []\n",
      "4 5 []\n",
      "3 5 [1]\n",
      "2 5 [1, 2]\n",
      "1 5 [1, 2, 3]\n"
     ]
    }
   ],
   "source": [
    "def func(num,alist=[]):\n",
    "    print(num,target,alist)\n",
    "    if num<target:\n",
    "        alist.extend([target-num])\n",
    "    if num != 1:\n",
    "        func(num-1,alist)\n",
    "\n",
    "target=5\n",
    "func(target)"
   ]
  },
  {
   "cell_type": "code",
   "execution_count": 5,
   "metadata": {},
   "outputs": [
    {
     "name": "stdout",
     "output_type": "stream",
     "text": [
      "5 5 []\n",
      "4 5 [0]\n",
      "3 5 [0, 1]\n",
      "2 5 [0, 1, 2]\n",
      "1 5 [0, 1, 2, 3]\n"
     ]
    }
   ],
   "source": [
    "def func(num,alist=[]):\n",
    "    print(num,target,alist)\n",
    "    alist.extend([target-num])\n",
    "    if num != 1:\n",
    "        func(num-1,alist)\n",
    "\n",
    "target=5\n",
    "func(target)"
   ]
  },
  {
   "cell_type": "code",
   "execution_count": 13,
   "metadata": {},
   "outputs": [
    {
     "name": "stdout",
     "output_type": "stream",
     "text": [
      "10\n",
      "91\n",
      "82\n",
      "73\n",
      "64\n",
      "55\n",
      "442\n",
      "3331\n",
      "22222\n",
      "1111111111\n"
     ]
    }
   ],
   "source": [
    "target=10\n",
    "for i in range(10,0,-1):\n",
    "    temp=target;string=''\n",
    "    while True:\n",
    "        if temp > i:\n",
    "            string+=str(i)\n",
    "            temp-=i\n",
    "        else :\n",
    "            string+=str(temp)\n",
    "            break\n",
    "    print(string)"
   ]
  },
  {
   "cell_type": "code",
   "execution_count": 6,
   "metadata": {},
   "outputs": [
    {
     "name": "stdout",
     "output_type": "stream",
     "text": [
      "10\n",
      "91\n",
      "82\n",
      "73\n",
      "64\n",
      "55\n",
      "442\n",
      "3331\n",
      "22222\n",
      "1111111111\n"
     ]
    }
   ],
   "source": [
    "target=10\n",
    "for i in range(10,0,-1):\n",
    "    temp=target;string=''\n",
    "    while temp > 0:\n",
    "        string+=str(min(temp,i))\n",
    "        temp-=i\n",
    "    print(string)"
   ]
  },
  {
   "cell_type": "code",
   "execution_count": 24,
   "metadata": {},
   "outputs": [
    {
     "name": "stdout",
     "output_type": "stream",
     "text": [
      "2\n",
      "11\n"
     ]
    }
   ],
   "source": [
    "target=2\n",
    "for i in range(target,0,-1):\n",
    "    temp=target;string=''\n",
    "    while temp > 0:\n",
    "        string+=str(min(temp,i))\n",
    "        temp-=i\n",
    "    print(string)"
   ]
  },
  {
   "cell_type": "code",
   "execution_count": 25,
   "metadata": {},
   "outputs": [
    {
     "name": "stdout",
     "output_type": "stream",
     "text": [
      "3\n",
      "21\n",
      "111\n"
     ]
    }
   ],
   "source": [
    "target=3\n",
    "for i in range(target,0,-1):\n",
    "    temp=target;string=''\n",
    "    while temp > 0:\n",
    "        string+=str(min(temp,i))\n",
    "        temp-=i\n",
    "    print(string)"
   ]
  },
  {
   "cell_type": "code",
   "execution_count": 10,
   "metadata": {},
   "outputs": [
    {
     "name": "stdout",
     "output_type": "stream",
     "text": [
      "222\n",
      "33\n",
      "42\n",
      "51\n"
     ]
    }
   ],
   "source": [
    "# new\n",
    "target=6\n",
    "for i in range(2,target):\n",
    "    string=str(i)*(target//i)+str(target%i)*(target%i!=0)\n",
    "    print(string)"
   ]
  },
  {
   "cell_type": "code",
   "execution_count": 9,
   "metadata": {},
   "outputs": [
    {
     "name": "stdout",
     "output_type": "stream",
     "text": [
      "2221\n",
      "331\n",
      "43\n",
      "52\n",
      "61\n"
     ]
    }
   ],
   "source": [
    "# new\n",
    "# {2: 1, 3: 2, 4: 3, 5: 4, 6: 5, 7: 6, 8: 7, 9: 8}\n",
    "target=7\n",
    "for i in range(2,target):\n",
    "    string=str(i)*(target//i)+str(target%i)*(target%i!=0)\n",
    "    print(string)"
   ]
  },
  {
   "cell_type": "code",
   "execution_count": 19,
   "metadata": {},
   "outputs": [
    {
     "name": "stdout",
     "output_type": "stream",
     "text": [
      "t: 2\n",
      "11\n",
      "count 1\n",
      "t: 3\n",
      "111\n",
      "21\n",
      "count 2\n",
      "t: 4\n",
      "1111\n",
      "22\n",
      "31\n",
      "count 3\n",
      "t: 5\n",
      "11111\n",
      "221\n",
      "32\n",
      "41\n",
      "count 4\n",
      "t: 6\n",
      "111111\n",
      "222\n",
      "33\n",
      "42\n",
      "51\n",
      "count 5\n",
      "t: 7\n",
      "1111111\n",
      "2221\n",
      "331\n",
      "43\n",
      "52\n",
      "61\n",
      "count 6\n",
      "t: 8\n",
      "11111111\n",
      "2222\n",
      "332\n",
      "44\n",
      "53\n",
      "62\n",
      "71\n",
      "count 7\n",
      "t: 9\n",
      "111111111\n",
      "22221\n",
      "333\n",
      "441\n",
      "54\n",
      "63\n",
      "72\n",
      "81\n",
      "count 8\n"
     ]
    }
   ],
   "source": [
    "# new - nested\n",
    "for t in range(2,10):\n",
    "    print(\"t:\",t)\n",
    "    count=0\n",
    "    for i in range(1,t):\n",
    "        string=str(i)*(t//i)+str(t%i)*(t%i!=0)\n",
    "        print(string)\n",
    "        count+=1\n",
    "    print(\"count\",count)"
   ]
  },
  {
   "cell_type": "code",
   "execution_count": 18,
   "metadata": {},
   "outputs": [
    {
     "name": "stdout",
     "output_type": "stream",
     "text": [
      "t: 2\n",
      "11\n",
      "1 {2: 1}\n",
      "t: 3\n",
      "111\n",
      "21\n",
      "2 {2: 1, 3: 2}\n",
      "t: 4\n",
      "1111\n",
      "22\n",
      "31\n",
      "3 {2: 1, 3: 2, 4: 3}\n",
      "t: 5\n",
      "11111\n",
      "221\n",
      "32\n",
      "41\n",
      "4 {2: 1, 3: 2, 4: 3, 5: 4}\n",
      "t: 6\n",
      "111111\n",
      "222\n",
      "33\n",
      "42\n",
      "51\n",
      "5 {2: 1, 3: 2, 4: 3, 5: 4, 6: 5}\n",
      "t: 7\n",
      "1111111\n",
      "2221\n",
      "331\n",
      "43\n",
      "52\n",
      "61\n",
      "6 {2: 1, 3: 2, 4: 3, 5: 4, 6: 5, 7: 6}\n",
      "t: 8\n",
      "11111111\n",
      "2222\n",
      "332\n",
      "44\n",
      "53\n",
      "62\n",
      "71\n",
      "7 {2: 1, 3: 2, 4: 3, 5: 4, 6: 5, 7: 6, 8: 7}\n",
      "t: 9\n",
      "111111111\n",
      "22221\n",
      "333\n",
      "441\n",
      "54\n",
      "63\n",
      "72\n",
      "81\n",
      "8 {2: 1, 3: 2, 4: 3, 5: 4, 6: 5, 7: 6, 8: 7, 9: 8}\n"
     ]
    }
   ],
   "source": [
    "# new - nested - dynamic 1\n",
    "cache={}\n",
    "for t in range(2,10):\n",
    "    print(\"t:\",t)\n",
    "    count=0\n",
    "    for i in range(1,t):\n",
    "        string=str(i)*(t//i)+str(t%i)*(t%i!=0)\n",
    "        print(string)\n",
    "        count+=1\n",
    "    cache[t] = count\n",
    "    print(count, cache)"
   ]
  },
  {
   "cell_type": "code",
   "execution_count": 20,
   "metadata": {},
   "outputs": [
    {
     "name": "stdout",
     "output_type": "stream",
     "text": [
      "t: 2\n",
      "11\n",
      "1 {2: 1}\n",
      "t: 3\n",
      "111\n",
      "21\n",
      "2 {2: 1, 3: 2}\n",
      "t: 4\n",
      "1111\n",
      "22\n",
      "31\n",
      "4 {2: 1, 3: 2, 4: 4}\n",
      "t: 5\n",
      "11111\n",
      "221\n",
      "32\n",
      "41\n",
      "6 {2: 1, 3: 2, 4: 4, 5: 6}\n",
      "t: 6\n",
      "111111\n",
      "222\n",
      "33\n",
      "42\n",
      "51\n",
      "10 {2: 1, 3: 2, 4: 4, 5: 6, 6: 10}\n",
      "t: 7\n",
      "1111111\n",
      "2221\n",
      "331\n",
      "43\n",
      "52\n",
      "61\n",
      "13 {2: 1, 3: 2, 4: 4, 5: 6, 6: 10, 7: 13}\n",
      "t: 8\n",
      "11111111\n",
      "2222\n",
      "332\n",
      "44\n",
      "53\n",
      "62\n",
      "71\n",
      "20 {2: 1, 3: 2, 4: 4, 5: 6, 6: 10, 7: 13, 8: 20}\n",
      "t: 9\n",
      "111111111\n",
      "22221\n",
      "333\n",
      "441\n",
      "54\n",
      "63\n",
      "72\n",
      "81\n",
      "26 {2: 1, 3: 2, 4: 4, 5: 6, 6: 10, 7: 13, 8: 20, 9: 26}\n"
     ]
    }
   ],
   "source": [
    "# new - nested - dynamic 2\n",
    "cache={}\n",
    "for t in range(2,10):\n",
    "    print(\"t:\",t)\n",
    "    count=0\n",
    "    for i in range(1,t):\n",
    "        string=str(i)*(t//i)+str(t%i)*(t%i!=0)\n",
    "        print(string)\n",
    "        for j in string[1:]:\n",
    "            if j != '1':\n",
    "                count+=cache[int(j)]\n",
    "        count+=1\n",
    "    cache[t] = count\n",
    "    print(count, cache)"
   ]
  },
  {
   "cell_type": "code",
   "execution_count": 32,
   "metadata": {},
   "outputs": [
    {
     "name": "stdout",
     "output_type": "stream",
     "text": [
      "1 0 {1: 0}\n",
      "2 1 {1: 0, 2: 1}\n",
      "3 2 {1: 0, 2: 1, 3: 2}\n",
      "4 4 {1: 0, 2: 1, 3: 2, 4: 4}\n",
      "5 6 {1: 0, 2: 1, 3: 2, 4: 4, 5: 6}\n",
      "6 10 {1: 0, 2: 1, 3: 2, 4: 4, 5: 6, 6: 10}\n",
      "7 13 {1: 0, 2: 1, 3: 2, 4: 4, 5: 6, 6: 10, 7: 13}\n",
      "8 20 {1: 0, 2: 1, 3: 2, 4: 4, 5: 6, 6: 10, 7: 13, 8: 20}\n",
      "9 26 {1: 0, 2: 1, 3: 2, 4: 4, 5: 6, 6: 10, 7: 13, 8: 20, 9: 26}\n"
     ]
    }
   ],
   "source": [
    "# new - nested - dynamic 3\n",
    "cache={}\n",
    "for t in range(1,10):\n",
    "    count=0\n",
    "    for i in range(1,t):\n",
    "        string=str(i)*(t//i)+str(t%i)*(t%i!=0)\n",
    "        for j in string[1:]:\n",
    "            if j != '1':\n",
    "                count+=cache[int(j)]\n",
    "        count+=1\n",
    "    cache[t] = count\n",
    "    print(t, count, cache)"
   ]
  },
  {
   "cell_type": "code",
   "execution_count": 33,
   "metadata": {},
   "outputs": [
    {
     "name": "stdout",
     "output_type": "stream",
     "text": [
      "10 35 {1: 0, 2: 1, 3: 2, 4: 4, 5: 6, 6: 10, 7: 13, 8: 20, 9: 26, 10: 35}\n"
     ]
    }
   ],
   "source": [
    "# new - nested - dynamic 4\n",
    "target=10\n",
    "cache={}\n",
    "for t in range(1,target+1):\n",
    "    count=0\n",
    "    for i in range(1,t):\n",
    "        string=str(i)*(t//i)+str(t%i)*(t%i!=0)\n",
    "        for j in string[1:]:\n",
    "            if j != '1':\n",
    "                count+=cache[int(j)]\n",
    "        count+=1\n",
    "    cache[t] = count\n",
    "print(t, count, cache)"
   ]
  },
  {
   "cell_type": "code",
   "execution_count": 55,
   "metadata": {},
   "outputs": [
    {
     "name": "stdout",
     "output_type": "stream",
     "text": [
      "\n",
      "t: 1\n",
      "1 0 {1: 0}\n",
      "\n",
      "t: 2\n",
      "if 1 0\n",
      "2 1 {1: 0, 2: 1}\n",
      "\n",
      "t: 3\n",
      "if 1 0\n",
      "if 1 0\n",
      "elif 2 1\n",
      "3 2 {1: 0, 2: 1, 3: 2}\n",
      "\n",
      "t: 4\n",
      "if 1 0\n",
      "if 1 0\n",
      "if 1 0\n",
      "if 2 2\n",
      "elif 3 3\n",
      "4 4 {1: 0, 2: 1, 3: 2, 4: 4}\n",
      "\n",
      "t: 5\n",
      "if 1 0\n",
      "if 1 0\n",
      "if 1 0\n",
      "if 1 0\n",
      "if 2 2\n",
      "elif 2 2\n",
      "elif 3 4\n",
      "elif 4 5\n",
      "5 6 {1: 0, 2: 1, 3: 2, 4: 4, 5: 6}\n"
     ]
    }
   ],
   "source": [
    "# new2 : fix - data structure change\n",
    "target=5\n",
    "cache={}\n",
    "for t in range(1,target+1):\n",
    "    count=0\n",
    "    print()\n",
    "    print(\"t:\",t)\n",
    "    for i in range(1,t):\n",
    "        temp=i\n",
    "        while temp < t:\n",
    "            if t-temp >= i:\n",
    "                temp+=i\n",
    "                count+=cache[i]\n",
    "                print(\"if\",i,count)\n",
    "            elif t-temp < i:\n",
    "                count+=cache[t-temp]\n",
    "                print(\"elif\",i,count)\n",
    "                break\n",
    "        count+=1\n",
    "        \n",
    "    cache[t] = count\n",
    "    print(t, count, cache)"
   ]
  },
  {
   "cell_type": "code",
   "execution_count": 58,
   "metadata": {},
   "outputs": [
    {
     "name": "stdout",
     "output_type": "stream",
     "text": [
      "1 0 {1: 0}\n",
      "2 1 {1: 0, 2: 1}\n",
      "3 2 {1: 0, 2: 1, 3: 2}\n",
      "4 4 {1: 0, 2: 1, 3: 2, 4: 4}\n",
      "5 6 {1: 0, 2: 1, 3: 2, 4: 4, 5: 6}\n",
      "6 10 {1: 0, 2: 1, 3: 2, 4: 4, 5: 6, 6: 10}\n",
      "7 13 {1: 0, 2: 1, 3: 2, 4: 4, 5: 6, 6: 10, 7: 13}\n",
      "8 20 {1: 0, 2: 1, 3: 2, 4: 4, 5: 6, 6: 10, 7: 13, 8: 20}\n",
      "9 26 {1: 0, 2: 1, 3: 2, 4: 4, 5: 6, 6: 10, 7: 13, 8: 20, 9: 26}\n",
      "10 35 {1: 0, 2: 1, 3: 2, 4: 4, 5: 6, 6: 10, 7: 13, 8: 20, 9: 26, 10: 35}\n",
      "11 44 {1: 0, 2: 1, 3: 2, 4: 4, 5: 6, 6: 10, 7: 13, 8: 20, 9: 26, 10: 35, 11: 44}\n"
     ]
    }
   ],
   "source": [
    "# new2 simple\n",
    "target=11\n",
    "cache={}\n",
    "for t in range(1,target+1):\n",
    "    count=0\n",
    "    for i in range(1,t):\n",
    "        temp=i\n",
    "        while temp < t:\n",
    "            if t-temp >= i:\n",
    "                temp+=i\n",
    "                count+=cache[i]\n",
    "            elif t-temp < i:\n",
    "                count+=cache[t-temp]\n",
    "                break\n",
    "        count+=1\n",
    "    cache[t] = count\n",
    "    print(t, count, cache)"
   ]
  },
  {
   "cell_type": "code",
   "execution_count": 59,
   "metadata": {},
   "outputs": [
    {
     "name": "stdout",
     "output_type": "stream",
     "text": [
      "100 201293 {1: 0, 2: 1, 3: 2, 4: 4, 5: 6, 6: 10, 7: 13, 8: 20, 9: 26, 10: 35, 11: 44, 12: 60, 13: 72, 14: 92, 15: 111, 16: 138, 17: 164, 18: 202, 19: 235, 20: 285, 21: 329, 22: 386, 23: 443, 24: 529, 25: 600, 26: 694, 27: 788, 28: 906, 29: 1019, 30: 1169, 31: 1300, 32: 1480, 33: 1650, 34: 1854, 35: 2060, 36: 2323, 37: 2556, 38: 2852, 39: 3143, 40: 3500, 41: 3838, 42: 4255, 43: 4639, 44: 5123, 45: 5588, 46: 6120, 47: 6650, 48: 7323, 49: 7934, 50: 8663, 51: 9382, 52: 10211, 53: 11027, 54: 12004, 55: 12922, 56: 14021, 57: 15082, 58: 16283, 59: 17484, 60: 18928, 61: 20254, 62: 21807, 63: 23347, 64: 25104, 65: 26819, 66: 28788, 67: 30674, 68: 32878, 69: 35040, 70: 37457, 71: 39837, 72: 42635, 73: 45258, 74: 48259, 75: 51244, 76: 54566, 77: 57832, 78: 61552, 79: 65125, 80: 69255, 81: 73269, 82: 77681, 83: 82091, 84: 87125, 85: 91919, 86: 97280, 87: 102622, 88: 108537, 89: 114373, 90: 120925, 91: 127216, 92: 134287, 93: 141247, 94: 148860, 95: 156439, 96: 164998, 97: 173188, 98: 182310, 99: 191385, 100: 201293}\n"
     ]
    }
   ],
   "source": [
    "# new2 expand\n",
    "# something wrong\n",
    "target=100\n",
    "cache={}\n",
    "for t in range(1,target+1):\n",
    "    count=0\n",
    "    for i in range(1,t):\n",
    "        temp=i\n",
    "        while temp < t:\n",
    "            if t-temp >= i:\n",
    "                temp+=i\n",
    "                count+=cache[i]\n",
    "            elif t-temp < i:\n",
    "                count+=cache[t-temp]\n",
    "                break\n",
    "        count+=1\n",
    "    cache[t] = count\n",
    "print(t, count, cache)"
   ]
  },
  {
   "cell_type": "code",
   "execution_count": 1,
   "metadata": {},
   "outputs": [
    {
     "name": "stdout",
     "output_type": "stream",
     "text": [
      "100 1018677148642858447522131372494 {1: 0, 2: 1, 3: 3, 4: 8, 5: 18, 6: 41, 7: 86, 8: 183, 9: 377, 10: 775, 11: 1572, 12: 3195, 13: 6434, 14: 12964, 15: 26031, 16: 52258, 17: 104714, 18: 209841, 19: 420079, 20: 840981, 21: 1682799, 22: 3367208, 23: 6736062, 24: 13475484, 25: 26954236, 26: 53915048, 27: 107836814, 28: 215686782, 29: 431386807, 30: 862800233, 31: 1725626803, 32: 3451306511, 33: 6902666370, 34: 13805438065, 35: 27610982071, 36: 55222176386, 37: 110444563724, 38: 220889549815, 39: 441779524279, 40: 883559892268, 41: 1767120629957, 42: 3534242951708, 43: 7068487591004, 44: 14136978558920, 45: 28273960502852, 46: 56547927750951, 47: 113095862256341, 48: 226191738025170, 49: 452383489543886, 50: 904767006078265, 51: 1809534039182498, 52: 3619068132318803, 53: 7238136318623701, 54: 14476272745226776, 55: 28952545598364798, 56: 57905091412564121, 57: 115810183041097172, 58: 231620366513725407, 59: 463240733459126180, 60: 926481467781630643, 61: 1852962936426345547, 62: 3705925874578886883, 63: 7411851750884538582, 64: 14823703505220976565, 65: 29647407013894392827, 66: 59294814034693713573, 67: 118589628076291246247, 68: 237179256166390237750, 69: 474358512346590423098, 70: 948717024720794111417, 71: 1897434049469203757346, 72: 3794868098993638799621, 73: 7589736198042504299856, 74: 15179472396195462215362, 75: 30358944792501387098512, 76: 60717889585223672974771, 77: 121435779170668253534762, 78: 242871558341778322669901, 79: 485743116683998443088154, 80: 971486233368880482524018, 81: 1942972466738644596956246, 82: 3885944933479056350737232, 83: 7771889866959879894494575, 84: 15543779733923294176734722, 85: 31087559467850122668609027, 86: 62175118935707313969093522, 87: 124350237871421696714347464, 88: 248700475742857530553006706, 89: 497400951485729198372708151, 90: 994801902971486671282217856, 91: 1989603805943001616814472500, 92: 3979207611886059782135784406, 93: 7958415223772176113350759110, 94: 15916830447544465323141027774, 95: 31833660895089043743298818741, 96: 63667321790178313680644311166, 97: 127334643580356853554179051080, 98: 254669287160714159494152507107, 99: 509338574321428771376404269440, 100: 1018677148642858447522131372494}\n"
     ]
    }
   ],
   "source": [
    "# new2 expand\n",
    "# fix\n",
    "target=100\n",
    "cache={}\n",
    "for t in range(1,target+1):\n",
    "    count=0\n",
    "    for i in range(1,t):\n",
    "        temp=i\n",
    "        while temp < t:\n",
    "            if t-temp >= i:\n",
    "                temp+=i\n",
    "                count+=cache[i]\n",
    "            elif t-temp < i:\n",
    "                count+=cache[t-temp]\n",
    "                break\n",
    "        count+=1\n",
    "    cache[t] = count\n",
    "print(t, count, cache)"
   ]
  },
  {
   "cell_type": "markdown",
   "metadata": {},
   "source": [
    "## ======================================"
   ]
  },
  {
   "cell_type": "code",
   "execution_count": 77,
   "metadata": {},
   "outputs": [
    {
     "name": "stdout",
     "output_type": "stream",
     "text": [
      "2 1\n",
      "3 1\n",
      "3 2\n",
      "4 1\n",
      "4 2\n",
      "4 3\n",
      "5 1\n",
      "5 2\n",
      "5 3\n",
      "5 4\n",
      "6 1\n",
      "6 2\n",
      "6 3\n",
      "6 4\n",
      "6 5\n"
     ]
    }
   ],
   "source": [
    "t=7\n",
    "for i in range(1,t):\n",
    "    for j in range(1,i):\n",
    "        print(i,j)"
   ]
  },
  {
   "cell_type": "code",
   "execution_count": 78,
   "metadata": {
    "scrolled": false
   },
   "outputs": [
    {
     "name": "stdout",
     "output_type": "stream",
     "text": [
      "7 1  0\n",
      "6 2 1 1\n",
      "3 3 12 3\n",
      "0 4 123 6\n",
      "-4 5 1234 10\n",
      "-9 6 12345 15\n",
      "4 3 12 3\n",
      "-2 4 123 6\n",
      "1 4 123 6\n",
      "-3 5 1234 10\n",
      "-8 6 12345 15\n",
      "-14 7 123456 21\n"
     ]
    }
   ],
   "source": [
    "# all new\n",
    "def func(target,num=1,string='',total=0):\n",
    "    print(target,num,string,total)\n",
    "    if total>=target:\n",
    "        #print(\"total:\",total)\n",
    "        return\n",
    "    for i in range(num,target):\n",
    "        total+=i\n",
    "        string+=str(i)\n",
    "        num+=1\n",
    "        func(target-total,num,string,total)\n",
    "\n",
    "func(7)"
   ]
  }
 ],
 "metadata": {
  "kernelspec": {
   "display_name": "Python 3",
   "language": "python",
   "name": "python3"
  },
  "language_info": {
   "codemirror_mode": {
    "name": "ipython",
    "version": 3
   },
   "file_extension": ".py",
   "mimetype": "text/x-python",
   "name": "python",
   "nbconvert_exporter": "python",
   "pygments_lexer": "ipython3",
   "version": "3.6.5"
  }
 },
 "nbformat": 4,
 "nbformat_minor": 2
}
