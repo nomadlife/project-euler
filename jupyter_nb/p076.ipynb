{
 "cells": [
  {
   "cell_type": "markdown",
   "metadata": {},
   "source": [
    "# p076 Counting summations\n",
    "\n",
    "It is possible to write five as a sum in exactly six different ways:\n",
    "\n",
    "    4+1\n",
    "    3+2\n",
    "    3+1+1\n",
    "    2+2+1\n",
    "    2+1+1+1\n",
    "    1+1+1+1+1\n",
    "How many different ways can one hundred be written as a sum of ay least two positive integers?"
   ]
  },
  {
   "cell_type": "code",
   "execution_count": 1,
   "metadata": {},
   "outputs": [
    {
     "name": "stdout",
     "output_type": "stream",
     "text": [
      "5\n",
      "4\n",
      "3\n",
      "2\n",
      "1\n"
     ]
    }
   ],
   "source": [
    "for i in range(5,0,-1):\n",
    "    print(i)"
   ]
  },
  {
   "cell_type": "code",
   "execution_count": 4,
   "metadata": {},
   "outputs": [
    {
     "name": "stdout",
     "output_type": "stream",
     "text": [
      "5 5 []\n",
      "4 5 []\n",
      "3 5 [1]\n",
      "2 5 [1, 2]\n",
      "1 5 [1, 2, 3]\n"
     ]
    }
   ],
   "source": [
    "def func(num,alist=[]):\n",
    "    print(num,target,alist)\n",
    "    if num<target:\n",
    "        alist.extend([target-num])\n",
    "    if num != 1:\n",
    "        func(num-1,alist)\n",
    "\n",
    "target=5\n",
    "func(target)"
   ]
  },
  {
   "cell_type": "code",
   "execution_count": 5,
   "metadata": {},
   "outputs": [
    {
     "name": "stdout",
     "output_type": "stream",
     "text": [
      "5 5 []\n",
      "4 5 [0]\n",
      "3 5 [0, 1]\n",
      "2 5 [0, 1, 2]\n",
      "1 5 [0, 1, 2, 3]\n"
     ]
    }
   ],
   "source": [
    "def func(num,alist=[]):\n",
    "    print(num,target,alist)\n",
    "    alist.extend([target-num])\n",
    "    if num != 1:\n",
    "        func(num-1,alist)\n",
    "\n",
    "target=5\n",
    "func(target)"
   ]
  },
  {
   "cell_type": "code",
   "execution_count": 13,
   "metadata": {},
   "outputs": [
    {
     "name": "stdout",
     "output_type": "stream",
     "text": [
      "10\n",
      "91\n",
      "82\n",
      "73\n",
      "64\n",
      "55\n",
      "442\n",
      "3331\n",
      "22222\n",
      "1111111111\n"
     ]
    }
   ],
   "source": [
    "target=10\n",
    "for i in range(10,0,-1):\n",
    "    temp=target;string=''\n",
    "    while True:\n",
    "        if temp > i:\n",
    "            string+=str(i)\n",
    "            temp-=i\n",
    "        else :\n",
    "            string+=str(temp)\n",
    "            break\n",
    "    print(string)"
   ]
  },
  {
   "cell_type": "code",
   "execution_count": 20,
   "metadata": {},
   "outputs": [
    {
     "name": "stdout",
     "output_type": "stream",
     "text": [
      "10\n",
      "101\n",
      "102\n",
      "103\n",
      "104\n",
      "105\n",
      "1062\n",
      "10741\n",
      "108642\n",
      "10987654321\n"
     ]
    }
   ],
   "source": [
    "target=10\n",
    "for i in range(10,0,-1):\n",
    "    temp=target;string=''\n",
    "    while temp > 0:\n",
    "\n",
    "        string+=str(temp)\n",
    "        temp-=i\n",
    "    print(string)"
   ]
  }
 ],
 "metadata": {
  "kernelspec": {
   "display_name": "Python 3",
   "language": "python",
   "name": "python3"
  },
  "language_info": {
   "codemirror_mode": {
    "name": "ipython",
    "version": 3
   },
   "file_extension": ".py",
   "mimetype": "text/x-python",
   "name": "python",
   "nbconvert_exporter": "python",
   "pygments_lexer": "ipython3",
   "version": "3.6.5"
  }
 },
 "nbformat": 4,
 "nbformat_minor": 2
}
