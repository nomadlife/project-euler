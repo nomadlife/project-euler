{
 "cells": [
  {
   "cell_type": "markdown",
   "metadata": {},
   "source": [
    "# Q-024 Lexicographic permutations\n",
    "\n",
    "\n",
    "A permutation is an ordered arrangement of objects. For example, 3124 is one possible permutation of the digits 1, 2, 3 and 4. If all of the permutations are listed numerically or alphabetically, we call it lexicographic order. The lexicographic permutations of 0, 1 and 2 are:\n",
    "\n",
    "012   021   102   120   201   210\n",
    "\n",
    "What is the millionth lexicographic permutation of the digits 0, 1, 2, 3, 4, 5, 6, 7, 8 and 9?\n",
    "\n"
   ]
  },
  {
   "cell_type": "code",
   "execution_count": 17,
   "metadata": {},
   "outputs": [
    {
     "name": "stdout",
     "output_type": "stream",
     "text": [
      "t\n"
     ]
    }
   ],
   "source": [
    "# easy\n",
    "i=123456798\n",
    "if all(x in str(i).zfill(10) for x in '0123456789'):\n",
    "    print('t')"
   ]
  },
  {
   "cell_type": "code",
   "execution_count": 19,
   "metadata": {},
   "outputs": [
    {
     "name": "stdout",
     "output_type": "stream",
     "text": [
      "123457896 10\n"
     ]
    }
   ],
   "source": [
    "# easy\n",
    "count=0\n",
    "i=123456789\n",
    "while True:\n",
    "    if all(x in str(i).zfill(10) for x in '0123456789'):\n",
    "        count+=1\n",
    "    if count==10:\n",
    "        break\n",
    "    i+=1\n",
    "print(i,count)"
   ]
  },
  {
   "cell_type": "code",
   "execution_count": 30,
   "metadata": {},
   "outputs": [
    {
     "name": "stdout",
     "output_type": "stream",
     "text": [
      "123456789 10\n"
     ]
    }
   ],
   "source": [
    "# easy : hold\n",
    "count=0\n",
    "i=123456789\n",
    "while True:\n",
    "    for x in '0123456789' :\n",
    "        if x in str(i).zfill(10) :\n",
    "            pass\n",
    "    count+=1\n",
    "    if count==10:\n",
    "        break\n",
    "    i+=1\n",
    "print(i,count)"
   ]
  },
  {
   "cell_type": "code",
   "execution_count": 1,
   "metadata": {},
   "outputs": [
    {
     "data": {
      "text/plain": [
       "3628800"
      ]
     },
     "execution_count": 1,
     "metadata": {},
     "output_type": "execute_result"
    }
   ],
   "source": [
    "# total number of permutation = foctorial\n",
    "def factorial(number):\n",
    "    total=1\n",
    "    for i in range(number,1,-1):\n",
    "        total=total*i\n",
    "    return total\n",
    "factorial(10)"
   ]
  },
  {
   "cell_type": "code",
   "execution_count": 2,
   "metadata": {},
   "outputs": [
    {
     "data": {
      "text/plain": [
       "3628800"
      ]
     },
     "execution_count": 2,
     "metadata": {},
     "output_type": "execute_result"
    }
   ],
   "source": [
    "# total number of permutation = foctorial\n",
    "def f(n):\n",
    "    for i in range(1,n):\n",
    "        n*=i\n",
    "    return n\n",
    "f(10)"
   ]
  },
  {
   "cell_type": "code",
   "execution_count": 4,
   "metadata": {
    "scrolled": true
   },
   "outputs": [
    {
     "name": "stdout",
     "output_type": "stream",
     "text": [
      "1 1\n",
      "2 2\n",
      "3 6\n",
      "4 24\n",
      "5 120\n",
      "6 720\n",
      "7 5040\n",
      "8 40320\n",
      "9 362880\n",
      "10 3628800\n"
     ]
    }
   ],
   "source": [
    "# 각 자릿수 순열의 수\n",
    "def f(n):\n",
    "    for i in range(1,n):\n",
    "        n*=i\n",
    "    return n\n",
    "\n",
    "i=1\n",
    "while True: \n",
    "    value=f(i)\n",
    "    print(i,value)\n",
    "    if value > 1000000:\n",
    "        break\n",
    "    i+=1\n"
   ]
  },
  {
   "cell_type": "code",
   "execution_count": 106,
   "metadata": {},
   "outputs": [
    {
     "name": "stdout",
     "output_type": "stream",
     "text": [
      "loop: 0,0 123456789\n",
      "loop: 1,2 2123456789\n",
      "loop: 2,6 2723456789\n",
      "loop: 3,6 2783456789\n",
      "loop: 4,2 2785456789\n",
      "loop: 5,5 2785956789\n",
      "loop: 6,1 2785966789\n",
      "loop: 7,2 2785968789\n",
      "loop: 8,1 2785968889\n",
      "loop: 9,1 2785968899\n",
      "2785968899\n",
      "1\n"
     ]
    }
   ],
   "source": [
    "# 각 자릿수 계산해서, 올리기.\n",
    "\n",
    "def f(n):\n",
    "    for i in range(1,n):\n",
    "        n*=i\n",
    "    return n\n",
    "\n",
    "number=123456789\n",
    "target=1000000\n",
    "value=0\n",
    "for i in range(10):\n",
    "    print(\"loop:\",i,end=',')\n",
    "    value=f(10-i)\n",
    "    count=0\n",
    "    while value<target:\n",
    "        target=target-value\n",
    "        count+=1\n",
    "    number=number+count*10**(10-i)\n",
    "    print(count,number)\n",
    "print(number)\n",
    "print(target)"
   ]
  },
  {
   "cell_type": "code",
   "execution_count": 121,
   "metadata": {},
   "outputs": [
    {
     "name": "stdout",
     "output_type": "stream",
     "text": [
      "loop: 0, value: 362880  target:1000000, 2 2013456789 10\n",
      "loop: 1, value:  40320  target: 274240, 6 2701345689 10\n",
      "loop: 2, value:   5040  target:  32320, 6 2780134569 10\n",
      "loop: 3, value:    720  target:   2080, 2 2783014569 10\n",
      "loop: 4, value:    120  target:    640, 5 2783901456 10\n",
      "loop: 5, value:     24  target:     40, 1 2783910456 10\n",
      "loop: 6, value:      6  target:     16, 2 2783915046 10\n",
      "loop: 7, value:      2  target:      4, 2 2783915604 10\n",
      "loop: 8, value:      1  target:      0, 0 2783915604 10\n",
      "loop: 9, value:      1  target:      0, 0 2783915604 10\n",
      "2783915604\n",
      "0\n"
     ]
    }
   ],
   "source": [
    "# Sol-1\n",
    "\n",
    "def f(n):\n",
    "    for i in range(1,n):\n",
    "        n*=i\n",
    "    return n\n",
    "\n",
    "number='0123456789'\n",
    "target=1000000\n",
    "value=0\n",
    "for i in range(10):\n",
    "    print(\"loop:%2d\"%i,end=',')\n",
    "    value=f(9-i)\n",
    "    count=0\n",
    "    print(\" value:%7d\"%value,\" target:%7d\"%target,end=', ')\n",
    "    while value<=target:\n",
    "        target=target-value\n",
    "        count+=1\n",
    "    #print(count,number[count],end=';')\n",
    "    #number[count]=i\n",
    "    #print(number.find(str(count)),end='; ')\n",
    "    number = number[:i]+number[i+count]+number[i:i+count]+number[i+count+1:]\n",
    "    print(count,number,len(number))\n",
    "print(number)\n",
    "print(target)\n",
    "\n",
    "#final value is millio+1th value. "
   ]
  },
  {
   "cell_type": "code",
   "execution_count": 9,
   "metadata": {},
   "outputs": [
    {
     "ename": "KeyboardInterrupt",
     "evalue": "",
     "output_type": "error",
     "traceback": [
      "\u001b[1;31m---------------------------------------------------------------------------\u001b[0m",
      "\u001b[1;31mKeyboardInterrupt\u001b[0m                         Traceback (most recent call last)",
      "\u001b[1;32m<ipython-input-9-ebeda46cc755>\u001b[0m in \u001b[0;36m<module>\u001b[1;34m()\u001b[0m\n\u001b[0;32m     12\u001b[0m     \u001b[0mcount\u001b[0m\u001b[1;33m=\u001b[0m\u001b[1;36m0\u001b[0m\u001b[1;33m\u001b[0m\u001b[0m\n\u001b[0;32m     13\u001b[0m     \u001b[1;32mwhile\u001b[0m \u001b[0mvalue\u001b[0m\u001b[1;33m<=\u001b[0m\u001b[0mtarget\u001b[0m\u001b[1;33m:\u001b[0m\u001b[1;33m\u001b[0m\u001b[0m\n\u001b[1;32m---> 14\u001b[1;33m         \u001b[0mtarget\u001b[0m\u001b[1;33m=\u001b[0m\u001b[0mtarget\u001b[0m\u001b[1;33m-\u001b[0m\u001b[0mvalue\u001b[0m\u001b[1;33m\u001b[0m\u001b[0m\n\u001b[0m\u001b[0;32m     15\u001b[0m         \u001b[0mcount\u001b[0m\u001b[1;33m+=\u001b[0m\u001b[1;36m1\u001b[0m\u001b[1;33m\u001b[0m\u001b[0m\n\u001b[0;32m     16\u001b[0m     \u001b[0mnumber\u001b[0m \u001b[1;33m=\u001b[0m \u001b[0mnumber\u001b[0m\u001b[1;33m[\u001b[0m\u001b[1;33m:\u001b[0m\u001b[0mi\u001b[0m\u001b[1;33m]\u001b[0m\u001b[1;33m+\u001b[0m\u001b[0mnumber\u001b[0m\u001b[1;33m[\u001b[0m\u001b[0mi\u001b[0m\u001b[1;33m+\u001b[0m\u001b[0mcount\u001b[0m\u001b[1;33m]\u001b[0m\u001b[1;33m+\u001b[0m\u001b[0mnumber\u001b[0m\u001b[1;33m[\u001b[0m\u001b[0mi\u001b[0m\u001b[1;33m:\u001b[0m\u001b[0mi\u001b[0m\u001b[1;33m+\u001b[0m\u001b[0mcount\u001b[0m\u001b[1;33m]\u001b[0m\u001b[1;33m+\u001b[0m\u001b[0mnumber\u001b[0m\u001b[1;33m[\u001b[0m\u001b[0mi\u001b[0m\u001b[1;33m+\u001b[0m\u001b[0mcount\u001b[0m\u001b[1;33m+\u001b[0m\u001b[1;36m1\u001b[0m\u001b[1;33m:\u001b[0m\u001b[1;33m]\u001b[0m\u001b[1;33m\u001b[0m\u001b[0m\n",
      "\u001b[1;31mKeyboardInterrupt\u001b[0m: "
     ]
    }
   ],
   "source": [
    "# Sol-1 , short\n",
    "def f(n):\n",
    "    for i in range(1,n):\n",
    "        n*=i\n",
    "    return n\n",
    "\n",
    "number='0123456789'\n",
    "target=1000000\n",
    "value=0\n",
    "for i in range(10):\n",
    "    value=f(9-i)\n",
    "    count=0\n",
    "    while value<=target:\n",
    "        target=target-value\n",
    "        count+=1\n",
    "    number = number[:i]+number[i+count]+number[i:i+count]+number[i+count+1:]\n",
    "print(number)\n",
    "print(target)\n",
    "\n",
    "#final value is millio+1th value. "
   ]
  },
  {
   "cell_type": "markdown",
   "metadata": {},
   "source": [
    "## 2. make permutation"
   ]
  },
  {
   "cell_type": "code",
   "execution_count": 5,
   "metadata": {},
   "outputs": [
    {
     "name": "stdout",
     "output_type": "stream",
     "text": [
      "Help on built-in module itertools:\n",
      "\n",
      "NAME\n",
      "    itertools - Functional tools for creating and using iterators.\n",
      "\n",
      "DESCRIPTION\n",
      "    Infinite iterators:\n",
      "    count(start=0, step=1) --> start, start+step, start+2*step, ...\n",
      "    cycle(p) --> p0, p1, ... plast, p0, p1, ...\n",
      "    repeat(elem [,n]) --> elem, elem, elem, ... endlessly or up to n times\n",
      "    \n",
      "    Iterators terminating on the shortest input sequence:\n",
      "    accumulate(p[, func]) --> p0, p0+p1, p0+p1+p2\n",
      "    chain(p, q, ...) --> p0, p1, ... plast, q0, q1, ... \n",
      "    chain.from_iterable([p, q, ...]) --> p0, p1, ... plast, q0, q1, ... \n",
      "    compress(data, selectors) --> (d[0] if s[0]), (d[1] if s[1]), ...\n",
      "    dropwhile(pred, seq) --> seq[n], seq[n+1], starting when pred fails\n",
      "    groupby(iterable[, keyfunc]) --> sub-iterators grouped by value of keyfunc(v)\n",
      "    filterfalse(pred, seq) --> elements of seq where pred(elem) is False\n",
      "    islice(seq, [start,] stop [, step]) --> elements from\n",
      "           seq[start:stop:step]\n",
      "    starmap(fun, seq) --> fun(*seq[0]), fun(*seq[1]), ...\n",
      "    tee(it, n=2) --> (it1, it2 , ... itn) splits one iterator into n\n",
      "    takewhile(pred, seq) --> seq[0], seq[1], until pred fails\n",
      "    zip_longest(p, q, ...) --> (p[0], q[0]), (p[1], q[1]), ... \n",
      "    \n",
      "    Combinatoric generators:\n",
      "    product(p, q, ... [repeat=1]) --> cartesian product\n",
      "    permutations(p[, r])\n",
      "    combinations(p, r)\n",
      "    combinations_with_replacement(p, r)\n",
      "\n",
      "CLASSES\n",
      "    builtins.object\n",
      "        accumulate\n",
      "        chain\n",
      "        combinations\n",
      "        combinations_with_replacement\n",
      "        compress\n",
      "        count\n",
      "        cycle\n",
      "        dropwhile\n",
      "        filterfalse\n",
      "        groupby\n",
      "        islice\n",
      "        permutations\n",
      "        product\n",
      "        repeat\n",
      "        starmap\n",
      "        takewhile\n",
      "        zip_longest\n",
      "    \n",
      "    class accumulate(builtins.object)\n",
      "     |  accumulate(iterable[, func]) --> accumulate object\n",
      "     |  \n",
      "     |  Return series of accumulated sums (or other binary function results).\n",
      "     |  \n",
      "     |  Methods defined here:\n",
      "     |  \n",
      "     |  __getattribute__(self, name, /)\n",
      "     |      Return getattr(self, name).\n",
      "     |  \n",
      "     |  __iter__(self, /)\n",
      "     |      Implement iter(self).\n",
      "     |  \n",
      "     |  __new__(*args, **kwargs) from builtins.type\n",
      "     |      Create and return a new object.  See help(type) for accurate signature.\n",
      "     |  \n",
      "     |  __next__(self, /)\n",
      "     |      Implement next(self).\n",
      "     |  \n",
      "     |  __reduce__(...)\n",
      "     |      Return state information for pickling.\n",
      "     |  \n",
      "     |  __setstate__(...)\n",
      "     |      Set state information for unpickling.\n",
      "    \n",
      "    class chain(builtins.object)\n",
      "     |  chain(*iterables) --> chain object\n",
      "     |  \n",
      "     |  Return a chain object whose .__next__() method returns elements from the\n",
      "     |  first iterable until it is exhausted, then elements from the next\n",
      "     |  iterable, until all of the iterables are exhausted.\n",
      "     |  \n",
      "     |  Methods defined here:\n",
      "     |  \n",
      "     |  __getattribute__(self, name, /)\n",
      "     |      Return getattr(self, name).\n",
      "     |  \n",
      "     |  __iter__(self, /)\n",
      "     |      Implement iter(self).\n",
      "     |  \n",
      "     |  __new__(*args, **kwargs) from builtins.type\n",
      "     |      Create and return a new object.  See help(type) for accurate signature.\n",
      "     |  \n",
      "     |  __next__(self, /)\n",
      "     |      Implement next(self).\n",
      "     |  \n",
      "     |  __reduce__(...)\n",
      "     |      Return state information for pickling.\n",
      "     |  \n",
      "     |  __setstate__(...)\n",
      "     |      Set state information for unpickling.\n",
      "     |  \n",
      "     |  from_iterable(...) from builtins.type\n",
      "     |      chain.from_iterable(iterable) --> chain object\n",
      "     |      \n",
      "     |      Alternate chain() constructor taking a single iterable argument\n",
      "     |      that evaluates lazily.\n",
      "    \n",
      "    class combinations(builtins.object)\n",
      "     |  combinations(iterable, r) --> combinations object\n",
      "     |  \n",
      "     |  Return successive r-length combinations of elements in the iterable.\n",
      "     |  \n",
      "     |  combinations(range(4), 3) --> (0,1,2), (0,1,3), (0,2,3), (1,2,3)\n",
      "     |  \n",
      "     |  Methods defined here:\n",
      "     |  \n",
      "     |  __getattribute__(self, name, /)\n",
      "     |      Return getattr(self, name).\n",
      "     |  \n",
      "     |  __iter__(self, /)\n",
      "     |      Implement iter(self).\n",
      "     |  \n",
      "     |  __new__(*args, **kwargs) from builtins.type\n",
      "     |      Create and return a new object.  See help(type) for accurate signature.\n",
      "     |  \n",
      "     |  __next__(self, /)\n",
      "     |      Implement next(self).\n",
      "     |  \n",
      "     |  __reduce__(...)\n",
      "     |      Return state information for pickling.\n",
      "     |  \n",
      "     |  __setstate__(...)\n",
      "     |      Set state information for unpickling.\n",
      "     |  \n",
      "     |  __sizeof__(...)\n",
      "     |      Returns size in memory, in bytes.\n",
      "    \n",
      "    class combinations_with_replacement(builtins.object)\n",
      "     |  combinations_with_replacement(iterable, r) --> combinations_with_replacement object\n",
      "     |  \n",
      "     |  Return successive r-length combinations of elements in the iterable\n",
      "     |  allowing individual elements to have successive repeats.\n",
      "     |  combinations_with_replacement('ABC', 2) --> AA AB AC BB BC CC\n",
      "     |  \n",
      "     |  Methods defined here:\n",
      "     |  \n",
      "     |  __getattribute__(self, name, /)\n",
      "     |      Return getattr(self, name).\n",
      "     |  \n",
      "     |  __iter__(self, /)\n",
      "     |      Implement iter(self).\n",
      "     |  \n",
      "     |  __new__(*args, **kwargs) from builtins.type\n",
      "     |      Create and return a new object.  See help(type) for accurate signature.\n",
      "     |  \n",
      "     |  __next__(self, /)\n",
      "     |      Implement next(self).\n",
      "     |  \n",
      "     |  __reduce__(...)\n",
      "     |      Return state information for pickling.\n",
      "     |  \n",
      "     |  __setstate__(...)\n",
      "     |      Set state information for unpickling.\n",
      "     |  \n",
      "     |  __sizeof__(...)\n",
      "     |      Returns size in memory, in bytes.\n",
      "    \n",
      "    class compress(builtins.object)\n",
      "     |  compress(data, selectors) --> iterator over selected data\n",
      "     |  \n",
      "     |  Return data elements corresponding to true selector elements.\n",
      "     |  Forms a shorter iterator from selected data elements using the\n",
      "     |  selectors to choose the data elements.\n",
      "     |  \n",
      "     |  Methods defined here:\n",
      "     |  \n",
      "     |  __getattribute__(self, name, /)\n",
      "     |      Return getattr(self, name).\n",
      "     |  \n",
      "     |  __iter__(self, /)\n",
      "     |      Implement iter(self).\n",
      "     |  \n",
      "     |  __new__(*args, **kwargs) from builtins.type\n",
      "     |      Create and return a new object.  See help(type) for accurate signature.\n",
      "     |  \n",
      "     |  __next__(self, /)\n",
      "     |      Implement next(self).\n",
      "     |  \n",
      "     |  __reduce__(...)\n",
      "     |      Return state information for pickling.\n",
      "    \n",
      "    class count(builtins.object)\n",
      "     |  count(start=0, step=1) --> count object\n",
      "     |  \n",
      "     |  Return a count object whose .__next__() method returns consecutive values.\n",
      "     |  Equivalent to:\n",
      "     |  \n",
      "     |      def count(firstval=0, step=1):\n",
      "     |          x = firstval\n",
      "     |          while 1:\n",
      "     |              yield x\n",
      "     |              x += step\n",
      "     |  \n",
      "     |  Methods defined here:\n",
      "     |  \n",
      "     |  __getattribute__(self, name, /)\n",
      "     |      Return getattr(self, name).\n",
      "     |  \n",
      "     |  __iter__(self, /)\n",
      "     |      Implement iter(self).\n",
      "     |  \n",
      "     |  __new__(*args, **kwargs) from builtins.type\n",
      "     |      Create and return a new object.  See help(type) for accurate signature.\n",
      "     |  \n",
      "     |  __next__(self, /)\n",
      "     |      Implement next(self).\n",
      "     |  \n",
      "     |  __reduce__(...)\n",
      "     |      Return state information for pickling.\n",
      "     |  \n",
      "     |  __repr__(self, /)\n",
      "     |      Return repr(self).\n",
      "    \n",
      "    class cycle(builtins.object)\n",
      "     |  cycle(iterable) --> cycle object\n",
      "     |  \n",
      "     |  Return elements from the iterable until it is exhausted.\n",
      "     |  Then repeat the sequence indefinitely.\n",
      "     |  \n",
      "     |  Methods defined here:\n",
      "     |  \n",
      "     |  __getattribute__(self, name, /)\n",
      "     |      Return getattr(self, name).\n",
      "     |  \n",
      "     |  __iter__(self, /)\n",
      "     |      Implement iter(self).\n",
      "     |  \n",
      "     |  __new__(*args, **kwargs) from builtins.type\n",
      "     |      Create and return a new object.  See help(type) for accurate signature.\n",
      "     |  \n",
      "     |  __next__(self, /)\n",
      "     |      Implement next(self).\n",
      "     |  \n",
      "     |  __reduce__(...)\n",
      "     |      Return state information for pickling.\n",
      "     |  \n",
      "     |  __setstate__(...)\n",
      "     |      Set state information for unpickling.\n",
      "    \n",
      "    class dropwhile(builtins.object)\n",
      "     |  dropwhile(predicate, iterable) --> dropwhile object\n",
      "     |  \n",
      "     |  Drop items from the iterable while predicate(item) is true.\n",
      "     |  Afterwards, return every element until the iterable is exhausted.\n",
      "     |  \n",
      "     |  Methods defined here:\n",
      "     |  \n",
      "     |  __getattribute__(self, name, /)\n",
      "     |      Return getattr(self, name).\n",
      "     |  \n",
      "     |  __iter__(self, /)\n",
      "     |      Implement iter(self).\n",
      "     |  \n",
      "     |  __new__(*args, **kwargs) from builtins.type\n",
      "     |      Create and return a new object.  See help(type) for accurate signature.\n",
      "     |  \n",
      "     |  __next__(self, /)\n",
      "     |      Implement next(self).\n",
      "     |  \n",
      "     |  __reduce__(...)\n",
      "     |      Return state information for pickling.\n",
      "     |  \n",
      "     |  __setstate__(...)\n",
      "     |      Set state information for unpickling.\n",
      "    \n",
      "    class filterfalse(builtins.object)\n",
      "     |  filterfalse(function or None, sequence) --> filterfalse object\n",
      "     |  \n",
      "     |  Return those items of sequence for which function(item) is false.\n",
      "     |  If function is None, return the items that are false.\n",
      "     |  \n",
      "     |  Methods defined here:\n",
      "     |  \n",
      "     |  __getattribute__(self, name, /)\n",
      "     |      Return getattr(self, name).\n",
      "     |  \n",
      "     |  __iter__(self, /)\n",
      "     |      Implement iter(self).\n",
      "     |  \n",
      "     |  __new__(*args, **kwargs) from builtins.type\n",
      "     |      Create and return a new object.  See help(type) for accurate signature.\n",
      "     |  \n",
      "     |  __next__(self, /)\n",
      "     |      Implement next(self).\n",
      "     |  \n",
      "     |  __reduce__(...)\n",
      "     |      Return state information for pickling.\n",
      "    \n",
      "    class groupby(builtins.object)\n",
      "     |  groupby(iterable, key=None) -> make an iterator that returns consecutive\n",
      "     |  keys and groups from the iterable.  If the key function is not specified or\n",
      "     |  is None, the element itself is used for grouping.\n",
      "     |  \n",
      "     |  Methods defined here:\n",
      "     |  \n",
      "     |  __getattribute__(self, name, /)\n",
      "     |      Return getattr(self, name).\n",
      "     |  \n",
      "     |  __iter__(self, /)\n",
      "     |      Implement iter(self).\n",
      "     |  \n",
      "     |  __new__(*args, **kwargs) from builtins.type\n",
      "     |      Create and return a new object.  See help(type) for accurate signature.\n",
      "     |  \n",
      "     |  __next__(self, /)\n",
      "     |      Implement next(self).\n",
      "     |  \n",
      "     |  __reduce__(...)\n",
      "     |      Return state information for pickling.\n",
      "     |  \n",
      "     |  __setstate__(...)\n",
      "     |      Set state information for unpickling.\n",
      "    \n",
      "    class islice(builtins.object)\n",
      "     |  islice(iterable, stop) --> islice object\n",
      "     |  islice(iterable, start, stop[, step]) --> islice object\n",
      "     |  \n",
      "     |  Return an iterator whose next() method returns selected values from an\n",
      "     |  iterable.  If start is specified, will skip all preceding elements;\n",
      "     |  otherwise, start defaults to zero.  Step defaults to one.  If\n",
      "     |  specified as another value, step determines how many values are \n",
      "     |  skipped between successive calls.  Works like a slice() on a list\n",
      "     |  but returns an iterator.\n",
      "     |  \n",
      "     |  Methods defined here:\n",
      "     |  \n",
      "     |  __getattribute__(self, name, /)\n",
      "     |      Return getattr(self, name).\n",
      "     |  \n",
      "     |  __iter__(self, /)\n",
      "     |      Implement iter(self).\n",
      "     |  \n",
      "     |  __new__(*args, **kwargs) from builtins.type\n",
      "     |      Create and return a new object.  See help(type) for accurate signature.\n",
      "     |  \n",
      "     |  __next__(self, /)\n",
      "     |      Implement next(self).\n",
      "     |  \n",
      "     |  __reduce__(...)\n",
      "     |      Return state information for pickling.\n",
      "     |  \n",
      "     |  __setstate__(...)\n",
      "     |      Set state information for unpickling.\n",
      "    \n",
      "    class permutations(builtins.object)\n",
      "     |  permutations(iterable[, r]) --> permutations object\n",
      "     |  \n",
      "     |  Return successive r-length permutations of elements in the iterable.\n",
      "     |  \n",
      "     |  permutations(range(3), 2) --> (0,1), (0,2), (1,0), (1,2), (2,0), (2,1)\n",
      "     |  \n",
      "     |  Methods defined here:\n",
      "     |  \n",
      "     |  __getattribute__(self, name, /)\n",
      "     |      Return getattr(self, name).\n",
      "     |  \n",
      "     |  __iter__(self, /)\n",
      "     |      Implement iter(self).\n",
      "     |  \n",
      "     |  __new__(*args, **kwargs) from builtins.type\n",
      "     |      Create and return a new object.  See help(type) for accurate signature.\n",
      "     |  \n",
      "     |  __next__(self, /)\n",
      "     |      Implement next(self).\n",
      "     |  \n",
      "     |  __reduce__(...)\n",
      "     |      Return state information for pickling.\n",
      "     |  \n",
      "     |  __setstate__(...)\n",
      "     |      Set state information for unpickling.\n",
      "     |  \n",
      "     |  __sizeof__(...)\n",
      "     |      Returns size in memory, in bytes.\n",
      "    \n",
      "    class product(builtins.object)\n",
      "     |  product(*iterables, repeat=1) --> product object\n",
      "     |  \n",
      "     |  Cartesian product of input iterables.  Equivalent to nested for-loops.\n",
      "     |  \n",
      "     |  For example, product(A, B) returns the same as:  ((x,y) for x in A for y in B).\n",
      "     |  The leftmost iterators are in the outermost for-loop, so the output tuples\n",
      "     |  cycle in a manner similar to an odometer (with the rightmost element changing\n",
      "     |  on every iteration).\n",
      "     |  \n",
      "     |  To compute the product of an iterable with itself, specify the number\n",
      "     |  of repetitions with the optional repeat keyword argument. For example,\n",
      "     |  product(A, repeat=4) means the same as product(A, A, A, A).\n",
      "     |  \n",
      "     |  product('ab', range(3)) --> ('a',0) ('a',1) ('a',2) ('b',0) ('b',1) ('b',2)\n",
      "     |  product((0,1), (0,1), (0,1)) --> (0,0,0) (0,0,1) (0,1,0) (0,1,1) (1,0,0) ...\n",
      "     |  \n",
      "     |  Methods defined here:\n",
      "     |  \n",
      "     |  __getattribute__(self, name, /)\n",
      "     |      Return getattr(self, name).\n",
      "     |  \n",
      "     |  __iter__(self, /)\n",
      "     |      Implement iter(self).\n",
      "     |  \n",
      "     |  __new__(*args, **kwargs) from builtins.type\n",
      "     |      Create and return a new object.  See help(type) for accurate signature.\n",
      "     |  \n",
      "     |  __next__(self, /)\n",
      "     |      Implement next(self).\n",
      "     |  \n",
      "     |  __reduce__(...)\n",
      "     |      Return state information for pickling.\n",
      "     |  \n",
      "     |  __setstate__(...)\n",
      "     |      Set state information for unpickling.\n",
      "     |  \n",
      "     |  __sizeof__(...)\n",
      "     |      Returns size in memory, in bytes.\n",
      "    \n",
      "    class repeat(builtins.object)\n",
      "     |  repeat(object [,times]) -> create an iterator which returns the object\n",
      "     |  for the specified number of times.  If not specified, returns the object\n",
      "     |  endlessly.\n",
      "     |  \n",
      "     |  Methods defined here:\n",
      "     |  \n",
      "     |  __getattribute__(self, name, /)\n",
      "     |      Return getattr(self, name).\n",
      "     |  \n",
      "     |  __iter__(self, /)\n",
      "     |      Implement iter(self).\n",
      "     |  \n",
      "     |  __length_hint__(...)\n",
      "     |      Private method returning an estimate of len(list(it)).\n",
      "     |  \n",
      "     |  __new__(*args, **kwargs) from builtins.type\n",
      "     |      Create and return a new object.  See help(type) for accurate signature.\n",
      "     |  \n",
      "     |  __next__(self, /)\n",
      "     |      Implement next(self).\n",
      "     |  \n",
      "     |  __reduce__(...)\n",
      "     |      Return state information for pickling.\n",
      "     |  \n",
      "     |  __repr__(self, /)\n",
      "     |      Return repr(self).\n",
      "    \n",
      "    class starmap(builtins.object)\n",
      "     |  starmap(function, sequence) --> starmap object\n",
      "     |  \n",
      "     |  Return an iterator whose values are returned from the function evaluated\n",
      "     |  with an argument tuple taken from the given sequence.\n",
      "     |  \n",
      "     |  Methods defined here:\n",
      "     |  \n",
      "     |  __getattribute__(self, name, /)\n",
      "     |      Return getattr(self, name).\n",
      "     |  \n",
      "     |  __iter__(self, /)\n",
      "     |      Implement iter(self).\n",
      "     |  \n",
      "     |  __new__(*args, **kwargs) from builtins.type\n",
      "     |      Create and return a new object.  See help(type) for accurate signature.\n",
      "     |  \n",
      "     |  __next__(self, /)\n",
      "     |      Implement next(self).\n",
      "     |  \n",
      "     |  __reduce__(...)\n",
      "     |      Return state information for pickling.\n",
      "    \n",
      "    class takewhile(builtins.object)\n",
      "     |  takewhile(predicate, iterable) --> takewhile object\n",
      "     |  \n",
      "     |  Return successive entries from an iterable as long as the \n",
      "     |  predicate evaluates to true for each entry.\n",
      "     |  \n",
      "     |  Methods defined here:\n",
      "     |  \n",
      "     |  __getattribute__(self, name, /)\n",
      "     |      Return getattr(self, name).\n",
      "     |  \n",
      "     |  __iter__(self, /)\n",
      "     |      Implement iter(self).\n",
      "     |  \n",
      "     |  __new__(*args, **kwargs) from builtins.type\n",
      "     |      Create and return a new object.  See help(type) for accurate signature.\n",
      "     |  \n",
      "     |  __next__(self, /)\n",
      "     |      Implement next(self).\n",
      "     |  \n",
      "     |  __reduce__(...)\n",
      "     |      Return state information for pickling.\n",
      "     |  \n",
      "     |  __setstate__(...)\n",
      "     |      Set state information for unpickling.\n",
      "    \n",
      "    class zip_longest(builtins.object)\n",
      "     |  zip_longest(iter1 [,iter2 [...]], [fillvalue=None]) --> zip_longest object\n",
      "     |  \n",
      "     |  Return a zip_longest object whose .__next__() method returns a tuple where\n",
      "     |  the i-th element comes from the i-th iterable argument.  The .__next__()\n",
      "     |  method continues until the longest iterable in the argument sequence\n",
      "     |  is exhausted and then it raises StopIteration.  When the shorter iterables\n",
      "     |  are exhausted, the fillvalue is substituted in their place.  The fillvalue\n",
      "     |  defaults to None or can be specified by a keyword argument.\n",
      "     |  \n",
      "     |  Methods defined here:\n",
      "     |  \n",
      "     |  __getattribute__(self, name, /)\n",
      "     |      Return getattr(self, name).\n",
      "     |  \n",
      "     |  __iter__(self, /)\n",
      "     |      Implement iter(self).\n",
      "     |  \n",
      "     |  __new__(*args, **kwargs) from builtins.type\n",
      "     |      Create and return a new object.  See help(type) for accurate signature.\n",
      "     |  \n",
      "     |  __next__(self, /)\n",
      "     |      Implement next(self).\n",
      "     |  \n",
      "     |  __reduce__(...)\n",
      "     |      Return state information for pickling.\n",
      "     |  \n",
      "     |  __setstate__(...)\n",
      "     |      Set state information for unpickling.\n",
      "\n",
      "FUNCTIONS\n",
      "    tee(...)\n",
      "        tee(iterable, n=2) --> tuple of n independent iterators.\n",
      "\n",
      "FILE\n",
      "    (built-in)\n",
      "\n",
      "\n"
     ]
    }
   ],
   "source": [
    "import itertools\n",
    "help(itertools)"
   ]
  },
  {
   "cell_type": "code",
   "execution_count": 85,
   "metadata": {},
   "outputs": [
    {
     "name": "stdout",
     "output_type": "stream",
     "text": [
      "loop: 10 9123456789\n",
      "loop: 9 9923456789\n",
      "loop: 8 9993456789\n",
      "loop: 7 9999456789\n",
      "loop: 6 9999956789\n",
      "loop: 5 9999996789\n",
      "loop: 4 9999999789\n",
      "loop: 3 9999999989\n",
      "loop: 2 9999999999\n",
      "loop: 1 9999999999\n"
     ]
    }
   ],
   "source": [
    "# test_ slice #1\n",
    "\n",
    "test='0123456789'\n",
    "for i in range(10,0,-1):\n",
    "    count=9\n",
    "    test = test[:10-i]+str(count)+test[10-i+1:]\n",
    "    print(\"loop:\",i,test)"
   ]
  },
  {
   "cell_type": "code",
   "execution_count": 78,
   "metadata": {},
   "outputs": [
    {
     "name": "stdout",
     "output_type": "stream",
     "text": [
      "0123456789\n",
      "01234567\n"
     ]
    }
   ],
   "source": [
    "#test_slice\n",
    "\n",
    "test='0123456789'\n",
    "test_1=test[:8]\n",
    "print(test)\n",
    "print(test_1)"
   ]
  },
  {
   "cell_type": "code",
   "execution_count": 89,
   "metadata": {},
   "outputs": [
    {
     "data": {
      "text/plain": [
       "'0123457689'"
      ]
     },
     "execution_count": 89,
     "metadata": {},
     "output_type": "execute_result"
    }
   ],
   "source": [
    "# 다른 방법\n",
    "def get_next_permutation(string):\n",
    "    m=len(string)\n",
    "    for i in range(m-1):\n",
    "        if string[m-2-i]<string[m-1-i]:\n",
    "            target_num = string[m-2-i]\n",
    "            new_num = min([x for x in string[m-1-i:] if x>target_num])\n",
    "            last_nums = ''.join(sorted(string[m-2-i:].replace(new_num,\"\")))\n",
    "            result = string[:m-2-i] + new_num + last_nums\n",
    "            return result\n",
    "\n",
    "get_next_num('0123456987')"
   ]
  },
  {
   "cell_type": "code",
   "execution_count": 107,
   "metadata": {},
   "outputs": [
    {
     "name": "stdout",
     "output_type": "stream",
     "text": [
      "0 7 -7\n",
      "1 1 0\n",
      "2 2 0\n",
      "3 4 -1\n",
      "4 0 4\n",
      "5 5 0\n",
      "6 6 0\n",
      "7 9 -2\n",
      "8 8 0\n",
      "9 3 6\n"
     ]
    }
   ],
   "source": [
    "# 다른 방법,,개선-2\n",
    "\n",
    "def get_next_permutation(string):\n",
    "    target = 0\n",
    "    for i,v in enumerate(string):\n",
    "        print(i,v,i-int(v))\n",
    "        \n",
    "            \n",
    "get_next_permutation('7124056983')"
   ]
  },
  {
   "cell_type": "code",
   "execution_count": 167,
   "metadata": {},
   "outputs": [
    {
     "name": "stdout",
     "output_type": "stream",
     "text": [
      "7124056983\n",
      "0 7 7 False\n",
      "1 1 7 False\n",
      "2 2 1 True\n",
      "3 4 2 True\n",
      "4 0 4 False\n",
      "5 5 0 True\n",
      "6 6 5 True\n",
      "7 9 6 True\n",
      "8 8 9 False\n",
      "9 3 8 False\n",
      "target 7\n",
      "9\n",
      "8\n",
      "3\n"
     ]
    }
   ],
   "source": [
    "# 다른 방법,,개선-2 _테스트\n",
    "\n",
    "def get_next_permutation(string):\n",
    "    print(string)\n",
    "    target = 0\n",
    "    for i,v in enumerate(zip(string,string[0]+string[0:9])):\n",
    "        print(i,v[0],v[1],v[0]>v[1])\n",
    "        if v[0] > v[1]:\n",
    "            target = i\n",
    "    print(\"target\",target)\n",
    "    for i in string[target:]:\n",
    "        print(i)\n",
    "get_next_permutation(\"7124056983\")"
   ]
  },
  {
   "cell_type": "code",
   "execution_count": 169,
   "metadata": {},
   "outputs": [
    {
     "name": "stdout",
     "output_type": "stream",
     "text": [
      "7124056983\n",
      "3896504217\n",
      "8965042177\n",
      "3 8 False\n",
      "8 9 False\n",
      "9 6 True\n",
      "target: 6\n"
     ]
    }
   ],
   "source": [
    "# 다른 방법,,개선-2 _테스트2\n",
    "\n",
    "def get_next_permutation(string):\n",
    "    print(string)\n",
    "    string = string[::-1]\n",
    "    print(string)\n",
    "    string_cmp = string[1:]+string[9]\n",
    "    print(string_cmp)\n",
    "    target = ''\n",
    "    for i,j in zip(string,string_cmp):\n",
    "        print(i,j,i>j)\n",
    "        if i>j:\n",
    "            target = j\n",
    "            break\n",
    "    print(\"target:\",target)\n",
    "    \n",
    "get_next_permutation(\"7124056983\")"
   ]
  },
  {
   "cell_type": "code",
   "execution_count": 232,
   "metadata": {},
   "outputs": [
    {
     "name": "stdout",
     "output_type": "stream",
     "text": [
      "target (3, '6')\n",
      "389 6\n",
      "true 1 8\n",
      "true 2 9\n",
      "new_num: (2, '9')\n"
     ]
    }
   ],
   "source": [
    "# 다른 방법,,개선-2 _테스트2-3(문자열 뒤집어서)\n",
    "\n",
    "def get_next_permutation(string):\n",
    "    # 타겟 위치 찾기\n",
    "    string = string[::-1]\n",
    "    target =''\n",
    "    for i,v in enumerate(string):\n",
    "        if not i == 0 and v < string[i-1]:\n",
    "            target = i,v\n",
    "            break\n",
    "    print(\"target\",target)\n",
    "    \n",
    "    # 바꿀수 수 찾기.\n",
    "    print(string[:target[0]],target[1])\n",
    "    new_num = ''\n",
    "    for i,v in enumerate(string[:target[0]]):\n",
    "        if v > target[1]:\n",
    "            print(\"true\",i,v)\n",
    "            new_num = i,v\n",
    "    print(\"new_num:\",new_num)\n",
    "get_next_permutation(\"7124056983\")"
   ]
  },
  {
   "cell_type": "code",
   "execution_count": 234,
   "metadata": {},
   "outputs": [
    {
     "name": "stdout",
     "output_type": "stream",
     "text": [
      "target: (6, '6')\n",
      "6983\n",
      "true 1 9\n",
      "true 2 8\n",
      "new_num: (2, '8')\n"
     ]
    }
   ],
   "source": [
    "# 다른 방법,,개선-2 _테스트2-2(문자열 안뒤집고 그대로)\n",
    "\n",
    "def get_next_permutation(string):\n",
    "    target = ''\n",
    "    for i,v in enumerate(string):\n",
    "        if i+1<len(string) and v<string[i+1]:\n",
    "            target = i,v\n",
    "    print(\"target:\",target)\n",
    "    \n",
    "    print(string[target[0]:])\n",
    "    new_num = ''\n",
    "    target_max = '9'\n",
    "    for i,v in enumerate(string[target[0]:]):\n",
    "        if v > target[1]:\n",
    "            print(\"true\",i,v)\n",
    "            new_num = i,v\n",
    "    print(\"new_num:\",new_num)\n",
    "get_next_permutation(\"7124056983\")"
   ]
  },
  {
   "cell_type": "code",
   "execution_count": 181,
   "metadata": {},
   "outputs": [
    {
     "name": "stdout",
     "output_type": "stream",
     "text": [
      "2 3\n",
      "6\n",
      "93\n",
      "9368504217\n"
     ]
    },
    {
     "data": {
      "text/plain": [
       "'7124058639'"
      ]
     },
     "execution_count": 181,
     "metadata": {},
     "output_type": "execute_result"
    }
   ],
   "source": [
    "# 다른 방법,, 개선-3 원래 함수 수정(string 뒤집어서)\n",
    "\n",
    "def get_next_permutation(string):\n",
    "    string = string[::-1]\n",
    "    # string = '3896504217'\n",
    "    for i,v in enumerate(string):\n",
    "        if not i == 0 and v < string[i-1]:\n",
    "            print(i,v)\n",
    "            new_num = min([x for x in string[:i] if x > v])\n",
    "            print(new_num)\n",
    "            last_nums = ''.join(sorted(string[:i+1].replace(new_num,\"\"),reverse=True))\n",
    "            print(last_nums)\n",
    "            result = last_nums + new_num + string[i+1:]\n",
    "            print(result)\n",
    "            return result[::-1]\n",
    "get_next_permutation(\"7124058396\")"
   ]
  },
  {
   "cell_type": "code",
   "execution_count": 180,
   "metadata": {},
   "outputs": [
    {
     "name": "stdout",
     "output_type": "stream",
     "text": [
      "2783915460\n",
      "Calculation time: 6.81386399269104\n"
     ]
    }
   ],
   "source": [
    "# 다른 방법,, 개선-3 원래 함수 수정(string 뒤집어서)\n",
    "# 속도 테스트\n",
    "\n",
    "import time\n",
    "start = time.time()\n",
    "\n",
    "def get_next_permutation(string):\n",
    "    string = string[::-1]\n",
    "    for i,v in enumerate(string):\n",
    "        if not i == 0 and v < string[i-1]:\n",
    "            new_num = min([x for x in string[:i] if x > v])\n",
    "            last_nums = ''.join(sorted(string[:i+1].replace(new_num,\"\"),reverse=True))\n",
    "            result = last_nums + new_num + string[i+1:]\n",
    "            return result[::-1]\n",
    "        \n",
    "string='0123456789'\n",
    "for i in range(1,1000000):    \n",
    "    string = get_next_permutation(string)\n",
    "print(string)\n",
    "print(\"Calculation time:\",time.time()-start)\n"
   ]
  },
  {
   "cell_type": "code",
   "execution_count": 179,
   "metadata": {},
   "outputs": [
    {
     "name": "stdout",
     "output_type": "stream",
     "text": [
      "2783915460\n",
      "Calculation time: 5.112391471862793\n"
     ]
    }
   ],
   "source": [
    "# 다른 방법,, 개선-3 원래 함수 수정(string 뒤집어서)\n",
    "# 속도 테스트\n",
    "\n",
    "import time\n",
    "start = time.time()\n",
    "\n",
    "def get_next_permutation(string):\n",
    "    string = string[::-1]\n",
    "    for i,v in enumerate(string):\n",
    "        if not i == 0 and v < string[i-1]:\n",
    "            new_num = min([x for x in string[:i] if x > v])\n",
    "            last_nums = ''.join(sorted(string[:i+1].replace(new_num,\"\")))\n",
    "            return string[:i:-1] + new_num + last_nums\n",
    "        \n",
    "string='0123456789'\n",
    "for i in range(1,1000000):    \n",
    "    string = get_next_permutation(string)\n",
    "print(string)\n",
    "print(\"Calculation time:\",time.time()-start)\n"
   ]
  },
  {
   "cell_type": "code",
   "execution_count": 7,
   "metadata": {},
   "outputs": [
    {
     "name": "stdout",
     "output_type": "stream",
     "text": [
      "2783915460\n",
      "Calculation time: 17.858791828155518\n"
     ]
    }
   ],
   "source": [
    "# 다른 방법,, 개선-3 원래 함수 수정(string 뒤집어서)\n",
    "# 위 코드에서 조금 더 개선\n",
    "\n",
    "import time\n",
    "start = time.time()\n",
    "\n",
    "def get_next_permutation(string):\n",
    "    string = string[::-1]\n",
    "    for i,v in enumerate(string):\n",
    "        if not i == 0 and v < string[i-1]:\n",
    "            remain = sorted(string[:i+1])\n",
    "            new_num = remain.pop(remain.index(v)+1)\n",
    "            last_nums = ''.join(remain)\n",
    "            return string[:i:-1]+new_num + last_nums\n",
    "        \n",
    "string='0123456789'\n",
    "for i in range(1,1000000):    \n",
    "    string = get_next_permutation(string)\n",
    "print(string)\n",
    "print(\"Calculation time:\",time.time()-start)\n"
   ]
  },
  {
   "cell_type": "code",
   "execution_count": 6,
   "metadata": {},
   "outputs": [
    {
     "name": "stdout",
     "output_type": "stream",
     "text": [
      "2783915460\n",
      "Calculation time: 13.499558448791504\n"
     ]
    }
   ],
   "source": [
    "# 다른 방법,, 개선-3 원래 함수 수정\n",
    "# 위 코드에서 조금 더 개선\n",
    "# while 문으로 수정, string 안뒤집기.\n",
    "# ===================================================> 최종\n",
    "\n",
    "import time\n",
    "start = time.time()\n",
    "\n",
    "def get_next_permutation(string):\n",
    "    i=8\n",
    "    while i >= 0:\n",
    "        if string[i] < string[i+1]:\n",
    "            target = sorted(string[i:])\n",
    "            new_num = target.pop(target.index(string[i])+1)\n",
    "            last_nums = ''.join(target)\n",
    "            return string[:i] + new_num + last_nums\n",
    "        i-=1\n",
    "\n",
    "string='0123456789'\n",
    "for i in range(1,1000000):    \n",
    "    string = get_next_permutation(string)\n",
    "print(string)\n",
    "print(\"Calculation time:\",time.time()-start)\n"
   ]
  },
  {
   "cell_type": "code",
   "execution_count": 53,
   "metadata": {},
   "outputs": [
    {
     "name": "stdout",
     "output_type": "stream",
     "text": [
      "2783915460\n",
      "Calculation time: 14.093280553817749\n"
     ]
    }
   ],
   "source": [
    "# try to find new way\n",
    "\n",
    "import time\n",
    "start = time.time()\n",
    "\n",
    "string='0123456789'\n",
    "for n in range(1,1000000): \n",
    "    i=8\n",
    "    while i >= 0:\n",
    "        if string[i] < string[i+1]:\n",
    "            target = sorted(string[i:])\n",
    "            new_num = target.pop(target.index(string[i])+1)\n",
    "            last_nums = ''.join(target)\n",
    "            string = string[:i] + new_num + last_nums\n",
    "            break\n",
    "        i-=1\n",
    "\n",
    "print(string)\n",
    "print(\"Calculation time:\",time.time()-start)"
   ]
  },
  {
   "cell_type": "code",
   "execution_count": 52,
   "metadata": {},
   "outputs": [
    {
     "name": "stdout",
     "output_type": "stream",
     "text": [
      "2783915460\n",
      "Calculation time: 18.18688678741455\n"
     ]
    }
   ],
   "source": [
    "# try to find new way\n",
    "\n",
    "import time\n",
    "start = time.time()\n",
    "\n",
    "string='0123456789'\n",
    "for n in range(1,1000000): \n",
    "    for i in range(8,-1,-1):\n",
    "        if string[i] < string[i+1]:\n",
    "            target = sorted(string[i:])\n",
    "            new_num = target.pop(target.index(string[i])+1)\n",
    "            last_nums = ''.join(target)\n",
    "            string = string[:i] + new_num + last_nums\n",
    "            break\n",
    "\n",
    "print(string)\n",
    "print(\"Calculation time:\",time.time()-start)"
   ]
  },
  {
   "cell_type": "code",
   "execution_count": 128,
   "metadata": {},
   "outputs": [
    {
     "data": {
      "text/plain": [
       "1"
      ]
     },
     "execution_count": 128,
     "metadata": {},
     "output_type": "execute_result"
    }
   ],
   "source": [
    "test='4123'\n",
    "sorted(test).index('2')"
   ]
  },
  {
   "cell_type": "code",
   "execution_count": 159,
   "metadata": {},
   "outputs": [
    {
     "name": "stdout",
     "output_type": "stream",
     "text": [
      "0139846725\n",
      "Calculation time: 0.057183265686035156\n"
     ]
    }
   ],
   "source": [
    "# 속도테스트 대조군:원래 함수\n",
    "\n",
    "import time\n",
    "start = time.time()\n",
    "\n",
    "def get_next_permutation(string):\n",
    "    m=len(string)\n",
    "    for i in range(m-1):\n",
    "        if string[m-2-i]<string[m-1-i]:\n",
    "            target_num = string[m-2-i]\n",
    "            new_num = min([x for x in string[m-1-i:] if x>target_num])\n",
    "            last_nums = ''.join(sorted(string[m-2-i:].replace(new_num,\"\")))\n",
    "            result = string[:m-2-i] + new_num + last_nums\n",
    "            return result\n",
    "string='0123456789'\n",
    "for i in range(10000):    \n",
    "    string = get_next_permutation(string)\n",
    "print(string)\n",
    "print(\"Calculation time:\",time.time()-start)"
   ]
  },
  {
   "cell_type": "code",
   "execution_count": 92,
   "metadata": {},
   "outputs": [
    {
     "name": "stdout",
     "output_type": "stream",
     "text": [
      "0123456987\n",
      "1234569870\n",
      "8\n"
     ]
    }
   ],
   "source": [
    "# 다른 방법,,개선-중단\n",
    "\n",
    "def get_next_permutation(string):\n",
    "    print(string)\n",
    "    string = string[1:]+string[0]\n",
    "    print(string)\n",
    "    for i,v in enumerate(string):\n",
    "        if int(v)>int(string[i+1]):\n",
    "            target = string[i+1]\n",
    "            print(target)\n",
    "            break\n",
    "\n",
    "get_next_permutation('0123456987')"
   ]
  },
  {
   "cell_type": "code",
   "execution_count": 61,
   "metadata": {},
   "outputs": [
    {
     "data": {
      "text/plain": [
       "[range(1, 5)]"
      ]
     },
     "execution_count": 61,
     "metadata": {},
     "output_type": "execute_result"
    }
   ],
   "source": [
    "test = [range(1,5)]\n",
    "test[::-1]"
   ]
  },
  {
   "cell_type": "code",
   "execution_count": null,
   "metadata": {},
   "outputs": [],
   "source": [
    "#forum-1\n",
    "import itertools\n",
    "\n",
    "print(''.join(list(itertools.permutations('0123456789',10))[999999]))\n",
    "\n"
   ]
  },
  {
   "cell_type": "code",
   "execution_count": null,
   "metadata": {},
   "outputs": [],
   "source": [
    "#forum-2\n",
    "from itertools import permutations as perm\n",
    "  \n",
    "print(list(perm(range(10)))[999999])"
   ]
  }
 ],
 "metadata": {
  "kernelspec": {
   "display_name": "Python 3",
   "language": "python",
   "name": "python3"
  },
  "language_info": {
   "codemirror_mode": {
    "name": "ipython",
    "version": 3
   },
   "file_extension": ".py",
   "mimetype": "text/x-python",
   "name": "python",
   "nbconvert_exporter": "python",
   "pygments_lexer": "ipython3",
   "version": "3.6.5"
  }
 },
 "nbformat": 4,
 "nbformat_minor": 1
}
