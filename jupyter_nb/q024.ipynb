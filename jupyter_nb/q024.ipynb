{
 "cells": [
  {
   "cell_type": "markdown",
   "metadata": {},
   "source": [
    "# Q-024 Lexicographic permutations\n",
    "\n",
    "\n",
    "A permutation is an ordered arrangement of objects. For example, 3124 is one possible permutation of the digits 1, 2, 3 and 4. If all of the permutations are listed numerically or alphabetically, we call it lexicographic order. The lexicographic permutations of 0, 1 and 2 are:\n",
    "\n",
    "012   021   102   120   201   210\n",
    "\n",
    "What is the millionth lexicographic permutation of the digits 0, 1, 2, 3, 4, 5, 6, 7, 8 and 9?\n",
    "\n"
   ]
  },
  {
   "cell_type": "code",
   "execution_count": 1,
   "metadata": {},
   "outputs": [
    {
     "data": {
      "text/plain": [
       "3628800"
      ]
     },
     "execution_count": 1,
     "metadata": {},
     "output_type": "execute_result"
    }
   ],
   "source": [
    "# 전체 순열의 수\n",
    "\n",
    "def factorial(number):\n",
    "    total=1\n",
    "    for i in range(number,1,-1):\n",
    "        total=total*i\n",
    "    return total\n",
    "factorial(10)"
   ]
  },
  {
   "cell_type": "code",
   "execution_count": 2,
   "metadata": {
    "scrolled": true
   },
   "outputs": [
    {
     "name": "stdout",
     "output_type": "stream",
     "text": [
      "1 1\n",
      "2 2\n",
      "3 6\n",
      "4 24\n",
      "5 120\n",
      "6 720\n",
      "7 5040\n",
      "8 40320\n",
      "9 362880\n",
      "10 3628800\n"
     ]
    }
   ],
   "source": [
    "# \n",
    "def factorial(number):\n",
    "    total=1\n",
    "    for i in range(number,1,-1):\n",
    "        total=total*i\n",
    "    return total\n",
    "\n",
    "i=1\n",
    "while True: \n",
    "    value=factorial(i)\n",
    "    print(i,value)\n",
    "    if value > 1000000:\n",
    "        break\n",
    "    else:\n",
    "        i+=1\n"
   ]
  },
  {
   "cell_type": "code",
   "execution_count": 106,
   "metadata": {},
   "outputs": [
    {
     "name": "stdout",
     "output_type": "stream",
     "text": [
      "loop: 0,0 123456789\n",
      "loop: 1,2 2123456789\n",
      "loop: 2,6 2723456789\n",
      "loop: 3,6 2783456789\n",
      "loop: 4,2 2785456789\n",
      "loop: 5,5 2785956789\n",
      "loop: 6,1 2785966789\n",
      "loop: 7,2 2785968789\n",
      "loop: 8,1 2785968889\n",
      "loop: 9,1 2785968899\n",
      "2785968899\n",
      "1\n"
     ]
    }
   ],
   "source": [
    "#\n",
    "\n",
    "def factorial(number):\n",
    "    total=1\n",
    "    for i in range(number,1,-1):\n",
    "        total=total*i\n",
    "    return total\n",
    "\n",
    "number=123456789\n",
    "target=1000000\n",
    "value=0\n",
    "for i in range(10):\n",
    "    print(\"loop:\",i,end=',')\n",
    "    value=factorial(10-i)\n",
    "    count=0\n",
    "    while value<target:\n",
    "        target=target-value\n",
    "        count+=1\n",
    "    number=number+count*10**(10-i)\n",
    "    print(count,number)\n",
    "print(number)\n",
    "print(target)"
   ]
  },
  {
   "cell_type": "code",
   "execution_count": 121,
   "metadata": {},
   "outputs": [
    {
     "name": "stdout",
     "output_type": "stream",
     "text": [
      "loop: 0, value: 362880  target:1000000, 2 2013456789 10\n",
      "loop: 1, value:  40320  target: 274240, 6 2701345689 10\n",
      "loop: 2, value:   5040  target:  32320, 6 2780134569 10\n",
      "loop: 3, value:    720  target:   2080, 2 2783014569 10\n",
      "loop: 4, value:    120  target:    640, 5 2783901456 10\n",
      "loop: 5, value:     24  target:     40, 1 2783910456 10\n",
      "loop: 6, value:      6  target:     16, 2 2783915046 10\n",
      "loop: 7, value:      2  target:      4, 2 2783915604 10\n",
      "loop: 8, value:      1  target:      0, 0 2783915604 10\n",
      "loop: 9, value:      1  target:      0, 0 2783915604 10\n",
      "2783915604\n",
      "0\n"
     ]
    }
   ],
   "source": [
    "#Final\n",
    "\n",
    "def factorial(number):\n",
    "    total=1\n",
    "    for i in range(number,1,-1):\n",
    "        total=total*i\n",
    "    return total\n",
    "\n",
    "number='0123456789'\n",
    "target=1000000\n",
    "value=0\n",
    "for i in range(10):\n",
    "    print(\"loop:%2d\"%i,end=',')\n",
    "    value=factorial(9-i)\n",
    "    count=0\n",
    "    print(\" value:%7d\"%value,\" target:%7d\"%target,end=', ')\n",
    "    while value<=target:\n",
    "        target=target-value\n",
    "        count+=1\n",
    "    #print(count,number[count],end=';')\n",
    "    #number[count]=i\n",
    "    #print(number.find(str(count)),end='; ')\n",
    "    number = number[:i]+number[i+count]+number[i:i+count]+number[i+count+1:]\n",
    "    print(count,number,len(number))\n",
    "print(number)\n",
    "print(target)\n",
    "\n",
    "#final value is millio+1th value. "
   ]
  },
  {
   "cell_type": "code",
   "execution_count": 121,
   "metadata": {},
   "outputs": [
    {
     "name": "stdout",
     "output_type": "stream",
     "text": [
      "loop: 0, value: 362880  target:1000000, 2 2013456789 10\n",
      "loop: 1, value:  40320  target: 274240, 6 2701345689 10\n",
      "loop: 2, value:   5040  target:  32320, 6 2780134569 10\n",
      "loop: 3, value:    720  target:   2080, 2 2783014569 10\n",
      "loop: 4, value:    120  target:    640, 5 2783901456 10\n",
      "loop: 5, value:     24  target:     40, 1 2783910456 10\n",
      "loop: 6, value:      6  target:     16, 2 2783915046 10\n",
      "loop: 7, value:      2  target:      4, 2 2783915604 10\n",
      "loop: 8, value:      1  target:      0, 0 2783915604 10\n",
      "loop: 9, value:      1  target:      0, 0 2783915604 10\n",
      "2783915604\n",
      "0\n"
     ]
    }
   ],
   "source": [
    "#Final short\n",
    "\n",
    "def factorial(number):\n",
    "    total=1\n",
    "    for i in range(number,1,-1):\n",
    "        total=total*i\n",
    "    return total\n",
    "\n",
    "number='0123456789'\n",
    "target=1000000\n",
    "value=0\n",
    "for i in range(10):\n",
    "    value=factorial(9-i)\n",
    "    count=0\n",
    "    while value<=target:\n",
    "        target=target-value\n",
    "        count+=1\n",
    "    number = number[:i]+number[i+count]+number[i:i+count]+number[i+count+1:]\n",
    "print(number)\n",
    "print(target)\n",
    "\n",
    "#final value is millio+1th value. "
   ]
  },
  {
   "cell_type": "code",
   "execution_count": 85,
   "metadata": {},
   "outputs": [
    {
     "name": "stdout",
     "output_type": "stream",
     "text": [
      "loop: 10 9123456789\n",
      "loop: 9 9923456789\n",
      "loop: 8 9993456789\n",
      "loop: 7 9999456789\n",
      "loop: 6 9999956789\n",
      "loop: 5 9999996789\n",
      "loop: 4 9999999789\n",
      "loop: 3 9999999989\n",
      "loop: 2 9999999999\n",
      "loop: 1 9999999999\n"
     ]
    }
   ],
   "source": [
    "# test_ slice #1\n",
    "\n",
    "test='0123456789'\n",
    "for i in range(10,0,-1):\n",
    "    count=9\n",
    "    test = test[:10-i]+str(count)+test[10-i+1:]\n",
    "    print(\"loop:\",i,test)"
   ]
  },
  {
   "cell_type": "code",
   "execution_count": 78,
   "metadata": {},
   "outputs": [
    {
     "name": "stdout",
     "output_type": "stream",
     "text": [
      "0123456789\n",
      "01234567\n"
     ]
    }
   ],
   "source": [
    "#test_slice\n",
    "\n",
    "test='0123456789'\n",
    "test_1=test[:8]\n",
    "print(test)\n",
    "print(test_1)"
   ]
  },
  {
   "cell_type": "code",
   "execution_count": null,
   "metadata": {},
   "outputs": [],
   "source": [
    "# 다른 방법\n",
    "def get_next_num(test):\n",
    "    m=len(test)\n",
    "    for i in range(m-1):\n",
    "        if test[m-2-i]<test[m-1-i]:\n",
    "            target_num = test[m-2-i]\n",
    "            new_num = min([x for x in test[m-1-i:] if x>target_num])\n",
    "            last_nums = ''.join(sorted(test[m-2-i:].replace(new_num,\"\")))\n",
    "            result = test[:m-2-i] + new_num + last_nums\n",
    "            return result\n"
   ]
  },
  {
   "cell_type": "code",
   "execution_count": 25,
   "metadata": {},
   "outputs": [
    {
     "name": "stdout",
     "output_type": "stream",
     "text": [
      "0 Q 6\n",
      "1 W 5\n",
      "2 E 4\n",
      "3 R 3\n",
      "4 A 2\n",
      "5 S 1\n",
      "6 D 0\n",
      "7 F -1\n"
     ]
    },
    {
     "ename": "IndexError",
     "evalue": "string index out of range",
     "output_type": "error",
     "traceback": [
      "\u001b[0;31m---------------------------------------------------------------------------\u001b[0m",
      "\u001b[0;31mIndexError\u001b[0m                                Traceback (most recent call last)",
      "\u001b[0;32m<ipython-input-25-ed922c70b4ce>\u001b[0m in \u001b[0;36m<module>\u001b[0;34m()\u001b[0m\n\u001b[1;32m      6\u001b[0m            \u001b[0mprint\u001b[0m\u001b[0;34m(\u001b[0m\u001b[0mi\u001b[0m\u001b[0;34m,\u001b[0m\u001b[0mstring\u001b[0m\u001b[0;34m[\u001b[0m\u001b[0mi\u001b[0m\u001b[0;34m]\u001b[0m\u001b[0;34m)\u001b[0m\u001b[0;34m\u001b[0m\u001b[0m\n\u001b[1;32m      7\u001b[0m \u001b[0;34m\u001b[0m\u001b[0m\n\u001b[0;32m----> 8\u001b[0;31m \u001b[0mget_next_num\u001b[0m\u001b[0;34m(\u001b[0m\u001b[0;34m'QWERASDF'\u001b[0m\u001b[0;34m)\u001b[0m\u001b[0;34m\u001b[0m\u001b[0m\n\u001b[0m",
      "\u001b[0;32m<ipython-input-25-ed922c70b4ce>\u001b[0m in \u001b[0;36mget_next_num\u001b[0;34m(string)\u001b[0m\n\u001b[1;32m      4\u001b[0m            \u001b[0mprint\u001b[0m\u001b[0;34m(\u001b[0m\u001b[0mi\u001b[0m\u001b[0;34m,\u001b[0m\u001b[0mstring\u001b[0m\u001b[0;34m[\u001b[0m\u001b[0mi\u001b[0m\u001b[0;34m]\u001b[0m\u001b[0;34m,\u001b[0m\u001b[0mlen\u001b[0m\u001b[0;34m(\u001b[0m\u001b[0mstring\u001b[0m\u001b[0;34m)\u001b[0m\u001b[0;34m-\u001b[0m\u001b[0mi\u001b[0m\u001b[0;34m-\u001b[0m\u001b[0;36m2\u001b[0m\u001b[0;34m)\u001b[0m\u001b[0;34m\u001b[0m\u001b[0m\n\u001b[1;32m      5\u001b[0m        \u001b[0;32mfor\u001b[0m \u001b[0mi\u001b[0m \u001b[0;32min\u001b[0m \u001b[0mrange\u001b[0m\u001b[0;34m(\u001b[0m\u001b[0mlen\u001b[0m\u001b[0;34m(\u001b[0m\u001b[0mstring\u001b[0m\u001b[0;34m)\u001b[0m\u001b[0;34m,\u001b[0m\u001b[0;36m0\u001b[0m\u001b[0;34m,\u001b[0m\u001b[0;34m-\u001b[0m\u001b[0;36m1\u001b[0m\u001b[0;34m)\u001b[0m\u001b[0;34m:\u001b[0m\u001b[0;34m\u001b[0m\u001b[0m\n\u001b[0;32m----> 6\u001b[0;31m            \u001b[0mprint\u001b[0m\u001b[0;34m(\u001b[0m\u001b[0mi\u001b[0m\u001b[0;34m,\u001b[0m\u001b[0mstring\u001b[0m\u001b[0;34m[\u001b[0m\u001b[0mi\u001b[0m\u001b[0;34m]\u001b[0m\u001b[0;34m)\u001b[0m\u001b[0;34m\u001b[0m\u001b[0m\n\u001b[0m\u001b[1;32m      7\u001b[0m \u001b[0;34m\u001b[0m\u001b[0m\n\u001b[1;32m      8\u001b[0m \u001b[0mget_next_num\u001b[0m\u001b[0;34m(\u001b[0m\u001b[0;34m'QWERASDF'\u001b[0m\u001b[0;34m)\u001b[0m\u001b[0;34m\u001b[0m\u001b[0m\n",
      "\u001b[0;31mIndexError\u001b[0m: string index out of range"
     ]
    }
   ],
   "source": [
    " def get_next_num(string):\n",
    "        # find target number to change\n",
    "        for i in range(len(string)):\n",
    "            print(i,string[i],len(string)-i-2)\n",
    "        for i in range(len(string),0,-1):\n",
    "            print(i,string[i])\n",
    "\n",
    "get_next_num('QWERASDF')"
   ]
  },
  {
   "cell_type": "code",
   "execution_count": null,
   "metadata": {},
   "outputs": [],
   "source": [
    "\n",
    "\n",
    "\n",
    "\n",
    "\n",
    "\n",
    "\n",
    "\n",
    "\n",
    "\n",
    "\n",
    "\n",
    "\n",
    "\n",
    "\n",
    "\n",
    "\n",
    "\n",
    "\n",
    "\n",
    "\n",
    "\n",
    "\n",
    "\n",
    "\n",
    "\n",
    "\n",
    "\n",
    "\n",
    "\n",
    "\n",
    "\n",
    "\n",
    "\n",
    "\n",
    "\n",
    "\n",
    "\n",
    "\n"
   ]
  }
 ],
 "metadata": {
  "kernelspec": {
   "display_name": "Python 3",
   "language": "python",
   "name": "python3"
  },
  "language_info": {
   "codemirror_mode": {
    "name": "ipython",
    "version": 3
   },
   "file_extension": ".py",
   "mimetype": "text/x-python",
   "name": "python",
   "nbconvert_exporter": "python",
   "pygments_lexer": "ipython3",
   "version": "3.6.2"
  }
 },
 "nbformat": 4,
 "nbformat_minor": 1
}
