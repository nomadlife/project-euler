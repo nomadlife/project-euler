{
 "cells": [
  {
   "cell_type": "markdown",
   "metadata": {},
   "source": [
    "## Lychrel numbers\n",
    "Not all numbers produce palindromes so quickly. For example,\n",
    "\n",
    "349 + 943 = 1292,\n",
    "1292 + 2921 = 4213\n",
    "4213 + 3124 = 7337\n",
    "\n",
    "like 196, never produce a palindrome.\n",
    "How many Lychrel numbers are there below ten-thousand?"
   ]
  },
  {
   "cell_type": "code",
   "execution_count": null,
   "metadata": {
    "scrolled": true
   },
   "outputs": [],
   "source": [
    "#test for 100\n",
    "def lychrel(num):\n",
    "    newnum = int(str(num)[::-1])\n",
    "    summ = num+newnum\n",
    "    palin = str(summ) == str(summ)[::-1]\n",
    "    print(num,newnum,summ, palin)\n",
    "    return\n",
    "    \n",
    "for i in range(1,100):\n",
    "    lychrel(i)"
   ]
  },
  {
   "cell_type": "code",
   "execution_count": null,
   "metadata": {
    "scrolled": true
   },
   "outputs": [],
   "source": [
    "#test-2 for 100\n",
    "def lychrel(num):\n",
    "    newnum = int(str(num)[::-1])\n",
    "    summ = num+newnum\n",
    "    if str(summ) == str(summ)[::-1] :\n",
    "        print(num,newnum,summ, \"palindrome\")\n",
    "    \n",
    "for i in range(1,100):\n",
    "    lychrel(i)"
   ]
  },
  {
   "cell_type": "code",
   "execution_count": null,
   "metadata": {
    "scrolled": true
   },
   "outputs": [],
   "source": [
    "#test-3 for 100 : subfunctoin-lychrel\n",
    "def lychrel(param):\n",
    "    num=param\n",
    "    for i in range(50):\n",
    "        newnum = int(str(num)[::-1])\n",
    "        summ = num+newnum\n",
    "        if str(summ) == str(summ)[::-1] :\n",
    "            print(param, i,summ, \"palindrome\")\n",
    "            return False\n",
    "        else :\n",
    "            num = summ\n",
    "    print(param, \"is lychrel\")\n",
    "    return True\n",
    "\n",
    "for i in range(1,100):\n",
    "    lychrel(i)"
   ]
  },
  {
   "cell_type": "code",
   "execution_count": null,
   "metadata": {
    "scrolled": true
   },
   "outputs": [],
   "source": [
    "#test-4 for 1000 : main loop\n",
    "def lychrel(param):\n",
    "    num=param\n",
    "    for i in range(51):\n",
    "        newnum = int(str(num)[::-1])\n",
    "        summ = num+newnum\n",
    "        if str(summ) == str(summ)[::-1] :\n",
    "            #print(param, i,summ, \"palindrome\")\n",
    "            return False\n",
    "        else :\n",
    "            num = summ\n",
    "    #print(param,i,summ, \"is lychrel\")\n",
    "    return True\n",
    "\n",
    "for i in range(1,1000):\n",
    "    if lychrel(i):\n",
    "        print(i,\"is lychrel\")"
   ]
  },
  {
   "cell_type": "code",
   "execution_count": 4,
   "metadata": {
    "scrolled": true
   },
   "outputs": [
    {
     "name": "stdout",
     "output_type": "stream",
     "text": [
      "249\n"
     ]
    }
   ],
   "source": [
    "#test-5 for 10000 : final\n",
    "def lychrel(param):\n",
    "    num=param\n",
    "    for i in range(51):\n",
    "        newnum = int(str(num)[::-1])\n",
    "        summ = num+newnum\n",
    "        if str(summ) == str(summ)[::-1] :\n",
    "            return False\n",
    "        else :\n",
    "            num = summ\n",
    "    return True\n",
    "\n",
    "count=0\n",
    "for i in range(1,10000):\n",
    "    if lychrel(i):\n",
    "        count+=1\n",
    "print(count)"
   ]
  },
  {
   "cell_type": "code",
   "execution_count": 1,
   "metadata": {
    "scrolled": true
   },
   "outputs": [
    {
     "name": "stdout",
     "output_type": "stream",
     "text": [
      "249\n"
     ]
    }
   ],
   "source": [
    "# short\n",
    "def lychrel(n):\n",
    "    for i in range(51):\n",
    "        n += int(str(n)[::-1])\n",
    "        if str(n) == str(n)[::-1] :\n",
    "            return False\n",
    "    return True\n",
    "\n",
    "count=0\n",
    "for i in range(1,10000):\n",
    "    if lychrel(i):\n",
    "        count+=1\n",
    "print(count)"
   ]
  }
 ],
 "metadata": {
  "kernelspec": {
   "display_name": "Python 3",
   "language": "python",
   "name": "python3"
  },
  "language_info": {
   "codemirror_mode": {
    "name": "ipython",
    "version": 3
   },
   "file_extension": ".py",
   "mimetype": "text/x-python",
   "name": "python",
   "nbconvert_exporter": "python",
   "pygments_lexer": "ipython3",
   "version": "3.6.5"
  }
 },
 "nbformat": 4,
 "nbformat_minor": 2
}
