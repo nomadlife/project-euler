{
 "cells": [
  {
   "cell_type": "markdown",
   "metadata": {},
   "source": [
    "# p081 Path sum: two ways\n",
    "In the 5 by 5 matrix below, the minimal path sum from the top left to the bottom right, by only moving to the right and down, is indicated in bold red and is equal to 2427.\n",
    "\n",
    "    131\t673\t234\t103\t18\n",
    "    201\t96\t 342\t965\t150\n",
    "    630\t803\t746\t422\t111\n",
    "    537\t699\t497\t121\t956\n",
    "    805\t732\t524\t37 \t331\n",
    "\n",
    "\n",
    "Find the minimal path sum, in matrix.txt (right click and \"Save Link/Target As...\"), a 31K text file containing a 80 by 80 matrix, from the top left to the bottom right by only moving right and down.\n"
   ]
  },
  {
   "cell_type": "code",
   "execution_count": 6,
   "metadata": {},
   "outputs": [
    {
     "name": "stdout",
     "output_type": "stream",
     "text": [
      "80\n",
      "80\n"
     ]
    }
   ],
   "source": [
    "with open('p081_matrix.txt') as data:\n",
    "    numbers = [[i for i in line.split(',')] for line in data.readlines()]\n",
    "print(len(numbers))\n",
    "print(len(numbers[0]))"
   ]
  },
  {
   "cell_type": "code",
   "execution_count": 32,
   "metadata": {},
   "outputs": [
    {
     "name": "stdout",
     "output_type": "stream",
     "text": [
      "80\n",
      "80\n"
     ]
    }
   ],
   "source": [
    "with open('p081_matrix.txt') as data:\n",
    "    number = [[int(i) for i in line.split(',')] for line in data.readlines()]\n",
    "print(len(number))\n",
    "print(len(number[0]))"
   ]
  },
  {
   "cell_type": "code",
   "execution_count": 25,
   "metadata": {},
   "outputs": [
    {
     "data": {
      "text/plain": [
       "59000"
      ]
     },
     "execution_count": 25,
     "metadata": {},
     "output_type": "execute_result"
    }
   ],
   "source": [
    "def findSum2(i=0,j=0):\n",
    "    limit = 20\n",
    "    if i + j == limit:\n",
    "        return int(numbers[i][j])\n",
    "    else :\n",
    "        down = findSum2(i+1,j)\n",
    "        right = findSum2(i,j+1)\n",
    "        if down<right:\n",
    "            return int(numbers[i][j])+down\n",
    "        else:\n",
    "            return int(numbers[i][j])+right\n",
    "\n",
    "findSum2()"
   ]
  },
  {
   "cell_type": "code",
   "execution_count": 26,
   "metadata": {},
   "outputs": [
    {
     "data": {
      "text/plain": [
       "(59000,\n",
       " '4445,→2697,→5115,→718,→2209,→2212,→654,↓1443,→5741,↓1585,→6935,↓4497,→955,→101,→1478,↓2509,↓2493,→4361,↓3653,↓4912,→287')"
      ]
     },
     "execution_count": 26,
     "metadata": {},
     "output_type": "execute_result"
    }
   ],
   "source": [
    "def findPath2(i=0,j=0):\n",
    "    limit = 20\n",
    "    if i + j == limit:\n",
    "        return int(numbers[i][j]),numbers[i][j]\n",
    "    else :\n",
    "        down = findPath2(i+1,j)\n",
    "        right = findPath2(i,j+1)\n",
    "        if down<right:\n",
    "            return int(numbers[i][j])+down[0],numbers[i][j]+',↓'+down[1]\n",
    "        else:\n",
    "            return int(numbers[i][j])+right[0],numbers[i][j]+',→'+right[1]\n",
    "\n",
    "findPath2()"
   ]
  },
  {
   "cell_type": "code",
   "execution_count": 47,
   "metadata": {},
   "outputs": [
    {
     "name": "stdout",
     "output_type": "stream",
     "text": [
      "\n",
      "5541 \n",
      "15148 5561 \n",
      "22354 12946 6879 \n",
      "25974 16060 7400 11105 \n",
      "27048 24084 15160 13484 8055 \n",
      "31343 29522 15737 14578 9419 7507 \n",
      "31853 30698 24745 24575 15569 16490 3880 \n",
      "41297 34254 30341 27254 22946 20751 11503 9621 \n",
      "44624 37655 35718 28775 28343 28433 18861 11206 17242 \n"
     ]
    }
   ],
   "source": [
    "# speed up \n",
    "for i in range(10):\n",
    "    for j in range(i+1):\n",
    "        print(number[i-j][j],end=' ')\n",
    "    print()"
   ]
  },
  {
   "cell_type": "code",
   "execution_count": 34,
   "metadata": {},
   "outputs": [
    {
     "data": {
      "text/plain": [
       "1"
      ]
     },
     "execution_count": 34,
     "metadata": {},
     "output_type": "execute_result"
    }
   ],
   "source": [
    "min(1,2)"
   ]
  },
  {
   "cell_type": "code",
   "execution_count": 35,
   "metadata": {},
   "outputs": [
    {
     "data": {
      "text/plain": [
       "[[0, 0, 0, 0, 0, 0, 0, 0, 0, 0],\n",
       " [0, 0, 0, 0, 0, 0, 0, 0, 0, 0],\n",
       " [0, 0, 0, 0, 0, 0, 0, 0, 0, 0],\n",
       " [0, 0, 0, 0, 0, 0, 0, 0, 0, 0],\n",
       " [0, 0, 0, 0, 0, 0, 0, 0, 0, 0],\n",
       " [0, 0, 0, 0, 0, 0, 0, 0, 0, 0],\n",
       " [0, 0, 0, 0, 0, 0, 0, 0, 0, 0],\n",
       " [0, 0, 0, 0, 0, 0, 0, 0, 0, 0],\n",
       " [0, 0, 0, 0, 0, 0, 0, 0, 0, 0],\n",
       " [0, 0, 0, 0, 0, 0, 0, 0, 0, 0]]"
      ]
     },
     "execution_count": 35,
     "metadata": {},
     "output_type": "execute_result"
    }
   ],
   "source": [
    "[[0]*10]*10"
   ]
  },
  {
   "cell_type": "code",
   "execution_count": 48,
   "metadata": {},
   "outputs": [
    {
     "name": "stdout",
     "output_type": "stream",
     "text": [
      "4445 \n",
      "1096 2697 \n",
      "9607 20 5115 \n",
      "7206 7385 1318 718 \n",
      "3620 3114 521 7586 2209 \n",
      "1074 8024 7760 6084 5167 2212 \n",
      "4295 5438 577 1094 1364 2642 654 \n",
      "510 1176 9008 9997 6150 8983 1443 4348 \n",
      "9444 3556 5596 2679 7377 5182 7623 5741 3079 \n",
      "3327 3401 5377 1521 5397 7682 7358 1585 7621 6821 \n",
      "\n",
      "4445 \n",
      "5541 7142 \n",
      "15148 5561 5679 \n",
      "22354 12946 6879 3519 \n",
      "25974 16060 7400 11105 2888 \n",
      "27048 24084 15160 13484 8055 4865 \n",
      "31343 29522 15737 14578 9419 7507 2437 \n",
      "31853 30698 24745 24575 15569 16490 3880 6785 \n",
      "41297 34254 30341 27254 22946 20751 11503 9621 9864 \n",
      "44624 37655 35718 28775 28343 28433 18861 11206 17242 14618 \n",
      "[44624, 37655, 35718, 28775, 28343, 28433, 18861, 11206, 17242, 14618]\n",
      "11206\n"
     ]
    }
   ],
   "source": [
    "# 10\n",
    "with open('p081_matrix.txt') as data:\n",
    "    number = [[int(i) for i in line.split(',')] for line in data.readlines()]\n",
    "loop=10\n",
    "for i in range(loop):\n",
    "    for j in range(i+1):\n",
    "        print(number[i-j][j],end=' ')\n",
    "    print()\n",
    "    \n",
    "for i in range(loop):\n",
    "    for j in range(i+1):\n",
    "        if i==0 and j==0:\n",
    "            pass\n",
    "        elif j==0:\n",
    "            number[i-j][j] = number[i-j][j] + number[i-j-1][j]\n",
    "        elif i==0:\n",
    "            number[i-j][j] = number[i-j][j] + number[i-j][j-1]\n",
    "        else:\n",
    "            number[i-j][j] = number[i-j][j] + min(number[i-j-1][j],number[i-j][j-1])\n",
    "print()\n",
    "for i in range(loop):\n",
    "    for j in range(i+1):\n",
    "        print(number[i-j][j],end=' ')\n",
    "    print()\n",
    "    \n",
    "result=[0]*loop\n",
    "for j in range(loop):\n",
    "    result[j] = number[loop-1-j][j]\n",
    "    \n",
    "print(result)\n",
    "print(min(result))"
   ]
  },
  {
   "cell_type": "code",
   "execution_count": 52,
   "metadata": {},
   "outputs": [
    {
     "name": "stdout",
     "output_type": "stream",
     "text": [
      "[404948, 365283, 338716, 329164, 304719, 302425, 299674, 284077, 283288, 289396, 281263, 274998, 278750, 273040, 271951, 283477, 278811, 263331, 271326, 261467, 258358, 251218, 247734, 234899, 224622, 225339, 207925, 202195, 184123, 182747, 184398, 184582, 176217, 181054, 171880, 165284, 170734, 164998, 157805, 152796, 156973, 155452, 144375, 141491, 140808, 138952, 131531, 126295, 118754, 113520, 116309, 115807, 115748, 115127, 115591, 96885, 96076, 95774, 92669, 86481, 82664, 84020, 79737, 78103, 70284, 56797, 44789, 47497, 36958, 41531, 43194, 46883, 26213, 26675, 25007, 23814, 22551, 19211, 16507, 13024]\n",
      "13024\n"
     ]
    }
   ],
   "source": [
    "# 80\n",
    "with open('p081_matrix.txt') as data:\n",
    "    number = [[int(i) for i in line.split(',')] for line in data.readlines()]\n",
    "loop=80\n",
    "\n",
    "for i in range(loop):\n",
    "    for j in range(i+1):\n",
    "        if i==0 and j==0:\n",
    "            pass\n",
    "        elif j==0:\n",
    "            number[i-j][j] = number[i-j][j] + number[i-j-1][j]\n",
    "        elif i==0:\n",
    "            number[i-j][j] = number[i-j][j] + number[i-j][j-1]\n",
    "        else:\n",
    "            number[i-j][j] = number[i-j][j] + min(number[i-j-1][j],number[i-j][j-1])\n",
    "\n",
    "result=[0]*loop\n",
    "for j in range(loop):\n",
    "    result[j] = number[loop-1-j][j]\n",
    "    \n",
    "print(result)\n",
    "print(min(result))"
   ]
  },
  {
   "cell_type": "code",
   "execution_count": 59,
   "metadata": {},
   "outputs": [
    {
     "data": {
      "text/plain": [
       "[[9749, 8196, 5679, 3519, 2888],\n",
       " [10845, 8216, 6997, 11105, 8055],\n",
       " [20452, 15601, 7518, 13602, 9419],\n",
       " [27658, 18715, 15278, 14696, 15569],\n",
       " [31278, 26739, 15855, 24693, 22946]]"
      ]
     },
     "execution_count": 59,
     "metadata": {},
     "output_type": "execute_result"
    }
   ],
   "source": [
    "[line[:5] for line in number[:5]]"
   ]
  },
  {
   "cell_type": "code",
   "execution_count": 61,
   "metadata": {},
   "outputs": [
    {
     "data": {
      "text/plain": [
       "[[4445, 2697, 5115, 718, 2209],\n",
       " [1096, 20, 1318, 7586, 5167],\n",
       " [9607, 7385, 521, 6084, 1364],\n",
       " [7206, 3114, 7760, 1094, 6150],\n",
       " [3620, 8024, 577, 9997, 7377]]"
      ]
     },
     "execution_count": 61,
     "metadata": {},
     "output_type": "execute_result"
    }
   ],
   "source": [
    "with open('p081_matrix.txt') as data:\n",
    "    number = [[int(i) for i in line.split(',')] for line in data.readlines()]\n",
    "size=5\n",
    "[line[:size] for line in number[:size]]"
   ]
  },
  {
   "cell_type": "code",
   "execution_count": 72,
   "metadata": {},
   "outputs": [
    {
     "name": "stdout",
     "output_type": "stream",
     "text": [
      "[4445, 2697, 5115, 718, 2209, 2212, 654, 4348, 3079, 6821]\n",
      "[1096, 20, 1318, 7586, 5167, 2642, 1443, 5741, 7621, 7030]\n",
      "[9607, 7385, 521, 6084, 1364, 8983, 7623, 1585, 6935, 8551]\n",
      "[7206, 3114, 7760, 1094, 6150, 5182, 7358, 7387, 4497, 955]\n",
      "[3620, 8024, 577, 9997, 7377, 7682, 1314, 1158, 6282, 6310]\n",
      "[1074, 5438, 9008, 2679, 5397, 5429, 2652, 3403, 770, 9188]\n",
      "[4295, 1176, 5596, 1521, 3061, 9868, 7037, 7129, 8933, 6659]\n",
      "[510, 3556, 5377, 1406, 5721, 4946, 2635, 7847, 4251, 8293]\n",
      "[9444, 3401, 5891, 9716, 1228, 7107, 109, 3563, 2700, 6161]\n",
      "[3327, 4030, 7177, 6336, 9933, 5296, 2621, 4785, 2755, 4832]\n",
      "\n",
      "[4445, 7142, 12257, 12975, 15184, 17396, 18050, 22398, 25477, 32298]\n",
      "[5541, 5561, 6879, 14465, 19632, 20038, 19493, 25234, 32855, 39328]\n",
      "[15148, 12946, 7400, 13484, 14848, 23831, 27116, 26819, 33754, 42305]\n",
      "[22354, 16060, 15160, 14578, 20728, 25910, 33268, 34206, 38251, 39206]\n",
      "[25974, 24084, 15737, 24575, 28105, 33592, 34582, 35364, 41646, 45516]\n",
      "[27048, 29522, 24745, 27254, 32651, 38080, 37234, 38767, 39537, 48725]\n",
      "[31343, 30698, 30341, 28775, 31836, 41704, 44271, 45896, 48470, 55129]\n",
      "[31853, 34254, 35718, 30181, 35902, 40848, 43483, 51330, 52721, 61014]\n",
      "[41297, 37655, 41609, 39897, 37130, 44237, 43592, 47155, 49855, 56016]\n",
      "[44624, 41685, 48786, 46233, 47063, 49533, 46213, 50998, 52610, 57442]\n",
      "57442\n"
     ]
    }
   ],
   "source": [
    "# change code\n",
    "with open('p081_matrix.txt') as data:\n",
    "    number = [[int(i) for i in line.split(',')] for line in data.readlines()]\n",
    "\n",
    "size=10\n",
    "for line in number[:size]:\n",
    "    print(line[:size])\n",
    "    \n",
    "for i in range(size):\n",
    "    for j in range(size):\n",
    "        if i==0 and j==0:\n",
    "            pass\n",
    "        elif i==0:\n",
    "            number[i][j] = number[i][j] + number[i][j-1]\n",
    "        elif j==0:\n",
    "            number[i][j] = number[i][j] + number[i-1][j]\n",
    "        else:\n",
    "            number[i][j] = number[i][j] + min(number[i-1][j],number[i][j-1])\n",
    "print()\n",
    "for line in number[:size]:\n",
    "    print(line[:size])\n",
    "print(number[size-1][size-1])"
   ]
  },
  {
   "cell_type": "code",
   "execution_count": 74,
   "metadata": {},
   "outputs": [
    {
     "name": "stdout",
     "output_type": "stream",
     "text": [
      "427337\n"
     ]
    }
   ],
   "source": [
    "# 80\n",
    "with open('p081_matrix.txt') as data:\n",
    "    number = [[int(i) for i in line.split(',')] for line in data.readlines()]\n",
    "\n",
    "size=80\n",
    "for i in range(size):\n",
    "    for j in range(size):\n",
    "        if i==0 and j==0:\n",
    "            pass\n",
    "        elif i==0:\n",
    "            number[i][j] = number[i][j] + number[i][j-1]\n",
    "        elif j==0:\n",
    "            number[i][j] = number[i][j] + number[i-1][j]\n",
    "        else:\n",
    "            number[i][j] = number[i][j] + min(number[i-1][j],number[i][j-1])\n",
    "\n",
    "print(number[size-1][size-1])"
   ]
  }
 ],
 "metadata": {
  "kernelspec": {
   "display_name": "Python 3",
   "language": "python",
   "name": "python3"
  },
  "language_info": {
   "codemirror_mode": {
    "name": "ipython",
    "version": 3
   },
   "file_extension": ".py",
   "mimetype": "text/x-python",
   "name": "python",
   "nbconvert_exporter": "python",
   "pygments_lexer": "ipython3",
   "version": "3.6.4"
  }
 },
 "nbformat": 4,
 "nbformat_minor": 2
}
