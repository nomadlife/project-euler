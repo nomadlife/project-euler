{
 "cells": [
  {
   "cell_type": "markdown",
   "metadata": {},
   "source": [
    "# Q021 \n",
    "1000 이하의 친화수(?)(Amicable number)의 합."
   ]
  },
  {
   "cell_type": "markdown",
   "metadata": {},
   "source": [
    "# Amicable numbers\n",
    "\n",
    "\n",
    "Let d(n) be defined as the sum of proper divisors of n (numbers less than n which divide evenly into n).\n",
    "If d(a) = b and d(b) = a, where a ≠ b, then a and b are an amicable pair and each of a and b are called amicable numbers.\n",
    "\n",
    "For example, the proper divisors of 220 are 1, 2, 4, 5, 10, 11, 20, 22, 44, 55 and 110; therefore d(220) = 284. The proper divisors of 284 are 1, 2, 4, 71 and 142; so d(284) = 220.\n",
    "\n",
    "Evaluate the sum of all the amicable numbers under 10000.\n",
    "\n",
    "\n",
    "설명을 보니, 친화수란, 어떤수의 약수의 합을 다시 약수들의 합을 구했을때 원래의 수가 될때, 두수는 서로 Amicable number라고 하는군요,,\n",
    "\n",
    "1. 약수의 합을 계산.\n",
    "2. 약수의 합을 다시 약수의 합계산하여, 원래의 수와 같은지 비교."
   ]
  },
  {
   "cell_type": "code",
   "execution_count": 44,
   "metadata": {
    "scrolled": true
   },
   "outputs": [
    {
     "name": "stdout",
     "output_type": "stream",
     "text": [
      "1\n",
      "2\n",
      "3\n",
      "4\n",
      "5\n",
      "6\n",
      "7\n",
      "8\n",
      "9\n",
      "None\n"
     ]
    }
   ],
   "source": [
    "#함수 테스트\n",
    "\n",
    "def getSumOfDivisors(number):\n",
    "    for i in range(1,number):\n",
    "        print(i)\n",
    "print(getSumOfDivisors(10))"
   ]
  },
  {
   "cell_type": "code",
   "execution_count": 43,
   "metadata": {},
   "outputs": [
    {
     "name": "stdout",
     "output_type": "stream",
     "text": [
      "284\n"
     ]
    }
   ],
   "source": [
    "#약수의 합을 반환해주는 함수\n",
    "\n",
    "def getSumOfDivisors(number):\n",
    "    total=0\n",
    "    for i in range(1,number):\n",
    "        if number%i==0:       #약수인지 판단\n",
    "            total=total+i    #약수이면 합산\n",
    "    return(total)\n",
    "\n",
    "print(getSumOfDivisors(220))"
   ]
  },
  {
   "cell_type": "code",
   "execution_count": 55,
   "metadata": {},
   "outputs": [
    {
     "name": "stdout",
     "output_type": "stream",
     "text": [
      "284 1,2,4,5,10,11,20,22,44,55,110, [1, 2, 4, 5, 10, 11, 20, 22, 44, 55, 110]\n",
      "True\n",
      "True\n"
     ]
    }
   ],
   "source": [
    "#합산된 약수들을 문자열로 한번더 확인.\n",
    "\n",
    "def getSumOfDivisors(number):\n",
    "    total=0\n",
    "    string=''\n",
    "    totalList=[]\n",
    "    for i in range(1,number):\n",
    "        if number%i==0:       \n",
    "            total = total+i\n",
    "            string = string+str(i)+','\n",
    "            totalList.append(i)\n",
    "    return(total,string,totalList)\n",
    "\n",
    "grandTotal,grandTotalString,grandTotalList = getSumOfDivisors(220)\n",
    "print(grandTotal,grandTotalString,grandTotalList)\n",
    "\n",
    "# 문자열과 리스트에서 값 존재여부 확인 코드\n",
    "\n",
    "if str(110) not in grandTotalString:\n",
    "    print(\"False\")\n",
    "else:\n",
    "    print(\"True\")\n",
    "    \n",
    "if 110 not in grandTotalList:\n",
    "    print(\"False\")\n",
    "else:\n",
    "    print(\"True\")\n"
   ]
  },
  {
   "cell_type": "code",
   "execution_count": 42,
   "metadata": {
    "scrolled": true
   },
   "outputs": [
    {
     "name": "stdout",
     "output_type": "stream",
     "text": [
      "220\n"
     ]
    }
   ],
   "source": [
    "#약수의 합을 다시 약수의 합을 구해서, 원래의 수가 나오는지 테스트\n",
    "def getSumOfDivisors(number):\n",
    "    total=0\n",
    "    for i in range(1,number):\n",
    "        if number%i==0:       \n",
    "            total=total+i    \n",
    "    return(total)\n",
    "\n",
    "print(getSumOfDivisors(getSumOfDivisors(220)))  # 함수로 나온값을 다시 함수로 전달.\n"
   ]
  },
  {
   "cell_type": "code",
   "execution_count": 51,
   "metadata": {},
   "outputs": [
    {
     "name": "stdout",
     "output_type": "stream",
     "text": [
      "40284\n"
     ]
    }
   ],
   "source": [
    "# Amicable 이면, 전체 합계에 합산. \n",
    "\n",
    "def getSumOfDivisors(number):\n",
    "    total=0\n",
    "    for i in range(1,number):\n",
    "        if number%i==0:       \n",
    "            total=total+i    \n",
    "    return(total)\n",
    "\n",
    "grandTotal=0\n",
    "for i in range(1,10001):\n",
    "    if i == getSumOfDivisors(getSumOfDivisors(i)):\n",
    "        grandTotal = grandTotal + i\n",
    "print(grandTotal)"
   ]
  },
  {
   "cell_type": "code",
   "execution_count": 3,
   "metadata": {},
   "outputs": [
    {
     "name": "stdout",
     "output_type": "stream",
     "text": [
      "220 284 are Amicable number\n",
      "284 220 are Amicable number\n",
      "1184 1210 are Amicable number\n",
      "1210 1184 are Amicable number\n",
      "2620 2924 are Amicable number\n",
      "2924 2620 are Amicable number\n",
      "5020 5564 are Amicable number\n",
      "5564 5020 are Amicable number\n",
      "6232 6368 are Amicable number\n",
      "6368 6232 are Amicable number\n",
      "31626\n",
      "[220, 284, 1184, 1210, 2620, 2924, 5020, 5564, 6232, 6368]\n"
     ]
    }
   ],
   "source": [
    "# 위에서 나온 40284는 문제에서 원하는 답이 아님. \n",
    "# 1. amicable 일경우 수가 두개인데, 위 코드는 i 값 하나만 합산했는데,\n",
    "# 2. 두수를 다 합산할 경우, 루프를 돌면서 중복된 값이 발생할수 있기 때문에, 중복검사를 해야함.\n",
    "# 3. 약수의 합이 원래수와 같은경우도 제외.\n",
    "# 약수의 합이 10000 을 넘을수도 있기때문에, 크기도 검사해줘야 하나, 이문제에서는 값이 범위 안쪽이라 안해도 상관없음(결과론적으로)\n",
    "\n",
    "def getSumOfDivisors(number):\n",
    "    total=0\n",
    "    for i in range(1,number):\n",
    "        if number%i==0:       \n",
    "            total=total+i   \n",
    "    return(total)\n",
    "\n",
    "grandTotal=0\n",
    "grandTotalList=[]\n",
    "for i in range(1,10001):\n",
    "    result_a = getSumOfDivisors(i)\n",
    "    result_b = getSumOfDivisors(result_a)\n",
    "    if i == result_b and i != result_a:\n",
    "        print(i,result_a,\"are Amicable number\")\n",
    "        if i not in grandTotalList:\n",
    "            grandTotal = grandTotal + i\n",
    "            grandTotalList.append(i)\n",
    "        if result_a not in grandTotalList:\n",
    "            grandTotal = grandTotal + result_a\n",
    "            grandTotalList.append(result_a)\n",
    "\n",
    "print(grandTotal)\n",
    "print(grandTotalList)"
   ]
  },
  {
   "cell_type": "code",
   "execution_count": null,
   "metadata": {},
   "outputs": [],
   "source": []
  }
 ],
 "metadata": {
  "kernelspec": {
   "display_name": "Python 3",
   "language": "python",
   "name": "python3"
  },
  "language_info": {
   "codemirror_mode": {
    "name": "ipython",
    "version": 3
   },
   "file_extension": ".py",
   "mimetype": "text/x-python",
   "name": "python",
   "nbconvert_exporter": "python",
   "pygments_lexer": "ipython3",
   "version": "3.5.1"
  }
 },
 "nbformat": 4,
 "nbformat_minor": 1
}
