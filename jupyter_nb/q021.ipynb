{
 "cells": [
  {
   "cell_type": "markdown",
   "metadata": {},
   "source": [
    "# Q021 \n",
    "1000 이하의 친화수(?)(Amicable number)의 합."
   ]
  },
  {
   "cell_type": "markdown",
   "metadata": {},
   "source": [
    "# Amicable numbers\n",
    "\n",
    "\n",
    "Let d(n) be defined as the sum of proper divisors of n (numbers less than n which divide evenly into n).\n",
    "If d(a) = b and d(b) = a, where a ≠ b, then a and b are an amicable pair and each of a and b are called amicable numbers.\n",
    "\n",
    "For example, the proper divisors of 220 are 1, 2, 4, 5, 10, 11, 20, 22, 44, 55 and 110; therefore d(220) = 284. The proper divisors of 284 are 1, 2, 4, 71 and 142; so d(284) = 220.\n",
    "\n",
    "Evaluate the sum of all the amicable numbers under 10000.\n",
    "\n",
    "\n",
    "친화수: 어떤수의 약수의 합을 다시 약수들의 합을 구했을때 원래의 수가 될때, 두수는 서로 Amicable\n"
   ]
  },
  {
   "cell_type": "code",
   "execution_count": 4,
   "metadata": {},
   "outputs": [
    {
     "data": {
      "text/plain": [
       "284"
      ]
     },
     "execution_count": 4,
     "metadata": {},
     "output_type": "execute_result"
    }
   ],
   "source": [
    "# function\n",
    "def divisors(n):\n",
    "    i=2;total=1\n",
    "    while i<n:\n",
    "        if n%i==0:\n",
    "            total+=i\n",
    "        i+=1\n",
    "    return total\n",
    "\n",
    "divisors(220)\n",
    "    "
   ]
  },
  {
   "cell_type": "code",
   "execution_count": 8,
   "metadata": {},
   "outputs": [
    {
     "name": "stdout",
     "output_type": "stream",
     "text": [
      "2 1\n",
      "3 1\n",
      "4 3\n",
      "5 1\n",
      "6 6\n",
      "7 1\n",
      "8 7\n",
      "9 4\n",
      "10 8\n",
      "11 1\n",
      "12 16\n",
      "13 1\n",
      "14 10\n",
      "15 9\n",
      "16 15\n",
      "17 1\n",
      "18 21\n",
      "19 1\n",
      "20 22\n",
      "21 11\n",
      "22 14\n",
      "23 1\n",
      "24 36\n",
      "25 6\n",
      "26 16\n",
      "27 13\n",
      "28 28\n",
      "29 1\n",
      "30 42\n",
      "31 1\n",
      "32 31\n",
      "33 15\n",
      "34 20\n",
      "35 13\n",
      "36 55\n",
      "37 1\n",
      "38 22\n",
      "39 17\n",
      "40 50\n",
      "41 1\n",
      "42 54\n",
      "43 1\n",
      "44 40\n",
      "45 33\n",
      "46 26\n",
      "47 1\n",
      "48 76\n",
      "49 8\n",
      "50 43\n",
      "51 21\n",
      "52 46\n",
      "53 1\n",
      "54 66\n",
      "55 17\n",
      "56 64\n",
      "57 23\n",
      "58 32\n",
      "59 1\n",
      "60 108\n",
      "61 1\n",
      "62 34\n",
      "63 41\n",
      "64 63\n",
      "65 19\n",
      "66 78\n",
      "67 1\n",
      "68 58\n",
      "69 27\n",
      "70 74\n",
      "71 1\n",
      "72 123\n",
      "73 1\n",
      "74 40\n",
      "75 49\n",
      "76 64\n",
      "77 19\n",
      "78 90\n",
      "79 1\n",
      "80 106\n",
      "81 40\n",
      "82 44\n",
      "83 1\n",
      "84 140\n",
      "85 23\n",
      "86 46\n",
      "87 33\n",
      "88 92\n",
      "89 1\n",
      "90 144\n",
      "91 21\n",
      "92 76\n",
      "93 35\n",
      "94 50\n",
      "95 25\n",
      "96 156\n",
      "97 1\n",
      "98 73\n",
      "99 57\n"
     ]
    }
   ],
   "source": [
    "# ~100\n",
    "def divisors(n):\n",
    "    i=2;total=1\n",
    "    while i<n:\n",
    "        if n%i==0:\n",
    "            total+=i\n",
    "        i+=1\n",
    "    return total\n",
    "\n",
    "for i in range(2,100):\n",
    "    print(i,divisors(i))\n",
    "    "
   ]
  },
  {
   "cell_type": "code",
   "execution_count": 13,
   "metadata": {},
   "outputs": [
    {
     "name": "stdout",
     "output_type": "stream",
     "text": [
      "220 284 amicable\n",
      "284 220 amicable\n",
      "1184 1210 amicable\n",
      "1210 1184 amicable\n",
      "2620 2924 amicable\n",
      "2924 2620 amicable\n",
      "5020 5564 amicable\n",
      "5564 5020 amicable\n",
      "6232 6368 amicable\n",
      "6368 6232 amicable\n",
      "time: 35.82081913948059\n"
     ]
    }
   ],
   "source": [
    "# ~10,000\n",
    "from time import time\n",
    "start = time()\n",
    "\n",
    "def divisors(n):\n",
    "    i=2;total=1\n",
    "    while i<n:\n",
    "        if n%i==0:\n",
    "            total+=i\n",
    "        i+=1\n",
    "    return total\n",
    "\n",
    "for i in range(1,10000):\n",
    "    value = divisors(i)\n",
    "    if i != value and divisors(value) == i:\n",
    "        print(i, value, \"amicable\")\n",
    "print('time:',time()-start)"
   ]
  },
  {
   "cell_type": "code",
   "execution_count": 2,
   "metadata": {},
   "outputs": [
    {
     "name": "stdout",
     "output_type": "stream",
     "text": [
      "31626\n",
      "time: 2.0624260902404785\n"
     ]
    }
   ],
   "source": [
    "# speed up\n",
    "from time import time\n",
    "start = time()\n",
    "\n",
    "def divisors(n):\n",
    "    i=2;total={1}\n",
    "    while i<=n**0.5:\n",
    "        if n%i==0:\n",
    "            total.add(i)\n",
    "            total.add(n/i)\n",
    "        i+=1\n",
    "    return sum(total)\n",
    "\n",
    "total=0\n",
    "for i in range(1,10000):\n",
    "    value = divisors(i)\n",
    "    if i != value and divisors(value) == i:\n",
    "        total+=i\n",
    "print(total)\n",
    "print('time:',time()-start)"
   ]
  },
  {
   "cell_type": "code",
   "execution_count": 1,
   "metadata": {},
   "outputs": [
    {
     "name": "stdout",
     "output_type": "stream",
     "text": [
      "31626\n",
      "time: 1.1405954360961914\n"
     ]
    }
   ],
   "source": [
    "# speed up -2\n",
    "from time import time\n",
    "start = time()\n",
    "\n",
    "def divisors(n):\n",
    "    i=2;total={1}\n",
    "    loop=n**0.5\n",
    "    while i<=loop:\n",
    "        if n%i==0:\n",
    "            total.add(i)\n",
    "            total.add(n/i)\n",
    "        i+=1\n",
    "    return sum(total)\n",
    "\n",
    "total=0\n",
    "for i in range(1,10000):\n",
    "    value = divisors(i)\n",
    "    if i != value and divisors(value) == i:\n",
    "        total+=i\n",
    "print(total)\n",
    "print('time:',time()-start)"
   ]
  },
  {
   "cell_type": "markdown",
   "metadata": {},
   "source": [
    "## old ============="
   ]
  },
  {
   "cell_type": "code",
   "execution_count": null,
   "metadata": {},
   "outputs": [],
   "source": [
    "def amicable(n1,n2):\n"
   ]
  },
  {
   "cell_type": "code",
   "execution_count": 44,
   "metadata": {
    "scrolled": true
   },
   "outputs": [
    {
     "name": "stdout",
     "output_type": "stream",
     "text": [
      "1\n",
      "2\n",
      "3\n",
      "4\n",
      "5\n",
      "6\n",
      "7\n",
      "8\n",
      "9\n",
      "None\n"
     ]
    }
   ],
   "source": [
    "#함수 테스트\n",
    "\n",
    "def getSumOfDivisors(number):\n",
    "    for i in range(1,number):\n",
    "        print(i)\n",
    "print(getSumOfDivisors(10))"
   ]
  },
  {
   "cell_type": "code",
   "execution_count": 43,
   "metadata": {},
   "outputs": [
    {
     "name": "stdout",
     "output_type": "stream",
     "text": [
      "284\n"
     ]
    }
   ],
   "source": [
    "#약수의 합을 반환해주는 함수\n",
    "\n",
    "def getSumOfDivisors(number):\n",
    "    total=0\n",
    "    for i in range(1,number):\n",
    "        if number%i==0:       #약수인지 판단\n",
    "            total=total+i    #약수이면 합산\n",
    "    return(total)\n",
    "\n",
    "print(getSumOfDivisors(220))"
   ]
  },
  {
   "cell_type": "code",
   "execution_count": 55,
   "metadata": {},
   "outputs": [
    {
     "name": "stdout",
     "output_type": "stream",
     "text": [
      "284 1,2,4,5,10,11,20,22,44,55,110, [1, 2, 4, 5, 10, 11, 20, 22, 44, 55, 110]\n",
      "True\n",
      "True\n"
     ]
    }
   ],
   "source": [
    "#합산된 약수들을 문자열로 한번더 확인.\n",
    "\n",
    "def getSumOfDivisors(number):\n",
    "    total=0\n",
    "    string=''\n",
    "    totalList=[]\n",
    "    for i in range(1,number):\n",
    "        if number%i==0:       \n",
    "            total = total+i\n",
    "            string = string+str(i)+','\n",
    "            totalList.append(i)\n",
    "    return(total,string,totalList)\n",
    "\n",
    "grandTotal,grandTotalString,grandTotalList = getSumOfDivisors(220)\n",
    "print(grandTotal,grandTotalString,grandTotalList)\n",
    "\n",
    "# 문자열과 리스트에서 값 존재여부 확인 코드\n",
    "\n",
    "if str(110) not in grandTotalString:\n",
    "    print(\"False\")\n",
    "else:\n",
    "    print(\"True\")\n",
    "    \n",
    "if 110 not in grandTotalList:\n",
    "    print(\"False\")\n",
    "else:\n",
    "    print(\"True\")\n"
   ]
  },
  {
   "cell_type": "code",
   "execution_count": 42,
   "metadata": {
    "scrolled": true
   },
   "outputs": [
    {
     "name": "stdout",
     "output_type": "stream",
     "text": [
      "220\n"
     ]
    }
   ],
   "source": [
    "#약수의 합을 다시 약수의 합을 구해서, 원래의 수가 나오는지 테스트\n",
    "def getSumOfDivisors(number):\n",
    "    total=0\n",
    "    for i in range(1,number):\n",
    "        if number%i==0:       \n",
    "            total=total+i    \n",
    "    return(total)\n",
    "\n",
    "print(getSumOfDivisors(getSumOfDivisors(220)))  # 함수로 나온값을 다시 함수로 전달.\n"
   ]
  },
  {
   "cell_type": "code",
   "execution_count": 51,
   "metadata": {},
   "outputs": [
    {
     "name": "stdout",
     "output_type": "stream",
     "text": [
      "40284\n"
     ]
    }
   ],
   "source": [
    "# Amicable 이면, 전체 합계에 합산. \n",
    "\n",
    "def getSumOfDivisors(number):\n",
    "    total=0\n",
    "    for i in range(1,number):\n",
    "        if number%i==0:       \n",
    "            total=total+i    \n",
    "    return(total)\n",
    "\n",
    "grandTotal=0\n",
    "for i in range(1,10001):\n",
    "    if i == getSumOfDivisors(getSumOfDivisors(i)):\n",
    "        grandTotal = grandTotal + i\n",
    "print(grandTotal)"
   ]
  },
  {
   "cell_type": "code",
   "execution_count": 3,
   "metadata": {},
   "outputs": [
    {
     "name": "stdout",
     "output_type": "stream",
     "text": [
      "220 284 are Amicable number\n",
      "284 220 are Amicable number\n",
      "1184 1210 are Amicable number\n",
      "1210 1184 are Amicable number\n",
      "2620 2924 are Amicable number\n",
      "2924 2620 are Amicable number\n",
      "5020 5564 are Amicable number\n",
      "5564 5020 are Amicable number\n",
      "6232 6368 are Amicable number\n",
      "6368 6232 are Amicable number\n",
      "31626\n",
      "[220, 284, 1184, 1210, 2620, 2924, 5020, 5564, 6232, 6368]\n"
     ]
    }
   ],
   "source": [
    "# 위에서 나온 40284는 문제에서 원하는 답이 아님. \n",
    "# 1. amicable 일경우 수가 두개인데, 위 코드는 i 값 하나만 합산했는데,\n",
    "# 2. 두수를 다 합산할 경우, 루프를 돌면서 중복된 값이 발생할수 있기 때문에, 중복검사를 해야함.\n",
    "# 3. 약수의 합이 원래수와 같은경우도 제외.\n",
    "# 약수의 합이 10000 을 넘을수도 있기때문에, 크기도 검사해줘야 하나, 이문제에서는 값이 범위 안쪽이라 안해도 상관없음(결과론적으로)\n",
    "\n",
    "def getSumOfDivisors(number):\n",
    "    total=0\n",
    "    for i in range(1,number):\n",
    "        if number%i==0:       \n",
    "            total=total+i   \n",
    "    return(total)\n",
    "\n",
    "grandTotal=0\n",
    "grandTotalList=[]\n",
    "for i in range(1,10001):\n",
    "    result_a = getSumOfDivisors(i)\n",
    "    result_b = getSumOfDivisors(result_a)\n",
    "    if i == result_b and i != result_a:\n",
    "        print(i,result_a,\"are Amicable number\")\n",
    "        if i not in grandTotalList:\n",
    "            grandTotal = grandTotal + i\n",
    "            grandTotalList.append(i)\n",
    "        if result_a not in grandTotalList:\n",
    "            grandTotal = grandTotal + result_a\n",
    "            grandTotalList.append(result_a)\n",
    "\n",
    "print(grandTotal)\n",
    "print(grandTotalList)"
   ]
  }
 ],
 "metadata": {
  "kernelspec": {
   "display_name": "Python 3",
   "language": "python",
   "name": "python3"
  },
  "language_info": {
   "codemirror_mode": {
    "name": "ipython",
    "version": 3
   },
   "file_extension": ".py",
   "mimetype": "text/x-python",
   "name": "python",
   "nbconvert_exporter": "python",
   "pygments_lexer": "ipython3",
   "version": "3.6.5"
  }
 },
 "nbformat": 4,
 "nbformat_minor": 1
}
