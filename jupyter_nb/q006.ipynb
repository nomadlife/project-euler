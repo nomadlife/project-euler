{
 "cells": [
  {
   "cell_type": "markdown",
   "metadata": {
    "collapsed": true
   },
   "source": [
    "#  Q006 Sum square difference\n",
    "\n",
    "The sum of the squares of the first ten natural numbers is,\n",
    "$$1^2 + 2^2 + ... + 10^2 = 385$$\n",
    "\n",
    "The square of the sum of the first ten natural numbers is,\n",
    "$$(1 + 2 + ... + 10)^2 = 55^2 = 3025$$\n",
    "\n",
    "Hence the difference between the sum of the squares of the first ten natural numbers and the square of the sum is 3025 − 385 = 2640.\n",
    "\n",
    "Find the difference between the sum of the squares of the first one hundred natural numbers and the square of the sum.\n",
    "\n",
    "1부터 100까지의 제곱의 합과, 합의 제곱의 차이\n",
    "\n",
    "1. 루프문 작성\n",
    "2. 제곱의 합과, 합의 제곱 계산 후 뺄셈."
   ]
  },
  {
   "cell_type": "code",
   "execution_count": 2,
   "metadata": {},
   "outputs": [
    {
     "name": "stdout",
     "output_type": "stream",
     "text": [
      "338350 5050 25502500\n",
      "25164150\n"
     ]
    }
   ],
   "source": [
    "total = 0\n",
    "totalsq = 0\n",
    "for i in range(1,101):\n",
    "    totalsq = totalsq + i**2\n",
    "    total = total + i\n",
    "print(totalsq,total,total**2)\n",
    "print(total**2-totalsq)"
   ]
  },
  {
   "cell_type": "code",
   "execution_count": 4,
   "metadata": {},
   "outputs": [
    {
     "name": "stdout",
     "output_type": "stream",
     "text": [
      "25164150\n"
     ]
    }
   ],
   "source": [
    "# forum -1\n",
    "import sympy\n",
    "\n",
    "i, n = sympy.symbols('i n')\n",
    "sum_of_squares = sympy.Sum(i**2, (i, 1, n))\n",
    "square_of_sums = sympy.Sum(i, (i, 1, n))**2\n",
    "difference = sympy.lambdify(n, square_of_sums - sum_of_squares)\n",
    "\n",
    "print(difference(100))"
   ]
  },
  {
   "cell_type": "code",
   "execution_count": 3,
   "metadata": {},
   "outputs": [
    {
     "name": "stdout",
     "output_type": "stream",
     "text": [
      "-25164150\n"
     ]
    }
   ],
   "source": [
    "# forum-2\n",
    "\n",
    "#import math \n",
    "\n",
    "def get_sq_sum(n): \n",
    "    total = 0 \n",
    "    for i in range(1, n + 1): \n",
    "        total = total + pow(i,2) \n",
    "    return total \n",
    "\n",
    "def get_sum_sq(n): \n",
    "    totalsq = 0 \n",
    "    for i in range(1, n+1): \n",
    "        totalsq = totalsq + i \n",
    "    return pow(totalsq, 2) \n",
    "\n",
    "def dif(num): \n",
    "    total_1 = get_sq_sum(num) \n",
    "    total_2 = get_sum_sq(num) \n",
    "    return (total_1 - total_2) \n",
    "\n",
    "print(dif(100))"
   ]
  },
  {
   "cell_type": "code",
   "execution_count": null,
   "metadata": {
    "collapsed": true
   },
   "outputs": [],
   "source": [
    "# forum -3\n",
    "s = 0 \n",
    "for i in range(1,101): \n",
    "    s += i \n",
    "\n",
    "print(s**2) \n",
    "su = 0 \n",
    "\n",
    "for j in range(1,101): \n",
    "    su += j**2 \n",
    "print(su) \n",
    "print(\"Difference = \" + str(s**2 - su))"
   ]
  },
  {
   "cell_type": "code",
   "execution_count": null,
   "metadata": {
    "collapsed": true
   },
   "outputs": [],
   "source": [
    "# forum -4\n",
    "def sum_squares_first(quantities):\n",
    "    total = 0\n",
    "    for quantity in range(quantities+1):\n",
    "        total += quantity**2\n",
    "    return total\n",
    "\n",
    "\n",
    "def square_sum_first(quantities):\n",
    "    return sum(range(quantities+1))**2\n",
    "\n",
    "\n",
    "def difference_square_of_sum(quantities):\n",
    "    sq_s_f = square_sum_first(quantities)\n",
    "    su_s_f = sum_squares_first(quantities)\n",
    "    dif = sq_s_f - su_s_f\n",
    "    print('La suma de los cuadrados es ', su_s_f)\n",
    "    print('El cuadrado de la suma es ', sq_s_f)\n",
    "    print('La diferecia entre {} y {} es de {}'.format(sq_s_f, su_s_f, dif))\n",
    "\n",
    "\n",
    "natural_numbers = 100\n",
    "\n",
    "difference_square_of_sum(natural_numbers)"
   ]
  },
  {
   "cell_type": "code",
   "execution_count": null,
   "metadata": {
    "collapsed": true
   },
   "outputs": [],
   "source": [
    "# forum -5\n",
    "sum_of_squares, sum_of_numbers = 0, 0\n",
    "\n",
    "for n in range(101):\n",
    "    sum_of_squares += n**2\n",
    "    sum_of_numbers += n\n",
    "\n",
    "answer = sum_of_numbers**2 - sum_of_squares\n",
    "\n",
    "print(answer)\n"
   ]
  }
 ],
 "metadata": {
  "kernelspec": {
   "display_name": "Python 3",
   "language": "python",
   "name": "python3"
  },
  "language_info": {
   "codemirror_mode": {
    "name": "ipython",
    "version": 3
   },
   "file_extension": ".py",
   "mimetype": "text/x-python",
   "name": "python",
   "nbconvert_exporter": "python",
   "pygments_lexer": "ipython3",
   "version": "3.6.3"
  }
 },
 "nbformat": 4,
 "nbformat_minor": 2
}
