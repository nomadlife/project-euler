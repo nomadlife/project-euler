{
 "cells": [
  {
   "cell_type": "markdown",
   "metadata": {},
   "source": [
    "Q029 Distinct powers"
   ]
  },
  {
   "cell_type": "code",
   "execution_count": 5,
   "metadata": {},
   "outputs": [
    {
     "name": "stdout",
     "output_type": "stream",
     "text": [
      "4,8,16,32,\n",
      "9,27,81,243,\n",
      "16,64,256,1024,\n",
      "25,125,625,3125,\n",
      "16\n"
     ]
    }
   ],
   "source": [
    "mylist=[]\n",
    "for a in range(2,6):\n",
    "    for b in range(2,6):\n",
    "        value=pow(a,b)\n",
    "        print(value,end=',')\n",
    "        mylist.append(value)\n",
    "    print()\n",
    "print(len(mylist))"
   ]
  },
  {
   "cell_type": "code",
   "execution_count": 6,
   "metadata": {},
   "outputs": [
    {
     "name": "stdout",
     "output_type": "stream",
     "text": [
      "2,3,4,5,6,7,8,9,10,11,12,13,14,15,16,17,18,19,20,21,22,23,24,25,26,27,28,29,30,31,32,33,34,35,36,37,38,39,40,41,42,43,44,45,46,47,48,49,50,51,52,53,54,55,56,57,58,59,60,61,62,63,64,65,66,67,68,69,70,71,72,73,74,75,76,77,78,79,80,81,82,83,84,85,86,87,88,89,90,91,92,93,94,95,96,97,98,99,100,9183\n"
     ]
    }
   ],
   "source": [
    "mylist=[]\n",
    "for a in range(2,101):\n",
    "    print(a,end=',')\n",
    "    for b in range(2,101):\n",
    "        value=pow(a,b)\n",
    "        #print(value,end=',')\n",
    "        if mylist.count(value) ==0:\n",
    "            mylist.append(value)\n",
    "    #print()\n",
    "print(len(mylist))"
   ]
  }
 ],
 "metadata": {
  "kernelspec": {
   "display_name": "Python 3",
   "language": "python",
   "name": "python3"
  },
  "language_info": {
   "codemirror_mode": {
    "name": "ipython",
    "version": 3
   },
   "file_extension": ".py",
   "mimetype": "text/x-python",
   "name": "python",
   "nbconvert_exporter": "python",
   "pygments_lexer": "ipython3",
   "version": "3.5.1"
  }
 },
 "nbformat": 4,
 "nbformat_minor": 2
}
