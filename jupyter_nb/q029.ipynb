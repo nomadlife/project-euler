{
 "cells": [
  {
   "cell_type": "markdown",
   "metadata": {},
   "source": [
    "# Q029 Distinct powers"
   ]
  },
  {
   "cell_type": "code",
   "execution_count": 25,
   "metadata": {},
   "outputs": [
    {
     "name": "stdout",
     "output_type": "stream",
     "text": [
      "4,8,16,32,\n",
      "9,27,81,243,\n",
      "16,64,256,1024,\n",
      "25,125,625,3125,\n",
      "[4, 8, 16, 32, 9, 27, 81, 243, 16, 64, 256, 1024, 25, 125, 625, 3125]\n",
      "<built-in method count of list object at 0x103c5e1c8>\n"
     ]
    }
   ],
   "source": [
    "mylist=[]\n",
    "for a in range(2,6):\n",
    "    for b in range(2,6):\n",
    "        value=pow(a,b)\n",
    "        print(value,end=',')\n",
    "        mylist.append(value)\n",
    "    print()\n",
    "print(mylist)\n",
    "print(mylist.count)"
   ]
  }
 ],
 "metadata": {
  "kernelspec": {
   "display_name": "Python 3",
   "language": "python",
   "name": "python3"
  },
  "language_info": {
   "codemirror_mode": {
    "name": "ipython",
    "version": 3
   },
   "file_extension": ".py",
   "mimetype": "text/x-python",
   "name": "python",
   "nbconvert_exporter": "python",
   "pygments_lexer": "ipython3",
   "version": "3.6.2"
  }
 },
 "nbformat": 4,
 "nbformat_minor": 2
}
