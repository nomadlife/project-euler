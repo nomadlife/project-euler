{
 "cells": [
  {
   "cell_type": "markdown",
   "metadata": {},
   "source": [
    "## p058 Spiral Primes\n",
    "\n",
    "\n",
    "Starting with 1 and spiralling anticlockwise in the following way, a square spiral with side length 7 is formed.\n",
    "\n",
    "``` \n",
    "37 36 35 34 33 32 31\n",
    "38 17 16 15 14 13 30\n",
    "39 18  5  4  3 12 29\n",
    "40 19  6  1  2 11 28\n",
    "41 20  7  8  9 10 27\n",
    "42 21 22 23 24 25 26\n",
    "43 44 45 46 47 48 49\n",
    "```\n",
    "\n",
    "It is interesting to note that the odd squares lie along the bottom right diagonal, but what is more interesting is that 8 out of the 13 numbers lying along both diagonals are prime; that is, a ratio of 8/13 ≈ 62%.\n",
    "If one complete new layer is wrapped around the spiral above, a square spiral with side length 9 will be formed. If this process is continued, what is the side length of the square spiral for which the ratio of primes along both diagonals first falls below 10%?"
   ]
  },
  {
   "cell_type": "code",
   "execution_count": 63,
   "metadata": {},
   "outputs": [
    {
     "name": "stdout",
     "output_type": "stream",
     "text": [
      "\n",
      "3 5 7 9 \n",
      "13 17 21 25 \n",
      "31 37 43 49 \n",
      "57 65 73 81 \n",
      "91 101 111 121 \n",
      "133 145 157 169 \n",
      "183 197 211 225 \n",
      "241 257 273 289 \n",
      "307 325 343 361 \n",
      "381 401 421 441 \n"
     ]
    }
   ],
   "source": [
    "# test, make loop\n",
    "num=1\n",
    "for i in range(1,22,2):\n",
    "    while num < i**2:\n",
    "        num+=(i-1)\n",
    "        print(num,end=' ')\n",
    "    print()\n"
   ]
  },
  {
   "cell_type": "code",
   "execution_count": 66,
   "metadata": {},
   "outputs": [
    {
     "name": "stdout",
     "output_type": "stream",
     "text": [
      "\n",
      "3 5 7 9 \n",
      "13 17 21 25 \n",
      "31 37 43 49 \n",
      "8 13 0.6153846153846154\n"
     ]
    }
   ],
   "source": [
    "# test 2 : prime count\n",
    "from sympy import isprime\n",
    "\n",
    "num=1;count=1;countPrime=0\n",
    "for i in range(1,8,2):\n",
    "    while num < i**2:\n",
    "        num+=(i-1)\n",
    "        print(num,end=' ')\n",
    "        if isprime(num):\n",
    "            countPrime+=1\n",
    "        count+=1\n",
    "    print()\n",
    "print(countPrime,count,countPrime/count)\n"
   ]
  },
  {
   "cell_type": "code",
   "execution_count": 6,
   "metadata": {},
   "outputs": [
    {
     "name": "stdout",
     "output_type": "stream",
     "text": [
      "calc: 0 1 0.0\n",
      "3 3 3 5 3 7 3 9 calc: 3 5 0.6\n",
      "5 13 5 17 5 21 5 25 calc: 5 9 0.5555555555555556\n",
      "7 31 7 37 7 43 7 49 calc: 8 13 0.6153846153846154\n",
      "9 57 9 65 9 73 9 81 calc: 9 17 0.5294117647058824\n",
      "11 91 11 101 11 111 11 121 calc: 10 21 0.47619047619047616\n",
      "13 133 13 145 13 157 13 169 calc: 11 25 0.44\n",
      "15 183 15 197 15 211 15 225 calc: 13 29 0.4482758620689655\n",
      "17 241 17 257 17 273 17 289 calc: 15 33 0.45454545454545453\n",
      "19 307 19 325 19 343 19 361 calc: 16 37 0.43243243243243246\n",
      "21 381 21 401 21 421 21 441 calc: 18 41 0.43902439024390244\n",
      "23 463 23 485 23 507 23 529 calc: 19 45 0.4222222222222222\n",
      "25 553 25 577 25 601 25 625 calc: 21 49 0.42857142857142855\n",
      "27 651 27 677 27 703 27 729 calc: 22 53 0.41509433962264153\n",
      "29 757 29 785 29 813 29 841 calc: 23 57 0.40350877192982454\n",
      "31 871 31 901 31 931 31 961 calc: 23 61 0.3770491803278688\n",
      "33 993 33 1025 33 1057 33 1089 calc: 23 65 0.35384615384615387\n",
      "35 1123 35 1157 35 1191 35 1225 calc: 24 69 0.34782608695652173\n",
      "37 1261 37 1297 37 1333 37 1369 calc: 25 73 0.3424657534246575\n",
      "39 1407 39 1445 39 1483 39 1521 calc: 26 77 0.33766233766233766\n",
      "41 1561 41 1601 41 1641 41 1681 calc: 27 81 0.3333333333333333\n",
      "43 1723 43 1765 43 1807 43 1849 calc: 28 85 0.32941176470588235\n",
      "45 1893 45 1937 45 1981 45 2025 calc: 28 89 0.3146067415730337\n",
      "47 2071 47 2117 47 2163 47 2209 calc: 28 93 0.3010752688172043\n",
      "49 2257 49 2305 49 2353 49 2401 calc: 28 97 0.28865979381443296\n",
      "51 2451 51 2501 51 2551 51 2601 calc: 29 101 0.2871287128712871\n",
      "53 2653 53 2705 53 2757 53 2809 calc: 29 105 0.2761904761904762\n",
      "55 2863 55 2917 55 2971 55 3025 calc: 31 109 0.28440366972477066\n",
      "57 3081 57 3137 57 3193 57 3249 calc: 32 113 0.2831858407079646\n",
      "59 3307 59 3365 59 3423 59 3481 calc: 33 117 0.28205128205128205\n",
      "61 3541 61 3601 61 3661 61 3721 calc: 34 121 0.2809917355371901\n",
      "63 3783 63 3845 63 3907 63 3969 calc: 35 125 0.28\n",
      "65 4033 65 4097 65 4161 65 4225 calc: 35 129 0.2713178294573643\n",
      "67 4291 67 4357 67 4423 67 4489 calc: 37 133 0.2781954887218045\n",
      "69 4557 69 4625 69 4693 69 4761 calc: 37 137 0.27007299270072993\n",
      "71 4831 71 4901 71 4971 71 5041 calc: 38 141 0.2695035460992908\n",
      "73 5113 73 5185 73 5257 73 5329 calc: 39 145 0.2689655172413793\n",
      "75 5403 75 5477 75 5551 75 5625 calc: 40 149 0.2684563758389262\n",
      "77 5701 77 5777 77 5853 77 5929 calc: 41 153 0.2679738562091503\n",
      "79 6007 79 6085 79 6163 79 6241 calc: 43 157 0.27388535031847133\n",
      "81 6321 81 6401 81 6481 81 6561 calc: 44 161 0.2732919254658385\n",
      "83 6643 83 6725 83 6807 83 6889 calc: 44 165 0.26666666666666666\n",
      "85 6973 85 7057 85 7141 85 7225 calc: 45 169 0.26627218934911245\n",
      "87 7311 87 7397 87 7483 87 7569 calc: 45 173 0.26011560693641617\n",
      "89 7657 89 7745 89 7833 89 7921 calc: 45 177 0.2542372881355932\n",
      "91 8011 91 8101 91 8191 91 8281 calc: 48 181 0.26519337016574585\n",
      "93 8373 93 8465 93 8557 93 8649 calc: 48 185 0.2594594594594595\n",
      "95 8743 95 8837 95 8931 95 9025 calc: 49 189 0.25925925925925924\n",
      "97 9121 97 9217 97 9313 97 9409 calc: 49 193 0.2538860103626943\n",
      "99 9507 99 9605 99 9703 99 9801 calc: 49 197 0.24873096446700507\n"
     ]
    }
   ],
   "source": [
    "# test 3 : ~100\n",
    "from sympy import isprime\n",
    "\n",
    "num=1;count=1;countPrime=0\n",
    "for i in range(1,101,2):\n",
    "    while num < i**2:\n",
    "        num+=(i-1)\n",
    "        print(i,num,end=' ')\n",
    "        if isprime(num):\n",
    "            countPrime+=1\n",
    "        count+=1\n",
    "    print('calc:',countPrime,count,countPrime/count)\n"
   ]
  },
  {
   "cell_type": "code",
   "execution_count": 83,
   "metadata": {},
   "outputs": [
    {
     "name": "stdout",
     "output_type": "stream",
     "text": [
      "calc: 0 1 0.0\n",
      "calc: 19999 399960001 4138 39997 0.1034577593319499\n"
     ]
    }
   ],
   "source": [
    "# test 4 : loop change, manual, not possible\n",
    "from sympy import isprime\n",
    "\n",
    "num=1;count=1;countPrime=0;ratio=1\n",
    "for i in range(1,20000,2):\n",
    "    while num < i**2:\n",
    "        num+=(i-1)\n",
    "        #print(num,end=' ')\n",
    "        if isprime(num):\n",
    "            countPrime+=1\n",
    "        count+=1\n",
    "    ratio = countPrime/count\n",
    "    if ratio < 0.1 :\n",
    "        print('calc:',countPrime,count,ratio)\n",
    "print('calc:',i,num,countPrime,count,ratio)"
   ]
  },
  {
   "cell_type": "code",
   "execution_count": 7,
   "metadata": {},
   "outputs": [
    {
     "name": "stdout",
     "output_type": "stream",
     "text": [
      "calc: 688590081 5248 52481 0.09999809454850327\n"
     ]
    }
   ],
   "source": [
    "# test 5 : main loop : infinite\n",
    "# solution\n",
    "from sympy import isprime\n",
    "\n",
    "i=3;num=1;count=1;countPrime=0;ratio=1\n",
    "while ratio > 0.1:\n",
    "    for j in range(1,5):\n",
    "        num+=(i-1)\n",
    "        if isprime(num):\n",
    "            countPrime+=1\n",
    "        count+=1\n",
    "    ratio = countPrime/count\n",
    "    i+=2\n",
    "print('calc:',num,countPrime,count,countPrime/count)"
   ]
  },
  {
   "cell_type": "code",
   "execution_count": 8,
   "metadata": {},
   "outputs": [
    {
     "name": "stdout",
     "output_type": "stream",
     "text": [
      "calc: 26243 688590081 5248 52481 0.09999809454850327\n",
      "calc time 2.499915599822998\n"
     ]
    }
   ],
   "source": [
    "# sol-2 : main loop : infinite \n",
    "# time check\n",
    "import time\n",
    "start_time = time.time() \n",
    "from sympy import isprime\n",
    "\n",
    "i=3;num=1;count=1;countPrime=0;ratio=1\n",
    "while ratio > 0.1:\n",
    "    for j in range(1,5):\n",
    "        num+=(i-1)\n",
    "        if isprime(num):\n",
    "            countPrime+=1\n",
    "        count+=1\n",
    "    ratio = countPrime/count\n",
    "    i+=2\n",
    "\n",
    "print('calc:',i,num,countPrime,count,countPrime/count)\n",
    "print(\"calc time\", time.time() - start_time)"
   ]
  },
  {
   "cell_type": "code",
   "execution_count": 12,
   "metadata": {},
   "outputs": [
    {
     "name": "stdout",
     "output_type": "stream",
     "text": [
      "calc: 38529 1113247297 7705 77053 0.09999610657599314\n",
      "calc time 2.9529805183410645\n"
     ]
    }
   ],
   "source": [
    "# sol-3 : speed up, loop size reduce\n",
    "# more slow, not effected\n",
    "import time\n",
    "start_time = time.time() \n",
    "from sympy import isprime\n",
    "\n",
    "i=3;num=1;count=1;countPrime=0;ratio=1\n",
    "while ratio > 0.1:\n",
    "    for j in range(1,4):\n",
    "        num+=(i-1)\n",
    "        if isprime(num):\n",
    "            countPrime+=1\n",
    "        count+=1\n",
    "    count+=1\n",
    "    ratio = countPrime/count\n",
    "    i+=2\n",
    "\n",
    "print('calc:',i,num,countPrime,count,countPrime/count)\n",
    "print(\"calc time\", time.time() - start_time)"
   ]
  },
  {
   "cell_type": "code",
   "execution_count": 4,
   "metadata": {},
   "outputs": [
    {
     "name": "stdout",
     "output_type": "stream",
     "text": [
      "1 1 1 \n",
      "7 5 3 \n",
      "21 17 13 \n",
      "43 37 31 \n",
      "73 65 57 \n"
     ]
    }
   ],
   "source": [
    "# change loop\n",
    "i=1\n",
    "while i<10:\n",
    "    num=i**2\n",
    "    for j in range(1,4):\n",
    "        num-=(i-1)\n",
    "        print(num,end=' ')\n",
    "    i+=2\n",
    "    print()\n"
   ]
  },
  {
   "cell_type": "code",
   "execution_count": 12,
   "metadata": {},
   "outputs": [
    {
     "name": "stdout",
     "output_type": "stream",
     "text": [
      "7 5 3 calc: 3 5\n",
      "21 17 13 calc: 5 9\n",
      "43 37 31 calc: 8 13\n",
      "73 65 57 calc: 9 17\n"
     ]
    }
   ],
   "source": [
    "# change loop -2\n",
    "from sympy import isprime\n",
    "\n",
    "i=3;count=1;countPrime=0\n",
    "while i<10:\n",
    "    num=i**2\n",
    "    for j in range(1,4):\n",
    "        num-=(i-1)\n",
    "        if isprime(num):\n",
    "            countPrime+=1\n",
    "        count+=1\n",
    "        print(num,end=' ')\n",
    "    count+=1\n",
    "    i+=2\n",
    "    print('calc:',countPrime,count)"
   ]
  },
  {
   "cell_type": "code",
   "execution_count": 15,
   "metadata": {},
   "outputs": [
    {
     "name": "stdout",
     "output_type": "stream",
     "text": [
      "calc: 26241 688590081 5248 52481 0.09999809454850327\n",
      "calc time 1.9685652256011963\n"
     ]
    }
   ],
   "source": [
    "# sol 2-3 : loop change, import sympy\n",
    "import time\n",
    "start_time = time.time() \n",
    "from sympy import isprime\n",
    "\n",
    "i=3;count=1;countPrime=0\n",
    "while True:\n",
    "    num=i**2\n",
    "    if isprime(num-i+1):\n",
    "        countPrime+=1\n",
    "    if isprime(num-i*2+2):\n",
    "        countPrime+=1\n",
    "    if isprime(num-i*3+3):\n",
    "        countPrime+=1\n",
    "    count+=4\n",
    "    if countPrime/count<0.1:\n",
    "        break\n",
    "    i+=2\n",
    "\n",
    "print('calc:',i,num,countPrime,count,countPrime/count)\n",
    "print(\"calc time\", time.time() - start_time)"
   ]
  },
  {
   "cell_type": "code",
   "execution_count": 17,
   "metadata": {},
   "outputs": [
    {
     "name": "stdout",
     "output_type": "stream",
     "text": [
      "calc: 26241 688511361 5248 52481 0.09999809454850327\n",
      "calc time 2.0624260902404785\n"
     ]
    }
   ],
   "source": [
    "# loop : infinite\n",
    "import time\n",
    "start_time = time.time() \n",
    "from sympy import isprime\n",
    "\n",
    "i=3;count=1;countPrime=0\n",
    "while True:\n",
    "    num=i**2\n",
    "    for j in range(1,4):\n",
    "        num-=(i-1)\n",
    "        if isprime(num):\n",
    "            countPrime+=1\n",
    "        count+=1\n",
    "    count+=1\n",
    "    if countPrime/count<0.1:\n",
    "        break\n",
    "    i+=2\n",
    "\n",
    "print('calc:',i,num,countPrime,count,countPrime/count)\n",
    "print(\"calc time\", time.time() - start_time)"
   ]
  },
  {
   "cell_type": "code",
   "execution_count": 21,
   "metadata": {},
   "outputs": [
    {
     "data": {
      "text/plain": [
       "True"
      ]
     },
     "execution_count": 21,
     "metadata": {},
     "output_type": "execute_result"
    }
   ],
   "source": [
    "from sympy import isprime\n",
    "isprime(3)"
   ]
  },
  {
   "cell_type": "code",
   "execution_count": 48,
   "metadata": {},
   "outputs": [
    {
     "name": "stdout",
     "output_type": "stream",
     "text": [
      "1 1 1 1 \n",
      "3 3 5 7 \n",
      "5 13 17 21 \n",
      "7 31 37 43 \n",
      "9 57 65 73 \n",
      "11 91 101 111 \n",
      "13 133 145 157 \n",
      "15 183 197 211 \n",
      "17 241 257 273 \n",
      "19 307 325 343 \n",
      "21 381 401 421 \n"
     ]
    }
   ],
   "source": [
    "def isPrime(num):\n",
    "    if num==1:\n",
    "        return False\n",
    "    loop=num**0.5\n",
    "    i=2\n",
    "    while i<=loop:\n",
    "        if num%i==0:\n",
    "            return False\n",
    "        i+=1\n",
    "    return True\n",
    "\n",
    "for i in range(1,22,2):\n",
    "    print(i,end=' ')\n",
    "    for j in range(1,4):\n",
    "        num = (i-2)**2 + (i-1)*j\n",
    "        print(num,end=' ')\n",
    "        isPrime(num)\n",
    "\n",
    "    print()\n",
    "    # print(i,i+i+1,i+(i+1)*2,i+(i+1)*3)\n"
   ]
  }
 ],
 "metadata": {
  "kernelspec": {
   "display_name": "Python 3",
   "language": "python",
   "name": "python3"
  },
  "language_info": {
   "codemirror_mode": {
    "name": "ipython",
    "version": 3
   },
   "file_extension": ".py",
   "mimetype": "text/x-python",
   "name": "python",
   "nbconvert_exporter": "python",
   "pygments_lexer": "ipython3",
   "version": "3.6.5"
  }
 },
 "nbformat": 4,
 "nbformat_minor": 2
}
