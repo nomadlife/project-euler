{
 "cells": [
  {
   "cell_type": "markdown",
   "metadata": {},
   "source": [
    "# Q047  Distinct primes factors\n",
    "\n",
    "\n",
    "The first two consecutive numbers to have two distinct prime factors are:\n",
    "\n",
    "    14 = 2 × 7\n",
    "    15 = 3 × 5\n",
    "\n",
    "The first three consecutive numbers to have three distinct prime factors are:\n",
    "\n",
    "    644 = 2² × 7 × 23\n",
    "    645 = 3 × 5 × 43\n",
    "    646 = 2 × 17 × 19.\n",
    "\n",
    "Find the first four consecutive integers to have four distinct prime factors each. What is the first of these numbers?\n"
   ]
  },
  {
   "cell_type": "code",
   "execution_count": 25,
   "metadata": {
    "scrolled": true
   },
   "outputs": [
    {
     "name": "stdout",
     "output_type": "stream",
     "text": [
      "num: 11,\n",
      "num: 230,2,5,23,"
     ]
    },
    {
     "data": {
      "text/plain": [
       "3"
      ]
     },
     "execution_count": 25,
     "metadata": {},
     "output_type": "execute_result"
    }
   ],
   "source": [
    "# count prime\n",
    "def count_prime_factor(number):\n",
    "    count=0;max_factor=0\n",
    "    print(\"num:\",number,end=',')\n",
    "    i=2;num=number\n",
    "    while not num ==1 and i<number:\n",
    "        if num % i == 0:\n",
    "            print(i,end=',')\n",
    "            num = num/i\n",
    "            if i>max_factor:\n",
    "                max_factor = i\n",
    "                count+=1\n",
    "        else:\n",
    "            i+=1\n",
    "    return count\n",
    "\n",
    "count_prime_factor(11)\n",
    "print()\n",
    "count_prime_factor(230)          \n",
    "        "
   ]
  },
  {
   "cell_type": "code",
   "execution_count": 3,
   "metadata": {
    "scrolled": true
   },
   "outputs": [
    {
     "name": "stdout",
     "output_type": "stream",
     "text": [
      "loop: 1 0 loop: 2 0 loop: 3 0 loop: 4 1 loop: 5 0 loop: 6 2 loop: 7 0 loop: 8 1 loop: 9 1 loop: 10 2 loop: 11 0 loop: 12 2 loop: 13 0 loop: 14 2 loop: 15 2 loop: 16 1 loop: 17 0 loop: 18 2 loop: 19 0 loop: 20 2 loop: 21 2 loop: 22 2 loop: 23 0 loop: 24 2 loop: 25 1 loop: 26 2 loop: 27 1 loop: 28 2 loop: 29 0 loop: 30 3 loop: 31 0 loop: 32 1 loop: 33 2 loop: 34 2 loop: 35 2 loop: 36 2 loop: 37 0 loop: 38 2 loop: 39 2 loop: 40 2 loop: 41 0 loop: 42 3 loop: 43 0 loop: 44 2 loop: 45 2 loop: 46 2 loop: 47 0 loop: 48 2 loop: 49 1 loop: 50 2 loop: 51 2 loop: 52 2 loop: 53 0 loop: 54 2 loop: 55 2 loop: 56 2 loop: 57 2 loop: 58 2 loop: 59 0 loop: 60 3 loop: 61 0 loop: 62 2 loop: 63 2 loop: 64 1 loop: 65 2 loop: 66 3 loop: 67 0 loop: 68 2 loop: 69 2 loop: 70 3 loop: 71 0 loop: 72 2 loop: 73 0 loop: 74 2 loop: 75 2 loop: 76 2 loop: 77 2 loop: 78 3 loop: 79 0 loop: 80 2 loop: 81 1 loop: 82 2 loop: 83 0 loop: 84 3 loop: 85 2 loop: 86 2 loop: 87 2 loop: 88 2 loop: 89 0 loop: 90 3 loop: 91 2 loop: 92 2 loop: 93 2 loop: 94 2 loop: 95 2 loop: 96 2 loop: 97 0 loop: 98 2 loop: 99 2 loop: 100 2 loop: 101 0 loop: 102 3 loop: 103 0 loop: 104 2 loop: 105 3 loop: 106 2 loop: 107 0 loop: 108 2 loop: 109 0 loop: 110 3 loop: 111 2 loop: 112 2 loop: 113 0 loop: 114 3 loop: 115 2 loop: 116 2 loop: 117 2 loop: 118 2 loop: 119 2 loop: 120 3 loop: 121 1 loop: 122 2 loop: 123 2 loop: 124 2 loop: 125 1 loop: 126 3 loop: 127 0 loop: 128 1 loop: 129 2 loop: 130 3 loop: 131 0 loop: 132 3 loop: 133 2 loop: 134 2 loop: 135 2 loop: 136 2 loop: 137 0 loop: 138 3 loop: 139 0 loop: 140 3 loop: 141 2 loop: 142 2 loop: 143 2 loop: 144 2 loop: 145 2 loop: 146 2 loop: 147 2 loop: 148 2 loop: 149 0 loop: 150 3 loop: 151 0 loop: 152 2 loop: 153 2 loop: 154 3 loop: 155 2 loop: 156 3 loop: 157 0 loop: 158 2 loop: 159 2 loop: 160 2 loop: 161 2 loop: 162 2 loop: 163 0 loop: 164 2 loop: 165 3 loop: 166 2 loop: 167 0 loop: 168 3 loop: 169 1 loop: 170 3 loop: 171 2 loop: 172 2 loop: 173 0 loop: 174 3 loop: 175 2 loop: 176 2 loop: 177 2 loop: 178 2 loop: 179 0 loop: 180 3 loop: 181 0 loop: 182 3 loop: 183 2 loop: 184 2 loop: 185 2 loop: 186 3 loop: 187 2 loop: 188 2 loop: 189 2 loop: 190 3 loop: 191 0 loop: 192 2 loop: 193 0 loop: 194 2 loop: 195 3 loop: 196 2 loop: 197 0 loop: 198 3 loop: 199 0 loop: 200 2 loop: 201 2 loop: 202 2 loop: 203 2 loop: 204 3 loop: 205 2 loop: 206 2 loop: 207 2 loop: 208 2 loop: 209 2 loop: 210 4 loop: 211 0 loop: 212 2 loop: 213 2 loop: 214 2 loop: 215 2 loop: 216 2 loop: 217 2 loop: 218 2 loop: 219 2 loop: 220 3 loop: 221 2 loop: 222 3 loop: 223 0 loop: 224 2 loop: 225 2 loop: 226 2 loop: 227 0 loop: 228 3 loop: 229 0 loop: 230 3 loop: 231 3 loop: 232 2 loop: 233 0 loop: 234 3 loop: 235 2 loop: 236 2 loop: 237 2 loop: 238 3 loop: 239 0 loop: 240 3 loop: 241 0 loop: 242 2 loop: 243 1 loop: 244 2 loop: 245 2 loop: 246 3 loop: 247 2 loop: 248 2 loop: 249 2 loop: 250 2 loop: 251 0 loop: 252 3 loop: 253 2 loop: 254 2 loop: 255 3 loop: 256 1 loop: 257 0 loop: 258 3 loop: 259 2 loop: 260 3 loop: 261 2 loop: 262 2 loop: 263 0 loop: 264 3 loop: 265 2 loop: 266 3 loop: 267 2 loop: 268 2 loop: 269 0 loop: 270 3 loop: 271 0 loop: 272 2 loop: 273 3 loop: 274 2 loop: 275 2 loop: 276 3 loop: 277 0 loop: 278 2 loop: 279 2 loop: 280 3 loop: 281 0 loop: 282 3 loop: 283 0 loop: 284 2 loop: 285 3 loop: 286 3 loop: 287 2 loop: 288 2 loop: 289 1 loop: 290 3 loop: 291 2 loop: 292 2 loop: 293 0 loop: 294 3 loop: 295 2 loop: 296 2 loop: 297 2 loop: 298 2 loop: 299 2 loop: 300 3 loop: 301 2 loop: 302 2 loop: 303 2 loop: 304 2 loop: 305 2 loop: 306 3 loop: 307 0 loop: 308 3 loop: 309 2 loop: 310 3 loop: 311 0 loop: 312 3 loop: 313 0 loop: 314 2 loop: 315 3 loop: 316 2 loop: 317 0 loop: 318 3 loop: 319 2 loop: 320 2 loop: 321 2 loop: 322 3 loop: 323 2 loop: 324 2 loop: 325 2 loop: 326 2 loop: 327 2 loop: 328 2 loop: 329 2 loop: 330 4 loop: 331 0 loop: 332 2 loop: 333 2 loop: 334 2 loop: 335 2 loop: 336 3 loop: 337 0 loop: 338 2 loop: 339 2 loop: 340 3 loop: 341 2 loop: 342 3 loop: 343 1 loop: 344 2 loop: 345 3 loop: 346 2 loop: 347 0 loop: 348 3 loop: 349 0 loop: 350 3 loop: 351 2 loop: 352 2 loop: 353 0 loop: 354 3 loop: 355 2 loop: 356 2 loop: 357 3 loop: 358 2 loop: 359 0 loop: 360 3 loop: 361 1 loop: 362 2 loop: 363 2 loop: 364 3 loop: 365 2 loop: 366 3 loop: 367 0 loop: 368 2 loop: 369 2 loop: 370 3 loop: 371 2 loop: 372 3 loop: 373 0 loop: 374 3 loop: 375 2 loop: 376 2 loop: 377 2 loop: 378 3 loop: 379 0 loop: 380 3 loop: 381 2 loop: 382 2 loop: 383 0 loop: 384 2 loop: 385 3 loop: 386 2 loop: 387 2 loop: 388 2 loop: 389 0 loop: 390 4 loop: 391 2 loop: 392 2 loop: 393 2 loop: 394 2 loop: 395 2 loop: 396 3 loop: 397 0 loop: 398 2 loop: 399 3 loop: 400 2 loop: 401 0 loop: 402 3 loop: 403 2 loop: 404 2 loop: 405 2 loop: 406 3 loop: 407 2 loop: 408 3 loop: 409 0 loop: 410 3 loop: 411 2 loop: 412 2 loop: 413 2 loop: 414 3 loop: 415 2 loop: 416 2 loop: 417 2 loop: 418 3 loop: 419 0 loop: 420 4 loop: 421 0 loop: 422 2 loop: 423 2 loop: 424 2 loop: 425 2 loop: 426 3 loop: 427 2 loop: 428 2 loop: 429 3 loop: 430 3 loop: 431 0 loop: 432 2 loop: 433 0 loop: 434 3 loop: 435 3 loop: 436 2 loop: 437 2 loop: 438 3 loop: 439 0 loop: 440 3 loop: 441 2 loop: 442 3 loop: 443 0 loop: 444 3 loop: 445 2 loop: 446 2 loop: 447 2 loop: 448 2 loop: 449 0 loop: 450 3 loop: 451 2 loop: 452 2 loop: 453 2 loop: 454 2 loop: 455 3 loop: 456 3 loop: 457 0 loop: 458 2 loop: 459 2 loop: 460 3 loop: 461 0 loop: 462 4 loop: 463 0 loop: 464 2 loop: 465 3 loop: 466 2 loop: 467 0 loop: 468 3 loop: 469 2 loop: 470 3 loop: 471 2 loop: 472 2 loop: 473 2 loop: 474 3 loop: 475 2 loop: 476 3 loop: 477 2 loop: 478 2 loop: 479 0 loop: 480 3 loop: 481 2 loop: 482 2 loop: 483 3 loop: 484 2 loop: 485 2 loop: 486 2 loop: 487 0 loop: 488 2 loop: 489 2 loop: 490 3 loop: 491 0 loop: 492 3 loop: 493 2 loop: 494 3 loop: 495 3 loop: 496 2 loop: 497 2 loop: 498 3 loop: 499 0 loop: 500 2 loop: 501 2 loop: 502 2 loop: 503 0 loop: 504 3 loop: 505 2 loop: 506 3 loop: 507 2 loop: 508 2 loop: 509 0 loop: 510 4 loop: 511 2 loop: 512 1 loop: 513 2 loop: 514 2 loop: 515 2 loop: 516 3 loop: 517 2 loop: 518 3 loop: 519 2 loop: 520 3 loop: 521 0 loop: 522 3 loop: 523 0 loop: 524 2 loop: 525 3 loop: 526 2 loop: 527 2 loop: 528 3 loop: 529 1 loop: 530 3 loop: 531 2 loop: 532 3 loop: 533 2 loop: 534 3 loop: 535 2 loop: 536 2 loop: 537 2 loop: 538 2 loop: 539 2 loop: 540 3 loop: 541 0 loop: 542 2 loop: 543 2 loop: 544 2 loop: 545 2 loop: 546 4 loop: 547 0 loop: 548 2 loop: 549 2 loop: 550 3 loop: 551 2 loop: 552 3 loop: 553 2 loop: 554 2 loop: 555 3 loop: 556 2 loop: 557 0 loop: 558 3 loop: 559 2 loop: 560 3 loop: 561 3 loop: 562 2 loop: 563 0 loop: 564 3 loop: 565 2 loop: 566 2 loop: 567 2 loop: 568 2 loop: 569 0 loop: 570 4 loop: 571 0 loop: 572 3 loop: 573 2 loop: 574 3 loop: 575 2 loop: 576 2 loop: 577 0 loop: 578 2 loop: 579 2 loop: 580 3 loop: 581 2 loop: 582 3 loop: 583 2 loop: 584 2 loop: 585 3 loop: 586 2 loop: 587 0 loop: 588 3 loop: 589 2 loop: 590 3 loop: 591 2 loop: 592 2 loop: 593 0 loop: 594 3 loop: 595 3 loop: 596 2 loop: 597 2 loop: 598 3 loop: 599 0 loop: 600 3 loop: 601 0 loop: 602 3 loop: 603 2 loop: 604 2 loop: 605 2 loop: 606 3 loop: 607 0 loop: 608 2 loop: 609 3 loop: 610 3 loop: 611 2 loop: 612 3 loop: 613 0 loop: 614 2 loop: 615 3 loop: 616 3 loop: 617 0 loop: 618 3 loop: 619 0 loop: 620 3 loop: 621 2 loop: 622 2 loop: 623 2 loop: 624 3 loop: 625 1 loop: 626 2 loop: 627 3 loop: 628 2 loop: 629 2 loop: 630 4 loop: 631 0 loop: 632 2 loop: 633 2 loop: 634 2 loop: 635 2 loop: 636 3 loop: 637 2 loop: 638 3 loop: 639 2 loop: 640 2 loop: 641 0 loop: 642 3 loop: 643 0 loop: 644 3 loop: 645 3 loop: 646 3 loop: 647 0 loop: 648 2 loop: 649 2 loop: 650 3 loop: 651 3 loop: 652 2 loop: 653 0 loop: 654 3 loop: 655 2 loop: 656 2 loop: 657 2 loop: 658 3 loop: 659 0 loop: 660 4 loop: 661 0 loop: 662 2 loop: 663 3 loop: 664 2 loop: 665 3 loop: 666 3 loop: 667 2 loop: 668 2 loop: 669 2 loop: 670 3 loop: 671 2 loop: 672 3 loop: 673 0 loop: 674 2 loop: 675 2 loop: 676 2 loop: 677 0 loop: 678 3 loop: 679 2 loop: 680 3 loop: 681 2 loop: 682 3 loop: 683 0 loop: 684 3 loop: 685 2 loop: 686 2 loop: 687 2 loop: 688 2 loop: 689 2 loop: 690 4 loop: 691 0 loop: 692 2 loop: 693 3 loop: 694 2 loop: 695 2 loop: 696 3 loop: 697 2 loop: 698 2 loop: 699 2 loop: 700 3 loop: 701 0 loop: 702 3 loop: 703 2 loop: 704 2 loop: 705 3 loop: 706 2 loop: 707 2 loop: 708 3 loop: 709 0 loop: 710 3 loop: 711 2 loop: 712 2 loop: 713 2 loop: 714 4 loop: 715 3 loop: 716 2 loop: 717 2 loop: 718 2 loop: 719 0 loop: 720 3 loop: 721 2 loop: 722 2 loop: 723 2 loop: 724 2 loop: 725 2 loop: 726 3 loop: 727 0 loop: 728 3 loop: 729 1 loop: 730 3 loop: 731 2 loop: 732 3 loop: 733 0 loop: 734 2 loop: 735 3 loop: 736 2 loop: 737 2 loop: 738 3 loop: 739 0 loop: 740 3 loop: 741 3 loop: 742 3 loop: 743 0 loop: 744 3 loop: 745 2 loop: 746 2 loop: 747 2 loop: 748 3 loop: 749 2 loop: 750 3 loop: 751 0 loop: 752 2 loop: 753 2 loop: 754 3 loop: 755 2 loop: 756 3 loop: 757 0 loop: 758 2 loop: 759 3 loop: 760 3 loop: 761 0 loop: 762 3 loop: 763 2 loop: 764 2 loop: 765 3 loop: 766 2 loop: 767 2 loop: 768 2 loop: 769 0 loop: 770 4 loop: 771 2 loop: 772 2 loop: 773 0 loop: 774 3 loop: 775 2 loop: 776 2 loop: 777 3 loop: 778 2 loop: 779 2 loop: 780 4 loop: 781 2 loop: 782 3 loop: 783 2 loop: 784 2 loop: 785 2 loop: 786 3 loop: 787 0 loop: 788 2 loop: 789 2 loop: 790 3 loop: 791 2 loop: 792 3 loop: 793 2 loop: 794 2 loop: 795 3 loop: 796 2 loop: 797 0 loop: 798 4 loop: 799 2 loop: 800 2 loop: 801 2 loop: 802 2 loop: 803 2 loop: 804 3 loop: 805 3 loop: 806 3 loop: 807 2 loop: 808 2 loop: 809 0 loop: 810 3 loop: 811 0 loop: 812 3 loop: 813 2 loop: 814 3 loop: 815 2 loop: 816 3 loop: 817 2 loop: 818 2 loop: 819 3 loop: 820 3 loop: 821 0 loop: 822 3"
     ]
    },
    {
     "name": "stdout",
     "output_type": "stream",
     "text": [
      " loop: 823 0 loop: 824 2 loop: 825 3 loop: 826 3 loop: 827 0 loop: 828 3 loop: 829 0 loop: 830 3 loop: 831 2 loop: 832 2 loop: 833 2 loop: 834 3 loop: 835 2 loop: 836 3 loop: 837 2 loop: 838 2 loop: 839 0 loop: 840 4 loop: 841 1 loop: 842 2 loop: 843 2 loop: 844 2 loop: 845 2 loop: 846 3 loop: 847 2 loop: 848 2 loop: 849 2 loop: 850 3 loop: 851 2 loop: 852 3 loop: 853 0 loop: 854 3 loop: 855 3 loop: 856 2 loop: 857 0 loop: 858 4 loop: 859 0 loop: 860 3 loop: 861 3 loop: 862 2 loop: 863 0 loop: 864 2 loop: 865 2 loop: 866 2 loop: 867 2 loop: 868 3 loop: 869 2 loop: 870 4 loop: 871 2 loop: 872 2 loop: 873 2 loop: 874 3 loop: 875 2 loop: 876 3 loop: 877 0 loop: 878 2 loop: 879 2 loop: 880 3 loop: 881 0 loop: 882 3 loop: 883 0 loop: 884 3 loop: 885 3 loop: 886 2 loop: 887 0 loop: 888 3 loop: 889 2 loop: 890 3 loop: 891 2 loop: 892 2 loop: 893 2 loop: 894 3 loop: 895 2 loop: 896 2 loop: 897 3 loop: 898 2 loop: 899 2 loop: 900 3 loop: 901 2 loop: 902 3 loop: 903 3 loop: 904 2 loop: 905 2 loop: 906 3 loop: 907 0 loop: 908 2 loop: 909 2 loop: 910 4 loop: 911 0 loop: 912 3 loop: 913 2 loop: 914 2 loop: 915 3 loop: 916 2 loop: 917 2 loop: 918 3 loop: 919 0 loop: 920 3 loop: 921 2 loop: 922 2 loop: 923 2 loop: 924 4 loop: 925 2 loop: 926 2 loop: 927 2 loop: 928 2 loop: 929 0 loop: 930 4 loop: 931 2 loop: 932 2 loop: 933 2 loop: 934 2 loop: 935 3 loop: 936 3 loop: 937 0 loop: 938 3 loop: 939 2 loop: 940 3 loop: 941 0 loop: 942 3 loop: 943 2 loop: 944 2 loop: 945 3 loop: 946 3 loop: 947 0 loop: 948 3 loop: 949 2 loop: 950 3 loop: 951 2 loop: 952 3 loop: 953 0 loop: 954 3 loop: 955 2 loop: 956 2 loop: 957 3 loop: 958 2 loop: 959 2 loop: 960 3 loop: 961 1 loop: 962 3 loop: 963 2 loop: 964 2 loop: 965 2 loop: 966 4 loop: 967 0 loop: 968 2 loop: 969 3 loop: 970 3 loop: 971 0 loop: 972 2 loop: 973 2 loop: 974 2 loop: 975 3 loop: 976 2 loop: 977 0 loop: 978 3 loop: 979 2 loop: 980 3 loop: 981 2 loop: 982 2 loop: 983 0 loop: 984 3 loop: 985 2 loop: 986 3 loop: 987 3 loop: 988 3 loop: 989 2 loop: 990 4 loop: 991 0 loop: 992 2 loop: 993 2 loop: 994 3 loop: 995 2 loop: 996 3 loop: 997 0 loop: 998 2 loop: 999 2 "
     ]
    }
   ],
   "source": [
    "# count prime, ~ 1000\n",
    "\n",
    "def count_prime_factor(number):\n",
    "    count=0;max_factor=0\n",
    "    i=2;num=number\n",
    "    while not num ==1 and i<number:\n",
    "        if num % i == 0:\n",
    "            num = num/i\n",
    "            if i>max_factor:\n",
    "                max_factor = i\n",
    "                count+=1\n",
    "        else:\n",
    "            i+=1\n",
    "    return count\n",
    "\n",
    "for i in range(1,1000):\n",
    "    print(\"loop:\",i, count_prime_factor(i),end=' ')\n",
    "          \n",
    "        "
   ]
  },
  {
   "cell_type": "code",
   "execution_count": 31,
   "metadata": {
    "scrolled": true
   },
   "outputs": [
    {
     "name": "stdout",
     "output_type": "stream",
     "text": [
      "answer: 14\n"
     ]
    }
   ],
   "source": [
    "# 2 combo,  check 14,15\n",
    "\n",
    "def count_prime_factor(number):\n",
    "    count=0;max_factor=0\n",
    "    i=2;num=number\n",
    "    while not num ==1 and i<number:\n",
    "        if num % i == 0:\n",
    "            num = num/i\n",
    "            if i>max_factor:\n",
    "                max_factor = i\n",
    "                count+=1\n",
    "        else:\n",
    "            i+=1\n",
    "    return count\n",
    "\n",
    "previous=0; current=0\n",
    "for i in range(1,100):\n",
    "    previous, current = current, count_prime_factor(i)\n",
    "    #print(\"loop:\",i,previous,current)\n",
    "    if previous == current == 2:\n",
    "        print(\"answer:\",i-1)\n",
    "        break\n"
   ]
  },
  {
   "cell_type": "code",
   "execution_count": 32,
   "metadata": {
    "scrolled": true
   },
   "outputs": [
    {
     "name": "stdout",
     "output_type": "stream",
     "text": [
      "answer: 14\n"
     ]
    }
   ],
   "source": [
    "# 2 combo,  check 14,15, with sympy\n",
    "from sympy.ntheory import primefactors\n",
    "\n",
    "previous=0; current=0\n",
    "for i in range(1,100):\n",
    "    previous, current = current, len(primefactors(i))\n",
    "    #print(\"loop:\",i,previous,current)\n",
    "    if previous == current == 2:\n",
    "        print(\"answer:\",i-1)\n",
    "        break\n"
   ]
  },
  {
   "cell_type": "code",
   "execution_count": 1,
   "metadata": {
    "scrolled": true
   },
   "outputs": [
    {
     "name": "stdout",
     "output_type": "stream",
     "text": [
      "answer: 644\n",
      "calculation time: 0.07811927795410156\n"
     ]
    }
   ],
   "source": [
    "# 3 combo, 644,645,646\n",
    "\n",
    "import time\n",
    "start_time = time.time()\n",
    "\n",
    "def count_prime_factor(number):\n",
    "    count=0;max_factor=0\n",
    "    i=2;num=number\n",
    "    while not num ==1 and i<number:\n",
    "        if num % i == 0:\n",
    "            num = num/i\n",
    "            if i>max_factor:\n",
    "                max_factor = i\n",
    "                count+=1\n",
    "        else:\n",
    "            i+=1\n",
    "    return count\n",
    "\n",
    "pp=0; previous=0; current=0\n",
    "for i in range(1,1000):\n",
    "    pp, previous, current = previous, current, count_prime_factor(i)\n",
    "    #print(\"loop:\",i,pp, previous,current)\n",
    "    if pp == previous == current == 3:\n",
    "        print(\"answer:\",i-2)\n",
    "        break\n",
    "print(\"calculation time:\",time.time() - start_time)"
   ]
  },
  {
   "cell_type": "code",
   "execution_count": 33,
   "metadata": {
    "scrolled": true
   },
   "outputs": [
    {
     "name": "stdout",
     "output_type": "stream",
     "text": [
      "answer: 644\n",
      "calculation time: 0.031597137451171875\n"
     ]
    }
   ],
   "source": [
    "# 3 combo, 644,645,646, with sympy\n",
    "\n",
    "import time\n",
    "start_time = time.time()\n",
    "from sympy.ntheory import primefactors\n",
    "\n",
    "pp=0; previous=0; current=0\n",
    "for i in range(1,1000):\n",
    "    pp, previous, current = previous, current, len(primefactors(i))\n",
    "    #print(\"loop:\",i,pp, previous,current)\n",
    "    if pp == previous == current == 3:\n",
    "        print(\"answer:\",i-2)\n",
    "        break\n",
    "print(\"calculation time:\",time.time() - start_time)"
   ]
  },
  {
   "cell_type": "code",
   "execution_count": 20,
   "metadata": {
    "scrolled": true
   },
   "outputs": [
    {
     "name": "stdout",
     "output_type": "stream",
     "text": [
      "calculation time: 36.04569458961487\n"
     ]
    }
   ],
   "source": [
    "# 4 continuous\n",
    "# slow,,564s\n",
    "import time\n",
    "start_time = time.time()\n",
    "\n",
    "def count_prime_factor(number):\n",
    "    count=0;max_factor=0\n",
    "    i=2;num=number\n",
    "    while not num ==1 and i<number:\n",
    "        if num % i == 0:\n",
    "            num = num/i\n",
    "            if i>max_factor:\n",
    "                max_factor = i\n",
    "                count+=1\n",
    "        else:\n",
    "            i+=1\n",
    "    return count\n",
    "\n",
    "ppp=0; pp=0; previous=0; current=0\n",
    "for i in range(1,20000):\n",
    "    ppp,pp, previous, current = pp,previous, current, count_prime_factor(i)\n",
    "    #print(\"loop:\",i,ppp, pp, previous,current)\n",
    "    if ppp == pp == previous == current == 4:\n",
    "        print(\"answer:\",i-3)\n",
    "        break\n",
    "print(\"calculation time:\",time.time() - start_time)"
   ]
  },
  {
   "cell_type": "code",
   "execution_count": 36,
   "metadata": {
    "scrolled": true
   },
   "outputs": [
    {
     "name": "stdout",
     "output_type": "stream",
     "text": [
      "answer: 134043\n",
      "calculation time: 13.765018463134766\n"
     ]
    }
   ],
   "source": [
    "# 4 continuous, with sympy\n",
    "\n",
    "import time\n",
    "start_time = time.time()\n",
    "\n",
    "from sympy.ntheory import primefactors\n",
    "\n",
    "ppp=0; pp=0; previous=0; current=0\n",
    "for i in range(1,1000000):\n",
    "    ppp,pp, previous, current = pp,previous, current, len(primefactors(i))\n",
    "    #print(\"loop:\",i,ppp, pp, previous,current)\n",
    "    if ppp == pp == previous == current == 4:\n",
    "        print(\"answer:\",i-3)\n",
    "        break\n",
    "        \n",
    "print(\"calculation time:\",time.time() - start_time)"
   ]
  },
  {
   "cell_type": "code",
   "execution_count": 38,
   "metadata": {
    "scrolled": true
   },
   "outputs": [
    {
     "ename": "KeyboardInterrupt",
     "evalue": "",
     "output_type": "error",
     "traceback": [
      "\u001b[1;31m---------------------------------------------------------------------------\u001b[0m",
      "\u001b[1;31mKeyboardInterrupt\u001b[0m                         Traceback (most recent call last)",
      "\u001b[1;32m<ipython-input-38-d766577b83d2>\u001b[0m in \u001b[0;36m<module>\u001b[1;34m()\u001b[0m\n\u001b[0;32m     18\u001b[0m \u001b[0mcache\u001b[0m\u001b[1;33m=\u001b[0m\u001b[1;33m[\u001b[0m\u001b[1;33m]\u001b[0m\u001b[1;33m\u001b[0m\u001b[0m\n\u001b[0;32m     19\u001b[0m \u001b[1;32mfor\u001b[0m \u001b[0mi\u001b[0m \u001b[1;32min\u001b[0m \u001b[0mrange\u001b[0m\u001b[1;33m(\u001b[0m\u001b[1;36m1\u001b[0m\u001b[1;33m,\u001b[0m\u001b[1;36m200000\u001b[0m\u001b[1;33m)\u001b[0m\u001b[1;33m:\u001b[0m\u001b[1;33m\u001b[0m\u001b[0m\n\u001b[1;32m---> 20\u001b[1;33m     \u001b[0mcache\u001b[0m\u001b[1;33m.\u001b[0m\u001b[0mappend\u001b[0m\u001b[1;33m(\u001b[0m\u001b[0mcount_prime_factor\u001b[0m\u001b[1;33m(\u001b[0m\u001b[0mi\u001b[0m\u001b[1;33m)\u001b[0m\u001b[1;33m)\u001b[0m\u001b[1;33m\u001b[0m\u001b[0m\n\u001b[0m\u001b[0;32m     21\u001b[0m \u001b[1;33m\u001b[0m\u001b[0m\n\u001b[0;32m     22\u001b[0m \u001b[1;32mfor\u001b[0m \u001b[0mi\u001b[0m \u001b[1;32min\u001b[0m \u001b[0mcache\u001b[0m\u001b[1;33m:\u001b[0m\u001b[1;33m\u001b[0m\u001b[0m\n",
      "\u001b[1;32m<ipython-input-38-d766577b83d2>\u001b[0m in \u001b[0;36mcount_prime_factor\u001b[1;34m(number)\u001b[0m\n\u001b[0;32m      6\u001b[0m     \u001b[0mcount\u001b[0m\u001b[1;33m=\u001b[0m\u001b[1;36m0\u001b[0m\u001b[1;33m;\u001b[0m\u001b[0mmax_factor\u001b[0m\u001b[1;33m=\u001b[0m\u001b[1;36m0\u001b[0m\u001b[1;33m\u001b[0m\u001b[0m\n\u001b[0;32m      7\u001b[0m     \u001b[0mi\u001b[0m\u001b[1;33m=\u001b[0m\u001b[1;36m2\u001b[0m\u001b[1;33m;\u001b[0m\u001b[0mnum\u001b[0m\u001b[1;33m=\u001b[0m\u001b[0mnumber\u001b[0m\u001b[1;33m\u001b[0m\u001b[0m\n\u001b[1;32m----> 8\u001b[1;33m     \u001b[1;32mwhile\u001b[0m \u001b[1;32mnot\u001b[0m \u001b[0mnum\u001b[0m \u001b[1;33m==\u001b[0m\u001b[1;36m1\u001b[0m \u001b[1;32mand\u001b[0m \u001b[0mi\u001b[0m\u001b[1;33m<\u001b[0m\u001b[0mnumber\u001b[0m\u001b[1;33m:\u001b[0m\u001b[1;33m\u001b[0m\u001b[0m\n\u001b[0m\u001b[0;32m      9\u001b[0m         \u001b[1;32mif\u001b[0m \u001b[0mnum\u001b[0m \u001b[1;33m%\u001b[0m \u001b[0mi\u001b[0m \u001b[1;33m==\u001b[0m \u001b[1;36m0\u001b[0m\u001b[1;33m:\u001b[0m\u001b[1;33m\u001b[0m\u001b[0m\n\u001b[0;32m     10\u001b[0m             \u001b[0mnum\u001b[0m \u001b[1;33m=\u001b[0m \u001b[0mnum\u001b[0m\u001b[1;33m/\u001b[0m\u001b[0mi\u001b[0m\u001b[1;33m\u001b[0m\u001b[0m\n",
      "\u001b[1;31mKeyboardInterrupt\u001b[0m: "
     ]
    }
   ],
   "source": [
    "# 4 combo , ready made list,, too much slow, hold\n",
    "import time\n",
    "start_time = time.time()\n",
    "\n",
    "def count_prime_factor(number):\n",
    "    count=0;max_factor=0\n",
    "    i=2;num=number\n",
    "    while not num ==1 and i<number:\n",
    "        if num % i == 0:\n",
    "            num = num/i\n",
    "            if i>max_factor:\n",
    "                max_factor = i\n",
    "                count+=1\n",
    "        else:\n",
    "            i+=1\n",
    "    return count\n",
    "\n",
    "cache=[]\n",
    "for i in range(1,200000):\n",
    "    cache.append(count_prime_factor(i))\n",
    "    \n",
    "for i in cache:\n",
    "    #print(i,cache[i-1])\n",
    "    #ppp,pp, previous, current = pp,previous, current, count_prime_factor(i)\n",
    "    if i>=4 and cache[i-4] == cache[i-3] == cache[i-2] == cache[i-1] == 4:\n",
    "        print(\"answer:\",i-3)\n",
    "        break\n",
    "#print(len(cache))\n",
    "print(\"calculation time:\",time.time() - start_time)"
   ]
  },
  {
   "cell_type": "code",
   "execution_count": 39,
   "metadata": {
    "scrolled": true
   },
   "outputs": [
    {
     "ename": "KeyboardInterrupt",
     "evalue": "",
     "output_type": "error",
     "traceback": [
      "\u001b[1;31m---------------------------------------------------------------------------\u001b[0m",
      "\u001b[1;31mKeyboardInterrupt\u001b[0m                         Traceback (most recent call last)",
      "\u001b[1;32m<ipython-input-39-babc5194745a>\u001b[0m in \u001b[0;36m<module>\u001b[1;34m()\u001b[0m\n\u001b[0;32m     18\u001b[0m \u001b[0mcache\u001b[0m\u001b[1;33m=\u001b[0m\u001b[1;33m{\u001b[0m\u001b[1;33m}\u001b[0m\u001b[1;33m\u001b[0m\u001b[0m\n\u001b[0;32m     19\u001b[0m \u001b[1;32mfor\u001b[0m \u001b[0mi\u001b[0m \u001b[1;32min\u001b[0m \u001b[0mrange\u001b[0m\u001b[1;33m(\u001b[0m\u001b[1;36m1\u001b[0m\u001b[1;33m,\u001b[0m\u001b[1;36m200000\u001b[0m\u001b[1;33m)\u001b[0m\u001b[1;33m:\u001b[0m\u001b[1;33m\u001b[0m\u001b[0m\n\u001b[1;32m---> 20\u001b[1;33m     \u001b[0mcache\u001b[0m\u001b[1;33m[\u001b[0m\u001b[0mi\u001b[0m\u001b[1;33m]\u001b[0m\u001b[1;33m=\u001b[0m\u001b[0mcount_prime_factor\u001b[0m\u001b[1;33m(\u001b[0m\u001b[0mi\u001b[0m\u001b[1;33m)\u001b[0m\u001b[1;33m\u001b[0m\u001b[0m\n\u001b[0m\u001b[0;32m     21\u001b[0m     \u001b[1;31m#print(i,cache[i-1])\u001b[0m\u001b[1;33m\u001b[0m\u001b[1;33m\u001b[0m\u001b[0m\n\u001b[0;32m     22\u001b[0m     \u001b[1;31m#ppp,pp, previous, current = pp,previous, current, count_prime_factor(i)\u001b[0m\u001b[1;33m\u001b[0m\u001b[1;33m\u001b[0m\u001b[0m\n",
      "\u001b[1;32m<ipython-input-39-babc5194745a>\u001b[0m in \u001b[0;36mcount_prime_factor\u001b[1;34m(number)\u001b[0m\n\u001b[0;32m     13\u001b[0m                 \u001b[0mcount\u001b[0m\u001b[1;33m+=\u001b[0m\u001b[1;36m1\u001b[0m\u001b[1;33m\u001b[0m\u001b[0m\n\u001b[0;32m     14\u001b[0m         \u001b[1;32melse\u001b[0m\u001b[1;33m:\u001b[0m\u001b[1;33m\u001b[0m\u001b[0m\n\u001b[1;32m---> 15\u001b[1;33m             \u001b[0mi\u001b[0m\u001b[1;33m+=\u001b[0m\u001b[1;36m1\u001b[0m\u001b[1;33m\u001b[0m\u001b[0m\n\u001b[0m\u001b[0;32m     16\u001b[0m     \u001b[1;32mreturn\u001b[0m \u001b[0mcount\u001b[0m\u001b[1;33m\u001b[0m\u001b[0m\n\u001b[0;32m     17\u001b[0m \u001b[1;33m\u001b[0m\u001b[0m\n",
      "\u001b[1;31mKeyboardInterrupt\u001b[0m: "
     ]
    }
   ],
   "source": [
    "# test, ready made dict, \n",
    "import time\n",
    "start_time = time.time()\n",
    "\n",
    "def count_prime_factor(number):\n",
    "    count=0;max_factor=0\n",
    "    i=2;num=number\n",
    "    while not num ==1 and i<number:\n",
    "        if num % i == 0:\n",
    "            num = num/i\n",
    "            if i>max_factor:\n",
    "                max_factor = i\n",
    "                count+=1\n",
    "        else:\n",
    "            i+=1\n",
    "    return count\n",
    "\n",
    "cache={}\n",
    "for i in range(1,200000):\n",
    "    cache[i]=count_prime_factor(i)\n",
    "    #print(i,cache[i-1])\n",
    "    #ppp,pp, previous, current = pp,previous, current, count_prime_factor(i)\n",
    "    if i>=4 and cache[i-3] == cache[i-2] == cache[i-1] == cache[i] == 4:\n",
    "        print(\"answer:\",i-3)\n",
    "        break\n",
    "#print(cache)\n",
    "print(\"calculation time:\",time.time() - start_time)"
   ]
  },
  {
   "cell_type": "code",
   "execution_count": 9,
   "metadata": {},
   "outputs": [
    {
     "data": {
      "text/plain": [
       "[2, 7, 23]"
      ]
     },
     "execution_count": 9,
     "metadata": {},
     "output_type": "execute_result"
    }
   ],
   "source": [
    "from sympy.ntheory import primefactors\n",
    "len(primefactors(644))"
   ]
  },
  {
   "cell_type": "code",
   "execution_count": null,
   "metadata": {
    "collapsed": true
   },
   "outputs": [],
   "source": [
    "#forum-1\n",
    "#! python3.x\n",
    "\n",
    "\n",
    "def priFac(num):\n",
    "    fnum = num\n",
    "    i = 2\n",
    "    while i < num+1:\n",
    "        if num % i == 0:\n",
    "            pfSet.add((fnum, i))\n",
    "            num = num/i\n",
    "            i = 1\n",
    "        i += 1\n",
    "              \n",
    "        \n",
    "t=0\n",
    "for num in range(100000, 100000000):\n",
    "    pfSet = set()\n",
    "    print(num, len(pfSet))\n",
    "    priFac(num)\n",
    "    if len(pfSet) == 4:\n",
    "        print(pfSet)\n",
    "        t += 1\n",
    "    else:\n",
    "        if t == 4:\n",
    "            break\n",
    "        else:\n",
    "            t = 0"
   ]
  },
  {
   "cell_type": "code",
   "execution_count": null,
   "metadata": {
    "collapsed": true
   },
   "outputs": [],
   "source": [
    "#forum-2\n",
    "import time\n",
    "from itertools import count\n",
    "LIMIT = 4\n",
    "\n",
    "primes_list = [2,3,5,7]\n",
    "\n",
    "def isPrime(n):\n",
    "  if n < 2:\n",
    "    return False\n",
    "  if n % 2 == 0:\n",
    "    return n==2\n",
    "  for i in range(3, int(n**0.5)+1,2):\n",
    "    if n%i==0:\n",
    "      return False\n",
    "  return True\n",
    "\n",
    "def nextPrime():\n",
    "  for p in count(2):\n",
    "    if isPrime(p):\n",
    "      yield p\n",
    "\n",
    "def hasPrimeFactors(n):\n",
    "  factors = []\n",
    "  for p in primes_list:\n",
    "    if n % p == 0:\n",
    "      factors.append(p)\n",
    "    if p > n//2 or len(factors) >= LIMIT:\n",
    "      break\n",
    "    pr = 1\n",
    "    for j in range(len(factors)):\n",
    "      pr*=factors[j]\n",
    "    if pr > n:\n",
    "      return False\n",
    "  if len(factors) < LIMIT:\n",
    "    return False\n",
    "  return True\n",
    "\n",
    "  \n",
    "def main():\n",
    "  start_time = time.clock()\n",
    "  base = None\n",
    "  i = 10\n",
    "  while True:\n",
    "    if isPrime(i):\n",
    "      primes_list.append(i)\n",
    "    if hasPrimeFactors(i):\n",
    "      print(i)\n",
    "      base = i\n",
    "      found = True\n",
    "      for j in range(LIMIT-1):\n",
    "        i+=1\n",
    "        if isPrime(i):\n",
    "          primes_list.append(i)\n",
    "        if not hasPrimeFactors(i):\n",
    "          found = False\n",
    "          break\n",
    "      if found:\n",
    "        print(base)\n",
    "        break\n",
    "    i+=1\n",
    "        \n",
    "          \n",
    "  print(\"Elapsed time:\", round(1000*time.clock()-start_time), \"ms\")\n",
    "main()"
   ]
  },
  {
   "cell_type": "code",
   "execution_count": null,
   "metadata": {
    "collapsed": true
   },
   "outputs": [],
   "source": [
    "#forum-3\n",
    "from time import time\n",
    "PRIMES = sieve(20000)\n",
    "nProc = 1\n",
    "B1 = 20000\n",
    "B2 = 100000\n",
    "\n",
    "n = 645\n",
    "\n",
    "timethen = time()\n",
    "while True:\n",
    "    if len(factor(n,PRIMES,nProc,B1,B2))!=4:\n",
    "        n+=1\n",
    "        continue\n",
    "    if len(factor(n+1,PRIMES,nProc,B1,B2))!=4:\n",
    "        n=n+2\n",
    "        continue\n",
    "    if len(factor(n+2,PRIMES,nProc,B1,B2))!=4:\n",
    "        n+=3\n",
    "        continue\n",
    "    if len(factor(n+3,PRIMES,nProc,B1,B2))!=4:\n",
    "        n+=4\n",
    "        continue\n",
    "    print(\"answer is\",n)\n",
    "    break\n",
    "\n",
    "timenow = time()\n",
    "print(timenow-timethen,\" seconds\")"
   ]
  },
  {
   "cell_type": "code",
   "execution_count": null,
   "metadata": {
    "collapsed": true
   },
   "outputs": [],
   "source": [
    "#forum-4\n",
    "from sympy.ntheory import primefactors\n",
    "\n",
    "\n",
    "def get_factor_groups(check_num: int, factor_count: int, group_len: int)->list:\n",
    "    \"\"\"Given a starting number 'check_num' look for groups of 'group_len' consecutive numbers with\n",
    "    'factor_count' distinct primes as factors.  Returns a list of lists representing the prime factors\n",
    "    of each number starting with 'check_num' if found within the given 'group_len'. Returns empty list\n",
    "    if not.\n",
    "\n",
    "    :param check_num: (int): Number to start checking\n",
    "    :param factor_count: (int): Number of factors we want for each\n",
    "    :param group_len: (int): Length of consecutive numbers to find 'factor_count' distinct primes in\n",
    "    :return: (list): Empty list if no match, List of Lists if match found\n",
    "    \"\"\"\n",
    "    factors_list = []  # Start empty catch list\n",
    "\n",
    "    # Cycle through our window of 'group_len' numbers\n",
    "    for value in range(check_num, check_num + group_len):\n",
    "        factors_value = primefactors(value)     # Get the prime factors for current number\n",
    "        if len(factors_value) != factor_count:  # if it has fewer factors than 'factor_count'\n",
    "            return []                           # Just return, no need to waste time\n",
    "        else:\n",
    "            factors_list.append(factors_value)  # 'factor_count' correct!, add to list\n",
    "    return factors_list                         # Return the goods to the caller\n",
    "\n",
    "\n",
    "i = 0\n",
    "while True:\n",
    "    factor_group = get_factor_groups(i, 4, 4)\n",
    "    if factor_group:\n",
    "        print(\"i: {} ->{}\".format(i, factor_group))\n",
    "        break\n",
    "    i += 1"
   ]
  },
  {
   "cell_type": "code",
   "execution_count": null,
   "metadata": {
    "collapsed": true
   },
   "outputs": [],
   "source": [
    "#forum-5\n",
    "# -*- coding: utf-8 -*-\n",
    "\"\"\"\n",
    "Created on Sat Feb 17 13:19:30 2018\n",
    "\n",
    "@author: Harbey\n",
    "\"\"\"\n",
    "import sympy\n",
    "\n",
    "def pFactors(n): \n",
    "        \"\"\"Finds the prime factors of 'n'\"\"\" \n",
    "        \"\"\"Stolen from StackOverflow's Cris Stringfellow\"\"\"\n",
    "        from math import sqrt \n",
    "        pFact, limit, check, num = [], int(sqrt(n)) + 1, 2, n \n",
    "        if n == 1: return [1] \n",
    "        for check in range(2, limit): \n",
    "             while num % check == 0: \n",
    "                pFact.append(check) \n",
    "                num /= check \n",
    "        if num > 1: \n",
    "          pFact.append(num) \n",
    "        return pFact \n",
    "\n",
    "import time\n",
    "\n",
    "start_time = time.clock()\n",
    "\n",
    "i=646\n",
    "value=4\n",
    "while True:\n",
    "    i+=1\n",
    "    if value==len([[(x, p.count(x)) for x in set(p)] for p in [pFactors(i)]][0]):\n",
    "        if value==len([[(x, p.count(x)) for x in set(p)] for p in [pFactors(i+3)]][0]):\n",
    "           if value==len([[(x, p.count(x)) for x in set(p)] for p in [pFactors(i+2)]][0]):\n",
    "                if value==len([[(x, p.count(x)) for x in set(p)] for p in [pFactors(i+1)]][0]):\n",
    "                   print(i)\n",
    "                   break\n",
    "print ('Used time: ', time.clock()-start_time, ' seconds.')   "
   ]
  },
  {
   "cell_type": "code",
   "execution_count": null,
   "metadata": {
    "collapsed": true
   },
   "outputs": [],
   "source": [
    "#forum-6\n",
    "import math\n",
    "import time\n",
    "\n",
    "def PrimeFactors(n):\n",
    "\n",
    "\tif n < 9:\n",
    "\t\tif n == 1:\n",
    "\t\t\treturn 0\n",
    "\t\telif n == 6:\n",
    "\t\t\treturn 2\n",
    "\t\telse:\n",
    "\t\t\treturn 1\n",
    "\n",
    "\tFactors = []\n",
    "\n",
    "\twhile n % 2 == 0:\n",
    "\t\tif not 2 in Factors:\n",
    "\t\t\tFactors.append(2)\n",
    "\n",
    "\t\tn = int(n / 2)\n",
    "\n",
    "\tfor i in range(3, int(math.ceil(math.sqrt(n)) + 1), 2):\n",
    "\t\twhile n % i == 0:\n",
    "\t\t\tif i not in Factors:\n",
    "\t\t\t\tFactors.append(i)\n",
    "\n",
    "\t\t\tn = int(n / i)\n",
    "\n",
    "\tif n != 1:\n",
    "\t\tFactors.append(n)\n",
    "\n",
    "\treturn len(Factors)\n",
    "\n",
    "start  = time.clock()\n",
    "\n",
    "i = 1\n",
    "\n",
    "while True:\n",
    "\tif PrimeFactors(i) == PrimeFactors(i + 1) == PrimeFactors(i + 2) == PrimeFactors(i + 3) == 4:\n",
    "\t\tprint(i)\n",
    "\t\tbreak\n",
    "\n",
    "\ti += 1\n",
    "\n",
    "end = time.clock()\n",
    "\n",
    "print(\"time = {} seconds\".format(round(end - start, 3)))"
   ]
  },
  {
   "cell_type": "code",
   "execution_count": null,
   "metadata": {
    "collapsed": true
   },
   "outputs": [],
   "source": [
    "#forum-7\n",
    "\n",
    "\n",
    "def isprime(n):\n",
    "  n = abs(int(n))\n",
    "  if n <2:\n",
    "    return False\n",
    "  if n==2:\n",
    "    return True\n",
    "  if n%2==0:\n",
    "    return False\n",
    "  for x in range(3,int(n/2.+0.5),2):\n",
    "    if n%x==0:\n",
    "        return False\n",
    "  return True\n",
    "\n",
    "def numprime(n):\n",
    "    a=n\n",
    "    counter=1\n",
    "    factors=set()\n",
    "    flag=False\n",
    "    while flag==False:\n",
    "        for x in range(2,int(a/2.+0.5)):\n",
    "            if isprime(x) == True:\n",
    "                if a%x==0:\n",
    "                    factors.add(x)                 \n",
    "                    a=a/x\n",
    "                    while a%x==0:                 \n",
    "                        a=a/x\n",
    "                if a == 1:\n",
    "                    return(len(factors))\n",
    "                if isprime(a) == True:\n",
    "                    factors.add(a)                 \n",
    "                    return(len(factors))\n",
    "            \n",
    "check=False\n",
    "#primefacs=[2,3]\n",
    "i=11\n",
    "counter=0\n",
    "while check==False:    \n",
    "    i+=1\n",
    "    if isprime(i) == True:       \n",
    "        counter=0\n",
    "        continue\n",
    "    nums= numprime(i)\n",
    "    if  nums > 3 :\n",
    "        counter+=1\n",
    "        if counter == 4:\n",
    "            print(\"Result\",i-3)\n",
    "            break\n",
    "    else:\n",
    "        counter=0\n",
    "\n"
   ]
  },
  {
   "cell_type": "code",
   "execution_count": null,
   "metadata": {
    "collapsed": true
   },
   "outputs": [],
   "source": [
    "#forum-8\n",
    "from sympy.ntheory import primefactors\n",
    "from itertools import count\n",
    "\n",
    "counter=0\n",
    "for i  in count(2,):\n",
    "    if len(primefactors(i)) == 4:\n",
    "        counter+=1\n",
    "        if counter == 4:\n",
    "            print(i-3)\n",
    "            break\n",
    "    else:\n",
    "        counter=0"
   ]
  }
 ],
 "metadata": {
  "kernelspec": {
   "display_name": "Python 3",
   "language": "python",
   "name": "python3"
  },
  "language_info": {
   "codemirror_mode": {
    "name": "ipython",
    "version": 3
   },
   "file_extension": ".py",
   "mimetype": "text/x-python",
   "name": "python",
   "nbconvert_exporter": "python",
   "pygments_lexer": "ipython3",
   "version": "3.6.5"
  }
 },
 "nbformat": 4,
 "nbformat_minor": 2
}
