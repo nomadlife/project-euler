{
 "cells": [
  {
   "cell_type": "markdown",
   "metadata": {},
   "source": [
    "# Special Pythagorean triplet\n",
    "\n",
    "A Pythagorean triplet is a set of three natural numbers, a < b < c, for which,\n",
    "$$a^2 + b^2 = c^2$$\n",
    "\n",
    "For example, $3^2 + 4^2 = 9 + 16 = 25 = 5^2$.\n",
    "\n",
    "There exists exactly one Pythagorean triplet for which a + b + c = 1000.\n",
    "Find the product abc.\n"
   ]
  },
  {
   "cell_type": "code",
   "execution_count": 1,
   "metadata": {},
   "outputs": [
    {
     "name": "stdout",
     "output_type": "stream",
     "text": [
      "375 200 425\n",
      "31875000\n"
     ]
    }
   ],
   "source": [
    "for a in range(1,1000):\n",
    "    for b in range(1,a):\n",
    "        if a**2 + b**2 == (1000-a-b)**2:\n",
    "            print(a,b,1000-a-b)\n",
    "            print(a*b*(1000-a-b))\n",
    "            break\n"
   ]
  },
  {
   "cell_type": "code",
   "execution_count": null,
   "metadata": {
    "collapsed": true
   },
   "outputs": [],
   "source": [
    "#forum-1\n",
    "for a in range( 1, 335):\n",
    "    for b in range( ( a + 1 ), ( 1001 - a ) ):\n",
    "        if ( 1000 - b - a ) ** 2 == ( a ** 2 + b ** 2 ):\n",
    "            print( ( ( 1000 - b - a ) * b * a ), ( 1000 - b - a ), b, a )"
   ]
  },
  {
   "cell_type": "code",
   "execution_count": null,
   "metadata": {
    "collapsed": true
   },
   "outputs": [],
   "source": [
    "#forum-2\n",
    "import bisect as bs\n",
    "\n",
    "N = 1000\n",
    "N2 = N // 2\n",
    "sqr = [k*k for k in range(N2)]\n",
    "for a in range(3, N2):\n",
    "  for b in range(a+1, N2-a):\n",
    "    c2 = sqr[a] + sqr[b]\n",
    "    c = bs.bisect_left(sqr, c2, b+1, a+b)\n",
    "    if sqr[c] == c2:\n",
    "      q, r = divmod(N, a+b+c)\n",
    "      if r == 0: S = a*b*c * q*q*q; break\n",
    "  else: continue\n",
    "  break\n",
    "print(S)"
   ]
  },
  {
   "cell_type": "code",
   "execution_count": null,
   "metadata": {
    "collapsed": true
   },
   "outputs": [],
   "source": [
    "#forum-3\n",
    "c = 3\n",
    "\n",
    "while True:\n",
    "    for b in range(2, c):\n",
    "        for a in range(1, b):\n",
    "            if pow(a, 2) + pow(b, 2) == pow(c, 2):\n",
    "                if sum((a, b, c)) == 1000:\n",
    "                    print a * b * c\n",
    "                    break\n",
    "    c += 1\n",
    "\n",
    "# => 31875000"
   ]
  },
  {
   "cell_type": "code",
   "execution_count": null,
   "metadata": {
    "collapsed": true
   },
   "outputs": [],
   "source": [
    "#forum-4\n",
    "\n",
    "from math import sqrt\n",
    "\n",
    "def solve(n):\n",
    "    for u in range(1, int(sqrt(n / 2) + 1)):\n",
    "        v = (n - 2 * u**2) / (2 * u)\n",
    "        if v % 1 != 0:\n",
    "            continue\n",
    "\n",
    "        a = abs(u**2 - v**2)\n",
    "        b = 2 * u * v\n",
    "        c = u**2 + v**2\n",
    "\n",
    "        s = a + b + c\n",
    "        if n % s == 0:\n",
    "            return int(a * b * c * (n // s) ** 3)"
   ]
  },
  {
   "cell_type": "code",
   "execution_count": null,
   "metadata": {
    "collapsed": true
   },
   "outputs": [],
   "source": [
    "#forum-5\n",
    "for n in range(1000, 335, -1):\n",
    "    for m in range(1000-n, 334, -1):\n",
    "        if (n ** 2 - m ** 2) ** 0.5 == 1000 - n - m and m - n != 0:\n",
    "            print(n*m*(1000-m-n))\n",
    "            break"
   ]
  }
 ],
 "metadata": {
  "kernelspec": {
   "display_name": "Python 3",
   "language": "python",
   "name": "python3"
  },
  "language_info": {
   "codemirror_mode": {
    "name": "ipython",
    "version": 3
   },
   "file_extension": ".py",
   "mimetype": "text/x-python",
   "name": "python",
   "nbconvert_exporter": "python",
   "pygments_lexer": "ipython3",
   "version": "3.5.2"
  }
 },
 "nbformat": 4,
 "nbformat_minor": 2
}
