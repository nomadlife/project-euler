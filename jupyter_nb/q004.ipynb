{
 "cells": [
  {
   "cell_type": "markdown",
   "metadata": {},
   "source": [
    "# Q004 Largest palindrome product\n",
    "\n",
    "세자리의 두수를 곱해서 나오는 수중 가장 큰 팰린드롬 수\n",
    "\n",
    "A palindromic number reads the same both ways. The largest palindrome made from the product of two 2-digit numbers is 9009 = 91 × 99.\n",
    "\n",
    "Find the largest palindrome made from the product of two 3-digit numbers.\n",
    "\n",
    "1. 두개의 루프를 중첩해서, 두수의 곱을 만들고,\n",
    "\n",
    "2. 팰린드롬 체크 함수를 만들어서 각 숫자를 확인."
   ]
  },
  {
   "cell_type": "code",
   "execution_count": null,
   "metadata": {
    "collapsed": true,
    "scrolled": true
   },
   "outputs": [],
   "source": [
    "#세자리 두수의 곱 \n",
    "for i in range(900,1000):\n",
    "    for j in range(900,1000):\n",
    "        print(i*j,end=',')\n"
   ]
  },
  {
   "cell_type": "code",
   "execution_count": null,
   "metadata": {
    "collapsed": true
   },
   "outputs": [],
   "source": [
    "#함수 만들기\n",
    "\n",
    "def isPalindrome(string):\n",
    "    return True\n",
    "\n",
    "for i in range(900,1000):\n",
    "    for j in range(900,1000):\n",
    "        product = i*j\n",
    "        if isPalindrome(product):\n",
    "            print(product,\"is Palindrome\",end=',')"
   ]
  },
  {
   "cell_type": "code",
   "execution_count": 5,
   "metadata": {},
   "outputs": [
    {
     "name": "stdout",
     "output_type": "stream",
     "text": [
      "906609\n"
     ]
    }
   ],
   "source": [
    "#sol:1\n",
    "\n",
    "def isPalindrome(string):\n",
    "    if string == string[::-1]:\n",
    "        return True\n",
    "    return False\n",
    "\n",
    "maxValue = 0\n",
    "for i in range(900,1000):\n",
    "    for j in range(900,1000):\n",
    "        product = i*j\n",
    "        if isPalindrome(str(product)):\n",
    "            if product>maxValue:\n",
    "                maxValue = product\n",
    "print(maxValue)"
   ]
  },
  {
   "cell_type": "code",
   "execution_count": 3,
   "metadata": {},
   "outputs": [
    {
     "name": "stdout",
     "output_type": "stream",
     "text": [
      "906609\n"
     ]
    }
   ],
   "source": [
    "#sol:2\n",
    "\n",
    "maxValue = 0\n",
    "for i in range(900,1000):\n",
    "    for j in range(900,1000):\n",
    "        product = i*j\n",
    "        if str(product) == str(product)[::-1]:\n",
    "            if product>maxValue:\n",
    "                maxValue = product\n",
    "print(maxValue)"
   ]
  },
  {
   "cell_type": "code",
   "execution_count": 4,
   "metadata": {},
   "outputs": [
    {
     "name": "stdout",
     "output_type": "stream",
     "text": [
      "906609\n"
     ]
    }
   ],
   "source": [
    "#sol:3\n",
    "\n",
    "result = []\n",
    "for i in range(900,1000):\n",
    "    for j in range(900,1000):\n",
    "        product = i*j\n",
    "        if str(product) == str(product)[::-1]:\n",
    "            result.append(product)\n",
    "print(max(result))"
   ]
  },
  {
   "cell_type": "code",
   "execution_count": 2,
   "metadata": {},
   "outputs": [
    {
     "name": "stdout",
     "output_type": "stream",
     "text": [
      "906609\n"
     ]
    }
   ],
   "source": [
    "# sol:4\n",
    "\n",
    "import itertools\n",
    "palindrome = 0\n",
    "\n",
    "for n1,n2 in itertools.combinations(range(999,0,-1),2):\n",
    "    product=n1*n2\n",
    "    if (str(product) == str(product)[::-1]) and product > palindrome:\n",
    "        palindrome = product\n",
    "print (palindrome)"
   ]
  }
 ],
 "metadata": {
  "kernelspec": {
   "display_name": "Python 3",
   "language": "python",
   "name": "python3"
  },
  "language_info": {
   "codemirror_mode": {
    "name": "ipython",
    "version": 3
   },
   "file_extension": ".py",
   "mimetype": "text/x-python",
   "name": "python",
   "nbconvert_exporter": "python",
   "pygments_lexer": "ipython3",
   "version": "3.6.3"
  }
 },
 "nbformat": 4,
 "nbformat_minor": 2
}
