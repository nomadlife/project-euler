{
 "cells": [
  {
   "cell_type": "markdown",
   "metadata": {},
   "source": [
    "# Q004 Largest palindrome product\n",
    "\n",
    "세자리의 두수를 곱해서 나오는 수중 가장 큰 팰린드롬 수\n",
    "\n",
    "A palindromic number reads the same both ways. The largest palindrome made from the product of two 2-digit numbers is 9009 = 91 × 99.\n",
    "\n",
    "Find the largest palindrome made from the product of two 3-digit numbers.\n",
    "\n",
    "1. 두개의 루프를 중첩해서, 두수의 곱을 만들고,\n",
    "\n",
    "2. 팰린드롬 체크 함수를 만들어서 각 숫자를 확인."
   ]
  },
  {
   "cell_type": "code",
   "execution_count": null,
   "metadata": {},
   "outputs": [],
   "source": [
    "#세자리 두수의 곱 \n",
    "for i in range(900,1000):\n",
    "    for j in range(900,1000):\n",
    "        print(i*j,end=',')\n"
   ]
  },
  {
   "cell_type": "code",
   "execution_count": null,
   "metadata": {},
   "outputs": [],
   "source": [
    "#함수 만들기\n",
    "\n",
    "def isPalindrome(param):\n",
    "    return True\n",
    "\n",
    "for i in range(900,1000):\n",
    "    for j in range(900,1000):\n",
    "        product = i*j\n",
    "        if isPalindrome(product):\n",
    "            print(product,\"is Palindrome\",end=',')"
   ]
  },
  {
   "cell_type": "code",
   "execution_count": 41,
   "metadata": {},
   "outputs": [
    {
     "name": "stdout",
     "output_type": "stream",
     "text": [
      "819918 is Palindrome\n",
      "824428 is Palindrome\n",
      "819918 is Palindrome\n",
      "906609 is Palindrome\n",
      "824428 is Palindrome\n",
      "886688 is Palindrome\n",
      "861168 is Palindrome\n",
      "888888 is Palindrome\n",
      "861168 is Palindrome\n",
      "888888 is Palindrome\n",
      "886688 is Palindrome\n",
      "906609 is Palindrome\n",
      "906609\n"
     ]
    }
   ],
   "source": [
    "#팰린드롬 함수\n",
    "\n",
    "def isPalindrome(param):\n",
    "    string = str(param)\n",
    "    string2= string[::-1]\n",
    "    if string == string2:\n",
    "        return True\n",
    "    return False\n",
    "\n",
    "maxValue = 0\n",
    "for i in range(900,1000):\n",
    "    for j in range(900,1000):\n",
    "        product = i*j\n",
    "        if isPalindrome(product):\n",
    "            print(product,\"is Palindrome\")\n",
    "            if product>maxValue:\n",
    "                maxValue = product\n",
    "print(maxValue)"
   ]
  },
  {
   "cell_type": "code",
   "execution_count": 38,
   "metadata": {},
   "outputs": [
    {
     "name": "stdout",
     "output_type": "stream",
     "text": [
      "Palindrome\n"
     ]
    }
   ],
   "source": [
    "#문자열 비교 테스트\n",
    "\n",
    "test='jiddij'\n",
    "test2 = test[::-1]\n",
    "if test==test2:\n",
    "    print(\"Palindrome\")"
   ]
  },
  {
   "cell_type": "code",
   "execution_count": 33,
   "metadata": {},
   "outputs": [
    {
     "name": "stdout",
     "output_type": "stream",
     "text": [
      "elpmas\n"
     ]
    }
   ],
   "source": [
    "#문자열 뒤집기(Slice) 테스트\n",
    "test='sample'\n",
    "test2=test[::-1]\n",
    "print(test2)"
   ]
  }
 ],
 "metadata": {
  "kernelspec": {
   "display_name": "Python 3",
   "language": "python",
   "name": "python3"
  },
  "language_info": {
   "codemirror_mode": {
    "name": "ipython",
    "version": 3
   },
   "file_extension": ".py",
   "mimetype": "text/x-python",
   "name": "python",
   "nbconvert_exporter": "python",
   "pygments_lexer": "ipython3",
   "version": "3.5.1"
  }
 },
 "nbformat": 4,
 "nbformat_minor": 2
}
