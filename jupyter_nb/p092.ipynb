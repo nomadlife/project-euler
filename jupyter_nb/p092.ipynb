{
 "cells": [
  {
   "cell_type": "markdown",
   "metadata": {},
   "source": [
    "# p092 Square digit chains\n",
    "\n",
    "\n",
    "A number chain is created by continuously adding the square of the digits in a number to form a new number until it has been seen before.\n",
    "\n",
    "For example,\n",
    "\n",
    "44 → 32 → 13 → 10 → 1 → 1\n",
    "\n",
    "85 → 89 → 145 → 42 → 20 → 4 → 16 → 37 → 58 → 89\n",
    "\n",
    "Therefore any chain that arrives at 1 or 89 will become stuck in an endless loop. What is most amazing is that EVERY starting number will eventually arrive at 1 or 89.\n",
    "\n",
    "How many starting numbers below ten million will arrive at 89?\n"
   ]
  },
  {
   "cell_type": "code",
   "execution_count": 2,
   "metadata": {},
   "outputs": [
    {
     "name": "stdout",
     "output_type": "stream",
     "text": [
      "1\n",
      "4 16 37 58 89 89\n",
      "9 81 65 61 37 58 89 89\n",
      "16 37 58 89 89\n",
      "25 29 85 89 89\n",
      "36 45 41 17 50 25 29 85 89 89\n",
      "49 97 130 10 1 1\n",
      "64 52 29 85 89 89\n",
      "81 65 61 37 58 89 89\n",
      "1 1\n",
      "2 4 16 37 58 89 89\n",
      "5 25 29 85 89 89\n",
      "10 1 1\n",
      "17 50 25 29 85 89 89\n",
      "26 40 16 37 58 89 89\n",
      "37 58 89 89\n",
      "50 25 29 85 89 89\n",
      "65 61 37 58 89 89\n",
      "82 68 100 1 1\n"
     ]
    }
   ],
   "source": [
    "# make square sum\n",
    "for i in range(1,20):\n",
    "    summ=i\n",
    "    while True:\n",
    "        if summ == 1 or summ == 89:\n",
    "            print(summ)\n",
    "            break\n",
    "        else :\n",
    "            summ=sum([int(i)**2 for i in str(summ)])\n",
    "            print(summ, end=' ')\n",
    "        "
   ]
  },
  {
   "cell_type": "code",
   "execution_count": 3,
   "metadata": {},
   "outputs": [
    {
     "name": "stdout",
     "output_type": "stream",
     "text": [
      "14\n"
     ]
    }
   ],
   "source": [
    "# count if summ is 89\n",
    "count=0\n",
    "for i in range(1,20):\n",
    "    summ=i\n",
    "    while True:\n",
    "        if summ == 1:\n",
    "            break\n",
    "        elif summ == 89:\n",
    "            count+=1\n",
    "            break\n",
    "        else :\n",
    "            summ=sum([int(i)**2 for i in str(summ)])\n",
    "            #print(summ, end=' ')\n",
    "print(count)       "
   ]
  },
  {
   "cell_type": "code",
   "execution_count": 9,
   "metadata": {},
   "outputs": [
    {
     "name": "stdout",
     "output_type": "stream",
     "text": [
      "85623\n",
      "calc time: 8.843500137329102\n"
     ]
    }
   ],
   "source": [
    "# test 100K, convert to string and use list\n",
    "from time import time as t\n",
    "start=t()\n",
    "\n",
    "count=0\n",
    "for i in range(1,100000):\n",
    "    number=i\n",
    "    while True:\n",
    "        if number == 1:\n",
    "            break\n",
    "        elif number == 89:\n",
    "            count+=1\n",
    "            break\n",
    "        else :\n",
    "            number=sum([int(i)**2 for i in str(number)])\n",
    "            #print(summ, end=' ')\n",
    "print(count)      \n",
    "print('calc time:', t()-start)"
   ]
  },
  {
   "cell_type": "code",
   "execution_count": 31,
   "metadata": {},
   "outputs": [
    {
     "name": "stdout",
     "output_type": "stream",
     "text": [
      "85623\n",
      "calc time: 6.827904939651489\n"
     ]
    }
   ],
   "source": [
    "# speed up, without list\n",
    "from time import time as t\n",
    "start=t()\n",
    "\n",
    "count=0\n",
    "for i in range(1,100000):\n",
    "    number=i\n",
    "    while True:\n",
    "        if number == 1:\n",
    "            break\n",
    "        elif number == 89:\n",
    "            count+=1\n",
    "            break\n",
    "        summ=0\n",
    "        for j in str(number):\n",
    "            summ+=int(j)**2\n",
    "        number=summ\n",
    "print(count)\n",
    "print('calc time:', t()-start)"
   ]
  },
  {
   "cell_type": "code",
   "execution_count": 100,
   "metadata": {},
   "outputs": [
    {
     "name": "stdout",
     "output_type": "stream",
     "text": [
      "85623\n",
      "calc time: 4.531094312667847\n"
     ]
    }
   ],
   "source": [
    "# speed up -2, calculation as number\n",
    "from time import time as t\n",
    "start=t()\n",
    "\n",
    "count=0\n",
    "for i in range(1,100000):\n",
    "    number=i\n",
    "    while True:\n",
    "        if number == 1:\n",
    "            break\n",
    "        elif number == 89:\n",
    "            count+=1\n",
    "            break\n",
    "        summ=0\n",
    "        while number>0:\n",
    "            summ+=(number%10)**2\n",
    "            number//=10\n",
    "        number=summ\n",
    "print(count)\n",
    "print('calc time:', t()-start)"
   ]
  },
  {
   "cell_type": "code",
   "execution_count": 101,
   "metadata": {},
   "outputs": [
    {
     "name": "stdout",
     "output_type": "stream",
     "text": [
      "85623\n",
      "calc time: 1.5938818454742432\n"
     ]
    }
   ],
   "source": [
    "# speed up - dynamic\n",
    "from time import time as t\n",
    "start=t()\n",
    "\n",
    "cache={}\n",
    "for i in range(1,100000):\n",
    "    number=i\n",
    "    while True:\n",
    "        if number == 1:\n",
    "            break\n",
    "        elif number == 89 or (number) in cache:\n",
    "            cache[i]=89\n",
    "            break\n",
    "        summ=0\n",
    "        while number>0:\n",
    "            summ+=(number%10)**2\n",
    "            number//=10\n",
    "        number=summ\n",
    "print(len(cache))\n",
    "print('calc time:', t()-start)"
   ]
  },
  {
   "cell_type": "code",
   "execution_count": 102,
   "metadata": {},
   "outputs": [
    {
     "name": "stdout",
     "output_type": "stream",
     "text": [
      "85623\n",
      "calc time: 1.7030706405639648\n"
     ]
    }
   ],
   "source": [
    "# speed up - dynamic by set\n",
    "from time import time as t\n",
    "start=t()\n",
    "\n",
    "cache=set()\n",
    "for i in range(1,100000):\n",
    "    number=i\n",
    "    while True:\n",
    "        if number == 1:\n",
    "            break\n",
    "        elif number == 89 or (number) in cache:\n",
    "            cache.add(i)\n",
    "            break\n",
    "        summ=0\n",
    "        while number>0:\n",
    "            summ+=(number%10)**2\n",
    "            number//=10\n",
    "        number=summ\n",
    "print(len(cache))\n",
    "print('calc time:', t()-start)"
   ]
  },
  {
   "cell_type": "code",
   "execution_count": 103,
   "metadata": {},
   "outputs": [
    {
     "name": "stdout",
     "output_type": "stream",
     "text": [
      "85623\n",
      "calc time: 1.3593316078186035\n"
     ]
    }
   ],
   "source": [
    "# speed up - dynamic - 2\n",
    "from time import time as t\n",
    "start=t()\n",
    "\n",
    "cache={}\n",
    "for i in range(1,100000):\n",
    "    number=i\n",
    "    while True:\n",
    "        if number == 1 or number == 89:\n",
    "            cache[i]=number\n",
    "            break\n",
    "        summ=0\n",
    "        while number>0:\n",
    "            summ+=(number%10)**2\n",
    "            number//=10\n",
    "        number=summ\n",
    "        if (number) in cache:\n",
    "            cache[i]=cache[number]\n",
    "            break\n",
    "print(sum(value == 89 for value in cache.values()))\n",
    "print('calc time:', t()-start)"
   ]
  },
  {
   "cell_type": "code",
   "execution_count": 105,
   "metadata": {},
   "outputs": [
    {
     "name": "stdout",
     "output_type": "stream",
     "text": [
      "8581146\n",
      "calc time: 172.33810925483704\n"
     ]
    }
   ],
   "source": [
    "# speed up - dynamic - 2 : ~10M\n",
    "from time import time as t\n",
    "start=t()\n",
    "\n",
    "cache={}\n",
    "for i in range(1,10000000):\n",
    "    number=i\n",
    "    while True:\n",
    "        if number == 1 or number == 89:\n",
    "            cache[i]=number\n",
    "            break\n",
    "        summ=0\n",
    "        while number>0:\n",
    "            summ+=(number%10)**2\n",
    "            number//=10\n",
    "        number=summ\n",
    "        if (number) in cache:\n",
    "            cache[i]=cache[number]\n",
    "            break\n",
    "print(sum(value == 89 for value in cache.values()))\n",
    "print('calc time:', t()-start)"
   ]
  },
  {
   "cell_type": "code",
   "execution_count": 114,
   "metadata": {},
   "outputs": [
    {
     "name": "stdout",
     "output_type": "stream",
     "text": [
      "85623\n",
      "calc time: 1.2029595375061035\n"
     ]
    }
   ],
   "source": [
    "# speed up - dynamic - 3  -speed up\n",
    "from time import time as t\n",
    "start=t()\n",
    "\n",
    "cache={}\n",
    "for i in range(1,100000):\n",
    "    number=i\n",
    "    while True:\n",
    "        if number == 1: # if condition separated\n",
    "            cache[i]=0\n",
    "            break\n",
    "        if number == 89: # if condition separated\n",
    "            cache[i]=1\n",
    "            break\n",
    "        summ=0\n",
    "        while number>0:\n",
    "            summ+=(number%10)**2\n",
    "            number//=10\n",
    "        number=summ\n",
    "        if (number) in cache:\n",
    "            cache[i]=cache[number]\n",
    "            break\n",
    "print(sum(cache.values()))\n",
    "print('calc time:', t()-start)"
   ]
  },
  {
   "cell_type": "code",
   "execution_count": 130,
   "metadata": {},
   "outputs": [
    {
     "name": "stdout",
     "output_type": "stream",
     "text": [
      "85623\n",
      "calc time: 1.0780837535858154\n"
     ]
    }
   ],
   "source": [
    "# speed up - dynamic - 3  -speed up -2 // separate as func\n",
    "from time import time as t\n",
    "start=t()\n",
    "\n",
    "def f(n):\n",
    "    summ=0\n",
    "    while n>0:\n",
    "        summ+=(n%10)**2\n",
    "        n//=10\n",
    "    return summ\n",
    "\n",
    "cache={}\n",
    "for i in range(1,100000):\n",
    "    number=i\n",
    "    while True:\n",
    "        if number == 1:\n",
    "            cache[i]=0\n",
    "            break\n",
    "        if number == 89:\n",
    "            cache[i]=1\n",
    "            break\n",
    "        number=f(number)\n",
    "        if (number) in cache:\n",
    "            cache[i]=cache[number]\n",
    "            break\n",
    "print(sum(cache.values()))\n",
    "print('calc time:', t()-start)"
   ]
  },
  {
   "cell_type": "code",
   "execution_count": 145,
   "metadata": {},
   "outputs": [
    {
     "name": "stdout",
     "output_type": "stream",
     "text": [
      "85623\n",
      "calc time: 0.9999101161956787\n"
     ]
    }
   ],
   "source": [
    "# speed up - dynamic - 3  -speed up -2 // func and main function\n",
    "from time import time as t\n",
    "start=t()\n",
    "\n",
    "def f(n):\n",
    "    summ=0\n",
    "    while n>0:\n",
    "        summ+=(n%10)**2\n",
    "        n//=10\n",
    "    return summ\n",
    "\n",
    "def main(n):\n",
    "    cache={}\n",
    "    for i in range(1,n):\n",
    "        number=i\n",
    "        while True:\n",
    "            if number == 1:\n",
    "                cache[i]=0\n",
    "                break\n",
    "            if number == 89:\n",
    "                cache[i]=1\n",
    "                break\n",
    "            number=f(number)\n",
    "            if (number) in cache:\n",
    "                cache[i]=cache[number]\n",
    "                break\n",
    "    return sum(cache.values())\n",
    "\n",
    "print(main(100000))\n",
    "print('calc time:', t()-start)"
   ]
  },
  {
   "cell_type": "code",
   "execution_count": 146,
   "metadata": {},
   "outputs": [
    {
     "name": "stdout",
     "output_type": "stream",
     "text": [
      "85623\n",
      "calc time: 0.9999680519104004\n"
     ]
    }
   ],
   "source": [
    "# speed up - dynamic - 3  -speed up -2 // func and __main__ function\n",
    "from time import time as t\n",
    "start=t()\n",
    "\n",
    "def f(n):\n",
    "    summ=0\n",
    "    while n>0:\n",
    "        summ+=(n%10)**2\n",
    "        n//=10\n",
    "    return summ\n",
    "\n",
    "def p092(n):\n",
    "    cache={}\n",
    "    for i in range(1,n):\n",
    "        number=i\n",
    "        while True:\n",
    "            if number == 1:\n",
    "                cache[i]=0\n",
    "                break\n",
    "            if number == 89:\n",
    "                cache[i]=1\n",
    "                break\n",
    "            number=f(number)\n",
    "            if (number) in cache:\n",
    "                cache[i]=cache[number]\n",
    "                break\n",
    "    return sum(cache.values())\n",
    "\n",
    "if __name__ == '__main__':\n",
    "    print(p092(100000))\n",
    "print('calc time:', t()-start)"
   ]
  },
  {
   "cell_type": "code",
   "execution_count": 147,
   "metadata": {},
   "outputs": [
    {
     "name": "stdout",
     "output_type": "stream",
     "text": [
      "8581146\n",
      "calc time: 135.22994756698608\n"
     ]
    }
   ],
   "source": [
    "# speed up - dynamic - 3  -speed up -2 // func and __main__ function //  ~10M\n",
    "from time import time as t\n",
    "start=t()\n",
    "\n",
    "def f(n):\n",
    "    summ=0\n",
    "    while n>0:\n",
    "        summ+=(n%10)**2\n",
    "        n//=10\n",
    "    return summ\n",
    "\n",
    "def p092(n):\n",
    "    cache={}\n",
    "    for i in range(1,n):\n",
    "        number=i\n",
    "        while True:\n",
    "            if number == 1:\n",
    "                cache[i]=0\n",
    "                break\n",
    "            if number == 89:\n",
    "                cache[i]=1\n",
    "                break\n",
    "            number=f(number)\n",
    "            if (number) in cache:\n",
    "                cache[i]=cache[number]\n",
    "                break\n",
    "    return sum(cache.values())\n",
    "\n",
    "if __name__ == '__main__':\n",
    "    print(p092(10000000))\n",
    "print('calc time:', t()-start)"
   ]
  },
  {
   "cell_type": "code",
   "execution_count": 127,
   "metadata": {},
   "outputs": [
    {
     "name": "stdout",
     "output_type": "stream",
     "text": [
      "85623\n",
      "calc time: 1.062462568283081\n"
     ]
    }
   ],
   "source": [
    "# speed up - dynamic - 3  -speed up - 2 // list, function\n",
    "from time import time as t\n",
    "start=t()\n",
    "\n",
    "def f(n):\n",
    "    summ=0\n",
    "    while n>0:\n",
    "        summ+=(n%10)**2\n",
    "        n//=10\n",
    "    return summ\n",
    "\n",
    "def main(n):\n",
    "    cache=[]\n",
    "    for i in range(1,n):\n",
    "        number=i\n",
    "        while True:\n",
    "            if number == 1:\n",
    "                cache.append(0)\n",
    "                break\n",
    "            if number == 89:\n",
    "                cache.append(1)\n",
    "                break\n",
    "            number=f(number)\n",
    "            if number<i:\n",
    "                cache.append(cache[number-1])\n",
    "                break\n",
    "    return sum(cache)\n",
    "\n",
    "print(p092(100000))\n",
    "print('calc time:', t()-start)"
   ]
  },
  {
   "cell_type": "code",
   "execution_count": 125,
   "metadata": {},
   "outputs": [
    {
     "name": "stdout",
     "output_type": "stream",
     "text": [
      "85623\n",
      "calc time: 1.0468347072601318\n"
     ]
    }
   ],
   "source": [
    "# speed up - dynamic - 3  -speed up - 2 // list, function and main function\n",
    "from time import time as t\n",
    "start=t()\n",
    "\n",
    "def f(n):\n",
    "    summ=0\n",
    "    while n>0:\n",
    "        summ+=(n%10)**2\n",
    "        n//=10\n",
    "    return summ\n",
    "\n",
    "def main(n):\n",
    "    cache=[]\n",
    "    for i in range(1,n):\n",
    "        number=i\n",
    "        while True:\n",
    "            if number == 1:\n",
    "                cache.append(0)\n",
    "                break\n",
    "            if number == 89:\n",
    "                cache.append(1)\n",
    "                break\n",
    "            number=f(number)\n",
    "            if number<i:\n",
    "                cache.append(cache[number-1])\n",
    "                break\n",
    "    return sum(cache)\n",
    "\n",
    "if __name__ == \"__main__\":\n",
    "    print(main(100000))\n",
    "    print('calc time:', t()-start)"
   ]
  },
  {
   "cell_type": "code",
   "execution_count": 128,
   "metadata": {},
   "outputs": [
    {
     "name": "stdout",
     "output_type": "stream",
     "text": [
      "8581146\n",
      "calc time: 136.82364749908447\n"
     ]
    }
   ],
   "source": [
    "# speed up - dynamic - 3  -speed up - 2 // list, function // main function // ~10M\n",
    "from time import time as t\n",
    "start=t()\n",
    "\n",
    "def f(n):\n",
    "    summ=0\n",
    "    while n>0:\n",
    "        summ+=(n%10)**2\n",
    "        n//=10\n",
    "    return summ\n",
    "\n",
    "def main(n):\n",
    "    cache=[]\n",
    "    for i in range(1,n):\n",
    "        number=i\n",
    "        while True:\n",
    "            if number == 1:\n",
    "                cache.append(0)\n",
    "                break\n",
    "            if number == 89:\n",
    "                cache.append(1)\n",
    "                break\n",
    "            number=f(number)\n",
    "            if number<i:\n",
    "                cache.append(cache[number-1])\n",
    "                break\n",
    "    return sum(cache)\n",
    "\n",
    "if __name__ == \"__main__\":\n",
    "    print(main(10000000))\n",
    "    print('calc time:', t()-start)"
   ]
  },
  {
   "cell_type": "code",
   "execution_count": 104,
   "metadata": {},
   "outputs": [
    {
     "name": "stdout",
     "output_type": "stream",
     "text": [
      "85623\n",
      "calc time: 1.7811918258666992\n"
     ]
    }
   ],
   "source": [
    "# speed up - dynamic - 3 : use additional temp cache\n",
    "# not that much effected. \n",
    "# more slow,,\n",
    "\n",
    "from time import time as t\n",
    "start=t()\n",
    "\n",
    "cache={}\n",
    "for i in range(1,100000):\n",
    "    number=i\n",
    "    temp={i}\n",
    "    while True:\n",
    "        if (number) in cache:\n",
    "            for k in temp:\n",
    "                cache[k]=cache[number]\n",
    "            break\n",
    "        elif number == 1 or number == 89:\n",
    "            for j in temp:\n",
    "                cache[j]=number\n",
    "            break\n",
    "        summ=0\n",
    "        while number>0:\n",
    "            summ+=(number%10)**2\n",
    "            number//=10\n",
    "        number=summ\n",
    "        temp.add(number)\n",
    "print(sum(value == 89 for value in cache.values()))\n",
    "print('calc time:', t()-start)"
   ]
  },
  {
   "cell_type": "code",
   "execution_count": 92,
   "metadata": {},
   "outputs": [
    {
     "data": {
      "text/plain": [
       "set"
      ]
     },
     "execution_count": 92,
     "metadata": {},
     "output_type": "execute_result"
    }
   ],
   "source": [
    "temp={1}\n",
    "type(temp)"
   ]
  },
  {
   "cell_type": "code",
   "execution_count": 82,
   "metadata": {},
   "outputs": [
    {
     "name": "stdout",
     "output_type": "stream",
     "text": [
      "<class 'set'>\n",
      "set()\n",
      "<class 'dict'>\n",
      "{1: 'dict', 2: 'dict', 3: 'dict'}\n",
      "{1: 'dict', 2: 'dict', 3: 'dict'}\n",
      "{1: 'dict', 2: 'dict', 3: 'dict'}\n"
     ]
    }
   ],
   "source": [
    "temp={4,5,6}\n",
    "print(type(temp))\n",
    "print(temp)\n",
    "temp2={1:'dict', 2:'dict',3:'dict'}\n",
    "print(type(temp2))\n",
    "print(temp2)\n",
    "for i in temp:\n",
    "    temp2[i]='set'\n",
    "print(temp2)\n",
    "{temp2[i]:'set3' for i in temp}\n",
    "print(temp2)"
   ]
  },
  {
   "cell_type": "code",
   "execution_count": 48,
   "metadata": {},
   "outputs": [
    {
     "name": "stdout",
     "output_type": "stream",
     "text": [
      "<class 'tuple'>\n"
     ]
    }
   ],
   "source": [
    "temp=()\n",
    "print(type(temp))"
   ]
  },
  {
   "cell_type": "code",
   "execution_count": 52,
   "metadata": {},
   "outputs": [
    {
     "name": "stdout",
     "output_type": "stream",
     "text": [
      "<class 'dict'>\n"
     ]
    }
   ],
   "source": [
    "temp={}\n",
    "print(type(temp))"
   ]
  },
  {
   "cell_type": "code",
   "execution_count": 51,
   "metadata": {},
   "outputs": [
    {
     "name": "stdout",
     "output_type": "stream",
     "text": [
      "<class 'set'>\n",
      "{1}\n"
     ]
    }
   ],
   "source": [
    "temp=set()\n",
    "print(type(temp))\n",
    "temp.add(1)\n",
    "print(temp)"
   ]
  },
  {
   "cell_type": "code",
   "execution_count": 66,
   "metadata": {},
   "outputs": [
    {
     "name": "stdout",
     "output_type": "stream",
     "text": [
      "85623\n",
      "calc time: 6.156388759613037\n"
     ]
    }
   ],
   "source": [
    "#forum-1\n",
    "from time import time as t\n",
    "start=t()\n",
    "\n",
    "def digits(n, sum = 0):\n",
    "    #n_str_len=len(n_str)\n",
    "    for i in str(n):\n",
    "        i_n = int(i)*int(i)\n",
    "        sum = sum + i_n\n",
    "    if sum == 1:\n",
    "        return 0\n",
    "    elif sum == 89:\n",
    "        return 1\n",
    "    else:\n",
    "        return digits(sum)   \n",
    "                   \n",
    "\n",
    "count = 0\n",
    "for i in range(1,100000):\n",
    "    count = count+digits(i)     \n",
    "print(count)\n",
    "print('calc time:', t()-start)"
   ]
  },
  {
   "cell_type": "code",
   "execution_count": 115,
   "metadata": {},
   "outputs": [
    {
     "name": "stdout",
     "output_type": "stream",
     "text": [
      "85623\n",
      "calc time: 1.0155863761901855\n"
     ]
    }
   ],
   "source": [
    "#forum-2\n",
    "from time import time as t\n",
    "start=t()\n",
    "\n",
    "def sum_digit_squared(a):\n",
    "    b = 0\n",
    "    while a > 0:\n",
    "        b  += (a % 10) ** 2\n",
    "        a //= 10\n",
    "    return b\n",
    "\n",
    "def result(n):\n",
    "    final_list = []\n",
    "    for i in range(1, n):\n",
    "        number = i\n",
    "        while True:\n",
    "            if i == 1:\n",
    "                final_list.append(0)\n",
    "                break\n",
    "            if i == 89:\n",
    "                final_list.append(1)\n",
    "                break\n",
    "            i = sum_digit_squared(i)\n",
    "            if i < number:\n",
    "                final_list.append(final_list[i - 1])\n",
    "                break\n",
    "    return sum(final_list)\n",
    "\n",
    "print(result(100000))\n",
    "print('calc time:', t()-start)"
   ]
  },
  {
   "cell_type": "code",
   "execution_count": 110,
   "metadata": {},
   "outputs": [
    {
     "name": "stdout",
     "output_type": "stream",
     "text": [
      "85623\n",
      "calc time: 1.0311520099639893\n"
     ]
    }
   ],
   "source": [
    "#forum-2 : test\n",
    "from time import time as t\n",
    "start=t()\n",
    "\n",
    "def sum_digit_squared(a):\n",
    "    b = 0\n",
    "    while a > 0:\n",
    "        b  += (a % 10) ** 2\n",
    "        a //= 10\n",
    "    return b\n",
    "\n",
    "def result(n):\n",
    "    final_list = []\n",
    "    for i in range(1, n):\n",
    "        number = i\n",
    "        print(i,end=' ')\n",
    "        while True:\n",
    "            if i == 1:\n",
    "                final_list.append(0)\n",
    "                break\n",
    "            if i == 89:\n",
    "                final_list.append(1)\n",
    "                break\n",
    "            i = sum_digit_squared(i)\n",
    "            print()\n",
    "            if i < number:\n",
    "                final_list.append(final_list[i - 1])\n",
    "                break\n",
    "    return sum(final_list)\n",
    "\n",
    "print(result(20))\n",
    "print('calc time:', t()-start)"
   ]
  }
 ],
 "metadata": {
  "kernelspec": {
   "display_name": "Python 3",
   "language": "python",
   "name": "python3"
  },
  "language_info": {
   "codemirror_mode": {
    "name": "ipython",
    "version": 3
   },
   "file_extension": ".py",
   "mimetype": "text/x-python",
   "name": "python",
   "nbconvert_exporter": "python",
   "pygments_lexer": "ipython3",
   "version": "3.6.5"
  }
 },
 "nbformat": 4,
 "nbformat_minor": 2
}
