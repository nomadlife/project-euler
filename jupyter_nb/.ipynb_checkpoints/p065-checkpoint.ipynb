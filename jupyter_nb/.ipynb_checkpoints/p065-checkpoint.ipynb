{
 "cells": [
  {
   "cell_type": "markdown",
   "metadata": {},
   "source": [
    "# p065"
   ]
  },
  {
   "cell_type": "code",
   "execution_count": 14,
   "metadata": {},
   "outputs": [
    {
     "name": "stdout",
     "output_type": "stream",
     "text": [
      "0 2\n",
      "1 1\n",
      "2 2\n",
      "3 1\n",
      "4 1 1\n",
      "5 2 2\n",
      "6 3 1\n",
      "7 1 1\n",
      "8 2 2\n",
      "9 3 1\n",
      "10 1 1\n",
      "11 2 2\n",
      "12 3 1\n",
      "13 1 1\n",
      "14 2 2\n",
      "15 3 1\n",
      "16 1 1\n",
      "17 2 2\n",
      "18 3 1\n",
      "19 1 1\n"
     ]
    }
   ],
   "source": [
    "p=[2,1,2,1]\n",
    "for i in range(20):\n",
    "    if i >= len(p):\n",
    "        v=(i-1)%3+1\n",
    "        print(i,v,p[v])\n",
    "    else:\n",
    "        print(i,p[i])"
   ]
  },
  {
   "cell_type": "code",
   "execution_count": 19,
   "metadata": {},
   "outputs": [
    {
     "name": "stdout",
     "output_type": "stream",
     "text": [
      "0 2\n",
      "1 1\n",
      "2 2\n",
      "3 1\n",
      "4 1 1\n",
      "5 2 4\n",
      "6 3 1\n",
      "7 1 1\n",
      "8 2 6\n",
      "9 3 1\n",
      "10 1 1\n",
      "11 2 8\n",
      "12 3 1\n",
      "13 1 1\n",
      "14 2 10\n",
      "15 3 1\n",
      "16 1 1\n",
      "17 2 12\n",
      "18 3 1\n",
      "19 1 1\n"
     ]
    }
   ],
   "source": [
    "p=[2,1,2,1]\n",
    "for i in range(20):\n",
    "    if i >= len(p):\n",
    "        v=(i-1)%3+1\n",
    "        if v==2:\n",
    "            print(i,v,p[v]*(i//3+1))\n",
    "        else:\n",
    "            print(i,v,p[v])\n",
    "    else:\n",
    "        print(i,p[i])"
   ]
  },
  {
   "cell_type": "code",
   "execution_count": 23,
   "metadata": {},
   "outputs": [
    {
     "name": "stdout",
     "output_type": "stream",
     "text": [
      "0 2\n",
      "1 1\n",
      "2 2\n",
      "3 1\n",
      "4 1 1 1\n",
      "5 2 4 2 *\n",
      "6 0 2 0\n",
      "7 1 1 1\n",
      "8 2 6 2 *\n",
      "9 0 2 0\n",
      "10 1 1 1\n",
      "11 2 8 2 *\n",
      "12 0 2 0\n",
      "13 1 1 1\n",
      "14 2 10 2 *\n",
      "15 0 2 0\n",
      "16 1 1 1\n",
      "17 2 12 2 *\n",
      "18 0 2 0\n",
      "19 1 1 1\n"
     ]
    }
   ],
   "source": [
    "# for test\n",
    "p=[2,1,2,1]\n",
    "for i in range(20):\n",
    "    if i >= len(p):\n",
    "        v=i%3\n",
    "        if v==2:\n",
    "            print(i,v,p[v]*(i//3+1),i%3,'*')\n",
    "        else:\n",
    "            print(i,v,p[v],i%3)\n",
    "    else:\n",
    "        print(i,p[i])"
   ]
  },
  {
   "cell_type": "code",
   "execution_count": 27,
   "metadata": {},
   "outputs": [
    {
     "name": "stdout",
     "output_type": "stream",
     "text": [
      "0 2\n",
      "1 1\n",
      "2 2\n",
      "3 1\n",
      "4 1 1\n",
      "5 2 4\n",
      "6 3 1\n",
      "7 1 1\n",
      "8 2 6\n",
      "9 3 1\n",
      "10 1 1\n",
      "11 2 8\n",
      "12 3 1\n",
      "13 1 1\n",
      "14 2 10\n",
      "15 3 1\n",
      "16 1 1\n",
      "17 2 12\n",
      "18 3 1\n",
      "19 1 1\n"
     ]
    }
   ],
   "source": [
    "# simple\n",
    "p=[2,1,2,1]\n",
    "for i in range(20):\n",
    "    v=(i-1)%3+1\n",
    "    if i < len(p):\n",
    "        print(i,p[i])\n",
    "    elif v==2:\n",
    "        print(i,v,p[v]*(i//3+1))\n",
    "    else:\n",
    "        print(i,v,p[v])\n",
    "        "
   ]
  },
  {
   "cell_type": "code",
   "execution_count": 51,
   "metadata": {},
   "outputs": [
    {
     "name": "stdout",
     "output_type": "stream",
     "text": [
      "[1, 2, 2]\n"
     ]
    }
   ],
   "source": [
    "t=[1,2]\n",
    "t.extend([len(t)])\n",
    "print(t)"
   ]
  },
  {
   "cell_type": "code",
   "execution_count": 48,
   "metadata": {},
   "outputs": [
    {
     "name": "stdout",
     "output_type": "stream",
     "text": [
      "[1, 2, 2]\n"
     ]
    }
   ],
   "source": [
    "t=[1,2]\n",
    "t[len(t):]=[len(t)]\n",
    "print(t)"
   ]
  },
  {
   "cell_type": "code",
   "execution_count": 52,
   "metadata": {},
   "outputs": [
    {
     "name": "stdout",
     "output_type": "stream",
     "text": [
      "[1, 2, 2]\n",
      "[1, 2, 2, 3]\n",
      "[1, 2, 2, 3, 4]\n",
      "[1, 2, 2, 3, 4, 5]\n",
      "[1, 2, 2, 3, 4, 5, 6]\n",
      "[1, 2, 2, 3, 4, 5, 6, 7]\n",
      "[1, 2, 2, 3, 4, 5, 6, 7, 8]\n",
      "[1, 2, 2, 3, 4, 5, 6, 7, 8, 9]\n",
      "[1, 2, 2, 3, 4, 5, 6, 7, 8, 9, 10]\n",
      "[1, 2, 2, 3, 4, 5, 6, 7, 8, 9, 10, 11]\n"
     ]
    }
   ],
   "source": [
    "t=[1,2]\n",
    "for i in range(10):\n",
    "    t.extend([len(t)])\n",
    "    print(t)"
   ]
  },
  {
   "cell_type": "code",
   "execution_count": 54,
   "metadata": {},
   "outputs": [
    {
     "data": {
      "text/plain": [
       "3"
      ]
     },
     "execution_count": 54,
     "metadata": {},
     "output_type": "execute_result"
    }
   ],
   "source": [
    "t=[1,2,3]\n",
    "t[-1]"
   ]
  },
  {
   "cell_type": "code",
   "execution_count": 55,
   "metadata": {},
   "outputs": [
    {
     "name": "stdout",
     "output_type": "stream",
     "text": [
      "[1, 2, 2]\n",
      "[1, 2, 2, 2]\n",
      "[1, 2, 2, 2, 2]\n",
      "[1, 2, 2, 2, 2, 2]\n",
      "[1, 2, 2, 2, 2, 2, 2]\n",
      "[1, 2, 2, 2, 2, 2, 2, 2]\n",
      "[1, 2, 2, 2, 2, 2, 2, 2, 2]\n",
      "[1, 2, 2, 2, 2, 2, 2, 2, 2, 2]\n",
      "[1, 2, 2, 2, 2, 2, 2, 2, 2, 2, 2]\n",
      "[1, 2, 2, 2, 2, 2, 2, 2, 2, 2, 2, 2]\n"
     ]
    }
   ],
   "source": [
    "t=[1,2]\n",
    "for i in range(10):\n",
    "    t.extend([t[-1]])\n",
    "    print(t)"
   ]
  },
  {
   "cell_type": "code",
   "execution_count": 60,
   "metadata": {},
   "outputs": [
    {
     "name": "stdout",
     "output_type": "stream",
     "text": [
      "[0, 1, 2, 3, 1]\n",
      "[0, 1, 2, 3, 1, 2]\n",
      "[0, 1, 2, 3, 1, 2, 3]\n",
      "[0, 1, 2, 3, 1, 2, 3, 1]\n",
      "[0, 1, 2, 3, 1, 2, 3, 1, 2]\n",
      "[0, 1, 2, 3, 1, 2, 3, 1, 2, 3]\n",
      "[0, 1, 2, 3, 1, 2, 3, 1, 2, 3, 1]\n",
      "[0, 1, 2, 3, 1, 2, 3, 1, 2, 3, 1, 2]\n",
      "[0, 1, 2, 3, 1, 2, 3, 1, 2, 3, 1, 2, 3]\n",
      "[0, 1, 2, 3, 1, 2, 3, 1, 2, 3, 1, 2, 3, 1]\n"
     ]
    }
   ],
   "source": [
    "t=[0,1,2,3]\n",
    "for i in range(10):\n",
    "    t.extend([t[i%3+1]])\n",
    "    print(t)"
   ]
  },
  {
   "cell_type": "code",
   "execution_count": 72,
   "metadata": {},
   "outputs": [
    {
     "name": "stdout",
     "output_type": "stream",
     "text": [
      "[2, 1, 2, 1]\n",
      "[2, 1, 2, 1, 1]\n",
      "[2, 1, 2, 1, 1, 2]\n",
      "[2, 1, 2, 1, 1, 2, 1]\n",
      "[2, 1, 2, 1, 1, 2, 1, 1]\n",
      "[2, 1, 2, 1, 1, 2, 1, 1, 2]\n"
     ]
    }
   ],
   "source": [
    "# recursion\n",
    "target=10\n",
    "def func(alist,n=0):\n",
    "    if len(alist)==target:\n",
    "        return\n",
    "    print(alist)\n",
    "    alist.extend([alist[n%3+1]])\n",
    "    func(alist,n+1)\n",
    "func([2,1,2,1])\n"
   ]
  },
  {
   "cell_type": "code",
   "execution_count": 80,
   "metadata": {},
   "outputs": [
    {
     "name": "stdout",
     "output_type": "stream",
     "text": [
      "[2, 1, 2, 1]\n",
      "[2, 1, 2, 1, 1]\n",
      "[2, 1, 2, 1, 1, 4]\n",
      "[2, 1, 2, 1, 1, 4, 1]\n",
      "[2, 1, 2, 1, 1, 4, 1, 1]\n",
      "[2, 1, 2, 1, 1, 4, 1, 1, 6]\n",
      "[2, 1, 2, 1, 1, 4, 1, 1, 6, 1]\n",
      "[2, 1, 2, 1, 1, 4, 1, 1, 6, 1, 1]\n",
      "[2, 1, 2, 1, 1, 4, 1, 1, 6, 1, 1, 8]\n",
      "[2, 1, 2, 1, 1, 4, 1, 1, 6, 1, 1, 8, 1]\n",
      "[2, 1, 2, 1, 1, 4, 1, 1, 6, 1, 1, 8, 1, 1]\n",
      "[2, 1, 2, 1, 1, 4, 1, 1, 6, 1, 1, 8, 1, 1, 10]\n",
      "[2, 1, 2, 1, 1, 4, 1, 1, 6, 1, 1, 8, 1, 1, 10, 1]\n",
      "[2, 1, 2, 1, 1, 4, 1, 1, 6, 1, 1, 8, 1, 1, 10, 1, 1]\n",
      "[2, 1, 2, 1, 1, 4, 1, 1, 6, 1, 1, 8, 1, 1, 10, 1, 1, 12]\n",
      "[2, 1, 2, 1, 1, 4, 1, 1, 6, 1, 1, 8, 1, 1, 10, 1, 1, 12, 1]\n"
     ]
    }
   ],
   "source": [
    "# recursion -2\n",
    "def func(alist,n=0):\n",
    "    if len(alist) != target:\n",
    "        print(alist)\n",
    "        if n%3 ==1:\n",
    "            alist.extend([alist[n%3+1]*(n//3+2)])\n",
    "        else:\n",
    "            alist.extend([alist[n%3+1]])\n",
    "        func(alist,n+1)\n",
    "    return\n",
    "\n",
    "target=20\n",
    "func([2,1,2,1])"
   ]
  },
  {
   "cell_type": "code",
   "execution_count": 87,
   "metadata": {},
   "outputs": [
    {
     "name": "stdout",
     "output_type": "stream",
     "text": [
      "[2, 1, 2, 1]\n",
      "[2, 1, 2, 1, 1]\n",
      "[2, 1, 2, 1, 1, 4]\n",
      "[2, 1, 2, 1, 1, 4, 1]\n",
      "[2, 1, 2, 1, 1, 4, 1, 1]\n",
      "[2, 1, 2, 1, 1, 4, 1, 1, 6]\n",
      "[2, 1, 2, 1, 1, 4, 1, 1, 6, 1]\n",
      "[2, 1, 2, 1, 1, 4, 1, 1, 6, 1, 1]\n",
      "[2, 1, 2, 1, 1, 4, 1, 1, 6, 1, 1, 8]\n",
      "[2, 1, 2, 1, 1, 4, 1, 1, 6, 1, 1, 8, 1]\n",
      "[2, 1, 2, 1, 1, 4, 1, 1, 6, 1, 1, 8, 1, 1]\n",
      "[2, 1, 2, 1, 1, 4, 1, 1, 6, 1, 1, 8, 1, 1, 10]\n",
      "[2, 1, 2, 1, 1, 4, 1, 1, 6, 1, 1, 8, 1, 1, 10, 1]\n",
      "[2, 1, 2, 1, 1, 4, 1, 1, 6, 1, 1, 8, 1, 1, 10, 1, 1]\n",
      "[2, 1, 2, 1, 1, 4, 1, 1, 6, 1, 1, 8, 1, 1, 10, 1, 1, 12]\n",
      "[2, 1, 2, 1, 1, 4, 1, 1, 6, 1, 1, 8, 1, 1, 10, 1, 1, 12, 1]\n"
     ]
    }
   ],
   "source": [
    "# recursion -3\n",
    "def func(alist,n=0):\n",
    "    if len(alist) != target:\n",
    "        print(alist)\n",
    "        value=alist[n%3+1]\n",
    "        if n%3 ==1:\n",
    "            value = value*(n//3+2)\n",
    "        alist.extend([value])\n",
    "        func(alist,n+1)\n",
    "    return\n",
    "\n",
    "target=20\n",
    "func([2,1,2,1])"
   ]
  },
  {
   "cell_type": "code",
   "execution_count": 95,
   "metadata": {},
   "outputs": [
    {
     "name": "stdout",
     "output_type": "stream",
     "text": [
      "[2, 1, 2, 1, 1]\n",
      "[2, 1, 2, 1, 1, 4]\n",
      "[2, 1, 2, 1, 1, 4, 1]\n",
      "[2, 1, 2, 1, 1, 4, 1, 1]\n",
      "[2, 1, 2, 1, 1, 4, 1, 1, 6]\n",
      "[2, 1, 2, 1, 1, 4, 1, 1, 6, 1]\n",
      "[2, 1, 2, 1, 1, 4, 1, 1, 6, 1, 1]\n",
      "[2, 1, 2, 1, 1, 4, 1, 1, 6, 1, 1, 8]\n",
      "[2, 1, 2, 1, 1, 4, 1, 1, 6, 1, 1, 8, 1]\n",
      "[2, 1, 2, 1, 1, 4, 1, 1, 6, 1, 1, 8, 1, 1]\n"
     ]
    }
   ],
   "source": [
    "# loop\n",
    "alist=[2,1,2,1]\n",
    "for n in range(10):\n",
    "    value=alist[n%3+1]\n",
    "    if n%3 ==1:\n",
    "        value *= n//3+2\n",
    "    alist.extend([value])\n",
    "    print(alist)"
   ]
  },
  {
   "cell_type": "code",
   "execution_count": null,
   "metadata": {},
   "outputs": [],
   "source": [
    "def func(arr):\n",
    "    "
   ]
  }
 ],
 "metadata": {
  "kernelspec": {
   "display_name": "Python 3",
   "language": "python",
   "name": "python3"
  },
  "language_info": {
   "codemirror_mode": {
    "name": "ipython",
    "version": 3
   },
   "file_extension": ".py",
   "mimetype": "text/x-python",
   "name": "python",
   "nbconvert_exporter": "python",
   "pygments_lexer": "ipython3",
   "version": "3.6.5"
  }
 },
 "nbformat": 4,
 "nbformat_minor": 2
}
