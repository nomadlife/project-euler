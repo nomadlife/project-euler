{
 "cells": [
  {
   "cell_type": "markdown",
   "metadata": {
    "collapsed": true
   },
   "source": [
    "# Q025 1000-digit Fibonacci number\n",
    "\n",
    "\n",
    "\n",
    "The Fibonacci sequence is defined by the recurrence relation:\n",
    "\n",
    ">$F_n = F_{n−1} + F_{n−2},\\ where\\ F_1 = 1\\ and\\ F_2 = 1.$\n",
    "\n",
    "Hence the first 12 terms will be:\n",
    "\n",
    ">$F_1 = 1$<br>\n",
    "$F_2 = 1$<br>\n",
    "$F_3 = 2$<br>\n",
    "$F_4 = 3$<br>\n",
    "$F_5 = 5$<br>\n",
    "$F_6 = 8$<br>\n",
    "$F_7 = 13$<br>\n",
    "$F_8 = 21$<br>\n",
    "$F_9 = 34$<br>\n",
    "$F_{10} = 55$<br>\n",
    "$F_{11} = 89$<br>\n",
    "$F_{12} = 144$<br>\n",
    "\n",
    "The 12th term, $F_{12}$, is the first term to contain three digits.\n",
    "\n",
    "What is the index of the first term in the Fibonacci sequence to contain 1000 digits?\n",
    "\n",
    "최초 1000자리 피보나치 수열의 index를 계산."
   ]
  },
  {
   "cell_type": "code",
   "execution_count": 1,
   "metadata": {},
   "outputs": [
    {
     "name": "stdout",
     "output_type": "stream",
     "text": [
      "1 1\n",
      "1 2\n",
      "2 3\n",
      "3 5\n",
      "5 8\n",
      "8 13\n",
      "13 21\n",
      "21 34\n",
      "34 55\n",
      "55 89\n",
      "89 144\n",
      "144 233\n",
      "233 377\n",
      "377 610\n",
      "610 987\n",
      "987 1597\n"
     ]
    }
   ],
   "source": [
    "#fibonacci 수열(3 digit , < 1000)\n",
    "a=1; b=1\n",
    "while a < 1000:\n",
    "    print(a,b)\n",
    "    a,b = b, a+b\n",
    "    "
   ]
  },
  {
   "cell_type": "code",
   "execution_count": 5,
   "metadata": {},
   "outputs": [
    {
     "name": "stdout",
     "output_type": "stream",
     "text": [
      "1 1\n",
      "1 2\n",
      "2 3\n",
      "3 5\n",
      "5 8\n",
      "8 13\n",
      "13 21\n",
      "21 34\n",
      "34 55\n",
      "55 89\n",
      "89 144\n",
      "144 233\n",
      "233 377\n",
      "377 610\n",
      "610 987\n",
      "987 1597\n",
      "1597\n"
     ]
    }
   ],
   "source": [
    "#fibonacci 수열(3 digit, < 10**3)\n",
    "a=1; b=1\n",
    "while a < 1000:\n",
    "    print(a,b)\n",
    "    a,b = b, a+b\n",
    "print(a)"
   ]
  },
  {
   "cell_type": "code",
   "execution_count": 19,
   "metadata": {
    "scrolled": true
   },
   "outputs": [
    {
     "name": "stdout",
     "output_type": "stream",
     "text": [
      "1 1\n",
      "2 1\n",
      "3 2\n",
      "4 3\n",
      "5 5\n",
      "6 8\n",
      "7 13\n",
      "8 21\n",
      "9 34\n",
      "10 55\n",
      "11 89\n",
      "12 144\n",
      "13 233\n",
      "14 377\n",
      "15 610\n",
      "16 987\n",
      "17 1597\n",
      "18 2584\n",
      "19 4181\n",
      "20 6765\n",
      "21 10946\n",
      "22 17711\n",
      "23 28657\n",
      "24 46368\n",
      "25 75025\n",
      "26 121393\n",
      "27 196418\n",
      "28 317811\n",
      "29 514229\n",
      "30 832040\n",
      "31 1346269\n",
      "32 2178309\n",
      "33 3524578\n",
      "34 5702887\n",
      "35 9227465\n",
      "36 14930352\n",
      "37 24157817\n",
      "38 39088169\n",
      "39 63245986\n",
      "40 102334155\n",
      "41 165580141\n",
      "42 267914296\n",
      "43 433494437\n",
      "44 701408733\n",
      "45 1134903170\n"
     ]
    }
   ],
   "source": [
    "# first 10 digit \n",
    "a=1;b=1;count=1\n",
    "while a<10**9:\n",
    "    print(count,a)\n",
    "    a,b=b,a+b\n",
    "    count+=1\n",
    "print(count,a)"
   ]
  },
  {
   "cell_type": "code",
   "execution_count": 21,
   "metadata": {},
   "outputs": [
    {
     "name": "stdout",
     "output_type": "stream",
     "text": [
      "4782 1070066266382758936764980584457396885083683896632151665013235203375314520604694040621889147582489792657804694888177591957484336466672569959512996030461262748092482186144069433051234774442750273781753087579391666192149259186759553966422837148943113074699503439547001985432609723067290192870526447243726117715821825548491120525013201478612965931381792235559657452039506137551467837543229119602129934048260706175397706847068202895486902666185435124521900369480641357447470911707619766945691070098024393439617474103736912503231365532164773697023167755051595173518460579954919410967778373229665796581646513903488154256310184224190259846088000110186255550245493937113651657039447629584714548523425950428582425306083544435428212611008992863795048006894330309773217834864543113205765659868456288616808718693835297350643986297640660000723562917905207051164077614812491885830945940566688339109350944456576357666151619317753792891661581327159616877487983821820492520348473874384736771934512787029218636250627816\n",
      "1000\n"
     ]
    }
   ],
   "source": [
    "#첫번째 1000 자리\n",
    "a=1;b=1;count=1\n",
    "while a<10**999:\n",
    "    a,b=b,a+b\n",
    "    count+=1\n",
    "print(count,a)\n",
    "print(len(str(a)))\n"
   ]
  },
  {
   "cell_type": "code",
   "execution_count": null,
   "metadata": {},
   "outputs": [],
   "source": [
    "#forum-1\n",
    "from operator import add\n",
    "\n",
    "def gen_recursive_sequence(f, p, q):\n",
    "    while True:\n",
    "        yield p\n",
    "        p, q = q, f(p, q)\n",
    "\n",
    "if __name__ == '__main__':\n",
    "    iter_fibonacci = gen_recursive_sequence(add, 0, 1)\n",
    "    for i, fibonacci in enumerate(iter_fibonacci):\n",
    "        if len(str(fibonacci)) == 1000:\n",
    "            print(i, fibonacci)\n",
    "            break\n",
    "            "
   ]
  },
  {
   "cell_type": "code",
   "execution_count": null,
   "metadata": {},
   "outputs": [],
   "source": [
    "#forum-2\n",
    "i = 0\n",
    "a, b  = 0, 1\n",
    "while len(str(a)) < 1000:\n",
    "    a, b, i = b, a+b, i+1\n",
    "print(i)"
   ]
  },
  {
   "cell_type": "code",
   "execution_count": null,
   "metadata": {},
   "outputs": [],
   "source": [
    "#forum-3\n",
    "#Project Euler\n",
    "#Question 25\n",
    "#Jesse Hamer\n",
    "#12/19/17\n",
    "\n",
    "#Find the first 1000-digit Fibonacci number.\n",
    "\n",
    "digitize = function(x){\n",
    "  return(as.numeric(strsplit(as.character(x),\"\")[[1]]))\n",
    "}\n",
    "\n",
    "addition = function(x,y){\n",
    "  if(is.null(x)){return(y)}\n",
    "  if(is.null(y)){return(x)}\n",
    "  sum = NULL\n",
    "  if(length(x)< length(y)){x = c(rep(0, length(y)-length(x)),x)} else{\n",
    "    y = c(rep(0,length(x)-length(y)),y)\n",
    "  }\n",
    "  carry.over = 0\n",
    "  for(i in length(x):1){\n",
    "    new.digit = (x[i]+y[i] + carry.over)%%10\n",
    "    carry.over = ((x[i]+y[i] + carry.over)-new.digit)/10\n",
    "    sum = c(new.digit,sum)\n",
    "  }\n",
    "  if(carry.over > 0){sum = c(carry.over,sum)}\n",
    "  return(sum)\n",
    "}\n",
    "\n",
    "a = 1\n",
    "b = 1\n",
    "n = 2\n",
    "\n",
    "while(length(b)<1000){\n",
    "  temp=a\n",
    "  a=b\n",
    "  b = addition(temp,b)\n",
    "  n = n+1\n",
    "}\n",
    "\n",
    "n"
   ]
  },
  {
   "cell_type": "code",
   "execution_count": null,
   "metadata": {},
   "outputs": [],
   "source": [
    "#forum-4\n",
    "def Euler_25(n=1000):\n",
    "    a, b = 1, 1\n",
    "    index = 2\n",
    "    while len(str(b)) < n:\n",
    "        a, b = b, a + b\n",
    "        index += 1\n",
    "    return index"
   ]
  },
  {
   "cell_type": "code",
   "execution_count": null,
   "metadata": {},
   "outputs": [],
   "source": [
    "#forum-5\n",
    "def Euler25(n):\n",
    "    a=1\n",
    "    b=1 #index 2\n",
    "    i=2\n",
    "    while(len(str(b))<n):\n",
    "        a,b = b,a+b\n",
    "        i+=1\n",
    "    return i"
   ]
  },
  {
   "cell_type": "code",
   "execution_count": null,
   "metadata": {},
   "outputs": [],
   "source": [
    "#forum-6\n",
    "def main():\n",
    "\n",
    "    fibonacci = [1,1]\n",
    "    idx = 2\n",
    "    next_fibo = fibonacci[idx-1] + fibonacci[idx-2]\n",
    "    while(len(str(next_fibo)) < 1000):\n",
    "        fibonacci.append(next_fibo)\n",
    "        idx += 1\n",
    "        next_fibo = fibonacci[idx-1] + fibonacci[idx-2]\n",
    "    print(\"Index of first fibonacci number with 1000 digit: \", idx + 1)  # because we start at idx = 0 instead of 1\n",
    "\n",
    "\n",
    "if __name__ == \"__main__\":\n",
    "    main()"
   ]
  },
  {
   "cell_type": "code",
   "execution_count": null,
   "metadata": {},
   "outputs": [],
   "source": [
    "#forum-7\n",
    "a, b = 1, 1\n",
    "n = 1\n",
    "while True:\n",
    "    if len(str(b)) == 1000:\n",
    "        print n\n",
    "        break\n",
    "    a, b = a+b, a\n",
    "    n += 1"
   ]
  }
 ],
 "metadata": {
  "kernelspec": {
   "display_name": "Python 3",
   "language": "python",
   "name": "python3"
  },
  "language_info": {
   "codemirror_mode": {
    "name": "ipython",
    "version": 3
   },
   "file_extension": ".py",
   "mimetype": "text/x-python",
   "name": "python",
   "nbconvert_exporter": "python",
   "pygments_lexer": "ipython3",
   "version": "3.6.5"
  }
 },
 "nbformat": 4,
 "nbformat_minor": 2
}
