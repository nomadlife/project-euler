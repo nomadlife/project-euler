{
 "cells": [
  {
   "cell_type": "markdown",
   "metadata": {},
   "source": [
    "# q031 coin sums\n",
    "\n",
    "1p, 2p, 5p, 10p, 20p, 50p, £1 (100p) and £2 (200p).\n",
    "How many different ways can £2 be made using any number of coins?\n",
    "\n",
    "\n",
    "\n",
    "\n",
    "\n",
    "\n",
    "\n",
    "\n",
    "\n",
    "\n",
    "\n"
   ]
  },
  {
   "cell_type": "code",
   "execution_count": 131,
   "metadata": {
    "scrolled": true
   },
   "outputs": [
    {
     "name": "stdout",
     "output_type": "stream",
     "text": [
      "[1, 0, 0, 0, 0, 0, 0, 0] 200\n",
      "[0, 2, 0, 0, 0, 0, 0, 0] 200\n",
      "[0, 1, 2, 0, 0, 0, 0, 0] 200\n",
      "[0, 1, 1, 2, 1, 0, 0, 0] 200\n",
      "[0, 1, 1, 2, 0, 2, 0, 0] 200\n",
      "[0, 1, 1, 2, 0, 1, 2, 1] 200\n",
      "[0, 1, 1, 2, 0, 1, 1, 3] 200\n",
      "[0, 1, 1, 2, 0, 1, 0, 5] 200\n",
      "[0, 1, 1, 2, 0, 0, 5, 0] 200\n",
      "[0, 1, 1, 2, 0, 0, 4, 2] 200\n",
      "[0, 1, 1, 2, 0, 0, 3, 4] 200\n",
      "[0, 1, 1, 2, 0, 0, 2, 6] 200\n",
      "[0, 1, 1, 2, 0, 0, 1, 8] 200\n",
      "[0, 1, 1, 2, 0, 0, 0, 10] 200\n",
      "[0, 1, 1, 1, 3, 0, 0, 0] 200\n",
      "[0, 1, 1, 1, 2, 2, 0, 0] 200\n",
      "[0, 1, 1, 1, 2, 1, 2, 1] 200\n",
      "[0, 1, 1, 1, 2, 1, 1, 3] 200\n",
      "[0, 1, 1, 1, 2, 1, 0, 5] 200\n",
      "[0, 1, 1, 1, 2, 0, 5, 0] 200\n"
     ]
    }
   ],
   "source": [
    "# 1p, 2p, 5p, 10p, 20p, 50p, £1 (100p) and £2 (200p) -> 8 digit number\n",
    "\n",
    "coin_value = (200,100,50,20,10,5,2,1)\n",
    "\n",
    "def make_coins(alist):\n",
    "    i=6;target=0\n",
    "    while i >=0:\n",
    "        if not alist[i]==0:\n",
    "            alist[i] -= 1\n",
    "            target = coin_value[i] + alist[7]\n",
    "            alist[7]=0\n",
    "            break\n",
    "        i-=1\n",
    "    if not target ==0:\n",
    "        for j in range(i+1,8):\n",
    "            temp = target//coin_value[j]\n",
    "            alist[j] += temp\n",
    "            target -= temp*coin_value[j]\n",
    "            if target == 0:\n",
    "                break\n",
    "        return alist\n",
    "    else:\n",
    "        return None\n",
    "        \n",
    "def value_check(alist):\n",
    "    total = 0\n",
    "    for i in range(0,8):\n",
    "        total = total + alist[i]*coin_value[i]\n",
    "    return total\n",
    "    \n",
    "coins = [1,0,0,0,0,0,0,0]\n",
    "for i in range(0,20):\n",
    "    print(coins,value_check(coins))\n",
    "    coins = make_coins(coins)\n"
   ]
  },
  {
   "cell_type": "code",
   "execution_count": 126,
   "metadata": {
    "scrolled": true
   },
   "outputs": [
    {
     "name": "stdout",
     "output_type": "stream",
     "text": [
      "[1, 0, 0, 0, 0, 0, 0, 0] 200\n",
      "[0, 2, 0, 0, 0, 0, 0, 0] 200\n",
      "[0, 1, 2, 0, 0, 0, 0, 0] 200\n",
      "[0, 1, 1, 2, 1, 0, 0, 0] 200\n",
      "[0, 1, 1, 2, 0, 2, 0, 0] 200\n",
      "[0, 1, 1, 2, 0, 1, 2, 1] 200\n",
      "[0, 1, 1, 2, 0, 1, 1, 3] 200\n",
      "[0, 1, 1, 2, 0, 1, 0, 5] 200\n",
      "[0, 1, 1, 2, 0, 0, 5, 0] 200\n",
      "[0, 1, 1, 2, 0, 0, 4, 2] 200\n",
      "[0, 1, 1, 2, 0, 0, 3, 4] 200\n",
      "[0, 1, 1, 2, 0, 0, 2, 6] 200\n",
      "[0, 1, 1, 2, 0, 0, 1, 8] 200\n",
      "[0, 1, 1, 2, 0, 0, 0, 10] 200\n",
      "[0, 1, 1, 1, 3, 0, 0, 0] 200\n",
      "[0, 1, 1, 1, 2, 2, 0, 0] 200\n",
      "[0, 1, 1, 1, 2, 1, 2, 1] 200\n",
      "[0, 1, 1, 1, 2, 1, 1, 3] 200\n",
      "[0, 1, 1, 1, 2, 1, 0, 5] 200\n",
      "[0, 1, 1, 1, 2, 0, 5, 0] 200\n"
     ]
    }
   ],
   "source": [
    "# 1p, 2p, 5p, 10p, 20p, 50p, £1 (100p) and £2 (200p) -> 8 digit number\n",
    "\n",
    "coin_value = (200,100,50,20,10,5,2,1)\n",
    "\n",
    "def make_coins(alist):\n",
    "    i=6;target=0\n",
    "    while i >=0:\n",
    "        if not alist[i]==0:\n",
    "            alist[i] -= 1\n",
    "            target = coin_value[i] + alist[7]\n",
    "            alist[7]=0\n",
    "            break\n",
    "        i-=1\n",
    "    if not target ==0:\n",
    "        for j in range(i+1,8):\n",
    "            temp = target//coin_value[j]\n",
    "            alist[j] += temp\n",
    "            target -= temp*coin_value[j]\n",
    "            if target == 0:\n",
    "                break\n",
    "        return alist\n",
    "    else:\n",
    "        return None\n",
    "        \n",
    "def value_check(alist):\n",
    "    total = 0\n",
    "    for i in range(0,8):\n",
    "        total = total + alist[i]*coin_value[i]\n",
    "    return total\n",
    "    \n",
    "coins = [1,0,0,0,0,0,0,0]\n",
    "for i in range(0,20):\n",
    "    print(coins,value_check(coins))\n",
    "    coins = make_coins(coins)\n"
   ]
  },
  {
   "cell_type": "code",
   "execution_count": 159,
   "metadata": {
    "scrolled": true
   },
   "outputs": [
    {
     "name": "stdout",
     "output_type": "stream",
     "text": [
      "73682\n"
     ]
    }
   ],
   "source": [
    "# 1p, 2p, 5p, 10p, 20p, 50p, £1 (100p) and £2 (200p) -> 8 digit number\n",
    "\n",
    "coin_value = (200,100,50,20,10,5,2,1)\n",
    "\n",
    "def make_coins(alist):\n",
    "    i=6;target=0\n",
    "    while i >=0:\n",
    "        if not alist[i]==0:\n",
    "            alist[i] -= 1\n",
    "            target = coin_value[i] + alist[7]\n",
    "            alist[7]=0\n",
    "            break\n",
    "        i-=1\n",
    "    if not target ==0:\n",
    "        for j in range(i+1,8):\n",
    "            temp = target//coin_value[j]\n",
    "            alist[j] += temp\n",
    "            target -= temp*coin_value[j]\n",
    "            if target == 0:\n",
    "                break\n",
    "        return alist\n",
    "    else:\n",
    "        return None\n",
    "        \n",
    "def value_check(alist):\n",
    "    total = 0\n",
    "    for i in range(0,8):\n",
    "        total = total + alist[i]*coin_value[i]\n",
    "    return total\n",
    "    \n",
    "coins = [1,0,0,0,0,0,0,0]\n",
    "count = 0\n",
    "while coins is not None:\n",
    "    count+=1\n",
    "    #print(coins,value_check(coins),count)\n",
    "    coins = make_coins(coins)\n",
    "print(count)    "
   ]
  },
  {
   "cell_type": "code",
   "execution_count": 160,
   "metadata": {
    "scrolled": true
   },
   "outputs": [
    {
     "name": "stdout",
     "output_type": "stream",
     "text": [
      "[1, 0, 0, 0, 0, 0, 0, 0] 200\n",
      "[0, 2, 0, 0, 0, 0, 0, 0] 200\n",
      "[0, 1, 2, 0, 0, 0, 0, 0] 200\n",
      "[0, 1, 1, 2, 1, 0, 0, 0] 200\n",
      "[0, 1, 1, 2, 0, 2, 0, 0] 200\n",
      "[0, 1, 1, 2, 0, 1, 2, 1] 200\n",
      "[0, 1, 1, 2, 0, 1, 1, 3] 200\n",
      "[0, 1, 1, 2, 0, 1, 0, 5] 200\n",
      "[0, 1, 1, 2, 0, 0, 5, 0] 200\n",
      "[0, 1, 1, 2, 0, 0, 4, 2] 200\n",
      "[0, 1, 1, 2, 0, 0, 3, 4] 200\n",
      "[0, 1, 1, 2, 0, 0, 2, 6] 200\n",
      "[0, 1, 1, 2, 0, 0, 1, 8] 200\n",
      "[0, 1, 1, 2, 0, 0, 0, 10] 200\n",
      "[0, 1, 1, 1, 3, 0, 0, 0] 200\n",
      "[0, 1, 1, 1, 2, 2, 0, 0] 200\n",
      "[0, 1, 1, 1, 2, 1, 2, 1] 200\n",
      "[0, 1, 1, 1, 2, 1, 1, 3] 200\n",
      "[0, 1, 1, 1, 2, 1, 0, 5] 200\n",
      "[0, 1, 1, 1, 2, 0, 5, 0] 200\n"
     ]
    }
   ],
   "source": [
    "# make_coins 함수 개선.\n",
    "\n",
    "coin_value = (200,100,50,20,10,5,2,1)\n",
    "\n",
    "def make_coins(alist):\n",
    "    if not alist[7] == 200:\n",
    "        target = 0\n",
    "        for i,v in enumerate(alist):\n",
    "            if not v == 0 and v == sum(alist[i:7]):\n",
    "                target = coin_value[i] + sum(alist[i+1:])\n",
    "                alist[i] -= 1\n",
    "                alist[7] = 0\n",
    "            elif not target == 0 and v == 0:\n",
    "                alist[i] = target//coin_value[i]\n",
    "                target = target%coin_value[i]\n",
    "        return alist\n",
    "        \n",
    "def value_check(alist):\n",
    "    total = 0\n",
    "    for i in range(0,8):\n",
    "        total = total + alist[i]*coin_value[i]\n",
    "    return total\n",
    "    \n",
    "coins = [1,0,0,0,0,0,0,0]\n",
    "for i in range(0,20):\n",
    "    print(coins,value_check(coins))\n",
    "    coins = make_coins(coins)\n"
   ]
  },
  {
   "cell_type": "code",
   "execution_count": 161,
   "metadata": {
    "scrolled": true
   },
   "outputs": [
    {
     "name": "stdout",
     "output_type": "stream",
     "text": [
      "73682\n"
     ]
    }
   ],
   "source": [
    "# make_coins 함수 개선\n",
    "\n",
    "coin_value = (200,100,50,20,10,5,2,1)\n",
    "\n",
    "def make_coins(alist):\n",
    "    if not alist[7] == 200:\n",
    "        target = 0\n",
    "        for i,v in enumerate(alist):\n",
    "            if not v == 0 and v == sum(alist[i:7]):\n",
    "                target = coin_value[i] + sum(alist[i+1:])\n",
    "                alist[i] -= 1\n",
    "                alist[7] = 0\n",
    "            elif not target == 0 and v == 0:\n",
    "                alist[i] = target//coin_value[i]\n",
    "                target = target%coin_value[i]\n",
    "        return alist\n",
    "        \n",
    "def value_check(alist):\n",
    "    total = 0\n",
    "    for i in range(0,8):\n",
    "        total = total + alist[i]*coin_value[i]\n",
    "    return total\n",
    "    \n",
    "coins = [1,0,0,0,0,0,0,0]\n",
    "count = 0\n",
    "while coins is not None:\n",
    "    count+=1\n",
    "    #print(coins,value_check(coins),count)\n",
    "    coins = make_coins(coins)\n",
    "print(count)    "
   ]
  },
  {
   "cell_type": "code",
   "execution_count": 143,
   "metadata": {},
   "outputs": [
    {
     "name": "stdout",
     "output_type": "stream",
     "text": [
      "true\n"
     ]
    }
   ],
   "source": [
    "test=0\n",
    "if test is 0:\n",
    "    print(\"true\")"
   ]
  },
  {
   "cell_type": "code",
   "execution_count": 137,
   "metadata": {},
   "outputs": [
    {
     "name": "stdout",
     "output_type": "stream",
     "text": [
      "[0, 100, 50, 20, 20, 5, 4, 1]\n",
      "[50, 20, 20, 5, 4, 1]\n",
      "200\n",
      "50\n",
      "[0, 100, 50, 20, 20, 5, 4, 1]\n"
     ]
    }
   ],
   "source": [
    "coinvalue = (200,100,50,20,10,5,2,1)\n",
    "coins = [0, 1, 1, 1, 2, 1, 2, 1]\n",
    "test = [a*b for a,b in zip(coinvalue,coins)]\n",
    "print(test)\n",
    "print(test[2:])\n",
    "print(sum(test))\n",
    "print(sum(test[3:]))\n",
    "test2 = test[:]\n",
    "print(test2)\n",
    "\n",
    "\n",
    "\n",
    "\n",
    "\n",
    "\n",
    "\n",
    "\n",
    "\n",
    "\n",
    "\n",
    "\n",
    "\n"
   ]
  }
 ],
 "metadata": {
  "kernelspec": {
   "display_name": "Python 3",
   "language": "python",
   "name": "python3"
  },
  "language_info": {
   "codemirror_mode": {
    "name": "ipython",
    "version": 3
   },
   "file_extension": ".py",
   "mimetype": "text/x-python",
   "name": "python",
   "nbconvert_exporter": "python",
   "pygments_lexer": "ipython3",
   "version": "3.5.2"
  }
 },
 "nbformat": 4,
 "nbformat_minor": 2
}
