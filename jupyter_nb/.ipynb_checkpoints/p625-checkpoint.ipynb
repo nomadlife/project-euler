{
 "cells": [
  {
   "cell_type": "markdown",
   "metadata": {},
   "source": [
    "# p625\n"
   ]
  },
  {
   "cell_type": "code",
   "execution_count": 19,
   "metadata": {},
   "outputs": [
    {
     "name": "stdout",
     "output_type": "stream",
     "text": [
      "10 122 0.0\n",
      "100 18065 0.015628576278686523\n",
      "1000 2475190 0.7554073333740234\n",
      "10000 317257140 74.38952445983887\n",
      "finished\n"
     ]
    }
   ],
   "source": [
    "import math\n",
    "import time\n",
    "\n",
    "number = 10\n",
    "while number <= 10000:\n",
    "    start = time.time()\n",
    "    total=0\n",
    "    for j in range(1,number+1):\n",
    "        for i in range(1,j+1):\n",
    "            total+=math.gcd(i,j)\n",
    "    print(number, total, time.time()-start)\n",
    "    number *= 10\n",
    "print(\"finished\")"
   ]
  },
  {
   "cell_type": "code",
   "execution_count": 41,
   "metadata": {},
   "outputs": [
    {
     "name": "stdout",
     "output_type": "stream",
     "text": [
      "1000 2475190 0.7816441059112549\n"
     ]
    }
   ],
   "source": [
    "import math\n",
    "import time\n",
    "\n",
    "number = 1000\n",
    "start = time.time()\n",
    "total=0\n",
    "for j in range(1,number+1):\n",
    "    for i in range(1,j+1):\n",
    "        total+=math.gcd(i,j)\n",
    "print(number, total, time.time()-start)"
   ]
  },
  {
   "cell_type": "code",
   "execution_count": 21,
   "metadata": {},
   "outputs": [
    {
     "name": "stdout",
     "output_type": "stream",
     "text": [
      "10 122 0.0\n",
      "100 18065 0.015625\n",
      "1000 2475190 0.7847986221313477\n",
      "finished\n"
     ]
    }
   ],
   "source": [
    "import math\n",
    "import time\n",
    "\n",
    "number = 10\n",
    "while number <= 1000:\n",
    "    start = time.time()\n",
    "    total=0\n",
    "    for j in range(1,number+1):\n",
    "        for i in range(1,j+1):\n",
    "            total+=math.gcd(i,j)\n",
    "    print(number, total, time.time()-start)\n",
    "    number *= 10\n",
    "print(\"finished\")"
   ]
  },
  {
   "cell_type": "code",
   "execution_count": 32,
   "metadata": {},
   "outputs": [
    {
     "name": "stdout",
     "output_type": "stream",
     "text": [
      "10 122 0.0\n",
      "100 17943 0.015636920928955078\n",
      "1000 2457125 2.090055227279663\n",
      "finished\n"
     ]
    }
   ],
   "source": [
    "# speed up - dynamic\n",
    "# more slow,, \n",
    "\n",
    "import math\n",
    "import time\n",
    "\n",
    "cache ={}\n",
    "number = 10\n",
    "while number <= 1000:\n",
    "    start = time.time()\n",
    "    total=0\n",
    "    for j in range(1,number+1):\n",
    "        for i in range(1,j+1):\n",
    "            if (i,j) not in cache:\n",
    "                cache[i,j] = math.gcd(i,j)\n",
    "                total+=cache[i,j]\n",
    "    print(number, total, time.time()-start)\n",
    "    number *= 10\n",
    "print(\"finished\")"
   ]
  },
  {
   "cell_type": "code",
   "execution_count": 34,
   "metadata": {},
   "outputs": [
    {
     "name": "stdout",
     "output_type": "stream",
     "text": [
      "2000 10735164 4.295856714248657\n",
      "500500\n"
     ]
    }
   ],
   "source": [
    "# speed up - dynamic - conditional\n",
    "# reduce cache size\n",
    "\n",
    "import math\n",
    "import time\n",
    "\n",
    "cache ={}\n",
    "number = 2000\n",
    "start = time.time()\n",
    "total=0\n",
    "for j in range(1,number+1):\n",
    "    for i in range(1,j+1):\n",
    "        if i>1000 and j>1000:\n",
    "            cache[i,j] = temp\n",
    "            temp = math.gcd(i,j)\n",
    "            total+=temp\n",
    "        else:\n",
    "            total+= math.gcd(i,j)\n",
    "print(number, total, time.time()-start)\n",
    "print(len(cache))"
   ]
  },
  {
   "cell_type": "code",
   "execution_count": 5,
   "metadata": {},
   "outputs": [
    {
     "name": "stdout",
     "output_type": "stream",
     "text": [
      "10000 15372121 1.3438448905944824\n"
     ]
    }
   ],
   "source": [
    "# speed up - gcd pattern check(prime)\n",
    "import math\n",
    "import time\n",
    "\n",
    "def isPrime(num):\n",
    "    if num==1:\n",
    "        return False\n",
    "    loop=num**0.5\n",
    "    i=2\n",
    "    while i<=loop:\n",
    "        if num%i==0:\n",
    "            return False\n",
    "        i+=1\n",
    "    return True\n",
    "\n",
    "number = 10000\n",
    "start = time.time()\n",
    "total=0\n",
    "for j in range(1,number+1):\n",
    "    if isPrime(j):total+=j*2-1\n",
    "    else:\n",
    "        loop=j**0.5\n",
    "        i=1\n",
    "        while i<=loop:\n",
    "            subTotal+= math.gcd(j,i)*2\n",
    "            i+=1\n",
    "        total+=subTotal\n",
    "print(number, total, time.time()-start)\n"
   ]
  },
  {
   "cell_type": "code",
   "execution_count": 20,
   "metadata": {},
   "outputs": [
    {
     "name": "stdout",
     "output_type": "stream",
     "text": [
      "100 7099.0 0.003000020980834961\n",
      "{2: 3, 4: 8.0, 8: 20.0, 16: 48.0, 32: 112.0, 64: 256.0}\n"
     ]
    }
   ],
   "source": [
    "# speed up - pattern check(even number)\n",
    "import math\n",
    "import time\n",
    "\n",
    "def isPrime(num):\n",
    "    if num==1:\n",
    "        return False\n",
    "    loop=num**0.5\n",
    "    i=2\n",
    "    while i<=loop:\n",
    "        if num%i==0:\n",
    "            return False\n",
    "        i+=1\n",
    "    return True\n",
    "\n",
    "number = 100\n",
    "start = time.time()\n",
    "total=0; cache={}\n",
    "\n",
    "for j in range(1,number+1):\n",
    "    if isPrime(j): \n",
    "        #print(j,'prime')\n",
    "        subTotal=j*2-1\n",
    "        if j==2 : cache[j]=subTotal\n",
    "    elif j%2==0 and (j/2) in cache: \n",
    "        #print(j,'ca')\n",
    "        subTotal=cache[j/2]*2+j/2\n",
    "        cache[j]=subTotal           \n",
    "    else:\n",
    "        loop=j**0.5\n",
    "        i=1;subTotal=0\n",
    "        while i<=loop:\n",
    "            subTotal+= math.gcd(j,i)*2\n",
    "            i+=1\n",
    "        if j%2==0:\n",
    "            subTotal+=j*0.5\n",
    "        else:\n",
    "            subTotal+=j\n",
    "    total+=subTotal\n",
    "print(number, total, time.time()-start)\n",
    "print(cache)"
   ]
  },
  {
   "cell_type": "code",
   "execution_count": 2,
   "metadata": {},
   "outputs": [
    {
     "name": "stdout",
     "output_type": "stream",
     "text": [
      "False\n"
     ]
    }
   ],
   "source": [
    "def isPrime(num):\n",
    "    if num==1:\n",
    "        return False\n",
    "    loop=num**0.5\n",
    "    i=2\n",
    "    while i<=loop:\n",
    "        if num%i==0:\n",
    "            return False\n",
    "        i+=1\n",
    "    return True\n",
    "print(isPrime(10**10))"
   ]
  }
 ],
 "metadata": {
  "kernelspec": {
   "display_name": "Python 3",
   "language": "python",
   "name": "python3"
  },
  "language_info": {
   "codemirror_mode": {
    "name": "ipython",
    "version": 3
   },
   "file_extension": ".py",
   "mimetype": "text/x-python",
   "name": "python",
   "nbconvert_exporter": "python",
   "pygments_lexer": "ipython3",
   "version": "3.6.3"
  }
 },
 "nbformat": 4,
 "nbformat_minor": 2
}
