{
 "cells": [
  {
   "cell_type": "markdown",
   "metadata": {},
   "source": [
    "# p097 Large non-Mersenne prime\n",
    "find last 10 digit of 28433×2^(7830457)+1"
   ]
  },
  {
   "cell_type": "code",
   "execution_count": 15,
   "metadata": {},
   "outputs": [
    {
     "name": "stdout",
     "output_type": "stream",
     "text": [
      "8739992577\n"
     ]
    }
   ],
   "source": [
    "value=28433\n",
    "for i in range(7830457):\n",
    "    value=value*2 % 10**10\n",
    "print(value+1)"
   ]
  },
  {
   "cell_type": "code",
   "execution_count": 17,
   "metadata": {},
   "outputs": [
    {
     "name": "stdout",
     "output_type": "stream",
     "text": [
      "qrstuvwxyz\n"
     ]
    }
   ],
   "source": [
    "test='abcdefghijklmnopqrstuvwxyz'\n",
    "print(test[-10:])"
   ]
  },
  {
   "cell_type": "code",
   "execution_count": 32,
   "metadata": {},
   "outputs": [
    {
     "data": {
      "text/plain": [
       "'6703205376'"
      ]
     },
     "execution_count": 32,
     "metadata": {},
     "output_type": "execute_result"
    }
   ],
   "source": [
    "str(pow(2,100))[-10:]"
   ]
  },
  {
   "cell_type": "code",
   "execution_count": 33,
   "metadata": {},
   "outputs": [
    {
     "data": {
      "text/plain": [
       "6703205376"
      ]
     },
     "execution_count": 33,
     "metadata": {},
     "output_type": "execute_result"
    }
   ],
   "source": [
    "pow(2,100)%pow(10,10)"
   ]
  },
  {
   "cell_type": "code",
   "execution_count": 35,
   "metadata": {},
   "outputs": [
    {
     "data": {
      "text/plain": [
       "6703205376"
      ]
     },
     "execution_count": 35,
     "metadata": {},
     "output_type": "execute_result"
    }
   ],
   "source": [
    "2**100%10**10"
   ]
  },
  {
   "cell_type": "code",
   "execution_count": 44,
   "metadata": {},
   "outputs": [
    {
     "data": {
      "text/plain": [
       "9883109376"
      ]
     },
     "execution_count": 44,
     "metadata": {},
     "output_type": "execute_result"
    }
   ],
   "source": [
    "2**100000%10**10"
   ]
  },
  {
   "cell_type": "code",
   "execution_count": 45,
   "metadata": {},
   "outputs": [
    {
     "data": {
      "text/plain": [
       "9883109376"
      ]
     },
     "execution_count": 45,
     "metadata": {},
     "output_type": "execute_result"
    }
   ],
   "source": [
    "2**10**5%10**10"
   ]
  },
  {
   "cell_type": "code",
   "execution_count": 65,
   "metadata": {},
   "outputs": [
    {
     "name": "stdout",
     "output_type": "stream",
     "text": [
      "9883109376\n",
      "3275109376 78\n",
      "8164303872\n",
      "8739992577\n"
     ]
    }
   ],
   "source": [
    "#solve -1 - string-slice\n",
    "base=str(pow(2,100000))[-10:]\n",
    "print(base)\n",
    "\n",
    "number=1\n",
    "for i in range(1,79):\n",
    "    number=str(int(number)*int(base))[-10:]\n",
    "print(number,i)\n",
    "\n",
    "number2=str(pow(2,30457))[-10:]\n",
    "print(number2)\n",
    "\n",
    "result=str(int(number)*int(number2)*28433+1)[-10:]\n",
    "print(result)"
   ]
  },
  {
   "cell_type": "code",
   "execution_count": 66,
   "metadata": {},
   "outputs": [
    {
     "name": "stdout",
     "output_type": "stream",
     "text": [
      "8739992577\n"
     ]
    }
   ],
   "source": [
    "#solve -1 : condensed\n",
    "base=str(pow(2,100000))[-10:]\n",
    "number=28433\n",
    "for i in range(1,79):\n",
    "    number=str(int(number)*int(base))[-10:]\n",
    "number2=str(pow(2,30457))[-10:]\n",
    "result=str(int(number)*int(number2)+1)[-10:]\n",
    "print(result)"
   ]
  },
  {
   "cell_type": "code",
   "execution_count": 68,
   "metadata": {},
   "outputs": [
    {
     "name": "stdout",
     "output_type": "stream",
     "text": [
      "8739992577\n"
     ]
    }
   ],
   "source": [
    "# number-mod\n",
    "base=pow(2,100000)%pow(10,10)\n",
    "number=28433\n",
    "for i in range(1,79):\n",
    "    number=(number*base)%pow(10,10)\n",
    "number2=pow(2,30457)%pow(10,10)\n",
    "result=(number*number2+1)%pow(10,10)\n",
    "print(result)"
   ]
  },
  {
   "cell_type": "code",
   "execution_count": 70,
   "metadata": {},
   "outputs": [
    {
     "name": "stdout",
     "output_type": "stream",
     "text": [
      "8739992577\n"
     ]
    }
   ],
   "source": [
    "# number - mod 2\n",
    "base=2**10**5%10**10\n",
    "number=28433\n",
    "for i in range(1,79):\n",
    "    number=(number*base)%10**10\n",
    "number2=2**30457%10**10\n",
    "result=(number*number2+1)%10**10\n",
    "print(result)"
   ]
  },
  {
   "cell_type": "code",
   "execution_count": 47,
   "metadata": {},
   "outputs": [
    {
     "name": "stdout",
     "output_type": "stream",
     "text": [
      "4 2 1\n",
      "16 4 2\n",
      "256 8 3\n",
      "65536 16 4\n",
      "4294967296 32 5\n",
      "3709551616 64 6\n",
      "1768211456 128 7\n",
      "3129639936 256 8\n",
      "9006084096 512 9\n",
      "4224137216 1024 10\n",
      "9596230656 2048 11\n",
      "3154190336 4096 12\n",
      "5715792896 8192 13\n",
      "9964066816 16384 14\n",
      "3712377856 32768 15\n",
      "5719156736 65536 16\n",
      "934173696 131072 17\n",
      "4298300416 262144 18\n",
      "6185773056 524288 19\n",
      "335579136 1048576 20\n",
      "6518506496 2097152 21\n",
      "8394198016 4194304 22\n",
      "1818336256 8388608 23\n",
      "9884097536 16777216 24\n",
      "3931892737\n"
     ]
    }
   ],
   "source": [
    "# solve -2 : hold\n",
    "number=2\n",
    "power=1\n",
    "for i in range(1,25):\n",
    "    power=power*2\n",
    "    number=number**2%10**10\n",
    "    print(number,power,i)\n",
    "\n",
    "number3=2**30457%10**10\n",
    "result=(number*number3*28433+1)%10**10\n",
    "print(result)"
   ]
  },
  {
   "cell_type": "code",
   "execution_count": 73,
   "metadata": {},
   "outputs": [
    {
     "name": "stdout",
     "output_type": "stream",
     "text": [
      "8739992577\n"
     ]
    }
   ],
   "source": [
    "# solve -3\n",
    "base=2**10**4%10**10\n",
    "number=28433\n",
    "for i in range(1,784):\n",
    "    number=number*base%10**10\n",
    "number2=2**457%10**10\n",
    "result=(number*number2+1)%10**10\n",
    "print(result)"
   ]
  },
  {
   "cell_type": "code",
   "execution_count": 75,
   "metadata": {},
   "outputs": [
    {
     "name": "stdout",
     "output_type": "stream",
     "text": [
      "8739992577\n"
     ]
    }
   ],
   "source": [
    "# solve -4\n",
    "base=2**10**4%10**10\n",
    "number=28433\n",
    "for i in range(1,784):\n",
    "    number=number*base%10**10\n",
    "result=(number*2**457%10**10+1)%10**10\n",
    "print(result)"
   ]
  },
  {
   "cell_type": "code",
   "execution_count": null,
   "metadata": {},
   "outputs": [],
   "source": [
    "t=1000,n=1\n",
    "while n<t: \n",
    "    "
   ]
  },
  {
   "cell_type": "code",
   "execution_count": 105,
   "metadata": {},
   "outputs": [
    {
     "name": "stdout",
     "output_type": "stream",
     "text": [
      "1 2\n",
      "2 4\n",
      "4 16\n",
      "8 256\n",
      "16 65536\n",
      "32 4294967296\n",
      "64 3709551616\n",
      "128 1768211456\n",
      "256 3129639936\n",
      "512 9006084096\n",
      "{0: 1, 1: 2, 2: 4, 4: 16, 8: 256, 16: 65536, 32: 4294967296, 64: 3709551616, 128: 1768211456, 256: 3129639936, 512: 9006084096}\n"
     ]
    }
   ],
   "source": [
    "# test-1 : recursion, make dict\n",
    "def func(target,number=1):\n",
    "    if number>target:\n",
    "        return\n",
    "    if (number/2) in cache:\n",
    "        cache[number]=cache[number/2]**2 % 10**10\n",
    "    else :\n",
    "        cache[number]=2**number % 10**10\n",
    "    print(number,cache[number])\n",
    "    func(target,number*2)\n",
    "    \n",
    "cache={0:1}\n",
    "target = 1000\n",
    "func(target)\n",
    "print(cache)"
   ]
  },
  {
   "cell_type": "code",
   "execution_count": 108,
   "metadata": {},
   "outputs": [
    {
     "name": "stdout",
     "output_type": "stream",
     "text": [
      "{1: 2, 2: 4, 4: 16, 8: 256, 16: 65536, 32: 4294967296, 64: 3709551616, 128: 1768211456, 256: 3129639936, 512: 9006084096, 1024: 4224137216, 2048: 9596230656, 4096: 3154190336, 8192: 5715792896, 16384: 9964066816, 32768: 3712377856, 65536: 5719156736, 131072: 934173696, 262144: 4298300416, 524288: 6185773056, 1048576: 335579136, 2097152: 6518506496, 4194304: 8394198016}\n"
     ]
    }
   ],
   "source": [
    "# test-2, recursion\n",
    "def func(target,number=2):\n",
    "    if number>target:\n",
    "        return\n",
    "    cache[number]=cache[number/2]**2 % 10**10\n",
    "    func(target,number*2)\n",
    "cache={1:2}\n",
    "target = 7830457\n",
    "func(target)\n",
    "print(cache)"
   ]
  },
  {
   "cell_type": "code",
   "execution_count": 109,
   "metadata": {},
   "outputs": [
    {
     "name": "stdout",
     "output_type": "stream",
     "text": [
      "{1: 2, 2: 4, 4: 16, 8: 256, 16: 65536, 32: 4294967296, 64: 3709551616, 128: 1768211456, 256: 3129639936, 512: 9006084096, 1024: 4224137216, 2048: 9596230656, 4096: 3154190336, 8192: 5715792896, 16384: 9964066816, 32768: 3712377856, 65536: 5719156736, 131072: 934173696, 262144: 4298300416, 524288: 6185773056, 1048576: 335579136, 2097152: 6518506496, 4194304: 8394198016}\n"
     ]
    }
   ],
   "source": [
    "# test-3, loop, make dict\n",
    "cache={1:2}\n",
    "number=2\n",
    "while number<=7830457:\n",
    "    cache[number]=cache[number/2]**2 % 10**10\n",
    "    number=number*2\n",
    "print(cache)"
   ]
  },
  {
   "cell_type": "code",
   "execution_count": 123,
   "metadata": {},
   "outputs": [
    {
     "name": "stdout",
     "output_type": "stream",
     "text": [
      "[2, 4, 16, 256, 65536, 4294967296, 3709551616, 1768211456, 3129639936, 9006084096, 4224137216, 9596230656, 3154190336, 5715792896, 9964066816, 3712377856, 5719156736, 934173696, 4298300416, 6185773056, 335579136, 6518506496, 8394198016]\n",
      "23\n"
     ]
    }
   ],
   "source": [
    "# test-4, loop, make list\n",
    "cache=[2]\n",
    "for i in range(1,23):\n",
    "    cache.append(cache[i-1]**2 % 10**10)\n",
    "print(cache)\n",
    "print(len(cache))"
   ]
  },
  {
   "cell_type": "code",
   "execution_count": 123,
   "metadata": {},
   "outputs": [
    {
     "name": "stdout",
     "output_type": "stream",
     "text": [
      "[2, 4, 16, 256, 65536, 4294967296, 3709551616, 1768211456, 3129639936, 9006084096, 4224137216, 9596230656, 3154190336, 5715792896, 9964066816, 3712377856, 5719156736, 934173696, 4298300416, 6185773056, 335579136, 6518506496, 8394198016]\n",
      "23\n"
     ]
    }
   ],
   "source": [
    "# test-4-2, loop, make list, condensed\n",
    "cache=[2]\n",
    "for i in range(1,23):\n",
    "    cache.append(cache[i-1]**2 % 10**10)\n",
    "print(cache)\n",
    "print(len(cache))"
   ]
  },
  {
   "cell_type": "code",
   "execution_count": 164,
   "metadata": {},
   "outputs": [
    {
     "name": "stdout",
     "output_type": "stream",
     "text": [
      "7830457 4194304 1\n",
      "3636153 2097152 8394198016\n",
      "1539001 1048576 6006311936\n",
      "490425 524288 29367296\n",
      "490425 262144 29367296\n",
      "228281 131072 613595136\n",
      "97209 65536 6044742656\n",
      "31673 32768 8448930816\n",
      "31673 16384 8448930816\n",
      "15289 8192 4385401856\n",
      "7097 4096 4630014976\n",
      "3001 2048 2834471936\n",
      "953 1024 5814870016\n",
      "953 512 5814870016\n",
      "441 256 1404865536\n",
      "185 128 6175645696\n",
      "57 64 7864293376\n",
      "57 32 7864293376\n",
      "25 16 6069431296\n",
      "9 8 6249414656\n",
      "1 4 9850151936\n",
      "1 2 9850151936\n",
      "(1, 9850151936)\n",
      "{1: 2, 2: 4, 4: 16, 8: 256, 16: 65536, 32: 4294967296, 64: 3709551616, 128: 1768211456, 256: 3129639936, 512: 9006084096, 1024: 4224137216, 2048: 9596230656, 4096: 3154190336, 8192: 5715792896, 16384: 9964066816, 32768: 3712377856, 65536: 5719156736, 131072: 934173696, 262144: 4298300416, 524288: 6185773056, 1048576: 335579136, 2097152: 6518506496, 4194304: 8394198016}\n"
     ]
    }
   ],
   "source": [
    "# test-6, recursion, return value\n",
    "def func(target,number=2):\n",
    "    if number>target:\n",
    "        return target,1\n",
    "    cache[number]=cache[number/2]**2 % 10**10\n",
    "    left,digits=func(target,number*2)\n",
    "    print(left,number,digits)\n",
    "    while left>=number:\n",
    "        left-=number\n",
    "        digits=(digits*cache[number])%10**10\n",
    "    return left,digits\n",
    "cache={1:2}\n",
    "target = 7830457\n",
    "print(func(target))\n",
    "print(cache)"
   ]
  },
  {
   "cell_type": "code",
   "execution_count": 162,
   "metadata": {},
   "outputs": [
    {
     "name": "stdout",
     "output_type": "stream",
     "text": [
      "7830457 4194304 1\n",
      "3636153 2097152 8394198016\n",
      "1539001 1048576 6006311936\n",
      "490425 524288 29367296\n",
      "490425 262144 29367296\n",
      "228281 131072 613595136\n",
      "97209 65536 6044742656\n",
      "31673 32768 8448930816\n",
      "31673 16384 8448930816\n",
      "15289 8192 4385401856\n",
      "7097 4096 4630014976\n",
      "3001 2048 2834471936\n",
      "953 1024 5814870016\n",
      "953 512 5814870016\n",
      "441 256 1404865536\n",
      "185 128 6175645696\n",
      "57 64 7864293376\n",
      "57 32 7864293376\n",
      "25 16 6069431296\n",
      "9 8 6249414656\n",
      "1 4 9850151936\n",
      "1 2 9850151936\n",
      "1 1 9850151936\n",
      "8739992577\n",
      "{0: 1, 1: 2, 2: 4, 4: 16, 8: 256, 16: 65536, 32: 4294967296, 64: 3709551616, 128: 1768211456, 256: 3129639936, 512: 9006084096, 1024: 4224137216, 2048: 9596230656, 4096: 3154190336, 8192: 5715792896, 16384: 9964066816, 32768: 3712377856, 65536: 5719156736, 131072: 934173696, 262144: 4298300416, 524288: 6185773056, 1048576: 335579136, 2097152: 6518506496, 4194304: 8394198016}\n"
     ]
    }
   ],
   "source": [
    "# test-6-1, return value\n",
    "def func(target,number=1):\n",
    "    if number>target:\n",
    "        return target,1\n",
    "    if (number/2) in cache:\n",
    "        cache[number]=cache[number/2]**2 % 10**10\n",
    "    else :\n",
    "        cache[number]=2**number % 10**10\n",
    "    left,digits=func(target,number*2)\n",
    "    print(left,number,digits)\n",
    "    while left>=number:\n",
    "        left-=number\n",
    "        digits=(digits*cache[number])%10**10\n",
    "    return left,digits\n",
    "cache={0:1}\n",
    "target = 7830457\n",
    "print((func(target)[1]*28433+1)%10**10)\n",
    "print(cache)"
   ]
  },
  {
   "cell_type": "code",
   "execution_count": 163,
   "metadata": {},
   "outputs": [
    {
     "name": "stdout",
     "output_type": "stream",
     "text": [
      "8739992577\n"
     ]
    }
   ],
   "source": [
    "# test-6, return value\n",
    "def func(target,number=1):\n",
    "    if number>target:\n",
    "        return target,1\n",
    "    if (number/2) in cache:\n",
    "        cache[number]=cache[number/2]**2 % 10**10\n",
    "    else :\n",
    "        cache[number]=2**number % 10**10\n",
    "    left,digits=func(target,number*2)\n",
    "    while left>=number:\n",
    "        left-=number\n",
    "        digits=(digits*cache[number])%10**10\n",
    "    return left,digits\n",
    "\n",
    "cache={0:1}\n",
    "print((func(7830457)[1]*28433+1)%10**10)"
   ]
  },
  {
   "cell_type": "code",
   "execution_count": 2,
   "metadata": {},
   "outputs": [
    {
     "name": "stdout",
     "output_type": "stream",
     "text": [
      "8739992577\n"
     ]
    }
   ],
   "source": [
    "# test-6, return value\n",
    "def func(target,number=2):\n",
    "    if number>target:\n",
    "        return target,1\n",
    "    cache[number]=cache[number/2]**2 % 10**10\n",
    "    left,digits=func(target,number*2)\n",
    "    while left>=number:\n",
    "        left-=number\n",
    "        digits=(digits*cache[number])%10**10\n",
    "    return left,digits\n",
    "cache={1:2}\n",
    "value=func(7830457)[1]\n",
    "print((value*2*28433+1)%10**10)"
   ]
  },
  {
   "cell_type": "code",
   "execution_count": 4,
   "metadata": {},
   "outputs": [
    {
     "name": "stdout",
     "output_type": "stream",
     "text": [
      "8739992577\n"
     ]
    }
   ],
   "source": [
    "# test-6, recursion, remove cache\n",
    "def func(target,number=2,before=2):\n",
    "    if number>target:\n",
    "        return target,1\n",
    "    after=before**2 % 10**10\n",
    "    left,digits=func(target,number*2,after)\n",
    "    while left>=number:\n",
    "        left-=number\n",
    "        digits=(digits*after)%10**10\n",
    "    return left,digits\n",
    "\n",
    "value=func(7830457)[1]\n",
    "print((value*2*28433+1)%10**10)"
   ]
  },
  {
   "cell_type": "code",
   "execution_count": 8,
   "metadata": {},
   "outputs": [
    {
     "name": "stdout",
     "output_type": "stream",
     "text": [
      "8739992577\n"
     ]
    }
   ],
   "source": [
    "# test-6, recursion, remove cache\n",
    "# 28433×2^(7830457)+1\n",
    "# 28433*2**(target)+1  <- target=2**i\n",
    "# 28433*2**(2**i)+1\n",
    "\n",
    "def func(target,i=2,before=2):\n",
    "    if i>target:\n",
    "        return target,1\n",
    "    current=before**2 % 10**10\n",
    "    left,digits=func(target,i*2,current)\n",
    "    while left>=i:\n",
    "        left-=i\n",
    "        digits=(digits*current)%10**10\n",
    "    return left,digits\n",
    "\n",
    "value=func(7830457)[1]\n",
    "print((value*2*28433+1)%10**10)"
   ]
  },
  {
   "cell_type": "code",
   "execution_count": null,
   "metadata": {},
   "outputs": [],
   "source": [
    "#forum-1\n",
    "print(((28433*(2**7830457)) % (10**10)) + 1)"
   ]
  },
  {
   "cell_type": "code",
   "execution_count": null,
   "metadata": {},
   "outputs": [],
   "source": [
    "#forum-2\n",
    "import time\n",
    "\n",
    "def result():\n",
    "    count  = 1\n",
    "    number = 2\n",
    "\n",
    "    while count < 7830457:\n",
    "        number *= 2\n",
    "\n",
    "        number_string = str(number)\n",
    "\n",
    "        if len(number_string) > 10:\n",
    "            number = int(number_string[1:])\n",
    "\n",
    "        count += 1\n",
    "\n",
    "    return str(28433 * number + 1)[-10:]\n",
    "\n",
    "start_time = time.time()\n",
    "\n",
    "print(result())\n",
    "print(\"{} ms\".format(round(1000 * (time.time() - start_time))))"
   ]
  },
  {
   "cell_type": "code",
   "execution_count": null,
   "metadata": {},
   "outputs": [],
   "source": [
    "#forum-3\n",
    "\n",
    "from time import time\n",
    "t = time()\n",
    "\n",
    "known_powers = {}\n",
    "\n",
    "def power(a, p, modulo) :\n",
    "\tif p == 0 :\n",
    "\t\treturn 1\n",
    "\telif p == 1 :\n",
    "\t\treturn a\n",
    "\telse :\n",
    "\t\ttry :\n",
    "\t\t\treturn known_powers[p]\n",
    "\t\texcept :\n",
    "\t\t\tp1 = p//2\n",
    "\t\t\tp2 = p - p1\n",
    "\t\t\tans = power(a,p1,modulo)*power(a,p2,modulo)%modulo\n",
    "\t\t\tknown_powers[p] = ans\n",
    "\t\t\treturn ans\n",
    "\n",
    "print((power(2,7830457,10**10)*28433+1)%10**10)\n",
    "print(time()-t)"
   ]
  },
  {
   "cell_type": "code",
   "execution_count": null,
   "metadata": {},
   "outputs": [],
   "source": [
    "#forum-4, \n",
    "# Elapsed time: 1259 ms(by author)\n",
    "import time\n",
    "\n",
    "start_time = time.time()\n",
    "result = 1\n",
    "for i in range(7830457):\n",
    "    result*=2\n",
    "    result%=10000000000\n",
    "result*=28433\n",
    "result%=10000000000\n",
    "result+=1\n",
    "\n",
    "print(result)\n",
    "print(\"Elapsed time: {} ms\".format(round((time.time()-start_time)*1000)))"
   ]
  },
  {
   "cell_type": "code",
   "execution_count": null,
   "metadata": {},
   "outputs": [],
   "source": [
    "#forum-5\n",
    "def nth_dig(n):\n",
    "\t\n",
    "\t# Using 2^32 as starting point\n",
    "\ta = 1\n",
    "\n",
    "\tfor i in range(1,n+1,641):\n",
    "\t\ta = int(str(a << 641)[-10:])\n",
    "\treturn a\n",
    "\n",
    "if __name__ == '__main__':\n",
    "\tb = nth_dig(7830456)\n",
    "\tprint(str(28433 * (b<<1) + 1)[-10:])"
   ]
  }
 ],
 "metadata": {
  "kernelspec": {
   "display_name": "Python 3",
   "language": "python",
   "name": "python3"
  },
  "language_info": {
   "codemirror_mode": {
    "name": "ipython",
    "version": 3
   },
   "file_extension": ".py",
   "mimetype": "text/x-python",
   "name": "python",
   "nbconvert_exporter": "python",
   "pygments_lexer": "ipython3",
   "version": "3.6.5"
  }
 },
 "nbformat": 4,
 "nbformat_minor": 2
}
