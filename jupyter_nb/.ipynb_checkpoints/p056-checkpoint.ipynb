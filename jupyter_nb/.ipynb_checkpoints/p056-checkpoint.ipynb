{
 "cells": [
  {
   "cell_type": "markdown",
   "metadata": {},
   "source": [
    "## p056 powerful digit sum"
   ]
  },
  {
   "cell_type": "code",
   "execution_count": null,
   "metadata": {
    "scrolled": true
   },
   "outputs": [],
   "source": [
    "for i in range(1,10):\n",
    "    for j in range(1,10):\n",
    "        number=pow(i,j)\n",
    "        print(i,j,number)"
   ]
  },
  {
   "cell_type": "code",
   "execution_count": null,
   "metadata": {
    "scrolled": true
   },
   "outputs": [],
   "source": [
    "for i in range(1,10):\n",
    "    for j in range(1,10):\n",
    "        number=pow(i,j)\n",
    "        digitsum=sum([int(x) for x in str(number)])\n",
    "        print(i,j,number,digitsum)"
   ]
  },
  {
   "cell_type": "code",
   "execution_count": null,
   "metadata": {
    "scrolled": true
   },
   "outputs": [],
   "source": [
    "maxsum = 0\n",
    "for i in range(1,10):\n",
    "    for j in range(1,10):\n",
    "        number=pow(i,j)\n",
    "        digitsum=sum([int(x) for x in str(number)])\n",
    "        if digitsum>maxsum:\n",
    "            maxsum=digitsum\n",
    "            print(i,j,number,digitsum,\"max\",maxsum)\n",
    "        else :\n",
    "            print(i,j,number,digitsum)"
   ]
  },
  {
   "cell_type": "code",
   "execution_count": null,
   "metadata": {
    "scrolled": true
   },
   "outputs": [],
   "source": [
    "maxsum = 0\n",
    "for i in range(1,101):\n",
    "    for j in range(1,101):\n",
    "        number=pow(i,j)\n",
    "        digitsum=sum([int(x) for x in str(number)])\n",
    "        if digitsum>maxsum:\n",
    "            maxsum=digitsum\n",
    "print(maxsum)\n"
   ]
  }
 ],
 "metadata": {
  "kernelspec": {
   "display_name": "Python 3",
   "language": "python",
   "name": "python3"
  },
  "language_info": {
   "codemirror_mode": {
    "name": "ipython",
    "version": 3
   },
   "file_extension": ".py",
   "mimetype": "text/x-python",
   "name": "python",
   "nbconvert_exporter": "python",
   "pygments_lexer": "ipython3",
   "version": "3.6.5"
  }
 },
 "nbformat": 4,
 "nbformat_minor": 2
}
