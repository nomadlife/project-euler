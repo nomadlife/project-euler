{
 "cells": [
  {
   "cell_type": "markdown",
   "metadata": {},
   "source": [
    "# Q028 Number spiral diagonals\n",
    "Starting with the number 1 and moving to the right in a clockwise direction a 5 by 5 spiral is formed as follows:\n",
    "\n",
    "    21 22 23 24 25\n",
    "    20  7  8  9 10\n",
    "    19  6  1  2 11\n",
    "    18  5  4  3 12\n",
    "    17 16 15 14 13\n",
    "\n",
    "It can be verified that the sum of the numbers on the diagonals is 101.\n",
    "\n",
    "What is the sum of the numbers on the diagonals in a 1001 by 1001 spiral formed in the same way?\n",
    "\n",
    "사격형 우측상단 꼭지점의 숫자가 완전제곱수이므로, 매 사각형은 완전제곱수에서 발생.\n"
   ]
  },
  {
   "cell_type": "code",
   "execution_count": 3,
   "metadata": {},
   "outputs": [
    {
     "name": "stdout",
     "output_type": "stream",
     "text": [
      "1 1\n",
      "3 9\n",
      "5 25\n",
      "7 49\n",
      "9 81\n"
     ]
    }
   ],
   "source": [
    "# 완전제곱수 루프\n",
    "\n",
    "n=9\n",
    "for i in range(1,n+1,2):\n",
    "    print(i, pow(i,2))\n"
   ]
  },
  {
   "cell_type": "code",
   "execution_count": 6,
   "metadata": {},
   "outputs": [
    {
     "name": "stdout",
     "output_type": "stream",
     "text": [
      "1 1\n",
      "diaginal number: 1 1 1\n",
      "3 9\n",
      "diaginal number: 7 5 3\n",
      "5 25\n",
      "diaginal number: 21 17 13\n",
      "7 49\n",
      "diaginal number: 43 37 31\n",
      "9 81\n",
      "diaginal number: 73 65 57\n"
     ]
    }
   ],
   "source": [
    "#각루프(사격형)에서 나머지 세 꼭지점 계산.\n",
    "n=9\n",
    "for i in range(1,n+1,2):\n",
    "    print(i, pow(i,2))\n",
    "    print(\"diaginal number:\",pow(i,2)-i+1,pow(i,2)-i*2+2,pow(i,2)-i*3+3)\n"
   ]
  },
  {
   "cell_type": "code",
   "execution_count": 9,
   "metadata": {},
   "outputs": [
    {
     "name": "stdout",
     "output_type": "stream",
     "text": [
      "dimension: 1 value: 1\n",
      "dimension: 3 value: 9\n",
      "diaginal number: 7 5 3\n",
      "25\n",
      "dimension: 5 value: 25\n",
      "diaginal number: 21 17 13\n",
      "101\n",
      "dimension: 7 value: 49\n",
      "diaginal number: 43 37 31\n",
      "261\n",
      "dimension: 9 value: 81\n",
      "diaginal number: 73 65 57\n",
      "537\n"
     ]
    }
   ],
   "source": [
    "# 각꼭지점의 합을 누적\n",
    "n=9;total=0\n",
    "for i in range(1,n+1,2):\n",
    "    value=pow(i,2)\n",
    "    print(\"dimension:\",i, \"value:\",value)\n",
    "    if i>1:\n",
    "        print(\"diaginal number:\",value-(i-1),value-(i-1)*2,value-(i-1)*3)\n",
    "        total=total+value*4-(i-1)*6\n",
    "        print(total)\n",
    "    else:\n",
    "        total+=i\n"
   ]
  },
  {
   "cell_type": "code",
   "execution_count": 10,
   "metadata": {},
   "outputs": [
    {
     "name": "stdout",
     "output_type": "stream",
     "text": [
      "669171001\n"
     ]
    }
   ],
   "source": [
    "# 1001까지 계산.\n",
    "\n",
    "n=1001;total=0\n",
    "for i in range(1,n+1,2):\n",
    "    value=pow(i,2)\n",
    "    if i>1:\n",
    "        total=total+value*4-(i-1)*6\n",
    "    else:\n",
    "        total+=i\n",
    "print(total)"
   ]
  },
  {
   "cell_type": "code",
   "execution_count": null,
   "metadata": {},
   "outputs": [],
   "source": [
    "#forum-1\n",
    "dim = 1001\n",
    "num = 1\n",
    "sumNum = 1\n",
    "for i in range(1,dim/2+1):\n",
    "    for j in range(4):\n",
    "        num += 2 * i\n",
    "        sumNum += num\n",
    "print sumNum"
   ]
  },
  {
   "cell_type": "code",
   "execution_count": null,
   "metadata": {},
   "outputs": [],
   "source": [
    "#forum-2\n",
    "sum = 1\n",
    "last = 1\n",
    "for i in range(2,1001,2):\n",
    "        for j in range(4):\n",
    "                sum = sum + last + i\n",
    "                last = last + i\n",
    "\n",
    "print (sum)"
   ]
  },
  {
   "cell_type": "code",
   "execution_count": null,
   "metadata": {},
   "outputs": [],
   "source": [
    "#forum-3\n",
    "import time\n",
    "n = int(input())\n",
    "\n",
    "start = time.clock()\n",
    "if(n%2==1):\n",
    "    dep = 0\n",
    "    count = 1\n",
    "    lastNumber = 1\n",
    "    for i in range(n//2):\n",
    "        dep += 2\n",
    "        count += 4*lastNumber+10*dep\n",
    "        lastNumber = lastNumber+4*dep\n",
    "    print(count)\n",
    "end = time.clock()\n",
    "print ('Use time: ', end-start, ' seconds.')\n",
    "\n",
    "#Use time:  0.0006939814051994196  seconds"
   ]
  },
  {
   "cell_type": "code",
   "execution_count": null,
   "metadata": {},
   "outputs": [],
   "source": [
    "def func(n):\n",
    "\tk = n+1\n",
    "\treturn 16*k*k + 4*k + 4\n",
    "\n",
    "s = 1\n",
    "for i in range(500):\n",
    "\ts += func(i)\n",
    "\n",
    "print(s)"
   ]
  },
  {
   "cell_type": "code",
   "execution_count": null,
   "metadata": {},
   "outputs": [],
   "source": [
    "#forum-5\n",
    "\n",
    "#Project Euler\n",
    "#Question 28\n",
    "#Jesse Hamer\n",
    "#12/21/17\n",
    "\n",
    "#What is the sum of numbers on the diagonals of a 1001x1001 spiral grid?\n",
    "\n",
    "import sys\n",
    "sys.path.insert(0, '/Users/jhamer90811/Documents/Project Euler')\n",
    "\n",
    "diag = 1\n",
    "sum = 1\n",
    "\n",
    "for i in range(1, 501):\n",
    "    for j in range(1,5):\n",
    "        diag = diag + 2*i\n",
    "        sum = sum + diag\n",
    "        \n",
    "print(sum)\n",
    "\n",
    "sys.path.pop(0)"
   ]
  },
  {
   "cell_type": "code",
   "execution_count": null,
   "metadata": {},
   "outputs": [],
   "source": [
    "#forum-6\n",
    "def lazy_spiral(size):\n",
    "    result = []\n",
    "    cur = 1\n",
    "    x = 2\n",
    "    while cur != size * size:\n",
    "        for i in range(4):\n",
    "            result.append(cur)\n",
    "            cur += x\n",
    "        x += 2\n",
    "\n",
    "    result.append(cur)\n",
    "    return result\n",
    "\n",
    "\n",
    "print(sum(lazy_spiral(1001)))"
   ]
  },
  {
   "cell_type": "code",
   "execution_count": null,
   "metadata": {},
   "outputs": [],
   "source": [
    "#forum-7\n",
    "sum = 1\n",
    "for i in range(1, 501):\n",
    "    sum += ((2*i+1)**2 - 3*i)*4\n",
    "print(sum)\n"
   ]
  },
  {
   "cell_type": "code",
   "execution_count": null,
   "metadata": {},
   "outputs": [],
   "source": [
    "#forum-8\n",
    "diag_sum = 101\n",
    "for size in range(7, 1002, 2):\n",
    "    for i in range(4):\n",
    "        diag_sum += size**2 - i * (size-1)\n",
    "print(diag_sum)\n"
   ]
  }
 ],
 "metadata": {
  "kernelspec": {
   "display_name": "Python 3",
   "language": "python",
   "name": "python3"
  },
  "language_info": {
   "codemirror_mode": {
    "name": "ipython",
    "version": 3
   },
   "file_extension": ".py",
   "mimetype": "text/x-python",
   "name": "python",
   "nbconvert_exporter": "python",
   "pygments_lexer": "ipython3",
   "version": "3.5.2"
  }
 },
 "nbformat": 4,
 "nbformat_minor": 2
}
