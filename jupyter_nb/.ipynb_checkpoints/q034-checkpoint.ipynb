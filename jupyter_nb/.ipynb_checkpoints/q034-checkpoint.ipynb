{
 "cells": [
  {
   "cell_type": "markdown",
   "metadata": {},
   "source": [
    "# Q034 Digit factorials\n",
    "\n",
    "\n",
    "145 is a curious number, as 1! + 4! + 5! = 1 + 24 + 120 = 145.\n",
    "\n",
    "Find the sum of all numbers which are equal to the sum of the factorial of their digits.\n",
    "\n",
    "Note: as 1! = 1 and 2! = 2 are not sums they are not included.\n"
   ]
  },
  {
   "cell_type": "code",
   "execution_count": 2,
   "metadata": {},
   "outputs": [
    {
     "name": "stdout",
     "output_type": "stream",
     "text": [
      "0\n",
      "1\n",
      "2\n",
      "3\n",
      "4\n"
     ]
    }
   ],
   "source": [
    "number = 4\n",
    "for i in range(1,number+1):\n",
    "    print(i)"
   ]
  },
  {
   "cell_type": "code",
   "execution_count": 17,
   "metadata": {},
   "outputs": [
    {
     "name": "stdout",
     "output_type": "stream",
     "text": [
      "1 True\n",
      "2 True\n",
      "145 True\n",
      "40585 True\n",
      "40733\n"
     ]
    }
   ],
   "source": [
    "# test\n",
    "# max range 증명은??? \n",
    "total = 0\n",
    "for i in range(1,1000000):\n",
    "    #print(\"loop:\",i,end=',')\n",
    "    string=str(i)\n",
    "    fac_sum = 0\n",
    "    for j in string:\n",
    "        factorial = 1\n",
    "        k=int(j)\n",
    "        while k>1:\n",
    "            factorial = factorial * k\n",
    "            k-=1\n",
    "        fac_sum = fac_sum +factorial\n",
    "    #print(\"factorial:\",fac_sum,end=',')\n",
    "    if fac_sum == i:\n",
    "        print(i,\"True\")\n",
    "        total = total+i\n",
    "    #else:\n",
    "        #print()\n",
    "print(total)"
   ]
  }
 ],
 "metadata": {
  "kernelspec": {
   "display_name": "Python 3",
   "language": "python",
   "name": "python3"
  },
  "language_info": {
   "codemirror_mode": {
    "name": "ipython",
    "version": 3
   },
   "file_extension": ".py",
   "mimetype": "text/x-python",
   "name": "python",
   "nbconvert_exporter": "python",
   "pygments_lexer": "ipython3",
   "version": "3.6.2"
  }
 },
 "nbformat": 4,
 "nbformat_minor": 2
}
