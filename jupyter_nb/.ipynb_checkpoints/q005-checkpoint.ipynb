{
 "cells": [
  {
   "cell_type": "markdown",
   "metadata": {
    "collapsed": true
   },
   "source": [
    "# Q005 Smallest multiple\n",
    "\n",
    "2520 is the smallest number that can be divided by each of the numbers from 1 to 10 without any remainder.\n",
    "What is the smallest positive number that is evenly divisible by all of the numbers from 1 to 20?\n",
    "\n",
    "1~20까지 공통의 배수, 최소공배수를 구하는 문제입니다.\n",
    "최소공배수는 최대공약수를 먼저 계산하면 쉽게 찾을수 있습니다.\n",
    "두수 A,B의 최대공약수를 G라 하면, A = Ga, B=Gb 이고,\n",
    "최소공배수는 Gab(또는 A*B/G) 가 됩니다.\n",
    "\n",
    "1. 스텝마다, 최대공약수(GCD)를 먼저 찾은후, A*B/G 를 이용하여, 최소공배수를 찾습니다.\n",
    "2. 1~20 까지 순차적으로 직전 최소공배수(LCM)와 다음수의 최소공배수를 구해갑니다."
   ]
  },
  {
   "cell_type": "code",
   "execution_count": 2,
   "metadata": {
    "scrolled": true
   },
   "outputs": [
    {
     "name": "stdout",
     "output_type": "stream",
     "text": [
      "1 1 1.0\n",
      "2 1 2.0\n",
      "3 1 6.0\n",
      "4 1 24.0\n",
      "5 1 120.0\n",
      "6 1 720.0\n",
      "7 1 5040.0\n",
      "8 1 40320.0\n",
      "9 1 362880.0\n",
      "10 1 3628800.0\n",
      "11 1 39916800.0\n",
      "12 1 479001600.0\n",
      "13 1 6227020800.0\n",
      "14 1 87178291200.0\n",
      "15 1 1307674368000.0\n"
     ]
    }
   ],
   "source": [
    "#루프문 작성\n",
    "\n",
    "def get_gcd(num1,num2):\n",
    "    return 1\n",
    "\n",
    "lcm=1\n",
    "i=1\n",
    "while i <= 15:\n",
    "    gcd = get_gcd(lcm,i)\n",
    "    lcm = lcm*i/gcd\n",
    "    print(i,gcd,lcm)\n",
    "    i+=1"
   ]
  },
  {
   "cell_type": "code",
   "execution_count": 1,
   "metadata": {},
   "outputs": [
    {
     "name": "stdout",
     "output_type": "stream",
     "text": [
      "1 1 1.0\n",
      "2 1 2.0\n",
      "3 1 6.0\n",
      "4 2 12.0\n",
      "5 1 60.0\n",
      "6 6 60.0\n",
      "7 1 420.0\n",
      "8 4 840.0\n",
      "9 3 2520.0\n",
      "10 10 2520.0\n",
      "11 1 27720.0\n",
      "12 12 27720.0\n",
      "13 1 360360.0\n",
      "14 14 360360.0\n",
      "15 15 360360.0\n",
      "16 8 720720.0\n",
      "17 1 12252240.0\n",
      "18 18 12252240.0\n",
      "19 1 232792560.0\n",
      "20 20 232792560.0\n"
     ]
    }
   ],
   "source": [
    "# 최대공약수 계산\n",
    "\n",
    "def get_gcd(num1,num2):\n",
    "    i=1\n",
    "    while i <= num2:\n",
    "        if num1%i==0 and num2%i==0:\n",
    "            gcd=i\n",
    "        i+=1\n",
    "    return gcd\n",
    "\n",
    "lcm=1\n",
    "i=1\n",
    "while i <= 20:\n",
    "    gcd = get_gcd(lcm,i)\n",
    "    lcm = lcm*i/gcd\n",
    "    print(i,gcd,lcm)\n",
    "    i+=1"
   ]
  },
  {
   "cell_type": "code",
   "execution_count": 4,
   "metadata": {},
   "outputs": [
    {
     "ename": "ImportError",
     "evalue": "No module named 'sympy'",
     "output_type": "error",
     "traceback": [
      "\u001b[0;31m---------------------------------------------------------------------------\u001b[0m",
      "\u001b[0;31mImportError\u001b[0m                               Traceback (most recent call last)",
      "\u001b[0;32m<ipython-input-4-2049223812bc>\u001b[0m in \u001b[0;36m<module>\u001b[0;34m()\u001b[0m\n\u001b[1;32m      4\u001b[0m \u001b[0;31m# What is the smallest positive number that is evenly divisible by all of the numbers from 1 to 20?\u001b[0m\u001b[0;34m\u001b[0m\u001b[0;34m\u001b[0m\u001b[0m\n\u001b[1;32m      5\u001b[0m \u001b[0;34m\u001b[0m\u001b[0m\n\u001b[0;32m----> 6\u001b[0;31m \u001b[0;32mfrom\u001b[0m \u001b[0msympy\u001b[0m \u001b[0;32mimport\u001b[0m \u001b[0mfactorint\u001b[0m\u001b[0;34m\u001b[0m\u001b[0m\n\u001b[0m\u001b[1;32m      7\u001b[0m \u001b[0;32mfrom\u001b[0m \u001b[0mfunctools\u001b[0m \u001b[0;32mimport\u001b[0m \u001b[0mreduce\u001b[0m\u001b[0;34m\u001b[0m\u001b[0m\n\u001b[1;32m      8\u001b[0m \u001b[0;32mfrom\u001b[0m \u001b[0moperator\u001b[0m \u001b[0;32mimport\u001b[0m \u001b[0mmul\u001b[0m\u001b[0;34m\u001b[0m\u001b[0m\n",
      "\u001b[0;31mImportError\u001b[0m: No module named 'sympy'"
     ]
    }
   ],
   "source": [
    "# forum -1\n",
    "\n",
    "# 2520 is the smallest number that can be divided by each of the numbers from 1 to 10 without any remainder.\n",
    "# What is the smallest positive number that is evenly divisible by all of the numbers from 1 to 20?\n",
    "\n",
    "from sympy import factorint\n",
    "from functools import reduce\n",
    "from operator import mul\n",
    "\n",
    "def smallest_evenly_divisible(n):\n",
    "    #return smallest number evenly divisible by first n integers\n",
    "\n",
    "    #    approach: factor each of the first n integers and find the maximum\n",
    "    #    count of each prime accross all factorings.\n",
    "    \n",
    "    divisors = {}\n",
    "    for i in range(n, 1, -1):\n",
    "        for f,m in factorint(i).items():\n",
    "            if f in divisors:\n",
    "                divisors[f] = max(divisors[f], m)\n",
    "            else:\n",
    "                divisors[f] = m\n",
    "    print(divisors)\n",
    "    return reduce(lambda accum, x: accum * x**divisors[x], divisors, 1)\n",
    "\n",
    "for n in 10, 20:\n",
    "    print(\"{}: {}\".format(n, smallest_evenly_divisible(n)))\n",
    "    "
   ]
  },
  {
   "cell_type": "code",
   "execution_count": 7,
   "metadata": {},
   "outputs": [
    {
     "data": {
      "text/plain": [
       "232792560"
      ]
     },
     "execution_count": 7,
     "metadata": {},
     "output_type": "execute_result"
    }
   ],
   "source": [
    "# forum-2\n",
    "\n",
    "from functools import reduce\n",
    "\n",
    "def problem_5():\n",
    "    n = reduce(lambda x, y: x*y, range(2,21))\n",
    "    for i in range(20,1,-1):\n",
    "        if all(not n/i%j for j in range(2,21)):\n",
    "            n = n//i\n",
    "    return n\n",
    "\n",
    "problem_5()"
   ]
  }
 ],
 "metadata": {
  "kernelspec": {
   "display_name": "Python 3",
   "language": "python",
   "name": "python3"
  },
  "language_info": {
   "codemirror_mode": {
    "name": "ipython",
    "version": 3
   },
   "file_extension": ".py",
   "mimetype": "text/x-python",
   "name": "python",
   "nbconvert_exporter": "python",
   "pygments_lexer": "ipython3",
   "version": "3.5.2"
  }
 },
 "nbformat": 4,
 "nbformat_minor": 2
}
