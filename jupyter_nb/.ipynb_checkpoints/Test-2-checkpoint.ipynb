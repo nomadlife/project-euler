{
 "cells": [
  {
   "cell_type": "code",
   "execution_count": 54,
   "metadata": {},
   "outputs": [
    {
     "name": "stdout",
     "output_type": "stream",
     "text": [
      "0110000\n",
      "<class 'tuple'>\n"
     ]
    }
   ],
   "source": [
    "# 데이터 타입 테스트(tuple)\n",
    "\n",
    "digital = ((0,'1111110'),\n",
    "           (1,'0110000'),\n",
    "           (2,'1101111'),\n",
    "           (3,'1111100'),\n",
    "           (4,'0110011'),\n",
    "           (5,'1011011'),\n",
    "           (6,'1011111'),\n",
    "           (7,'1110000'),\n",
    "           (8,'1111111'),\n",
    "           (9,'1111101'))\n",
    "\n",
    "print(digital[1][1])\n",
    "print(type(digital))"
   ]
  },
  {
   "cell_type": "code",
   "execution_count": 35,
   "metadata": {},
   "outputs": [
    {
     "name": "stdout",
     "output_type": "stream",
     "text": [
      "2 1101101\n"
     ]
    }
   ],
   "source": [
    "# iteration 테스트\n",
    "\n",
    "digital = ((0,'1111110'),\n",
    "           (1,'0110000'),\n",
    "           (2,'1101101'),\n",
    "           (3,'1111001'),\n",
    "           (4,'0110011'),\n",
    "           (5,'1011011'),\n",
    "           (6,'1011111'),\n",
    "           (7,'1110000'),\n",
    "           (8,'1111111'),\n",
    "           (9,'1111101'))\n",
    "numbers='0123456789'\n",
    "operators='-+'\n",
    "\n",
    "value=2\n",
    "for i,v in digital:\n",
    "    if i==value:\n",
    "        print(i,v)\n",
    "def "
   ]
  },
  {
   "cell_type": "code",
   "execution_count": 88,
   "metadata": {},
   "outputs": [
    {
     "name": "stdout",
     "output_type": "stream",
     "text": [
      "9+5\n",
      "input value is  9+5\n",
      "99+9\n",
      "input value is  99+9\n",
      "-9+8\n",
      "input error\n"
     ]
    }
   ],
   "source": [
    "# 문자열 입력\n",
    "\n",
    "numbers='0123456789'\n",
    "operators='-+'\n",
    "\n",
    "while True:\n",
    "    value = input()\n",
    "    if value[0] not in numbers:\n",
    "        print(\"input error\")\n",
    "        \n",
    "        break\n",
    "    print(\"input value is \",value)\n"
   ]
  },
  {
   "cell_type": "code",
   "execution_count": 49,
   "metadata": {},
   "outputs": [
    {
     "name": "stdout",
     "output_type": "stream",
     "text": [
      "5+6\n",
      "input value is  5+6\n",
      "56\n",
      "error : need operator before 2th chartor,6\n"
     ]
    }
   ],
   "source": [
    "# 입력값 유효성 검사\n",
    "\n",
    "def validation(string):\n",
    "    numbers='0123456789'\n",
    "    operators='-+'\n",
    "    if string[0] not in numbers:\n",
    "        print(\"error : first character should be number\")\n",
    "        return False\n",
    "    for i,v in enumerate(string):\n",
    "        if i%2==0:\n",
    "            if v not in numbers:\n",
    "                print(\"error : {}th charactor,{} should be number \".format(i+1,v))\n",
    "                return False\n",
    "        elif not i%2==2:\n",
    "            if v not in operators:\n",
    "                print(\"error : need operator before {}th chartor,{}\".format(i+1,v))\n",
    "                return False   \n",
    "    return True\n",
    "\n",
    "\n",
    "while True:\n",
    "    value = input()\n",
    "    if validation(value):\n",
    "        print(\"input value is \",value)\n",
    "    else:\n",
    "        break"
   ]
  },
  {
   "cell_type": "code",
   "execution_count": 95,
   "metadata": {},
   "outputs": [
    {
     "name": "stdout",
     "output_type": "stream",
     "text": [
      "0 [8] [] [6, 9]\n",
      "1 [7] [] []\n",
      "2 [] [] [3]\n",
      "3 [9] [] [2, 5]\n",
      "4 [] [] []\n",
      "5 [6, 9] [] [3]\n",
      "6 [8] [5] [0, 9]\n",
      "7 [] [1] []\n",
      "8 [] [0, 6, 9] []\n",
      "9 [8] [3, 5] [0, 6]\n"
     ]
    }
   ],
   "source": [
    "# 성냥개비 하나 움직여서 만들수 있는 수 조사\n",
    "def change_check(char):\n",
    "    digital = ((0,'1111110'),\n",
    "           (1,'0110000'),\n",
    "           (2,'1101101'),\n",
    "           (3,'1111001'),\n",
    "           (4,'0110011'),\n",
    "           (5,'1011011'),\n",
    "           (6,'1011111'),\n",
    "           (7,'1110000'),\n",
    "           (8,'1111111'),\n",
    "           (9,'1111011'))\n",
    "    add_list =[]\n",
    "    sub_list =[]\n",
    "    two_move_list =[]\n",
    "    for i,v in digital:    \n",
    "        if not char == i:\n",
    "            add=0;sub=0\n",
    "            for j,k in zip(digital[char][1],v):\n",
    "                if not j==k and j>k:\n",
    "                    sub+=1\n",
    "                elif not j==k and j<k:\n",
    "                    add+=1\n",
    "            if add ==1 and sub ==0:\n",
    "                add_list.append(i)\n",
    "            elif add == 0 and sub ==1:\n",
    "                sub_list.append(i)\n",
    "            elif add ==1 and sub ==1:\n",
    "                two_move_list.append(i)\n",
    "    return add_list,sub_list,two_move_list\n",
    "    \n",
    "for i in range(10):\n",
    "    a,b,c = change_check(i)\n",
    "    print(i,a,b,c)"
   ]
  },
  {
   "cell_type": "code",
   "execution_count": null,
   "metadata": {},
   "outputs": [],
   "source": [
    "# 시나리오 \n",
    "# 1. 숫자1개만 변경\n",
    "# 2. 숫자1개, 연산자 1개\n",
    "# 3. 숫자 2개\n",
    "# 4. 연산자 2개"
   ]
  },
  {
   "cell_type": "code",
   "execution_count": 94,
   "metadata": {},
   "outputs": [
    {
     "name": "stdout",
     "output_type": "stream",
     "text": [
      "4+5\n",
      "input value is  4+5\n"
     ]
    }
   ],
   "source": [
    "value = input()\n",
    "if validation(value):\n",
    "    print(\"input value is \",value)\n",
    "    change_check\n",
    "else:\n",
    "    print(\"input value error\")"
   ]
  },
  {
   "cell_type": "code",
   "execution_count": null,
   "metadata": {},
   "outputs": [],
   "source": [
    "\n",
    "\n",
    "\n",
    "\n",
    "\n",
    "\n",
    "\n",
    "\n",
    "\n",
    "\n",
    "\n",
    "\n",
    "\n",
    "\n",
    "\n",
    "\n",
    "\n",
    "\n",
    "\n",
    "\n",
    "\n",
    "\n",
    "\n",
    "\n",
    "\n",
    "\n",
    "\n",
    "\n",
    "\n",
    "\n",
    "\n",
    "\n",
    "\n",
    "\n",
    "\n"
   ]
  }
 ],
 "metadata": {
  "kernelspec": {
   "display_name": "Python 3",
   "language": "python",
   "name": "python3"
  },
  "language_info": {
   "codemirror_mode": {
    "name": "ipython",
    "version": 3
   },
   "file_extension": ".py",
   "mimetype": "text/x-python",
   "name": "python",
   "nbconvert_exporter": "python",
   "pygments_lexer": "ipython3",
   "version": "3.5.2"
  }
 },
 "nbformat": 4,
 "nbformat_minor": 2
}
