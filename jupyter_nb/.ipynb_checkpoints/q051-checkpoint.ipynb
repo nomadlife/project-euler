{
 "cells": [
  {
   "cell_type": "markdown",
   "metadata": {},
   "source": [
    "# q051 Prime digit replacement\n",
    "Find the smallest prime which, by replacing part of the number (not necessarily adjacent digits) with the same digit, is part of an eight prime value family."
   ]
  },
  {
   "cell_type": "code",
   "execution_count": 76,
   "metadata": {},
   "outputs": [],
   "source": [
    "def is_prime(num):\n",
    "    if num==1:\n",
    "        return False\n",
    "    loop=num**0.5\n",
    "    i=2\n",
    "    while i<=loop:\n",
    "        if num%i==0:\n",
    "            return False\n",
    "        i+=1\n",
    "    return True\n",
    "\n",
    "\n",
    "def check_eight_prime_family(string):\n",
    "    # 숫자를 만들고 끼워넣어서 확인\n",
    "    # 현재 끼워넣는수 2자리만 가능.\n",
    "    # 여러자리 아이디어 : 재귀호출. 한번 호출시, 자릿수 늘어남.\n",
    "    \n",
    "    result = []\n",
    "    for i in range(0,len(string)):\n",
    "        string_2 = string[i:]\n",
    "        count_p =0; count_n =0 \n",
    "        for j in range(0,len(string_2)):\n",
    "            for a in '1234567890':\n",
    "                string_1 = string[:i]+a\n",
    "                string_2_new = string_2[:j]+a + string_2[j:]\n",
    "                string_new = string_1 + string_2_new\n",
    "                #print(\"i:{} j:{} num:{} string_1:{} string_2:{} string_new:{}\"\n",
    "                #      .format(i,j,a,string_1,string_2_new,string_new))\n",
    "                if is_prime(int(string_new)):\n",
    "                    count_p += 1\n",
    "                    #print(string,i,j,a,string_new,\"prime\",count_p)\n",
    "                else :\n",
    "                    count_n += 1\n",
    "                if count_n>2:\n",
    "                    break\n",
    "                elif count_p ==8:\n",
    "                    print(\"eight prime family\")\n",
    "                    result.append(string_new)\n",
    "                    \n",
    "    # 값이 없으면 None 리턴.\n",
    "    if len(result) == 0:\n",
    "        return None\n",
    "    else:\n",
    "        return result\n",
    "    \n",
    "for i in range(100,10000):\n",
    "    string = str(i)\n",
    "    # 끝자리가 홀수일때만 실행\n",
    "    if string[-1] in '1379':\n",
    "        temp = check_eight_prime_family(string)\n",
    "        # 값이 있을때만 출력\n",
    "        if not temp== None:\n",
    "            print(\"i:\",i,temp)\n"
   ]
  },
  {
   "cell_type": "code",
   "execution_count": null,
   "metadata": {},
   "outputs": [],
   "source": [
    "\n",
    "\n",
    "\n",
    "\n",
    "\n",
    "\n",
    "\n",
    "\n",
    "\n",
    "\n",
    "\n",
    "\n",
    "\n",
    "\n"
   ]
  }
 ],
 "metadata": {
  "kernelspec": {
   "display_name": "Python 3",
   "language": "python",
   "name": "python3"
  },
  "language_info": {
   "codemirror_mode": {
    "name": "ipython",
    "version": 3
   },
   "file_extension": ".py",
   "mimetype": "text/x-python",
   "name": "python",
   "nbconvert_exporter": "python",
   "pygments_lexer": "ipython3",
   "version": "3.5.2"
  }
 },
 "nbformat": 4,
 "nbformat_minor": 2
}
