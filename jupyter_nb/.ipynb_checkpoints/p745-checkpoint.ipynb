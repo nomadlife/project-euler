{
 "cells": [
  {
   "cell_type": "code",
   "execution_count": 102,
   "id": "d8c374ec-e16c-4908-b007-577e457557be",
   "metadata": {},
   "outputs": [
    {
     "name": "stdout",
     "output_type": "stream",
     "text": [
      "722592 2.45164155960083\n"
     ]
    }
   ],
   "source": [
    "def is_perfect_square(num):\n",
    "    if num == int(num**0.5)*int(num**0.5):\n",
    "        return True\n",
    "    else:\n",
    "        return False \n",
    "    \n",
    "def g(num):\n",
    "    for i in range(num,0,-1):\n",
    "        if num%i==0:\n",
    "            if is_perfect_square(i):\n",
    "                return i\n",
    "    return 1\n",
    "\n",
    "# print(g(75))\n",
    "n=10**4\n",
    "tot=0\n",
    "import time\n",
    "start=time.time()\n",
    "for i in range(1, n+1):\n",
    "    res=g(i)\n",
    "#     print(i, res, res2)\n",
    "    tot+=res\n",
    "dur = time.time() - start\n",
    "print(tot, dur)\n",
    "print(tot%1000000007)"
   ]
  },
  {
   "cell_type": "code",
   "execution_count": 119,
   "id": "c61276b1-5d27-4b9e-94a5-7270bf15e4b7",
   "metadata": {},
   "outputs": [
    {
     "name": "stdout",
     "output_type": "stream",
     "text": [
      "22910120 2.0371100902557373\n"
     ]
    }
   ],
   "source": [
    "def is_perfect_square(num):\n",
    "    if num == int(num**0.5)*int(num**0.5):\n",
    "        return True\n",
    "    else:\n",
    "        return False \n",
    "\n",
    "def g2(num):\n",
    "    if is_perfect_square(num):\n",
    "        return num\n",
    "    loop = num**0.5\n",
    "    res=1\n",
    "    i=2\n",
    "    while i < loop:\n",
    "        if num%i==0:\n",
    "            t=num//i\n",
    "            if is_perfect_square(t):\n",
    "                if t > res:\n",
    "                    res=t\n",
    "            if is_perfect_square(i):\n",
    "                if i > res:\n",
    "                    res=i\n",
    "        i+=1\n",
    "    return res\n",
    "\n",
    "# print(g(75))\n",
    "n=10**5\n",
    "tot=0\n",
    "import time\n",
    "start=time.time()\n",
    "for i in range(1, n+1):\n",
    "    res=g2(i)\n",
    "#     print(i, res, res2)\n",
    "    tot+=res\n",
    "dur = time.time() - start\n",
    "print(tot, dur)\n",
    "print(tot%1000000007)"
   ]
  },
  {
   "cell_type": "code",
   "execution_count": 122,
   "id": "93a1c9ff-b9ec-4171-9076-1b5a8b5b71bd",
   "metadata": {},
   "outputs": [
    {
     "name": "stdout",
     "output_type": "stream",
     "text": [
      "22910120 1.9068844318389893\n",
      "22910120\n"
     ]
    }
   ],
   "source": [
    "def is_perfect_square(num):\n",
    "    if num == int(num**0.5)*int(num**0.5):\n",
    "        return True\n",
    "    else:\n",
    "        return False \n",
    "    \n",
    "# def g3(num):\n",
    "#     if is_perfect_square(num):\n",
    "#         return num\n",
    "#     loop = num**0.5\n",
    "#     res=[]\n",
    "#     i=2\n",
    "#     while i < loop:\n",
    "#         if num%i==0:\n",
    "#             t=num//i\n",
    "#             if is_perfect_square(t):\n",
    "#                 return t\n",
    "#             res.append(i)\n",
    "#         i+=1\n",
    "#     for i in reversed(res):\n",
    "#         if is_perfect_square(i):\n",
    "#             return i\n",
    "#     return 1\n",
    "\n",
    "def g3(num):\n",
    "    if is_perfect_square(num):\n",
    "        return num\n",
    "    loop = num**0.5\n",
    "    res=[]\n",
    "    i=2\n",
    "    while i < loop:\n",
    "        if num%i==0:\n",
    "            t=num//i\n",
    "            if is_perfect_square(t):\n",
    "                return t\n",
    "            res.append(i)\n",
    "        i+=1\n",
    "        \n",
    "    for i in res[::-1]:\n",
    "        if is_perfect_square(i):\n",
    "            return i\n",
    "    return 1\n",
    "\n",
    "# print(g(75))\n",
    "n=10**5\n",
    "tot=0\n",
    "import time\n",
    "start=time.time()\n",
    "for i in range(1, n+1):\n",
    "    res=g3(i)\n",
    "#     print(i, res, res2)\n",
    "    tot+=res\n",
    "dur = time.time() - start\n",
    "print(tot, dur)\n",
    "print(tot%1000000007)"
   ]
  }
 ],
 "metadata": {
  "kernelspec": {
   "display_name": "Python 3",
   "language": "python",
   "name": "python3"
  },
  "language_info": {
   "codemirror_mode": {
    "name": "ipython",
    "version": 3
   },
   "file_extension": ".py",
   "mimetype": "text/x-python",
   "name": "python",
   "nbconvert_exporter": "python",
   "pygments_lexer": "ipython3",
   "version": "3.6.9"
  }
 },
 "nbformat": 4,
 "nbformat_minor": 5
}
