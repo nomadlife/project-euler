{
 "cells": [
  {
   "cell_type": "markdown",
   "metadata": {},
   "source": [
    "q030"
   ]
  },
  {
   "cell_type": "code",
   "execution_count": 10,
   "metadata": {},
   "outputs": [
    {
     "name": "stdout",
     "output_type": "stream",
     "text": [
      "1634\n",
      "8208\n",
      "9474\n"
     ]
    }
   ],
   "source": [
    "for i in range(2,10000):\n",
    "    string=str(i)\n",
    "    value=0\n",
    "    for j in string:\n",
    "        value+=pow(int(j),4)\n",
    "    if i == value:\n",
    "        print(i)"
   ]
  },
  {
   "cell_type": "code",
   "execution_count": 12,
   "metadata": {},
   "outputs": [
    {
     "name": "stdout",
     "output_type": "stream",
     "text": [
      "4150\n",
      "4151\n"
     ]
    }
   ],
   "source": [
    "for i in range(2,10000):\n",
    "    string=str(i)\n",
    "    value=0\n",
    "    for j in string:\n",
    "        value+=pow(int(j),5) # 5\n",
    "    if i == value:\n",
    "        print(i)"
   ]
  },
  {
   "cell_type": "code",
   "execution_count": 11,
   "metadata": {},
   "outputs": [
    {
     "name": "stdout",
     "output_type": "stream",
     "text": [
      "4150\n",
      "4151\n",
      "54748\n",
      "92727\n",
      "93084\n"
     ]
    }
   ],
   "source": [
    "for i in range(2,100000):  # 100000\n",
    "    string=str(i)\n",
    "    value=0\n",
    "    for j in string:\n",
    "        value+=pow(int(j),5)\n",
    "    if i == value:\n",
    "        print(i)"
   ]
  },
  {
   "cell_type": "code",
   "execution_count": 17,
   "metadata": {},
   "outputs": [
    {
     "name": "stdout",
     "output_type": "stream",
     "text": [
      "4150\n",
      "4151\n",
      "54748\n",
      "92727\n",
      "93084\n",
      "194979\n"
     ]
    }
   ],
   "source": [
    "for i in range(2,1000000): # 1000000\n",
    "    string=str(i)\n",
    "    value=0\n",
    "    for j in string:\n",
    "        value+=pow(int(j),5)\n",
    "    if i == value:\n",
    "        print(i)"
   ]
  },
  {
   "cell_type": "code",
   "execution_count": 22,
   "metadata": {},
   "outputs": [
    {
     "name": "stdout",
     "output_type": "stream",
     "text": [
      "1 1 1\n",
      "9 59049 59050\n",
      "4 1024 60074\n",
      "9 59049 119123\n",
      "7 16807 135930\n",
      "9 59049 194979\n",
      "194979\n"
     ]
    }
   ],
   "source": [
    "i=194979   # 194979\n",
    "string=str(i)\n",
    "value=0\n",
    "for j in string:\n",
    "    value+=pow(int(j),5)\n",
    "    print(j,pow(int(j),5),value)\n",
    "if i == value:\n",
    "    print(i)"
   ]
  },
  {
   "cell_type": "code",
   "execution_count": 24,
   "metadata": {},
   "outputs": [
    {
     "name": "stdout",
     "output_type": "stream",
     "text": [
      "1 digit 9 6561\n",
      "2 digit 99 13122\n",
      "3 digit 999 19683\n",
      "4 digit 9999 26244\n",
      "5 digit 99999 32805\n",
      "6 digit 999999 39366\n",
      "7 digit 9999999 45927\n",
      "8 digit 99999999 52488\n"
     ]
    }
   ],
   "source": [
    "#limit prove, fourth power\n",
    "print(\"1 digit 9\",pow(9,4))\n",
    "print(\"2 digit 99\",pow(9,4)*2)\n",
    "print(\"3 digit 999\",pow(9,4)*3)\n",
    "print(\"4 digit 9999\",pow(9,4)*4)\n",
    "print(\"5 digit 99999\",pow(9,4)*5)\n",
    "print(\"6 digit 999999\",pow(9,4)*6) # from six digit, impossible\n",
    "print(\"7 digit 9999999\",pow(9,4)*7)\n",
    "print(\"8 digit 99999999\",pow(9,4)*8)"
   ]
  },
  {
   "cell_type": "code",
   "execution_count": 25,
   "metadata": {},
   "outputs": [
    {
     "name": "stdout",
     "output_type": "stream",
     "text": [
      "1 digit 9 59049\n",
      "2 digit 99 118098\n",
      "3 digit 999 177147\n",
      "4 digit 9999 236196\n",
      "5 digit 99999 295245\n",
      "6 digit 999999 354294\n",
      "7 digit 9999999 413343\n",
      "8 digit 99999999 472392\n"
     ]
    }
   ],
   "source": [
    "#limit prove, fifth power\n",
    "print(\"1 digit 9\",pow(9,5))\n",
    "print(\"2 digit 99\",pow(9,5)*2)\n",
    "print(\"3 digit 999\",pow(9,5)*3)\n",
    "print(\"4 digit 9999\",pow(9,5)*4)\n",
    "print(\"5 digit 99999\",pow(9,5)*5)\n",
    "print(\"6 digit 999999\",pow(9,5)*6)\n",
    "print(\"7 digit 9999999\",pow(9,5)*7) # from seven digit, impossible\n",
    "print(\"8 digit 99999999\",pow(9,5)*8)"
   ]
  },
  {
   "cell_type": "code",
   "execution_count": 26,
   "metadata": {},
   "outputs": [
    {
     "name": "stdout",
     "output_type": "stream",
     "text": [
      "4150\n",
      "4151\n",
      "54748\n",
      "92727\n",
      "93084\n",
      "194979\n",
      "443839\n"
     ]
    }
   ],
   "source": [
    "total=0\n",
    "for i in range(2,1000000):\n",
    "    string=str(i)\n",
    "    value=0\n",
    "    for j in string:\n",
    "        value+=pow(int(j),5)\n",
    "    if i == value:\n",
    "        print(i)\n",
    "        total+=i\n",
    "print(total)"
   ]
  }
 ],
 "metadata": {
  "kernelspec": {
   "display_name": "Python 3",
   "language": "python",
   "name": "python3"
  },
  "language_info": {
   "codemirror_mode": {
    "name": "ipython",
    "version": 3
   },
   "file_extension": ".py",
   "mimetype": "text/x-python",
   "name": "python",
   "nbconvert_exporter": "python",
   "pygments_lexer": "ipython3",
   "version": "3.5.1"
  }
 },
 "nbformat": 4,
 "nbformat_minor": 2
}
