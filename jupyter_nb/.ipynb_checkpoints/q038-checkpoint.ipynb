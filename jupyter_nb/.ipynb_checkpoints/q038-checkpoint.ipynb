{
 "cells": [
  {
   "cell_type": "markdown",
   "metadata": {},
   "source": [
    "# Q038 Pandigital multiplesl\n",
    "\n",
    "\n",
    "Take the number 192 and multiply it by each of 1, 2, and 3:\n",
    "\n",
    "    192 × 1 = 192\n",
    "    192 × 2 = 384\n",
    "    192 × 3 = 576\n",
    "\n",
    "By concatenating each product we get the 1 to 9 pandigital, 192384576. We will call 192384576 the concatenated product of 192 and (1,2,3)\n",
    "\n",
    "The same can be achieved by starting with 9 and multiplying by 1, 2, 3, 4, and 5, giving the pandigital, 918273645, which is the concatenated product of 9 and (1,2,3,4,5).\n",
    "\n",
    "What is the largest 1 to 9 pandigital 9-digit number that can be formed as the concatenated product of an integer with (1,2, ... , n) where n > 1?\n"
   ]
  },
  {
   "cell_type": "code",
   "execution_count": 3,
   "metadata": {},
   "outputs": [
    {
     "name": "stdout",
     "output_type": "stream",
     "text": [
      "1\n"
     ]
    }
   ],
   "source": [
    "number=123789456\n",
    "string=str(number)\n",
    "print(string.count('1'))"
   ]
  },
  {
   "cell_type": "code",
   "execution_count": 10,
   "metadata": {},
   "outputs": [
    {
     "name": "stdout",
     "output_type": "stream",
     "text": [
      "True\n"
     ]
    }
   ],
   "source": [
    "# pandigit check\n",
    "number=123789456\n",
    "pandigit = True\n",
    "for i in range(1,10):\n",
    "    if not str(number).count(str(i)):\n",
    "        pandigit=False\n",
    "print(pandigit)"
   ]
  },
  {
   "cell_type": "code",
   "execution_count": 77,
   "metadata": {},
   "outputs": [
    {
     "name": "stdout",
     "output_type": "stream",
     "text": [
      "False\n"
     ]
    }
   ],
   "source": [
    "# pandigit check 함수\n",
    "\n",
    "def is_pandigit(num):\n",
    "    for i in range(1,10):\n",
    "        if not str(num).count(str(i))==1:\n",
    "            return False\n",
    "    return True\n",
    "    \n",
    "number=123789456\n",
    "print(is_pandigit(number))"
   ]
  },
  {
   "cell_type": "code",
   "execution_count": 64,
   "metadata": {
    "scrolled": true
   },
   "outputs": [
    {
     "name": "stdout",
     "output_type": "stream",
     "text": [
      "i: 1 j: 1\n",
      "1\n",
      "str1: 1 str2: 9 False\n",
      "i: 1 j: 2\n",
      "2\n",
      "str1: 1 str2: 2 False\n",
      "i: 1 j: 3\n",
      "3\n",
      "str1: 1 str2: 3 False\n",
      "i: 1 j: 4\n",
      "4\n",
      "str1: 1 str2: 8 False\n",
      "i: 1 j: 5\n",
      "5\n",
      "str1: 1 str2: 4 False\n",
      "i: 1 j: 6\n",
      "6\n",
      "str1: 1 str2: 5 False\n",
      "i: 1 j: 7\n",
      "7\n",
      "str1: 1 str2: 7 False\n",
      "i: 1 j: 8\n",
      "8\n",
      "str1: 1 str2: 6 False\n",
      "i: 2 j: 1\n",
      "19\n",
      "str1: 19 str2: 23 False\n",
      "i: 2 j: 2\n",
      "38\n",
      "str1: 19 str2: 84 False\n",
      "i: 2 j: 3\n",
      "57\n",
      "str1: 19 str2: 57 False\n",
      "i: 2 j: 4\n",
      "76\n",
      "str1: 19 str2: 6 False\n",
      "i: 2 j: 5\n",
      "95\n"
     ]
    },
    {
     "ename": "ValueError",
     "evalue": "invalid literal for int() with base 10: ''",
     "output_type": "error",
     "traceback": [
      "\u001b[0;31m---------------------------------------------------------------------------\u001b[0m",
      "\u001b[0;31mValueError\u001b[0m                                Traceback (most recent call last)",
      "\u001b[0;32m<ipython-input-64-c863aff2e847>\u001b[0m in \u001b[0;36m<module>\u001b[0;34m()\u001b[0m\n\u001b[1;32m     12\u001b[0m         \u001b[0mlength\u001b[0m\u001b[0;34m=\u001b[0m\u001b[0mlen\u001b[0m\u001b[0;34m(\u001b[0m\u001b[0mstr\u001b[0m\u001b[0;34m(\u001b[0m\u001b[0mint\u001b[0m\u001b[0;34m(\u001b[0m\u001b[0mstring1\u001b[0m\u001b[0;34m)\u001b[0m\u001b[0;34m*\u001b[0m\u001b[0mj\u001b[0m\u001b[0;34m)\u001b[0m\u001b[0;34m)\u001b[0m\u001b[0;34m\u001b[0m\u001b[0m\n\u001b[1;32m     13\u001b[0m         \u001b[0mstring2\u001b[0m\u001b[0;34m=\u001b[0m\u001b[0mstring\u001b[0m\u001b[0;34m[\u001b[0m\u001b[0mi\u001b[0m\u001b[0;34m*\u001b[0m\u001b[0mj\u001b[0m\u001b[0;34m:\u001b[0m\u001b[0mi\u001b[0m\u001b[0;34m*\u001b[0m\u001b[0;34m(\u001b[0m\u001b[0mj\u001b[0m\u001b[0;34m+\u001b[0m\u001b[0;36m1\u001b[0m\u001b[0;34m)\u001b[0m\u001b[0;34m]\u001b[0m\u001b[0;34m\u001b[0m\u001b[0m\n\u001b[0;32m---> 14\u001b[0;31m         \u001b[0mprint\u001b[0m\u001b[0;34m(\u001b[0m\u001b[0;34m\"str1:\"\u001b[0m\u001b[0;34m,\u001b[0m\u001b[0mstring1\u001b[0m\u001b[0;34m,\u001b[0m\u001b[0;34m\"str2:\"\u001b[0m\u001b[0;34m,\u001b[0m\u001b[0mstring2\u001b[0m\u001b[0;34m,\u001b[0m\u001b[0mint\u001b[0m\u001b[0;34m(\u001b[0m\u001b[0mstring2\u001b[0m\u001b[0;34m)\u001b[0m\u001b[0;34m==\u001b[0m\u001b[0;34m(\u001b[0m\u001b[0mint\u001b[0m\u001b[0;34m(\u001b[0m\u001b[0mstring1\u001b[0m\u001b[0;34m)\u001b[0m\u001b[0;34m*\u001b[0m\u001b[0;34m(\u001b[0m\u001b[0mj\u001b[0m\u001b[0;34m+\u001b[0m\u001b[0;36m1\u001b[0m\u001b[0;34m)\u001b[0m\u001b[0;34m)\u001b[0m\u001b[0;34m)\u001b[0m\u001b[0;34m\u001b[0m\u001b[0m\n\u001b[0m\u001b[1;32m     15\u001b[0m         \u001b[0mj\u001b[0m\u001b[0;34m+=\u001b[0m\u001b[0;36m1\u001b[0m\u001b[0;34m\u001b[0m\u001b[0m\n\u001b[1;32m     16\u001b[0m     \u001b[0mi\u001b[0m\u001b[0;34m+=\u001b[0m\u001b[0;36m1\u001b[0m\u001b[0;34m\u001b[0m\u001b[0m\n",
      "\u001b[0;31mValueError\u001b[0m: invalid literal for int() with base 10: ''"
     ]
    }
   ],
   "source": [
    "# multiple check - not working\n",
    "\n",
    "number=192384576\n",
    "string=str(number)\n",
    "i=1\n",
    "while i < 5:\n",
    "    string1=string[:i]\n",
    "    j=0;count=1\n",
    "    is_multiple=True\n",
    "    while j < 9 and is_multiple:\n",
    "        string2_cal = str(int(string1)*count)\n",
    "        length = len(string2_cal)\n",
    "        string2 = string[i+j:i*(j+1)]\n",
    "        if string2_cal == string2:\n",
    "            print(string2,\"same\")\n",
    "        j+=1\n",
    "    i+=1\n"
   ]
  },
  {
   "cell_type": "code",
   "execution_count": 83,
   "metadata": {},
   "outputs": [
    {
     "name": "stdout",
     "output_type": "stream",
     "text": [
      "123456789\n",
      "918273645\n",
      "192384576\n",
      "219438657\n",
      "273546819\n",
      "327654981\n",
      "672913458\n",
      "679213584\n",
      "692713854\n",
      "726914538\n",
      "729314586\n",
      "732914658\n",
      "769215384\n",
      "792315846\n",
      "793215864\n",
      "926718534\n",
      "927318546\n",
      "932718654\n"
     ]
    }
   ],
   "source": [
    "### try -2 , solution\n",
    "\n",
    "def is_pandigit(num):\n",
    "    for i in \"123456789\":\n",
    "        if i not in str(num):\n",
    "            return False\n",
    "    return True\n",
    "\n",
    "for i in range(1,10000):\n",
    "    number='';j=1\n",
    "    while len(number)<9:\n",
    "        number=number+str(i*j)\n",
    "        j+=1\n",
    "        if len(number)==9 and is_pandigit(number):\n",
    "            print(number)"
   ]
  },
  {
   "cell_type": "code",
   "execution_count": null,
   "metadata": {},
   "outputs": [],
   "source": []
  }
 ],
 "metadata": {
  "kernelspec": {
   "display_name": "Python 3",
   "language": "python",
   "name": "python3"
  },
  "language_info": {
   "codemirror_mode": {
    "name": "ipython",
    "version": 3
   },
   "file_extension": ".py",
   "mimetype": "text/x-python",
   "name": "python",
   "nbconvert_exporter": "python",
   "pygments_lexer": "ipython3",
   "version": "3.6.2"
  }
 },
 "nbformat": 4,
 "nbformat_minor": 2
}
