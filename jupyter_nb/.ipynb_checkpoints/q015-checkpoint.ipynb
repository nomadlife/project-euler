{
 "cells": [
  {
   "cell_type": "markdown",
   "metadata": {
    "collapsed": true
   },
   "source": [
    "# Q015 Lattice paths\n",
    "Starting in the top left corner of a 2×2 grid, and only being able to move to the right and down, there are exactly 6 routes to the bottom right corner.\n",
    "How many such routes are there through a 20×20 grid?\n"
   ]
  },
  {
   "cell_type": "code",
   "execution_count": null,
   "metadata": {},
   "outputs": [],
   "source": [
    "# Sol 1\n",
    "\n",
    "import time\n",
    "start_time = time.time()\n",
    "\n",
    "def combination(n1,n2):\n",
    "    if n2==0:\n",
    "        return 1\n",
    "    elif n2==1:\n",
    "        return n1\n",
    "    elif n1==n2*2:\n",
    "        return combination(n1-1,n2-1)*2\n",
    "    else:\n",
    "        return combination(n1-1,n2)+combination(n1-1,n2-1)\n",
    "\n",
    "print(combination(40,20))\n",
    "print(\"calculation time:\",time.time()-start_time)"
   ]
  },
  {
   "cell_type": "code",
   "execution_count": null,
   "metadata": {},
   "outputs": [],
   "source": [
    "# Sol 2\n",
    "\n",
    "import time\n",
    "start_time = time.time()\n",
    "\n",
    "def grid(r,c):\n",
    "    if c==0 or r==0:\n",
    "        return 1\n",
    "    elif r==1:\n",
    "        return c+1\n",
    "    elif c==1:\n",
    "        return r+1\n",
    "    else:\n",
    "        return grid(r,c-1)+grid(r-1,c)\n",
    "\n",
    "i=0;dim=20;total=0\n",
    "while i<=dim:\n",
    "    grid_sum=0\n",
    "    print('grid:',i,dim-i)\n",
    "    grid_sum=grid(i,dim-i)**2\n",
    "    print(grid_sum)\n",
    "    total = total + grid_sum\n",
    "    i+=1\n",
    "\n",
    "print(total)\n",
    "print(\"calculation time:\",time.time()-start_time)"
   ]
  },
  {
   "cell_type": "code",
   "execution_count": null,
   "metadata": {},
   "outputs": [],
   "source": [
    "# Sol 3\n",
    "import time\n",
    "start_time = time.time()\n",
    "\n",
    "def grid(r,c):\n",
    "    if c==0 or r==0:\n",
    "        return 1\n",
    "    elif r==1:\n",
    "        return c+1\n",
    "    elif c==1:\n",
    "        return r+1\n",
    "    else:\n",
    "        return grid(r,c-1)+grid(r-1,c)\n",
    "\n",
    "i=0;dim=20;total=0\n",
    "while i<=dim:\n",
    "    total = total + grid(i,dim-i)**2\n",
    "    i+=1\n",
    "\n",
    "print(total)\n",
    "print(\"calculation time:\",time.time()-start_time)"
   ]
  }
 ],
 "metadata": {
  "kernelspec": {
   "display_name": "Python 3",
   "language": "python",
   "name": "python3"
  },
  "language_info": {
   "codemirror_mode": {
    "name": "ipython",
    "version": 3
   },
   "file_extension": ".py",
   "mimetype": "text/x-python",
   "name": "python",
   "nbconvert_exporter": "python",
   "pygments_lexer": "ipython3",
   "version": "3.6.2"
  }
 },
 "nbformat": 4,
 "nbformat_minor": 2
}
