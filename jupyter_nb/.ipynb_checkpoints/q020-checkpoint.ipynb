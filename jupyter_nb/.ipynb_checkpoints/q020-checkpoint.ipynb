{
 "cells": [
  {
   "cell_type": "markdown",
   "metadata": {},
   "source": [
    "팩토리얼 자릿수 합"
   ]
  },
  {
   "cell_type": "markdown",
   "metadata": {},
   "source": [
    "# Q020 Factorial digit sum\n",
    "\n",
    "n! means n × (n − 1) × ... × 3 × 2 × 1\n",
    "\n",
    "For example, 10! = 10 × 9 × ... × 3 × 2 × 1 = 3628800,\n",
    "and the sum of the digits in the number 10! is 3 + 6 + 2 + 8 + 8 + 0 + 0 = 27.\n",
    "\n",
    "Find the sum of the digits in the number 100!\n"
   ]
  },
  {
   "cell_type": "code",
   "execution_count": 2,
   "metadata": {},
   "outputs": [
    {
     "name": "stdout",
     "output_type": "stream",
     "text": [
      "3628800\n"
     ]
    }
   ],
   "source": [
    "# 팩토리얼 계산\n",
    "def get_factorial(number):\n",
    "    product=1\n",
    "    while True:\n",
    "        if number <=1 :\n",
    "            return product\n",
    "        product=product*number\n",
    "        number=number-1\n",
    "        \n",
    "print(get_factorial(10))"
   ]
  },
  {
   "cell_type": "code",
   "execution_count": 3,
   "metadata": {},
   "outputs": [
    {
     "name": "stdout",
     "output_type": "stream",
     "text": [
      "27\n"
     ]
    }
   ],
   "source": [
    "#10 팩토리얼 계산후 각자리수 합산\n",
    "def get_factorial(number):\n",
    "    product=1\n",
    "    while True:\n",
    "        if number <=1 :\n",
    "            return product\n",
    "        product=product*number\n",
    "        number=number-1\n",
    "        \n",
    "result=get_factorial(10)\n",
    "string=str(result)\n",
    "\n",
    "total=0\n",
    "for i in string:\n",
    "    total=total+int(i)\n",
    "print(total)"
   ]
  },
  {
   "cell_type": "code",
   "execution_count": 5,
   "metadata": {},
   "outputs": [
    {
     "name": "stdout",
     "output_type": "stream",
     "text": [
      "93326215443944152681699238856266700490715968264381621468592963895217599993229915608941463976156518286253697920827223758251185210916864000000000000000000000000\n",
      "648\n"
     ]
    }
   ],
   "source": [
    "#100팩토리얼 계산\n",
    "def get_factorial(number):\n",
    "    product=1\n",
    "    while True:\n",
    "        if number <=1 :\n",
    "            return product\n",
    "        product=product*number\n",
    "        number=number-1\n",
    "        \n",
    "result=get_factorial(100)\n",
    "print(result)\n",
    "string=str(result)\n",
    "\n",
    "total=0\n",
    "for i in string:\n",
    "    total=total+int(i)\n",
    "print(total)"
   ]
  },
  {
   "cell_type": "code",
   "execution_count": null,
   "metadata": {
    "collapsed": true
   },
   "outputs": [],
   "source": [
    "#forum-1\n",
    "from functools import reduce \n",
    "sum([int(x) for x in str(reduce(lambda x, y: x*y), range(1,100)))])"
   ]
  },
  {
   "cell_type": "code",
   "execution_count": null,
   "metadata": {
    "collapsed": true
   },
   "outputs": [],
   "source": [
    "#forum-2\n",
    "import math \n",
    "lambda n: sum([int(x) for x in str(math.factorial(n))])"
   ]
  },
  {
   "cell_type": "code",
   "execution_count": null,
   "metadata": {
    "collapsed": true
   },
   "outputs": [],
   "source": [
    "#forum-3\n",
    "from numba import jit\n",
    "from scipy.special import factorial\n",
    "print(sum(list(map(int,str(factorial(100,exact=True))))))"
   ]
  },
  {
   "cell_type": "code",
   "execution_count": null,
   "metadata": {
    "collapsed": true
   },
   "outputs": [],
   "source": [
    "#forum-4\n",
    "from functools import reduce\n",
    "sum = reduce(lambda x,y:x*y,range(1,101))\n",
    "result=reduce(lambda x,y:int(x)+int(y),str(sum))\n",
    "print(result)"
   ]
  },
  {
   "cell_type": "code",
   "execution_count": null,
   "metadata": {
    "collapsed": true
   },
   "outputs": [],
   "source": [
    "#forum-5\n",
    "def fact(n):\n",
    "    count = 1\n",
    "    for i in xrange(1, n+1):\n",
    "        count *= i\n",
    "    return count\n",
    "\n",
    "print sum([int(i) for i in str(fact(100))])"
   ]
  },
  {
   "cell_type": "code",
   "execution_count": null,
   "metadata": {
    "collapsed": true
   },
   "outputs": [],
   "source": [
    "#forum-6\n",
    "#Project Euler\n",
    "#Question 20\n",
    "#Jesse Hamer\n",
    "#12/18/17\n",
    "\n",
    "#Find the sum of the digits of the number 100!.\n",
    "\n",
    "digitize = function(x){\n",
    "  return(as.numeric(strsplit(as.character(x),\"\")[[1]]))\n",
    "}\n",
    "\n",
    "addition = function(x,y){\n",
    "  if(is.null(x)){return(y)}\n",
    "  if(is.null(y)){return(x)}\n",
    "  sum = NULL\n",
    "  if(length(x)< length(y)){x = c(rep(0, length(y)-length(x)),x)} else{\n",
    "    y = c(rep(0,length(x)-length(y)),y)\n",
    "  }\n",
    "  carry.over = 0\n",
    "  for(i in length(x):1){\n",
    "    new.digit = (x[i]+y[i] + carry.over)%%10\n",
    "    carry.over = ((x[i]+y[i] + carry.over)-new.digit)/10\n",
    "    sum = c(new.digit,sum)\n",
    "  }\n",
    "  if(carry.over > 0){sum = c(carry.over,sum)}\n",
    "  return(sum)\n",
    "}\n",
    "\n",
    "subtraction = function(big,lit){\n",
    "  diff = NULL\n",
    "  n = length(big)-length(lit)\n",
    "  for(i in length(lit):1){\n",
    "    if(lit[i]<=big[i+n]){\n",
    "      diff = c(big[i+n]-lit[i],diff)\n",
    "    } else{\n",
    "      diff = c(10+big[i+n]-lit[i],diff)\n",
    "      big[i+n-1] = big[i+n-1]-1\n",
    "    }\n",
    "  }\n",
    "  diff = c(big[seq_len(length(big)-length(lit))],diff)\n",
    "  if(diff[1]==0){diff = diff[-1]}\n",
    "  return(diff)\n",
    "}\n",
    "\n",
    "multiply = function(x,y){\n",
    "  product = NULL\n",
    "  N = length(x)\n",
    "  M = length(y)\n",
    "  for(i in N:1){\n",
    "    for(j in M:1){\n",
    "      if(x[i]*y[j]!=0){\n",
    "        product = addition(product, c(digitize(x[i]*y[j]),rep(0,(N-i)+(M-j))))\n",
    "      }\n",
    "    }\n",
    "  }\n",
    "  return(product)\n",
    "}\n",
    "\n",
    "exponentiate = function(x,n){\n",
    "  if(n == 0){return(1)}\n",
    "  if(n==1){return(x)}\n",
    "  return(multiply(x,exponentiate(x,n-1)))\n",
    "}\n",
    "\n",
    "factorial = function(x){\n",
    "  if(x==1){return(1)}\n",
    "  return(multiply(x,factorial(subtraction(x,1))))\n",
    "}\n",
    "\n",
    "sum(factorial(100))"
   ]
  }
 ],
 "metadata": {
  "kernelspec": {
   "display_name": "Python 3",
   "language": "python",
   "name": "python3"
  },
  "language_info": {
   "codemirror_mode": {
    "name": "ipython",
    "version": 3
   },
   "file_extension": ".py",
   "mimetype": "text/x-python",
   "name": "python",
   "nbconvert_exporter": "python",
   "pygments_lexer": "ipython3",
   "version": "3.5.2"
  }
 },
 "nbformat": 4,
 "nbformat_minor": 1
}
