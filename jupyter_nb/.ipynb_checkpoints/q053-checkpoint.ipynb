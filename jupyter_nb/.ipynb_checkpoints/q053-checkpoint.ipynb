{
 "cells": [
  {
   "cell_type": "markdown",
   "metadata": {},
   "source": [
    "# Combinatoric selections\n"
   ]
  },
  {
   "cell_type": "code",
   "execution_count": null,
   "metadata": {
    "collapsed": true
   },
   "outputs": [],
   "source": [
    "for i in range(1,101)\n",
    "    for j in range(0,i+1)\n",
    "        print(i,\"C\",j,getCombination(i,j))"
   ]
  },
  {
   "cell_type": "code",
   "execution_count": 3,
   "metadata": {},
   "outputs": [
    {
     "name": "stdout",
     "output_type": "stream",
     "text": [
      "3628800\n"
     ]
    }
   ],
   "source": [
    "def getFactorial(num):\n",
    "    total=1\n",
    "    for i in range(num,1,-1):\n",
    "        total=total*i\n",
    "    return total\n",
    "\n",
    "print(getFactorial(10))"
   ]
  },
  {
   "cell_type": "code",
   "execution_count": 9,
   "metadata": {},
   "outputs": [
    {
     "data": {
      "text/plain": [
       "24"
      ]
     },
     "execution_count": 9,
     "metadata": {},
     "output_type": "execute_result"
    }
   ],
   "source": [
    "import math\n",
    "math.factorial(4)"
   ]
  },
  {
   "cell_type": "code",
   "execution_count": 10,
   "metadata": {},
   "outputs": [
    {
     "data": {
      "text/plain": [
       "362880"
      ]
     },
     "execution_count": 10,
     "metadata": {},
     "output_type": "execute_result"
    }
   ],
   "source": [
    "import functools\n",
    "functools.reduce(lambda x,y:x*y , range(1,10))"
   ]
  },
  {
   "cell_type": "code",
   "execution_count": 8,
   "metadata": {},
   "outputs": [
    {
     "name": "stdout",
     "output_type": "stream",
     "text": [
      "4075\n"
     ]
    }
   ],
   "source": [
    "def getFactorial(num):\n",
    "    total=1\n",
    "    for i in range(num,1,-1):\n",
    "        total=total*i\n",
    "    return total\n",
    "\n",
    "def getCombination(a,b):\n",
    "    if a == b : return 1\n",
    "    elif b == 1: return a\n",
    "    return getFactorial(a)/getFactorial(b)/getFactorial(a-b)\n",
    "\n",
    "count =0 \n",
    "for i in range(1,101):\n",
    "    for j in range(0,i+1):\n",
    "        combination = getCombination(i,j)\n",
    "        if combination > 1000000:\n",
    "            count += 1\n",
    "            #print(i,\"C\",j,count, combination)\n",
    "print(count)"
   ]
  }
 ],
 "metadata": {
  "kernelspec": {
   "display_name": "Python 3",
   "language": "python",
   "name": "python3"
  },
  "language_info": {
   "codemirror_mode": {
    "name": "ipython",
    "version": 3
   },
   "file_extension": ".py",
   "mimetype": "text/x-python",
   "name": "python",
   "nbconvert_exporter": "python",
   "pygments_lexer": "ipython3",
   "version": "3.6.3"
  }
 },
 "nbformat": 4,
 "nbformat_minor": 2
}
