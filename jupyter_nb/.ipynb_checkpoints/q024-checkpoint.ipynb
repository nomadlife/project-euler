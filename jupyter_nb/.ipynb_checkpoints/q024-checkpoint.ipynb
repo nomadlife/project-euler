{
 "cells": [
  {
   "cell_type": "markdown",
   "metadata": {},
   "source": [
    "# Q-024 Lexicographic permutations\n",
    "\n",
    "\n",
    "A permutation is an ordered arrangement of objects. For example, 3124 is one possible permutation of the digits 1, 2, 3 and 4. If all of the permutations are listed numerically or alphabetically, we call it lexicographic order. The lexicographic permutations of 0, 1 and 2 are:\n",
    "\n",
    "012   021   102   120   201   210\n",
    "\n",
    "What is the millionth lexicographic permutation of the digits 0, 1, 2, 3, 4, 5, 6, 7, 8 and 9?\n",
    "\n"
   ]
  },
  {
   "cell_type": "code",
   "execution_count": 1,
   "metadata": {},
   "outputs": [
    {
     "data": {
      "text/plain": [
       "3628800"
      ]
     },
     "execution_count": 1,
     "metadata": {},
     "output_type": "execute_result"
    }
   ],
   "source": [
    "# 전체 순열의 수, total number of permutation\n",
    "\n",
    "def factorial(number):\n",
    "    total=1\n",
    "    for i in range(number,1,-1):\n",
    "        total=total*i\n",
    "    return total\n",
    "factorial(10)"
   ]
  },
  {
   "cell_type": "code",
   "execution_count": 2,
   "metadata": {
    "scrolled": true
   },
   "outputs": [
    {
     "name": "stdout",
     "output_type": "stream",
     "text": [
      "1 1\n",
      "2 2\n",
      "3 6\n",
      "4 24\n",
      "5 120\n",
      "6 720\n",
      "7 5040\n",
      "8 40320\n",
      "9 362880\n",
      "10 3628800\n"
     ]
    }
   ],
   "source": [
    "# 각 자릿수 순열의 수\n",
    "\n",
    "def factorial(number):\n",
    "    total=1\n",
    "    for i in range(number,1,-1):\n",
    "        total=total*i\n",
    "    return total\n",
    "\n",
    "i=1\n",
    "while True: \n",
    "    value=factorial(i)\n",
    "    print(i,value)\n",
    "    if value > 1000000:\n",
    "        break\n",
    "    else:\n",
    "        i+=1\n"
   ]
  },
  {
   "cell_type": "code",
   "execution_count": 106,
   "metadata": {},
   "outputs": [
    {
     "name": "stdout",
     "output_type": "stream",
     "text": [
      "loop: 0,0 123456789\n",
      "loop: 1,2 2123456789\n",
      "loop: 2,6 2723456789\n",
      "loop: 3,6 2783456789\n",
      "loop: 4,2 2785456789\n",
      "loop: 5,5 2785956789\n",
      "loop: 6,1 2785966789\n",
      "loop: 7,2 2785968789\n",
      "loop: 8,1 2785968889\n",
      "loop: 9,1 2785968899\n",
      "2785968899\n",
      "1\n"
     ]
    }
   ],
   "source": [
    "# 각 자릿수 계산해서, 올리기.\n",
    "\n",
    "def factorial(number):\n",
    "    total=1\n",
    "    for i in range(number,1,-1):\n",
    "        total=total*i\n",
    "    return total\n",
    "\n",
    "number=123456789\n",
    "target=1000000\n",
    "value=0\n",
    "for i in range(10):\n",
    "    print(\"loop:\",i,end=',')\n",
    "    value=factorial(10-i)\n",
    "    count=0\n",
    "    while value<target:\n",
    "        target=target-value\n",
    "        count+=1\n",
    "    number=number+count*10**(10-i)\n",
    "    print(count,number)\n",
    "print(number)\n",
    "print(target)"
   ]
  },
  {
   "cell_type": "code",
   "execution_count": 121,
   "metadata": {},
   "outputs": [
    {
     "name": "stdout",
     "output_type": "stream",
     "text": [
      "loop: 0, value: 362880  target:1000000, 2 2013456789 10\n",
      "loop: 1, value:  40320  target: 274240, 6 2701345689 10\n",
      "loop: 2, value:   5040  target:  32320, 6 2780134569 10\n",
      "loop: 3, value:    720  target:   2080, 2 2783014569 10\n",
      "loop: 4, value:    120  target:    640, 5 2783901456 10\n",
      "loop: 5, value:     24  target:     40, 1 2783910456 10\n",
      "loop: 6, value:      6  target:     16, 2 2783915046 10\n",
      "loop: 7, value:      2  target:      4, 2 2783915604 10\n",
      "loop: 8, value:      1  target:      0, 0 2783915604 10\n",
      "loop: 9, value:      1  target:      0, 0 2783915604 10\n",
      "2783915604\n",
      "0\n"
     ]
    }
   ],
   "source": [
    "#Final\n",
    "\n",
    "def factorial(number):\n",
    "    total=1\n",
    "    for i in range(number,1,-1):\n",
    "        total=total*i\n",
    "    return total\n",
    "\n",
    "number='0123456789'\n",
    "target=1000000\n",
    "value=0\n",
    "for i in range(10):\n",
    "    print(\"loop:%2d\"%i,end=',')\n",
    "    value=factorial(9-i)\n",
    "    count=0\n",
    "    print(\" value:%7d\"%value,\" target:%7d\"%target,end=', ')\n",
    "    while value<=target:\n",
    "        target=target-value\n",
    "        count+=1\n",
    "    #print(count,number[count],end=';')\n",
    "    #number[count]=i\n",
    "    #print(number.find(str(count)),end='; ')\n",
    "    number = number[:i]+number[i+count]+number[i:i+count]+number[i+count+1:]\n",
    "    print(count,number,len(number))\n",
    "print(number)\n",
    "print(target)\n",
    "\n",
    "#final value is millio+1th value. "
   ]
  },
  {
   "cell_type": "code",
   "execution_count": 121,
   "metadata": {},
   "outputs": [
    {
     "name": "stdout",
     "output_type": "stream",
     "text": [
      "loop: 0, value: 362880  target:1000000, 2 2013456789 10\n",
      "loop: 1, value:  40320  target: 274240, 6 2701345689 10\n",
      "loop: 2, value:   5040  target:  32320, 6 2780134569 10\n",
      "loop: 3, value:    720  target:   2080, 2 2783014569 10\n",
      "loop: 4, value:    120  target:    640, 5 2783901456 10\n",
      "loop: 5, value:     24  target:     40, 1 2783910456 10\n",
      "loop: 6, value:      6  target:     16, 2 2783915046 10\n",
      "loop: 7, value:      2  target:      4, 2 2783915604 10\n",
      "loop: 8, value:      1  target:      0, 0 2783915604 10\n",
      "loop: 9, value:      1  target:      0, 0 2783915604 10\n",
      "2783915604\n",
      "0\n"
     ]
    }
   ],
   "source": [
    "#Final short\n",
    "\n",
    "def factorial(number):\n",
    "    total=1\n",
    "    for i in range(number,1,-1):\n",
    "        total=total*i\n",
    "    return total\n",
    "\n",
    "number='0123456789'\n",
    "target=1000000\n",
    "value=0\n",
    "for i in range(10):\n",
    "    value=factorial(9-i)\n",
    "    count=0\n",
    "    while value<=target:\n",
    "        target=target-value\n",
    "        count+=1\n",
    "    number = number[:i]+number[i+count]+number[i:i+count]+number[i+count+1:]\n",
    "print(number)\n",
    "print(target)\n",
    "\n",
    "#final value is millio+1th value. "
   ]
  },
  {
   "cell_type": "code",
   "execution_count": 85,
   "metadata": {},
   "outputs": [
    {
     "name": "stdout",
     "output_type": "stream",
     "text": [
      "loop: 10 9123456789\n",
      "loop: 9 9923456789\n",
      "loop: 8 9993456789\n",
      "loop: 7 9999456789\n",
      "loop: 6 9999956789\n",
      "loop: 5 9999996789\n",
      "loop: 4 9999999789\n",
      "loop: 3 9999999989\n",
      "loop: 2 9999999999\n",
      "loop: 1 9999999999\n"
     ]
    }
   ],
   "source": [
    "# test_ slice #1\n",
    "\n",
    "test='0123456789'\n",
    "for i in range(10,0,-1):\n",
    "    count=9\n",
    "    test = test[:10-i]+str(count)+test[10-i+1:]\n",
    "    print(\"loop:\",i,test)"
   ]
  },
  {
   "cell_type": "code",
   "execution_count": 78,
   "metadata": {},
   "outputs": [
    {
     "name": "stdout",
     "output_type": "stream",
     "text": [
      "0123456789\n",
      "01234567\n"
     ]
    }
   ],
   "source": [
    "#test_slice\n",
    "\n",
    "test='0123456789'\n",
    "test_1=test[:8]\n",
    "print(test)\n",
    "print(test_1)"
   ]
  },
  {
   "cell_type": "code",
   "execution_count": 89,
   "metadata": {},
   "outputs": [
    {
     "data": {
      "text/plain": [
       "'0123457689'"
      ]
     },
     "execution_count": 89,
     "metadata": {},
     "output_type": "execute_result"
    }
   ],
   "source": [
    "# 다른 방법\n",
    "def get_next_permutation(string):\n",
    "    m=len(string)\n",
    "    for i in range(m-1):\n",
    "        if string[m-2-i]<string[m-1-i]:\n",
    "            target_num = string[m-2-i]\n",
    "            new_num = min([x for x in string[m-1-i:] if x>target_num])\n",
    "            last_nums = ''.join(sorted(string[m-2-i:].replace(new_num,\"\")))\n",
    "            result = string[:m-2-i] + new_num + last_nums\n",
    "            return result\n",
    "\n",
    "get_next_num('0123456987')"
   ]
  },
  {
   "cell_type": "code",
   "execution_count": 107,
   "metadata": {},
   "outputs": [
    {
     "name": "stdout",
     "output_type": "stream",
     "text": [
      "0 7 -7\n",
      "1 1 0\n",
      "2 2 0\n",
      "3 4 -1\n",
      "4 0 4\n",
      "5 5 0\n",
      "6 6 0\n",
      "7 9 -2\n",
      "8 8 0\n",
      "9 3 6\n"
     ]
    }
   ],
   "source": [
    "# 다른 방법,,개선-2\n",
    "\n",
    "def get_next_permutation(string):\n",
    "    target = 0\n",
    "    for i,v in enumerate(string):\n",
    "        print(i,v,i-int(v))\n",
    "        \n",
    "            \n",
    "get_next_permutation('7124056983')"
   ]
  },
  {
   "cell_type": "code",
   "execution_count": 167,
   "metadata": {},
   "outputs": [
    {
     "name": "stdout",
     "output_type": "stream",
     "text": [
      "7124056983\n",
      "0 7 7 False\n",
      "1 1 7 False\n",
      "2 2 1 True\n",
      "3 4 2 True\n",
      "4 0 4 False\n",
      "5 5 0 True\n",
      "6 6 5 True\n",
      "7 9 6 True\n",
      "8 8 9 False\n",
      "9 3 8 False\n",
      "target 7\n",
      "9\n",
      "8\n",
      "3\n"
     ]
    }
   ],
   "source": [
    "# 다른 방법,,개선-2 _테스트\n",
    "\n",
    "def get_next_permutation(string):\n",
    "    print(string)\n",
    "    target = 0\n",
    "    for i,v in enumerate(zip(string,string[0]+string[0:9])):\n",
    "        print(i,v[0],v[1],v[0]>v[1])\n",
    "        if v[0] > v[1]:\n",
    "            target = i\n",
    "    print(\"target\",target)\n",
    "    for i in string[target:]:\n",
    "        print(i)\n",
    "get_next_permutation(\"7124056983\")"
   ]
  },
  {
   "cell_type": "code",
   "execution_count": 169,
   "metadata": {},
   "outputs": [
    {
     "name": "stdout",
     "output_type": "stream",
     "text": [
      "7124056983\n",
      "3896504217\n",
      "8965042177\n",
      "3 8 False\n",
      "8 9 False\n",
      "9 6 True\n",
      "target: 6\n"
     ]
    }
   ],
   "source": [
    "# 다른 방법,,개선-2 _테스트2\n",
    "\n",
    "def get_next_permutation(string):\n",
    "    print(string)\n",
    "    string = string[::-1]\n",
    "    print(string)\n",
    "    string_cmp = string[1:]+string[9]\n",
    "    print(string_cmp)\n",
    "    target = ''\n",
    "    for i,j in zip(string,string_cmp):\n",
    "        print(i,j,i>j)\n",
    "        if i>j:\n",
    "            target = j\n",
    "            break\n",
    "    print(\"target:\",target)\n",
    "    \n",
    "get_next_permutation(\"7124056983\")"
   ]
  },
  {
   "cell_type": "code",
   "execution_count": 232,
   "metadata": {},
   "outputs": [
    {
     "name": "stdout",
     "output_type": "stream",
     "text": [
      "target (3, '6')\n",
      "389 6\n",
      "true 1 8\n",
      "true 2 9\n",
      "new_num: (2, '9')\n"
     ]
    }
   ],
   "source": [
    "# 다른 방법,,개선-2 _테스트2-3(문자열 뒤집어서)\n",
    "\n",
    "def get_next_permutation(string):\n",
    "    # 타겟 위치 찾기\n",
    "    string = string[::-1]\n",
    "    target =''\n",
    "    for i,v in enumerate(string):\n",
    "        if not i == 0 and v < string[i-1]:\n",
    "            target = i,v\n",
    "            break\n",
    "    print(\"target\",target)\n",
    "    \n",
    "    # 바꿀수 수 찾기.\n",
    "    print(string[:target[0]],target[1])\n",
    "    new_num = ''\n",
    "    for i,v in enumerate(string[:target[0]]):\n",
    "        if v > target[1]:\n",
    "            print(\"true\",i,v)\n",
    "            new_num = i,v\n",
    "    print(\"new_num:\",new_num)\n",
    "get_next_permutation(\"7124056983\")"
   ]
  },
  {
   "cell_type": "code",
   "execution_count": 234,
   "metadata": {},
   "outputs": [
    {
     "name": "stdout",
     "output_type": "stream",
     "text": [
      "target: (6, '6')\n",
      "6983\n",
      "true 1 9\n",
      "true 2 8\n",
      "new_num: (2, '8')\n"
     ]
    }
   ],
   "source": [
    "# 다른 방법,,개선-2 _테스트2-2(문자열 안뒤집고 그대로)\n",
    "\n",
    "def get_next_permutation(string):\n",
    "    target = ''\n",
    "    for i,v in enumerate(string):\n",
    "        if i+1<len(string) and v<string[i+1]:\n",
    "            target = i,v\n",
    "    print(\"target:\",target)\n",
    "    \n",
    "    print(string[target[0]:])\n",
    "    new_num = ''\n",
    "    target_max = '9'\n",
    "    for i,v in enumerate(string[target[0]:]):\n",
    "        if v > target[1]:\n",
    "            print(\"true\",i,v)\n",
    "            new_num = i,v\n",
    "    print(\"new_num:\",new_num)\n",
    "get_next_permutation(\"7124056983\")"
   ]
  },
  {
   "cell_type": "code",
   "execution_count": 181,
   "metadata": {},
   "outputs": [
    {
     "name": "stdout",
     "output_type": "stream",
     "text": [
      "2 3\n",
      "6\n",
      "93\n",
      "9368504217\n"
     ]
    },
    {
     "data": {
      "text/plain": [
       "'7124058639'"
      ]
     },
     "execution_count": 181,
     "metadata": {},
     "output_type": "execute_result"
    }
   ],
   "source": [
    "# 다른 방법,, 개선-3 원래 함수 수정(string 뒤집어서)\n",
    "\n",
    "def get_next_permutation(string):\n",
    "    string = string[::-1]\n",
    "    # string = '3896504217'\n",
    "    for i,v in enumerate(string):\n",
    "        if not i == 0 and v < string[i-1]:\n",
    "            print(i,v)\n",
    "            new_num = min([x for x in string[:i] if x > v])\n",
    "            print(new_num)\n",
    "            last_nums = ''.join(sorted(string[:i+1].replace(new_num,\"\"),reverse=True))\n",
    "            print(last_nums)\n",
    "            result = last_nums + new_num + string[i+1:]\n",
    "            print(result)\n",
    "            return result[::-1]\n",
    "get_next_permutation(\"7124058396\")"
   ]
  },
  {
   "cell_type": "code",
   "execution_count": 180,
   "metadata": {},
   "outputs": [
    {
     "name": "stdout",
     "output_type": "stream",
     "text": [
      "2783915460\n",
      "Calculation time: 6.81386399269104\n"
     ]
    }
   ],
   "source": [
    "# 다른 방법,, 개선-3 원래 함수 수정(string 뒤집어서)\n",
    "# 속도 테스트\n",
    "\n",
    "import time\n",
    "start = time.time()\n",
    "\n",
    "def get_next_permutation(string):\n",
    "    string = string[::-1]\n",
    "    for i,v in enumerate(string):\n",
    "        if not i == 0 and v < string[i-1]:\n",
    "            new_num = min([x for x in string[:i] if x > v])\n",
    "            last_nums = ''.join(sorted(string[:i+1].replace(new_num,\"\"),reverse=True))\n",
    "            result = last_nums + new_num + string[i+1:]\n",
    "            return result[::-1]\n",
    "        \n",
    "string='0123456789'\n",
    "for i in range(1,1000000):    \n",
    "    string = get_next_permutation(string)\n",
    "print(string)\n",
    "print(\"Calculation time:\",time.time()-start)\n"
   ]
  },
  {
   "cell_type": "code",
   "execution_count": 179,
   "metadata": {},
   "outputs": [
    {
     "name": "stdout",
     "output_type": "stream",
     "text": [
      "2783915460\n",
      "Calculation time: 5.112391471862793\n"
     ]
    }
   ],
   "source": [
    "# 다른 방법,, 개선-3 원래 함수 수정(string 뒤집어서)\n",
    "# 속도 테스트\n",
    "\n",
    "import time\n",
    "start = time.time()\n",
    "\n",
    "def get_next_permutation(string):\n",
    "    string = string[::-1]\n",
    "    for i,v in enumerate(string):\n",
    "        if not i == 0 and v < string[i-1]:\n",
    "            new_num = min([x for x in string[:i] if x > v])\n",
    "            last_nums = ''.join(sorted(string[:i+1].replace(new_num,\"\")))\n",
    "            return string[:i:-1] + new_num + last_nums\n",
    "        \n",
    "string='0123456789'\n",
    "for i in range(1,1000000):    \n",
    "    string = get_next_permutation(string)\n",
    "print(string)\n",
    "print(\"Calculation time:\",time.time()-start)\n"
   ]
  },
  {
   "cell_type": "code",
   "execution_count": 178,
   "metadata": {},
   "outputs": [
    {
     "name": "stdout",
     "output_type": "stream",
     "text": [
      "2783915460\n",
      "Calculation time: 4.063427209854126\n"
     ]
    }
   ],
   "source": [
    "# 다른 방법,, 개선-3 원래 함수 수정(string 뒤집어서)\n",
    "# 위 코드에서 조금 더 개선\n",
    "\n",
    "import time\n",
    "start = time.time()\n",
    "\n",
    "def get_next_permutation(string):\n",
    "    string = string[::-1]\n",
    "    for i,v in enumerate(string):\n",
    "        if not i == 0 and v < string[i-1]:\n",
    "            remain = sorted(string[:i+1])\n",
    "            new_num = remain.pop(remain.index(v)+1)\n",
    "            last_nums = ''.join(remain)\n",
    "            return string[:i:-1]+new_num + last_nums\n",
    "        \n",
    "string='0123456789'\n",
    "for i in range(1,1000000):    \n",
    "    string = get_next_permutation(string)\n",
    "print(string)\n",
    "print(\"Calculation time:\",time.time()-start)\n"
   ]
  },
  {
   "cell_type": "code",
   "execution_count": 184,
   "metadata": {},
   "outputs": [
    {
     "name": "stdout",
     "output_type": "stream",
     "text": [
      "2783915460\n",
      "Calculation time: 3.4979515075683594\n"
     ]
    }
   ],
   "source": [
    "# 다른 방법,, 개선-3 원래 함수 수정\n",
    "# 위 코드에서 조금 더 개선\n",
    "# while 문으로 수정, string 안뒤집기.\n",
    "# ===================================================> 최종\n",
    "\n",
    "import time\n",
    "start = time.time()\n",
    "\n",
    "def get_next_permutation(string):\n",
    "    i=len(string)-2\n",
    "    while i >= 0:\n",
    "        if string[i] < string[i+1]:\n",
    "            target = sorted(string[i:])\n",
    "            new_num = target.pop(target.index(string[i])+1)\n",
    "            last_nums = ''.join(target)\n",
    "            return string[:i] + new_num + last_nums\n",
    "        i-=1\n",
    "\n",
    "string='0123456789'\n",
    "for i in range(1,1000000):    \n",
    "    string = get_next_permutation(string)\n",
    "print(string)\n",
    "print(\"Calculation time:\",time.time()-start)\n"
   ]
  },
  {
   "cell_type": "code",
   "execution_count": 128,
   "metadata": {},
   "outputs": [
    {
     "data": {
      "text/plain": [
       "1"
      ]
     },
     "execution_count": 128,
     "metadata": {},
     "output_type": "execute_result"
    }
   ],
   "source": [
    "test='4123'\n",
    "sorted(test).index('2')"
   ]
  },
  {
   "cell_type": "code",
   "execution_count": 159,
   "metadata": {},
   "outputs": [
    {
     "name": "stdout",
     "output_type": "stream",
     "text": [
      "0139846725\n",
      "Calculation time: 0.057183265686035156\n"
     ]
    }
   ],
   "source": [
    "# 속도테스트 대조군:원래 함수\n",
    "\n",
    "import time\n",
    "start = time.time()\n",
    "\n",
    "def get_next_permutation(string):\n",
    "    m=len(string)\n",
    "    for i in range(m-1):\n",
    "        if string[m-2-i]<string[m-1-i]:\n",
    "            target_num = string[m-2-i]\n",
    "            new_num = min([x for x in string[m-1-i:] if x>target_num])\n",
    "            last_nums = ''.join(sorted(string[m-2-i:].replace(new_num,\"\")))\n",
    "            result = string[:m-2-i] + new_num + last_nums\n",
    "            return result\n",
    "string='0123456789'\n",
    "for i in range(10000):    \n",
    "    string = get_next_permutation(string)\n",
    "print(string)\n",
    "print(\"Calculation time:\",time.time()-start)"
   ]
  },
  {
   "cell_type": "code",
   "execution_count": 92,
   "metadata": {},
   "outputs": [
    {
     "name": "stdout",
     "output_type": "stream",
     "text": [
      "0123456987\n",
      "1234569870\n",
      "8\n"
     ]
    }
   ],
   "source": [
    "# 다른 방법,,개선-중단\n",
    "\n",
    "def get_next_permutation(string):\n",
    "    print(string)\n",
    "    string = string[1:]+string[0]\n",
    "    print(string)\n",
    "    for i,v in enumerate(string):\n",
    "        if int(v)>int(string[i+1]):\n",
    "            target = string[i+1]\n",
    "            print(target)\n",
    "            break\n",
    "\n",
    "get_next_permutation('0123456987')"
   ]
  },
  {
   "cell_type": "code",
   "execution_count": 61,
   "metadata": {},
   "outputs": [
    {
     "data": {
      "text/plain": [
       "[range(1, 5)]"
      ]
     },
     "execution_count": 61,
     "metadata": {},
     "output_type": "execute_result"
    }
   ],
   "source": [
    "test = [range(1,5)]\n",
    "test[::-1]"
   ]
  },
  {
   "cell_type": "code",
   "execution_count": null,
   "metadata": {},
   "outputs": [],
   "source": [
    "#forum-1\n",
    "import itertools\n",
    "\n",
    "print(''.join(list(itertools.permutations('0123456789',10))[999999]))\n",
    "\n"
   ]
  },
  {
   "cell_type": "code",
   "execution_count": null,
   "metadata": {},
   "outputs": [],
   "source": [
    "#forum-2\n",
    "from itertools import permutations as perm\n",
    "  \n",
    "print(list(perm(range(10)))[999999])"
   ]
  },
  {
   "cell_type": "code",
   "execution_count": null,
   "metadata": {},
   "outputs": [],
   "source": [
    "#forum-3\n",
    "def remove_duplicate(num) :  #from a number\n",
    "    result = []\n",
    "    n = str(num)\n",
    "    for c in n :\n",
    "        if c not in result :\n",
    "            result.append(c)\n",
    "    result = ''.join(result)\n",
    "    return int(result)\n",
    "\n",
    "def all_in(num) :\n",
    "    s = str(num)\n",
    "    t = ''.join(sorted(s))\n",
    "    return t == '0123456789' or t == '123456789'\n",
    "\n",
    "perm = 0\n",
    "\n",
    "for i in range(123456789,9876543210) :\n",
    "    j = remove_duplicate(i)\n",
    "    if i == j and all_in(j) :\n",
    "        perm += 1\n",
    "        if perm == 1000000 :\n",
    "            print('Millionth:',i)\n",
    "            break"
   ]
  },
  {
   "cell_type": "code",
   "execution_count": null,
   "metadata": {},
   "outputs": [],
   "source": [
    "#forum-4\n",
    "import itertools\n",
    "\n",
    "numbers = [0,1,2,3,4,5,6,7,8,9]\n",
    "\n",
    "answer = itertools.permutations(numbers)\n",
    "\n",
    "print(list(answer)[999999])"
   ]
  },
  {
   "cell_type": "code",
   "execution_count": null,
   "metadata": {},
   "outputs": [],
   "source": [
    "#forum-5\n",
    "from itertools import permutations\n",
    "from functools import reduce\n",
    "\n",
    "\n",
    "def main():\n",
    "    digits = map(lambda x: x, range(0, 10))\n",
    "    arrangements =  permutations(digits, 10)\n",
    "    numbers = enumerate(map(lambda x: reduce(lambda z, y: z*10 + y, x), arrangements))\n",
    "    for key, value in numbers:\n",
    "        if key == 999999:\n",
    "            print(value)\n",
    "            break\n",
    "\n",
    "if __name__ == '__main__':\n",
    "    main()"
   ]
  },
  {
   "cell_type": "code",
   "execution_count": null,
   "metadata": {},
   "outputs": [],
   "source": [
    "#forum-6\n",
    "import time\n",
    "\n",
    "j = 0\n",
    "start = time.time()\n",
    "\n",
    "while j < 100000:\n",
    "    Goal = 999999\n",
    "    factorials = []\n",
    "    v = 1\n",
    "    i = 1\n",
    "    while i < 11:\n",
    "        factorials.append(v)\n",
    "        v *= i\n",
    "        i += 1\n",
    "    v = 9\n",
    "    numbers = [0,1,2,3,4,5,6,7,8,9]\n",
    "    result = 0\n",
    "    while v >= 0:\n",
    "        value = Goal // factorials[v]\n",
    "        Goal -= value * factorials[v]\n",
    "        v -= 1\n",
    "        result = result * 10 + numbers[value]\n",
    "        numbers.pop(value)\n",
    "    j += 1\n",
    "\n",
    "end = time.time()\n",
    "    \n",
    "print(result)\n",
    "print((end - start) / 100000)"
   ]
  },
  {
   "cell_type": "code",
   "execution_count": null,
   "metadata": {},
   "outputs": [],
   "source": [
    "#forum-7\n",
    "from itertools import permutations\n",
    "\n",
    "def Euler_24():\n",
    "    perms = list(permutations('0123456789'))\n",
    "    return(int(''.join(perms[999999])))"
   ]
  },
  {
   "cell_type": "code",
   "execution_count": null,
   "metadata": {},
   "outputs": [],
   "source": [
    "#forum-8\n",
    "def factorial(num):\n",
    "    total = 1\n",
    "    while(num > 1):\n",
    "        total *= num\n",
    "        num -= 1\n",
    "    return total\n",
    "\n",
    "\n",
    "digits = [0, 1, 2, 3, 4, 5, 6, 7, 8, 9]\n",
    "length = 10\n",
    "goal = 1000000\n",
    "final = []\n",
    "\n",
    "while length >= 1:\n",
    "    i = 0\n",
    "\n",
    "    #loop through i\n",
    "    while (i+1)*(factorial(length-1)) < goal:\n",
    "        i += 1\n",
    "\n",
    "    #reduce the goal\n",
    "    goal -= i*(factorial(length-1))\n",
    "\n",
    "    #add i to the final solution\n",
    "    final += [digits[i]]\n",
    "\n",
    "    #take i from the possible numbers\n",
    "    digits[i:i+1] = []\n",
    "    length -= 1\n",
    "\n",
    "\n",
    "print(final)"
   ]
  },
  {
   "cell_type": "code",
   "execution_count": null,
   "metadata": {},
   "outputs": [],
   "source": [
    "#forum-9\n",
    "def factorial(num):\n",
    "    if num==0 or num==1:\n",
    "        return 1\n",
    "    else:\n",
    "        facto=1\n",
    "        for i in range(2, num+1):\n",
    "            facto *= i\n",
    "        return facto\n",
    "\n",
    "def lexico_perm(pos, array):\n",
    "    # the main function\n",
    "    # Position index is like in a list. Nth element is\n",
    "    # element at index n-1\n",
    "    pos = pos - 1\n",
    "    # we can check if 0<= pos <= factorial(len(array)) which is\n",
    "    # the maximum number of permutations\n",
    "    perm = []\n",
    "    for i in reversed(range(len(array))):\n",
    "        c = pos//factorial(i) # or use math.floor\n",
    "        perm.append(array[c])\n",
    "        array.remove(array[c])\n",
    "        pos = pos - c*factorial(i)\n",
    "    return perm"
   ]
  }
 ],
 "metadata": {
  "kernelspec": {
   "display_name": "Python 3",
   "language": "python",
   "name": "python3"
  },
  "language_info": {
   "codemirror_mode": {
    "name": "ipython",
    "version": 3
   },
   "file_extension": ".py",
   "mimetype": "text/x-python",
   "name": "python",
   "nbconvert_exporter": "python",
   "pygments_lexer": "ipython3",
   "version": "3.5.2"
  }
 },
 "nbformat": 4,
 "nbformat_minor": 1
}
