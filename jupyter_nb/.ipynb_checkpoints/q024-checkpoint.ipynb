{
 "cells": [
  {
   "cell_type": "markdown",
   "metadata": {},
   "source": [
    "# Q-024 Lexicographic permutations\n",
    "\n",
    "\n",
    "A permutation is an ordered arrangement of objects. For example, 3124 is one possible permutation of the digits 1, 2, 3 and 4. If all of the permutations are listed numerically or alphabetically, we call it lexicographic order. The lexicographic permutations of 0, 1 and 2 are:\n",
    "\n",
    "012   021   102   120   201   210\n",
    "\n",
    "What is the millionth lexicographic permutation of the digits 0, 1, 2, 3, 4, 5, 6, 7, 8 and 9?\n",
    "\n"
   ]
  },
  {
   "cell_type": "code",
   "execution_count": 1,
   "metadata": {},
   "outputs": [
    {
     "data": {
      "text/plain": [
       "3628800"
      ]
     },
     "execution_count": 1,
     "metadata": {},
     "output_type": "execute_result"
    }
   ],
   "source": [
    "# 전체 순열의 수\n",
    "\n",
    "def factorial(number):\n",
    "    total=1\n",
    "    for i in range(number,1,-1):\n",
    "        total=total*i\n",
    "    return total\n",
    "factorial(10)"
   ]
  },
  {
   "cell_type": "code",
   "execution_count": 2,
   "metadata": {
    "scrolled": true
   },
   "outputs": [
    {
     "name": "stdout",
     "output_type": "stream",
     "text": [
      "1 1\n",
      "2 2\n",
      "3 6\n",
      "4 24\n",
      "5 120\n",
      "6 720\n",
      "7 5040\n",
      "8 40320\n",
      "9 362880\n",
      "10 3628800\n"
     ]
    }
   ],
   "source": [
    "# 각 자릿수 순열의 수\n",
    "\n",
    "def factorial(number):\n",
    "    total=1\n",
    "    for i in range(number,1,-1):\n",
    "        total=total*i\n",
    "    return total\n",
    "\n",
    "i=1\n",
    "while True: \n",
    "    value=factorial(i)\n",
    "    print(i,value)\n",
    "    if value > 1000000:\n",
    "        break\n",
    "    else:\n",
    "        i+=1\n"
   ]
  },
  {
   "cell_type": "code",
   "execution_count": 106,
   "metadata": {},
   "outputs": [
    {
     "name": "stdout",
     "output_type": "stream",
     "text": [
      "loop: 0,0 123456789\n",
      "loop: 1,2 2123456789\n",
      "loop: 2,6 2723456789\n",
      "loop: 3,6 2783456789\n",
      "loop: 4,2 2785456789\n",
      "loop: 5,5 2785956789\n",
      "loop: 6,1 2785966789\n",
      "loop: 7,2 2785968789\n",
      "loop: 8,1 2785968889\n",
      "loop: 9,1 2785968899\n",
      "2785968899\n",
      "1\n"
     ]
    }
   ],
   "source": [
    "# 각 자릿수 계산해서, 올리기.\n",
    "\n",
    "def factorial(number):\n",
    "    total=1\n",
    "    for i in range(number,1,-1):\n",
    "        total=total*i\n",
    "    return total\n",
    "\n",
    "number=123456789\n",
    "target=1000000\n",
    "value=0\n",
    "for i in range(10):\n",
    "    print(\"loop:\",i,end=',')\n",
    "    value=factorial(10-i)\n",
    "    count=0\n",
    "    while value<target:\n",
    "        target=target-value\n",
    "        count+=1\n",
    "    number=number+count*10**(10-i)\n",
    "    print(count,number)\n",
    "print(number)\n",
    "print(target)"
   ]
  },
  {
   "cell_type": "code",
   "execution_count": 121,
   "metadata": {},
   "outputs": [
    {
     "name": "stdout",
     "output_type": "stream",
     "text": [
      "loop: 0, value: 362880  target:1000000, 2 2013456789 10\n",
      "loop: 1, value:  40320  target: 274240, 6 2701345689 10\n",
      "loop: 2, value:   5040  target:  32320, 6 2780134569 10\n",
      "loop: 3, value:    720  target:   2080, 2 2783014569 10\n",
      "loop: 4, value:    120  target:    640, 5 2783901456 10\n",
      "loop: 5, value:     24  target:     40, 1 2783910456 10\n",
      "loop: 6, value:      6  target:     16, 2 2783915046 10\n",
      "loop: 7, value:      2  target:      4, 2 2783915604 10\n",
      "loop: 8, value:      1  target:      0, 0 2783915604 10\n",
      "loop: 9, value:      1  target:      0, 0 2783915604 10\n",
      "2783915604\n",
      "0\n"
     ]
    }
   ],
   "source": [
    "#Final\n",
    "\n",
    "def factorial(number):\n",
    "    total=1\n",
    "    for i in range(number,1,-1):\n",
    "        total=total*i\n",
    "    return total\n",
    "\n",
    "number='0123456789'\n",
    "target=1000000\n",
    "value=0\n",
    "for i in range(10):\n",
    "    print(\"loop:%2d\"%i,end=',')\n",
    "    value=factorial(9-i)\n",
    "    count=0\n",
    "    print(\" value:%7d\"%value,\" target:%7d\"%target,end=', ')\n",
    "    while value<=target:\n",
    "        target=target-value\n",
    "        count+=1\n",
    "    #print(count,number[count],end=';')\n",
    "    #number[count]=i\n",
    "    #print(number.find(str(count)),end='; ')\n",
    "    number = number[:i]+number[i+count]+number[i:i+count]+number[i+count+1:]\n",
    "    print(count,number,len(number))\n",
    "print(number)\n",
    "print(target)\n",
    "\n",
    "#final value is millio+1th value. "
   ]
  },
  {
   "cell_type": "code",
   "execution_count": 121,
   "metadata": {},
   "outputs": [
    {
     "name": "stdout",
     "output_type": "stream",
     "text": [
      "loop: 0, value: 362880  target:1000000, 2 2013456789 10\n",
      "loop: 1, value:  40320  target: 274240, 6 2701345689 10\n",
      "loop: 2, value:   5040  target:  32320, 6 2780134569 10\n",
      "loop: 3, value:    720  target:   2080, 2 2783014569 10\n",
      "loop: 4, value:    120  target:    640, 5 2783901456 10\n",
      "loop: 5, value:     24  target:     40, 1 2783910456 10\n",
      "loop: 6, value:      6  target:     16, 2 2783915046 10\n",
      "loop: 7, value:      2  target:      4, 2 2783915604 10\n",
      "loop: 8, value:      1  target:      0, 0 2783915604 10\n",
      "loop: 9, value:      1  target:      0, 0 2783915604 10\n",
      "2783915604\n",
      "0\n"
     ]
    }
   ],
   "source": [
    "#Final short\n",
    "\n",
    "def factorial(number):\n",
    "    total=1\n",
    "    for i in range(number,1,-1):\n",
    "        total=total*i\n",
    "    return total\n",
    "\n",
    "number='0123456789'\n",
    "target=1000000\n",
    "value=0\n",
    "for i in range(10):\n",
    "    value=factorial(9-i)\n",
    "    count=0\n",
    "    while value<=target:\n",
    "        target=target-value\n",
    "        count+=1\n",
    "    number = number[:i]+number[i+count]+number[i:i+count]+number[i+count+1:]\n",
    "print(number)\n",
    "print(target)\n",
    "\n",
    "#final value is millio+1th value. "
   ]
  },
  {
   "cell_type": "code",
   "execution_count": 85,
   "metadata": {},
   "outputs": [
    {
     "name": "stdout",
     "output_type": "stream",
     "text": [
      "loop: 10 9123456789\n",
      "loop: 9 9923456789\n",
      "loop: 8 9993456789\n",
      "loop: 7 9999456789\n",
      "loop: 6 9999956789\n",
      "loop: 5 9999996789\n",
      "loop: 4 9999999789\n",
      "loop: 3 9999999989\n",
      "loop: 2 9999999999\n",
      "loop: 1 9999999999\n"
     ]
    }
   ],
   "source": [
    "# test_ slice #1\n",
    "\n",
    "test='0123456789'\n",
    "for i in range(10,0,-1):\n",
    "    count=9\n",
    "    test = test[:10-i]+str(count)+test[10-i+1:]\n",
    "    print(\"loop:\",i,test)"
   ]
  },
  {
   "cell_type": "code",
   "execution_count": 78,
   "metadata": {},
   "outputs": [
    {
     "name": "stdout",
     "output_type": "stream",
     "text": [
      "0123456789\n",
      "01234567\n"
     ]
    }
   ],
   "source": [
    "#test_slice\n",
    "\n",
    "test='0123456789'\n",
    "test_1=test[:8]\n",
    "print(test)\n",
    "print(test_1)"
   ]
  },
  {
   "cell_type": "code",
   "execution_count": 89,
   "metadata": {},
   "outputs": [
    {
     "data": {
      "text/plain": [
       "'0123457689'"
      ]
     },
     "execution_count": 89,
     "metadata": {},
     "output_type": "execute_result"
    }
   ],
   "source": [
    "# 다른 방법\n",
    "def get_next_permutation(string):\n",
    "    m=len(string)\n",
    "    for i in range(m-1):\n",
    "        if string[m-2-i]<string[m-1-i]:\n",
    "            target_num = string[m-2-i]\n",
    "            new_num = min([x for x in string[m-1-i:] if x>target_num])\n",
    "            last_nums = ''.join(sorted(string[m-2-i:].replace(new_num,\"\")))\n",
    "            result = string[:m-2-i] + new_num + last_nums\n",
    "            return result\n",
    "\n",
    "get_next_num('0123456987')"
   ]
  },
  {
   "cell_type": "code",
   "execution_count": 107,
   "metadata": {},
   "outputs": [
    {
     "name": "stdout",
     "output_type": "stream",
     "text": [
      "0 7 -7\n",
      "1 1 0\n",
      "2 2 0\n",
      "3 4 -1\n",
      "4 0 4\n",
      "5 5 0\n",
      "6 6 0\n",
      "7 9 -2\n",
      "8 8 0\n",
      "9 3 6\n"
     ]
    }
   ],
   "source": [
    "# 다른 방법,,개선-2\n",
    "\n",
    "def get_next_permutation(string):\n",
    "    target = 0\n",
    "    for i,v in enumerate(string):\n",
    "        print(i,v,i-int(v))\n",
    "        \n",
    "            \n",
    "get_next_permutation('7124056983')"
   ]
  },
  {
   "cell_type": "code",
   "execution_count": 167,
   "metadata": {},
   "outputs": [
    {
     "name": "stdout",
     "output_type": "stream",
     "text": [
      "7124056983\n",
      "0 7 7 False\n",
      "1 1 7 False\n",
      "2 2 1 True\n",
      "3 4 2 True\n",
      "4 0 4 False\n",
      "5 5 0 True\n",
      "6 6 5 True\n",
      "7 9 6 True\n",
      "8 8 9 False\n",
      "9 3 8 False\n",
      "target 7\n",
      "9\n",
      "8\n",
      "3\n"
     ]
    }
   ],
   "source": [
    "# 다른 방법,,개선-2 _테스트\n",
    "\n",
    "def get_next_permutation(string):\n",
    "    print(string)\n",
    "    target = 0\n",
    "    for i,v in enumerate(zip(string,string[0]+string[0:9])):\n",
    "        print(i,v[0],v[1],v[0]>v[1])\n",
    "        if v[0] > v[1]:\n",
    "            target = i\n",
    "    print(\"target\",target)\n",
    "    for i in string[target:]:\n",
    "        print(i)\n",
    "get_next_permutation(\"7124056983\")"
   ]
  },
  {
   "cell_type": "code",
   "execution_count": 137,
   "metadata": {},
   "outputs": [
    {
     "name": "stdout",
     "output_type": "stream",
     "text": [
      "7124056983\n",
      "3896504217\n",
      "8965042177\n",
      "3 8 False\n",
      "8 9 False\n",
      "9 6 True\n",
      "target: 9\n"
     ]
    }
   ],
   "source": [
    "# 다른 방법,,개선-2 _테스트2\n",
    "\n",
    "def get_next_permutation(string):\n",
    "    print(string)\n",
    "    string = string[::-1]\n",
    "    print(string)\n",
    "    string_cmp = string[1:]+string[9]\n",
    "    print(string_cmp)\n",
    "    target = ''\n",
    "    for i,j in zip(string,string_cmp):\n",
    "        print(i,j,i>j)\n",
    "        if i>j:\n",
    "            target = j\n",
    "            break\n",
    "    print(\"target:\",target)\n",
    "    \n",
    "get_next_permutation(\"7124056983\")"
   ]
  },
  {
   "cell_type": "code",
   "execution_count": 150,
   "metadata": {},
   "outputs": [
    {
     "name": "stdout",
     "output_type": "stream",
     "text": [
      "7124056983\n",
      "3896504217\n",
      "8965042177\n",
      "0 ('3', '8') False\n",
      "1 ('8', '9') False\n",
      "2 ('9', '6') True\n",
      "target: 3 6 6\n"
     ]
    }
   ],
   "source": [
    "# 다른 방법,,개선-2 _테스트2-3\n",
    "\n",
    "def get_next_permutation(string):\n",
    "    print(string)\n",
    "    string = string[::-1]\n",
    "    print(string)\n",
    "    string_cmp = string[1:]+string[9]\n",
    "    print(string_cmp)\n",
    "    target = ''\n",
    "    for i,j in enumerate(zip(string,string_cmp)):\n",
    "        print(i,j,j[0]>j[1])\n",
    "        if j[0]>j[1]:\n",
    "            target = i+1\n",
    "            print(\"target:\",target,j[1],string[i+1])\n",
    "            new_num = \n",
    "            break\n",
    "get_next_permutation(\"7124056983\")"
   ]
  },
  {
   "cell_type": "code",
   "execution_count": 125,
   "metadata": {},
   "outputs": [
    {
     "name": "stdout",
     "output_type": "stream",
     "text": [
      "7124056983\n",
      "target: 6\n"
     ]
    }
   ],
   "source": [
    "# 다른 방법,,개선-2 _테스트2-2\n",
    "\n",
    "def get_next_permutation(string):\n",
    "    print(string)\n",
    "    #string = string[::-1]\n",
    "    #print(string)\n",
    "    #string_cmp = string[9]+string[0:9]\n",
    "    #print(string_cmp)\n",
    "    target = ''\n",
    "    for i,j in zip(string,string[0]+string[0:9]):\n",
    "        #print(i,j,i>j)\n",
    "        if i>j:\n",
    "            target = j\n",
    "    print(\"target:\",target)\n",
    "    \n",
    "get_next_permutation(\"7124056983\")"
   ]
  },
  {
   "cell_type": "code",
   "execution_count": 92,
   "metadata": {},
   "outputs": [
    {
     "name": "stdout",
     "output_type": "stream",
     "text": [
      "0123456987\n",
      "1234569870\n",
      "8\n"
     ]
    }
   ],
   "source": [
    "# 다른 방법,,개선-중단\n",
    "\n",
    "def get_next_permutation(string):\n",
    "    print(string)\n",
    "    string = string[1:]+string[0]\n",
    "    print(string)\n",
    "    for i,v in enumerate(string):\n",
    "        if int(v)>int(string[i+1]):\n",
    "            target = string[i+1]\n",
    "            print(target)\n",
    "            break\n",
    "\n",
    "get_next_permutation('0123456987')"
   ]
  },
  {
   "cell_type": "code",
   "execution_count": 61,
   "metadata": {},
   "outputs": [
    {
     "data": {
      "text/plain": [
       "[range(1, 5)]"
      ]
     },
     "execution_count": 61,
     "metadata": {},
     "output_type": "execute_result"
    }
   ],
   "source": [
    "test = [range(1,5)]\n",
    "test[::-1]"
   ]
  },
  {
   "cell_type": "code",
   "execution_count": null,
   "metadata": {},
   "outputs": [],
   "source": [
    "\n",
    "\n",
    "\n",
    "\n",
    "\n",
    "\n",
    "\n",
    "\n",
    "\n",
    "\n",
    "\n",
    "\n",
    "\n",
    "\n",
    "\n",
    "\n",
    "\n",
    "\n",
    "\n",
    "\n",
    "\n",
    "\n",
    "\n",
    "\n",
    "\n",
    "\n",
    "\n",
    "\n",
    "\n",
    "\n",
    "\n",
    "\n",
    "\n",
    "\n",
    "\n",
    "\n",
    "\n",
    "\n",
    "\n"
   ]
  }
 ],
 "metadata": {
  "kernelspec": {
   "display_name": "Python 3",
   "language": "python",
   "name": "python3"
  },
  "language_info": {
   "codemirror_mode": {
    "name": "ipython",
    "version": 3
   },
   "file_extension": ".py",
   "mimetype": "text/x-python",
   "name": "python",
   "nbconvert_exporter": "python",
   "pygments_lexer": "ipython3",
   "version": "3.6.2"
  }
 },
 "nbformat": 4,
 "nbformat_minor": 1
}
