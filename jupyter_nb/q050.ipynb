{
 "cells": [
  {
   "cell_type": "markdown",
   "metadata": {},
   "source": [
    "# q050 Consecutive prime sum\n"
   ]
  },
  {
   "cell_type": "code",
   "execution_count": 14,
   "metadata": {},
   "outputs": [
    {
     "name": "stdout",
     "output_type": "stream",
     "text": [
      "1 2 2\n",
      "----\n",
      "2 3 5\n",
      "----\n",
      "3 5 10\n",
      "4 7 17\n",
      "----\n",
      "5 11 28\n",
      "6 13 41\n",
      "----\n",
      "7 17 58\n",
      "8 19 77\n",
      "9 23 100\n",
      "10 29 129\n",
      "11 31 160\n",
      "12 37 197\n",
      "----\n",
      "13 41 238\n",
      "14 43 281\n",
      "----\n",
      "15 47 328\n",
      "16 53 381\n",
      "17 59 440\n",
      "18 61 501\n",
      "19 67 568\n",
      "20 71 639\n",
      "21 73 712\n",
      "22 79 791\n",
      "23 83 874\n",
      "24 89 963\n",
      "25 97 1060\n"
     ]
    }
   ],
   "source": [
    "def is_prime(num):\n",
    "    if num==1:\n",
    "        return False\n",
    "    loop=num**0.5\n",
    "    i=2\n",
    "    while i<=loop:\n",
    "        if num%i==0:\n",
    "            return False\n",
    "        i+=1\n",
    "    return True\n",
    "\n",
    "i=1\n",
    "count=0\n",
    "total=0\n",
    "while total<964:\n",
    "    if is_prime(i):\n",
    "        count +=1\n",
    "        total +=i\n",
    "        print(count,i,total)\n",
    "        if is_prime(total):\n",
    "            print(\"----\")\n",
    "    i+=1"
   ]
  },
  {
   "cell_type": "code",
   "execution_count": 18,
   "metadata": {},
   "outputs": [
    {
     "name": "stdout",
     "output_type": "stream",
     "text": [
      "1 2 2\n",
      "2 3 5\n",
      "4 7 17\n",
      "6 13 41\n",
      "12 37 197\n",
      "14 43 281\n",
      "60 281 7699\n",
      "64 311 8893\n",
      "96 503 22039\n",
      "100 541 24133\n",
      "102 557 25237\n",
      "108 593 28697\n",
      "114 619 32353\n",
      "122 673 37561\n",
      "124 683 38921\n",
      "130 733 43201\n",
      "132 743 44683\n",
      "146 839 55837\n",
      "152 881 61027\n",
      "158 929 66463\n",
      "162 953 70241\n",
      "178 1061 86453\n",
      "192 1163 102001\n",
      "198 1213 109147\n",
      "204 1249 116533\n",
      "206 1277 119069\n",
      "208 1283 121631\n",
      "214 1307 129419\n",
      "216 1321 132059\n",
      "296 1949 263171\n",
      "308 2029 287137\n",
      "326 2161 325019\n",
      "328 2203 329401\n",
      "330 2213 333821\n",
      "332 2237 338279\n",
      "334 2243 342761\n",
      "342 2297 360979\n",
      "350 2357 379667\n",
      "356 2393 393961\n",
      "358 2411 398771\n",
      "426 2957 581921\n",
      "446 3137 642869\n",
      "458 3251 681257\n",
      "460 3257 687767\n",
      "464 3301 700897\n",
      "480 3413 754573\n",
      "484 3461 768373\n",
      "488 3491 782263\n",
      "512 3671 868151\n",
      "530 3821 935507\n",
      "536 3863 958577\n",
      "548 3947 1005551\n",
      "568 4129 1086557\n"
     ]
    }
   ],
   "source": [
    "def is_prime(num):\n",
    "    if num==1:\n",
    "        return False\n",
    "    loop=num**0.5\n",
    "    i=2\n",
    "    while i<=loop:\n",
    "        if num%i==0:\n",
    "            return False\n",
    "        i+=1\n",
    "    return True\n",
    "\n",
    "i=1\n",
    "count=0\n",
    "total=0\n",
    "while total<1100000:\n",
    "    if is_prime(i):\n",
    "        count +=1\n",
    "        total +=i\n",
    "        if is_prime(total):\n",
    "            print(count,i,total)\n",
    "    i+=1"
   ]
  }
 ],
 "metadata": {
  "kernelspec": {
   "display_name": "Python 3",
   "language": "python",
   "name": "python3"
  },
  "language_info": {
   "codemirror_mode": {
    "name": "ipython",
    "version": 3
   },
   "file_extension": ".py",
   "mimetype": "text/x-python",
   "name": "python",
   "nbconvert_exporter": "python",
   "pygments_lexer": "ipython3",
   "version": "3.5.2"
  }
 },
 "nbformat": 4,
 "nbformat_minor": 2
}
