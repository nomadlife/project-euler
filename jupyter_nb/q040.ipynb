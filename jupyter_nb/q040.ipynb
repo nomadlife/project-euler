{
 "cells": [
  {
   "cell_type": "markdown",
   "metadata": {},
   "source": [
    "# Q040 Champernowne's constant\n",
    "\n",
    "\n",
    "An irrational decimal fraction is created by concatenating the positive integers:\n",
    "\n",
    "0.123456789101112131415161718192021...\n",
    "\n",
    "It can be seen that the 12th digit of the fractional part is 1.\n",
    "\n",
    "If dn represents the nth digit of the fractional part, find the value of the following expression.\n",
    "\n",
    "d1 × d10 × d100 × d1000 × d10000 × d100000 × d1000000\n"
   ]
  },
  {
   "cell_type": "code",
   "execution_count": 2,
   "metadata": {
    "scrolled": true
   },
   "outputs": [
    {
     "name": "stdout",
     "output_type": "stream",
     "text": [
      "1\n",
      "12\n",
      "123\n",
      "1234\n",
      "12345\n",
      "123456\n",
      "1234567\n",
      "12345678\n",
      "123456789\n",
      "12345678910\n",
      "1234567891011\n",
      "123456789101112\n",
      "12345678910111213\n",
      "1234567891011121314\n",
      "123456789101112131415\n",
      "12345678910111213141516\n",
      "1234567891011121314151617\n",
      "123456789101112131415161718\n",
      "12345678910111213141516171819\n",
      "1234567891011121314151617181920\n",
      "123456789101112131415161718192021\n",
      "12345678910111213141516171819202122\n",
      "1234567891011121314151617181920212223\n",
      "123456789101112131415161718192021222324\n",
      "12345678910111213141516171819202122232425\n",
      "1234567891011121314151617181920212223242526\n",
      "123456789101112131415161718192021222324252627\n",
      "12345678910111213141516171819202122232425262728\n",
      "1234567891011121314151617181920212223242526272829\n",
      "123456789101112131415161718192021222324252627282930\n",
      "12345678910111213141516171819202122232425262728293031\n",
      "1234567891011121314151617181920212223242526272829303132\n",
      "123456789101112131415161718192021222324252627282930313233\n",
      "12345678910111213141516171819202122232425262728293031323334\n",
      "1234567891011121314151617181920212223242526272829303132333435\n",
      "123456789101112131415161718192021222324252627282930313233343536\n",
      "12345678910111213141516171819202122232425262728293031323334353637\n",
      "1234567891011121314151617181920212223242526272829303132333435363738\n",
      "123456789101112131415161718192021222324252627282930313233343536373839\n",
      "12345678910111213141516171819202122232425262728293031323334353637383940\n",
      "1234567891011121314151617181920212223242526272829303132333435363738394041\n",
      "123456789101112131415161718192021222324252627282930313233343536373839404142\n",
      "12345678910111213141516171819202122232425262728293031323334353637383940414243\n",
      "1234567891011121314151617181920212223242526272829303132333435363738394041424344\n",
      "123456789101112131415161718192021222324252627282930313233343536373839404142434445\n",
      "12345678910111213141516171819202122232425262728293031323334353637383940414243444546\n",
      "1234567891011121314151617181920212223242526272829303132333435363738394041424344454647\n",
      "123456789101112131415161718192021222324252627282930313233343536373839404142434445464748\n",
      "12345678910111213141516171819202122232425262728293031323334353637383940414243444546474849\n",
      "1234567891011121314151617181920212223242526272829303132333435363738394041424344454647484950\n",
      "123456789101112131415161718192021222324252627282930313233343536373839404142434445464748495051\n",
      "12345678910111213141516171819202122232425262728293031323334353637383940414243444546474849505152\n",
      "1234567891011121314151617181920212223242526272829303132333435363738394041424344454647484950515253\n",
      "123456789101112131415161718192021222324252627282930313233343536373839404142434445464748495051525354\n",
      "12345678910111213141516171819202122232425262728293031323334353637383940414243444546474849505152535455\n"
     ]
    }
   ],
   "source": [
    "# concatenating, ~ 100 digit\n",
    "i=1;string=''\n",
    "while len(string)<100: \n",
    "    string += str(i)\n",
    "    print(string)\n",
    "    i+=1"
   ]
  },
  {
   "cell_type": "code",
   "execution_count": 4,
   "metadata": {
    "scrolled": true
   },
   "outputs": [
    {
     "name": "stdout",
     "output_type": "stream",
     "text": [
      "123456789101112131415161718192021222324252627282930313233343536373839404142434445464748495051525354555657585960616263646566676869707172737475767778798081828384858687888990919293949596979899100101102103104105106107108109110111112113114115116117118119120121122123124125126127128129130131132133134135136137138139140141142143144145146147148149150151152153154155156157158159160161162163164165166167168169170171172173174175176177178179180181182183184185186187188189190191192193194195196197198199200201202203204205206207208209210211212213214215216217218219220221222223224225226227228229230231232233234235236237238239240241242243244245246247248249250251252253254255256257258259260261262263264265266267268269270271272273274275276277278279280281282283284285286287288289290291292293294295296297298299300301302303304305306307308309310311312313314315316317318319320321322323324325326327328329330331332333334335336337338339340341342343344345346347348349350351352353354355356357358359360361362363364365366367368369370\n"
     ]
    }
   ],
   "source": [
    "# concatenating, ~1000 digit\n",
    "i=1;string=''\n",
    "while len(string)<1000: \n",
    "    string += str(i)\n",
    "    i+=1\n",
    "print(string)"
   ]
  },
  {
   "cell_type": "code",
   "execution_count": 9,
   "metadata": {},
   "outputs": [
    {
     "name": "stdout",
     "output_type": "stream",
     "text": [
      "1000\n"
     ]
    }
   ],
   "source": [
    "test=str(pow(10,3))\n",
    "print(test)"
   ]
  },
  {
   "cell_type": "code",
   "execution_count": 1,
   "metadata": {
    "scrolled": false
   },
   "outputs": [
    {
     "name": "stdout",
     "output_type": "stream",
     "text": [
      "1 1\n",
      "10 1\n",
      "100 5\n",
      "1000 3\n"
     ]
    }
   ],
   "source": [
    "# extract certain digit\n",
    "i=1;string=''\n",
    "while len(string)<1000: \n",
    "    string += str(i)\n",
    "    i+=1\n",
    "#print(string)\n",
    "for i in range(4):\n",
    "    digit=pow(10,i)\n",
    "    print(digit,string[digit-1])"
   ]
  },
  {
   "cell_type": "code",
   "execution_count": 10,
   "metadata": {
    "scrolled": false
   },
   "outputs": [
    {
     "name": "stdout",
     "output_type": "stream",
     "text": [
      "1 1\n",
      "10 1\n",
      "100 5\n",
      "1000 3\n",
      "10000 7\n",
      "100000 2\n",
      "1000000 1\n",
      "1273512\n"
     ]
    }
   ],
   "source": [
    "# ~1M\n",
    "i=1;string=''\n",
    "while len(string)<1000000: \n",
    "    string += str(i)\n",
    "    i+=1\n",
    "total=1\n",
    "for i in range(7):\n",
    "    digit=pow(10,i)\n",
    "    print(digit,string[digit-1])\n",
    "    total+=int(string[digit-1])*digit\n",
    "print(total)"
   ]
  },
  {
   "cell_type": "code",
   "execution_count": null,
   "metadata": {
    "collapsed": true
   },
   "outputs": [],
   "source": [
    "#forum-1\n",
    "from itertools import count\n",
    "\n",
    "target,end,p,i = 1,1,1,0\n",
    "\n",
    "while target <= 1000000:\n",
    "    for i in count(i+1):\n",
    "        start = end\n",
    "        end = start + len(str(i))\n",
    "        if start <= target < end:\n",
    "            p *= int(str(i)[target-start])\n",
    "            target *= 10\n",
    "            break\n",
    "print p"
   ]
  },
  {
   "cell_type": "code",
   "execution_count": null,
   "metadata": {
    "collapsed": true
   },
   "outputs": [],
   "source": [
    "#forum-2\n",
    "my $product = 1;\n",
    "\n",
    "for (my $j = 0; $j < 7; $j++) {\n",
    "\t$product *= d(10**$j);\n",
    "}\n",
    "print \"$product\\n\";\n",
    "\n",
    "sub d {\n",
    "\tmy ($j) = @_;\n",
    "\tmy $n = 0; my $chk = 0; my $l = 0;\n",
    "\twhile (!$chk) { if (cs(++$n) > $j) { $chk = 1; } }\n",
    "\tfor (my $i = 1; $i < $n; $i++) { $l += cs($i); }\n",
    "\tmy $k = $j - $l;\n",
    "\treturn (int((10**($n-1))+int(($k-1)/$n))/(10**(($n-($k%$n))%$n)))%10;\n",
    "}\n",
    "\n",
    "sub cs {\n",
    "\tmy ($num) =  @_;\n",
    "\treturn 9*$num*(10**($num - 1));\n",
    "}"
   ]
  },
  {
   "cell_type": "code",
   "execution_count": null,
   "metadata": {
    "collapsed": true
   },
   "outputs": [],
   "source": [
    "#forum-3\n",
    "def p40():\n",
    "    d = ''\n",
    "    for x in xrange(500005):\n",
    "        d += str(x)\n",
    "\n",
    "    mul = 1\n",
    "    for n in xrange(7):\n",
    "        mul *= ord(d[10 ** n]) - ord('0')\n",
    "\n",
    "    return mul"
   ]
  },
  {
   "cell_type": "code",
   "execution_count": null,
   "metadata": {
    "collapsed": true
   },
   "outputs": [],
   "source": [
    "#forum-4\n",
    "import time\n",
    "\n",
    "def result(n):\n",
    "    constant = \"\"\n",
    "\n",
    "    final_result = 1\n",
    "    numbers      = 0\n",
    "    nth_digit    = 1\n",
    "\n",
    "    while len(constant) <= n:\n",
    "        constant += str(numbers)\n",
    "        numbers  += 1\n",
    "\n",
    "    while nth_digit <= n:\n",
    "        final_result *= int(constant[nth_digit])\n",
    "        nth_digit    *= 10\n",
    "\n",
    "    return final_result\n",
    "\n",
    "start_time = time.time()\n",
    "\n",
    "print(result(1000000))\n",
    "print(\"{} ms\".format(round(1000 * (time.time() - start_time))))"
   ]
  },
  {
   "cell_type": "code",
   "execution_count": null,
   "metadata": {
    "collapsed": true
   },
   "outputs": [],
   "source": [
    "#forum-5\n",
    "def main(ten_to_the_power_of):\n",
    "    result = 1\n",
    "    for n in range(ten_to_the_power_of + 1):\n",
    "        index = champernowne(10 ** n)\n",
    "        result *= champernowne(index)\n",
    "    return result\n",
    "\n",
    "\n",
    "def champernowne(index):\n",
    "    the_number = \"\"\n",
    "    counter = 1\n",
    "    while len(the_number) < index:\n",
    "        the_number += str(counter)\n",
    "        counter += 1\n",
    "    return int(the_number[index - 1])\n",
    "\n",
    "\n",
    "print(main(6))"
   ]
  },
  {
   "cell_type": "code",
   "execution_count": null,
   "metadata": {
    "collapsed": true
   },
   "outputs": [],
   "source": [
    "#forum-6\n",
    "c = \".\"\n",
    "\n",
    "i = 1\n",
    "\n",
    "while len(c) < 1000001:\n",
    "    c += str(i)\n",
    "    i += 1\n",
    "\n",
    "print(int(c[1]) * int(c[10]) * int(c[100]) * int(c[1000]) * int(c[10000]) * int(c[100000]) * int(c[1000000]))"
   ]
  },
  {
   "cell_type": "code",
   "execution_count": null,
   "metadata": {
    "collapsed": true
   },
   "outputs": [],
   "source": [
    "#forum-7\n",
    "import time\n",
    "indexes = [1,10,100,1000,10000,100000,1000000]\n",
    "register = ''\n",
    "counter = 1\n",
    "total = 1\n",
    "while len(register) < 1000000:\n",
    "\tregister = register+str(counter)\n",
    "\tcounter += 1\n",
    "start = time.time()\n",
    "for i in range(7):\n",
    "\ttotal = total * (int(register[indexes[i]-1]))\n",
    "end = time.time() - start\n",
    "print(total,end)"
   ]
  },
  {
   "cell_type": "code",
   "execution_count": null,
   "metadata": {
    "collapsed": true
   },
   "outputs": [],
   "source": [
    "#forum-8\n",
    "def champernowne():\n",
    "    n = 1\n",
    "    while True:\n",
    "        for d in str(n):\n",
    "            yield d\n",
    "        n += 1\n",
    "\n",
    "ch = champernowne()\n",
    "product = 1\n",
    "for i in range(1, 1000001):\n",
    "    if i in [1, 10, 100, 1000, 10000, 100000, 1000000]:\n",
    "        product *= int(ch.__next__())\n",
    "    else:\n",
    "        ch.__next__()\n",
    "print(product)"
   ]
  },
  {
   "cell_type": "code",
   "execution_count": null,
   "metadata": {
    "collapsed": true
   },
   "outputs": [],
   "source": [
    "#forum-9\n",
    "import time\n",
    "from operator import mul\n",
    "from functools import reduce\n",
    "\n",
    "cache = {}\n",
    "\n",
    "def total_digits(n):\n",
    "    '''Returns the total digit number of all n-digit numbers.'''\n",
    "    if n in cache:\n",
    "        return cache[n]\n",
    "    total = 9*10**(n-1) * n\n",
    "    cache[n] = total\n",
    "    return total\n",
    "\n",
    "def n_th_digit(n):\n",
    "    '''Returns the n-th digit of the sequence of all natural numbers\n",
    "    written in ascending order.\n",
    "    '''\n",
    "    assert n > 0, 'Must be greater than 0'\n",
    "    if n < 10:\n",
    "        return n\n",
    "    digit = 1\n",
    "    while n - total_digits(digit) >= 0:\n",
    "        n -= total_digits(digit)\n",
    "        digit += 1\n",
    "    q = n // (digit)\n",
    "    r = n % (digit)\n",
    "    Q = 10**(digit-1) + q\n",
    "    if r > 0:\n",
    "        return int(str(Q)[r-1])\n",
    "    else:\n",
    "        int(str(Q-1)[-1])\n",
    "\n",
    "def solve():\n",
    "    positions = [10**i for i in range(7)]\n",
    "    results = [n_th_digit(p) for p in positions]\n",
    "    print(results)\n",
    "    return reduce(mul, results, 1)\n",
    "\n",
    "start = time.time()\n",
    "print(solve())\n",
    "end = time.time()\n",
    "print('finished, used {} seconds'.format(end - start))"
   ]
  },
  {
   "cell_type": "code",
   "execution_count": null,
   "metadata": {
    "collapsed": true
   },
   "outputs": [],
   "source": [
    "#forum-10\n",
    "import time\n",
    "\n",
    "def intGen():\n",
    "    i = 0\n",
    "    cnt = 0\n",
    "    lim = 1\n",
    "    while True:\n",
    "        i+=1\n",
    "        if cnt + len(str(i))>=lim:\n",
    "            for c in str(i):\n",
    "                cnt+=1\n",
    "                if (cnt == lim):\n",
    "                    yield c\n",
    "                    lim*=10\n",
    "        else:\n",
    "            cnt+=len(str(i))\n",
    "\n",
    "def main():\n",
    "    start_time = time.time()\n",
    "    pr = 1\n",
    "    cnt = 0\n",
    "    for i in intGen():\n",
    "        print(i)\n",
    "        pr*=int(i)\n",
    "        cnt+=1\n",
    "        if cnt >= 7:\n",
    "            break\n",
    "    print(pr)\n",
    "    print(\"Elapced time is: {}ms\".format(round(1000*(time.time()-start_time))))\n",
    "\n",
    "main()"
   ]
  },
  {
   "cell_type": "code",
   "execution_count": null,
   "metadata": {
    "collapsed": true
   },
   "outputs": [],
   "source": [
    "#forum-11\n",
    "a=1\n",
    "n = 0\n",
    "e = [1, 10, 100, 1000, 10000, 100000, 1000000]\n",
    "for i in range(1, 200000):\n",
    "    for d in str(i):\n",
    "        n += 1\n",
    "        if n in e:\n",
    "            a=a*int(d)\n",
    "print(a)"
   ]
  },
  {
   "cell_type": "code",
   "execution_count": null,
   "metadata": {
    "collapsed": true
   },
   "outputs": [],
   "source": [
    "#forum-12\n",
    "from functools import reduce\n",
    "d = \"\".join([str(n) for n in range(1,10**6)])\n",
    "dn = map(lambda s:int(s), [d[n-1] for n in [10**N for N in range(6)]])\n",
    "reduce(lambda p,n:p*n, dn, 1)"
   ]
  },
  {
   "cell_type": "code",
   "execution_count": null,
   "metadata": {
    "collapsed": true
   },
   "outputs": [],
   "source": [
    "#forum-13\n",
    "def d(n):\n",
    "    fraction = \"\"\n",
    "    for x in range(1,n+1):\n",
    "        fraction += str(x)\n",
    "\n",
    "    return int(fraction[n-1])\n",
    "print(d(1000000)*d(100000)*d(10000)*d(1000)*d(100)*d(10)*d(1))"
   ]
  }
 ],
 "metadata": {
  "kernelspec": {
   "display_name": "Python 3",
   "language": "python",
   "name": "python3"
  },
  "language_info": {
   "codemirror_mode": {
    "name": "ipython",
    "version": 3
   },
   "file_extension": ".py",
   "mimetype": "text/x-python",
   "name": "python",
   "nbconvert_exporter": "python",
   "pygments_lexer": "ipython3",
   "version": "3.6.4"
  }
 },
 "nbformat": 4,
 "nbformat_minor": 2
}
