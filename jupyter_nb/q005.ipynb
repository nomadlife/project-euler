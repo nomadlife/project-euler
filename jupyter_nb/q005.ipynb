{
 "cells": [
  {
   "cell_type": "markdown",
   "metadata": {
    "collapsed": true
   },
   "source": [
    "# Q005 Smallest multiple\n",
    "\n",
    "2520 is the smallest number that can be divided by each of the numbers from 1 to 10 without any remainder.\n",
    "What is the smallest positive number that is evenly divisible by all of the numbers from 1 to 20?\n",
    "\n",
    "1~20까지 공통의 배수, 최소공배수를 구하는 문제입니다.\n",
    "최소공배수는 최대공약수를 먼저 계산하면 쉽게 찾을수 있습니다.\n",
    "두수 A,B의 최대공약수를 G라 하면, A = Ga, B=Gb 이고,\n",
    "최소공배수는 Gab(또는 A*B/G) 가 됩니다.\n",
    "\n",
    "1. 스텝마다, 최대공약수(GCD)를 먼저 찾은후, A*B/G 를 이용하여, 최소공배수를 찾습니다.\n",
    "2. 1~20 까지 순차적으로 직전 최소공배수(LCM)와 다음수의 최소공배수를 구해갑니다."
   ]
  },
  {
   "cell_type": "code",
   "execution_count": 1,
   "metadata": {
    "scrolled": true
   },
   "outputs": [
    {
     "name": "stdout",
     "output_type": "stream",
     "text": [
      "1 1 1.0\n",
      "2 1 2.0\n",
      "3 1 6.0\n",
      "4 1 24.0\n",
      "5 1 120.0\n",
      "6 1 720.0\n",
      "7 1 5040.0\n",
      "8 1 40320.0\n",
      "9 1 362880.0\n",
      "10 1 3628800.0\n",
      "11 1 39916800.0\n",
      "12 1 479001600.0\n",
      "13 1 6227020800.0\n",
      "14 1 87178291200.0\n",
      "15 1 1307674368000.0\n",
      "16 1 20922789888000.0\n",
      "17 1 355687428096000.0\n",
      "18 1 6402373705728000.0\n",
      "19 1 1.21645100408832e+17\n",
      "20 1 2.43290200817664e+18\n"
     ]
    }
   ],
   "source": [
    "#루프문 작성\n",
    "\n",
    "def getGCD(num1,num2):\n",
    "    return 1\n",
    "\n",
    "lcm=1\n",
    "for i in range(1,21):\n",
    "    gcd = getGCD(lcm,i)\n",
    "    lcm = lcm*i/gcd\n",
    "    print(i,gcd,lcm)"
   ]
  },
  {
   "cell_type": "code",
   "execution_count": 6,
   "metadata": {},
   "outputs": [
    {
     "name": "stdout",
     "output_type": "stream",
     "text": [
      "1 1 1.0\n",
      "2 1 2.0\n",
      "3 1 6.0\n",
      "4 2 12.0\n",
      "5 1 60.0\n",
      "6 6 60.0\n",
      "7 1 420.0\n",
      "8 4 840.0\n",
      "9 3 2520.0\n",
      "10 10 2520.0\n",
      "11 1 27720.0\n",
      "12 12 27720.0\n",
      "13 1 360360.0\n",
      "14 14 360360.0\n",
      "15 15 360360.0\n",
      "16 8 720720.0\n",
      "17 1 12252240.0\n",
      "18 18 12252240.0\n",
      "19 1 232792560.0\n",
      "20 20 232792560.0\n"
     ]
    }
   ],
   "source": [
    "# 최대공약수 계산\n",
    "\n",
    "def getGCD(num1,num2):\n",
    "    for j in range(1,num2+1):\n",
    "        if num1%j==0 and num2%j==0:\n",
    "            g=j\n",
    "    return g\n",
    "\n",
    "lcm=1\n",
    "for i in range(1,21):\n",
    "    gcd = getGCD(lcm,i)\n",
    "    lcm = lcm*i/gcd\n",
    "    print(i,gcd,lcm)"
   ]
  }
 ],
 "metadata": {
  "kernelspec": {
   "display_name": "Python 3",
   "language": "python",
   "name": "python3"
  },
  "language_info": {
   "codemirror_mode": {
    "name": "ipython",
    "version": 3
   },
   "file_extension": ".py",
   "mimetype": "text/x-python",
   "name": "python",
   "nbconvert_exporter": "python",
   "pygments_lexer": "ipython3",
   "version": "3.5.1"
  }
 },
 "nbformat": 4,
 "nbformat_minor": 2
}
