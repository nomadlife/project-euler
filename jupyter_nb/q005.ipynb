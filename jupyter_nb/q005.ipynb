{
 "cells": [
  {
   "cell_type": "markdown",
   "metadata": {
    "collapsed": true
   },
   "source": [
    "# Q005 Smallest multiple\n",
    "\n",
    "2520 is the smallest number that can be divided by each of the numbers from 1 to 10 without any remainder.\n",
    "What is the smallest positive number that is evenly divisible by all of the numbers from 1 to 20?\n",
    "\n",
    "1~20까지 공통의 배수, 최소공배수를 구하는 문제입니다.<br>\n",
    "\n",
    "방법 1 : 루프를 돌면서, 매숫자마다 1~20까지를 다 나눠 보면 됩니다.\n",
    "방법 2 : 수학 공식을 이용하는 방법<br>\n",
    "두수 A,B의 최대공약수를 G라 하면, A = Ga, B=Gb 이고,<br>\n",
    "최소공배수는 Gab(또는 A*B/G) 가 됩니다.<br>\n",
    "1~20까지 순차적으로 최소공배수를 계산하면, 최종결과는 1~20까지의 모든수의 최소공배수가 됩니다."
   ]
  },
  {
   "cell_type": "code",
   "execution_count": null,
   "metadata": {},
   "outputs": [],
   "source": [
    "# 방법1\n"
   ]
  },
  {
   "cell_type": "code",
   "execution_count": 13,
   "metadata": {
    "scrolled": true
   },
   "outputs": [
    {
     "name": "stdout",
     "output_type": "stream",
     "text": [
      "1 1\n",
      "2 2\n",
      "3 6\n",
      "4 24\n",
      "5 120\n",
      "6 720\n",
      "7 5040\n",
      "8 40320\n",
      "9 362880\n",
      "10 3628800\n",
      "11 39916800\n",
      "12 479001600\n",
      "13 6227020800\n",
      "14 87178291200\n",
      "15 1307674368000\n"
     ]
    }
   ],
   "source": [
    "# 방법2\n",
    "# 1부터 20까지 다 곱하기.\n",
    "\n",
    "lcm=1\n",
    "i=1\n",
    "while i <= 15:\n",
    "    lcm = lcm*i\n",
    "    print(i,lcm)\n",
    "    i+=1"
   ]
  },
  {
   "cell_type": "code",
   "execution_count": 2,
   "metadata": {
    "scrolled": true
   },
   "outputs": [
    {
     "name": "stdout",
     "output_type": "stream",
     "text": [
      "1 1 1.0\n",
      "2 1 2.0\n",
      "3 1 6.0\n",
      "4 1 24.0\n",
      "5 1 120.0\n",
      "6 1 720.0\n",
      "7 1 5040.0\n",
      "8 1 40320.0\n",
      "9 1 362880.0\n",
      "10 1 3628800.0\n",
      "11 1 39916800.0\n",
      "12 1 479001600.0\n",
      "13 1 6227020800.0\n",
      "14 1 87178291200.0\n",
      "15 1 1307674368000.0\n"
     ]
    }
   ],
   "source": [
    "# 각 단계별로 대공약수를 찾아서 나누어 주면, 각 단계별 최소공배수가 됨.\n",
    "# 최대공약수는 일단 1로 고정.\n",
    "\n",
    "def get_gcd(num1,num2):\n",
    "    return 1\n",
    "\n",
    "lcm=1\n",
    "i=1\n",
    "while i <= 15:\n",
    "    gcd = get_gcd(lcm,i)\n",
    "    lcm = lcm*i/gcd\n",
    "    print(i,gcd,lcm)\n",
    "    i+=1"
   ]
  },
  {
   "cell_type": "code",
   "execution_count": 1,
   "metadata": {},
   "outputs": [
    {
     "name": "stdout",
     "output_type": "stream",
     "text": [
      "1 1 1.0\n",
      "2 1 2.0\n",
      "3 1 6.0\n",
      "4 2 12.0\n",
      "5 1 60.0\n",
      "6 6 60.0\n",
      "7 1 420.0\n",
      "8 4 840.0\n",
      "9 3 2520.0\n",
      "10 10 2520.0\n",
      "11 1 27720.0\n",
      "12 12 27720.0\n",
      "13 1 360360.0\n",
      "14 14 360360.0\n",
      "15 15 360360.0\n",
      "16 8 720720.0\n",
      "17 1 12252240.0\n",
      "18 18 12252240.0\n",
      "19 1 232792560.0\n",
      "20 20 232792560.0\n"
     ]
    }
   ],
   "source": [
    "# 최대공약수 계산 함수\n",
    "\n",
    "def get_gcd(num1,num2):\n",
    "    i=1\n",
    "    while i <= num2:\n",
    "        if num1%i==0 and num2%i==0:\n",
    "            gcd=i\n",
    "        i+=1\n",
    "    return gcd\n",
    "\n",
    "lcm=1\n",
    "i=1\n",
    "while i <= 20:\n",
    "    gcd = get_gcd(lcm,i)\n",
    "    lcm = lcm*i/gcd\n",
    "    print(i,gcd,lcm)\n",
    "    i+=1"
   ]
  },
  {
   "cell_type": "code",
   "execution_count": 1,
   "metadata": {},
   "outputs": [
    {
     "name": "stdout",
     "output_type": "stream",
     "text": [
      "{2: 3, 3: 2, 5: 1, 7: 1}\n",
      "10: 2520\n",
      "{19: 1, 17: 1, 2: 4, 3: 2, 5: 1, 7: 1, 11: 1, 13: 1}\n",
      "20: 232792560\n"
     ]
    }
   ],
   "source": [
    "# forum -1\n",
    "\n",
    "# 2520 is the smallest number that can be divided by each of the numbers from 1 to 10 without any remainder.\n",
    "# What is the smallest positive number that is evenly divisible by all of the numbers from 1 to 20?\n",
    "\n",
    "from sympy import factorint\n",
    "from functools import reduce\n",
    "from operator import mul\n",
    "\n",
    "def smallest_evenly_divisible(n):\n",
    "    #return smallest number evenly divisible by first n integers\n",
    "\n",
    "    #    approach: factor each of the first n integers and find the maximum\n",
    "    #    count of each prime accross all factorings.\n",
    "    \n",
    "    divisors = {}\n",
    "    for i in range(n, 1, -1):\n",
    "        for f,m in factorint(i).items():\n",
    "            if f in divisors:\n",
    "                divisors[f] = max(divisors[f], m)\n",
    "            else:\n",
    "                divisors[f] = m\n",
    "    print(divisors)\n",
    "    return reduce(lambda accum, x: accum * x**divisors[x], divisors, 1)\n",
    "\n",
    "for n in 10, 20:\n",
    "    print(\"{}: {}\".format(n, smallest_evenly_divisible(n)))\n",
    "    "
   ]
  },
  {
   "cell_type": "code",
   "execution_count": 12,
   "metadata": {},
   "outputs": [
    {
     "name": "stdout",
     "output_type": "stream",
     "text": [
      "dict_items([(2, 2), (5, 1)])\n"
     ]
    },
    {
     "data": {
      "text/plain": [
       "{2: 1, 5: 1}"
      ]
     },
     "execution_count": 12,
     "metadata": {},
     "output_type": "execute_result"
    }
   ],
   "source": [
    "i=20\n",
    "print(factorint(i).items())\n",
    "factorint(10)"
   ]
  },
  {
   "cell_type": "code",
   "execution_count": 7,
   "metadata": {},
   "outputs": [
    {
     "data": {
      "text/plain": [
       "232792560"
      ]
     },
     "execution_count": 7,
     "metadata": {},
     "output_type": "execute_result"
    }
   ],
   "source": [
    "# forum-2\n",
    "\n",
    "from functools import reduce\n",
    "\n",
    "def problem_5():\n",
    "    n = reduce(lambda x, y: x*y, range(2,21))\n",
    "    for i in range(20,1,-1):\n",
    "        if all(not n/i%j for j in range(2,21)):\n",
    "            n = n//i\n",
    "    return n\n",
    "\n",
    "problem_5()"
   ]
  },
  {
   "cell_type": "code",
   "execution_count": 8,
   "metadata": {},
   "outputs": [
    {
     "name": "stdout",
     "output_type": "stream",
     "text": [
      "232792560\n"
     ]
    }
   ],
   "source": [
    "# forum -3\n",
    "# Project Euler - Problem 005\n",
    "# Smallest multiple: What is the smallest positive number that is evenly\n",
    "# divisible by all of the numbers from 1 to 20?\n",
    "\n",
    "# 1. I look for all the primes under 20\n",
    "primi = [2]\n",
    "i = 3\n",
    "while i < 20:\n",
    "    k = 2\n",
    "    check = 0\n",
    "    while k < i:\n",
    "        if i % k == 0:\n",
    "            check = 1\n",
    "            break\n",
    "        else:\n",
    "            check = 0\n",
    "        k = k +1\n",
    "    if check == 0:\n",
    "        primi.append(i)\n",
    "    i = i+1\n",
    "\n",
    "# 2. I multiply them all (=prod)\n",
    "prod = 1\n",
    "for m in range (0,len(primi)):\n",
    "    prod = prod * primi[m]\n",
    "    m = m +1\n",
    "# 3. I check every multiple of the prod to see if it is\n",
    "# divisible for all the numbers 2-20\n",
    "mult = 1\n",
    "mprod = prod\n",
    "while prod > 0:\n",
    "    check = 0\n",
    "    for k in range(1,21):\n",
    "        if mprod % k == 0:\n",
    "            check = check\n",
    "        else:\n",
    "            check = 1\n",
    "    if check == 0:\n",
    "        print (mprod)\n",
    "        break\n",
    "    else:\n",
    "        mult = mult +1\n",
    "        mprod = prod * mult\n"
   ]
  }
 ],
 "metadata": {
  "kernelspec": {
   "display_name": "Python 3",
   "language": "python",
   "name": "python3"
  },
  "language_info": {
   "codemirror_mode": {
    "name": "ipython",
    "version": 3
   },
   "file_extension": ".py",
   "mimetype": "text/x-python",
   "name": "python",
   "nbconvert_exporter": "python",
   "pygments_lexer": "ipython3",
   "version": "3.5.2"
  }
 },
 "nbformat": 4,
 "nbformat_minor": 2
}
