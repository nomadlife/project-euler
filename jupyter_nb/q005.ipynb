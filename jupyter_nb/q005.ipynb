{
 "cells": [
  {
   "cell_type": "markdown",
   "metadata": {
    "collapsed": true
   },
   "source": [
    "# Q005 Smallest multiple\n",
    "\n",
    "2520 is the smallest number that can be divided by each of the numbers from 1 to 10 without any remainder.\n",
    "What is the smallest positive number that is evenly divisible by all of the numbers from 1 to 20?\n",
    "\n",
    "1~20까지 공통의 배수, 최소공배수를 구하는 문제입니다.<br>\n",
    "\n",
    "방법 1 : 루프를 돌면서, 매숫자마다 1~20까지를 다 나눠 보면 됩니다.\n",
    "방법 2 : 수학 공식을 이용하는 방법<br>\n",
    "두수 A,B의 최대공약수를 G라 하면, A = Ga, B=Gb 이고,<br>\n",
    "최소공배수는 Gab(또는 A*B/G) 가 됩니다.<br>\n",
    "1~20까지 순차적으로 최소공배수를 계산하면, 최종결과는 1~20까지의 모든수의 최소공배수가 됩니다."
   ]
  },
  {
   "cell_type": "code",
   "execution_count": 8,
   "metadata": {},
   "outputs": [
    {
     "name": "stdout",
     "output_type": "stream",
     "text": [
      "6\n",
      "9\n"
     ]
    }
   ],
   "source": [
    "# 방법1 Brute force\n",
    "def get_gcd(num1,num2):\n",
    "    i=1\n",
    "    while i <= num2:\n",
    "        if num1%i==0 and num2%i==0:\n",
    "            gcd=i\n",
    "        i+=1\n",
    "    return gcd\n",
    "\n",
    "print(get_gcd(12,18))\n",
    "print(get_gcd(27,63))"
   ]
  },
  {
   "cell_type": "code",
   "execution_count": 12,
   "metadata": {},
   "outputs": [
    {
     "data": {
      "text/plain": [
       "6"
      ]
     },
     "execution_count": 12,
     "metadata": {},
     "output_type": "execute_result"
    }
   ],
   "source": [
    "import math\n",
    "math.gcd(12,18)"
   ]
  },
  {
   "cell_type": "code",
   "execution_count": 13,
   "metadata": {},
   "outputs": [
    {
     "data": {
      "text/plain": [
       "6"
      ]
     },
     "execution_count": 13,
     "metadata": {},
     "output_type": "execute_result"
    }
   ],
   "source": [
    "import math as m\n",
    "m.gcd(12,18)"
   ]
  },
  {
   "cell_type": "code",
   "execution_count": 15,
   "metadata": {},
   "outputs": [
    {
     "data": {
      "text/plain": [
       "6"
      ]
     },
     "execution_count": 15,
     "metadata": {},
     "output_type": "execute_result"
    }
   ],
   "source": [
    "from math import gcd\n",
    "gcd(12,18)"
   ]
  },
  {
   "cell_type": "code",
   "execution_count": 21,
   "metadata": {},
   "outputs": [
    {
     "data": {
      "text/plain": [
       "0.706825181105366"
      ]
     },
     "execution_count": 21,
     "metadata": {},
     "output_type": "execute_result"
    }
   ],
   "source": [
    "from math import gcd\n",
    "sin(3.14/4)"
   ]
  },
  {
   "cell_type": "code",
   "execution_count": 24,
   "metadata": {
    "scrolled": true
   },
   "outputs": [
    {
     "name": "stdout",
     "output_type": "stream",
     "text": [
      "1 1\n",
      "2 2\n",
      "3 6\n",
      "4 24\n",
      "5 120\n",
      "6 720\n",
      "7 5040\n",
      "8 40320\n",
      "9 362880\n",
      "10 3628800\n",
      "11 39916800\n",
      "12 479001600\n",
      "13 6227020800\n",
      "14 87178291200\n",
      "15 1307674368000\n",
      "16 20922789888000\n",
      "17 355687428096000\n",
      "18 6402373705728000\n",
      "19 121645100408832000\n",
      "20 2432902008176640000\n"
     ]
    }
   ],
   "source": [
    "# 방법2\n",
    "# 1부터 20까지 다 곱하기.\n",
    "\n",
    "lcm=1\n",
    "i=1\n",
    "while i <= 20:\n",
    "    lcm = lcm*i\n",
    "    print(i,lcm)\n",
    "    i+=1"
   ]
  },
  {
   "cell_type": "code",
   "execution_count": 2,
   "metadata": {
    "scrolled": true
   },
   "outputs": [
    {
     "name": "stdout",
     "output_type": "stream",
     "text": [
      "1 1 1.0\n",
      "2 1 2.0\n",
      "3 1 6.0\n",
      "4 1 24.0\n",
      "5 1 120.0\n",
      "6 1 720.0\n",
      "7 1 5040.0\n",
      "8 1 40320.0\n",
      "9 1 362880.0\n",
      "10 1 3628800.0\n",
      "11 1 39916800.0\n",
      "12 1 479001600.0\n",
      "13 1 6227020800.0\n",
      "14 1 87178291200.0\n",
      "15 1 1307674368000.0\n"
     ]
    }
   ],
   "source": [
    "# 각 단계별로 최대공약수를 찾아서 나누어 주면, 각 단계별 최소공배수가 됨.\n",
    "# 최대공약수는 일단 1로 고정\n",
    "\n",
    "def get_gcd(num1,num2):\n",
    "    return 1\n",
    "\n",
    "lcm=1\n",
    "i=1\n",
    "while i <= 15:\n",
    "    gcd = get_gcd(lcm,i)\n",
    "    lcm = lcm*i/gcd\n",
    "    print(i,gcd,lcm)\n",
    "    i+=1"
   ]
  },
  {
   "cell_type": "code",
   "execution_count": 36,
   "metadata": {},
   "outputs": [
    {
     "name": "stdout",
     "output_type": "stream",
     "text": [
      "1 1 1.0\n",
      "2 1 2.0\n",
      "3 1 6.0\n",
      "4 2 12.0\n",
      "5 1 60.0\n",
      "6 6 60.0\n",
      "7 1 420.0\n",
      "8 4 840.0\n",
      "9 3 2520.0\n",
      "10 10 2520.0\n",
      "11 1 27720.0\n",
      "12 12 27720.0\n",
      "13 1 360360.0\n",
      "14 14 360360.0\n",
      "15 15 360360.0\n",
      "16 8 720720.0\n",
      "17 1 12252240.0\n",
      "18 18 12252240.0\n",
      "19 1 232792560.0\n",
      "20 20 232792560.0\n"
     ]
    }
   ],
   "source": [
    "# 최대공약수 계산 함수\n",
    "\n",
    "def get_gcd(num1,num2):\n",
    "    i=1\n",
    "    while i <= num2:\n",
    "        if num1%i==0 and num2%i==0:\n",
    "            gcd=i\n",
    "        i+=1\n",
    "    return gcd\n",
    "\n",
    "lcm=1\n",
    "i=1\n",
    "while i <= 20:\n",
    "    gcd = get_gcd(lcm,i)\n",
    "    lcm = lcm*i/gcd\n",
    "    print(i,gcd,lcm)\n",
    "    i+=1"
   ]
  },
  {
   "cell_type": "code",
   "execution_count": 76,
   "metadata": {},
   "outputs": [
    {
     "name": "stdout",
     "output_type": "stream",
     "text": [
      "1 1.0\n",
      "2 2.0\n",
      "3 6.0\n",
      "4 12.0\n",
      "5 60.0\n",
      "6 60.0\n",
      "7 420.0\n",
      "8 840.0\n",
      "9 2520.0\n",
      "10 2520.0\n",
      "11 27720.0\n",
      "12 27720.0\n",
      "13 360360.0\n",
      "14 360360.0\n",
      "15 360360.0\n",
      "16 720720.0\n",
      "17 12252240.0\n",
      "18 12252240.0\n",
      "19 232792560.0\n",
      "20 232792560.0\n"
     ]
    }
   ],
   "source": [
    "# 최대공약수 계산 함수 - math 모듈 이용\n",
    "\n",
    "import math\n",
    "\n",
    "lcm=1\n",
    "i=1\n",
    "while i <= 20:\n",
    "    gcd = math.gcd(int(lcm),i)\n",
    "    lcm = lcm*i/gcd\n",
    "    print(i,lcm)\n",
    "    i+=1"
   ]
  },
  {
   "cell_type": "code",
   "execution_count": 77,
   "metadata": {},
   "outputs": [
    {
     "name": "stdout",
     "output_type": "stream",
     "text": [
      "1 1.0\n",
      "2 2.0\n",
      "3 6.0\n",
      "4 12.0\n",
      "5 60.0\n",
      "6 60.0\n",
      "7 420.0\n",
      "8 840.0\n",
      "9 2520.0\n",
      "10 2520.0\n",
      "11 27720.0\n",
      "12 27720.0\n",
      "13 360360.0\n",
      "14 360360.0\n",
      "15 360360.0\n",
      "16 720720.0\n",
      "17 12252240.0\n",
      "18 12252240.0\n",
      "19 232792560.0\n",
      "20 232792560.0\n"
     ]
    }
   ],
   "source": [
    "# 최대공약수 계산 함수 - math 모듈 이용\n",
    "\n",
    "import math\n",
    "\n",
    "lcm=1\n",
    "for i in range(1,21):\n",
    "    gcd = math.gcd(int(lcm),i)\n",
    "    lcm = lcm*i/gcd\n",
    "    print(i,lcm)"
   ]
  },
  {
   "cell_type": "code",
   "execution_count": 1,
   "metadata": {},
   "outputs": [
    {
     "name": "stdout",
     "output_type": "stream",
     "text": [
      "{2: 3, 3: 2, 5: 1, 7: 1}\n",
      "10: 2520\n",
      "{19: 1, 17: 1, 2: 4, 3: 2, 5: 1, 7: 1, 11: 1, 13: 1}\n",
      "20: 232792560\n"
     ]
    }
   ],
   "source": [
    "# forum -1\n",
    "\n",
    "from sympy import factorint\n",
    "from functools import reduce\n",
    "from operator import mul\n",
    "\n",
    "def smallest_evenly_divisible(n):\n",
    "    #return smallest number evenly divisible by first n integers\n",
    "\n",
    "    #    approach: factor each of the first n integers and find the maximum\n",
    "    #    count of each prime accross all factorings.\n",
    "    \n",
    "    divisors = {}\n",
    "    for i in range(n, 1, -1):\n",
    "        for f,m in factorint(i).items():\n",
    "            if f in divisors:\n",
    "                divisors[f] = max(divisors[f], m)\n",
    "            else:\n",
    "                divisors[f] = m\n",
    "    print(divisors)\n",
    "    return reduce(lambda accum, x: accum * x**divisors[x], divisors, 1)\n",
    "\n",
    "for n in 10, 20:\n",
    "    print(\"{}: {}\".format(n, smallest_evenly_divisible(n)))\n",
    "    "
   ]
  },
  {
   "cell_type": "code",
   "execution_count": 25,
   "metadata": {},
   "outputs": [
    {
     "name": "stdout",
     "output_type": "stream",
     "text": [
      "{2: 2, 5: 1}\n",
      "{2: 1, 5: 1}\n"
     ]
    }
   ],
   "source": [
    "from sympy import factorint\n",
    "print(factorint(20))\n",
    "print(factorint(10))\n",
    "#help(factorint(1))"
   ]
  },
  {
   "cell_type": "code",
   "execution_count": 99,
   "metadata": {
    "scrolled": true
   },
   "outputs": [
    {
     "name": "stdout",
     "output_type": "stream",
     "text": [
      "2432902008176640000\n",
      "20 2432902008176640000 1.21645100408832e+17\n",
      "20 121645100408832000\n",
      "19 121645100408832000 6402373705728000.0\n",
      "18 121645100408832000 6758061133824000.0\n",
      "18 6758061133824000\n",
      "17 6758061133824000 397533007872000.0\n",
      "16 6758061133824000 422378820864000.0\n",
      "16 422378820864000\n",
      "15 422378820864000 28158588057600.0\n",
      "15 28158588057600\n",
      "14 28158588057600 2011327718400.0\n",
      "14 2011327718400\n",
      "13 2011327718400 154717516800.0\n",
      "12 2011327718400 167610643200.0\n",
      "12 167610643200\n",
      "11 167610643200 15237331200.0\n",
      "10 167610643200 16761064320.0\n",
      "10 16761064320\n",
      "9 16761064320 1862340480.0\n",
      "9 1862340480\n",
      "8 1862340480 232792560.0\n",
      "8 232792560\n",
      "7 232792560 33256080.0\n",
      "6 232792560 38798760.0\n",
      "5 232792560 46558512.0\n",
      "4 232792560 58198140.0\n",
      "3 232792560 77597520.0\n",
      "2 232792560 116396280.0\n",
      "232792560\n"
     ]
    }
   ],
   "source": [
    "# forum-2\n",
    "# 1~20 까지 다 곱해서 제일 큰수를 만든다음, 거꾸로 나누어 내려오면서, 1~20까지 다 나누어 지는지 확인하는 방법\n",
    "# brute force.\n",
    "\n",
    "from functools import reduce\n",
    "\n",
    "n = reduce(lambda x, y: x*y, range(2,21))\n",
    "print(n)\n",
    "\n",
    "for i in range(20,1,-1):\n",
    "    print(i,n,n/i)\n",
    "    if all(not n/i%j for j in range(2,21)):\n",
    "        n = n//i\n",
    "        print(i,n)\n",
    "\n",
    "print(n)\n"
   ]
  },
  {
   "cell_type": "code",
   "execution_count": 113,
   "metadata": {},
   "outputs": [
    {
     "name": "stdout",
     "output_type": "stream",
     "text": [
      "3628800\n"
     ]
    }
   ],
   "source": [
    "n = reduce(lambda x, y : x*y, range(2,11))\n",
    "print(n)"
   ]
  },
  {
   "cell_type": "code",
   "execution_count": 114,
   "metadata": {},
   "outputs": [
    {
     "name": "stdout",
     "output_type": "stream",
     "text": [
      "113\n"
     ]
    }
   ],
   "source": [
    "m = reduce(lambda x,y: x+y, [47,11,42,13])\n",
    "print(m)"
   ]
  },
  {
   "cell_type": "code",
   "execution_count": 115,
   "metadata": {},
   "outputs": [
    {
     "name": "stdout",
     "output_type": "stream",
     "text": [
      "yes\n",
      "true\n"
     ]
    }
   ],
   "source": [
    "#test=[3,9]\n",
    "if all(1000%j for j in [3,9]):\n",
    "    print('yes')\n",
    "if 1000/2:\n",
    "    print('true')"
   ]
  },
  {
   "cell_type": "code",
   "execution_count": 119,
   "metadata": {},
   "outputs": [
    {
     "name": "stdout",
     "output_type": "stream",
     "text": [
      "yes\n"
     ]
    }
   ],
   "source": [
    "if all(10%i==0 for i in [2,5]):\n",
    "    print('yes')"
   ]
  },
  {
   "cell_type": "code",
   "execution_count": 120,
   "metadata": {},
   "outputs": [
    {
     "name": "stdout",
     "output_type": "stream",
     "text": [
      "yes\n"
     ]
    }
   ],
   "source": [
    "if all(not 10%i for i in [2,5]):\n",
    "    print('yes')"
   ]
  },
  {
   "cell_type": "code",
   "execution_count": 136,
   "metadata": {},
   "outputs": [
    {
     "name": "stdout",
     "output_type": "stream",
     "text": [
      "yes\n"
     ]
    }
   ],
   "source": [
    "if not all(10%i for i in [2,7]):\n",
    "    print('yes')"
   ]
  },
  {
   "cell_type": "code",
   "execution_count": 23,
   "metadata": {},
   "outputs": [
    {
     "name": "stdout",
     "output_type": "stream",
     "text": [
      "1.0\n"
     ]
    }
   ],
   "source": [
    "print(100/20%4)"
   ]
  },
  {
   "cell_type": "code",
   "execution_count": 14,
   "metadata": {},
   "outputs": [
    {
     "name": "stdout",
     "output_type": "stream",
     "text": [
      "2432902008176640000\n"
     ]
    }
   ],
   "source": [
    "total=1\n",
    "for i in range(2,21):\n",
    "    total=total*i\n",
    "print(total)"
   ]
  },
  {
   "cell_type": "code",
   "execution_count": 8,
   "metadata": {},
   "outputs": [
    {
     "name": "stdout",
     "output_type": "stream",
     "text": [
      "232792560\n"
     ]
    }
   ],
   "source": [
    "# forum -3\n",
    "# 1. I look for all the primes under 20\n",
    "primi = [2]\n",
    "i = 3\n",
    "while i < 20:\n",
    "    k = 2\n",
    "    check = 0\n",
    "    while k < i:\n",
    "        if i % k == 0:\n",
    "            check = 1\n",
    "            break\n",
    "        else:\n",
    "            check = 0\n",
    "        k = k +1\n",
    "    if check == 0:\n",
    "        primi.append(i)\n",
    "    i = i+1\n",
    "\n",
    "# 2. I multiply them all (=prod)\n",
    "prod = 1\n",
    "for m in range (0,len(primi)):\n",
    "    prod = prod * primi[m]\n",
    "    m = m +1\n",
    "    \n",
    "# 3. I check every multiple of the prod to see if it is\n",
    "# divisible for all the numbers 2-20\n",
    "mult = 1\n",
    "mprod = prod\n",
    "while prod > 0:\n",
    "    check = 0\n",
    "    for k in range(1,21):\n",
    "        if mprod % k == 0:\n",
    "            check = check\n",
    "        else:\n",
    "            check = 1\n",
    "    if check == 0:\n",
    "        print (mprod)\n",
    "        break\n",
    "    else:\n",
    "        mult = mult +1\n",
    "        mprod = prod * mult\n"
   ]
  }
 ],
 "metadata": {
  "kernelspec": {
   "display_name": "Python 3",
   "language": "python",
   "name": "python3"
  },
  "language_info": {
   "codemirror_mode": {
    "name": "ipython",
    "version": 3
   },
   "file_extension": ".py",
   "mimetype": "text/x-python",
   "name": "python",
   "nbconvert_exporter": "python",
   "pygments_lexer": "ipython3",
   "version": "3.6.3"
  }
 },
 "nbformat": 4,
 "nbformat_minor": 2
}
