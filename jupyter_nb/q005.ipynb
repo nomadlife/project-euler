{
 "cells": [
  {
   "cell_type": "markdown",
   "metadata": {
    "collapsed": true
   },
   "source": [
    "# Q005 Smallest multiple\n",
    "\n",
    "2520 is the smallest number that can be divided by each of the numbers from 1 to 10 without any remainder.\n",
    "What is the smallest positive number that is evenly divisible by all of the numbers from 1 to 20?\n"
   ]
  },
  {
   "cell_type": "code",
   "execution_count": 8,
   "metadata": {},
   "outputs": [
    {
     "name": "stdout",
     "output_type": "stream",
     "text": [
      "6\n",
      "9\n"
     ]
    }
   ],
   "source": [
    "# 1 Brute force\n",
    "def get_gcd(num1,num2):\n",
    "    i=1\n",
    "    while i <= num2:\n",
    "        if num1%i==0 and num2%i==0:\n",
    "            gcd=i\n",
    "        i+=1\n",
    "    return gcd\n",
    "\n",
    "print(get_gcd(12,18))\n",
    "print(get_gcd(27,63))"
   ]
  },
  {
   "cell_type": "code",
   "execution_count": 12,
   "metadata": {},
   "outputs": [
    {
     "data": {
      "text/plain": [
       "6"
      ]
     },
     "execution_count": 12,
     "metadata": {},
     "output_type": "execute_result"
    }
   ],
   "source": [
    "import math\n",
    "math.gcd(12,18)"
   ]
  },
  {
   "cell_type": "code",
   "execution_count": 13,
   "metadata": {},
   "outputs": [
    {
     "data": {
      "text/plain": [
       "6"
      ]
     },
     "execution_count": 13,
     "metadata": {},
     "output_type": "execute_result"
    }
   ],
   "source": [
    "import math as m\n",
    "m.gcd(12,18)"
   ]
  },
  {
   "cell_type": "code",
   "execution_count": 15,
   "metadata": {},
   "outputs": [
    {
     "data": {
      "text/plain": [
       "6"
      ]
     },
     "execution_count": 15,
     "metadata": {},
     "output_type": "execute_result"
    }
   ],
   "source": [
    "from math import gcd\n",
    "gcd(12,18)"
   ]
  },
  {
   "cell_type": "code",
   "execution_count": 21,
   "metadata": {},
   "outputs": [
    {
     "data": {
      "text/plain": [
       "0.706825181105366"
      ]
     },
     "execution_count": 21,
     "metadata": {},
     "output_type": "execute_result"
    }
   ],
   "source": [
    "from math import gcd\n",
    "sin(3.14/4)"
   ]
  },
  {
   "cell_type": "code",
   "execution_count": 24,
   "metadata": {
    "scrolled": true
   },
   "outputs": [
    {
     "name": "stdout",
     "output_type": "stream",
     "text": [
      "1 1\n",
      "2 2\n",
      "3 6\n",
      "4 24\n",
      "5 120\n",
      "6 720\n",
      "7 5040\n",
      "8 40320\n",
      "9 362880\n",
      "10 3628800\n",
      "11 39916800\n",
      "12 479001600\n",
      "13 6227020800\n",
      "14 87178291200\n",
      "15 1307674368000\n",
      "16 20922789888000\n",
      "17 355687428096000\n",
      "18 6402373705728000\n",
      "19 121645100408832000\n",
      "20 2432902008176640000\n"
     ]
    }
   ],
   "source": [
    "# 2\n",
    "\n",
    "\n",
    "lcm=1\n",
    "i=1\n",
    "while i <= 20:\n",
    "    lcm = lcm*i\n",
    "    print(i,lcm)\n",
    "    i+=1"
   ]
  },
  {
   "cell_type": "code",
   "execution_count": 2,
   "metadata": {
    "scrolled": true
   },
   "outputs": [
    {
     "name": "stdout",
     "output_type": "stream",
     "text": [
      "1 1 1.0\n",
      "2 1 2.0\n",
      "3 1 6.0\n",
      "4 1 24.0\n",
      "5 1 120.0\n",
      "6 1 720.0\n",
      "7 1 5040.0\n",
      "8 1 40320.0\n",
      "9 1 362880.0\n",
      "10 1 3628800.0\n",
      "11 1 39916800.0\n",
      "12 1 479001600.0\n",
      "13 1 6227020800.0\n",
      "14 1 87178291200.0\n",
      "15 1 1307674368000.0\n"
     ]
    }
   ],
   "source": [
    "# 각 단계별로 최대공약수를 찾아서 나누어 주면, 각 단계별 최소공배수가 됨.\n",
    "# 최대공약수는 일단 1로 고정\n",
    "\n",
    "def get_gcd(num1,num2):\n",
    "    return 1\n",
    "\n",
    "lcm=1\n",
    "i=1\n",
    "while i <= 15:\n",
    "    gcd = get_gcd(lcm,i)\n",
    "    lcm = lcm*i/gcd\n",
    "    print(i,gcd,lcm)\n",
    "    i+=1"
   ]
  },
  {
   "cell_type": "code",
   "execution_count": 36,
   "metadata": {},
   "outputs": [
    {
     "name": "stdout",
     "output_type": "stream",
     "text": [
      "1 1 1.0\n",
      "2 1 2.0\n",
      "3 1 6.0\n",
      "4 2 12.0\n",
      "5 1 60.0\n",
      "6 6 60.0\n",
      "7 1 420.0\n",
      "8 4 840.0\n",
      "9 3 2520.0\n",
      "10 10 2520.0\n",
      "11 1 27720.0\n",
      "12 12 27720.0\n",
      "13 1 360360.0\n",
      "14 14 360360.0\n",
      "15 15 360360.0\n",
      "16 8 720720.0\n",
      "17 1 12252240.0\n",
      "18 18 12252240.0\n",
      "19 1 232792560.0\n",
      "20 20 232792560.0\n"
     ]
    }
   ],
   "source": [
    "# 최대공약수 계산 함수\n",
    "\n",
    "def get_gcd(num1,num2):\n",
    "    i=1\n",
    "    while i <= num2:\n",
    "        if num1%i==0 and num2%i==0:\n",
    "            gcd=i\n",
    "        i+=1\n",
    "    return gcd\n",
    "\n",
    "lcm=1\n",
    "i=1\n",
    "while i <= 20:\n",
    "    gcd = get_gcd(lcm,i)\n",
    "    lcm = lcm*i/gcd\n",
    "    print(i,gcd,lcm)\n",
    "    i+=1"
   ]
  },
  {
   "cell_type": "code",
   "execution_count": 76,
   "metadata": {},
   "outputs": [
    {
     "name": "stdout",
     "output_type": "stream",
     "text": [
      "1 1.0\n",
      "2 2.0\n",
      "3 6.0\n",
      "4 12.0\n",
      "5 60.0\n",
      "6 60.0\n",
      "7 420.0\n",
      "8 840.0\n",
      "9 2520.0\n",
      "10 2520.0\n",
      "11 27720.0\n",
      "12 27720.0\n",
      "13 360360.0\n",
      "14 360360.0\n",
      "15 360360.0\n",
      "16 720720.0\n",
      "17 12252240.0\n",
      "18 12252240.0\n",
      "19 232792560.0\n",
      "20 232792560.0\n"
     ]
    }
   ],
   "source": [
    "# 최대공약수 계산 함수 - math 모듈 이용\n",
    "\n",
    "import math\n",
    "\n",
    "lcm=1\n",
    "i=1\n",
    "while i <= 20:\n",
    "    gcd = math.gcd(int(lcm),i)\n",
    "    lcm = lcm*i/gcd\n",
    "    print(i,lcm)\n",
    "    i+=1"
   ]
  },
  {
   "cell_type": "code",
   "execution_count": 77,
   "metadata": {},
   "outputs": [
    {
     "name": "stdout",
     "output_type": "stream",
     "text": [
      "1 1.0\n",
      "2 2.0\n",
      "3 6.0\n",
      "4 12.0\n",
      "5 60.0\n",
      "6 60.0\n",
      "7 420.0\n",
      "8 840.0\n",
      "9 2520.0\n",
      "10 2520.0\n",
      "11 27720.0\n",
      "12 27720.0\n",
      "13 360360.0\n",
      "14 360360.0\n",
      "15 360360.0\n",
      "16 720720.0\n",
      "17 12252240.0\n",
      "18 12252240.0\n",
      "19 232792560.0\n",
      "20 232792560.0\n"
     ]
    }
   ],
   "source": [
    "# 최대공약수 계산 함수 - math 모듈 이용\n",
    "\n",
    "import math\n",
    "\n",
    "lcm=1\n",
    "for i in range(1,21):\n",
    "    gcd = math.gcd(int(lcm),i)\n",
    "    lcm = lcm*i/gcd\n",
    "    print(i,lcm)"
   ]
  },
  {
   "cell_type": "code",
   "execution_count": 25,
   "metadata": {},
   "outputs": [
    {
     "name": "stdout",
     "output_type": "stream",
     "text": [
      "{2: 2, 5: 1}\n",
      "{2: 1, 5: 1}\n"
     ]
    }
   ],
   "source": [
    "from sympy import factorint\n",
    "print(factorint(20))\n",
    "print(factorint(10))\n",
    "#help(factorint(1))"
   ]
  },
  {
   "cell_type": "code",
   "execution_count": 113,
   "metadata": {},
   "outputs": [
    {
     "name": "stdout",
     "output_type": "stream",
     "text": [
      "3628800\n"
     ]
    }
   ],
   "source": [
    "n = reduce(lambda x, y : x*y, range(2,11))\n",
    "print(n)"
   ]
  },
  {
   "cell_type": "code",
   "execution_count": 114,
   "metadata": {},
   "outputs": [
    {
     "name": "stdout",
     "output_type": "stream",
     "text": [
      "113\n"
     ]
    }
   ],
   "source": [
    "m = reduce(lambda x,y: x+y, [47,11,42,13])\n",
    "print(m)"
   ]
  },
  {
   "cell_type": "code",
   "execution_count": 115,
   "metadata": {},
   "outputs": [
    {
     "name": "stdout",
     "output_type": "stream",
     "text": [
      "yes\n",
      "true\n"
     ]
    }
   ],
   "source": [
    "#test=[3,9]\n",
    "if all(1000%j for j in [3,9]):\n",
    "    print('yes')\n",
    "if 1000/2:\n",
    "    print('true')"
   ]
  },
  {
   "cell_type": "code",
   "execution_count": 119,
   "metadata": {},
   "outputs": [
    {
     "name": "stdout",
     "output_type": "stream",
     "text": [
      "yes\n"
     ]
    }
   ],
   "source": [
    "if all(10%i==0 for i in [2,5]):\n",
    "    print('yes')"
   ]
  },
  {
   "cell_type": "code",
   "execution_count": 120,
   "metadata": {},
   "outputs": [
    {
     "name": "stdout",
     "output_type": "stream",
     "text": [
      "yes\n"
     ]
    }
   ],
   "source": [
    "if all(not 10%i for i in [2,5]):\n",
    "    print('yes')"
   ]
  },
  {
   "cell_type": "code",
   "execution_count": 136,
   "metadata": {},
   "outputs": [
    {
     "name": "stdout",
     "output_type": "stream",
     "text": [
      "yes\n"
     ]
    }
   ],
   "source": [
    "if not all(10%i for i in [2,7]):\n",
    "    print('yes')"
   ]
  },
  {
   "cell_type": "code",
   "execution_count": 23,
   "metadata": {},
   "outputs": [
    {
     "name": "stdout",
     "output_type": "stream",
     "text": [
      "1.0\n"
     ]
    }
   ],
   "source": [
    "print(100/20%4)"
   ]
  },
  {
   "cell_type": "code",
   "execution_count": 14,
   "metadata": {},
   "outputs": [
    {
     "name": "stdout",
     "output_type": "stream",
     "text": [
      "2432902008176640000\n"
     ]
    }
   ],
   "source": [
    "total=1\n",
    "for i in range(2,21):\n",
    "    total=total*i\n",
    "print(total)"
   ]
  }
 ],
 "metadata": {
  "kernelspec": {
   "display_name": "Python 3",
   "language": "python",
   "name": "python3"
  },
  "language_info": {
   "codemirror_mode": {
    "name": "ipython",
    "version": 3
   },
   "file_extension": ".py",
   "mimetype": "text/x-python",
   "name": "python",
   "nbconvert_exporter": "python",
   "pygments_lexer": "ipython3",
   "version": "3.6.5"
  }
 },
 "nbformat": 4,
 "nbformat_minor": 2
}
