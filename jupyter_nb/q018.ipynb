{
 "cells": [
  {
   "cell_type": "markdown",
   "metadata": {
    "collapsed": true
   },
   "source": [
    "# Q018 Maximum path sum I\n",
    "\n",
    "\n",
    "By starting at the top of the triangle below and moving to adjacent numbers on the row below, the maximum total from top to bottom is 23.\n",
    "\n",
    "       3\n",
    "      7 4\n",
    "     2 4 6\n",
    "    8 5 9 3\n",
    "\n",
    "That is, 3 + 7 + 4 + 9 = 23.\n",
    "\n",
    "Find the maximum total from top to bottom of the triangle below:\n",
    "\n",
    "                  75\n",
    "                 95 64\n",
    "                17 47 82\n",
    "               18 35 87 10\n",
    "              20 04 82 47 65\n",
    "             19 01 23 75 03 34\n",
    "            88 02 77 73 07 63 67\n",
    "           99 65 04 28 06 16 70 92\n",
    "          41 41 26 56 83 40 80 70 33\n",
    "         41 48 72 33 47 32 37 16 94 29\n",
    "        53 71 44 65 25 43 91 52 97 51 14\n",
    "       70 11 33 28 77 73 17 78 39 68 17 57\n",
    "      91 71 52 38 17 14 91 43 58 50 27 29 48\n",
    "     63 66 04 68 89 53 67 30 73 16 69 87 40 31\n",
    "    04 62 98 27 23 09 70 98 73 93 38 53 60 04 23\n",
    "\n",
    "NOTE: As there are only 16384 routes, it is possible to solve this problem by trying every route. However, Problem 67, is the same challenge with a triangle containing one-hundred rows; it cannot be solved by brute force, and requires a clever method! ;o)\n"
   ]
  },
  {
   "cell_type": "code",
   "execution_count": 1,
   "metadata": {},
   "outputs": [
    {
     "name": "stdout",
     "output_type": "stream",
     "text": [
      "['75\\n', '95 64\\n', '17 47 82\\n', '18 35 87 10\\n', '20 04 82 47 65\\n', '19 01 23 75 03 34\\n', '88 02 77 73 07 63 67\\n', '99 65 04 28 06 16 70 92\\n', '41 41 26 56 83 40 80 70 33\\n', '41 48 72 33 47 32 37 16 94 29\\n', '53 71 44 65 25 43 91 52 97 51 14\\n', '70 11 33 28 77 73 17 78 39 68 17 57\\n', '91 71 52 38 17 14 91 43 58 50 27 29 48\\n', '63 66 04 68 89 53 67 30 73 16 69 87 40 31\\n', '04 62 98 27 23 09 70 98 73 93 38 53 60 04 23']\n"
     ]
    }
   ],
   "source": [
    "filename = 'q018_data.txt'\n",
    "with open(filename) as data:\n",
    "    lines = data.readlines()\n",
    "print(lines)"
   ]
  },
  {
   "cell_type": "code",
   "execution_count": 2,
   "metadata": {
    "scrolled": true
   },
   "outputs": [
    {
     "name": "stdout",
     "output_type": "stream",
     "text": [
      "75\n",
      "\n",
      "95 64\n",
      "\n",
      "17 47 82\n",
      "\n",
      "18 35 87 10\n",
      "\n",
      "20 04 82 47 65\n",
      "\n",
      "19 01 23 75 03 34\n",
      "\n",
      "88 02 77 73 07 63 67\n",
      "\n",
      "99 65 04 28 06 16 70 92\n",
      "\n",
      "41 41 26 56 83 40 80 70 33\n",
      "\n",
      "41 48 72 33 47 32 37 16 94 29\n",
      "\n",
      "53 71 44 65 25 43 91 52 97 51 14\n",
      "\n",
      "70 11 33 28 77 73 17 78 39 68 17 57\n",
      "\n",
      "91 71 52 38 17 14 91 43 58 50 27 29 48\n",
      "\n",
      "63 66 04 68 89 53 67 30 73 16 69 87 40 31\n",
      "\n",
      "04 62 98 27 23 09 70 98 73 93 38 53 60 04 23\n"
     ]
    }
   ],
   "source": [
    "filename = 'q018_data.txt'\n",
    "with open(filename) as data:\n",
    "    lines = data.readlines()\n",
    "\n",
    "for i in lines:\n",
    "    print(i)"
   ]
  },
  {
   "cell_type": "code",
   "execution_count": 3,
   "metadata": {
    "scrolled": true
   },
   "outputs": [
    {
     "name": "stdout",
     "output_type": "stream",
     "text": [
      "75\n",
      "95 64\n",
      "17 47 82\n",
      "18 35 87 10\n",
      "20 04 82 47 65\n",
      "19 01 23 75 03 34\n",
      "88 02 77 73 07 63 67\n",
      "99 65 04 28 06 16 70 92\n",
      "41 41 26 56 83 40 80 70 33\n",
      "41 48 72 33 47 32 37 16 94 29\n",
      "53 71 44 65 25 43 91 52 97 51 14\n",
      "70 11 33 28 77 73 17 78 39 68 17 57\n",
      "91 71 52 38 17 14 91 43 58 50 27 29 48\n",
      "63 66 04 68 89 53 67 30 73 16 69 87 40 31\n",
      "04 62 98 27 23 09 70 98 73 93 38 53 60 04 23\n"
     ]
    }
   ],
   "source": [
    "filename = 'q018_data.txt'\n",
    "with open(filename) as data:\n",
    "    lines = data.readlines()\n",
    "\n",
    "for i in lines:\n",
    "    print(i.rstrip())"
   ]
  },
  {
   "cell_type": "code",
   "execution_count": 4,
   "metadata": {
    "scrolled": true
   },
   "outputs": [
    {
     "name": "stdout",
     "output_type": "stream",
     "text": [
      "['75']\n",
      "['95', '64']\n",
      "['17', '47', '82']\n",
      "['18', '35', '87', '10']\n",
      "['20', '04', '82', '47', '65']\n",
      "['19', '01', '23', '75', '03', '34']\n",
      "['88', '02', '77', '73', '07', '63', '67']\n",
      "['99', '65', '04', '28', '06', '16', '70', '92']\n",
      "['41', '41', '26', '56', '83', '40', '80', '70', '33']\n",
      "['41', '48', '72', '33', '47', '32', '37', '16', '94', '29']\n",
      "['53', '71', '44', '65', '25', '43', '91', '52', '97', '51', '14']\n",
      "['70', '11', '33', '28', '77', '73', '17', '78', '39', '68', '17', '57']\n",
      "['91', '71', '52', '38', '17', '14', '91', '43', '58', '50', '27', '29', '48']\n",
      "['63', '66', '04', '68', '89', '53', '67', '30', '73', '16', '69', '87', '40', '31']\n",
      "['04', '62', '98', '27', '23', '09', '70', '98', '73', '93', '38', '53', '60', '04', '23']\n"
     ]
    }
   ],
   "source": [
    "filename = 'q018_data.txt'\n",
    "with open(filename) as data:\n",
    "    lines = data.readlines()\n",
    "m=len(lines)\n",
    "\n",
    "numbers=[]\n",
    "for line in lines:\n",
    "    print(line.split())\n",
    "    numbers.append(line.split())"
   ]
  },
  {
   "cell_type": "code",
   "execution_count": 6,
   "metadata": {
    "scrolled": true
   },
   "outputs": [
    {
     "name": "stdout",
     "output_type": "stream",
     "text": [
      "['75']\n",
      "['95', '64']\n",
      "['17', '47', '82']\n",
      "['18', '35', '87', '10']\n",
      "['20', '04', '82', '47', '65']\n",
      "['19', '01', '23', '75', '03', '34']\n",
      "['88', '02', '77', '73', '07', '63', '67']\n",
      "['99', '65', '04', '28', '06', '16', '70', '92']\n",
      "['41', '41', '26', '56', '83', '40', '80', '70', '33']\n",
      "['41', '48', '72', '33', '47', '32', '37', '16', '94', '29']\n",
      "['53', '71', '44', '65', '25', '43', '91', '52', '97', '51', '14']\n",
      "['70', '11', '33', '28', '77', '73', '17', '78', '39', '68', '17', '57']\n",
      "['91', '71', '52', '38', '17', '14', '91', '43', '58', '50', '27', '29', '48']\n",
      "['63', '66', '04', '68', '89', '53', '67', '30', '73', '16', '69', '87', '40', '31']\n",
      "['04', '62', '98', '27', '23', '09', '70', '98', '73', '93', '38', '53', '60', '04', '23']\n",
      "75,95,47,87,82,75,73,28,83,47,43,73,91,67,98\n"
     ]
    }
   ],
   "source": [
    "# 잘못된 코드. 수정할것.\n",
    "\n",
    "filename = 'q018_data.txt'\n",
    "with open(filename) as data:\n",
    "    lines = data.readlines()\n",
    "m=len(lines)\n",
    "\n",
    "numbers=[]\n",
    "for line in lines:\n",
    "    print(line.split())\n",
    "    numbers.append(line.split())\n",
    "\n",
    "def biggest_path(i=0,j=0):\n",
    "    if i==m-1:\n",
    "        return numbers[i][j]\n",
    "    else :\n",
    "        num1=biggest_path(i+1,j)\n",
    "        num2=biggest_path(i+1,j+1)\n",
    "        if num1>num2:\n",
    "            return numbers[i][j]+\",\"+num1\n",
    "        else :\n",
    "            return numbers[i][j]+\",\"+num2\n",
    "\n",
    "print(biggest_path())"
   ]
  },
  {
   "cell_type": "code",
   "execution_count": 14,
   "metadata": {
    "scrolled": true
   },
   "outputs": [
    {
     "name": "stdout",
     "output_type": "stream",
     "text": [
      "['75']\n",
      "['95', '64']\n",
      "['17', '47', '82']\n",
      "['18', '35', '87', '10']\n",
      "['20', '04', '82', '47', '65']\n",
      "['19', '01', '23', '75', '03', '34']\n",
      "['88', '02', '77', '73', '07', '63', '67']\n",
      "['99', '65', '04', '28', '06', '16', '70', '92']\n",
      "['41', '41', '26', '56', '83', '40', '80', '70', '33']\n",
      "['41', '48', '72', '33', '47', '32', '37', '16', '94', '29']\n",
      "['53', '71', '44', '65', '25', '43', '91', '52', '97', '51', '14']\n",
      "['70', '11', '33', '28', '77', '73', '17', '78', '39', '68', '17', '57']\n",
      "['91', '71', '52', '38', '17', '14', '91', '43', '58', '50', '27', '29', '48']\n",
      "['63', '66', '04', '68', '89', '53', '67', '30', '73', '16', '69', '87', '40', '31']\n",
      "['04', '62', '98', '27', '23', '09', '70', '98', '73', '93', '38', '53', '60', '04', '23']\n",
      "1074\n"
     ]
    }
   ],
   "source": [
    "# 합계는 맞으나, path 출력은 수정필요.\n",
    "\n",
    "filename = 'q018_data.txt'\n",
    "with open(filename) as data:\n",
    "    lines = data.readlines()\n",
    "m=len(lines)\n",
    "\n",
    "numbers=[]\n",
    "for line in lines:\n",
    "    print(line.split())\n",
    "    numbers.append(line.split())\n",
    "\n",
    "def biggest_path(i=0,j=0):\n",
    "    if i==m-1:\n",
    "        return numbers[i][j]\n",
    "    else :\n",
    "        num1=biggest_path(i+1,j)\n",
    "        num2=biggest_path(i+1,j+1)\n",
    "        if num1>num2:\n",
    "            return numbers[i][j]+\",\"+num1\n",
    "        else :\n",
    "            return numbers[i][j]+\",\"+num2\n",
    "        \n",
    "def biggest_sum(i=0,j=0):\n",
    "    if i==m-1:\n",
    "        return numbers[i][j]\n",
    "    else :\n",
    "        num1=biggest_sum(i+1,j)\n",
    "        num2=biggest_sum(i+1,j+1)\n",
    "        if num1>num2:\n",
    "            return int(numbers[i][j])+int(num1)\n",
    "        else :\n",
    "            return int(numbers[i][j])+int(num2)\n",
    "\n",
    "#print(biggest_path())\n",
    "print(biggest_sum())"
   ]
  }
 ],
 "metadata": {
  "kernelspec": {
   "display_name": "Python 3",
   "language": "python",
   "name": "python3"
  },
  "language_info": {
   "codemirror_mode": {
    "name": "ipython",
    "version": 3
   },
   "file_extension": ".py",
   "mimetype": "text/x-python",
   "name": "python",
   "nbconvert_exporter": "python",
   "pygments_lexer": "ipython3",
   "version": "3.5.2"
  }
 },
 "nbformat": 4,
 "nbformat_minor": 2
}
