{
 "cells": [
  {
   "cell_type": "markdown",
   "metadata": {},
   "source": [
    "## p064"
   ]
  },
  {
   "cell_type": "code",
   "execution_count": 1,
   "metadata": {},
   "outputs": [
    {
     "name": "stdout",
     "output_type": "stream",
     "text": [
      "6963524437876961749120273824619538346438023188214475670667 2561737478789858711161539537921323010415623148113041714756 2.718281828459045\n",
      "272\n"
     ]
    }
   ],
   "source": [
    "# p065 code\n",
    "\n",
    "def func(i=0):\n",
    "    if i==target-1:\n",
    "        return arr[i],1\n",
    "    else:\n",
    "        den,num = func(i+1)\n",
    "        num_n = arr[i]*den + num\n",
    "        return num_n,den\n",
    "\n",
    "arr=[2]\n",
    "for n in range(1,50):\n",
    "    arr.extend([1,2*n,1])\n",
    "target=100\n",
    "nu,de=func()\n",
    "print(nu,de,nu/de)\n",
    "print(sum([int(x) for x in str(nu)]))"
   ]
  },
  {
   "cell_type": "code",
   "execution_count": null,
   "metadata": {},
   "outputs": [],
   "source": []
  }
 ],
 "metadata": {
  "kernelspec": {
   "display_name": "Python 3",
   "language": "python",
   "name": "python3"
  },
  "language_info": {
   "codemirror_mode": {
    "name": "ipython",
    "version": 3
   },
   "file_extension": ".py",
   "mimetype": "text/x-python",
   "name": "python",
   "nbconvert_exporter": "python",
   "pygments_lexer": "ipython3",
   "version": "3.6.4"
  }
 },
 "nbformat": 4,
 "nbformat_minor": 2
}
