{
 "cells": [
  {
   "cell_type": "markdown",
   "metadata": {},
   "source": [
    "# Q042 Coded triangle numbers\n",
    "\n",
    "\n",
    "\n",
    "The n-th term of the sequence of triangle numbers is given by, tn = ½n(n+1); so the first ten triangle numbers are:\n",
    "\n",
    "1, 3, 6, 10, 15, 21, 28, 36, 45, 55, ...\n",
    "\n",
    "By converting each letter in a word to a number corresponding to its alphabetical position and adding these values we form a word value. For example, the word value for SKY is 19 + 11 + 25 = 55 = t10. If the word value is a triangle number then we shall call the word a triangle word.\n",
    "\n",
    "Using words.txt (right click and 'Save Link/Target As...'), a 16K text file containing nearly two-thousand common English words, how many are triangle words?\n"
   ]
  },
  {
   "cell_type": "code",
   "execution_count": 4,
   "metadata": {},
   "outputs": [
    {
     "name": "stdout",
     "output_type": "stream",
     "text": [
      "['A', 'ABILITY', 'ABLE', 'ABOUT', 'ABOVE', 'ABSENCE', 'ABSOLUTELY', 'ACADEMIC', 'ACCEPT', 'ACCESS', 'ACCIDENT', 'ACCOMPANY', 'ACCORDING', 'ACCOUNT', 'ACHIEVE', 'ACHIEVEMENT', 'ACID', 'ACQUIRE', 'ACROSS', 'ACT', 'ACTION', 'ACTIVE', 'ACTIVITY', 'ACTUAL', 'ACTUALLY', 'ADD', 'ADDITION', 'ADDITIONAL', 'ADDRESS', 'ADMINISTRATION']\n"
     ]
    }
   ],
   "source": [
    "# 1. data open\n",
    "filename = 'p042_words.txt'\n",
    "with open(filename) as data:\n",
    "    contents = data.read()\n",
    "contents=contents.replace('\"','')\n",
    "words=contents.split(',')\n",
    "print(words[:30])"
   ]
  },
  {
   "cell_type": "code",
   "execution_count": 3,
   "metadata": {},
   "outputs": [
    {
     "name": "stdout",
     "output_type": "stream",
     "text": [
      "['A', 'ABILITY', 'ABLE', 'ABOUT', 'ABOVE', 'ABSENCE', 'ABSOLUTELY', 'ACADEMIC', 'ACCEPT', 'ACCESS', 'ACCIDENT', 'ACCOMPANY', 'ACCORDING', 'ACCOUNT', 'ACHIEVE', 'ACHIEVEMENT', 'ACID', 'ACQUIRE', 'ACROSS', 'ACT', 'ACTION', 'ACTIVE', 'ACTIVITY', 'ACTUAL', 'ACTUALLY', 'ADD', 'ADDITION', 'ADDITIONAL', 'ADDRESS', 'ADMINISTRATION']\n"
     ]
    }
   ],
   "source": [
    "# data open - condensed\n",
    "with open('p042_words.txt') as data:\n",
    "    words = data.read().replace('\"','').split(',')\n",
    "print(words[:30])"
   ]
  },
  {
   "cell_type": "code",
   "execution_count": 5,
   "metadata": {},
   "outputs": [
    {
     "name": "stdout",
     "output_type": "stream",
     "text": [
      "1 A 1,total: 1\n",
      "2 ABILITY 1,2,9,12,9,20,25,total: 78\n",
      "3 ABLE 1,2,12,5,total: 20\n",
      "4 ABOUT 1,2,15,21,20,total: 59\n",
      "5 ABOVE 1,2,15,22,5,total: 45\n",
      "6 ABSENCE 1,2,19,5,14,3,5,total: 49\n",
      "7 ABSOLUTELY 1,2,19,15,12,21,20,5,12,25,total: 132\n",
      "8 ACADEMIC 1,3,1,4,5,13,9,3,total: 39\n",
      "9 ACCEPT 1,3,3,5,16,20,total: 48\n",
      "10 ACCESS 1,3,3,5,19,19,total: 50\n"
     ]
    }
   ],
   "source": [
    "# 2. word -> number conversion\n",
    "for idx,val in enumerate(words[:10]):\n",
    "    print(idx+1,val,end=' ')\n",
    "    total=0\n",
    "    for i in val:\n",
    "        print(ord(i)-64,end=',')\n",
    "        total+=ord(i)-64\n",
    "    print(\"total:\",total)"
   ]
  },
  {
   "cell_type": "code",
   "execution_count": 10,
   "metadata": {},
   "outputs": [
    {
     "name": "stdout",
     "output_type": "stream",
     "text": [
      "A 1,total: 1\n",
      "ABILITY 1,2,9,12,9,20,25,total: 78\n",
      "ABLE 1,2,12,5,total: 20\n",
      "ABOUT 1,2,15,21,20,total: 59\n",
      "ABOVE 1,2,15,22,5,total: 45\n",
      "ABSENCE 1,2,19,5,14,3,5,total: 49\n",
      "ABSOLUTELY 1,2,19,15,12,21,20,5,12,25,total: 132\n",
      "ACADEMIC 1,3,1,4,5,13,9,3,total: 39\n",
      "ACCEPT 1,3,3,5,16,20,total: 48\n",
      "ACCESS 1,3,3,5,19,19,total: 50\n"
     ]
    }
   ],
   "source": [
    "# 2. word -> number conversion\n",
    "for word in words[:10]:\n",
    "    print(word,end=' ')\n",
    "    total=0\n",
    "    for i in word:\n",
    "        print(ord(i)-64,end=',')\n",
    "        total+=ord(i)-64\n",
    "    print(\"total:\",total)"
   ]
  },
  {
   "cell_type": "code",
   "execution_count": 14,
   "metadata": {},
   "outputs": [
    {
     "name": "stdout",
     "output_type": "stream",
     "text": [
      "max: A 1\n",
      "max: ABILITY 78\n",
      "max: ABSOLUTELY 132\n",
      "max: ADMINISTRATION 166\n",
      "max: CONSTRUCTION 171\n",
      "max: INTERPRETATION 184\n",
      "max: OPPORTUNITY 189\n",
      "max: RESPONSIBILITY 192\n"
     ]
    }
   ],
   "source": [
    "# check max value\n",
    "maxV=0\n",
    "for word in words:\n",
    "    summ=0\n",
    "    for i in word:\n",
    "        summ+=ord(i)-64\n",
    "    if summ > maxV:\n",
    "        maxV = summ\n",
    "        print(\"max:\",word, summ)"
   ]
  },
  {
   "cell_type": "code",
   "execution_count": 17,
   "metadata": {},
   "outputs": [
    {
     "name": "stdout",
     "output_type": "stream",
     "text": [
      "0.0\n",
      "1.0\n",
      "3.0\n",
      "6.0\n",
      "10.0\n",
      "15.0\n",
      "21.0\n",
      "28.0\n",
      "36.0\n",
      "45.0\n",
      "55.0\n",
      "66.0\n",
      "78.0\n",
      "91.0\n",
      "105.0\n",
      "120.0\n",
      "136.0\n",
      "153.0\n",
      "171.0\n",
      "190.0\n",
      "210.0\n"
     ]
    }
   ],
   "source": [
    "# make tri number \n",
    "for n in range(21):\n",
    "    print(n*(n+1)/2)"
   ]
  },
  {
   "cell_type": "code",
   "execution_count": 18,
   "metadata": {},
   "outputs": [
    {
     "name": "stdout",
     "output_type": "stream",
     "text": [
      "[0.0, 1.0, 3.0, 6.0, 10.0, 15.0, 21.0, 28.0, 36.0, 45.0, 55.0, 66.0, 78.0, 91.0, 105.0, 120.0, 136.0, 153.0, 171.0, 190.0, 210.0]\n"
     ]
    }
   ],
   "source": [
    "# make tri number \n",
    "trinum = []\n",
    "for n in range(21):\n",
    "    trinum.append(n*(n+1)/2)\n",
    "print(trinum)"
   ]
  },
  {
   "cell_type": "code",
   "execution_count": 22,
   "metadata": {},
   "outputs": [
    {
     "name": "stdout",
     "output_type": "stream",
     "text": [
      "[0.0, 1.0, 3.0, 6.0, 10.0, 15.0, 21.0, 28.0, 36.0, 45.0, 55.0, 66.0, 78.0, 91.0, 105.0, 120.0, 136.0, 153.0, 171.0, 190.0, 210.0]\n"
     ]
    }
   ],
   "source": [
    "# make trinum\n",
    "trinum=[n*(n+1)/2 for n in range(21)]\n",
    "print(trinum)"
   ]
  },
  {
   "cell_type": "code",
   "execution_count": 23,
   "metadata": {},
   "outputs": [
    {
     "name": "stdout",
     "output_type": "stream",
     "text": [
      "162\n"
     ]
    }
   ],
   "source": [
    "# check if trinum\n",
    "trinum=[n*(n+1)/2 for n in range(21)]\n",
    "count=0\n",
    "for word in words:\n",
    "    summ=0\n",
    "    for i in word:\n",
    "        summ+=ord(i)-64\n",
    "    if summ in trinum:\n",
    "        count+=1\n",
    "print(count)"
   ]
  },
  {
   "cell_type": "code",
   "execution_count": 26,
   "metadata": {},
   "outputs": [
    {
     "name": "stdout",
     "output_type": "stream",
     "text": [
      "162\n"
     ]
    }
   ],
   "source": [
    "# condensed\n",
    "trinum=[n*(n+1)/2 for n in range(21)]\n",
    "count=0\n",
    "for word in words:\n",
    "    summ=sum([ord(i)-64 for i in word])\n",
    "    if summ in trinum:\n",
    "        count+=1\n",
    "print(count)"
   ]
  },
  {
   "cell_type": "code",
   "execution_count": 27,
   "metadata": {},
   "outputs": [
    {
     "name": "stdout",
     "output_type": "stream",
     "text": [
      "162\n"
     ]
    }
   ],
   "source": [
    "# condensed\n",
    "trinum=[n*(n+1)/2 for n in range(21)]\n",
    "count=0\n",
    "for word in words:\n",
    "    if sum([ord(i)-64 for i in word]) in trinum:\n",
    "        count+=1\n",
    "print(count)"
   ]
  },
  {
   "cell_type": "code",
   "execution_count": 28,
   "metadata": {},
   "outputs": [
    {
     "name": "stdout",
     "output_type": "stream",
     "text": [
      "162\n"
     ]
    }
   ],
   "source": [
    "# condensed\n",
    "trinum=[n*(n+1)/2 for n in range(21)]\n",
    "count = sum([1 for word in words if sum([ord(i)-64 for i in word]) in trinum ])\n",
    "print(count)"
   ]
  },
  {
   "cell_type": "code",
   "execution_count": 29,
   "metadata": {},
   "outputs": [
    {
     "data": {
      "text/plain": [
       "162"
      ]
     },
     "execution_count": 29,
     "metadata": {},
     "output_type": "execute_result"
    }
   ],
   "source": [
    "# condensed\n",
    "trinum=[n*(n+1)/2 for n in range(21)]\n",
    "sum([1 for word in words if sum([ord(i)-64 for i in word]) in trinum ])"
   ]
  },
  {
   "cell_type": "markdown",
   "metadata": {},
   "source": [
    "## ↓↓↓↓↓↓↓↓↓↓↓↓↓↓↓ old "
   ]
  },
  {
   "cell_type": "code",
   "execution_count": 11,
   "metadata": {},
   "outputs": [
    {
     "name": "stdout",
     "output_type": "stream",
     "text": [
      "1 A total: 1, Triangle number\n",
      "2 ABILITY total: 78, Triangle number\n",
      "3 ABLE total: 20, Triangle number\n",
      "4 ABOUT total: 59, Triangle number\n",
      "5 ABOVE total: 45, Triangle number\n",
      "6 ABSENCE total: 49, Triangle number\n",
      "7 ABSOLUTELY total: 132, Triangle number\n",
      "8 ACADEMIC total: 39, Triangle number\n",
      "9 ACCEPT total: 48, Triangle number\n",
      "10 ACCESS total: 50, Triangle number\n",
      "10\n"
     ]
    }
   ],
   "source": [
    "# check triangle number\n",
    "def is_trinum(num):\n",
    "    return True\n",
    "\n",
    "count =0\n",
    "for idx,val in enumerate(words[:10]):\n",
    "    total=0\n",
    "    for i in val:\n",
    "        total=total+ord(i)-64\n",
    "    print(idx+1,val,\"total:\",total,end=',')\n",
    "    if is_trinum(total):\n",
    "        print(\" Triangle number\")\n",
    "        count+=1\n",
    "    else:\n",
    "        print()\n",
    "print(count)"
   ]
  },
  {
   "cell_type": "code",
   "execution_count": 15,
   "metadata": {},
   "outputs": [
    {
     "name": "stdout",
     "output_type": "stream",
     "text": [
      "10.488088481701515\n",
      "10\n",
      "110\n"
     ]
    }
   ],
   "source": [
    "print(110**0.5)\n",
    "print(int(110**0.5))\n",
    "print(10*10+10)"
   ]
  },
  {
   "cell_type": "code",
   "execution_count": 18,
   "metadata": {},
   "outputs": [
    {
     "name": "stdout",
     "output_type": "stream",
     "text": [
      "110\n",
      "110\n",
      "True\n"
     ]
    }
   ],
   "source": [
    "i=55\n",
    "n=int((i*2)**0.5)\n",
    "print(i*2)\n",
    "print(n*(n+1))\n",
    "print(i*2 == n*(n+1))"
   ]
  },
  {
   "cell_type": "code",
   "execution_count": 8,
   "metadata": {},
   "outputs": [
    {
     "name": "stdout",
     "output_type": "stream",
     "text": [
      "1 True\n",
      "2 False\n",
      "3 True\n",
      "4 False\n",
      "5 False\n",
      "6 True\n",
      "7 False\n",
      "8 False\n",
      "9 False\n",
      "10 True\n",
      "11 False\n",
      "12 False\n",
      "13 False\n",
      "14 False\n",
      "15 True\n",
      "16 False\n",
      "17 False\n",
      "18 False\n",
      "19 False\n",
      "20 False\n"
     ]
    }
   ],
   "source": [
    "for i in range(1,21):\n",
    "    n=int((i*2)**0.5)\n",
    "    print(i, i*2 == n*(n+1))"
   ]
  },
  {
   "cell_type": "code",
   "execution_count": 23,
   "metadata": {},
   "outputs": [
    {
     "name": "stdout",
     "output_type": "stream",
     "text": [
      "1\n",
      "3\n",
      "6\n",
      "10\n",
      "15\n",
      "21\n",
      "28\n",
      "36\n",
      "45\n",
      "55\n"
     ]
    }
   ],
   "source": [
    "for i in range(1,60):\n",
    "    n=int((i*2)**0.5)\n",
    "    if i*2 == n*(n+1) :\n",
    "        print(i)"
   ]
  },
  {
   "cell_type": "code",
   "execution_count": 5,
   "metadata": {},
   "outputs": [
    {
     "name": "stdout",
     "output_type": "stream",
     "text": [
      "1 A total: 1 triangle number\n",
      "2 ABILITY total: 78 triangle number\n",
      "5 ABOVE total: 45 triangle number\n",
      "12 ACCOMPANY total: 91 triangle number\n",
      "16 ACHIEVEMENT total: 105 triangle number\n",
      "48 AGENCY total: 55 triangle number\n",
      "51 AGREE total: 36 triangle number\n",
      "56 AIR total: 28 triangle number\n",
      "63 ALREADY total: 66 triangle number\n",
      "72 AN total: 15 triangle number\n",
      "74 ANCIENT total: 66 triangle number\n",
      "87 APPARENT total: 91 triangle number\n",
      "94 APPOINT total: 91 triangle number\n",
      "96 APPROACH total: 78 triangle number\n",
      "121 ASSUME total: 78 triangle number\n",
      "123 AT total: 21 triangle number\n",
      "124 ATMOSPHERE total: 120 triangle number\n",
      "147 BAG total: 10 triangle number\n",
      "150 BAND total: 21 triangle number\n",
      "151 BANK total: 28 triangle number\n",
      "152 BAR total: 21 triangle number\n",
      "159 BEAT total: 28 triangle number\n",
      "172 BELONG total: 55 triangle number\n",
      "174 BENEATH total: 55 triangle number\n",
      "196 BONE total: 36 triangle number\n",
      "199 BOTH total: 45 triangle number\n",
      "208 BRIDGE total: 45 triangle number\n",
      "216 BUILDING total: 78 triangle number\n",
      "217 BURN total: 55 triangle number\n",
      "225 CALL total: 28 triangle number\n",
      "230 CAPACITY total: 78 triangle number\n",
      "236 CAREFUL total: 66 triangle number\n",
      "239 CASE total: 28 triangle number\n",
      "266 CHILD total: 36 triangle number\n",
      "274 CIVIL total: 55 triangle number\n",
      "283 CLOSELY total: 91 triangle number\n",
      "297 COME total: 36 triangle number\n",
      "326 CONFIDENCE total: 78 triangle number\n",
      "327 CONFIRM total: 78 triangle number\n",
      "333 CONSERVATIVE total: 153 triangle number\n",
      "339 CONSTRUCTION total: 171 triangle number\n",
      "343 CONTENT total: 91 triangle number\n",
      "359 COULD total: 55 triangle number\n",
      "384 CURRENTLY total: 136 triangle number\n",
      "403 DECISION total: 78 triangle number\n",
      "409 DEFINITION total: 105 triangle number\n",
      "413 DEMOCRATIC total: 91 triangle number\n",
      "418 DEPUTY total: 91 triangle number\n",
      "425 DESPITE total: 78 triangle number\n",
      "451 DISTINCTION total: 136 triangle number\n",
      "484 EAST total: 45 triangle number\n",
      "489 EDGE total: 21 triangle number\n",
      "492 EDUCATIONAL total: 105 triangle number\n",
      "493 EFFECT total: 45 triangle number\n",
      "531 EQUIPMENT total: 120 triangle number\n",
      "542 EVENT total: 66 triangle number\n",
      "582 FACE total: 15 triangle number\n",
      "587 FAIL total: 28 triangle number\n",
      "594 FAMILY total: 66 triangle number\n",
      "606 FEEL total: 28 triangle number\n",
      "610 FIELD total: 36 triangle number\n",
      "612 FIGURE total: 66 triangle number\n",
      "633 FLOOR total: 66 triangle number\n",
      "654 FREEDOM total: 66 triangle number\n",
      "665 FUND total: 45 triangle number\n",
      "668 FUTURE total: 91 triangle number\n",
      "679 GENTLEMAN total: 91 triangle number\n",
      "693 GREY total: 55 triangle number\n",
      "698 GROWTH total: 91 triangle number\n",
      "702 HAIR total: 36 triangle number\n",
      "709 HAPPY total: 66 triangle number\n",
      "713 HAVE total: 36 triangle number\n",
      "725 HERE total: 36 triangle number\n",
      "733 HIS total: 36 triangle number\n",
      "759 IF total: 15 triangle number\n",
      "777 INCIDENT total: 78 triangle number\n",
      "782 INCREASED total: 78 triangle number\n",
      "783 INCREASINGLY total: 136 triangle number\n",
      "788 INDIVIDUAL total: 105 triangle number\n",
      "804 INSTRUMENT total: 153 triangle number\n",
      "806 INTEND total: 66 triangle number\n",
      "807 INTENTION total: 120 triangle number\n",
      "824 IS total: 28 triangle number\n",
      "862 LAW total: 36 triangle number\n",
      "866 LEADER total: 45 triangle number\n",
      "874 LEAVE total: 45 triangle number\n",
      "879 LENGTH total: 66 triangle number\n",
      "880 LESS total: 55 triangle number\n",
      "901 LITTLE total: 78 triangle number\n",
      "914 LOVELY total: 91 triangle number\n",
      "926 MAN total: 28 triangle number\n",
      "940 MATCH total: 45 triangle number\n",
      "962 MERELY total: 78 triangle number\n",
      "970 MILK total: 45 triangle number\n",
      "977 MISTAKE total: 78 triangle number\n",
      "992 MOVE total: 55 triangle number\n",
      "994 MUCH total: 45 triangle number\n",
      "1012 NEED total: 28 triangle number\n",
      "1039 NOTICE total: 66 triangle number\n",
      "1045 OBJECT total: 55 triangle number\n",
      "1046 OBJECTIVE total: 91 triangle number\n",
      "1055 OF total: 21 triangle number\n",
      "1063 OIL total: 36 triangle number\n",
      "1069 ONLY total: 66 triangle number\n",
      "1086 OTHER total: 66 triangle number\n",
      "1090 OURSELVES total: 136 triangle number\n",
      "1110 PART total: 55 triangle number\n",
      "1116 PASS total: 55 triangle number\n",
      "1119 PATH total: 45 triangle number\n",
      "1130 PERFORM total: 91 triangle number\n",
      "1195 PRISON total: 91 triangle number\n",
      "1197 PRIVATE total: 91 triangle number\n",
      "1198 PROBABLY total: 91 triangle number\n",
      "1200 PROCEDURE total: 105 triangle number\n",
      "1235 QUALITY total: 105 triangle number\n",
      "1237 QUESTION total: 120 triangle number\n",
      "1247 RANGE total: 45 triangle number\n",
      "1254 READ total: 28 triangle number\n",
      "1258 REAL total: 36 triangle number\n",
      "1296 RELIEF total: 55 triangle number\n",
      "1303 REMOVE total: 78 triangle number\n",
      "1308 REPRESENT total: 120 triangle number\n",
      "1311 REQUEST total: 105 triangle number\n",
      "1317 RESPOND total: 91 triangle number\n",
      "1331 RIDE total: 36 triangle number\n",
      "1354 SAMPLE total: 66 triangle number\n",
      "1357 SAY total: 45 triangle number\n",
      "1370 SEAT total: 45 triangle number\n",
      "1377 SECURITY total: 120 triangle number\n",
      "1433 SINGLE total: 66 triangle number\n",
      "1442 SKY total: 55 triangle number\n",
      "1455 SOIL total: 55 triangle number\n",
      "1457 SOLICITOR total: 120 triangle number\n",
      "1467 SONG total: 55 triangle number\n",
      "1474 SOUTHERN total: 120 triangle number\n",
      "1484 SPIRIT total: 91 triangle number\n",
      "1494 START total: 78 triangle number\n",
      "1533 SUGGESTION total: 136 triangle number\n",
      "1553 TALL total: 45 triangle number\n",
      "1557 TAX total: 45 triangle number\n",
      "1588 THEORY total: 91 triangle number\n",
      "1601 THREATEN total: 91 triangle number\n",
      "1603 THROUGHOUT total: 153 triangle number\n",
      "1609 TITLE total: 66 triangle number\n",
      "1618 TOOTH total: 78 triangle number\n",
      "1621 TOTALLY total: 105 triangle number\n",
      "1635 TRAVEL total: 78 triangle number\n",
      "1651 TYPE total: 66 triangle number\n",
      "1653 UNABLE total: 55 triangle number\n",
      "1655 UNDERSTAND total: 120 triangle number\n",
      "1668 UPON total: 66 triangle number\n",
      "1672 USE total: 45 triangle number\n",
      "1681 VARIOUS total: 105 triangle number\n",
      "1682 VARY total: 66 triangle number\n",
      "1690 VIDEO total: 55 triangle number\n",
      "1701 WAGE total: 36 triangle number\n",
      "1707 WARM total: 55 triangle number\n",
      "1710 WATCH total: 55 triangle number\n",
      "1714 WE total: 28 triangle number\n",
      "1735 WHILST total: 91 triangle number\n",
      "1743 WIDELY total: 78 triangle number\n",
      "1759 WOMAN total: 66 triangle number\n",
      "162\n",
      "time: 0.07810235023498535\n"
     ]
    }
   ],
   "source": [
    "# final\n",
    "import time\n",
    "start=time.time()\n",
    "\n",
    "def is_trinum(num):\n",
    "    n=int((num*2)**0.5)\n",
    "    if num*2 == n*(n+1) :\n",
    "        return True\n",
    "\n",
    "count =0\n",
    "for idx,val in enumerate(words):\n",
    "    total=0\n",
    "    for i in val:\n",
    "        total=total+ord(i)-64\n",
    "    if is_trinum(int(total)):\n",
    "        print(idx+1,val,\"total:\",total, \"triangle number\")\n",
    "        count+=1\n",
    "print(count)\n",
    "print('time:',time.time()-start)"
   ]
  },
  {
   "cell_type": "code",
   "execution_count": 6,
   "metadata": {},
   "outputs": [
    {
     "data": {
      "text/plain": [
       "162"
      ]
     },
     "execution_count": 6,
     "metadata": {},
     "output_type": "execute_result"
    }
   ],
   "source": [
    "# final - condensed\n",
    "def is_trinum(num):\n",
    "    n=int((num*2)**0.5)\n",
    "    if num*2 == n*(n+1) :\n",
    "        return True\n",
    "\n",
    "sum([1 for x in words if is_trinum(sum([ord(i)-64 for i in x]))])"
   ]
  },
  {
   "cell_type": "code",
   "execution_count": 16,
   "metadata": {},
   "outputs": [
    {
     "name": "stdout",
     "output_type": "stream",
     "text": [
      "162\n"
     ]
    }
   ],
   "source": [
    "# use array \n",
    "trinum=[n*(n+1)/2 for n in range(20)]\n",
    "\n",
    "count =0\n",
    "for x in words:\n",
    "    total=0\n",
    "    for i in x:\n",
    "        total+=ord(i)-64\n",
    "    if int(total) in trinum:\n",
    "        count+=1\n",
    "print(count)"
   ]
  },
  {
   "cell_type": "code",
   "execution_count": 18,
   "metadata": {},
   "outputs": [
    {
     "name": "stdout",
     "output_type": "stream",
     "text": [
      "162\n"
     ]
    }
   ],
   "source": [
    "# use array :condensed\n",
    "trinum=[n*(n+1)/2 for n in range(20)]\n",
    "\n",
    "count =0\n",
    "for x in words:\n",
    "    total=sum([ord(i)-64 for i in x])\n",
    "    if int(total) in trinum:\n",
    "        count+=1\n",
    "print(count)"
   ]
  },
  {
   "cell_type": "code",
   "execution_count": 3,
   "metadata": {},
   "outputs": [
    {
     "data": {
      "text/plain": [
       "162"
      ]
     },
     "execution_count": 3,
     "metadata": {},
     "output_type": "execute_result"
    }
   ],
   "source": [
    "# use array :condensed 2\n",
    "trinum=[n*(n+1)/2 for n in range(20)]\n",
    "sum([1 for x in words if sum([ord(i)-64 for i in x]) in trinum])"
   ]
  },
  {
   "cell_type": "code",
   "execution_count": 4,
   "metadata": {},
   "outputs": [
    {
     "data": {
      "text/plain": [
       "162"
      ]
     },
     "execution_count": 4,
     "metadata": {},
     "output_type": "execute_result"
    }
   ],
   "source": [
    "# use array :condensed 3\n",
    "sum([1 for x in words if sum([ord(i)-64 for i in x]) in [n*(n+1)/2 for n in range(20)]])"
   ]
  },
  {
   "cell_type": "code",
   "execution_count": 18,
   "metadata": {},
   "outputs": [
    {
     "name": "stdout",
     "output_type": "stream",
     "text": [
      "192\n",
      "time: 0.015622138977050781\n"
     ]
    }
   ],
   "source": [
    "# prove max value\n",
    "import time\n",
    "start=time.time()\n",
    "\n",
    "maxv=0\n",
    "for x in words:\n",
    "    total=0\n",
    "    for i in x:\n",
    "        total=total+ord(i)-64\n",
    "    if total>maxv:\n",
    "        maxv=total\n",
    "\n",
    "print(maxv)\n",
    "print('time:',time.time()-start)"
   ]
  },
  {
   "cell_type": "code",
   "execution_count": null,
   "metadata": {
    "collapsed": true
   },
   "outputs": [],
   "source": [
    "#forum-1\n",
    "import time\n",
    "\n",
    "open_file = open('ProjectEuler042File.txt', 'r')\n",
    "name_list = open_file.read().split(\",\")\n",
    "\n",
    "def result():\n",
    "    triangle_number = [int(0.5 * x * (x + 1)) for x in range(1, 20)]\n",
    "\n",
    "    count = 0\n",
    "    temp  = 0\n",
    "\n",
    "    for a in range(len(name_list)):\n",
    "        for b in range(1, len(name_list[a]) - 1):\n",
    "            temp += ord(name_list[a][b]) - 64\n",
    "\n",
    "        if temp in triangle_number:\n",
    "            count += 1\n",
    "\n",
    "        temp = 0\n",
    "\n",
    "    return count\n",
    "\n",
    "start_time = time.time()\n",
    "\n",
    "print(result())\n",
    "print(\"{} ms\".format(round(1000 * (time.time() - start_time))))"
   ]
  },
  {
   "cell_type": "code",
   "execution_count": null,
   "metadata": {
    "collapsed": true
   },
   "outputs": [],
   "source": [
    "#forum-2\n",
    "print(sum([1 for word in open(\"Q042_Words.txt\").readline()[1:][:-1].split('\",\"') if sum([ord(Dig) % 32 for Dig in word]) in [int(0.5*i*(i+1)) for i in range(1, 30)]]))"
   ]
  },
  {
   "cell_type": "code",
   "execution_count": null,
   "metadata": {
    "collapsed": true
   },
   "outputs": [],
   "source": [
    "#forum-3\n",
    "import string\n",
    "\n",
    "triangleNumbers = [int((x*(x+1))/2) for x in range(1,101)]\n",
    "alpha = string.ascii_lowercase.upper()\n",
    "\n",
    "tcount = 0\n",
    "g = open(\"words.txt\",\"r\")\n",
    "\n",
    "s = g.read()\n",
    "s = s.replace(\"\\\"\",\"\")\n",
    "k = s.split(\",\")\n",
    "\n",
    "for i in k:\n",
    "  sumofchar = 0\n",
    "  for c in range(len(i)):\n",
    "    sumofchar = sumofchar + alpha.index(i[c]) + 1\n",
    "  if(sumofchar in triangleNumbers):\n",
    "    tcount = tcount+1\n",
    "\n",
    "\n",
    "print(tcount)\n",
    "g.close()\n"
   ]
  },
  {
   "cell_type": "code",
   "execution_count": null,
   "metadata": {
    "collapsed": true
   },
   "outputs": [],
   "source": [
    "#forum-4\n",
    "print(len(list(filter(lambda x: ((1+8*x)**0.5 - 1)/2 == int(((1+8*x)**0.5 - 1)/2), list(map(lambda word: sum([ord(letter)-64 for letter in word]), open(\"Q42.txt\", \"r\").read().replace(\"\\\"\",\"\").split(\",\")))))))"
   ]
  },
  {
   "cell_type": "code",
   "execution_count": null,
   "metadata": {
    "collapsed": true
   },
   "outputs": [],
   "source": [
    "#forum-5\n",
    "from string import ascii_uppercase\n",
    "\n",
    "file = open('p042_words.txt', 'r')\n",
    "words = file.readline().split(',')\n",
    "file.close()\n",
    "words = [word.replace('\"', '') for word in words]\n",
    "\n",
    "def triangle(n):\n",
    "    return (n * (n + 1)) // 2\n",
    "\n",
    "def value(word):\n",
    "    return sum(ascii_uppercase.index(letter) + 1 for letter in word)\n",
    "\n",
    "triangle_numbers = [triangle(n) for n in range(1, 19)]\n",
    "print(len([word for word in words if value(word) in triangle_numbers]))"
   ]
  },
  {
   "cell_type": "code",
   "execution_count": null,
   "metadata": {
    "collapsed": true
   },
   "outputs": [],
   "source": [
    "#forum-6\n",
    "from txt import words\n",
    "def coded_triangle_numbers(words):\n",
    "    letters = {\n",
    "        \"a\": 1, \"b\": 2, \"c\": 3, \"d\": 4, \"e\": 5, \"f\": 6, \"g\": 7,\n",
    "        \"h\": 8, \"i\": 9, \"j\": 10, \"k\": 11, \"l\": 12, \"m\": 13, \"n\": 14,\n",
    "        \"o\": 15, \"p\": 16, \"q\": 17, \"r\": 18, \"s\": 19, \"t\": 20, \"u\": 21,\n",
    "        \"v\": 22, \"w\": 23, \"x\": 24, \"y\": 25, \"z\": 26\n",
    "    }\n",
    "\n",
    "    triangle_words = {}\n",
    "    tn = [int(((1 / 2) * n) * (n + 1)) for n in range(1, 26)]\n",
    "\n",
    "    for word in words:\n",
    "        word_value = 0\n",
    "        for letter in word:\n",
    "            word_value += letters[letter.lower()]\n",
    "        if word_value in tn:\n",
    "            triangle_words[word] = word_value\n",
    "\n",
    "    return len(triangle_words)"
   ]
  },
  {
   "cell_type": "code",
   "execution_count": null,
   "metadata": {
    "collapsed": true
   },
   "outputs": [],
   "source": [
    "#forum-7\n",
    "import time\n",
    "def word_value(word):\n",
    "  abc = \"abcdefghijklmnopqrstuvwxyz\"\n",
    "  ABC = \"ABCDEFGHIJKLMNOPQRSTUVWXYZ\"\n",
    "  value = 0\n",
    "  for c in word:\n",
    "    if c in abc:\n",
    "      value += abc.find(c) + 1\n",
    "    else:\n",
    "      value += ABC.find(c) + 1\n",
    "  return value\n",
    "  \n",
    "def isTriangular(value, tr_list):\n",
    "  while value > tr_list[len(tr_list)-1]:\n",
    "    tr_list.append((len(tr_list)-1)//2*(len(tr_list)-1))\n",
    "  if value in tr_list:\n",
    "    return True\n",
    "  return False\n",
    "\n",
    "start_time = time.time()\n",
    "with open(\"p042_words.txt\") as f:\n",
    "  str = f.read()\n",
    "str = str.replace('\"', '')\n",
    "str_list = str.split(',')\n",
    "cnt = 0\n",
    "tr_list = [1]\n",
    "for w in str_list:\n",
    "  if isTriangular(word_value(w), tr_list):\n",
    "    cnt+=1\n",
    "print(cnt)\n",
    "print(\"{} ms\".format(round(1000 * (time.time() - start_time))))"
   ]
  },
  {
   "cell_type": "code",
   "execution_count": null,
   "metadata": {
    "collapsed": true
   },
   "outputs": [],
   "source": [
    "#forum-8\n",
    "import time\n",
    "from math import sqrt\n",
    "from my_util import run_main\n",
    "\n",
    "# the dictionary mapping capital letter to its alphabetical position\n",
    "letter_dict = {chr(i + 64): i for i in range(1, 27)}\n",
    "tn_cache = set()\n",
    "\n",
    "def word_sum(word):\n",
    "    '''Return the sum of alphabetical position of each letter in word'''\n",
    "    s = 0\n",
    "    for c in word:\n",
    "        s += letter_dict[c]\n",
    "    return s\n",
    "\n",
    "def is_tn(n):\n",
    "    '''Determine if n is triangle number'''\n",
    "    if n in tn_cache:\n",
    "        return True\n",
    "    k = int(sqrt(2*n)) + 1\n",
    "    is_true = n == k*(k-1) // 2\n",
    "    if is_true:\n",
    "        tn_cache.add(n)\n",
    "    return is_true\n",
    "\n",
    "def solve():\n",
    "    with open('p042_words.txt', encoding = 'utf-8') as file:\n",
    "        content = file.read()\n",
    "        words = content.split('\",\"')\n",
    "    # by executing content.split('\",\"'), the first \" of the first word and\n",
    "    # the last \" of the last word will remain, remove them\n",
    "    words[0] = words[0][1::]\n",
    "    words[-1] = words[-1][:-1]\n",
    "    \n",
    "    count = 0\n",
    "    for word in words:\n",
    "        if is_tn(word_sum(word)):\n",
    "            count += 1\n",
    "    return count\n",
    "\n",
    "print('executing...')\n",
    "start = time.time()\n",
    "print(solve())\n",
    "end = time.time()\n",
    "print('finished, used {} seconds'.format(end - start))"
   ]
  },
  {
   "cell_type": "code",
   "execution_count": null,
   "metadata": {
    "collapsed": true
   },
   "outputs": [],
   "source": [
    "#forum-9\n",
    "#! python3.x\n",
    "\n",
    "triNum = set()\n",
    "for n in range(1,100):\n",
    "    triNum.add(int((1/2) * n * (n + 1)))\n",
    "  \n",
    "\n",
    "apbDict = {'A':1, 'B':2, 'C':3, 'D':4, 'E':5, 'F':6, 'G':7, 'H':8,'I':9, 'J':10, 'K':11,\n",
    "                'L':12, 'M':13, 'N':14, 'O':15, 'P':16, 'Q':17, 'R':18, 'S':19, 'T':20,\n",
    "                'U':21, 'V':22, 'W':23,'X':24, 'Y':25, 'Z':26\n",
    "               }\n",
    "\n",
    "words = open('p042_words.txt', 'r').read()[1:-1]\n",
    "wordsList = words.split('\",\"')\n",
    "\n",
    "TriWord = 0\n",
    "for word in wordsList:\n",
    "   \n",
    "    valWord = 0\n",
    "    for apb in list(word):\n",
    "        valWord = valWord + apbDict.get(apb)\n",
    "        \n",
    "    if valWord in triNum:\n",
    "        TriWord += 1\n",
    "        \n",
    "print(TriWord)"
   ]
  },
  {
   "cell_type": "code",
   "execution_count": null,
   "metadata": {
    "collapsed": true
   },
   "outputs": [],
   "source": [
    "#forum-10\n",
    "f = open(\"p042_words.txt\")\n",
    "words = f.read().replace(\"\\\"\", \"\").split(sep = \",\")\n",
    "f.close()\n",
    "values = map(lambda w: sum([ord(l)-ord(\"A\")+1 for l in w]), words)\n",
    "triangles = [int(1/2*n*(n+1)) for n in range(1,int((2*max(values))**0.5)+1)]\n",
    "print(len(list(filter(lambda v: v in triangles, values))))"
   ]
  },
  {
   "cell_type": "code",
   "execution_count": null,
   "metadata": {
    "collapsed": true
   },
   "outputs": [],
   "source": [
    "#forum-11\n",
    "import time\n",
    "start = time.time()\n",
    "file = open(r\"C:\\Users\\lucas\\Documents\\Project Euler\\Project Euler 42\\p042_words.txt\",'r')\n",
    "wordtext = str(file.read())\n",
    "words = wordtext.split(\",\")\n",
    "for x in range(len(words)):\n",
    "    words[x] = words[x][1:-1]\n",
    "alphabet = 'A-B-C-D-E-F-G-H-I-J-K-L-M-N-O-P-Q-R-S-T-U-V-W-X-Y-Z'\n",
    "alphabet = alphabet.split(\"-\")\n",
    "\n",
    "triwors = []\n",
    "def tri(num):\n",
    "    sol = (-1+(1+8*num)**0.5)/2*-2*num*1\n",
    "    if int(sol)==sol:\n",
    "        return True\n",
    "    return False\n",
    "for x in range(len(words)):\n",
    "    total = 0\n",
    "    for y in range(len(words[x])):\n",
    "        total += alphabet.index(words[x][y])+1\n",
    "    if tri(total) == True:\n",
    "        triwors += [x]\n",
    "\n",
    "print(time.time()-start)\n",
    "input(\"\")"
   ]
  },
  {
   "cell_type": "code",
   "execution_count": null,
   "metadata": {
    "collapsed": true
   },
   "outputs": [],
   "source": [
    "#forum-12\n",
    "T = []\n",
    "for n in range (100):\n",
    "    T.append(int((n*(n+1))/2))\n",
    "print(T)\n",
    "\n",
    "with open(\"C:\\\\p042_words.txt\",\"r\") as f:\n",
    "    f_list = sorted(list(f.read().replace(\"\\\"\",\"\").split(\",\")))\n",
    "\n",
    "sum = 0\n",
    "trig_word_list = []\n",
    "for word in f_list:\n",
    "    for letter in word:\n",
    "        sum += ord(letter.upper())-64\n",
    "    if sum in T:\n",
    "        trig_word_list.append(word)\n",
    "    sum = 0\n",
    "\n",
    "print(trig_word_list)\n",
    "print(len(trig_word_list))"
   ]
  },
  {
   "cell_type": "code",
   "execution_count": null,
   "metadata": {
    "collapsed": true
   },
   "outputs": [],
   "source": [
    "#forum-13\n",
    "def triangle_number(n):\n",
    "    \"\"\"return the nth triangle number\"\"\"\n",
    "    return n * (n + 1) // 2\n",
    "\n",
    "\n",
    "def word_value(word):\n",
    "    \"\"\"return the sum of the numerical position of the alphabets\n",
    "    of word\n",
    "    \"\"\"\n",
    "    char_num = {k:v for k, v in zip(map(chr, range(97, 97+26)), range(1, 27))}\n",
    "    return sum(char_num[c] for c in word.lower())\n",
    "\n",
    "\n",
    "with open(\"p042_words.txt\") as fh:\n",
    "    data = fh.read()\n",
    "\n",
    "\n",
    "workin_data = data.replace(\"\\\"\", \"\").split(\",\")\n",
    "trinums30 = [triangle_number(i) for i in range(1, 25)]\n",
    "print(len([word for word in workin_data if word_value(word) in trinums30]))"
   ]
  },
  {
   "cell_type": "code",
   "execution_count": null,
   "metadata": {
    "collapsed": true
   },
   "outputs": [],
   "source": [
    "#forum-15\n",
    "with open('p042_words.txt') as f:\n",
    "    words = f.read().replace('\"', '').split(',')\n",
    "\n",
    "count = 0\n",
    "for w in words:\n",
    "    v = sum(ord(e) - 64 for e in w)\n",
    "    n = (-1 + (1 + 8*v)**0.5) / 2\n",
    "    if n.is_integer():\n",
    "        count += 1\n",
    "print(count)"
   ]
  },
  {
   "cell_type": "code",
   "execution_count": null,
   "metadata": {
    "collapsed": true
   },
   "outputs": [],
   "source": [
    "#forum-16\n",
    "def readfile(name):\n",
    "    with open(name, 'r') as f:\n",
    "        s=f.read()\n",
    "    return [c.strip('\"') for c in s.split(',')]\n",
    "\n",
    "def triangle(n):\n",
    "    return n*(n+1)//2\n",
    "\n",
    "def number(c):\n",
    "    return ord(c)-64\n",
    "\n",
    "def wordvalue(s):\n",
    "    return sum([int(number(c)) for c in s])\n",
    "\n",
    "def euler42():\n",
    "    L = readfile('p042_words.txt')\n",
    "    print(len(L))\n",
    "    V = [wordvalue(word) for word in L]\n",
    "    m = max(V) #let's find the max triangle number we can test\n",
    "    n = 1\n",
    "    while triangle(n)<m:\n",
    "        n+=1\n",
    "    T = [triangle(i) for i in range(1,n)]\n",
    "    print(m, n, T[-1])\n",
    "    return sum(1 for v in V if v in T)\n",
    "    \n",
    "print(euler42())"
   ]
  },
  {
   "cell_type": "code",
   "execution_count": null,
   "metadata": {
    "collapsed": true
   },
   "outputs": [],
   "source": [
    "#forum-17\n",
    "# Generate list object of words from file\n",
    "foo = open(\"words.txt\",\"r\")\n",
    "rawWordList = foo.read().split(\",\")\n",
    "foo.close()\n",
    "wordList = []\n",
    "for word in rawWordList:\n",
    "   wordList.append(word.replace('\"', ''))\n",
    "\n",
    "# Generate reference list of triangle numbers\n",
    "triNums = [1]\n",
    "i = 2\n",
    "while max(triNums) < len(max(wordList, key=len))*26:\n",
    "   triNums.append(triNums[-1]+i)\n",
    "   i += 1\n",
    "\n",
    "# Check if a word is a triangle word\n",
    "alphabet = '0ABCDEFGHIJKLMNOPQRSTUVWXYZ'\n",
    "def isTriWord(word):\n",
    "   wordVal = 0\n",
    "   for char in word:\n",
    "      wordVal += alphabet.index(char)\n",
    "   return wordVal in triNums\n",
    "\n",
    "# Iterate through list to find triangle words\n",
    "numOfTriWords = 0\n",
    "for word in wordList:\n",
    "   if isTriWord(word):\n",
    "      numOfTriWords += 1\n",
    "\n",
    "print \"Total number of triangle words:\", numOfTriWords"
   ]
  },
  {
   "cell_type": "code",
   "execution_count": null,
   "metadata": {
    "collapsed": true
   },
   "outputs": [],
   "source": [
    "#forum-18\n",
    "wordlist = []\n",
    "wordcount = 0\n",
    "triangle_number_list = [ t*(t+1)/2 for t in range(1,30)]\n",
    "\n",
    "\n",
    "with open('/home/mg/Downloads/p042_words.txt', newline='') as csvfile:\n",
    "     wordfile = csv.reader(csvfile, delimiter=',', quotechar='\"')\n",
    "     for row in wordfile: wordlist += row\n",
    "\n",
    "for word in wordlist:\n",
    "    wordvalue = 0\n",
    "    for c in word:\n",
    "        wordvalue += ord(c)-64\n",
    "    if wordvalue in triangle_number_list:\n",
    "        wordcount += 1\n",
    "\n",
    "print(wordcount)"
   ]
  },
  {
   "cell_type": "code",
   "execution_count": null,
   "metadata": {
    "collapsed": true
   },
   "outputs": [],
   "source": [
    "#forum-19\n",
    "from math import sqrt\n",
    "\n",
    "def IsTriangle(n):\n",
    "    a = (sqrt(8*n + 1) - 1)/2\n",
    "    if a.is_integer():\n",
    "        return True;\n",
    "    return False;\n",
    "\n",
    "def Problem42(str):\n",
    "    countTriangles, count, sum = 0, 0, 0\n",
    "    for i in range(0, len(str)):\n",
    "        if (str[i] == ','):\n",
    "            sum = 0\n",
    "            continue\n",
    "        elif (str[i] == '\"'):\n",
    "            count += 1\n",
    "            if (count == 2):\n",
    "                if (IsTriangle(sum)):\n",
    "                    countTriangles += 1\n",
    "                count = 0\n",
    "            continue\n",
    "        sum += (ord(str[i]) - 64)\n",
    "    return countTriangles;\n",
    "\n",
    "\n",
    "path = \"C:\\p042_words.txt\"\n",
    "File = open(path, 'r')\n",
    "print(Problem42(File.read()))"
   ]
  },
  {
   "cell_type": "code",
   "execution_count": null,
   "metadata": {
    "collapsed": true
   },
   "outputs": [],
   "source": [
    "#forum-20\n",
    "from math import sqrt\n",
    "with open('test.txt','r') as f:\n",
    "    a = [sum((ord(x)-ord('A')+1 for x in i)) for i in f.readline().replace('\"','').split(',')]\n",
    "    print sum([1 for i in a if int(sqrt(8*i+1))**2 == 8*i+1])"
   ]
  },
  {
   "cell_type": "code",
   "execution_count": null,
   "metadata": {
    "collapsed": true
   },
   "outputs": [],
   "source": [
    "#forum-21\n",
    "def word_total(word):\n",
    "    wordtotal=0\n",
    "    for i in range(len(word)):\n",
    "        letter=word[i]\n",
    "        if letter=='A':\n",
    "            wordtotal+=1\n",
    "        elif letter=='B':\n",
    "            wordtotal+=2\n",
    "        elif letter=='C':\n",
    "            wordtotal+=3\n",
    "        elif letter=='D':\n",
    "            wordtotal+=4\n",
    "        elif letter=='E':\n",
    "            wordtotal+=5\n",
    "        elif letter=='F':\n",
    "            wordtotal+=6\n",
    "        elif letter=='G':\n",
    "            wordtotal+=7\n",
    "        elif letter=='H':\n",
    "            wordtotal+=8\n",
    "        elif letter=='I':\n",
    "            wordtotal+=9\n",
    "        elif letter=='J':\n",
    "            wordtotal+=10\n",
    "        elif letter=='K':\n",
    "            wordtotal+=11\n",
    "        elif letter=='L':\n",
    "            wordtotal+=12\n",
    "        elif letter=='M':\n",
    "            wordtotal+=13\n",
    "        elif letter=='N':\n",
    "            wordtotal+=14\n",
    "        elif letter=='O':\n",
    "            wordtotal+=15\n",
    "        elif letter=='P':\n",
    "            wordtotal+=16\n",
    "        elif letter=='Q':\n",
    "            wordtotal+=17\n",
    "        elif letter=='R':\n",
    "            wordtotal+=18\n",
    "        elif letter=='S':\n",
    "            wordtotal+=19\n",
    "        elif letter=='T':\n",
    "            wordtotal+=20\n",
    "        elif letter=='U':\n",
    "            wordtotal+=21\n",
    "        elif letter=='V':\n",
    "            wordtotal+=22\n",
    "        elif letter=='W':\n",
    "            wordtotal+=23\n",
    "        elif letter=='X':\n",
    "            wordtotal+=24\n",
    "        elif letter=='Y':\n",
    "            wordtotal+=25\n",
    "        elif letter=='Z':\n",
    "            wordtotal+=26\n",
    "    return wordtotal\n",
    "\n",
    "\"\"\"\n",
    "to check if a x is a triangle number:\n",
    "x=0.5n(n-1)\n",
    "rearrange:\n",
    "n^2+n-2x=0\n",
    "n=(-1±(1-8x)^0.5)/2\n",
    "if x is a triangle number (1+2+...+(n-1)+n), n will be integer\n",
    "\"\"\"\n",
    "\n",
    "counter=0\n",
    "for i in range(len(wordlist)):\n",
    "    if (-1+(1+8*word_total(wordlist[i]))**0.5)/2%1==0:\n",
    "        counter+=1\n",
    "print(counter)"
   ]
  }
 ],
 "metadata": {
  "kernelspec": {
   "display_name": "Python 3",
   "language": "python",
   "name": "python3"
  },
  "language_info": {
   "codemirror_mode": {
    "name": "ipython",
    "version": 3
   },
   "file_extension": ".py",
   "mimetype": "text/x-python",
   "name": "python",
   "nbconvert_exporter": "python",
   "pygments_lexer": "ipython3",
   "version": "3.6.5"
  }
 },
 "nbformat": 4,
 "nbformat_minor": 2
}
