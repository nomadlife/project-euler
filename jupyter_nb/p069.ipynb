{
 "cells": [
  {
   "cell_type": "markdown",
   "metadata": {},
   "source": [
    "## p069 Totient maximum\n",
    "\n",
    "\n",
    "Euler's Totient function, φ(n) [sometimes called the phi function], is used to determine the number of numbers less than n which are relatively prime to n. For example, as 1, 2, 4, 5, 7, and 8, are all less than nine and relatively prime to nine, φ(9)=6.\n",
    "\n",
    "    n \tRelatively Prime \tφ(n) \tn/φ(n)\n",
    "    2 \t1 \t                1 \t2\n",
    "    3 \t1,2 \t              2 \t1.5\n",
    "    4 \t1,3 \t              2 \t2\n",
    "    5 \t1,2,3,4 \t          4 \t1.25\n",
    "    6 \t1,5 \t              2 \t3\n",
    "    7 \t1,2,3,4,5,6 \t      6 \t1.1666...\n",
    "    8 \t1,3,5,7 \t          4 \t2\n",
    "    9 \t1,2,4,5,7,8 \t      6 \t1.5\n",
    "    10 \t1,3,7,9 \t         4 \t2.5\n",
    "\n",
    "It can be seen that n=6 produces a maximum n/φ(n) for n ≤ 10.\n",
    "\n",
    "Find the value of n ≤ 1,000,000 for which n/φ(n) is a maximum.\n"
   ]
  },
  {
   "cell_type": "code",
   "execution_count": 26,
   "metadata": {},
   "outputs": [
    {
     "data": {
      "text/plain": [
       "6"
      ]
     },
     "execution_count": 26,
     "metadata": {},
     "output_type": "execute_result"
    }
   ],
   "source": [
    "from math import gcd\n",
    "gcd(6,6)"
   ]
  },
  {
   "cell_type": "code",
   "execution_count": 2,
   "metadata": {},
   "outputs": [
    {
     "name": "stdout",
     "output_type": "stream",
     "text": [
      "2 1 == 1 2.0\n",
      "3 1 2 == 2 1.5\n",
      "4 1 3 == 2 2.0\n",
      "5 1 2 3 4 == 4 1.25\n",
      "6 1 5 == 2 3.0\n",
      "7 1 2 3 4 5 6 == 6 1.1666666666666667\n",
      "8 1 3 5 7 == 4 2.0\n",
      "9 1 2 4 5 7 8 == 6 1.5\n"
     ]
    }
   ],
   "source": [
    "from math import gcd\n",
    "\n",
    "def phi(num):\n",
    "    count=1\n",
    "    print(num,'1',end=' ')\n",
    "    for i in range(2,num):\n",
    "        if gcd(num,i)==1:\n",
    "            print(i,end=' ')\n",
    "            count+=1\n",
    "    print(\"==\",count,num/count)\n",
    "    \n",
    "for n in range(2,10):\n",
    "    phi(n)"
   ]
  },
  {
   "cell_type": "code",
   "execution_count": 29,
   "metadata": {},
   "outputs": [
    {
     "name": "stdout",
     "output_type": "stream",
     "text": [
      "3.0\n"
     ]
    }
   ],
   "source": [
    "#max value\n",
    "from math import gcd\n",
    "\n",
    "def phi(num):\n",
    "    count=1\n",
    "    for i in range(2,num):\n",
    "        if gcd(num,i)==1:\n",
    "            count+=1\n",
    "    return num/count\n",
    "\n",
    "maxValue=0\n",
    "for n in range(2,10):\n",
    "    v = phi(n)\n",
    "    if v > maxValue:\n",
    "        maxValue = v\n",
    "print(maxValue)"
   ]
  },
  {
   "cell_type": "code",
   "execution_count": 32,
   "metadata": {},
   "outputs": [
    {
     "name": "stdout",
     "output_type": "stream",
     "text": [
      "4.375\n"
     ]
    }
   ],
   "source": [
    "# 1,000\n",
    "# slow, need to speed up\n",
    "from math import gcd\n",
    "\n",
    "def phi(num):\n",
    "    count=1\n",
    "    for i in range(2,num):\n",
    "        if gcd(num,i)==1:\n",
    "            count+=1\n",
    "    return num/count\n",
    "\n",
    "maxValue=0\n",
    "for n in range(2,1000):\n",
    "    v = phi(n)\n",
    "    if v > maxValue:\n",
    "        maxValue = v\n",
    "print(maxValue)"
   ]
  },
  {
   "cell_type": "code",
   "execution_count": 1,
   "metadata": {},
   "outputs": [
    {
     "name": "stdout",
     "output_type": "stream",
     "text": [
      "4.8125\n",
      "calc time: -62.74798893928528\n"
     ]
    }
   ],
   "source": [
    "# 10,000\n",
    "# need to speed up\n",
    "from time import time as t\n",
    "start=t()\n",
    "from math import gcd\n",
    "\n",
    "def phi(num):\n",
    "    count=1\n",
    "    for i in range(2,num):\n",
    "        if gcd(num,i)==1:\n",
    "            count+=1\n",
    "    return num/count\n",
    "\n",
    "maxValue=0\n",
    "for n in range(2,10000):\n",
    "    v = phi(n)\n",
    "    if v > maxValue:\n",
    "        maxValue = v\n",
    "print(maxValue)\n",
    "print(\"calc time:\", t()-start)"
   ]
  },
  {
   "cell_type": "code",
   "execution_count": 7,
   "metadata": {},
   "outputs": [
    {
     "name": "stdout",
     "output_type": "stream",
     "text": [
      "2 2.0\n",
      "3 1.5\n",
      "4 2.0\n",
      "5 1.25\n",
      "6 3.0\n",
      "7 1.1666666666666667\n",
      "8 2.0\n",
      "9 1.5\n",
      "10 2.5\n",
      "11 1.1\n",
      "12 3.0\n",
      "13 1.0833333333333333\n",
      "14 2.3333333333333335\n",
      "15 1.875\n",
      "16 2.0\n",
      "17 1.0625\n",
      "18 3.0\n",
      "19 1.0555555555555556\n",
      "20 2.5\n",
      "21 1.75\n",
      "22 2.2\n",
      "23 1.0454545454545454\n",
      "24 3.0\n",
      "25 1.25\n",
      "26 2.1666666666666665\n",
      "27 1.5\n",
      "28 2.3333333333333335\n",
      "29 1.0357142857142858\n"
     ]
    }
   ],
   "source": [
    "# for speed up\n",
    "# pattern check\n",
    "\n",
    "from math import gcd\n",
    "\n",
    "def phi(num):\n",
    "    count=1\n",
    "    for i in range(2,num):\n",
    "        if gcd(num,i)==1:\n",
    "            count+=1\n",
    "    print(num,num/count)\n",
    "    \n",
    "for n in range(2,30):\n",
    "    phi(n)"
   ]
  },
  {
   "cell_type": "code",
   "execution_count": 12,
   "metadata": {},
   "outputs": [
    {
     "name": "stdout",
     "output_type": "stream",
     "text": [
      "7 1.1666666666666667\n",
      "49 1.1666666666666667\n",
      "343 1.1666666666666667\n"
     ]
    }
   ],
   "source": [
    "# for speed up\n",
    "# pattern check\n",
    "\n",
    "from math import gcd\n",
    "\n",
    "def phi(num):\n",
    "    count=1\n",
    "    for i in range(2,num):\n",
    "        if gcd(num,i)==1:\n",
    "            count+=1\n",
    "    return num/count\n",
    "    \n",
    "for n in range(2,1000):\n",
    "    v=phi(n)\n",
    "    if v == 1.1666666666666667:\n",
    "        print(n,v)"
   ]
  },
  {
   "cell_type": "code",
   "execution_count": 14,
   "metadata": {},
   "outputs": [
    {
     "name": "stdout",
     "output_type": "stream",
     "text": [
      "4.8125\n",
      "calc time: 56.01382660865784\n"
     ]
    }
   ],
   "source": [
    "# 10,000, dict\n",
    "from time import time as t\n",
    "start=t()\n",
    "from math import gcd\n",
    "\n",
    "def seive(n,v):\n",
    "    while n<10000:\n",
    "        cache[n]=v\n",
    "        n*=n\n",
    "    \n",
    "def phi(num):\n",
    "    count=1\n",
    "    for i in range(2,num):\n",
    "        if gcd(num,i)==1:\n",
    "            count+=1\n",
    "    return num/count\n",
    "\n",
    "cache={}\n",
    "maxValue=0\n",
    "for n in range(2,10000):\n",
    "    if (n) not in cache:\n",
    "        v = phi(n)\n",
    "        seive(n,v)\n",
    "        if v > maxValue:\n",
    "            maxValue = v\n",
    "print(maxValue)\n",
    "print(\"calc time:\", t()-start)"
   ]
  },
  {
   "cell_type": "code",
   "execution_count": 24,
   "metadata": {},
   "outputs": [
    {
     "name": "stdout",
     "output_type": "stream",
     "text": [
      "4.8125\n",
      "9998\n",
      "calc time: 56.09194469451904\n"
     ]
    }
   ],
   "source": [
    "# 10,000, set\n",
    "from time import time as t\n",
    "start=t()\n",
    "from math import gcd\n",
    "\n",
    "def seive(n):\n",
    "    while n<10000:\n",
    "        cache.add(n)\n",
    "        n*=n\n",
    "    \n",
    "def phi(num):\n",
    "    count=1\n",
    "    for i in range(2,num):\n",
    "        if gcd(num,i)==1:\n",
    "            count+=1\n",
    "    return num/count\n",
    "\n",
    "cache=set()\n",
    "maxValue=0\n",
    "for n in range(2,10000):\n",
    "    if (n) not in cache:\n",
    "        v = phi(n)\n",
    "        seive(n)\n",
    "        if v > maxValue:\n",
    "            maxValue = v\n",
    "print(maxValue)\n",
    "print(len(cache))\n",
    "print(\"calc time:\", t()-start)"
   ]
  },
  {
   "cell_type": "code",
   "execution_count": 23,
   "metadata": {},
   "outputs": [
    {
     "name": "stdout",
     "output_type": "stream",
     "text": [
      "<class 'set'>\n",
      "{1}\n",
      "True\n",
      "1\n"
     ]
    }
   ],
   "source": [
    "test=set()\n",
    "print(type(test))\n",
    "test.add(1)\n",
    "print(test)\n",
    "print(1 in test)\n",
    "print(len(test))"
   ]
  },
  {
   "cell_type": "code",
   "execution_count": 8,
   "metadata": {},
   "outputs": [
    {
     "name": "stdout",
     "output_type": "stream",
     "text": [
      "{1}\n",
      "{1, 2}\n",
      "3.0\n",
      "1.5\n"
     ]
    }
   ],
   "source": [
    "t=set()\n",
    "t.add(1)\n",
    "print(t)\n",
    "t.add(2)\n",
    "print(t)\n",
    "for i in t:\n",
    "    print(3/i)"
   ]
  },
  {
   "cell_type": "code",
   "execution_count": 23,
   "metadata": {},
   "outputs": [
    {
     "name": "stdout",
     "output_type": "stream",
     "text": [
      "True\n"
     ]
    }
   ],
   "source": [
    "t={2,3,4}\n",
    "print(2.0 in t)"
   ]
  },
  {
   "cell_type": "code",
   "execution_count": 31,
   "metadata": {},
   "outputs": [],
   "source": [
    "t={2}"
   ]
  },
  {
   "cell_type": "code",
   "execution_count": 40,
   "metadata": {},
   "outputs": [
    {
     "ename": "KeyboardInterrupt",
     "evalue": "",
     "output_type": "error",
     "traceback": [
      "\u001b[1;31m---------------------------------------------------------------------------\u001b[0m",
      "\u001b[1;31mKeyboardInterrupt\u001b[0m                         Traceback (most recent call last)",
      "\u001b[1;32m<ipython-input-40-330cf930912a>\u001b[0m in \u001b[0;36m<module>\u001b[1;34m()\u001b[0m\n\u001b[0;32m     20\u001b[0m \u001b[1;32mfor\u001b[0m \u001b[0mn\u001b[0m \u001b[1;32min\u001b[0m \u001b[0mrange\u001b[0m\u001b[1;33m(\u001b[0m\u001b[1;36m2\u001b[0m\u001b[1;33m,\u001b[0m\u001b[1;36m1000000\u001b[0m\u001b[1;33m)\u001b[0m\u001b[1;33m:\u001b[0m\u001b[1;33m\u001b[0m\u001b[0m\n\u001b[0;32m     21\u001b[0m     \u001b[1;32mif\u001b[0m \u001b[1;33m(\u001b[0m\u001b[0mn\u001b[0m\u001b[1;33m)\u001b[0m \u001b[1;32mnot\u001b[0m \u001b[1;32min\u001b[0m \u001b[0mcache\u001b[0m\u001b[1;33m:\u001b[0m\u001b[1;33m\u001b[0m\u001b[0m\n\u001b[1;32m---> 22\u001b[1;33m         \u001b[0mv\u001b[0m \u001b[1;33m=\u001b[0m \u001b[0mphi\u001b[0m\u001b[1;33m(\u001b[0m\u001b[0mn\u001b[0m\u001b[1;33m)\u001b[0m\u001b[1;33m\u001b[0m\u001b[0m\n\u001b[0m\u001b[0;32m     23\u001b[0m         \u001b[0mseive\u001b[0m\u001b[1;33m(\u001b[0m\u001b[0mn\u001b[0m\u001b[1;33m)\u001b[0m\u001b[1;33m\u001b[0m\u001b[0m\n\u001b[0;32m     24\u001b[0m         \u001b[1;32mif\u001b[0m \u001b[0mv\u001b[0m \u001b[1;33m>\u001b[0m \u001b[0mmaxValue\u001b[0m\u001b[1;33m:\u001b[0m\u001b[1;33m\u001b[0m\u001b[0m\n",
      "\u001b[1;32m<ipython-input-40-330cf930912a>\u001b[0m in \u001b[0;36mphi\u001b[1;34m(num)\u001b[0m\n\u001b[0;32m     12\u001b[0m     \u001b[0mcount\u001b[0m\u001b[1;33m=\u001b[0m\u001b[1;36m1\u001b[0m\u001b[1;33m\u001b[0m\u001b[0m\n\u001b[0;32m     13\u001b[0m     \u001b[1;32mfor\u001b[0m \u001b[0mi\u001b[0m \u001b[1;32min\u001b[0m \u001b[0mrange\u001b[0m\u001b[1;33m(\u001b[0m\u001b[1;36m2\u001b[0m\u001b[1;33m,\u001b[0m\u001b[0mnum\u001b[0m\u001b[1;33m)\u001b[0m\u001b[1;33m:\u001b[0m\u001b[1;33m\u001b[0m\u001b[0m\n\u001b[1;32m---> 14\u001b[1;33m         \u001b[1;32mif\u001b[0m \u001b[0mgcd\u001b[0m\u001b[1;33m(\u001b[0m\u001b[0mnum\u001b[0m\u001b[1;33m,\u001b[0m\u001b[0mi\u001b[0m\u001b[1;33m)\u001b[0m\u001b[1;33m==\u001b[0m\u001b[1;36m1\u001b[0m\u001b[1;33m:\u001b[0m\u001b[1;33m\u001b[0m\u001b[0m\n\u001b[0m\u001b[0;32m     15\u001b[0m             \u001b[0mcount\u001b[0m\u001b[1;33m+=\u001b[0m\u001b[1;36m1\u001b[0m\u001b[1;33m\u001b[0m\u001b[0m\n\u001b[0;32m     16\u001b[0m     \u001b[1;32mreturn\u001b[0m \u001b[0mnum\u001b[0m\u001b[1;33m/\u001b[0m\u001b[0mcount\u001b[0m\u001b[1;33m\u001b[0m\u001b[0m\n",
      "\u001b[1;31mKeyboardInterrupt\u001b[0m: "
     ]
    }
   ],
   "source": [
    "# set-2\n",
    "from time import time as t\n",
    "start=t()\n",
    "from math import gcd\n",
    "\n",
    "def seive(n):\n",
    "    while n<10000:\n",
    "        cache.add(n)\n",
    "        n*=n\n",
    "    \n",
    "def phi(num):\n",
    "    count=1\n",
    "    for i in range(2,num):\n",
    "        if gcd(num,i)==1:\n",
    "            count+=1\n",
    "    return num/count\n",
    "\n",
    "cache=set()\n",
    "maxValue=0\n",
    "for n in range(2,10000):\n",
    "    if (n) not in cache:\n",
    "        v = phi(n)\n",
    "        seive(n)\n",
    "        if v > maxValue:\n",
    "            maxValue = v\n",
    "print(maxValue)\n",
    "print(\"calc time:\", t()-start)"
   ]
  }
 ],
 "metadata": {
  "kernelspec": {
   "display_name": "Python 3",
   "language": "python",
   "name": "python3"
  },
  "language_info": {
   "codemirror_mode": {
    "name": "ipython",
    "version": 3
   },
   "file_extension": ".py",
   "mimetype": "text/x-python",
   "name": "python",
   "nbconvert_exporter": "python",
   "pygments_lexer": "ipython3",
   "version": "3.6.5"
  }
 },
 "nbformat": 4,
 "nbformat_minor": 2
}
