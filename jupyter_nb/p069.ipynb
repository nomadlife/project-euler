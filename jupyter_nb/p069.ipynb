{
 "cells": [
  {
   "cell_type": "markdown",
   "metadata": {},
   "source": [
    "## p069 Totient maximum\n",
    "\n",
    "\n",
    "Euler's Totient function, φ(n) [sometimes called the phi function], is used to determine the number of numbers less than n which are relatively prime to n. For example, as 1, 2, 4, 5, 7, and 8, are all less than nine and relatively prime to nine, φ(9)=6.\n",
    "\n",
    "    n \tRelatively Prime \tφ(n) \tn/φ(n)\n",
    "    2 \t1 \t                1 \t2\n",
    "    3 \t1,2 \t              2 \t1.5\n",
    "    4 \t1,3 \t              2 \t2\n",
    "    5 \t1,2,3,4 \t          4 \t1.25\n",
    "    6 \t1,5 \t              2 \t3\n",
    "    7 \t1,2,3,4,5,6 \t      6 \t1.1666...\n",
    "    8 \t1,3,5,7 \t          4 \t2\n",
    "    9 \t1,2,4,5,7,8 \t      6 \t1.5\n",
    "    10 \t1,3,7,9 \t         4 \t2.5\n",
    "\n",
    "It can be seen that n=6 produces a maximum n/φ(n) for n ≤ 10.\n",
    "\n",
    "Find the value of n ≤ 1,000,000 for which n/φ(n) is a maximum.\n"
   ]
  },
  {
   "cell_type": "code",
   "execution_count": 26,
   "metadata": {},
   "outputs": [
    {
     "data": {
      "text/plain": [
       "6"
      ]
     },
     "execution_count": 26,
     "metadata": {},
     "output_type": "execute_result"
    }
   ],
   "source": [
    "from math import gcd\n",
    "gcd(6,6)"
   ]
  },
  {
   "cell_type": "code",
   "execution_count": 1,
   "metadata": {},
   "outputs": [
    {
     "name": "stdout",
     "output_type": "stream",
     "text": [
      "2 1 == 1 2.0\n",
      "3 1 2 == 2 1.5\n",
      "4 1 3 == 2 2.0\n",
      "5 1 2 3 4 == 4 1.25\n",
      "6 1 5 == 2 3.0\n",
      "7 1 2 3 4 5 6 == 6 1.1666666666666667\n",
      "8 1 3 5 7 == 4 2.0\n",
      "9 1 2 4 5 7 8 == 6 1.5\n",
      "10 1 3 7 9 == 4 2.5\n",
      "11 1 2 3 4 5 6 7 8 9 10 == 10 1.1\n",
      "12 1 5 7 11 == 4 3.0\n",
      "13 1 2 3 4 5 6 7 8 9 10 11 12 == 12 1.0833333333333333\n",
      "14 1 3 5 9 11 13 == 6 2.3333333333333335\n",
      "15 1 2 4 7 8 11 13 14 == 8 1.875\n",
      "16 1 3 5 7 9 11 13 15 == 8 2.0\n",
      "17 1 2 3 4 5 6 7 8 9 10 11 12 13 14 15 16 == 16 1.0625\n",
      "18 1 5 7 11 13 17 == 6 3.0\n",
      "19 1 2 3 4 5 6 7 8 9 10 11 12 13 14 15 16 17 18 == 18 1.0555555555555556\n"
     ]
    }
   ],
   "source": [
    "from math import gcd\n",
    "\n",
    "def phi(num):\n",
    "    count=1\n",
    "    print(num,'1',end=' ')\n",
    "    for i in range(2,num):\n",
    "        if gcd(num,i)==1:\n",
    "            print(i,end=' ')\n",
    "            count+=1\n",
    "    print(\"==\",count,num/count)\n",
    "    \n",
    "for n in range(2,20):\n",
    "    phi(n)"
   ]
  },
  {
   "cell_type": "code",
   "execution_count": 29,
   "metadata": {},
   "outputs": [
    {
     "name": "stdout",
     "output_type": "stream",
     "text": [
      "3.0\n"
     ]
    }
   ],
   "source": [
    "#max value\n",
    "from math import gcd\n",
    "\n",
    "def phi(num):\n",
    "    count=1\n",
    "    for i in range(2,num):\n",
    "        if gcd(num,i)==1:\n",
    "            count+=1\n",
    "    return num/count\n",
    "\n",
    "maxValue=0\n",
    "for n in range(2,10):\n",
    "    v = phi(n)\n",
    "    if v > maxValue:\n",
    "        maxValue = v\n",
    "print(maxValue)"
   ]
  },
  {
   "cell_type": "code",
   "execution_count": 100,
   "metadata": {},
   "outputs": [
    {
     "name": "stdout",
     "output_type": "stream",
     "text": [
      "4.375\n"
     ]
    }
   ],
   "source": [
    "# 1,000\n",
    "# slow, need to speed up\n",
    "from math import gcd\n",
    "\n",
    "def phi(num):\n",
    "    count=1\n",
    "    for i in range(2,num):\n",
    "        if gcd(num,i)==1:\n",
    "            count+=1\n",
    "    return num/count\n",
    "\n",
    "maxValue=0\n",
    "for n in range(2,1000):\n",
    "    v = phi(n)\n",
    "    if v > maxValue:\n",
    "        maxValue = v\n",
    "print(maxValue)"
   ]
  },
  {
   "cell_type": "code",
   "execution_count": 1,
   "metadata": {},
   "outputs": [
    {
     "name": "stdout",
     "output_type": "stream",
     "text": [
      "4.8125\n",
      "calc time: -62.74798893928528\n"
     ]
    }
   ],
   "source": [
    "# 10,000\n",
    "# need to speed up\n",
    "from time import time as t\n",
    "start=t()\n",
    "from math import gcd\n",
    "\n",
    "def phi(num):\n",
    "    count=1\n",
    "    for i in range(2,num):\n",
    "        if gcd(num,i)==1:\n",
    "            count+=1\n",
    "    return num/count\n",
    "\n",
    "maxValue=0\n",
    "for n in range(2,10000):\n",
    "    v = phi(n)\n",
    "    if v > maxValue:\n",
    "        maxValue = v\n",
    "print(maxValue)\n",
    "print(\"calc time:\", t()-start)"
   ]
  },
  {
   "cell_type": "code",
   "execution_count": 7,
   "metadata": {},
   "outputs": [
    {
     "name": "stdout",
     "output_type": "stream",
     "text": [
      "2 2.0\n",
      "3 1.5\n",
      "4 2.0\n",
      "5 1.25\n",
      "6 3.0\n",
      "7 1.1666666666666667\n",
      "8 2.0\n",
      "9 1.5\n",
      "10 2.5\n",
      "11 1.1\n",
      "12 3.0\n",
      "13 1.0833333333333333\n",
      "14 2.3333333333333335\n",
      "15 1.875\n",
      "16 2.0\n",
      "17 1.0625\n",
      "18 3.0\n",
      "19 1.0555555555555556\n",
      "20 2.5\n",
      "21 1.75\n",
      "22 2.2\n",
      "23 1.0454545454545454\n",
      "24 3.0\n",
      "25 1.25\n",
      "26 2.1666666666666665\n",
      "27 1.5\n",
      "28 2.3333333333333335\n",
      "29 1.0357142857142858\n"
     ]
    }
   ],
   "source": [
    "# for speed up\n",
    "# pattern check\n",
    "\n",
    "from math import gcd\n",
    "\n",
    "def phi(num):\n",
    "    count=1\n",
    "    for i in range(2,num):\n",
    "        if gcd(num,i)==1:\n",
    "            count+=1\n",
    "    print(num,num/count)\n",
    "    \n",
    "for n in range(2,30):\n",
    "    phi(n)"
   ]
  },
  {
   "cell_type": "code",
   "execution_count": 12,
   "metadata": {},
   "outputs": [
    {
     "name": "stdout",
     "output_type": "stream",
     "text": [
      "7 1.1666666666666667\n",
      "49 1.1666666666666667\n",
      "343 1.1666666666666667\n"
     ]
    }
   ],
   "source": [
    "# for speed up\n",
    "# pattern check\n",
    "\n",
    "from math import gcd\n",
    "\n",
    "def phi(num):\n",
    "    count=1\n",
    "    for i in range(2,num):\n",
    "        if gcd(num,i)==1:\n",
    "            count+=1\n",
    "    return num/count\n",
    "    \n",
    "for n in range(2,1000):\n",
    "    v=phi(n)\n",
    "    if v == 1.1666666666666667:\n",
    "        print(n,v)"
   ]
  },
  {
   "cell_type": "code",
   "execution_count": 14,
   "metadata": {},
   "outputs": [
    {
     "name": "stdout",
     "output_type": "stream",
     "text": [
      "4.8125\n",
      "calc time: 56.01382660865784\n"
     ]
    }
   ],
   "source": [
    "# 10,000, dict\n",
    "from time import time as t\n",
    "start=t()\n",
    "from math import gcd\n",
    "\n",
    "def seive(n,v):\n",
    "    while n<10000:\n",
    "        cache[n]=v\n",
    "        n*=n\n",
    "    \n",
    "def phi(num):\n",
    "    count=1\n",
    "    for i in range(2,num):\n",
    "        if gcd(num,i)==1:\n",
    "            count+=1\n",
    "    return num/count\n",
    "\n",
    "cache={}\n",
    "maxValue=0\n",
    "for n in range(2,10000):\n",
    "    if (n) not in cache:\n",
    "        v = phi(n)\n",
    "        seive(n,v)\n",
    "        if v > maxValue:\n",
    "            maxValue = v\n",
    "print(maxValue)\n",
    "print(\"calc time:\", t()-start)"
   ]
  },
  {
   "cell_type": "code",
   "execution_count": 24,
   "metadata": {},
   "outputs": [
    {
     "name": "stdout",
     "output_type": "stream",
     "text": [
      "4.8125\n",
      "9998\n",
      "calc time: 56.09194469451904\n"
     ]
    }
   ],
   "source": [
    "# 10,000, set\n",
    "from time import time as t\n",
    "start=t()\n",
    "from math import gcd\n",
    "\n",
    "def seive(n):\n",
    "    while n<10000:\n",
    "        cache.add(n)\n",
    "        n*=n\n",
    "    \n",
    "def phi(num):\n",
    "    count=1\n",
    "    for i in range(2,num):\n",
    "        if gcd(num,i)==1:\n",
    "            count+=1\n",
    "    return num/count\n",
    "\n",
    "cache=set()\n",
    "maxValue=0\n",
    "for n in range(2,10000):\n",
    "    if (n) not in cache:\n",
    "        v = phi(n)\n",
    "        seive(n)\n",
    "        if v > maxValue:\n",
    "            maxValue = v\n",
    "print(maxValue)\n",
    "print(len(cache))\n",
    "print(\"calc time:\", t()-start)"
   ]
  },
  {
   "cell_type": "code",
   "execution_count": 23,
   "metadata": {},
   "outputs": [
    {
     "name": "stdout",
     "output_type": "stream",
     "text": [
      "<class 'set'>\n",
      "{1}\n",
      "True\n",
      "1\n"
     ]
    }
   ],
   "source": [
    "test=set()\n",
    "print(type(test))\n",
    "test.add(1)\n",
    "print(test)\n",
    "print(1 in test)\n",
    "print(len(test))"
   ]
  },
  {
   "cell_type": "code",
   "execution_count": 8,
   "metadata": {},
   "outputs": [
    {
     "name": "stdout",
     "output_type": "stream",
     "text": [
      "{1}\n",
      "{1, 2}\n",
      "3.0\n",
      "1.5\n"
     ]
    }
   ],
   "source": [
    "t=set()\n",
    "t.add(1)\n",
    "print(t)\n",
    "t.add(2)\n",
    "print(t)\n",
    "for i in t:\n",
    "    print(3/i)"
   ]
  },
  {
   "cell_type": "code",
   "execution_count": 23,
   "metadata": {},
   "outputs": [
    {
     "name": "stdout",
     "output_type": "stream",
     "text": [
      "True\n"
     ]
    }
   ],
   "source": [
    "t={2,3,4}\n",
    "print(2.0 in t)"
   ]
  },
  {
   "cell_type": "code",
   "execution_count": 31,
   "metadata": {},
   "outputs": [],
   "source": [
    "t={2}"
   ]
  },
  {
   "cell_type": "code",
   "execution_count": 23,
   "metadata": {},
   "outputs": [
    {
     "name": "stdout",
     "output_type": "stream",
     "text": [
      "2 1 == 1 2.0\n",
      "3 1 2 == 2 1.5\n",
      "4 1 3 == 2 2.0\n",
      "5 1 2 3 4 == 4 1.25\n",
      "6 1 5 == 2 3.0\n",
      "7 1 2 3 4 5 6 == 6 1.1666666666666667\n",
      "8 1 3 5 7 == 4 2.0\n",
      "9 1 2 4 5 7 8 == 6 1.5\n",
      "10 1 3 7 9 == 4 2.5\n",
      "11 1 2 3 4 5 6 7 8 9 10 == 10 1.1\n",
      "12 1 5 7 11 == 4 3.0\n",
      "13 1 2 3 4 5 6 7 8 9 10 11 12 == 12 1.0833333333333333\n",
      "14 1 3 5 9 11 13 == 6 2.3333333333333335\n",
      "15 1 2 4 7 8 11 13 14 == 8 1.875\n",
      "16 1 3 5 7 9 11 13 15 == 8 2.0\n",
      "17 1 2 3 4 5 6 7 8 9 10 11 12 13 14 15 16 == 16 1.0625\n",
      "18 1 5 7 11 13 17 == 6 3.0\n",
      "19 1 2 3 4 5 6 7 8 9 10 11 12 13 14 15 16 17 18 == 18 1.0555555555555556\n",
      "20 1 3 7 9 11 13 17 19 == 8 2.5\n",
      "21 1 2 4 5 8 10 11 13 16 17 19 20 == 12 1.75\n",
      "22 1 3 5 7 9 13 15 17 19 21 == 10 2.2\n",
      "23 1 2 3 4 5 6 7 8 9 10 11 12 13 14 15 16 17 18 19 20 21 22 == 22 1.0454545454545454\n",
      "24 1 5 7 11 13 17 19 23 == 8 3.0\n",
      "25 1 2 3 4 6 7 8 9 11 12 13 14 16 17 18 19 21 22 23 24 == 20 1.25\n",
      "26 1 3 5 7 9 11 15 17 19 21 23 25 == 12 2.1666666666666665\n",
      "27 1 2 4 5 7 8 10 11 13 14 16 17 19 20 22 23 25 26 == 18 1.5\n",
      "28 1 3 5 9 11 13 15 17 19 23 25 27 == 12 2.3333333333333335\n",
      "29 1 2 3 4 5 6 7 8 9 10 11 12 13 14 15 16 17 18 19 20 21 22 23 24 25 26 27 28 == 28 1.0357142857142858\n"
     ]
    }
   ],
   "source": [
    "# for test\n",
    "from math import gcd\n",
    "\n",
    "def phi(num):\n",
    "    count=1\n",
    "    print(num,'1',end=' ')\n",
    "    for i in range(2,num):\n",
    "        if gcd(num,i)==1:\n",
    "            print(i,end=' ')\n",
    "            count+=1\n",
    "    print(\"==\",count,num/count)\n",
    "    \n",
    "for n in range(2,30):\n",
    "    phi(n)"
   ]
  },
  {
   "cell_type": "code",
   "execution_count": 24,
   "metadata": {},
   "outputs": [
    {
     "name": "stdout",
     "output_type": "stream",
     "text": [
      "3 1 2 == 2 1.5\n",
      "5 1 2 3 4 == 4 1.25\n",
      "7 1 2 3 4 5 6 == 6 1.1666666666666667\n",
      "9 1 2 4 5 7 8 == 6 1.5\n",
      "11 1 2 3 4 5 6 7 8 9 10 == 10 1.1\n",
      "13 1 2 3 4 5 6 7 8 9 10 11 12 == 12 1.0833333333333333\n",
      "15 1 2 4 7 8 11 13 14 == 8 1.875\n",
      "17 1 2 3 4 5 6 7 8 9 10 11 12 13 14 15 16 == 16 1.0625\n",
      "19 1 2 3 4 5 6 7 8 9 10 11 12 13 14 15 16 17 18 == 18 1.0555555555555556\n",
      "21 1 2 4 5 8 10 11 13 16 17 19 20 == 12 1.75\n",
      "23 1 2 3 4 5 6 7 8 9 10 11 12 13 14 15 16 17 18 19 20 21 22 == 22 1.0454545454545454\n",
      "25 1 2 3 4 6 7 8 9 11 12 13 14 16 17 18 19 21 22 23 24 == 20 1.25\n",
      "27 1 2 4 5 7 8 10 11 13 14 16 17 19 20 22 23 25 26 == 18 1.5\n",
      "29 1 2 3 4 5 6 7 8 9 10 11 12 13 14 15 16 17 18 19 20 21 22 23 24 25 26 27 28 == 28 1.0357142857142858\n"
     ]
    }
   ],
   "source": [
    "# odd number\n",
    "from math import gcd\n",
    "\n",
    "def phi(num):\n",
    "    count=1\n",
    "    print(num,'1',end=' ')\n",
    "    for i in range(2,num):\n",
    "        if gcd(num,i)==1:\n",
    "            print(i,end=' ')\n",
    "            count+=1\n",
    "    print(\"==\",count,num/count)\n",
    "    \n",
    "for n in range(3,30,2):\n",
    "    phi(n)"
   ]
  },
  {
   "cell_type": "code",
   "execution_count": 102,
   "metadata": {},
   "outputs": [
    {
     "name": "stdout",
     "output_type": "stream",
     "text": [
      "2 1 == 1 2.0\n",
      "4 1 3 == 2 2.0\n",
      "6 1 5 == 2 3.0\n",
      "8 1 3 5 7 == 4 2.0\n",
      "10 1 3 7 9 == 4 2.5\n",
      "12 1 5 7 11 == 4 3.0\n",
      "14 1 3 5 9 11 13 == 6 2.3333333333333335\n",
      "16 1 3 5 7 9 11 13 15 == 8 2.0\n",
      "18 1 5 7 11 13 17 == 6 3.0\n",
      "20 1 3 7 9 11 13 17 19 == 8 2.5\n",
      "22 1 3 5 7 9 13 15 17 19 21 == 10 2.2\n",
      "24 1 5 7 11 13 17 19 23 == 8 3.0\n",
      "26 1 3 5 7 9 11 15 17 19 21 23 25 == 12 2.1666666666666665\n",
      "28 1 3 5 9 11 13 15 17 19 23 25 27 == 12 2.3333333333333335\n",
      "30 1 7 11 13 17 19 23 29 == 8 3.75\n",
      "32 1 3 5 7 9 11 13 15 17 19 21 23 25 27 29 31 == 16 2.0\n",
      "34 1 3 5 7 9 11 13 15 19 21 23 25 27 29 31 33 == 16 2.125\n",
      "36 1 5 7 11 13 17 19 23 25 29 31 35 == 12 3.0\n",
      "38 1 3 5 7 9 11 13 15 17 21 23 25 27 29 31 33 35 37 == 18 2.111111111111111\n",
      "40 1 3 7 9 11 13 17 19 21 23 27 29 31 33 37 39 == 16 2.5\n",
      "42 1 5 11 13 17 19 23 25 29 31 37 41 == 12 3.5\n",
      "44 1 3 5 7 9 13 15 17 19 21 23 25 27 29 31 35 37 39 41 43 == 20 2.2\n",
      "46 1 3 5 7 9 11 13 15 17 19 21 25 27 29 31 33 35 37 39 41 43 45 == 22 2.090909090909091\n",
      "48 1 5 7 11 13 17 19 23 25 29 31 35 37 41 43 47 == 16 3.0\n"
     ]
    }
   ],
   "source": [
    "# even number\n",
    "from math import gcd\n",
    "\n",
    "def phi(num):\n",
    "    count=1\n",
    "    print(num,'1',end=' ')\n",
    "    for i in range(2,num):\n",
    "        if gcd(num,i)==1:\n",
    "            print(i,end=' ')\n",
    "            count+=1\n",
    "    print(\"==\",count,num/count)\n",
    "    \n",
    "for n in range(2,50,2):\n",
    "    phi(n)"
   ]
  },
  {
   "cell_type": "code",
   "execution_count": 115,
   "metadata": {
    "scrolled": false
   },
   "outputs": [
    {
     "name": "stdout",
     "output_type": "stream",
     "text": [
      "2 1 2.0\n",
      "4 2 2.0\n",
      "6 2 3.0\n",
      "8 4 2.0\n",
      "10 4 2.5\n",
      "12 4 3.0\n",
      "14 6 2.3333333333333335\n",
      "16 8 2.0\n",
      "18 6 3.0\n",
      "20 8 2.5\n",
      "22 10 2.2\n",
      "24 8 3.0\n",
      "26 12 2.1666666666666665\n",
      "28 12 2.3333333333333335\n",
      "30 8 3.75\n",
      "32 16 2.0\n",
      "34 16 2.125\n",
      "36 12 3.0\n",
      "38 18 2.111111111111111\n",
      "40 16 2.5\n",
      "42 12 3.5\n",
      "44 20 2.2\n",
      "46 22 2.090909090909091\n",
      "48 16 3.0\n",
      "50 20 2.5\n",
      "52 24 2.1666666666666665\n",
      "54 18 3.0\n",
      "56 24 2.3333333333333335\n",
      "58 28 2.0714285714285716\n",
      "60 16 3.75\n",
      "62 30 2.066666666666667\n",
      "64 32 2.0\n",
      "66 20 3.3\n",
      "68 32 2.125\n",
      "70 24 2.9166666666666665\n",
      "72 24 3.0\n",
      "74 36 2.0555555555555554\n",
      "76 36 2.111111111111111\n",
      "78 24 3.25\n",
      "80 32 2.5\n",
      "82 40 2.05\n",
      "84 24 3.5\n",
      "86 42 2.0476190476190474\n",
      "88 40 2.2\n",
      "90 24 3.75\n",
      "92 44 2.090909090909091\n",
      "94 46 2.0434782608695654\n",
      "96 32 3.0\n",
      "98 42 2.3333333333333335\n"
     ]
    }
   ],
   "source": [
    "# even number -2\n",
    "from math import gcd\n",
    "\n",
    "def phi(num):\n",
    "    count=1\n",
    "    #print(num,'1',end=' ')\n",
    "    for i in range(2,num):\n",
    "        if gcd(num,i)==1:\n",
    "            #print(i,end=' ')\n",
    "            count+=1\n",
    "    #print(\"==\",count,num/count)\n",
    "    return count\n",
    "\n",
    "for n in range(2,100,2):\n",
    "    v=phi(n)\n",
    "    print(n,v,n/v)"
   ]
  },
  {
   "cell_type": "code",
   "execution_count": 111,
   "metadata": {},
   "outputs": [
    {
     "name": "stdout",
     "output_type": "stream",
     "text": [
      "4.375\n"
     ]
    }
   ],
   "source": [
    "# even number -3\n",
    "from math import gcd\n",
    "\n",
    "def phi(num):\n",
    "    count=1\n",
    "    #print(num,'1',end=' ')\n",
    "    for i in range(2,num):\n",
    "        if gcd(num,i)==1:\n",
    "            #print(i,end=' ')\n",
    "            count+=1\n",
    "    #print(\"==\",count,num/count)\n",
    "    return count\n",
    "\n",
    "m=0\n",
    "for n in range(2,1000,2):\n",
    "    r=n/phi(n)\n",
    "    if r>m:\n",
    "        m=r\n",
    "print(m)"
   ]
  },
  {
   "cell_type": "code",
   "execution_count": 47,
   "metadata": {},
   "outputs": [
    {
     "name": "stdout",
     "output_type": "stream",
     "text": [
      "2:== 1\n",
      "3:== 2\n",
      "4:2 == 2\n",
      "5:== 4\n",
      "6:2 3 == 2\n",
      "7:== 6\n",
      "8:2 == 4\n",
      "9:3 == 6\n",
      "10:2 5 == 4\n",
      "11:== 10\n",
      "12:2 3 == 3\n",
      "13:== 12\n",
      "14:2 7 == 6\n",
      "15:3 5 == 8\n",
      "16:2 == 8\n",
      "17:== 16\n",
      "18:2 3 == 4\n",
      "19:== 18\n"
     ]
    }
   ],
   "source": [
    "prime=[2,3,5,7,11,13,17,19]\n",
    "\n",
    "def phi(num):\n",
    "    count=0\n",
    "    print(num,end=':')\n",
    "    for i in prime:\n",
    "        if num>i and num%i == 0:\n",
    "            print(i, end=' ')\n",
    "            count+= (num-1)//i\n",
    "    return count\n",
    "    \n",
    "for n in range(2,20):\n",
    "    print(\"==\",n-1-phi(n))"
   ]
  },
  {
   "cell_type": "code",
   "execution_count": 68,
   "metadata": {},
   "outputs": [
    {
     "name": "stdout",
     "output_type": "stream",
     "text": [
      "2:== 1\n",
      "3:== 2\n",
      "4:2 == 2\n",
      "5:== 4\n",
      "6:2 3 == 2\n",
      "7:== 6\n",
      "8:2 == 4\n",
      "9:3 == 6\n",
      "10:2 5 == 4\n",
      "11:== 10\n",
      "12:2 3 == 3\n",
      "13:== 12\n",
      "14:2 7 == 6\n",
      "15:3 5 == 8\n",
      "16:2 == 8\n",
      "17:== 16\n",
      "18:2 3 == 4\n",
      "19:== 18\n"
     ]
    }
   ],
   "source": [
    "# dynamic prime\n",
    "# some error\n",
    "from sympy import isprime\n",
    "\n",
    "def phi(num):\n",
    "    count=1\n",
    "    print(num,end=':')\n",
    "    for i in prime:\n",
    "        if num%i == 0:\n",
    "            print(i, end=' ')\n",
    "            count+= (num-1)//i\n",
    "    return count\n",
    "\n",
    "prime=[]\n",
    "for n in range(2,20):\n",
    "    if isprime(n-1):\n",
    "        prime.append(n-1)\n",
    "    print(\"==\",n-phi(n))"
   ]
  },
  {
   "cell_type": "code",
   "execution_count": 92,
   "metadata": {},
   "outputs": [
    {
     "name": "stdout",
     "output_type": "stream",
     "text": [
      "[2]\n",
      "2 1\n",
      "[2, 3]\n",
      "4 2 2 [1, 0, 1]\n",
      "4 2\n",
      "[2, 3, 5]\n",
      "6 2 2 [1, 0, 1, 1, 1]\n",
      "6 2 4 [1, 0, 1, 0, 1]\n",
      "6 3 3 [1, 0, 0, 0, 1]\n",
      "6 2\n",
      "[2, 3, 5, 7]\n",
      "8 2 2 [1, 0, 1, 1, 1, 1, 1]\n",
      "8 2 4 [1, 0, 1, 0, 1, 1, 1]\n",
      "8 2 6 [1, 0, 1, 0, 1, 0, 1]\n",
      "8 4\n",
      "[2, 3, 5, 7]\n",
      "10 2 2 [1, 0, 1, 1, 1, 1, 1, 1, 1]\n",
      "10 2 4 [1, 0, 1, 0, 1, 1, 1, 1, 1]\n",
      "10 2 6 [1, 0, 1, 0, 1, 0, 1, 1, 1]\n",
      "10 2 8 [1, 0, 1, 0, 1, 0, 1, 0, 1]\n",
      "10 5 5 [1, 0, 1, 0, 0, 0, 1, 0, 1]\n",
      "10 4\n",
      "[2, 3, 5, 7, 11]\n",
      "12 2 2 [1, 0, 1, 1, 1, 1, 1, 1, 1, 1, 1]\n",
      "12 2 4 [1, 0, 1, 0, 1, 1, 1, 1, 1, 1, 1]\n",
      "12 2 6 [1, 0, 1, 0, 1, 0, 1, 1, 1, 1, 1]\n",
      "12 2 8 [1, 0, 1, 0, 1, 0, 1, 0, 1, 1, 1]\n",
      "12 2 10 [1, 0, 1, 0, 1, 0, 1, 0, 1, 0, 1]\n",
      "12 3 3 [1, 0, 0, 0, 1, 0, 1, 0, 1, 0, 1]\n",
      "12 3 6 [1, 0, 0, 0, 1, 0, 1, 0, 1, 0, 1]\n",
      "12 3 9 [1, 0, 0, 0, 1, 0, 1, 0, 0, 0, 1]\n",
      "12 4\n",
      "[2, 3, 5, 7, 11, 13]\n",
      "14 2 2 [1, 0, 1, 1, 1, 1, 1, 1, 1, 1, 1, 1, 1]\n",
      "14 2 4 [1, 0, 1, 0, 1, 1, 1, 1, 1, 1, 1, 1, 1]\n",
      "14 2 6 [1, 0, 1, 0, 1, 0, 1, 1, 1, 1, 1, 1, 1]\n",
      "14 2 8 [1, 0, 1, 0, 1, 0, 1, 0, 1, 1, 1, 1, 1]\n",
      "14 2 10 [1, 0, 1, 0, 1, 0, 1, 0, 1, 0, 1, 1, 1]\n",
      "14 2 12 [1, 0, 1, 0, 1, 0, 1, 0, 1, 0, 1, 0, 1]\n",
      "14 7 7 [1, 0, 1, 0, 1, 0, 0, 0, 1, 0, 1, 0, 1]\n",
      "14 6\n",
      "[2, 3, 5, 7, 11, 13]\n",
      "16 2 2 [1, 0, 1, 1, 1, 1, 1, 1, 1, 1, 1, 1, 1, 1, 1]\n",
      "16 2 4 [1, 0, 1, 0, 1, 1, 1, 1, 1, 1, 1, 1, 1, 1, 1]\n",
      "16 2 6 [1, 0, 1, 0, 1, 0, 1, 1, 1, 1, 1, 1, 1, 1, 1]\n",
      "16 2 8 [1, 0, 1, 0, 1, 0, 1, 0, 1, 1, 1, 1, 1, 1, 1]\n",
      "16 2 10 [1, 0, 1, 0, 1, 0, 1, 0, 1, 0, 1, 1, 1, 1, 1]\n",
      "16 2 12 [1, 0, 1, 0, 1, 0, 1, 0, 1, 0, 1, 0, 1, 1, 1]\n",
      "16 2 14 [1, 0, 1, 0, 1, 0, 1, 0, 1, 0, 1, 0, 1, 0, 1]\n",
      "16 8\n",
      "[2, 3, 5, 7, 11, 13, 17]\n",
      "18 2 2 [1, 0, 1, 1, 1, 1, 1, 1, 1, 1, 1, 1, 1, 1, 1, 1, 1]\n",
      "18 2 4 [1, 0, 1, 0, 1, 1, 1, 1, 1, 1, 1, 1, 1, 1, 1, 1, 1]\n",
      "18 2 6 [1, 0, 1, 0, 1, 0, 1, 1, 1, 1, 1, 1, 1, 1, 1, 1, 1]\n",
      "18 2 8 [1, 0, 1, 0, 1, 0, 1, 0, 1, 1, 1, 1, 1, 1, 1, 1, 1]\n",
      "18 2 10 [1, 0, 1, 0, 1, 0, 1, 0, 1, 0, 1, 1, 1, 1, 1, 1, 1]\n",
      "18 2 12 [1, 0, 1, 0, 1, 0, 1, 0, 1, 0, 1, 0, 1, 1, 1, 1, 1]\n",
      "18 2 14 [1, 0, 1, 0, 1, 0, 1, 0, 1, 0, 1, 0, 1, 0, 1, 1, 1]\n",
      "18 2 16 [1, 0, 1, 0, 1, 0, 1, 0, 1, 0, 1, 0, 1, 0, 1, 0, 1]\n",
      "18 3 3 [1, 0, 0, 0, 1, 0, 1, 0, 1, 0, 1, 0, 1, 0, 1, 0, 1]\n",
      "18 3 6 [1, 0, 0, 0, 1, 0, 1, 0, 1, 0, 1, 0, 1, 0, 1, 0, 1]\n",
      "18 3 9 [1, 0, 0, 0, 1, 0, 1, 0, 0, 0, 1, 0, 1, 0, 1, 0, 1]\n",
      "18 3 12 [1, 0, 0, 0, 1, 0, 1, 0, 0, 0, 1, 0, 1, 0, 1, 0, 1]\n",
      "18 3 15 [1, 0, 0, 0, 1, 0, 1, 0, 0, 0, 1, 0, 1, 0, 0, 0, 1]\n",
      "18 6\n",
      "1.002008032128514\n"
     ]
    }
   ],
   "source": [
    "# fix, remove duplication\n",
    "from sympy import isprime\n",
    "\n",
    "def phi(num):\n",
    "    arr=[1]*(num-1)\n",
    "    print(prime)\n",
    "    for i in prime:\n",
    "        if num%i == 0:\n",
    "            for j in range(i,num,i):\n",
    "                arr[j-1] = 0\n",
    "                print(num,i,j,arr)\n",
    "    return sum(arr)\n",
    "\n",
    "prime=[2]\n",
    "maxValue=0\n",
    "for n in range(2,20,2):\n",
    "    if isprime(n-1):\n",
    "        prime.append(n-1)\n",
    "    v = phi(n)\n",
    "    print(n,v)\n",
    "    if ratio > maxValue:\n",
    "        maxValue = ratio\n",
    "print(maxValue)"
   ]
  },
  {
   "cell_type": "code",
   "execution_count": 94,
   "metadata": {},
   "outputs": [
    {
     "name": "stdout",
     "output_type": "stream",
     "text": [
      "2 2.0\n",
      "4 2.0\n",
      "6 3.0\n",
      "8 2.0\n",
      "10 2.5\n",
      "12 3.0\n",
      "14 2.3333333333333335\n",
      "16 2.0\n",
      "18 3.0\n",
      "3.0\n"
     ]
    }
   ],
   "source": [
    "# fix, remove duplication\n",
    "from sympy import isprime\n",
    "\n",
    "def phi(num):\n",
    "    arr=[1]*(num-1)\n",
    "    #print(prime)\n",
    "    for i in prime:\n",
    "        if num%i == 0:\n",
    "            for j in range(i,num,i):\n",
    "                arr[j-1] = 0\n",
    "                #print(num,i,j,arr)\n",
    "    return sum(arr)\n",
    "\n",
    "prime=[2]\n",
    "maxValue=0\n",
    "for n in range(2,20,2):\n",
    "    if isprime(n-1):\n",
    "        prime.append(n-1)\n",
    "    ratio = n/phi(n)\n",
    "    print(n,ratio)\n",
    "    if ratio > maxValue:\n",
    "        maxValue = ratio\n",
    "print(maxValue)"
   ]
  },
  {
   "cell_type": "code",
   "execution_count": 119,
   "metadata": {},
   "outputs": [
    {
     "name": "stdout",
     "output_type": "stream",
     "text": [
      "2 2.0\n",
      "6 3.0\n",
      "30 3.75\n",
      "210 4.375\n",
      "2310 4.8125\n",
      "calc time: 9.727499723434448\n"
     ]
    }
   ],
   "source": [
    "# ~10000\n",
    "# slow,,\n",
    "from time import time as t\n",
    "from sympy import isprime\n",
    "start=t()\n",
    "\n",
    "def phi(num):\n",
    "    arr=[1]*(num-1)\n",
    "    #print(prime)\n",
    "    for i in prime:\n",
    "        if num%i == 0:\n",
    "            for j in range(i,num,i):\n",
    "                arr[j-1] = 0\n",
    "                #print(num,i,j,arr)\n",
    "    return sum(arr)\n",
    "\n",
    "prime=[2]\n",
    "maxValue=0\n",
    "for n in range(2,10000,2):\n",
    "    if isprime(n-1):\n",
    "        prime.append(n-1)\n",
    "    ratio = n/phi(n)\n",
    "    #print(n,ratio)\n",
    "    if ratio > maxValue:\n",
    "        maxValue = ratio\n",
    "        print(n,maxValue)\n",
    "print(\"calc time:\",t()-start)"
   ]
  },
  {
   "cell_type": "code",
   "execution_count": 120,
   "metadata": {},
   "outputs": [
    {
     "name": "stdout",
     "output_type": "stream",
     "text": [
      "2 2.0\n",
      "6 3.0\n",
      "30 3.75\n",
      "210 4.375\n",
      "2310 4.8125\n",
      "30030 5.213541666666667\n",
      "calc time: 1031.7294194698334\n"
     ]
    }
   ],
   "source": [
    "# ~100,000\n",
    "# slow,,\n",
    "from time import time as t\n",
    "from sympy import isprime\n",
    "start=t()\n",
    "\n",
    "def phi(num):\n",
    "    arr=[1]*(num-1)\n",
    "    #print(prime)\n",
    "    for i in prime:\n",
    "        if num%i == 0:\n",
    "            for j in range(i,num,i):\n",
    "                arr[j-1] = 0\n",
    "                #print(num,i,j,arr)\n",
    "    return sum(arr)\n",
    "\n",
    "prime=[2]\n",
    "maxValue=0\n",
    "for n in range(2,100000,2):\n",
    "    if isprime(n-1):\n",
    "        prime.append(n-1)\n",
    "    ratio = n/phi(n)\n",
    "    #print(n,ratio)\n",
    "    if ratio > maxValue:\n",
    "        maxValue = ratio\n",
    "        print(n,maxValue)\n",
    "print(\"calc time:\",t()-start)"
   ]
  },
  {
   "cell_type": "code",
   "execution_count": 129,
   "metadata": {},
   "outputs": [
    {
     "name": "stdout",
     "output_type": "stream",
     "text": [
      "2 2 1 2.0\n",
      "3 6 2 3.0\n",
      "5 30 8 3.75\n",
      "7 210 48 4.375\n",
      "11 2310 480 4.8125\n",
      "13 30030 5760 5.213541666666667\n",
      "17 510510 92160 5.539388020833333\n",
      "19 9699690 1658880 5.847131799768518\n",
      "cal tme: 13.499557495117188\n"
     ]
    }
   ],
   "source": [
    "# speed up\n",
    "from sympy import isprime\n",
    "from time import time as t\n",
    "start = t()\n",
    "from math import gcd\n",
    "\n",
    "def phi(num):\n",
    "    count=1\n",
    "    #print(num,'1',end=' ')\n",
    "    for i in range(2,num):\n",
    "        if gcd(num,i)==1:\n",
    "            #print(i,end=' ')\n",
    "            count+=1\n",
    "    #print(\"==\",count,num/count)\n",
    "    return count\n",
    "\n",
    "number=1\n",
    "for n in range(2,20):\n",
    "    if isprime(n):\n",
    "        number*=n\n",
    "        v=phi(number)\n",
    "        print(n,number,v,number/v)\n",
    "print('cal tme:', t()-start)"
   ]
  },
  {
   "cell_type": "code",
   "execution_count": 133,
   "metadata": {},
   "outputs": [
    {
     "name": "stdout",
     "output_type": "stream",
     "text": [
      "2 2 1 2.0\n",
      "3 6 2 3.0\n",
      "5 30 8 3.75\n",
      "7 210 48 4.375\n",
      "11 2310 480 4.8125\n",
      "13 30030 5760 5.213541666666667\n",
      "17 510510 92160 5.539388020833333\n"
     ]
    }
   ],
   "source": [
    "# speed up -2\n",
    "from math import gcd\n",
    "\n",
    "def phi(num):\n",
    "    count=1\n",
    "    for i in range(2,num):\n",
    "        if gcd(num,i)==1:\n",
    "            count+=1\n",
    "    return count\n",
    "\n",
    "prime=[2,3,5,7,11,13,17,19]\n",
    "number=1\n",
    "for n in prime:\n",
    "    number*=n\n",
    "    if number<1000000:\n",
    "        v=phi(number)\n",
    "        print(n,number,v,number/v)"
   ]
  }
 ],
 "metadata": {
  "kernelspec": {
   "display_name": "Python 3",
   "language": "python",
   "name": "python3"
  },
  "language_info": {
   "codemirror_mode": {
    "name": "ipython",
    "version": 3
   },
   "file_extension": ".py",
   "mimetype": "text/x-python",
   "name": "python",
   "nbconvert_exporter": "python",
   "pygments_lexer": "ipython3",
   "version": "3.6.5"
  }
 },
 "nbformat": 4,
 "nbformat_minor": 2
}
