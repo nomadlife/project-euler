{
 "cells": [
  {
   "cell_type": "markdown",
   "metadata": {},
   "source": [
    "## p069 Totient maximum\n",
    "\n",
    "\n",
    "Euler's Totient function, φ(n) [sometimes called the phi function], is used to determine the number of numbers less than n which are relatively prime to n. For example, as 1, 2, 4, 5, 7, and 8, are all less than nine and relatively prime to nine, φ(9)=6.\n",
    "\n",
    "    n \tRelatively Prime \tφ(n) \tn/φ(n)\n",
    "    2 \t1 \t                1 \t2\n",
    "    3 \t1,2 \t              2 \t1.5\n",
    "    4 \t1,3 \t              2 \t2\n",
    "    5 \t1,2,3,4 \t          4 \t1.25\n",
    "    6 \t1,5 \t              2 \t3\n",
    "    7 \t1,2,3,4,5,6 \t      6 \t1.1666...\n",
    "    8 \t1,3,5,7 \t          4 \t2\n",
    "    9 \t1,2,4,5,7,8 \t      6 \t1.5\n",
    "    10 \t1,3,7,9 \t         4 \t2.5\n",
    "\n",
    "It can be seen that n=6 produces a maximum n/φ(n) for n ≤ 10.\n",
    "\n",
    "Find the value of n ≤ 1,000,000 for which n/φ(n) is a maximum.\n"
   ]
  },
  {
   "cell_type": "code",
   "execution_count": 26,
   "metadata": {},
   "outputs": [
    {
     "data": {
      "text/plain": [
       "6"
      ]
     },
     "execution_count": 26,
     "metadata": {},
     "output_type": "execute_result"
    }
   ],
   "source": [
    "from math import gcd\n",
    "gcd(6,6)"
   ]
  },
  {
   "cell_type": "code",
   "execution_count": 27,
   "metadata": {},
   "outputs": [
    {
     "name": "stdout",
     "output_type": "stream",
     "text": [
      "2 1 == 1 2.0\n",
      "3 1 2 == 2 1.5\n",
      "4 1 3 == 2 2.0\n",
      "5 1 2 3 4 == 4 1.25\n",
      "6 1 5 == 2 3.0\n",
      "7 1 2 3 4 5 6 == 6 1.1666666666666667\n",
      "8 1 3 5 7 == 4 2.0\n",
      "9 1 2 4 5 7 8 == 6 1.5\n"
     ]
    }
   ],
   "source": [
    "from math import gcd\n",
    "\n",
    "def phi(num):\n",
    "    count=1\n",
    "    print(num,'1',end=' ')\n",
    "    for i in range(2,num):\n",
    "        if gcd(num,i)==1:\n",
    "            print(i,end=' ')\n",
    "            count+=1\n",
    "    print(\"==\",count,num/count)\n",
    "    \n",
    "for n in range(2,10):\n",
    "    phi(n)"
   ]
  },
  {
   "cell_type": "code",
   "execution_count": 29,
   "metadata": {},
   "outputs": [
    {
     "name": "stdout",
     "output_type": "stream",
     "text": [
      "3.0\n"
     ]
    }
   ],
   "source": [
    "#max value\n",
    "from math import gcd\n",
    "\n",
    "def phi(num):\n",
    "    count=1\n",
    "    for i in range(2,num):\n",
    "        if gcd(num,i)==1:\n",
    "            count+=1\n",
    "    return num/count\n",
    "\n",
    "maxValue=0\n",
    "for n in range(2,10):\n",
    "    v = phi(n)\n",
    "    if v > maxValue:\n",
    "        maxValue = v\n",
    "print(maxValue)"
   ]
  },
  {
   "cell_type": "code",
   "execution_count": 32,
   "metadata": {},
   "outputs": [
    {
     "name": "stdout",
     "output_type": "stream",
     "text": [
      "4.375\n"
     ]
    }
   ],
   "source": [
    "# 1,000\n",
    "# slow, need to speed up\n",
    "from math import gcd\n",
    "\n",
    "def phi(num):\n",
    "    count=1\n",
    "    for i in range(2,num):\n",
    "        if gcd(num,i)==1:\n",
    "            count+=1\n",
    "    return num/count\n",
    "\n",
    "maxValue=0\n",
    "for n in range(2,1000):\n",
    "    v = phi(n)\n",
    "    if v > maxValue:\n",
    "        maxValue = v\n",
    "print(maxValue)"
   ]
  },
  {
   "cell_type": "code",
   "execution_count": 32,
   "metadata": {},
   "outputs": [
    {
     "name": "stdout",
     "output_type": "stream",
     "text": [
      "4.375\n"
     ]
    }
   ],
   "source": [
    "# speed up\n",
    "from math import gcd\n",
    "\n",
    "def phi(num):\n",
    "    count=1\n",
    "    for i in range(2,num):\n",
    "        if gcd(num,i)==1:\n",
    "            count+=1\n",
    "    return num/count\n",
    "\n",
    "maxValue=0\n",
    "for n in range(2,10000):\n",
    "    v = phi(n)\n",
    "    if v > maxValue:\n",
    "        maxValue = v\n",
    "print(maxValue)"
   ]
  }
 ],
 "metadata": {
  "kernelspec": {
   "display_name": "Python 3",
   "language": "python",
   "name": "python3"
  },
  "language_info": {
   "codemirror_mode": {
    "name": "ipython",
    "version": 3
   },
   "file_extension": ".py",
   "mimetype": "text/x-python",
   "name": "python",
   "nbconvert_exporter": "python",
   "pygments_lexer": "ipython3",
   "version": "3.6.5"
  }
 },
 "nbformat": 4,
 "nbformat_minor": 2
}
