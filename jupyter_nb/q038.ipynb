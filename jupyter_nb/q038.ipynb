{
 "cells": [
  {
   "cell_type": "markdown",
   "metadata": {},
   "source": [
    "# Q038 Pandigital multiplesl\n",
    "\n",
    "\n",
    "Take the number 192 and multiply it by each of 1, 2, and 3:\n",
    "\n",
    "    192 × 1 = 192\n",
    "    192 × 2 = 384\n",
    "    192 × 3 = 576\n",
    "\n",
    "By concatenating each product we get the 1 to 9 pandigital, 192384576. We will call 192384576 the concatenated product of 192 and (1,2,3)\n",
    "\n",
    "The same can be achieved by starting with 9 and multiplying by 1, 2, 3, 4, and 5, giving the pandigital, 918273645, which is the concatenated product of 9 and (1,2,3,4,5).\n",
    "\n",
    "What is the largest 1 to 9 pandigital 9-digit number that can be formed as the concatenated product of an integer with (1,2, ... , n) where n > 1?\n"
   ]
  },
  {
   "cell_type": "code",
   "execution_count": 3,
   "metadata": {},
   "outputs": [
    {
     "name": "stdout",
     "output_type": "stream",
     "text": [
      "1\n"
     ]
    }
   ],
   "source": [
    "number=123789456\n",
    "string=str(number)\n",
    "print(string.count('1'))"
   ]
  },
  {
   "cell_type": "code",
   "execution_count": 10,
   "metadata": {},
   "outputs": [
    {
     "name": "stdout",
     "output_type": "stream",
     "text": [
      "True\n"
     ]
    }
   ],
   "source": [
    "# pandigit check\n",
    "number=123789456\n",
    "pandigit = True\n",
    "for i in range(1,10):\n",
    "    if not str(number).count(str(i)):\n",
    "        pandigit=False\n",
    "print(pandigit)"
   ]
  },
  {
   "cell_type": "code",
   "execution_count": 3,
   "metadata": {},
   "outputs": [
    {
     "name": "stdout",
     "output_type": "stream",
     "text": [
      "not pandigit\n"
     ]
    }
   ],
   "source": [
    "# pandigit check\n",
    "num=12378945\n",
    "string=str(num)\n",
    "if all(i in string for i in '123456789'):\n",
    "    print(\"pandigit\")"
   ]
  },
  {
   "cell_type": "code",
   "execution_count": 8,
   "metadata": {},
   "outputs": [
    {
     "name": "stdout",
     "output_type": "stream",
     "text": [
      "pandigit\n"
     ]
    }
   ],
   "source": [
    "# pandigit check\n",
    "num=123789456\n",
    "string=str(num)\n",
    "if all(string.count(i)==1 for i in '123456789'):\n",
    "    print(\"pandigit\")"
   ]
  },
  {
   "cell_type": "code",
   "execution_count": 77,
   "metadata": {},
   "outputs": [
    {
     "name": "stdout",
     "output_type": "stream",
     "text": [
      "False\n"
     ]
    }
   ],
   "source": [
    "# pandigit check 함수\n",
    "\n",
    "def is_pandigit(num):\n",
    "    for i in range(1,10):\n",
    "        if not str(num).count(str(i))==1:\n",
    "            return False\n",
    "    return True\n",
    "    \n",
    "number=123789456\n",
    "print(is_pandigit(number))"
   ]
  },
  {
   "cell_type": "code",
   "execution_count": 13,
   "metadata": {},
   "outputs": [
    {
     "name": "stdout",
     "output_type": "stream",
     "text": [
      "True\n"
     ]
    }
   ],
   "source": [
    "# pandigit check 함수\n",
    "\n",
    "def is_pandigit(num):\n",
    "    if not all(str(num).count(str(i))==1 for i in range(1,10)):\n",
    "        return False\n",
    "    return True\n",
    "\n",
    "number=123789456\n",
    "print(is_pandigit(number))"
   ]
  },
  {
   "cell_type": "code",
   "execution_count": 64,
   "metadata": {
    "scrolled": true
   },
   "outputs": [
    {
     "name": "stdout",
     "output_type": "stream",
     "text": [
      "i: 1 j: 1\n",
      "1\n",
      "str1: 1 str2: 9 False\n",
      "i: 1 j: 2\n",
      "2\n",
      "str1: 1 str2: 2 False\n",
      "i: 1 j: 3\n",
      "3\n",
      "str1: 1 str2: 3 False\n",
      "i: 1 j: 4\n",
      "4\n",
      "str1: 1 str2: 8 False\n",
      "i: 1 j: 5\n",
      "5\n",
      "str1: 1 str2: 4 False\n",
      "i: 1 j: 6\n",
      "6\n",
      "str1: 1 str2: 5 False\n",
      "i: 1 j: 7\n",
      "7\n",
      "str1: 1 str2: 7 False\n",
      "i: 1 j: 8\n",
      "8\n",
      "str1: 1 str2: 6 False\n",
      "i: 2 j: 1\n",
      "19\n",
      "str1: 19 str2: 23 False\n",
      "i: 2 j: 2\n",
      "38\n",
      "str1: 19 str2: 84 False\n",
      "i: 2 j: 3\n",
      "57\n",
      "str1: 19 str2: 57 False\n",
      "i: 2 j: 4\n",
      "76\n",
      "str1: 19 str2: 6 False\n",
      "i: 2 j: 5\n",
      "95\n"
     ]
    },
    {
     "ename": "ValueError",
     "evalue": "invalid literal for int() with base 10: ''",
     "output_type": "error",
     "traceback": [
      "\u001b[0;31m---------------------------------------------------------------------------\u001b[0m",
      "\u001b[0;31mValueError\u001b[0m                                Traceback (most recent call last)",
      "\u001b[0;32m<ipython-input-64-c863aff2e847>\u001b[0m in \u001b[0;36m<module>\u001b[0;34m()\u001b[0m\n\u001b[1;32m     12\u001b[0m         \u001b[0mlength\u001b[0m\u001b[0;34m=\u001b[0m\u001b[0mlen\u001b[0m\u001b[0;34m(\u001b[0m\u001b[0mstr\u001b[0m\u001b[0;34m(\u001b[0m\u001b[0mint\u001b[0m\u001b[0;34m(\u001b[0m\u001b[0mstring1\u001b[0m\u001b[0;34m)\u001b[0m\u001b[0;34m*\u001b[0m\u001b[0mj\u001b[0m\u001b[0;34m)\u001b[0m\u001b[0;34m)\u001b[0m\u001b[0;34m\u001b[0m\u001b[0m\n\u001b[1;32m     13\u001b[0m         \u001b[0mstring2\u001b[0m\u001b[0;34m=\u001b[0m\u001b[0mstring\u001b[0m\u001b[0;34m[\u001b[0m\u001b[0mi\u001b[0m\u001b[0;34m*\u001b[0m\u001b[0mj\u001b[0m\u001b[0;34m:\u001b[0m\u001b[0mi\u001b[0m\u001b[0;34m*\u001b[0m\u001b[0;34m(\u001b[0m\u001b[0mj\u001b[0m\u001b[0;34m+\u001b[0m\u001b[0;36m1\u001b[0m\u001b[0;34m)\u001b[0m\u001b[0;34m]\u001b[0m\u001b[0;34m\u001b[0m\u001b[0m\n\u001b[0;32m---> 14\u001b[0;31m         \u001b[0mprint\u001b[0m\u001b[0;34m(\u001b[0m\u001b[0;34m\"str1:\"\u001b[0m\u001b[0;34m,\u001b[0m\u001b[0mstring1\u001b[0m\u001b[0;34m,\u001b[0m\u001b[0;34m\"str2:\"\u001b[0m\u001b[0;34m,\u001b[0m\u001b[0mstring2\u001b[0m\u001b[0;34m,\u001b[0m\u001b[0mint\u001b[0m\u001b[0;34m(\u001b[0m\u001b[0mstring2\u001b[0m\u001b[0;34m)\u001b[0m\u001b[0;34m==\u001b[0m\u001b[0;34m(\u001b[0m\u001b[0mint\u001b[0m\u001b[0;34m(\u001b[0m\u001b[0mstring1\u001b[0m\u001b[0;34m)\u001b[0m\u001b[0;34m*\u001b[0m\u001b[0;34m(\u001b[0m\u001b[0mj\u001b[0m\u001b[0;34m+\u001b[0m\u001b[0;36m1\u001b[0m\u001b[0;34m)\u001b[0m\u001b[0;34m)\u001b[0m\u001b[0;34m)\u001b[0m\u001b[0;34m\u001b[0m\u001b[0m\n\u001b[0m\u001b[1;32m     15\u001b[0m         \u001b[0mj\u001b[0m\u001b[0;34m+=\u001b[0m\u001b[0;36m1\u001b[0m\u001b[0;34m\u001b[0m\u001b[0m\n\u001b[1;32m     16\u001b[0m     \u001b[0mi\u001b[0m\u001b[0;34m+=\u001b[0m\u001b[0;36m1\u001b[0m\u001b[0;34m\u001b[0m\u001b[0m\n",
      "\u001b[0;31mValueError\u001b[0m: invalid literal for int() with base 10: ''"
     ]
    }
   ],
   "source": [
    "# multiple check - not working\n",
    "\n",
    "number=192384576\n",
    "string=str(number)\n",
    "i=1\n",
    "while i < 5:\n",
    "    string1=string[:i]\n",
    "    j=0;count=1\n",
    "    is_multiple=True\n",
    "    while j < 9 and is_multiple:\n",
    "        string2_cal = str(int(string1)*count)\n",
    "        length = len(string2_cal)\n",
    "        string2 = string[i+j:i*(j+1)]\n",
    "        if string2_cal == string2:\n",
    "            print(string2,\"same\")\n",
    "        j+=1\n",
    "    i+=1\n"
   ]
  },
  {
   "cell_type": "code",
   "execution_count": 23,
   "metadata": {},
   "outputs": [
    {
     "name": "stdout",
     "output_type": "stream",
     "text": [
      "123456789\n",
      "918273645\n",
      "192384576\n",
      "219438657\n",
      "273546819\n",
      "327654981\n",
      "672913458\n",
      "679213584\n",
      "692713854\n",
      "726914538\n",
      "729314586\n",
      "732914658\n",
      "769215384\n",
      "792315846\n",
      "793215864\n",
      "926718534\n",
      "927318546\n",
      "932718654\n"
     ]
    }
   ],
   "source": [
    "# try-2\n",
    "def is_pandigit(num):\n",
    "    for i in '123456789':\n",
    "        if i not in num:\n",
    "            return False\n",
    "    return True\n",
    "\n",
    "for i in range(1,10000):\n",
    "    number='';j=1\n",
    "    while len(number)<9:\n",
    "        number=number+str(i*j)\n",
    "        j+=1\n",
    "        if len(number)==9 and is_pandigit(number):\n",
    "            print(number)"
   ]
  },
  {
   "cell_type": "code",
   "execution_count": 25,
   "metadata": {},
   "outputs": [
    {
     "name": "stdout",
     "output_type": "stream",
     "text": [
      "932718654\n"
     ]
    }
   ],
   "source": [
    "# try-3\n",
    "maxvalue=[]\n",
    "for i in range(1,10000):\n",
    "    n='';j=1\n",
    "    while len(n)<9:\n",
    "        n=n+str(i*j)\n",
    "        j+=1\n",
    "        if len(n)==9:\n",
    "            if all(i in n for i in '123456789'):\n",
    "                maxvalue.append(n)\n",
    "print(max(maxvalue))"
   ]
  },
  {
   "cell_type": "code",
   "execution_count": null,
   "metadata": {
    "collapsed": true
   },
   "outputs": [],
   "source": [
    "#forum-1\n",
    "def pandigital_product_check(n):\n",
    "    x = n\n",
    "    multiplier = 1\n",
    "    while len(str(x)) < 9 and len([i for i in str(x)]) == len(set([i for i in str(x)])):\n",
    "        multiplier += 1\n",
    "        x = int(str(x) + str(n * multiplier))\n",
    "    if len([i for i in str(x)]) == 9 and set([int(i) for i in str(x)]) == set([1, 2, 3, 4, 5, 6, 7, 8, 9]):\n",
    "        return x\n",
    "    return False\n",
    "\n",
    "\n",
    "maximum = 0\n",
    "for i in range(1000, 10000):\n",
    "    if pandigital_product_check(i) is not False:\n",
    "        maximum = pandigital_product_check(i)\n",
    "print(maximum)"
   ]
  },
  {
   "cell_type": "code",
   "execution_count": null,
   "metadata": {
    "collapsed": true
   },
   "outputs": [],
   "source": [
    "#forum-2\n",
    "import time\n",
    "\n",
    "\n",
    "def is_zero(num):\n",
    "    if '0' in list(str(num)):\n",
    "        return True\n",
    "    else:\n",
    "        return False\n",
    "\n",
    "\n",
    "def is_same(num):\n",
    "    num_chr_list = list(str(num))\n",
    "    for chr in list(str(num)):\n",
    "        num_chr_list.remove(chr)\n",
    "        if chr in num_chr_list:\n",
    "            return False\n",
    "    return True\n",
    "\n",
    "\n",
    "def is_pandigital(x):\n",
    "    str_pandigital = str(x)\n",
    "    n = 2\n",
    "    while True:\n",
    "        str_pandigital += str(x * n)\n",
    "        if is_zero(str_pandigital):\n",
    "            return False\n",
    "        if len(str_pandigital) == 9:\n",
    "            if is_same(str_pandigital):\n",
    "                return int(str_pandigital)\n",
    "            else:\n",
    "                return False\n",
    "        if len(str_pandigital) > 9:\n",
    "            return False\n",
    "        n += 1\n",
    "\n",
    "\n",
    "def main():\n",
    "    start_time = time.time()\n",
    "    for i in range(9999, 1, -1):    #9__, 9_ can't make pandigital 9-digit number.\n",
    "        if is_pandigital(i):\n",
    "            print(max(is_pandigital(i), is_pandigital(9)))\n",
    "            break\n",
    "    print(\"elapsed time : {0}(ms)\".format((time.time()-start_time)*1000))\n",
    "\n",
    "\n",
    "if __name__ == \"__main__\":\n",
    "    main()"
   ]
  },
  {
   "cell_type": "code",
   "execution_count": null,
   "metadata": {
    "collapsed": true
   },
   "outputs": [],
   "source": [
    "#forum-3\n",
    "from time \n",
    "import time timeThen = time() \n",
    "def checkPan1_9(n): \n",
    "    if len(str(n))==9 and set(str(n))=={'1','2','3','4','5','6','7','8','9'}: \n",
    "        return True \n",
    "    else: return False \n",
    "\n",
    "for number in range(9000,9999): \n",
    "    c = int(str(number)+str(2*number)) \n",
    "    if checkPan1_9(c): \n",
    "        print(c) \n",
    "        \n",
    "print(time()-timeThen, 'seconds')"
   ]
  },
  {
   "cell_type": "code",
   "execution_count": null,
   "metadata": {
    "collapsed": true
   },
   "outputs": [],
   "source": [
    "#forum-4\n",
    "def isPandig(q): # Check if pandigital\n",
    "    found = 0\n",
    "    for i in range(1,10):\n",
    "\tfor y in q:\n",
    "\t    if i == int(y):\n",
    "\t\t found += 1\n",
    "\t\t break\n",
    "    return found == 9\n",
    "\n",
    "def Generator(q):  # \"Concatenator\"\n",
    "    inc = 1 ; concat = \"\"\n",
    "    while len(concat) < 9:\n",
    "\tconcat += str(q*inc)\n",
    "\tinc += 1\n",
    "    if len(concat) == 9:\n",
    "\tif isPandig(concat):\n",
    "\t    return int(concat)\n",
    "    return 0\n",
    "\n",
    "def Euler38(q): # Largest pandigital in range q\n",
    "    Max = 0\n",
    "    for i in range(1,q):\n",
    "\tiG = Generator(i)\n",
    "\tif Max < iG:\n",
    "\t    Max = iG\n",
    "    return Max\n",
    "\n",
    "inp = int( input(\"Set range: \") )\n",
    "print( Euler38(inp) )"
   ]
  },
  {
   "cell_type": "code",
   "execution_count": null,
   "metadata": {
    "collapsed": true
   },
   "outputs": [],
   "source": [
    "#forum-5\n",
    "import time\n",
    "\n",
    "def result():\n",
    "    final_list  = []\n",
    "    number_list = []\n",
    "\n",
    "    for a in range(1, 10000):\n",
    "        string_a_list     = list(str(a))\n",
    "        length_a_original = len(string_a_list)\n",
    "        length_a_arranged = len(set(string_a_list))\n",
    "\n",
    "        if length_a_original != length_a_arranged or '0' in string_a_list:\n",
    "            continue\n",
    "\n",
    "        for b in range(1, 10):\n",
    "            numbers = a * b\n",
    "\n",
    "            number_list.extend(list(str(numbers)))\n",
    "\n",
    "            length_n_original = len(number_list)\n",
    "            length_n_arranged = len(set(number_list))\n",
    "\n",
    "            if length_n_original != length_n_arranged or '0' in number_list or length_n_original > 9:\n",
    "                break\n",
    "\n",
    "            if length_n_original == 9:\n",
    "                final_list.append(''.join(number_list))\n",
    "                break\n",
    "\n",
    "        number_list = []\n",
    "\n",
    "    return max(final_list)\n",
    "\n",
    "start_time = time.time()\n",
    "\n",
    "print(result())\n",
    "print(\"{} ms\".format(round(1000 * (time.time() - start_time))))"
   ]
  },
  {
   "cell_type": "code",
   "execution_count": null,
   "metadata": {
    "collapsed": true
   },
   "outputs": [],
   "source": [
    "#forum-6\n",
    "min_n = 1\n",
    "max_n = 10000\n",
    "\n",
    "def can_be_valid(n):\n",
    "    string = str(n)\n",
    "    if '0' in string:\n",
    "        return False\n",
    "    digits = set(str(n))\n",
    "    if len(string) != len(digits):\n",
    "        return False\n",
    "    return True\n",
    "    \n",
    "def multi_concat(n):\n",
    "    i = 2\n",
    "    a = n\n",
    "    while len(str(a)) < 9:\n",
    "        a = int(str(a) + str(n*i))\n",
    "        i += 1\n",
    "        if not can_be_valid(a):\n",
    "            return 0\n",
    "    return a\n",
    "\n",
    "max_a = 0\n",
    "for n in range(min_n, max_n):\n",
    "    a = multi_concat(n)\n",
    "    if a > max_a:\n",
    "        max_a = a\n",
    "        \n",
    "print(max_a)"
   ]
  },
  {
   "cell_type": "code",
   "execution_count": null,
   "metadata": {
    "collapsed": true
   },
   "outputs": [],
   "source": [
    "#forum-7\n",
    "out = []\n",
    "for i in range(1, 9999):\n",
    "    if not is_redundant(str(i)):\n",
    "        s = ''\n",
    "        for p in [i for i in range(1,9)]:\n",
    "            if len(s) >= 9:\n",
    "                break\n",
    "            s += str(p*i)\n",
    "        if is_panda_digital(s):\n",
    "            out.append(s)\n",
    "print('result: ', sorted(out)[-1])  \n"
   ]
  },
  {
   "cell_type": "code",
   "execution_count": null,
   "metadata": {
    "collapsed": true
   },
   "outputs": [],
   "source": [
    "#forum -8\n",
    "def is_panda_digital(string):\n",
    "    if len(string) != 9:\n",
    "        return False\n",
    "    return all(a == b for a,b in zip(sorted(string), '123456789'))"
   ]
  },
  {
   "cell_type": "code",
   "execution_count": null,
   "metadata": {
    "collapsed": true
   },
   "outputs": [],
   "source": [
    "#forum-9\n",
    "def is_pan(n):\n",
    "    '''Determines if integer n is pandigital'''\n",
    "    s = str(n)\n",
    "    if len(s) != 9:\n",
    "        return False # wrong number of digits\n",
    "    if (not '0' in s) and len(set(s)) == 9:\n",
    "        return True\n",
    "    return False\n",
    "\n",
    "def solve():\n",
    "    # results at least contains the result for K = 9 and L = [1,2,3,4,5]\n",
    "    results = {918273645}\n",
    "    # the digits can't repeat, so lower bound is 9123, hight bound is 9876\n",
    "    # sig_digits = [i for i in range(9123, 9877) if len(str(i)) == 4]\n",
    "    # Just iterating through some extra numbers takes less time than building\n",
    "    # the list with no digit repetition\n",
    "    sig_digits = range(9123, 9877)\n",
    "    candidates = [10**5*i + 2*i for i in sig_digits]\n",
    "    for n in candidates:\n",
    "        if is_pan(n):\n",
    "            results.add(n)\n",
    "    print(results)\n",
    "    return max(results)"
   ]
  },
  {
   "cell_type": "code",
   "execution_count": null,
   "metadata": {
    "collapsed": true
   },
   "outputs": [],
   "source": [
    "#forum-10\n",
    "import time\n",
    "def properStr(s):\n",
    "  for i in range(1,10):\n",
    "    cnt = 0\n",
    "    for c in s:\n",
    "      if c == '0':\n",
    "        return False\n",
    "      if c == str(i):\n",
    "        cnt+=1\n",
    "    if cnt != 1:\n",
    "      return False\n",
    "  return True\n",
    "\n",
    "def concSet(n):\n",
    "  result = \"\"\n",
    "  for i in range(1, 10):\n",
    "    result += str(i*n)\n",
    "    if len(result)>=9:\n",
    "      break\n",
    "  if properStr(result):\n",
    "    return result\n",
    "  return 0\n",
    "  \n",
    "\n",
    "def main():\n",
    "  start_time = time.time()\n",
    "  i = 2\n",
    "  result = 0\n",
    "  while True:\n",
    "    r = int(concSet(i))\n",
    "    if r > result:\n",
    "      result = r\n",
    "    i+=1\n",
    "    if len(str(i)) > 5:\n",
    "      break\n",
    "  print(result)\n",
    "  print(\"elapsed time : {0} ms\".format(round((time.time()-start_time)*1000)))\n",
    "  \n",
    "main()\n",
    "\n",
    "#Output: 932718654 elapsed time : 2189 ms"
   ]
  },
  {
   "cell_type": "code",
   "execution_count": null,
   "metadata": {
    "collapsed": true
   },
   "outputs": [],
   "source": [
    "#forum-11\n",
    "#! python3.x\n",
    "\n",
    "\n",
    "def isPenDig(num):                                         # is it pandigital?\n",
    "    numStr = str(num)+'0'\n",
    "    if len(set(numStr)) == len(list(numStr)) and len(numStr) == 10:\n",
    "        return True\n",
    "    return False\n",
    "\n",
    "\n",
    "########################################################\n",
    "\n",
    "penDigList = []\n",
    "for n in range(1, 100000):\n",
    "    j = ''\n",
    "    for i in range(1, n):\n",
    "        j = j + str(n*i)\n",
    "        \n",
    "        if len(j) > 9:\n",
    "            break\n",
    "\n",
    "        if i > 1 and isPenDig(j):\n",
    "            penDigList.append((n, i, j))\n",
    "        \n",
    "    print(n, j)\n",
    "\n",
    "print(penDigList)\n",
    "print(max(penDigList))\n"
   ]
  },
  {
   "cell_type": "code",
   "execution_count": null,
   "metadata": {
    "collapsed": true
   },
   "outputs": [],
   "source": [
    "#forum-12\n",
    "def is_pandigital(n):\n",
    "\tif len(str(n)) == 9:\n",
    "\t\tfor i in range(1, 10):\n",
    "\t\t\tif str(i) not in str(n):\n",
    "\t\t\t\treturn False\n",
    "\t\treturn True\n",
    "\treturn False\n",
    "\n",
    "def is_product_pandigital(req, n):\n",
    "\tstring = ''\n",
    "\tfor i in range(1, n+1):\n",
    "\t\tstring += str(req*i)\n",
    "\tif is_pandigital(int(string)):\n",
    "\t\treturn int(string)\n",
    "\treturn False\n",
    "\n",
    "i = 1\n",
    "max_res = 0\n",
    "while True:\n",
    "\tfor j in range(1, 9):\n",
    "\t\tresult = is_product_pandigital(i, j)\n",
    "\t\tif result and result > max_res:\n",
    "\t\t\tmax_res = result\n",
    "\t\t\tprint max_res\n",
    "\ti += 1\n",
    "    "
   ]
  }
 ],
 "metadata": {
  "kernelspec": {
   "display_name": "Python 3",
   "language": "python",
   "name": "python3"
  },
  "language_info": {
   "codemirror_mode": {
    "name": "ipython",
    "version": 3
   },
   "file_extension": ".py",
   "mimetype": "text/x-python",
   "name": "python",
   "nbconvert_exporter": "python",
   "pygments_lexer": "ipython3",
   "version": "3.6.5"
  }
 },
 "nbformat": 4,
 "nbformat_minor": 2
}
