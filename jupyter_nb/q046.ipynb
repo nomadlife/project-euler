{
 "cells": [
  {
   "cell_type": "markdown",
   "metadata": {},
   "source": [
    "# Q046 Goldbach's other conjecture\n",
    "\n",
    "\n",
    "It was proposed by Christian Goldbach that every odd composite number can be written as the sum of a prime and twice a square.\n",
    "\n",
    "$9 = 7 + 2×1^2$\n",
    "\n",
    "$15 = 7 + 2×2^2$\n",
    "\n",
    "$21 = 3 + 2×3^2$\n",
    "\n",
    "$25 = 7 + 2×3^2$\n",
    "\n",
    "$27 = 19 + 2×2^2$\n",
    "\n",
    "$33 = 31 + 2×1^2$\n",
    "\n",
    "It turns out that the conjecture was false.\n",
    "\n",
    "What is the smallest odd composite that cannot be written as the sum of a prime and twice a square?\n",
    "\n"
   ]
  },
  {
   "cell_type": "code",
   "execution_count": 8,
   "metadata": {
    "scrolled": true
   },
   "outputs": [
    {
     "name": "stdout",
     "output_type": "stream",
     "text": [
      "9 is composite number\n",
      "15 is composite number\n",
      "21 is composite number\n",
      "25 is composite number\n",
      "27 is composite number\n",
      "33 is composite number\n",
      "35 is composite number\n",
      "39 is composite number\n",
      "45 is composite number\n",
      "49 is composite number\n",
      "51 is composite number\n",
      "55 is composite number\n",
      "57 is composite number\n",
      "63 is composite number\n",
      "65 is composite number\n",
      "69 is composite number\n",
      "75 is composite number\n",
      "77 is composite number\n",
      "81 is composite number\n",
      "85 is composite number\n",
      "87 is composite number\n",
      "91 is composite number\n",
      "93 is composite number\n",
      "95 is composite number\n",
      "99 is composite number\n"
     ]
    }
   ],
   "source": [
    "# is odd composite number ?\n",
    "\n",
    "def is_prime(num):\n",
    "    if num==1:\n",
    "        return False\n",
    "    loop=num**0.5\n",
    "    i=2\n",
    "    while i<=loop:\n",
    "        if num%i==0:\n",
    "            return False\n",
    "        i+=1\n",
    "    return True\n",
    "\n",
    "for i in range(2,100):\n",
    "    \n",
    "    if not i%2 == 0 and not is_prime(i):\n",
    "        print(i,\"is composite number\")\n",
    "        "
   ]
  },
  {
   "cell_type": "code",
   "execution_count": 1,
   "metadata": {
    "scrolled": true
   },
   "outputs": [
    {
     "name": "stdout",
     "output_type": "stream",
     "text": [
      "5777 is not goldbach\n"
     ]
    }
   ],
   "source": [
    "# is goldbach composite?\n",
    "def is_prime(num):\n",
    "    if num==1:\n",
    "        return False\n",
    "    loop=num**0.5\n",
    "    i=2\n",
    "    while i<=loop:\n",
    "        if num%i==0:\n",
    "            return False\n",
    "        i+=1\n",
    "    return True\n",
    "\n",
    "def is_goldbach_conjecture(num):\n",
    "    for i in range(2,num):\n",
    "        if is_prime(i):\n",
    "            j=1\n",
    "            #total = i\n",
    "            while True:\n",
    "                total = i + 2 * j**2\n",
    "                if total == num:\n",
    "                    #print(total,i,j)\n",
    "                    return True\n",
    "                elif total > num :\n",
    "                    break\n",
    "                j+=1\n",
    "                \n",
    "for i in range(2,10000):\n",
    "    if not i%2 == 0 and not is_prime(i):\n",
    "        #print(i,\"is odd composite\",end=', ')\n",
    "        if is_goldbach_conjecture(i):\n",
    "            #print(\"and is goldbach number\")\n",
    "            continue\n",
    "        else:\n",
    "            print(i,\"is not goldbach\")\n",
    "            break\n",
    "        "
   ]
  }
 ],
 "metadata": {
  "kernelspec": {
   "display_name": "Python 3",
   "language": "python",
   "name": "python3"
  },
  "language_info": {
   "codemirror_mode": {
    "name": "ipython",
    "version": 3
   },
   "file_extension": ".py",
   "mimetype": "text/x-python",
   "name": "python",
   "nbconvert_exporter": "python",
   "pygments_lexer": "ipython3",
   "version": "3.5.2"
  }
 },
 "nbformat": 4,
 "nbformat_minor": 2
}
